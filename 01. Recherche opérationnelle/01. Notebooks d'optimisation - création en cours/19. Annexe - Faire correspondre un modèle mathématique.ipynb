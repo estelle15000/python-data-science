{
 "cells": [
  {
   "cell_type": "markdown",
   "metadata": {},
   "source": [
    "# Faire correspondre un modèle mathématique au code d'un solveur"
   ]
  },
  {
   "cell_type": "markdown",
   "metadata": {},
   "source": [
    "## Introduction.\n",
    "Dans ce notebook, on va analyser les méthodes pour faire correspondre un modèle mathématique donné à un code de solveur Python.\n",
    "Autrement dit, comment passer de l'un à l'autre.\n",
    "\n",
    "*** CREATION EN COURS - A VENIR !!***"
   ]
  },
  {
   "cell_type": "markdown",
   "metadata": {},
   "source": [
    "## Sommaire\n",
    "\n",
    "1. Les signes à connaitre.\n",
    "1. Notre exemple de base\n",
    "2. Extention de notre exemple et symbole de sommation.\n",
    "3. L'itération et Les matrices.\n",
    "4. On nous donne un modèle mathématique, par oû commencer ?"
   ]
  },
  {
   "cell_type": "markdown",
   "metadata": {},
   "source": [
    "# 1. Les signes à connaitre :\n",
    "\n",
    "- Le symbole Σ (sigma), il s'apprends en classe de seconde et permet de simplifier l'ecriture d'une addition.\n",
    "\n",
    "- Le symbole ∈ veut dire \"appartient à\", on s'en sert quand on a au préalable définit un ensemble S{x1,x2...xn}\n",
    "\n",
    "- Le symbole ∀ veut dire \"Pour tout\"\n",
    "\n",
    "- Une matrice Aij : i c'est la ligne, j c'est la colonne. Donc si on nous parle de la valeur A14, il s'agit de la valeur de la ligne 1 colonne 4.\n",
    "\n",
    "- Une fonction objectif : elle est destinée à être minimisée ou maximisée, lorsque le solveur calcule les meilleures valeurs des variables de décision\n",
    "\n",
    "- Les variables de décision : Une variable de décision contient une valeur qui sera ensuite calculée par le solveur pour être la meilleure valeur possible pour minimiser ou maximiser une fonction objectif ( C'est ça, l'optimisation)\n",
    "\n",
    "- \"Sujet à\" ou \"subject to\" veut dire que la fonction objectif est sujette à des contraintes que l'on écrit sous la phrase \"subject to\".\n",
    "\n",
    "# 2. Notre exemple de base :\n",
    "\n",
    "On va prendre un modèle assez simple de mixe de production.\n",
    "\n",
    "Dans les problèmes de débutant, au début, on a pas à utiliser le symbole de sommation, puisqu'on a généralement peu de variables, par déduction, on a pas à itérer avec le solveur.\n",
    "C'est donc beaucoup plus simple à comprendre, au début.\n",
    "\n",
    "# L'histoire \n",
    "\n",
    "- Une entreprise produit la voiture A et la voiture B\n",
    "- La voiture A nécessite 20 unités de fourniture K et 10 unités de fournitures Z\n",
    "- La voiture B nécessite 15 unités de fourniture K et 8 unités de fournitures Z\n",
    "- Il y a 5000 unités de fournitures K en stock et 6000 unités de fournitures Z en stock\n",
    "- La voiture A procure un bénéfice de 20000 euros, et la voiture B procure un bénéfice de 18000 euros.\n",
    "\n",
    "Quelles voitures doit fournir l'entreprise afin de maximiser son bénéfice, sous contrainte de stocks ?\n"
   ]
  },
  {
   "cell_type": "markdown",
   "metadata": {},
   "source": [
    "Donc là, dans ce problème, on voit bien qu'il y a peu de variables de décision en jeu et peu de contraintes.\n",
    "Aucune raison d'exprimer le modèle mathématique avec des symboles de sommation, et de faire des itérations dans le code du solveur Python."
   ]
  },
  {
   "cell_type": "markdown",
   "metadata": {},
   "source": [
    "## On en déduit le modèle mathématique.\n",
    "\n",
    "Soit\n",
    "\n",
    "    A soit le nombre d'unités de voitures A produites  (C'est une variable de décision)\n",
    "    B soit le nombre d'unités de de voitures B produites (C'est une variable de décision)\n",
    "\n",
    "La fonction objectif est de maximiser le bénéfice :<br>\n",
    "Max() = 20000A + 18000B\n",
    "\n",
    "Les contraintes sont les contraintes de stock :<br>\n",
    "\n",
    "Stock de K\n",
    "20K + 15Z <= 5000\n",
    "\n",
    "Stock de Z\n",
    "15K + 8Z <= 6000"
   ]
  },
  {
   "cell_type": "markdown",
   "metadata": {},
   "source": [
    "## On écrit le modèle \n",
    "\n",
    "Max() = 20000A + 18000B<br>\n",
    "S.T<br>\n",
    "20K + 15Z <= 5000<br>\n",
    "15K + 8Z <= 6000<br>\n",
    "AVEC<br>\n",
    "A,B Entiers<br>"
   ]
  },
  {
   "cell_type": "markdown",
   "metadata": {},
   "source": [
    "## On écrit le code du solveur"
   ]
  },
  {
   "cell_type": "code",
   "execution_count": null,
   "metadata": {},
   "outputs": [],
   "source": [
    "# La méthode de base :\n",
    "\n",
    "# -----------------------------------\n",
    "# Import de Python Pulp\n",
    "# -----------------------------------\n",
    "from pulp import *\n",
    "\n",
    "# -----------------------------------\n",
    "# Type du problème\n",
    "# -----------------------------------\n",
    "# On choisit de résoudre un problème de Maximisation\n",
    "Lp_prob = LpProblem('Problem', LpMaximize)\n",
    "\n",
    "# -----------------------------------\n",
    "# Variables de décision\n",
    "# -----------------------------------\n",
    "# On définit nos variables de décision ci-dessous\n",
    "\n",
    "A = LpVariable(\"A\", lowBound=0, cat='Integer')   # Créer une variable x >= 0\n",
    "B = LpVariable(\"B\", lowBound=0, cat='Integer')   # Créer une variable y >= 0\n",
    "\n",
    "# -----------------------------------\n",
    "# Fonction objectif\n",
    "# -----------------------------------\n",
    "\n",
    "\n"
   ]
  }
 ],
 "metadata": {
  "language_info": {
   "name": "python"
  },
  "orig_nbformat": 4
 },
 "nbformat": 4,
 "nbformat_minor": 2
}
