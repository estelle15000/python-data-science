{
 "cells": [
  {
   "cell_type": "markdown",
   "metadata": {},
   "source": [
    "# Faire correspondre un modèle mathématique au code d'un solveur"
   ]
  },
  {
   "cell_type": "markdown",
   "metadata": {},
   "source": [
    "## Introduction.\n",
    "Dans ce notebook, on va analyser les méthodes pour faire correspondre un modèle mathématique donné à un code de solveur Python.\n",
    "Autrement dit, comment passer de l'un à l'autre.\n",
    "\n",
    "*** CREATION EN COURS - A VENIR !!***"
   ]
  },
  {
   "cell_type": "markdown",
   "metadata": {},
   "source": [
    "## Sommaire\n",
    "\n",
    "1. Les signes à connaitre.\n",
    "1. Notre exemple de base\n",
    "2. Extention de notre exemple et symbole de sommation.\n",
    "3. L'itération et Les matrices.\n",
    "4. On nous donne un modèle mathématique, par oû commencer ?"
   ]
  },
  {
   "cell_type": "markdown",
   "metadata": {},
   "source": [
    "# 1. Les signes à connaitre :\n",
    "\n",
    "- Le symbole Σ (sigma), il s'apprends en classe de seconde et permet de simplifier l'ecriture d'une addition.\n",
    "\n",
    "- Le symbole ∈ veut dire \"appartient à\", on s'en sert quand on a au préalable définit un ensemble S{x1,x2...xn}\n",
    "\n",
    "- Le symbole ∀ veut dire \"Pour tout\"\n",
    "\n",
    "- Une matrice Aij : i c'est la ligne, j c'est la colonne. Donc si on nous parle de la valeur A14, il s'agit de la valeur de la ligne 1 colonne 4.\n",
    "\n",
    "- Une fonction objectif : elle est destinée à être minimisée ou maximisée, lorsque le solveur calcule les meilleures valeurs des variables de décision\n",
    "\n",
    "- Les variables de décision : Une variable de décision contient une valeur qui sera ensuite calculée par le solveur pour être la meilleure valeur possible pour minimiser ou maximiser une fonction objectif ( C'est ça, l'optimisation)\n",
    "\n",
    "- \"Sujet à\" ou \"subject to\" veut dire que la fonction objectif est sujette à des contraintes que l'on écrit sous la phrase \"subject to\".\n",
    "\n",
    "# 2. Notre exemple de base :\n",
    "\n",
    "On va prendre un modèle assez simple de mixe de production.\n",
    "\n",
    "Dans les problèmes de débutant, au début, on a pas à utiliser le symbole de sommation, puisqu'on a généralement peu de variables, par déduction, on a pas à itérer avec le solveur.\n",
    "C'est donc beaucoup plus simple à comprendre.\n",
    "\n",
    "# L'histoire - Linear programming example 1997 UG exam - J Beasley\n",
    "\n",
    "Une entreprise fabrique deux produits (X et Y) à l'aide de deux machines (A et B). Chaque unité de X produite nécessite un temps de traitement de 50 minutes sur la machine A et de 30 minutes sur la machine B.\n",
    "\n",
    "Au début de la semaine en cours, il y a 30 unités de X et 90 unités de Y en stock. Le temps de traitement disponible sur la machine A devrait être de 40 heures et sur la machine B, de 35 heures.\n",
    "\n",
    "La demande pour X pour la semaine en cours devrait être de 75 unités et pour Y, de 95 unités. La politique de l'entreprise est de maximiser la somme combinée des unités de X et des unités de Y en stock à la fin de la semaine.\n",
    "\n",
    "    Formulez le problème consistant à décider de la quantité de chaque produit à fabriquer au cours de la semaine en cours sous forme de programme linéaire.\n",
    "    Résolvez graphiquement ce programme linéaire.\n",
    "\n",
    "\n",
    "\n"
   ]
  },
  {
   "cell_type": "markdown",
   "metadata": {},
   "source": [
    "Donc là, dans ce problème, on voit bien qu'il y a peu de variables de décision en jeu et peu de contrainte.\n",
    "Aucune raison d'exprimer le modèle mathématique avec des symboles de sommation, et de faire des itérations dans le code du solveur Python."
   ]
  },
  {
   "cell_type": "markdown",
   "metadata": {},
   "source": [
    "## On en déduit le modèle mathématique.\n",
    "\n"
   ]
  }
 ],
 "metadata": {
  "language_info": {
   "name": "python"
  },
  "orig_nbformat": 4
 },
 "nbformat": 4,
 "nbformat_minor": 2
}
