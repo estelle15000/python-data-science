{
 "cells": [
  {
   "cell_type": "markdown",
   "metadata": {},
   "source": [
    "# Faire correspondre un modèle mathématique au code d'un solveur"
   ]
  },
  {
   "cell_type": "markdown",
   "metadata": {},
   "source": [
    "## Introduction.\n",
    "Dans ce notebook, on va analyser les méthodes pour faire correspondre un modèle mathématique donné à un code de solveur Python.\n",
    "Autrement dit, comment passer de l'un à l'autre.\n",
    "\n",
    "*** CREATION EN COURS - A VENIR !!***\n",
    "\n",
    "<b>Notebook réalisé par GITHUB ESTELLE DERRIEN</b>"
   ]
  },
  {
   "cell_type": "markdown",
   "metadata": {},
   "source": [
    "## Sommaire\n",
    "\n",
    "1. Les symboles mathématique à connaitre.\n",
    "2. Notre exemple de base\n",
    "3. Extention de notre exemple et symbole de sommation.\n",
    "4. L'itération et Les matrices.\n",
    "5. On nous donne un modèle mathématique, par oû commencer ?\n",
    "    - Exemple avec GLPK\n",
    "    - Exemple avec PUlP\n",
    "6. Et un modèle non llinéaire ?"
   ]
  },
  {
   "cell_type": "markdown",
   "metadata": {},
   "source": [
    "# 1. Les signes à connaitre :\n",
    "\n",
    "- Le symbole Σ (sigma), il s'apprends en classe de seconde et permet de simplifier l'ecriture d'une addition.\n",
    "\n",
    "- Le symbole ∈ veut dire \"appartient à\", on s'en sert quand on a au préalable définit un ensemble S{x1,x2...xn}\n",
    "\n",
    "- Le symbole ∀ veut dire \"Pour tout\"\n",
    "\n",
    "- Une matrice Aij : i c'est la ligne, j c'est la colonne. Donc si on nous parle de la valeur A14, il s'agit de la valeur de la ligne 1 colonne 4.\n",
    "\n",
    "- Une fonction objectif : elle est destinée à être minimisée ou maximisée, lorsque le solveur calcule les meilleures valeurs des variables de décision\n",
    "\n",
    "- Les variables de décision : Une variable de décision contient une valeur qui sera ensuite calculée par le solveur pour être la meilleure valeur possible pour minimiser ou maximiser une fonction objectif ( C'est ça, l'optimisation)\n",
    "\n",
    "- \"Sujet à\" ou \"subject to\" veut dire que la fonction objectif est sujette à des contraintes que l'on écrit sous la phrase \"subject to\".\n",
    "\n",
    "- ℕ est l'ensemble des entiers positifs y compris le 0, N∗ omets le zéro.\n",
    "\n",
    "# 2. Notre exemple de base :\n",
    "\n",
    "On va prendre un modèle assez simple de mixe de production.\n",
    "\n",
    "Dans les problèmes de débutant, au début, on a pas à utiliser le symbole de sommation, puisqu'on a généralement peu de variables, par déduction, on a pas à itérer avec le solveur.\n",
    "C'est donc beaucoup plus simple à comprendre, au début.\n",
    "\n",
    "# L'histoire \n",
    "\n",
    "- Une entreprise produit la voiture A et la voiture B.\n",
    "- La voiture A nécessite 20 unités de fourniture K et 10 unités de fournitures Z.\n",
    "- La voiture B nécessite 18 unités de fourniture K et 8 unités de fournitures Z.\n",
    "- Il y a 5000 unités de fournitures K en stock et 6000 unités de fournitures Z en stock.\n",
    "- La voiture A procure un bénéfice de 20000 euros, et la voiture B procure un bénéfice de 18000 euros.\n",
    "\n",
    "Quelles voitures doit fournir l'entreprise afin de maximiser son bénéfice, sous contrainte de stocks ?\n"
   ]
  },
  {
   "cell_type": "markdown",
   "metadata": {},
   "source": [
    "Donc là, dans ce problème, on voit bien qu'il y a peu de variables de décision en jeu et peu de contraintes.\n",
    "Aucune raison d'exprimer le modèle mathématique avec des symboles de sommation, et de faire des itérations dans le code du solveur Python."
   ]
  },
  {
   "cell_type": "markdown",
   "metadata": {},
   "source": [
    "## On en déduit le modèle mathématique.\n",
    "\n",
    "Soit\n",
    "\n",
    "    A soit le nombre d'unités de voitures A produites  (C'est une variable de décision)\n",
    "    B soit le nombre d'unités de de voitures B produites (C'est une variable de décision)\n",
    "\n",
    "La fonction objectif R est de maximiser le bénéfice :<br>\n",
    "Max(R) = 20000A + 18000B\n",
    "\n",
    "Les contraintes sont les contraintes de stock :<br>\n",
    "\n",
    "Stock de K\n",
    "20A + 18B <= 5000\n",
    "\n",
    "Stock de Z\n",
    "10A + 8B <= 6000"
   ]
  },
  {
   "cell_type": "markdown",
   "metadata": {},
   "source": [
    "## On écrit le modèle \n",
    "\n",
    "Max(R) = 20000A + 18000B<br>\n",
    "S.T<br>\n",
    "20A + 18B <= 5000<br>\n",
    "10A + 8B <= 6000<br>\n",
    "AVEC<br>\n",
    "{A,B} ∈ ℕ<br>"
   ]
  },
  {
   "cell_type": "markdown",
   "metadata": {},
   "source": [
    "## On écrit le code du solveur"
   ]
  },
  {
   "cell_type": "code",
   "execution_count": 14,
   "metadata": {},
   "outputs": [
    {
     "name": "stdout",
     "output_type": "stream",
     "text": [
      "A = 7.0\n",
      "B = 270.0\n",
      "Profit total maximisé =  5000000.0\n"
     ]
    }
   ],
   "source": [
    "# La méthode de base :\n",
    "\n",
    "# -----------------------------------\n",
    "# Import de Python Pulp\n",
    "# -----------------------------------\n",
    "from pulp import *\n",
    "\n",
    "# -----------------------------------\n",
    "# Type du problème\n",
    "# -----------------------------------\n",
    "# On choisit de résoudre un problème de Maximisation\n",
    "model = LpProblem('Problem', LpMaximize)\n",
    "\n",
    "# -----------------------------------\n",
    "# Variables de décision\n",
    "# -----------------------------------\n",
    "\n",
    "A = LpVariable(\"A\", lowBound=0, cat='Integer')   # Créer une variable x >= 0\n",
    "B = LpVariable(\"B\", lowBound=0, cat='Integer')   # Créer une variable y >= 0\n",
    "\n",
    "# -----------------------------------\n",
    "# Fonction objectif R\n",
    "# -----------------------------------\n",
    "model += 20000 * A + 18000  * B\n",
    "\n",
    "# -----------------------------------\n",
    "# Contraintes\n",
    "# -----------------------------------\n",
    "\n",
    "model += 20 * A + 18  * B <= 5000, \"stock_produit_K\"\n",
    "model += 10 * A + 8  * B <= 6000, \"stock_produit_Z\"\n",
    "\n",
    "\n",
    "# -----------------------------------\n",
    "# Solution\n",
    "# -----------------------------------\n",
    "model.solve()\n",
    " \n",
    "# On imprime les variables qui ont leur valeur optimisées\n",
    "for v in model.variables():\n",
    "    print(v.name, \"=\", v.varValue)\n",
    "\n",
    "# La valeur de la fonction objective optimisée est imprimée à l'écran\n",
    "print(\"Profit total maximisé = \", value(model.objective))\n"
   ]
  },
  {
   "cell_type": "markdown",
   "metadata": {},
   "source": [
    "## 3. Extention de notre exemple et symbole de sommation.\n",
    "\n",
    "Admettons désormais que l'entreprise produise 12 voitures différentes et qu'elles nécessitent chacune une quantité de fourtniture K et Z différentes, et qu'elles procurent chacune un bénéfice différent. \n",
    "L'objectif est toujours de déterminer quelles voitures il vaut mieux produire, afin de maximiser notre bénéfice.\n",
    "N'est il pas rébarbatif de retaper chaque valeur à la main ? Oui, c'est rébarbatif.\n",
    "\n",
    "Ne serait-il pas plus pratique d'utiliser le symbole mathématique de sommation lorsque nous allons écrire le modèle mathématique, et d'itérer sur un tableau dans le code du solveur Python? \n",
    "\n",
    "Essayons donc désormais de modéliser notre modèle mathématique d'optimisation, avec le symbole de sommation, puis, on va itérer dans le code Python, pour obtenir notre optimisation linéaire finale.\n"
   ]
  },
  {
   "cell_type": "markdown",
   "metadata": {},
   "source": [
    "## Résumé des fournitures nécessaires pour les 12 voitures."
   ]
  },
  {
   "cell_type": "code",
   "execution_count": null,
   "metadata": {},
   "outputs": [],
   "source": [
    "# Voitures      A       B       C       D       E       F       G       H       I       J       K       L\n",
    "# Fourniture K  20      18      9       20      22      10      20      12      15      22      21      5\n",
    "# Fourniture Z  10      8       8       19      24      10      19      10      12      18      20      4\n",
    "# Bénéfice      20000   18000   17000   21000   24000   18500   20500   18500   18900   21000   20500   8000 "
   ]
  },
  {
   "cell_type": "markdown",
   "metadata": {},
   "source": [
    "## On en déduit le modèle mathématique.\n",
    "\n",
    "Ecrivons cela en dur, afin de comprendre combien c'est rébarbatif.\n",
    "\n",
    "Soit\n",
    "\n",
    "    A soit le nombre d'unités de voitures A produites  (C'est une variable de décision)\n",
    "    B soit le nombre d'unités de de voitures B produites (C'est une variable de décision)\n",
    "    C soit le nombre d'unités de de voitures C produites (C'est une variable de décision)\n",
    "    D soit le nombre d'unités de de voitures D produites (C'est une variable de décision)\n",
    "    E soit le nombre d'unités de de voitures E produites (C'est une variable de décision)\n",
    "    F soit le nombre d'unités de de voitures F produites (C'est une variable de décision)\n",
    "    G soit le nombre d'unités de de voitures G produites (C'est une variable de décision)\n",
    "    H soit le nombre d'unités de de voitures H produites (C'est une variable de décision)\n",
    "    I soit le nombre d'unités de de voitures I produites (C'est une variable de décision)\n",
    "    J soit le nombre d'unités de de voitures J produites (C'est une variable de décision)\n",
    "    K soit le nombre d'unités de de voitures K produites (C'est une variable de décision)\n",
    "    L soit le nombre d'unités de de voitures L produites (C'est une variable de décision)\n",
    "\n",
    "La fonction objectif R est de maximiser le bénéfice :<br>\n",
    "Max(R) = 20000A + 18000B + 17000C + 21000D + 24000E + 18500F + 20500G + 18500H + 18900I + 21000J + 20500K + 8000L\n",
    "\n",
    "Les contraintes sont les contraintes de stock :<br>\n",
    "\n",
    "Stock de K\n",
    "20A + 18B + 9C + 20D + 22E + 10F + 20G + 12H + 15I + 22J + 21K + 5L <= 5000\n",
    "\n",
    "Stock de Z\n",
    "10A + 8B +8C + 19D + 24E + 10F + 19G + 10H + 12I + 18J + 20K + 4L <= 6000"
   ]
  }
 ],
 "metadata": {
  "kernelspec": {
   "display_name": "Python 3",
   "language": "python",
   "name": "python3"
  },
  "language_info": {
   "codemirror_mode": {
    "name": "ipython",
    "version": 3
   },
   "file_extension": ".py",
   "mimetype": "text/x-python",
   "name": "python",
   "nbconvert_exporter": "python",
   "pygments_lexer": "ipython3",
   "version": "3.9.2"
  },
  "orig_nbformat": 4
 },
 "nbformat": 4,
 "nbformat_minor": 2
}
