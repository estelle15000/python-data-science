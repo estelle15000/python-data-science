{
 "cells": [
  {
   "attachments": {},
   "cell_type": "markdown",
   "metadata": {},
   "source": [
    "# Quel algorithme choisir en fonction du problème ?\n",
    "\n",
    "Il existe de nombreux algorithmes d'apprentissage automatique. Il n'existe pas d'algorithme de machine unique qui fonctionne le mieux pour tous les types de scénarios. Certains des facteurs qui affectent notre choix de choisir un algorithme d'apprentissage automatique incluent :\n",
    "\n",
    "    Taille des données d'entraînement\n",
    "    Exactitude et/ou interprétabilité\n",
    "    Temps de formation\n",
    "    Linéarité\n",
    "    Nombre de fonctionnalités\n",
    "    Supervisé ou non supervisé\n",
    "\n",
    "source : https://milena-pa.medium.com/a-comparison-of-machine-learning-algorithms-knn-vs-decision-trees-d6110e08bfea"
   ]
  },
  {
   "cell_type": "code",
   "execution_count": null,
   "metadata": {},
   "outputs": [],
   "source": []
  }
 ],
 "metadata": {
  "language_info": {
   "name": "python"
  },
  "orig_nbformat": 4
 },
 "nbformat": 4,
 "nbformat_minor": 2
}
