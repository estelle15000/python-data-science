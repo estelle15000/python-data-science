{
 "cells": [
  {
   "cell_type": "markdown",
   "metadata": {},
   "source": [
    "# Operations Management \n",
    "# Livre de Roberta Russel et Bernard Taylor\n",
    "\n",
    "## Introduction\n",
    "Seuls la trame du livre, et certaines formules du livre seront réalisées en Python, \n",
    "je ne copie pas le livre, ni ne le traduit directement ( Ce n'est pas autorisé et cela n'a pas d'intérêt)\n",
    "Je vais prendre des descriptions autres que le livre.\n",
    "\n",
    "## Sommaire\n",
    "- 0. <b>Mesures de productivité.</b>\n",
    "        - Description\n",
    "- 1. <b>Stratégies de commpétitivité</b>\n",
    "        - Description\n",
    "- 2. <b>Décisions</b>\n",
    "        - Sans probabilités\n",
    "        - Avec probabilités\n",
    "        - Arbres probabilistes de décision\n",
    "- 3. <b>Management de la Qualité</b>\n",
    "        - Description\n",
    "        - Outils de mesures\n",
    "            - Diagramme des processus\n",
    "            - Diagramme des causes et effets\n",
    "            - Check sheet\n",
    "            - Analyse Pareto\n",
    "            - Histogramme\n",
    "            - Diagramme de points\n",
    "            - Digramme statistique de contrôle des processus.\n",
    "\n",
    "        - Norme ISO 9000\n",
    "- 4. <b>Amélioration continue</b>\n",
    "        - Description\n",
    "        - Six Sigma\n",
    "        - Lean\n",
    "- 5. <b>Statistiques de contrôles de processus</b>\n",
    "        - En service\n",
    "        - En production"
   ]
  },
  {
   "cell_type": "markdown",
   "metadata": {},
   "source": [
    "## Mesures de productivité\n"
   ]
  },
  {
   "cell_type": "code",
   "execution_count": 4,
   "metadata": {},
   "outputs": [
    {
     "name": "stdout",
     "output_type": "stream",
     "text": [
      "Ma Productivité à facteur unique = 0.1\n",
      "Ma productivité multifactorielle = 8.0\n"
     ]
    }
   ],
   "source": [
    "###############################\n",
    "# Productivité à facteur unique #\n",
    "###############################\n",
    "\n",
    "entrée = 100 # peut être des heures de travail, des investissements dans l'équipement, l'utilisation des matériaux ou la superficie carrée ...\n",
    "sortie = 10 # peut être des unités, des euros, des ventes réalisées, des clients servis etc ...\n",
    "\n",
    "# formule\n",
    "productivité = (sortie / entrée)\n",
    "\n",
    "# résultat\n",
    "print (\"Ma Productivité à facteur unique =\", productivité)\n",
    "\n",
    "#################################\n",
    "# Productivité multiple des facteurs #\n",
    "#################################\n",
    "\n",
    "# Multiples entrées\n",
    "travaux = 10\n",
    "Matériel = 5\n",
    "frais_généraux = 2\n",
    "# Sortir\n",
    "sortie = 10 # peut être des unités, des euros, des ventes réalisées, des clients servis etc ...\n",
    "\n",
    "# formule\n",
    "productivité = (sortie / travaux + Matériel + frais_généraux)\n",
    "\n",
    "# résultat\n",
    "print(\"Ma productivité multifactorielle =\", productivité)\n",
    "\n",
    "#################################\n",
    "# Productivité complète #\n",
    "#################################\n",
    "# formule\n",
    "# Marchandises produites / toutes les intrants * coûts utilisés pour les produire"
   ]
  },
  {
   "cell_type": "markdown",
   "metadata": {},
   "source": [
    "## Exemple pour une usine"
   ]
  },
  {
   "cell_type": "code",
   "execution_count": 5,
   "metadata": {},
   "outputs": [
    {
     "name": "stdout",
     "output_type": "stream",
     "text": [
      "Ma productivité du travail d'usine est: 100.0 Unités par heures\n",
      "Mes machines d'usine La productivité est: 2000.0 Unités par heures\n",
      "Ma productivité multifactorielle est: 5.2631578947368425 par dollar dépensé\n"
     ]
    }
   ],
   "source": [
    "## Exemple d'usine\n",
    "\n",
    "Unités_Produites = 100000 # Unités, c'est la sortie\n",
    "temps_travail = 1000 # heures, coûte 15 $ par heure\n",
    "temps_machine = 50 # heures, coûte 10 $ par heure\n",
    "cout_material = 2000 # euros\n",
    "cout_de_energie = 1500 # euros\n",
    "\n",
    "# Productivité du travail (sortie / entrée)\n",
    "print(\"Ma productivité du travail d'usine est:\", Unités_Produites / temps_travail, \"Unités par heures\")\n",
    "\n",
    "# Productivité des machines (sortie / entrée)\n",
    "print (\"Mes machines d'usine La productivité est:\", Unités_Produites / temps_machine, \"Unités par heures\")\n",
    "\n",
    "# Productivité multifactorielle (sortie / toutes les entrées * coûts utilisés pour les produire)\n",
    "couts_calculés = temps_travail * 15 + temps_machine * 10 + cout_material + cout_de_energie\n",
    "\n",
    "print (\"Ma productivité multifactorielle est:\", Unités_Produites / couts_calculés, \"par euros dépensés\")"
   ]
  }
 ],
 "metadata": {
  "kernelspec": {
   "display_name": "Python 3",
   "language": "python",
   "name": "python3"
  },
  "language_info": {
   "codemirror_mode": {
    "name": "ipython",
    "version": 3
   },
   "file_extension": ".py",
   "mimetype": "text/x-python",
   "name": "python",
   "nbconvert_exporter": "python",
   "pygments_lexer": "ipython3",
   "version": "3.9.2"
  }
 },
 "nbformat": 4,
 "nbformat_minor": 2
}
