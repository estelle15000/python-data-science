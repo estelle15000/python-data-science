{
 "cells": [
  {
   "cell_type": "code",
   "execution_count": null,
   "metadata": {},
   "outputs": [],
   "source": [
    "# https://stackoverflow.com/questions/72309038/facility-location-problem-in-python-with-pulp\n",
    "from pulp import *\n",
    "\n",
    "Customer = [1, 2, 3, 4]\n",
    "Facility = ['Fac-1', 'Fac-2', 'Fac-3']\n",
    "Demand = {1: 50, 2: 50, 3: 75, 4: 75}\n",
    "Max_Supply = {'Fac-1': 100, 'Fac-2': 100, 'Fac-3': 500}\n",
    "fixed_cost = {'Fac-1': 100.123, 'Fac-2': 100.456, 'Fac-3': 100.789}\n",
    "transportation_cost = {'Fac-1': {1: 100.1, 2: 100.4, 3: 200.7, 4: 200.1}, 'Fac-2': {1: 200.2, 2: 200.5, 3: 100.8, 4: 200.11}, 'Fac-3': {1: 2000.3, 2: 2000.6, 3: 2000.9, 4: 100.12}}\n",
    "\n",
    "prob = LpProblem(\"Capacitated_Facility_Location_Problem\", LpMinimize)\n",
    "\n",
    "use_facility = LpVariable.dicts(\"Use Facility\", Facility, 0, 1, LpBinary)\n",
    "\n",
    "ser_customer = LpVariable.dicts(\"Service\", [(i,j) for i in Customer for j in Facility], 0)\n",
    "\n",
    "fixed = lpSum(fixed_cost[j]*use_facility[j] for j in Facility)\n",
    "transpo = lpSum(transportation_cost[j][i]*ser_customer[(i,j)] for j in Facility for i in Customer)  \n",
    "prob += fixed + transpo\n",
    "\n",
    "for i in Customer:\n",
    "    prob += lpSum(ser_customer[(i,j)] for j in Facility) == Demand[i]\n",
    "\n",
    "for j in Facility:\n",
    "    prob += lpSum(ser_customer[(i,j)] for i in Customer) <= Max_Supply[j]*use_facility[j]\n",
    "\n",
    "for i in Customer:\n",
    "    for j in Facility:\n",
    "        prob += ser_customer[(i,j)] <= Demand[i]*use_facility[j]\n",
    "\n",
    "prob.solve()\n",
    "for v in prob.variables():\n",
    "    if v.varValue > 0:\n",
    "        print(v.name, \"=\", v.varValue)"
   ]
  }
 ],
 "metadata": {
  "kernelspec": {
   "display_name": "Python 3.8.5 64-bit",
   "language": "python",
   "name": "python3"
  },
  "language_info": {
   "name": "python",
   "version": "3.8.5"
  },
  "orig_nbformat": 4,
  "vscode": {
   "interpreter": {
    "hash": "6bd0648e655c19027e4f56e697a7cd4ab7921013b5d2695c8854e14fd1f5ba73"
   }
  }
 },
 "nbformat": 4,
 "nbformat_minor": 2
}
