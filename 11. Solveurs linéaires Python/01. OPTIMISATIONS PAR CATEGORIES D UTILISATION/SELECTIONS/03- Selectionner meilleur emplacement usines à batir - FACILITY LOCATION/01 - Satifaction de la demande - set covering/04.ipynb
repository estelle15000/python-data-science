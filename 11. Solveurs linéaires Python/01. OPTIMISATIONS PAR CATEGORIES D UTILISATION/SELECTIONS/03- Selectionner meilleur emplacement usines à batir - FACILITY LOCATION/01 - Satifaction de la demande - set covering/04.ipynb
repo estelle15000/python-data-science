{
 "cells": [
  {
   "cell_type": "code",
   "execution_count": 11,
   "metadata": {},
   "outputs": [
    {
     "name": "stdout",
     "output_type": "stream",
     "text": [
      "Status: Optimal\n",
      "Total Locations  =  covered_('C',_4)\n"
     ]
    }
   ],
   "source": [
    "# Import PuLP modeler functions\n",
    "from pulp import *\n",
    "\n",
    "\n",
    "prob = LpProblem('source minimzer', LpMinimize)\n",
    "dist_limit = 5\n",
    "sources = ['A', 'B','C']            # the source locations\n",
    "# note this is zero-indexed to work with the list indexes in dist dictionary...\n",
    "destinations = list(range(5))   # the demand locations 0, 1, 2, 3, 4   \n",
    "dist = {    'A': [2, 23, 30, 54, 1],\n",
    "            'B': [3, 1, 2, 2, 3],\n",
    "            'C':[24,54,12,56,76]}\n",
    "\n",
    "covered = LpVariable.dicts('covered', [(s, d) for s in sources for d in destinations], cat='Binary')\n",
    "\n",
    "# The objective function \n",
    "# Minimize  the number of locations\n",
    "prob += lpSum(covered[s, d]) \n",
    "\n",
    "# set up constraint to limit covered if the destination is \"reachable\"\n",
    "for s in sources:\n",
    "    for d in destinations:\n",
    "        prob += covered[s, d] * dist[s][d] <= dist_limit\n",
    "\n",
    "\n",
    "# add one more constraint to make sure that every destination is \"covered\"...\n",
    "\n",
    "# The problem is solved using PuLP's choice of Solver\n",
    "prob.solve()\n",
    "\n",
    "# The status of the solution is printed to the screen\n",
    "print(\"Status:\", LpStatus[prob.status])\n",
    "\n",
    "# The optimised objective function value is printed to the screen\n",
    "print(\"Location Selection = \", prob.objective)\n",
    "\n"
   ]
  }
 ],
 "metadata": {
  "kernelspec": {
   "display_name": "Python 3.8.5 64-bit",
   "language": "python",
   "name": "python3"
  },
  "language_info": {
   "codemirror_mode": {
    "name": "ipython",
    "version": 3
   },
   "file_extension": ".py",
   "mimetype": "text/x-python",
   "name": "python",
   "nbconvert_exporter": "python",
   "pygments_lexer": "ipython3",
   "version": "3.8.5"
  },
  "orig_nbformat": 4,
  "vscode": {
   "interpreter": {
    "hash": "6bd0648e655c19027e4f56e697a7cd4ab7921013b5d2695c8854e14fd1f5ba73"
   }
  }
 },
 "nbformat": 4,
 "nbformat_minor": 2
}
