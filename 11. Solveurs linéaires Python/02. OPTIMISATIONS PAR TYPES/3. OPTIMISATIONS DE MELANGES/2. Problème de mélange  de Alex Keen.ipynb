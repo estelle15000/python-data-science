{
 "cells": [
  {
   "cell_type": "markdown",
   "metadata": {},
   "source": [
    "# Introduction à la programmation linéaire avec Python - Partie 4\n",
    "## Exemples du monde réel - Problème de mélange"
   ]
  },
  {
   "cell_type": "markdown",
   "metadata": {},
   "source": [
    "Article écrit par  : Alex Keen https://github.com/benalexkeen/Introduction-to-linear-programming\n",
    "\n",
    "On va faire des saucisses!\n",
    "\n",
    "Nous avons les ingrédients suivants à notre disposition:\n",
    "\n",
    "\n",
    "| Ingrédient | Cout (€/kg)  | Disponibilité (kg)|\n",
    "|------------|--------------|-------------------|\n",
    "|  Porc      | 4.32         | 30                |\n",
    "|  Viande    | 2.46         | 20                |\n",
    "|  Amidon    | 1.86         | 17                |\n",
    "\n",
    "ON va faire 2 types de saucisses:\n",
    "* Economie(>40% Porc)\n",
    "* Premium (>60% Porc)\n",
    "\n",
    "Une saucisse pèse 50 g ( soit 0.05 kg)\n",
    "\n",
    "Selon les réglementations gouvernementales, la plus grande quantité d'amidon que nous pouvons utiliser dans nos saucisses est de 25%\n",
    "\n",
    "Nous avons un contrat avec un boucher, et avons déjà acheté 23 kg de porc, qui va de gater s'il n'est pas utilisé.\n",
    "\n",
    "Nous avons une demande pour 350 saucisses économiques et 500 saucisses de première qualité.\n",
    "\n",
    "Nous devons trouver la manière la plus rentable de mélanger nos saucisses.\n"
   ]
  },
  {
   "cell_type": "markdown",
   "metadata": {},
   "source": [
    "Modélisons le problème :\n",
    "\n",
    "  *p<sub>e</sub>* = Porc dans la saucisse économique (kg)  \n",
    "  *w<sub>e</sub>* = Viande dans la saucisse économique (kg)  \n",
    "  *s<sub>e</sub>* = Amidon dans la saucisse économique (kg)  \n",
    "  *p<sub>p</sub>* = Pork dans la saucisse premium (kg)  \n",
    "  *w<sub>p</sub>* = Viande dans la saucisse premium  (kg)  \n",
    "  *s<sub>p</sub>* = Amidon dans la saucisse premium  (kg)  \n",
    "\n",
    "Nous voulons minimiser les couts de cette façon : Note Nico : Vérifier d'ou sort 0.72 0.41 et 0.31 ?\n",
    "\n",
    "Cout = 0.72(*p<sub>e</sub>* + *p<sub>p</sub>*) + 0.41(*w<sub>e</sub>* + *w<sub>p</sub>*) + 0.31(*s<sub>e</sub>* + *s<sub>p</sub>*)\n",
    "\n",
    "\n",
    "Avec les contraintes suivantes :\n",
    "\n",
    "  *p<sub>e</sub>* + *w<sub>e</sub>* + *s<sub>e</sub>* = 350 \\* 0.05  \n",
    "  *p<sub>p</sub>* + *w<sub>p</sub>* + *s<sub>p</sub>* = 500 \\* 0.05  \n",
    "  *p<sub>e</sub>* ≥ 0.4(*p<sub>e</sub>* + *w<sub>e</sub>* + *s<sub>e</sub>*)  \n",
    "  *p<sub>p</sub>* ≥ 0.6(*p<sub>p</sub>* + *w<sub>p</sub>* + *s<sub>p</sub>*)  \n",
    "  *s<sub>e</sub>* ≤ 0.25(*p<sub>e</sub>* + *w<sub>e</sub>* + *s<sub>e</sub>*)  \n",
    "  *s<sub>p</sub>* ≤ 0.25(*p<sub>p</sub>* + *w<sub>p</sub>* + *s<sub>p</sub>*)  \n",
    "  *p<sub>e</sub>* + *p<sub>p</sub>* ≤ 30  \n",
    "  *w<sub>e</sub>* + *w<sub>p</sub>* ≤ 20  \n",
    "  *s<sub>e</sub>* + *s<sub>p</sub>* ≤ 17  \n",
    "  *p<sub>e</sub>* + *p<sub>p</sub>* ≥ 23"
   ]
  },
  {
   "cell_type": "code",
   "execution_count": 1,
   "metadata": {
    "collapsed": true
   },
   "outputs": [],
   "source": [
    "import pulp"
   ]
  },
  {
   "cell_type": "code",
   "execution_count": 2,
   "metadata": {
    "collapsed": true
   },
   "outputs": [],
   "source": [
    "# Instantier la classe de notre problème :\n",
    "model = pulp.LpProblem(\"Cost minimising blending problem\", pulp.LpMinimize)"
   ]
  },
  {
   "cell_type": "markdown",
   "metadata": {},
   "source": [
    "Ici, nous avons 6 variables de décision, nous pourrions les nommer individuellement, mais cela n'augmenterait pas si nous avions des centaines / milliers de variables (vous ne voulez pas les saisir toutes à la main plusieurs fois).\n",
    "\n",
    "Nous allons créer quelques listes à partir desquelles nous pouvons créer des index de tuple."
   ]
  },
  {
   "cell_type": "code",
   "execution_count": 3,
   "metadata": {},
   "outputs": [],
   "source": [
    "# On construit nos variables de décision\n",
    "sausage_types = ['economy', 'premium']\n",
    "ingredients = ['pork', 'wheat', 'starch']"
   ]
  },
  {
   "cell_type": "markdown",
   "metadata": {},
   "source": [
    "Chacune de ces variables de décision aura des caractéristiques similaires (borne inférieure de 0, variables continues). Par conséquent, nous pouvons utiliser la fonctionnalité dict de l'objet LpVariable de PuLP, nous pouvons fournir nos index de tuple.\n",
    "\n",
    "Ces tuples seront des clés pour le dict ing_weight des variables de décision"
   ]
  },
  {
   "cell_type": "code",
   "execution_count": 4,
   "metadata": {},
   "outputs": [],
   "source": [
    "ing_weight = pulp.LpVariable.dicts(\"weight kg\",\n",
    "                                     ((i, j) for i in sausage_types for j in ingredients),\n",
    "                                     lowBound=0,\n",
    "                                     cat='Continuous')"
   ]
  },
  {
   "cell_type": "markdown",
   "metadata": {},
   "source": [
    "PuLP fournit un calcul vectoriel lpSum pour la somme d'une liste d'expressions linéaires.\n",
    "\n",
    "Alors que nous n'avons que 6 variables de décision, je montrerai comment le problème serait construit d'une manière qui pourrait être étendue à de nombreuses variables en utilisant des compréhensions de liste."
   ]
  },
  {
   "cell_type": "code",
   "execution_count": 5,
   "metadata": {},
   "outputs": [],
   "source": [
    "# Objective Function\n",
    "model += (\n",
    "    pulp.lpSum([\n",
    "        4.32 * ing_weight[(i, 'pork')]\n",
    "        + 2.46 * ing_weight[(i, 'wheat')]\n",
    "        + 1.86 * ing_weight[(i, 'starch')]\n",
    "        for i in sausage_types])\n",
    ")"
   ]
  },
  {
   "cell_type": "markdown",
   "metadata": {},
   "source": [
    "Maintenant, nous ajoutons nos contraintes, gardons à nouveau à l'esprit ici comment l'utilisation de la compréhension de liste permet de passer à de nombreux ingrédients ou types de saucisses"
   ]
  },
  {
   "cell_type": "code",
   "execution_count": 6,
   "metadata": {
    "collapsed": true
   },
   "outputs": [],
   "source": [
    "# Constraints\n",
    "# 350 economy and 500 premium sausages at 0.05 kg\n",
    "model += pulp.lpSum([ing_weight['economy', j] for j in ingredients]) == 350 * 0.05\n",
    "model += pulp.lpSum([ing_weight['premium', j] for j in ingredients]) == 500 * 0.05\n",
    "\n",
    "# Economy has >= 40% pork, premium >= 60% pork\n",
    "model += ing_weight['economy', 'pork'] >= (\n",
    "    0.4 * pulp.lpSum([ing_weight['economy', j] for j in ingredients]))\n",
    "\n",
    "model += ing_weight['premium', 'pork'] >= (\n",
    "    0.6 * pulp.lpSum([ing_weight['premium', j] for j in ingredients]))\n",
    "\n",
    "# Sausages must be <= 25% starch\n",
    "model += ing_weight['economy', 'starch'] <= (\n",
    "    0.25 * pulp.lpSum([ing_weight['economy', j] for j in ingredients]))\n",
    "\n",
    "model += ing_weight['premium', 'starch'] <= (\n",
    "    0.25 * pulp.lpSum([ing_weight['premium', j] for j in ingredients]))\n",
    "\n",
    "# We have at most 30 kg of pork, 20 kg of wheat and 17 kg of starch available\n",
    "model += pulp.lpSum([ing_weight[i, 'pork'] for i in sausage_types]) <= 30\n",
    "model += pulp.lpSum([ing_weight[i, 'wheat'] for i in sausage_types]) <= 20\n",
    "model += pulp.lpSum([ing_weight[i, 'starch'] for i in sausage_types]) <= 17\n",
    "\n",
    "# We have at least 23 kg of pork to use up\n",
    "model += pulp.lpSum([ing_weight[i, 'pork'] for i in sausage_types]) >= 23"
   ]
  },
  {
   "cell_type": "code",
   "execution_count": 7,
   "metadata": {},
   "outputs": [
    {
     "data": {
      "text/plain": [
       "'Optimal'"
      ]
     },
     "execution_count": 7,
     "metadata": {},
     "output_type": "execute_result"
    }
   ],
   "source": [
    "# Solve our problem\n",
    "model.solve()\n",
    "pulp.LpStatus[model.status]"
   ]
  },
  {
   "cell_type": "code",
   "execution_count": 8,
   "metadata": {},
   "outputs": [
    {
     "name": "stdout",
     "output_type": "stream",
     "text": [
      "The weight of starch in premium sausages is 6.25 kg\n",
      "The weight of starch in economy sausages is 4.375 kg\n",
      "The weight of wheat in economy sausages is 6.125 kg\n",
      "The weight of wheat in premium sausages is 2.75 kg\n",
      "The weight of pork in economy sausages is 7.0 kg\n",
      "The weight of pork in premium sausages is 16.0 kg\n"
     ]
    }
   ],
   "source": [
    "for var in ing_weight:\n",
    "    var_value = ing_weight[var].varValue\n",
    "    print \"The weight of {0} in {1} sausages is {2} kg\".format(var[1], var[0], var_value)"
   ]
  },
  {
   "cell_type": "code",
   "execution_count": 9,
   "metadata": {},
   "outputs": [
    {
     "name": "stdout",
     "output_type": "stream",
     "text": [
      "The total cost is €140.96 for 350 economy sausages and 500 premium sausages\n"
     ]
    }
   ],
   "source": [
    "total_cost = pulp.value(model.objective)\n",
    "\n",
    "print \"The total cost is €{} for 350 economy sausages and 500 premium sausages\".format(round(total_cost, 2))"
   ]
  }
 ],
 "metadata": {
  "kernelspec": {
   "display_name": "Python 3",
   "language": "python",
   "name": "python3"
  },
  "language_info": {
   "codemirror_mode": {
    "name": "ipython",
    "version": 3
   },
   "file_extension": ".py",
   "mimetype": "text/x-python",
   "name": "python",
   "nbconvert_exporter": "python",
   "pygments_lexer": "ipython3",
   "version": "3.8.3"
  }
 },
 "nbformat": 4,
 "nbformat_minor": 1
}
