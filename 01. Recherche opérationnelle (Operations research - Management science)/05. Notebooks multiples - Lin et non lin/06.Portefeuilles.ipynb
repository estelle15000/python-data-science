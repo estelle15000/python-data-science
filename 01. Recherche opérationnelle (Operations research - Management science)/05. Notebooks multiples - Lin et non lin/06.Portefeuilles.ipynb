{
 "cells": [
  {
   "attachments": {},
   "cell_type": "markdown",
   "metadata": {},
   "source": [
    "a venir\n",
    "\n",
    "Portefeuille simple linéaire\n",
    "Choix d'investissements etc...\n",
    "Markovitz"
   ]
  },
  {
   "cell_type": "code",
   "execution_count": null,
   "metadata": {},
   "outputs": [],
   "source": []
  }
 ],
 "metadata": {
  "language_info": {
   "name": "python"
  },
  "orig_nbformat": 4
 },
 "nbformat": 4,
 "nbformat_minor": 2
}
