{
  "nbformat": 4,
  "nbformat_minor": 0,
  "metadata": {
    "colab": {
      "provenance": []
    },
    "kernelspec": {
      "name": "python3",
      "display_name": "Python 3"
    }
  },
  "cells": [
    {
      "cell_type": "code",
      "metadata": {
        "id": "s3hGfwkLZoNQ",
        "colab": {
          "base_uri": "https://localhost:8080/",
          "height": 141
        },
        "outputId": "d2c8434d-5db8-42c5-f9e1-1c429abed613"
      },
      "source": [
        "!pip install pulp"
      ],
      "execution_count": null,
      "outputs": [
        {
          "output_type": "stream",
          "text": [
            "Collecting pulp\n",
            "\u001b[?25l  Downloading https://files.pythonhosted.org/packages/41/34/757c88c320f80ce602199603afe63aed1e0bc11180b9a9fb6018fb2ce7ef/PuLP-2.1-py3-none-any.whl (40.6MB)\n",
            "\u001b[K     |████████████████████████████████| 40.6MB 102kB/s \n",
            "\u001b[?25hRequirement already satisfied: pyparsing>=2.0.1 in /usr/local/lib/python3.6/dist-packages (from pulp) (2.4.7)\n",
            "Installing collected packages: pulp\n",
            "Successfully installed pulp-2.1\n"
          ],
          "name": "stdout"
        }
      ]
    },
    {
      "cell_type": "code",
      "metadata": {
        "id": "xZMVKOpbZKBg",
        "colab": {
          "base_uri": "https://localhost:8080/",
          "height": 191
        },
        "outputId": "3bea375b-07d0-4a6f-e9a2-18bd5dcb3f25"
      },
      "source": [
        "''' Solving a staffing linear programming problem with PuLP in Python '''\n",
        "import pulp\n",
        "\n",
        "prob = pulp.LpProblem(\"Nurse Staffing\", pulp.LpMinimize)\n",
        "\n",
        "# Variables to represent the number of nurses working each shift\n",
        "shift1=pulp.LpVariable(\"Shift1\",0,None,pulp.LpInteger)\n",
        "shift2=pulp.LpVariable(\"Shift2\",0,None,pulp.LpInteger)\n",
        "shift3=pulp.LpVariable(\"Shift3\",0,None,pulp.LpInteger)\n",
        "shift4=pulp.LpVariable(\"Shift4\",0,None,pulp.LpInteger)\n",
        "shift5=pulp.LpVariable(\"Shift5\",0,None,pulp.LpInteger)\n",
        "shift6=pulp.LpVariable(\"Shift6\",0,None,pulp.LpInteger)\n",
        "\n",
        "# The objective function is added to 'prob' first\n",
        "prob += shift1 + shift2 + shift3 + shift4 + shift5 + shift6, \"Total Nurses\"\n",
        "\n",
        "# The six constraints to ensure there are enough nurses for each time period\n",
        "prob += shift6 + shift1 >=  70, \"MimimumNurses06amTo10am\"\n",
        "prob += shift1 + shift2 >= 170, \"MimimumNurses10amTo2pm\"\n",
        "prob += shift2 + shift3 >= 200, \"MimimumNurses02pmTo6pm\"\n",
        "prob += shift3 + shift4 >=  85, \"MimimumNurses06pmTo10pm\"\n",
        "prob += shift4 + shift5 >=  25, \"MimimumNurses10pmTo2am\"\n",
        "prob += shift5 + shift6 >=  40, \"MimimumNurses02amTo06am\"\n",
        "\n",
        "# Solve the problem using PuLP's choice of Solver\n",
        "prob.solve()\n",
        "\n",
        "# The status of the solution is printed to the screen\n",
        "print(\"Status:\", pulp.LpStatus[prob.status])\n",
        "\n",
        "# Each of the variables is printed with it's resolved optimum value\n",
        "for v in prob.variables():\n",
        "    print(v.name, \"=\", v.varValue)\n",
        "\n",
        "# The optimized objective function value is printed to the screen\n",
        "print(\"Total number of nurses = \", pulp.value(prob.objective))    \n"
      ],
      "execution_count": null,
      "outputs": [
        {
          "output_type": "stream",
          "text": [
            "Status: Optimal\n",
            "Shift1 = 30.0\n",
            "Shift2 = 140.0\n",
            "Shift3 = 60.0\n",
            "Shift4 = 25.0\n",
            "Shift5 = 0.0\n",
            "Shift6 = 40.0\n",
            "Total number of nurses =  295.0\n"
          ],
          "name": "stdout"
        },
        {
          "output_type": "stream",
          "text": [
            "/usr/local/lib/python3.6/dist-packages/pulp/pulp.py:1114: UserWarning: Spaces are not permitted in the name. Converted to '_'\n",
            "  warnings.warn(\"Spaces are not permitted in the name. Converted to '_'\")\n"
          ],
          "name": "stderr"
        }
      ]
    }
  ]
}