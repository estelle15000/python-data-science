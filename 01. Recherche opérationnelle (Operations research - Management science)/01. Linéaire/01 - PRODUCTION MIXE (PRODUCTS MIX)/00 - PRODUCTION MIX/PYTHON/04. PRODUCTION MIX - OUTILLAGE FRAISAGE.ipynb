{
 "cells": [
  {
   "attachments": {},
   "cell_type": "markdown",
   "metadata": {},
   "source": [
    " Un fabriquant d’outillage de fraisage fabrique deux types de fraises : A et B. \n",
    " Les fraises de type A se vendent 300 l’unité, et se fabrique à avec 1 unité d’acier,\n",
    "  2 unités de carbure amovible et 1 unité de diamant synthétique. \n",
    "  Les fraises de type B se vendent 200 l’unité, et se fabrique à avec 2 unité d’acier, \n",
    "  1 unités de carbure amovible et 1 unité de diamant synthétique. \n",
    "\n",
    " Les stocks sont de 50 unités d’acier, 50 unités de carbure et 20 unités de diamant. \n",
    " Le fabriquant souhaite construire au moins 5 fraises de type A et 5 fraises de type B. \n",
    " Le coût d’entretien de l’usine est de 2500.\n",
    "\n",
    "  Comment le fabriquant doit-il répartir sa production pour maximiser son profit, est-ce rentable ?\n",
    "\n",
    "\n",
    "     Fonction objectif : z = 300A+200B-2500\n",
    "     Contraintes :\n",
    "         A+2B  ≤ 5\n",
    "         2A+B ≤ 5\n",
    "         A+B ≤ 2\n",
    "         A  ≥ 5\n",
    "         B  ≥ 5\n"
   ]
  },
  {
   "cell_type": "code",
   "execution_count": null,
   "metadata": {},
   "outputs": [],
   "source": []
  }
 ],
 "metadata": {
  "kernelspec": {
   "display_name": "Python 3",
   "language": "python",
   "name": "python3"
  },
  "language_info": {
   "name": "python",
   "version": "3.8.0 (tags/v3.8.0:fa919fd, Oct 14 2019, 19:37:50) [MSC v.1916 64 bit (AMD64)]"
  },
  "orig_nbformat": 4,
  "vscode": {
   "interpreter": {
    "hash": "edb60928ae049011e12e2dc43646b5515922153b602d9d974a622a5d486bbfcc"
   }
  }
 },
 "nbformat": 4,
 "nbformat_minor": 2
}
