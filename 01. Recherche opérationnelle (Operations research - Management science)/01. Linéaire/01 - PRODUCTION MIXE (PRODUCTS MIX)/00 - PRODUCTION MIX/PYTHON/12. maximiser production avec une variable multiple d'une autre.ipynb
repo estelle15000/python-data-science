{
 "cells": [
  {
   "attachments": {},
   "cell_type": "markdown",
   "metadata": {},
   "source": [
    "# Recherche opérationnelle \n",
    "# Optimisation Mixe de Produits ( Products mix)\n",
    "\n",
    "J'ai une usine de fabrication de jouets en bois.\n",
    "\n",
    "Je dois construire des camions de pompier, des hélicoptères et des ambulances en bois.\n",
    "\n",
    "\n",
    "\n",
    "2 employés, qui travaillent 1 h , 2H, 3H pour respectifs objets pour un maximum de 100H/semaine.\n",
    "\n",
    "******Pour un camion de pompier produit, je dois produire 2 ambulances."
   ]
  },
  {
   "cell_type": "code",
   "execution_count": null,
   "metadata": {},
   "outputs": [],
   "source": []
  }
 ],
 "metadata": {
  "kernelspec": {
   "display_name": "Python 3",
   "language": "python",
   "name": "python3"
  },
  "language_info": {
   "name": "python",
   "version": "3.8.0 (tags/v3.8.0:fa919fd, Oct 14 2019, 19:37:50) [MSC v.1916 64 bit (AMD64)]"
  },
  "orig_nbformat": 4,
  "vscode": {
   "interpreter": {
    "hash": "edb60928ae049011e12e2dc43646b5515922153b602d9d974a622a5d486bbfcc"
   }
  }
 },
 "nbformat": 4,
 "nbformat_minor": 2
}
