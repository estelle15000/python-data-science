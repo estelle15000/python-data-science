{
 "cells": [
  {
   "attachments": {},
   "cell_type": "markdown",
   "metadata": {},
   "source": [
    "# Variable conditionelles en Programmation linéaire\n",
    "\n",
    "On doit choisir entre plusieurs projets et on veut minimiser le cout global des projets.\n",
    "\n",
    "Condition:\n",
    "Si un projet particulier est choisi, alors un autre projet associé doit aussi être choisi.\n",
    "\n",
    "<iframe width=\"560\" height=\"315\" src=\"https://www.youtube.com/embed/B3biWsBLeCw\" title=\"YouTube video player\" frameborder=\"0\" allow=\"accelerometer; autoplay; clipboard-write; encrypted-media; gyroscope; picture-in-picture; web-share\" allowfullscreen></iframe>"
   ]
  },
  {
   "cell_type": "code",
   "execution_count": 10,
   "metadata": {},
   "outputs": [
    {
     "name": "stdout",
     "output_type": "stream",
     "text": [
      "1000.0\n",
      "x1 = 1.0\n",
      "x2 = 1.0\n",
      "x3 = 0.0\n",
      "x4 = 1.0\n",
      "x5 = 0.0\n"
     ]
    }
   ],
   "source": [
    "import pulp\n",
    "from pulp import *\n",
    " \n",
    "# On déclare les variables de décision , ce sont les projets et c'est binaire car un projet peut être choisi ou pas\n",
    "x1 = LpVariable(\"x1\", cat='Binary')   \n",
    "x2 = LpVariable(\"x2\", cat='Binary') \n",
    "x3 = LpVariable(\"x3\", cat='Binary')\n",
    "x4 = LpVariable(\"x4\", cat='Binary') \n",
    "x5 = LpVariable(\"x5\", cat='Binary')\n",
    "\n",
    "budgetMax = 1000\n",
    " \n",
    " \n",
    "# On dit que c'est un problème de minimisation , car on veut minimiser le coût global.\n",
    "prob = LpProblem(\"problem\", LpMinimize)\n",
    "\n",
    "\n",
    "# On définit la fonction économique à minimiser\n",
    "prob += 300 * x1 + 400 * x2 + 500 * x3 + 300 * x4 + 250 * x5\n",
    " \n",
    "# Ensuite, On définit les contraintes.\n",
    "\n",
    "# On a un budget maximum à allouer aux couts de 1000 euros .\n",
    "prob += 300 * x1 + 400 * x2 + 500 * x3 + 300 * x4 + 250 * x5  >= 1000\n",
    "\n",
    "\n",
    "# Si le projet x4 est choisi, alors x1 doit aussi être choisi\n",
    "prob += x1 >= x4\n",
    "\n",
    "\n",
    " \n",
    "# On résouds le problème\n",
    "prob.solve()\n",
    " \n",
    "# On imprime les résultats \n",
    "\n",
    "# L'objectif, qui est le cout total de notre production industrielle\n",
    "print (pulp.value(prob.objective))\n",
    "\n",
    "# Les valeurs des variables\n",
    "for v in prob.variables():\n",
    "    print(v.name, \"=\", v.varValue)"
   ]
  }
 ],
 "metadata": {
  "kernelspec": {
   "display_name": "Python 3",
   "language": "python",
   "name": "python3"
  },
  "language_info": {
   "codemirror_mode": {
    "name": "ipython",
    "version": 3
   },
   "file_extension": ".py",
   "mimetype": "text/x-python",
   "name": "python",
   "nbconvert_exporter": "python",
   "pygments_lexer": "ipython3",
   "version": "3.8.0"
  },
  "orig_nbformat": 4
 },
 "nbformat": 4,
 "nbformat_minor": 2
}
