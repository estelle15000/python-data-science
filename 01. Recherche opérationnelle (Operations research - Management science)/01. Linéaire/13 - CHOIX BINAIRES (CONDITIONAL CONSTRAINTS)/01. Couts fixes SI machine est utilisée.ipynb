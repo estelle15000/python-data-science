{
 "cells": [
  {
   "attachments": {},
   "cell_type": "markdown",
   "metadata": {},
   "source": [
    "# Variable conditionelles en Programmation linéaire\n",
    "\n",
    "Si une machine est utilisée, appliquer un coût fixe .\n",
    "Si elle n'est pas utilisée , ne pas appliquer de coût fixe.\n",
    "\n",
    "Histoire : \n",
    "\n",
    "On a 3 machines qui produisent le même objet.\n",
    "\n",
    "Chaque machine a un coût variable propre.\n",
    "\n",
    "Chaque machine a un coût fixe propre.\n",
    "\n",
    "Chaque machine a une capacité max de production.\n",
    "\n",
    "La production totale doit être de mille.\n",
    "\n",
    "****Condition :****\n",
    "Si une machine est utilisée, le coût fixe doit être compté dans la fonction objectif, \n",
    "sinon, il ne doit pas être compté !\n",
    "\n",
    "Le programme linéaire :\n",
    "<img src =\"img/lp1.png\"></img>\n",
    "\n",
    "Lien : \n",
    "https://www.youtube.com/watch?v=-3my1TkyFiM\n",
    "\n",
    "<iframe width=\"560\" height=\"315\" src=\"https://www.youtube.com/embed/-3my1TkyFiM\" title=\"YouTube video player\" frameborder=\"0\" allow=\"accelerometer; autoplay; clipboard-write; encrypted-media; gyroscope; picture-in-picture; web-share\" allowfullscreen></iframe>"
   ]
  },
  {
   "cell_type": "code",
   "execution_count": 3,
   "metadata": {},
   "outputs": [
    {
     "name": "stdout",
     "output_type": "stream",
     "text": [
      "Status: Unbounded\n",
      "x1 = 0.0\n",
      "x3 = 0.0\n"
     ]
    }
   ],
   "source": [
    "import pulp\n",
    "from pulp import *\n",
    " \n",
    "# On déclare les variables de décision\n",
    "x1 = LpVariable(\"x1\")   \n",
    "x2 = LpVariable(\"x2\") \n",
    "x3 = LpVariable(\"x3\")\n",
    "\n",
    "# On déclare les variables binaire qui vont nous servir pour affecter le cout fixe si la machine est utilisée\n",
    "y1 = LpVariable(\"y1\")   \n",
    "y2 = LpVariable(\"y2\") \n",
    "y3 = LpVariable(\"y3\")\n",
    " \n",
    " \n",
    "# On dit que c'est un problème de minimisation , car on veut minimiser le coût global.\n",
    "prob = LpProblem(\"problem\", LpMinimize)\n",
    "\n",
    "\n",
    "# On définit la fonction économique à minimiser\n",
    "prob += 2.39 * x1 + 1.99 * x2 + 299 * x3 + 300 * y1 + 250 * y2 + 400 * y3\n",
    " \n",
    "# Ensuite, On définit les contraintes.\n",
    "\n",
    "# 1000 produits à produire\n",
    "prob += x1+x2+x3 == 1000 \n",
    "\n",
    "# Le nb de produits maximum par machine comme dans le tableau youtube\n",
    "prob += x1 <= 400\n",
    "prob += x2 <= 550\n",
    "prob += x3 <= 600\n",
    " \n",
    "# On résouds le problème\n",
    "prob.solve()\n",
    " \n",
    "# On imprime les résultats \n",
    "\n",
    "print(\"Status:\", LpStatus[prob.status])\n",
    "for v in prob.variables():\n",
    "    print(v.name, \"=\", v.varValue)"
   ]
  }
 ],
 "metadata": {
  "kernelspec": {
   "display_name": "Python 3",
   "language": "python",
   "name": "python3"
  },
  "language_info": {
   "codemirror_mode": {
    "name": "ipython",
    "version": 3
   },
   "file_extension": ".py",
   "mimetype": "text/x-python",
   "name": "python",
   "nbconvert_exporter": "python",
   "pygments_lexer": "ipython3",
   "version": "3.8.0"
  },
  "orig_nbformat": 4
 },
 "nbformat": 4,
 "nbformat_minor": 2
}
