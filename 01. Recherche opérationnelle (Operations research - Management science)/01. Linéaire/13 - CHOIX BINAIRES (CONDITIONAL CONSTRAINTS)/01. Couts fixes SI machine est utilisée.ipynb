{
 "cells": [
  {
   "attachments": {},
   "cell_type": "markdown",
   "metadata": {},
   "source": [
    "# Variable conditionelles en Programmation linéaire\n",
    "\n",
    "Si une machine est utilisée, appliquer un coût fixe .\n",
    "Si elle n'est pas utilisée , ne pas appliquer de coût fixe.\n",
    "\n",
    "Histoire : \n",
    "\n",
    "On a 3 machines qui produisent le même objet.\n",
    "\n",
    "Chaque machine a un coût variable propre.\n",
    "\n",
    "Chaque machine a un coût fixe propre.\n",
    "\n",
    "Chaque machine a une capacité max de production.\n",
    "\n",
    "La production totale doit être de mille.\n",
    "\n",
    "****Condition :****\n",
    "Si une machine est utilisée, le coût fixe doit être compté dans la fonction objectif, \n",
    "sinon, il ne doit pas être compté !\n",
    "\n",
    "Lien : \n",
    "https://www.youtube.com/watch?v=-3my1TkyFiM\n",
    "\n",
    "<iframe width=\"560\" height=\"315\" src=\"https://www.youtube.com/embed/-3my1TkyFiM\" title=\"YouTube video player\" frameborder=\"0\" allow=\"accelerometer; autoplay; clipboard-write; encrypted-media; gyroscope; picture-in-picture; web-share\" allowfullscreen></iframe>"
   ]
  },
  {
   "cell_type": "code",
   "execution_count": 1,
   "metadata": {},
   "outputs": [
    {
     "name": "stdout",
     "output_type": "stream",
     "text": [
      "Status: Optimal\n",
      "x1 = 20.0\n",
      "x2 = 60.0\n"
     ]
    }
   ],
   "source": [
    "import pulp\n",
    "from pulp import *\n",
    " \n",
    "# On déclare les variables \n",
    "x1 = LpVariable(\"x1\")   \n",
    "x2 = LpVariable(\"x2\") \n",
    " \n",
    "# ON dit que c'est un problème de maximisation , car on veut maximiser nos profits.\n",
    "prob = LpProblem(\"problem\", LpMaximize)\n",
    "\n",
    "\n",
    "# On définit la fonction économique à maximiser : 3$ * par le nb de soldats de bois produits, et 2$ * par le nb de trains produits .\n",
    "prob += 3*x1+2*x2\n",
    " \n",
    "# Ensuite, On définit les contraintes.\n",
    "\n",
    "# 2h de travail pour le train + 1 h pour le soldat doitêtre inférieur à 100 heures de travail par semaine.\n",
    "prob += 2*x1+x2 <= 100 \n",
    "\n",
    "# 1 heure de menuiserie + 1 h de menuiserie de soldat doit être inférieur à 80 heures de travail par semaine.\n",
    "prob += x1+x2 <= 80\n",
    " \n",
    "# solve the problem\n",
    "prob.solve()\n",
    " \n",
    "# On imprime les résultats x1 = 20, x2 = 60\n",
    "\n",
    "print(\"Status:\", LpStatus[prob.status])\n",
    "for v in prob.variables():\n",
    "    print(v.name, \"=\", v.varValue)"
   ]
  }
 ],
 "metadata": {
  "kernelspec": {
   "display_name": "Python 3",
   "language": "python",
   "name": "python3"
  },
  "language_info": {
   "codemirror_mode": {
    "name": "ipython",
    "version": 3
   },
   "file_extension": ".py",
   "mimetype": "text/x-python",
   "name": "python",
   "nbconvert_exporter": "python",
   "pygments_lexer": "ipython3",
   "version": "3.8.0"
  },
  "orig_nbformat": 4
 },
 "nbformat": 4,
 "nbformat_minor": 2
}
