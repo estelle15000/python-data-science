{
 "cells": [
  {
   "attachments": {},
   "cell_type": "markdown",
   "metadata": {},
   "source": [
    "\"\"\" \n",
    "Utiliser la lib rectpack, pour optimiser le remplissage de containers en 2d\n",
    "\n",
    "Lien : https://github.com/secnot/rectpack\n",
    "\n",
    "Actuellement :raise IndexError(\"Index out of range\")\n",
    "\n",
    "\"\"\"\n"
   ]
  },
  {
   "cell_type": "code",
   "execution_count": null,
   "metadata": {},
   "outputs": [],
   "source": [
    "\n",
    "\n",
    "from rectpack import newPacker\n",
    "\n",
    "rectangles = [(100, 30), (40, 60), (30, 30),(70, 70), (100, 50), (30, 30)]\n",
    "bins = [(300, 450), (80, 40), (200, 150)]\n",
    "\n",
    "packer = newPacker()\n",
    "\n",
    "# Add the rectangles to packing queue\n",
    "for r in rectangles:\n",
    "\tpacker.add_rect(*r)\n",
    "\n",
    "# Add the bins where the rectangles will be placed\n",
    "for b in bins:\n",
    "\tpacker.add_bin(*b)\n",
    "\n",
    "# Start packing\n",
    "packer.pack()\n",
    "\n",
    "# Obtain number of bins used for packing\n",
    "nbins = len(packer)\n",
    "\n",
    "# Index first bin\n",
    "abin = packer[0]\n",
    "\n",
    "# Bin dimmensions (bins can be reordered during packing)\n",
    "width, height = abin.width, abin.height\n",
    "\n",
    "# Number of rectangles packed into first bin\n",
    "nrect = len(packer[0])\n",
    "\n",
    "# Second bin first rectangle\n",
    "rect = packer[1][0]\n",
    "\n",
    "# rect is a Rectangle object\n",
    "x = rect.x # rectangle bottom-left x coordinate\n",
    "y = rect.y # rectangle bottom-left y coordinate\n",
    "w = rect.width\n",
    "h = rect.height\n",
    "\n",
    "# Full rectangle list\n",
    "all_rects = packer.rect_list()\n",
    "for rect in all_rects:\n",
    "\tb, x, y, w, h, rid = rect\n",
    "\n",
    "# b - Bin index\n",
    "# x - Rectangle bottom-left corner x coordinate\n",
    "# y - Rectangle bottom-left corner y coordinate\n",
    "# w - Rectangle width\n",
    "# h - Rectangle height\n",
    "# rid - User asigned rectangle id or None"
   ]
  }
 ],
 "metadata": {
  "kernelspec": {
   "display_name": "Python 3",
   "language": "python",
   "name": "python3"
  },
  "language_info": {
   "name": "python",
   "version": "3.8.0 (tags/v3.8.0:fa919fd, Oct 14 2019, 19:37:50) [MSC v.1916 64 bit (AMD64)]"
  },
  "orig_nbformat": 4,
  "vscode": {
   "interpreter": {
    "hash": "edb60928ae049011e12e2dc43646b5515922153b602d9d974a622a5d486bbfcc"
   }
  }
 },
 "nbformat": 4,
 "nbformat_minor": 2
}
