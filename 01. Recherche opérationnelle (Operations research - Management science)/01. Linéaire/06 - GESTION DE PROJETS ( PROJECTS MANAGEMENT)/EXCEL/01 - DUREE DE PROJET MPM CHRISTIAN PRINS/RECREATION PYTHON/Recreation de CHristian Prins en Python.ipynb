{
 "cells": [
  {
   "attachments": {},
   "cell_type": "markdown",
   "metadata": {},
   "source": [
    "# Minimiser le temps de réalisation d'un projet\n",
    "\n",
    "Objectif : Minimiser le temps total d'exécution d'un projet. ( Makespan)\n",
    "\n",
    "Source : Optimisations avec Excel de Eyrolles, de Christian Prins et Marc Sevaux.\n",
    "\n",
    "Recréation du problème de Excel à python MIP  par estelle derrien et vérification si les résultats sont identiques.\n",
    "\n",
    "Lien : \n",
    "https://docs.python-mip.com/en/latest/examples.html"
   ]
  },
  {
   "attachments": {},
   "cell_type": "markdown",
   "metadata": {},
   "source": [
    "Note: le code Python MIP exemple comprends des contraintes en ressources ( C'est un RCPSP). Elles ne sont pas dans l'optimisation de Christian Prins, du coup, il va falloir tenter de les enlever du code Python.\n",
    "\n",
    "CREATION EN COURS !!!!\n",
    "\n",
    "Voici les tâches que Christian Prins avait créé dans son livre:\n",
    "\n",
    "<img src =\"img/taches.jpg\">\n",
    "\n",
    "Voici maintenant l'exemple donné sur le site de Python Mip (Brasil), \n",
    "On voit que cela ressemble dans l'esprit : \n",
    "\n",
    "<img src = \"img/python-mip.png\">"
   ]
  },
  {
   "cell_type": "code",
   "execution_count": 9,
   "metadata": {},
   "outputs": [
    {
     "ename": "IndexError",
     "evalue": "list index out of range",
     "output_type": "error",
     "traceback": [
      "\u001b[1;31m---------------------------------------------------------------------------\u001b[0m",
      "\u001b[1;31mIndexError\u001b[0m                                Traceback (most recent call last)",
      "Cell \u001b[1;32mIn[9], line 33\u001b[0m\n\u001b[0;32m     29\u001b[0m model \u001b[39m=\u001b[39m Model()\n\u001b[0;32m     31\u001b[0m x \u001b[39m=\u001b[39m [[model\u001b[39m.\u001b[39madd_var(name\u001b[39m=\u001b[39m\u001b[39m\"\u001b[39m\u001b[39mx(\u001b[39m\u001b[39m{}\u001b[39;00m\u001b[39m,\u001b[39m\u001b[39m{}\u001b[39;00m\u001b[39m)\u001b[39m\u001b[39m\"\u001b[39m\u001b[39m.\u001b[39mformat(j, t), var_type\u001b[39m=\u001b[39mBINARY) \u001b[39mfor\u001b[39;00m t \u001b[39min\u001b[39;00m T] \u001b[39mfor\u001b[39;00m j \u001b[39min\u001b[39;00m J]\n\u001b[1;32m---> 33\u001b[0m model\u001b[39m.\u001b[39mobjective \u001b[39m=\u001b[39m xsum(t \u001b[39m*\u001b[39;49m x[n \u001b[39m+\u001b[39;49m \u001b[39m1\u001b[39;49m][t] \u001b[39mfor\u001b[39;49;00m t \u001b[39min\u001b[39;49;00m T)\n\u001b[0;32m     35\u001b[0m \u001b[39mfor\u001b[39;00m j \u001b[39min\u001b[39;00m J:\n\u001b[0;32m     36\u001b[0m     model \u001b[39m+\u001b[39m\u001b[39m=\u001b[39m xsum(x[j][t] \u001b[39mfor\u001b[39;00m t \u001b[39min\u001b[39;00m T) \u001b[39m==\u001b[39m \u001b[39m1\u001b[39m\n",
      "File \u001b[1;32mc:\\Users\\secretgirl\\AppData\\Local\\Programs\\Python\\Python38\\lib\\site-packages\\mip\\model.py:1561\u001b[0m, in \u001b[0;36mxsum\u001b[1;34m(terms)\u001b[0m\n\u001b[0;32m   1549\u001b[0m \u001b[39m\"\"\"\u001b[39;00m\n\u001b[0;32m   1550\u001b[0m \u001b[39mFunction that should be used to create a linear expression from a\u001b[39;00m\n\u001b[0;32m   1551\u001b[0m \u001b[39msummation. While the python function sum() can also be used, this\u001b[39;00m\n\u001b[1;32m   (...)\u001b[0m\n\u001b[0;32m   1558\u001b[0m \u001b[39m:rtype: mip.LinExpr\u001b[39;00m\n\u001b[0;32m   1559\u001b[0m \u001b[39m\"\"\"\u001b[39;00m\n\u001b[0;32m   1560\u001b[0m result \u001b[39m=\u001b[39m mip\u001b[39m.\u001b[39mLinExpr()\n\u001b[1;32m-> 1561\u001b[0m \u001b[39mfor\u001b[39;00m term \u001b[39min\u001b[39;00m terms:\n\u001b[0;32m   1562\u001b[0m     result\u001b[39m.\u001b[39madd_term(term)\n\u001b[0;32m   1563\u001b[0m \u001b[39mreturn\u001b[39;00m result\n",
      "Cell \u001b[1;32mIn[9], line 33\u001b[0m, in \u001b[0;36m<genexpr>\u001b[1;34m(.0)\u001b[0m\n\u001b[0;32m     29\u001b[0m model \u001b[39m=\u001b[39m Model()\n\u001b[0;32m     31\u001b[0m x \u001b[39m=\u001b[39m [[model\u001b[39m.\u001b[39madd_var(name\u001b[39m=\u001b[39m\u001b[39m\"\u001b[39m\u001b[39mx(\u001b[39m\u001b[39m{}\u001b[39;00m\u001b[39m,\u001b[39m\u001b[39m{}\u001b[39;00m\u001b[39m)\u001b[39m\u001b[39m\"\u001b[39m\u001b[39m.\u001b[39mformat(j, t), var_type\u001b[39m=\u001b[39mBINARY) \u001b[39mfor\u001b[39;00m t \u001b[39min\u001b[39;00m T] \u001b[39mfor\u001b[39;00m j \u001b[39min\u001b[39;00m J]\n\u001b[1;32m---> 33\u001b[0m model\u001b[39m.\u001b[39mobjective \u001b[39m=\u001b[39m xsum(t \u001b[39m*\u001b[39m x[n \u001b[39m+\u001b[39;49m \u001b[39m1\u001b[39;49m][t] \u001b[39mfor\u001b[39;00m t \u001b[39min\u001b[39;00m T)\n\u001b[0;32m     35\u001b[0m \u001b[39mfor\u001b[39;00m j \u001b[39min\u001b[39;00m J:\n\u001b[0;32m     36\u001b[0m     model \u001b[39m+\u001b[39m\u001b[39m=\u001b[39m xsum(x[j][t] \u001b[39mfor\u001b[39;00m t \u001b[39min\u001b[39;00m T) \u001b[39m==\u001b[39m \u001b[39m1\u001b[39m\n",
      "\u001b[1;31mIndexError\u001b[0m: list index out of range"
     ]
    }
   ],
   "source": [
    "# n = Nombre de tâches plus 1 ( Celle de début et celle de fin 'fictives' mais nécessaires, celle de fin est déjà présente dans le fichier excel)\n",
    "# p = Durée de chaque tâches\n",
    "# u = Ressources nécessaires, dans ce problème il n'y en pas besoin.\n",
    "# S = Successeurs\n",
    "\n",
    "from itertools import product\n",
    "from mip import Model, xsum, BINARY\n",
    "\n",
    "# On tente désormais de recréer le problème Excel sous Python :\n",
    "\n",
    "n = 20  # note there will be exactly 20 jobs (n=19 jobs plus the  'dummy' one)\n",
    "\n",
    "p = [0, 2, 16, 9, 8, 10, 6, 2, 2, 9, 5, 3,2,1,7,4,3,9,1,0] # Durée de chaque tâche\n",
    "\n",
    "# Dans ce problème, il n'y a pas de contraintes de ressources, on les commente donc.\n",
    "# quantité de ressource r requise pour le traitement de la tâche j\n",
    "# u = [[0, 0], [5, 1], [0, 4], [1, 4], [1, 3], [3, 2], [3, 1], [2, 4],\n",
    "#      [4, 0], [5, 2], [2, 5], [0, 0]] \n",
    "\n",
    "# capacité de ressource renouvelable r (?)\n",
    "# c = [6, 8] \n",
    "\n",
    "S = [[0, 1], [0, 2], [0, 3], [1, 4], [1, 5], [2, 9], [2, 10], [3, 8], [4, 6],\n",
    "     [4, 7], [5, 9], [5, 10], [6, 8], [6, 9], [7, 8], [8, 11], [9, 11], [10, 11]] # successeurs des nodes [node, successeur]\n",
    "\n",
    "# (R, J, T) = (range(len(c)), range(len(p)), range(sum(p)))\n",
    "(J, T) = (range(len(p)), range(sum(p)))\n",
    "\n",
    "model = Model()\n",
    "\n",
    "x = [[model.add_var(name=\"x({},{})\".format(j, t), var_type=BINARY) for t in T] for j in J]\n",
    "\n",
    "model.objective = xsum(t * x[n + 1][t] for t in T)\n",
    "\n",
    "for j in J:\n",
    "    model += xsum(x[j][t] for t in T) == 1\n",
    "\n",
    "# for (r, t) in product(R, T):\n",
    "#     model += (\n",
    "#         xsum(u[j][r] * x[j][t2] for j in J for t2 in range(max(0, t - p[j] + 1), t + 1))\n",
    "#         <= c[r])\n",
    "\n",
    "for (j, s) in S:\n",
    "    model += xsum(t * x[s][t] - t * x[j][t] for t in T) >= p[j]\n",
    "\n",
    "model.optimize()\n",
    "\n",
    "print(\"Schedule: \")\n",
    "for (j, t) in product(J, T):\n",
    "    if x[j][t].x >= 0.99:\n",
    "        print(\"Job {}: begins at t={} and finishes at t={}\".format(j, t, t+p[j]))\n",
    "print(\"Makespan = {}\".format(model.objective_value))"
   ]
  }
 ],
 "metadata": {
  "kernelspec": {
   "display_name": "Python 3",
   "language": "python",
   "name": "python3"
  },
  "language_info": {
   "codemirror_mode": {
    "name": "ipython",
    "version": 3
   },
   "file_extension": ".py",
   "mimetype": "text/x-python",
   "name": "python",
   "nbconvert_exporter": "python",
   "pygments_lexer": "ipython3",
   "version": "3.8.0"
  },
  "orig_nbformat": 4
 },
 "nbformat": 4,
 "nbformat_minor": 2
}
