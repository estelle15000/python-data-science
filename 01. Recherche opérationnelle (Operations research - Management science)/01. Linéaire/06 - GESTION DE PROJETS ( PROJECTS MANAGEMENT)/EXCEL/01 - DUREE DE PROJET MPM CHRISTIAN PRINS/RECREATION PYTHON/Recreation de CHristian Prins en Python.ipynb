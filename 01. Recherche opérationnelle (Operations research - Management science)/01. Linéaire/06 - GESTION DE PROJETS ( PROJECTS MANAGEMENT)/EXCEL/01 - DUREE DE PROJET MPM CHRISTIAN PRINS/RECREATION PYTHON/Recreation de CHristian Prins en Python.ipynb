{
 "cells": [
  {
   "attachments": {},
   "cell_type": "markdown",
   "metadata": {},
   "source": [
    "# Minimiser le temps de réalisation d'un projet\n",
    "\n",
    "Intérêt : Minimiser le temps total d'exécution d'un projet. ( Makespan)\n",
    "\n",
    "Source : Optimisations avec Excel de Eyrolles, de Christian Prins et Marc Sevaux.\n",
    "\n",
    "Recréation du problème de Excel à python MIP  par estelle derrien et vérification si les résultats sont identiques."
   ]
  },
  {
   "attachments": {},
   "cell_type": "markdown",
   "metadata": {},
   "source": [
    "Note: le code Python MIP exemple comprends des ressources. Elles ne sont pas dans l'optimisation de Christian Prins, du coup, il va falloir tenter de les enlever du code."
   ]
  },
  {
   "cell_type": "code",
   "execution_count": 1,
   "metadata": {},
   "outputs": [],
   "source": [
    "\n",
    "\n",
    "\n",
    "from itertools import product\n",
    "from mip import Model, xsum, BINARY\n",
    "\n",
    "n = 10  # note there will be exactly 12 jobs (n=10 jobs plus the two 'dummy' ones)\n",
    "\n",
    "p = [0, 3, 2, 5, 4, 2, 3, 4, 2, 4, 6, 0] # Durée de chque tâche\n",
    "\n",
    "u = [[0, 0], [5, 1], [0, 4], [1, 4], [1, 3], [3, 2], [3, 1], [2, 4],\n",
    "     [4, 0], [5, 2], [2, 5], [0, 0]] # quantité de ressource r requise pour le traitement de la tâche j\n",
    "\n",
    "c = [6, 8] # capacité de ressource renouvelable r (?)\n",
    "\n",
    "S = [[0, 1], [0, 2], [0, 3], [1, 4], [1, 5], [2, 9], [2, 10], [3, 8], [4, 6],\n",
    "     [4, 7], [5, 9], [5, 10], [6, 8], [6, 9], [7, 8], [8, 11], [9, 11], [10, 11]] # successeurs des nodes [node, successeur]\n",
    "\n",
    "(R, J, T) = (range(len(c)), range(len(p)), range(sum(p)))\n",
    "\n",
    "model = Model()\n",
    "\n",
    "x = [[model.add_var(name=\"x({},{})\".format(j, t), var_type=BINARY) for t in T] for j in J]\n",
    "\n",
    "model.objective = xsum(t * x[n + 1][t] for t in T)\n",
    "\n",
    "for j in J:\n",
    "    model += xsum(x[j][t] for t in T) == 1\n",
    "\n",
    "for (r, t) in product(R, T):\n",
    "    model += (\n",
    "        xsum(u[j][r] * x[j][t2] for j in J for t2 in range(max(0, t - p[j] + 1), t + 1))\n",
    "        <= c[r])\n",
    "\n",
    "for (j, s) in S:\n",
    "    model += xsum(t * x[s][t] - t * x[j][t] for t in T) >= p[j]\n",
    "\n",
    "model.optimize()\n",
    "\n",
    "print(\"Schedule: \")\n",
    "for (j, t) in product(J, T):\n",
    "    if x[j][t].x >= 0.99:\n",
    "        print(\"Job {}: begins at t={} and finishes at t={}\".format(j, t, t+p[j]))\n",
    "print(\"Makespan = {}\".format(model.objective_value))"
   ]
  }
 ],
 "metadata": {
  "kernelspec": {
   "display_name": "Python 3",
   "language": "python",
   "name": "python3"
  },
  "language_info": {
   "codemirror_mode": {
    "name": "ipython",
    "version": 3
   },
   "file_extension": ".py",
   "mimetype": "text/x-python",
   "name": "python",
   "nbconvert_exporter": "python",
   "pygments_lexer": "ipython3",
   "version": "3.8.0"
  },
  "orig_nbformat": 4
 },
 "nbformat": 4,
 "nbformat_minor": 2
}
