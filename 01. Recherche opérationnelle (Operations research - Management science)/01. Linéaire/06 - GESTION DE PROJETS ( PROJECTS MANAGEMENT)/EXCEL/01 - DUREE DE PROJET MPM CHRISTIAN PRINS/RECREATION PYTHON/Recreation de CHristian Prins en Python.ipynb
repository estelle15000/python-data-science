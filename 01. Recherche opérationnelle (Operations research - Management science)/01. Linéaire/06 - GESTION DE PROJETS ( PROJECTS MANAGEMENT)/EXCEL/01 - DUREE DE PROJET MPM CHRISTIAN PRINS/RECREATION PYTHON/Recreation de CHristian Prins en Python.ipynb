{
 "cells": [
  {
   "attachments": {},
   "cell_type": "markdown",
   "metadata": {},
   "source": [
    "# Minimiser le temps de réalisation d'un projet\n",
    "\n",
    "Objectif : Minimiser le temps total d'exécution d'un projet. ( Makespan)\n",
    "\n",
    "Source : Optimisations avec Excel de Eyrolles, de Christian Prins et Marc Sevaux.\n",
    "\n",
    "Recréation du problème de Excel à python MIP  par estelle derrien et vérification si les résultats sont identiques.\n",
    "\n",
    "Lien : \n",
    "https://docs.python-mip.com/en/latest/examples.html"
   ]
  },
  {
   "attachments": {},
   "cell_type": "markdown",
   "metadata": {},
   "source": [
    "Note: le code Python MIP exemple comprends des contraintes en ressources ( C'est un RCPSP). Elles ne sont pas dans l'optimisation de Christian Prins, du coup, il va falloir tenter de les enlever du code Python.\n",
    "\n",
    "CREATION EN COURS !!!!\n",
    "\n",
    "Voici les tâches que Christian Prins avait créé dans son livre:\n",
    "\n",
    "<img src =\"img/taches.jpg\">\n",
    "\n",
    "Voici maintenant l'exemple donné sur le site de Python Mip (Brasil), \n",
    "On voit que cela ressemble dans l'esprit : \n",
    "\n",
    "<img src = \"img/python-mip.png\">"
   ]
  },
  {
   "attachments": {},
   "cell_type": "markdown",
   "metadata": {},
   "source": [
    "## La modélisation mathématique : \n",
    "\n",
    "Celle du livre :\n",
    "<img src = \"img/model1.jpg\">\n",
    "\n",
    "Celle de Python Mip (Avec les contraintes de ressource en plus !): \n",
    "<img src = \"img/model2.png\">"
   ]
  },
  {
   "cell_type": "code",
   "execution_count": 22,
   "metadata": {},
   "outputs": [],
   "source": [
    "# n = Nombre de tâches plus 1 ( Celle de début et celle de fin 'fictives' mais nécessaires, celle de fin est déjà présente dans le fichier excel)\n",
    "# p = Durée de chaque tâches\n",
    "# u = Ressources nécessaires, dans ce problème il n'y en pas besoin.\n",
    "# S = Successeurs\n",
    "\n",
    "from itertools import product\n",
    "from mip import Model, xsum, BINARY\n",
    "\n",
    "# On tente désormais de recréer le problème Excel sous Python :\n",
    "\n",
    "# note there will be exactly 20 jobs (n=18 jobs plus the  2 'dummy' one)\n",
    "n = 18\n",
    "\n",
    "# Durée Taches du pb initial de Python Mip il y en a 10 plus 2 fictives\n",
    "# p = [0, 3, 2, 5, 4, 2, 3, 4, 2, 4, 6, 0]\n",
    "\n",
    "# Là , J'ajoute la durée des tâches comme dans le problème Excel de Christian Prins\n",
    "p = [0, 2, 16, 9, 8, 10, 6, 2, 2, 9, 5, 3, 2, 1,\n",
    "     7, 4, 3, 9, 1, 0]  # J'ai rajouté la tâche dummy au début et à la fin \" fin des travaux d'une durée de 0\"\n",
    "\n",
    "# Dans ce problème, il n'y a pas de contraintes de ressources, on les commente donc.\n",
    "# quantité de ressource r requise pour le traitement de la tâche j\n",
    "# u = [[0, 0], [5, 1], [0, 4], [1, 4], [1, 3], [3, 2], [3, 1], [2, 4],\n",
    "#      [4, 0], [5, 2], [2, 5], [0, 0]]\n",
    "\n",
    "# Capacité de ressource renouvelable r (?)\n",
    "# c = [6, 8]\n",
    "\n",
    "# Ici on voit les successeurs du problème Python MIP, on comprends bien à l'aide du graphe des successeurs.\n",
    "# S = [[0, 1], [0, 2], [0, 3], [1, 4], [1, 5], [2, 9], [2, 10], [3, 8], [4, 6],\n",
    "#     [4, 7], [5, 9], [5, 10], [6, 8], [6, 9], [7, 8], [8, 11], [9, 11], [10, 11]] # successeurs des nodes [node, successeur]\n",
    "\n",
    "# On récrée donc les successeurs de l'exercice de Christian Prins, à la manière de Python Mip:\n",
    "S = [[0, 1],  [1, 2], [2, 3], [2, 4], [2, 14], [3, 5], [4, 6], [4, 7], [4, 9], [4, 10], [4, 15],[5,6],\n",
    "     [6, 8], [6, 9], [6, 11], [6, 11], [7, 13], [8, 16], [9, 12], [11, 16], [12, 17], [14, 15], [14, 16], [17, 18], [18, 19]]\n",
    "\n",
    "# successeurs des nodes [node, successeur] , On enlève les ressources parce qu'il n'y en a pas dans ce problème.\n",
    "# (R, J, T) = (range(len(c)), range(len(p)), range(sum(p)))\n",
    "(J, T) = (range(len(p)), range(sum(p)))\n",
    "\n",
    "model = Model()\n",
    "\n",
    "x = [[model.add_var(name=\"x({},{})\".format(j, t), var_type=BINARY)\n",
    "      for t in T] for j in J]\n",
    "\n",
    "model.objective = xsum(t * x[n + 1][t] for t in T)\n",
    "\n",
    "for j in J:\n",
    "    model += xsum(x[j][t] for t in T) == 1\n",
    "\n",
    "# Ce code concerne les ressources, il est inutile dans ce cas.\n",
    "# for (r, t) in product(R, T):\n",
    "#     model += (\n",
    "#         xsum(u[j][r] * x[j][t2] for j in J for t2 in range(max(0, t - p[j] + 1), t + 1))\n",
    "#         <= c[r])\n",
    "\n",
    "for (j, s) in S:\n",
    "    model += xsum(t * x[s][t] - t * x[j][t] for t in T) >= p[j]\n",
    "\n",
    "\n"
   ]
  },
  {
   "attachments": {},
   "cell_type": "markdown",
   "metadata": {},
   "source": [
    "Maintenant, on va calculer la solution et voir si on trouve comme dans le livre Programmation linéaire \n",
    "de Christian Prins et Marc Sevaux :\n"
   ]
  },
  {
   "cell_type": "code",
   "execution_count": 23,
   "metadata": {},
   "outputs": [
    {
     "name": "stdout",
     "output_type": "stream",
     "text": [
      "Schedule: \n",
      "Job 0: begins at t=0 and finishes at t=0\n",
      "Job 1: begins at t=0 and finishes at t=2\n",
      "Job 2: begins at t=2 and finishes at t=18\n",
      "Job 3: begins at t=18 and finishes at t=27\n",
      "Job 4: begins at t=19 and finishes at t=27\n",
      "Job 5: begins at t=27 and finishes at t=37\n",
      "Job 6: begins at t=37 and finishes at t=43\n",
      "Job 7: begins at t=43 and finishes at t=45\n",
      "Job 8: begins at t=87 and finishes at t=89\n",
      "Job 9: begins at t=43 and finishes at t=52\n",
      "Job 10: begins at t=45 and finishes at t=50\n",
      "Job 11: begins at t=45 and finishes at t=48\n",
      "Job 12: begins at t=52 and finishes at t=54\n",
      "Job 13: begins at t=93 and finishes at t=94\n",
      "Job 14: begins at t=24 and finishes at t=31\n",
      "Job 15: begins at t=43 and finishes at t=47\n",
      "Job 16: begins at t=98 and finishes at t=101\n",
      "Job 17: begins at t=54 and finishes at t=63\n",
      "Job 18: begins at t=63 and finishes at t=64\n",
      "Job 19: begins at t=64 and finishes at t=64\n",
      "Makespan = 64.0\n"
     ]
    }
   ],
   "source": [
    "model.optimize()\n",
    "\n",
    "print(\"Schedule: \")\n",
    "for (j, t) in product(J, T):\n",
    "    if x[j][t].x >= 0.99:\n",
    "        print(\"Job {}: begins at t={} and finishes at t={}\".format(\n",
    "            j, t, t+p[j]))\n",
    "print(\"Makespan = {}\".format(model.objective_value))"
   ]
  },
  {
   "attachments": {},
   "cell_type": "markdown",
   "metadata": {},
   "source": [
    "Hourra ! Le résultat est identique à Excel !\n",
    "<img src = \"img/resultat.jpg\">\n",
    "\n",
    "\n",
    "Vérifions si les temps de départ et de fin des tâches sont identiques ...\n",
    "En vert, on a les débuts et fins de tâches calculées par le solveur Excel , on voit que celles de Python Mip sont différentes, mais le MakeSpan (Temps total du projet) est identique .\n",
    "\n",
    "<img src =\"img/taches.jpg\">\n",
    "\n",
    "Voyons si on peut tracer le graphe des tâches et des arrêtes avec python, afin de mieux visualiser la différence. Dans la mesure ou le Makespan est OK, il n'y a pas de problèmes à ce que les débuts et fins de tâches calculées par le solveur Python Mip divergent de celles calculées par le Solveur Excel.\n",
    "\n",
    "\n"
   ]
  },
  {
   "cell_type": "code",
   "execution_count": null,
   "metadata": {},
   "outputs": [],
   "source": [
    "# On va essayer de tracer le graphe\n",
    "# Import des libs\n",
    "import matplotlib.pyplot as plt\n",
    "import networkx as nx\n",
    "import numpy as np\n",
    "\n"
   ]
  },
  {
   "cell_type": "code",
   "execution_count": null,
   "metadata": {},
   "outputs": [],
   "source": []
  },
  {
   "attachments": {},
   "cell_type": "markdown",
   "metadata": {},
   "source": [
    "Voilà, il ne me reste plus qu'à coder ceci en full stack dans mon app www.solvgraph.com , afin que cela devienne facile comme dans un jeu !"
   ]
  }
 ],
 "metadata": {
  "kernelspec": {
   "display_name": "Python 3",
   "language": "python",
   "name": "python3"
  },
  "language_info": {
   "codemirror_mode": {
    "name": "ipython",
    "version": 3
   },
   "file_extension": ".py",
   "mimetype": "text/x-python",
   "name": "python",
   "nbconvert_exporter": "python",
   "pygments_lexer": "ipython3",
   "version": "3.8.0"
  },
  "orig_nbformat": 4
 },
 "nbformat": 4,
 "nbformat_minor": 2
}
