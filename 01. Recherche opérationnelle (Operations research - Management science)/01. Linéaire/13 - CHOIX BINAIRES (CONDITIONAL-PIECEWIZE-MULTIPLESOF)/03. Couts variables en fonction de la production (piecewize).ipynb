{
 "cells": [
  {
   "attachments": {},
   "cell_type": "markdown",
   "metadata": {},
   "source": [
    "# Coûts variables en fonction de la quantité de production\n",
    "# Programmation linéaire\n",
    "# Piecewize linear constraints.\n",
    "\n",
    "Admettons qu'on a une entreprise qui fabrique 2 objets.\n",
    "\n",
    "Les coûts variables de transport sont de 0.2 euro par objets produits.\n",
    "\n",
    "Mais si on nous en commande plus de 1000, alors les coûts ne sont plus que de 0.1 euros par objets .\n",
    "\n",
    "Le prix devient moins cher car c'est une commande de gros.\n",
    "\n",
    "Ce n'est donc plus des coûts linéaires, mais du \"piecewize linear constraints\".\n",
    "\n",
    "On voudrait maximiser notre profit, en tenant compte de ces coûts variables qui changent en fonction\n",
    "\n",
    "de la quantité de production, dans notre fonction objectif !\n",
    "\n",
    "Comment écrire cela dans un solveur linéaire ?\n",
    "\n",
    "\n",
    "Source: \n",
    "cours \n",
    "\n",
    "https://ocw.mit.edu/courses/15-053-optimization-methods-in-management-science-spring-2013/resources/mit15_053s13_lec11/\n",
    "\n",
    "https://download.aimms.com/aimms/download/manuals/AIMMS3OM_IntegerProgrammingTricks.pdf\n",
    "\n",
    "Problem used: page 492 of \"Operations Research: Applications and Algorithms\" textbook fourth edition by Wayne L. Winston\n",
    "\n",
    "\n",
    "On voit que les coûts , si on tente de les dessiner vont ressembler à ça :\n",
    "\n",
    "<img src =\"img/piecewize.png\"></img>\n",
    "\n",
    "Ce n'est pas linéaire mais ce n'est pas non plus une courbe non linéaire, ça s'appelle donc \"piecewize linear constraints\"\n",
    "car c'est une association de \"lignes\", on n'est donc pas dans le cadre de la programmation non linéaire, mais un cas spécial , qui peut être résolu grâce à une astuce, en restant dans le cadre de la programmation linéaire.\n",
    "\n",
    "Une fois qu'on a tracé nos lignes qui représentent la variation de nos coûts,il faut aussi repérer les  \"break points\" , c'est à dire les points à partir desquelles les droites changent de pente. Ca va servir lors de l'élaboration du code Python ou de l'optimisation avec excel solver.\n",
    "\n",
    "<iframe width=\"560\" height=\"315\" src=\"https://www.youtube.com/embed/0zP74EdmN0w\" title=\"YouTube video player\" frameborder=\"0\" allow=\"accelerometer; autoplay; clipboard-write; encrypted-media; gyroscope; picture-in-picture; web-share\" allowfullscreen></iframe>\n"
   ]
  },
  {
   "cell_type": "code",
   "execution_count": null,
   "metadata": {},
   "outputs": [],
   "source": []
  }
 ],
 "metadata": {
  "kernelspec": {
   "display_name": "Python 3",
   "language": "python",
   "name": "python3"
  },
  "language_info": {
   "codemirror_mode": {
    "name": "ipython",
    "version": 3
   },
   "file_extension": ".py",
   "mimetype": "text/x-python",
   "name": "python",
   "nbconvert_exporter": "python",
   "pygments_lexer": "ipython3",
   "version": "3.8.0"
  },
  "orig_nbformat": 4
 },
 "nbformat": 4,
 "nbformat_minor": 2
}
