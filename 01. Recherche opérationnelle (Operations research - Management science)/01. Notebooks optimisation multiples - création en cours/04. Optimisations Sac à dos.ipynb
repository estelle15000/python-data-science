{
 "cells": [
  {
   "attachments": {},
   "cell_type": "markdown",
   "metadata": {},
   "source": [
    "# Les Optimisations de type \" sac à dos \" et \"bin packing\"\n",
    "\n",
    "## Introduction.\n",
    "Les optimisations de type sac à dos permettent de maximiser la valeur d'un sac en emportant uniquement \n",
    "les objets les plus chers, sous contrainte de poids maximum.\n",
    "Dans la pratique, cela sert à charger des camions ou des cargos judicieusement, afin d'optimiser le profit, cependant, on peut décider d'optimiser un autre paramêtre.\n",
    "On peut par exemple optimiser une équipe de foot en choisissant les joueurs les plus rapides sous contrainte de budget maximum, et bien d'autres.\n",
    "\n",
    "# Variantes\n",
    "\n",
    "- Sac à dos 0-1:\n",
    "On prends un seul objet à la fois pour remplir \n",
    "le sac pour obtenir la plus grande valeur \n",
    "sous contrainte de poids maximum (ou autres param)\n",
    "\n",
    "- Sac à dos illimités:\n",
    "On peut prends autant de fois le même objet qu'on veut. \n",
    "\n",
    "- Sac à dos multiples: \n",
    "On peut prendre plusieurs sacs à dos.\n",
    "\n",
    "- Sac à dos en 2 dimensions:\n",
    "On prends en compte la largeur et la longueur des objets - Idem Bin Packing 2 dimensions.\n",
    "\n",
    "Dans ce notebook, je vais aussi traiter les optimisations de type Bin packing en une dimension, \n",
    "et deux dimensions, car cela se rapproche dans certains cas des problèmes de sac à dos.\n",
    "\n",
    "Etude globale proposée par Estelle Derrien - Github15000\n",
    "\n",
    "CREATION EN COURS\n",
    "\n",
    "L'exemple de base d'une optimisation sac à dos, résolu par mon application www.solvgraph.com en mode graphique:\n",
    "\n",
    "<div style=\"text-align:center\">\n",
    "<img src=\"img/knapsack.png\">\n",
    "</div>\n",
    "\n",
    "\n",
    "\n",
    "- https://machinelearninggeek.com/solving-cargo-loading-problem-using-integer-programming-in-python/"
   ]
  },
  {
   "cell_type": "markdown",
   "metadata": {},
   "source": [
    "# Sommaire\n",
    "\n",
    "- 1. Le Sac à dos en 0-1\n",
    "        - Notre problème de base\n",
    "        - Modélisation mathématique\n",
    "        - Résolution avec Python Pulp\n",
    "- 2. Le sac à dos illimité\n",
    "        - Notre problème de base\n",
    "        - Modélisation mathématique\n",
    "        - Résolution\n",
    "- 3. Le Sac à dos Multiple\n",
    "        - Notre problème de base\n",
    "        - Modélisation mathématique\n",
    "        - Résolution avec Python Pulp\n",
    "- 4. Le sac à dos en 2 dimensions\n",
    "        - Notre problème de base\n",
    "        - Modélisation mathématique\n",
    "        - Exemple\n",
    "- 5.    - Ajout de paramêtres non linéaires\n",
    "- 6. Le Bin packing en une dimension\n",
    "        - Notre problème de base\n",
    "        - Modélisation mathématique\n",
    "        - Résolution avec Python Pulp\n",
    "- 7. Le Bin Packing en deux dimensions\n",
    "        - Notre problème de base\n",
    "        - Modélisation mathématique\n",
    "        - Résolution"
   ]
  },
  {
   "cell_type": "markdown",
   "metadata": {},
   "source": [
    "1. Le sac à dos en 0-1\n",
    "\n"
   ]
  },
  {
   "cell_type": "code",
   "execution_count": null,
   "metadata": {},
   "outputs": [],
   "source": []
  }
 ],
 "metadata": {
  "kernelspec": {
   "display_name": "Python 3",
   "language": "python",
   "name": "python3"
  },
  "language_info": {
   "codemirror_mode": {
    "name": "ipython",
    "version": 3
   },
   "file_extension": ".py",
   "mimetype": "text/x-python",
   "name": "python",
   "nbconvert_exporter": "python",
   "pygments_lexer": "ipython3",
   "version": "3.8.0"
  },
  "orig_nbformat": 4
 },
 "nbformat": 4,
 "nbformat_minor": 2
}
