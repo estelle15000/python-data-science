{
 "cells": [
  {
   "cell_type": "markdown",
   "metadata": {},
   "source": [
    "# Les optimisations en planification.\n",
    "\n",
    "# Introduction"
   ]
  },
  {
   "cell_type": "markdown",
   "metadata": {},
   "source": [
    "# Sommaire\n",
    "\n",
    "- 1. Minimiser le nombre d'embauches d'employés.\n",
    "        - Notre problème de base\n",
    "        - Modélisation mathématique\n",
    "        - Résolution avec Python Pulp\n",
    "- 2. Minimiser le coût de l'embauche d'employés.\n",
    "        - Notre problème de base\n",
    "        - Modélisation mathématique\n",
    "        - Résolution avec Python Pulp\n",
    "- 2. Minimiser le nombre d'employés sur chaque créneaux ( les \"time shifts\" )\n",
    "        - Notre problème de base\n",
    "        - Modélisation mathématique\n",
    "        - Résolution\n",
    "\n",
    "\n",
    "Etude globale proposée par <b>Estelle Derrien - Github Estelle15000</b>"
   ]
  },
  {
   "attachments": {},
   "cell_type": "markdown",
   "metadata": {},
   "source": [
    "En cours de création - Sujet à modifications.\n",
    "\n"
   ]
  },
  {
   "cell_type": "markdown",
   "metadata": {},
   "source": [
    "# 1. Minimiser le nombre d'embauche d'employés.\n",
    "\n",
    "Problème :\n",
    "https://support.microsoft.com/en-gb/office/using-solver-to-schedule-your-workforce-7ae8dd69-7582-4f41-83f1-ea3543398b46"
   ]
  },
  {
   "cell_type": "code",
   "execution_count": 18,
   "metadata": {},
   "outputs": [],
   "source": [
    "# Besoins en employés :\n",
    "# Lundi     : 11\n",
    "# Mardi     : 14\n",
    "# Mercredi  : 23\n",
    "# Jeudi     : 21\n",
    "# Vendredi  : 20\n",
    "# Samedi    : 15\n",
    "# Dimanche  : 8\n",
    "\n",
    "# Contrainte : Chaque employé travaille 5 jours d'affilée suivi de 2 jours de congé.\n",
    "# Combien d'employés faut-il embaucher ?"
   ]
  },
  {
   "cell_type": "markdown",
   "metadata": {},
   "source": [
    "# Modélisation mathématique.\n",
    "\n",
    "Xi = nombre d'employé travaillant le jour i\n",
    "\n",
    "Objectif : Minimiser X0 + X1 + X2 + X3 + X4 + X5 + X6\n",
    "\n",
    "Xi >= 0\n"
   ]
  },
  {
   "cell_type": "code",
   "execution_count": 19,
   "metadata": {},
   "outputs": [
    {
     "name": "stdout",
     "output_type": "stream",
     "text": [
      "staff__0 = 8.0\n",
      "staff__1 = 8.0\n",
      "staff__2 = 5.0\n",
      "staff__3 = 1.0\n",
      "staff__4 = 0.0\n",
      "staff__5 = 1.0\n",
      "staff__6 = 1.0\n",
      "('_C1', 1*staff__0 + 1*staff__3 + 1*staff__4 + 1*staff__5 + 1*staff__6 + -11 >= 0)\n",
      "('_C2', 1*staff__0 + 1*staff__1 + 1*staff__4 + 1*staff__5 + 1*staff__6 + -14 >= 0)\n",
      "('_C3', 1*staff__0 + 1*staff__1 + 1*staff__2 + 1*staff__5 + 1*staff__6 + -23 >= 0)\n",
      "('_C4', 1*staff__0 + 1*staff__1 + 1*staff__2 + 1*staff__3 + 1*staff__6 + -21 >= 0)\n",
      "('_C5', 1*staff__0 + 1*staff__1 + 1*staff__2 + 1*staff__3 + 1*staff__4 + -20 >= 0)\n",
      "('_C6', 1*staff__1 + 1*staff__2 + 1*staff__3 + 1*staff__4 + 1*staff__5 + -15 >= 0)\n",
      "('_C7', 1*staff__2 + 1*staff__3 + 1*staff__4 + 1*staff__5 + 1*staff__6 + -8 >= 0)\n",
      "Nb employés minimisé =  24.0\n",
      "  Name                                         Constraint  Shadow Price  Slack\n",
      "0  _C1  {staff__0: 1, staff__3: 1, staff__4: 1, staff_...           0.0   -0.0\n",
      "1  _C2  {staff__0: 1, staff__1: 1, staff__4: 1, staff_...           0.0   -4.0\n",
      "2  _C3  {staff__0: 1, staff__1: 1, staff__2: 1, staff_...           0.0   -0.0\n",
      "3  _C4  {staff__0: 1, staff__1: 1, staff__2: 1, staff_...           0.0   -2.0\n",
      "4  _C5  {staff__0: 1, staff__1: 1, staff__2: 1, staff_...           0.0   -2.0\n",
      "5  _C6  {staff__1: 1, staff__2: 1, staff__3: 1, staff_...           0.0   -0.0\n",
      "6  _C7  {staff__2: 1, staff__3: 1, staff__4: 1, staff_...           0.0   -0.0\n"
     ]
    }
   ],
   "source": [
    "import pulp as p\n",
    "import pandas as pd\n",
    "\n",
    "# Initialize Class\n",
    "model = p.LpProblem(\"Minimize_Staffing\",p.LpMinimize)\n",
    "days = list(range(7))\n",
    "# Define Decision Variables\n",
    "x = p.LpVariable.dicts('staff_', days,lowBound=0, cat='Integer')\n",
    "# Define Objective\n",
    "model += p.lpSum([x[i] for i in days])\n",
    "# Define Constraints\n",
    "model += x[0] + x[3] + x[4] + x[5] + x[6] >= 11\n",
    "model += x[0] + x[1] + x[4] + x[5] + x[6] >= 14\n",
    "model += x[0] + x[1] + x[2] + x[5] + x[6] >= 23\n",
    "model += x[0] + x[1] + x[2] + x[3] + x[6] >= 21\n",
    "model += x[0] + x[1] + x[2] + x[3] + x[4] >= 20\n",
    "model += x[1] + x[2] + x[3] + x[4] + x[5] >= 15\n",
    "model += x[2] + x[3] + x[4] + x[5] + x[6] >= 8\n",
    "\n",
    "# Résoudre\n",
    "model.solve()\n",
    "# On imprime les variables qui ont leur valeur optimisées\n",
    "for v in model.variables():\n",
    "    print(v.name, \"=\", v.varValue)\n",
    "\n",
    "for v in model.constraints.items():\n",
    "    print(v)\n",
    "\n",
    "# La valeur de la fonction objective optimisée est imprimée à l'écran\n",
    "print(\"Nb employés minimisé = \", p.value(model.objective))\n",
    "# Analyse de sensitivité\n",
    "sensitivity_data = []\n",
    "for name, constraint in model.constraints.items():\n",
    "    sensitivity_data.append({'Name': name,\n",
    "                             'Constraint': constraint,\n",
    "                             'Shadow Price': constraint.pi,\n",
    "                             'Slack': constraint.slack\n",
    "                             })\n",
    "Modeloutput = pd.DataFrame(sensitivity_data)\n",
    "print((Modeloutput))"
   ]
  },
  {
   "cell_type": "markdown",
   "metadata": {},
   "source": [
    "# Liens \n",
    "\n",
    "https://machinelearninggeek.com/solving-staff-scheduling-problem-using-linear-programming/"
   ]
  }
 ],
 "metadata": {
  "kernelspec": {
   "display_name": "Python 3",
   "language": "python",
   "name": "python3"
  },
  "language_info": {
   "codemirror_mode": {
    "name": "ipython",
    "version": 3
   },
   "file_extension": ".py",
   "mimetype": "text/x-python",
   "name": "python",
   "nbconvert_exporter": "python",
   "pygments_lexer": "ipython3",
   "version": "3.8.0"
  },
  "orig_nbformat": 4
 },
 "nbformat": 4,
 "nbformat_minor": 2
}
