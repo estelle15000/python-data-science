{
 "cells": [
  {
   "attachments": {},
   "cell_type": "markdown",
   "metadata": {},
   "source": [
    "# Créer des variables de décision rapidement.\n",
    "\n",
    "Dans ce notebook, on va voir comment créer des variables de décision rapidement dans un solveur python (Itérer).\n",
    "\n",
    "1. Méthode de base\n",
    "2. Méthode avec les tableaux\n",
    "3. Méthode avec le dictionnaire Python Pulp\n",
    "4. Créer des contraintes plus rapidement avec les dictionnaires pulp.\n",
    "5. Une astuce pour récupérer les noms des variables de décision.\n",
    "6. Itérer avec le solveur Python Gekko \n",
    "7. Itérer avec le solveur Python Cplex\n",
    "8. Itérer avec le solveur Python Cvxopt\n",
    "\n",
    "Etude fournie par estelle derrien - Github : estelle15000"
   ]
  },
  {
   "attachments": {},
   "cell_type": "markdown",
   "metadata": {},
   "source": [
    "# 1. Méthode de base"
   ]
  },
  {
   "cell_type": "code",
   "execution_count": 7,
   "metadata": {},
   "outputs": [],
   "source": [
    "# La méthode de base :\n",
    "\n",
    "# Import du solveur\n",
    "import pulp as p\n",
    "\n",
    "# On sette le problème\n",
    "Lp_prob = p.LpProblem('Problem', p.LpMaximize)\n",
    "\n",
    "# -----------------------------------\n",
    "# On définit nos variables de décision\n",
    "#\n",
    "# -----------------------------------\n",
    "\n",
    "x = p.LpVariable(\"x\", lowBound=0, cat='Integer')   # Create a variable x >= 0\n",
    "y = p.LpVariable(\"y\", lowBound=0, cat='Integer')   # Create a variable y >= 0\n"
   ]
  },
  {
   "attachments": {},
   "cell_type": "markdown",
   "metadata": {},
   "source": [
    "# 2. Méthode avec les tableaux"
   ]
  },
  {
   "attachments": {},
   "cell_type": "markdown",
   "metadata": {},
   "source": [
    "Dans l'exemple précédent, ca va parce qu'on a que deux variables de décisions, mais qu'en sera-t-il si on en a 100 ?"
   ]
  },
  {
   "cell_type": "code",
   "execution_count": 8,
   "metadata": {},
   "outputs": [
    {
     "name": "stdout",
     "output_type": "stream",
     "text": [
      "usine_1\n"
     ]
    }
   ],
   "source": [
    "# La méthode rapide :\n",
    "\n",
    "import pulp as p\n",
    "\n",
    "Lp_prob = p.LpProblem('Problem', p.LpMaximize)\n",
    "\n",
    "# On crée d'abord le nom de nos variables de décision\n",
    "\n",
    "objets = [\n",
    "    'objet_1',\n",
    "    'objet_2',\n",
    "    'objet_3',\n",
    "    'objet_4',\n",
    "    'objet_5',\n",
    "]\n",
    "\n",
    "# On crée les variables, celles ci seront binaires. En fait, on itère sur le tableau objets et i est l'index.\n",
    "x = {i: p.LpVariable(name=f\"{i}\", lowBound=0, cat='Binary') for i in objets}\n",
    "\n",
    "# Maintenant, on peut acceder aux variables de cette façon : x['objet_1']\n",
    "\n",
    "# On peut ensuite créer un deuxième lot de variables de décision, qui cette fois ci, seront entières.\n",
    "\n",
    "usines = [\n",
    "    'usine_1',\n",
    "    'usine_2',\n",
    "    'usine_3',\n",
    "    'usine_4',\n",
    "]\n",
    "\n",
    "# On crée les variables, celles ci seront entières. En fait, on itère sur le tableau objets et k est l'index.\n",
    "m = {k: p.LpVariable(name=f\"{k}\", lowBound=0, cat='Integer') for k in usines}\n",
    "\n",
    "\n",
    "print(m['usine_1'])\n"
   ]
  },
  {
   "attachments": {},
   "cell_type": "markdown",
   "metadata": {},
   "source": [
    "# 3. Méthode avec le dictionnaire de Python Pulp\n"
   ]
  },
  {
   "cell_type": "code",
   "execution_count": 9,
   "metadata": {},
   "outputs": [],
   "source": [
    "# Import the PuLP lib\n",
    "from pulp import *\n",
    "\n",
    "# Créer le type de problème\n",
    "prob = LpProblem (\"MaximiserProfit\", LpMaximize)\n",
    "\n",
    "# La liste de nos produits\n",
    "produits = [\"automobile\", \"cycle1\",\"cycle2\",\"dragon\",\"nounours\",\"poupee\",\"arc\"]\n",
    "\n",
    "# Ici, on crée nos variable de décision en créant un \"dicts\".\n",
    "x = LpVariable.dicts(\"produits \", produits , 0)\n"
   ]
  },
  {
   "attachments": {},
   "cell_type": "markdown",
   "metadata": {},
   "source": [
    "# 4. Créer des contraintes plus rapidement\n",
    "\n",
    "Dans cet exemple ci-dessous, on crée des contraintes à l'aide de dictionnaires python afin d'<b>itérer</b>, pour aller plus vite.\n",
    "\n",
    "En fait, c'est aussi une association de valeurs à nos variables de décisions, réalisées aux format dictionnaire python, ce qui permet d'écrire plus vite ensuite dans la fonction objectif et dans les contraintes. \n",
    "\n",
    "Mais attention, le nombre de variables de décisions doit correspondre au nombre dans les dictionnaires Python , ici, on a 7 variables de décisions, donc dans les dictionnaires, on retrouve cette taille de 7 variables de décision.\n"
   ]
  },
  {
   "cell_type": "code",
   "execution_count": 10,
   "metadata": {},
   "outputs": [
    {
     "name": "stdout",
     "output_type": "stream",
     "text": [
      "Status: Optimal\n",
      "produits__arc = 2.0\n",
      "produits__automobile = 40.0\n",
      "produits__cycle1 = 2.0\n",
      "produits__cycle2 = 2.0\n",
      "produits__dragon = 2.0\n",
      "produits__nounours = 26.0\n",
      "produits__poupee = 2.0\n",
      "TotalProfit 584.0\n"
     ]
    }
   ],
   "source": [
    "# Import the PuLP lib\n",
    "from pulp import *\n",
    "\n",
    "# Créer le type de problème, ici, on veut maximiser notre profit de notre usine de jouets\n",
    "prob = LpProblem (\"MaximiserProfit\", LpMaximize)\n",
    "\n",
    "# La liste de nos produits ( des jouets), ca va être les variables de décision, \n",
    "# elles pourront prendre une valeur entière, vu que ce sont des objets uniques. \n",
    "# Par exemple , produire 15 automobiles, produire 25 arcs etc ...\n",
    "produits = [\"automobile\", \"cycle1\",\"cycle2\",\"dragon\",\"nounours\",\"poupee\",\"arc\"]\n",
    "\n",
    "# Les bénéfices en EUROS par produits\n",
    "benefices = {\"automobile\": 8, \"cycle1\": 12, \"cycle2\": 14,\"dragon\": 3,\"nounours\":6,\"poupee\":13,\"arc\":12}\n",
    "\n",
    "# Emplois (en kgs)\n",
    "plastique = {\"automobile\": 2, \"cycle1\": 4, \"cycle2\": 5,\"dragon\": 3,\"nounours\":1,\"poupee\":4,\"arc\":2}\n",
    "bois      = {\"automobile\": 1, \"cycle1\": 1, \"cycle2\": 2,\"dragon\": 2,\"nounours\":1,\"poupee\":5,\"arc\":1}\n",
    "acier     = {\"automobile\": 1, \"cycle1\": 2, \"cycle2\": 3,\"dragon\": 3,\"nounours\":2,\"poupee\":2,\"arc\":5}\n",
    "\n",
    "\n",
    "# Les noms de nos ressources\n",
    "ressources = {\"plastique\", \"bois\", \"acier\"}\n",
    "\n",
    "# Les stocks de nos ressources en KG\n",
    "stocks = {\"plastique\": 142, \"bois \": 117, \"acier\": 124}\n",
    "\n",
    "# On crée nos variables, en se basant sur le tableau x ( array en Anglais)\n",
    "# On stipule que ce sont des variables entières, normal, puisque ce sont des jouets (On ne peut pas avoir 1/2 jouet...).\n",
    "x = LpVariable.dicts(\"produits \", produits , lowBound=0, cat='Integer')\n",
    "\n",
    "# La fonction objectif, Maximiser le bénéfice.\n",
    "# Ici, on voit qu'on itère à l'aide de notre tableau produits, sur les bénéfices qui sont contenus dans un \n",
    "# dictionnaire Python. Cette méthode revient souvent sur StackOverflow et en général.\n",
    "prob += lpSum([benefices[i] * x[i] for i in produits ]), \"MaximiserBenefice\" \n",
    "\n",
    "# Nos contraintes.\n",
    "# On respecte notre production sous contrainte de stocks\n",
    "# Ici, n voit qu'on itère à l'aide de notre tableau produits, sur les stocks qui sont contenus dans un \n",
    "# dictionnaire Python. Cette méthode revient souvent sur StackOverflow et en général.\n",
    "prob += lpSum([plastique[i] * x[i] for i in  produits]) <= 142 ,\"MaxPlastique\"\n",
    "prob += lpSum([bois[i]      * x[i] for i in  produits]) <= 117 ,\"MaxBois\"\n",
    "prob += lpSum([acier[i]     * x[i] for i in  produits]) <= 124 ,\"MaxAcier\"\n",
    "\n",
    "# Production minimale par produits pour les clients : 2 unités\n",
    "for p in produits:\n",
    "   prob += x[p] >= 2, f\"min production units for product {p}\"\n",
    "\n",
    "# On écrit aussi le probleme dans un fichier\n",
    "# prob.writeLP ( \"JouetsModel.lp\")\n",
    "\n",
    "# On utilise le solver pulp\n",
    "prob.solve()\n",
    "\n",
    "# On affiche le statut de la solution\n",
    "print (\"Status:\", LpStatus [prob.status])\n",
    "\n",
    "# Afficher l'optimium de chaques variables produits qui s'exprime en unité construites\n",
    "for v in prob.variables ():\n",
    "    print (v.name, \"=\", v.varValue)\n",
    "\n",
    "\n",
    "# Le résultat de la fonctioj objectif est ici :\n",
    "print (\"TotalProfit\", value (prob.objective))\n",
    "  "
   ]
  },
  {
   "attachments": {},
   "cell_type": "markdown",
   "metadata": {},
   "source": [
    "# 5. Une astuce pour récupérer les noms des variables de décision.\n",
    "\n",
    "Dans cet exemple, ci-dessous, on voit que l'auteur écrit directement les caractéristiques des variables de décision dans des dictionnaires python, puis il récupère les noms des variables de décision à l'aide de la commande\n",
    "items = list(sorted(v.keys())).\n",
    "\n",
    "Du coup, ca va encore plus vite pour créer les variables ensuite dans la commande :\n",
    "x = LpVariable.dicts('x', items, lowBound=0, upBound=1, cat=LpInteger)"
   ]
  },
  {
   "cell_type": "code",
   "execution_count": 11,
   "metadata": {},
   "outputs": [],
   "source": [
    "# knapsack-pulp.py\n",
    "\n",
    "from pulp import *\n",
    "\n",
    "v = {'hammer':8, 'wrench':3, 'screwdriver':6, 'towel':11}\n",
    "w = {'hammer':5, 'wrench':7, 'screwdriver':4, 'towel':3}\n",
    "limit = 14\n",
    "items = list(sorted(v.keys()))\n",
    "\n",
    "# Create model\n",
    "m = LpProblem(\"Knapsack\", LpMaximize)\n",
    "\n",
    "# Variables\n",
    "x = LpVariable.dicts('x', items, lowBound=0, upBound=1, cat=LpInteger)"
   ]
  },
  {
   "attachments": {},
   "cell_type": "markdown",
   "metadata": {},
   "source": [
    "# 6. Itérer avec Python Gekko , le  solveur non  linéaire.\n",
    "\n",
    "C'est différent d'avec Pulp .\n",
    "\n",
    "Lien : https://stackoverflow.com/questions/64542594/how-could-constraints-be-dynamically-constructed-in-gekko\n",
    "\n",
    "Voici un exemple de réduction de coût avec une itération dans la contrainte de temps de travail :"
   ]
  },
  {
   "cell_type": "code",
   "execution_count": 12,
   "metadata": {},
   "outputs": [
    {
     "name": "stdout",
     "output_type": "stream",
     "text": [
      "x1 3.9999999998\n",
      "x2 1.8225924919e-09\n",
      "Cost: 400.00000021\n"
     ]
    }
   ],
   "source": [
    "from gekko import GEKKO\n",
    "\n",
    "# stored as list\n",
    "my_vars = ['x1','x2']\n",
    "# stored as dictionaries\n",
    "Cost = {'x1':100,'x2':125}\n",
    "Min = {'x1':0,'x2':0}\n",
    "Max = {'x1':70,'x2':40}\n",
    "Work = {'x1':50,'x2':50}\n",
    "\n",
    "LP = GEKKO(remote=False)\n",
    "\n",
    "\n",
    "va = LP.Array(LP.Var, (len(my_vars)))  # array\n",
    "\n",
    "# Le truc qui diffère , en fait il crée un dictionnaire à l'aide du tableau créé juste avant :\n",
    "vd = {}                                # dictionary\n",
    "for i,xi in enumerate(my_vars):\n",
    "    vd[xi] = va[i]\n",
    "    vd[xi].lower = Min[xi]\n",
    "    vd[xi].upper = Max[xi]\n",
    "\n",
    "\n",
    "# Fonction coût\n",
    "LP.Minimize(LP.sum([Cost[xi]*vd[xi] for xi in my_vars])) \n",
    "\n",
    "\n",
    "# On voit que l'itération fonctionne !\n",
    "LP.Equation(LP.sum([Work[xi]*vd[xi] for xi in my_vars])>=200)\n",
    "\n",
    "\n",
    "LP.solve(disp=False)\n",
    "\n",
    "# On affiche le résultat\n",
    "for xi in my_vars:\n",
    "    print(xi,vd[xi].value[0])\n",
    "print ('Cost: ' + str(LP.options.OBJFCNVAL))"
   ]
  },
  {
   "attachments": {},
   "cell_type": "markdown",
   "metadata": {},
   "source": [
    "# 7. Itérer avec le solveur Python Cplex"
   ]
  }
 ],
 "metadata": {
  "kernelspec": {
   "display_name": "Python 3",
   "language": "python",
   "name": "python3"
  },
  "language_info": {
   "codemirror_mode": {
    "name": "ipython",
    "version": 3
   },
   "file_extension": ".py",
   "mimetype": "text/x-python",
   "name": "python",
   "nbconvert_exporter": "python",
   "pygments_lexer": "ipython3",
   "version": "3.8.0"
  },
  "orig_nbformat": 4
 },
 "nbformat": 4,
 "nbformat_minor": 2
}
