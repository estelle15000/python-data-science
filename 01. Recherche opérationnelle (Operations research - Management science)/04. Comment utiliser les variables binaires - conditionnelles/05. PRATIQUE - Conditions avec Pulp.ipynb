{
 "cells": [
  {
   "attachments": {},
   "cell_type": "markdown",
   "metadata": {},
   "source": [
    "# Recherche opérationnelle\n",
    "# Comment linéariser\n",
    "- Créer des Variables conditionnelles avec PYTHON PULP\n",
    "\n",
    "Liens:\n",
    "\n",
    "https://medium.com/ibm-data-ai/optimization-simply-do-more-with-less-zoo-buses-and-kids-66940178db6\n",
    "https://stackoverflow.com/questions/59850692/how-to-write-a-conditional-constraint-in-pulp"
   ]
  },
  {
   "cell_type": "code",
   "execution_count": 3,
   "metadata": {},
   "outputs": [
    {
     "name": "stdout",
     "output_type": "stream",
     "text": [
      "4560.0\n",
      "Optimal\n",
      "nbBus30 = 2.0\n",
      "nbBus40 = 6.0\n",
      "\n",
      "with if nb buses 40 more than 3  then nbBuses30 more than 7\n",
      "4800.0\n",
      "A = 0.0\n",
      "B = 1.0\n",
      "nbBus30 = 10.0\n",
      "nbBus40 = 0.0\n"
     ]
    }
   ],
   "source": [
    "import pulp\n",
    "\n",
    "\n",
    "bus_problem = pulp.LpProblem(\"bus\", pulp.LpMinimize)\n",
    "\n",
    "nbBus40 = pulp.LpVariable('nbBus40', lowBound=0, cat='Integer')\n",
    "nbBus30 = pulp.LpVariable('nbBus30', lowBound=0, cat='Integer')\n",
    "\n",
    "# Objective function\n",
    "bus_problem += 600 * nbBus40 + 480 * nbBus30, \"cost\"\n",
    "\n",
    "# Constraints\n",
    "bus_problem += 40 * nbBus40 + 30 * nbBus30 >= 300\n",
    "\n",
    "bus_problem.solve()\n",
    "# Print our objective function value\n",
    "print (pulp.value(bus_problem.objective))\n",
    "print(pulp.LpStatus[bus_problem.status])\n",
    "\n",
    "for variable in bus_problem.variables():\n",
    "    print (\"{} = {}\".format(variable.name, variable.varValue))\n",
    "\n",
    "print()\n",
    "print(\"with if nb buses 40 more than 3  then nbBuses30 more than 7\")\n",
    "\n",
    "M=100\n",
    "\n",
    "#if then constraint\n",
    "\n",
    "A = pulp.LpVariable('A', lowBound=0, cat='Binary')\n",
    "B = pulp.LpVariable('B', lowBound=0, cat='Binary')\n",
    "\n",
    "bus_problem += A<=B\n",
    "\n",
    "\n",
    "bus_problem += nbBus40-2<=M*(A)\n",
    "bus_problem +=nbBus40-3>=-M*(1-A)\n",
    "\n",
    "bus_problem +=nbBus30-6<=M*(B)\n",
    "bus_problem +=nbBus30-7>=-M*(1-B)\n",
    "\n",
    "\n",
    "\n",
    "# solve the problem\n",
    "bus_problem.solve()\n",
    " \n",
    "\n",
    "# Print our objective function value\n",
    "print (pulp.value(bus_problem.objective))\n",
    "\n",
    "\n",
    "for v in bus_problem.variables():\n",
    "    print(v.name, \"=\", v.varValue)"
   ]
  },
  {
   "attachments": {},
   "cell_type": "markdown",
   "metadata": {},
   "source": [
    "Le même problème , avec la lib docplex, on voit qu'il entre les contraintes logiques plus facilement."
   ]
  },
  {
   "cell_type": "code",
   "execution_count": 4,
   "metadata": {},
   "outputs": [
    {
     "name": "stdout",
     "output_type": "stream",
     "text": [
      "nbBus40  =  6.0\n",
      "nbBus30  =  2.0\n",
      "\n",
      "with if nb buses 40 more than 3  then nbBuses30 more than 7\n",
      "nbBus40  =  0\n",
      "nbBus30  =  10.0\n"
     ]
    }
   ],
   "source": [
    "from docplex.mp.model import Model\n",
    "\n",
    "mdl = Model(name='buses')\n",
    "nbbus40 = mdl.integer_var(name='nbBus40')\n",
    "nbbus30 = mdl.integer_var(name='nbBus30')\n",
    "mdl.add_constraint(nbbus40*40 + nbbus30*30 >= 300, 'kids')\n",
    "mdl.minimize(nbbus40*500 + nbbus30*400)\n",
    "\n",
    "mdl.solve()\n",
    "\n",
    "for v in mdl.iter_integer_vars():\n",
    "   print(v,\" = \",v.solution_value)\n",
    "\n",
    "print()\n",
    "print(\"with if nb buses 40 more than 3  then nbBuses30 more than 7\")\n",
    "\n",
    "#if then constraint\n",
    "mdl.add_constraint(mdl.if_then(nbbus40>=3,nbbus30>=7))\n",
    "\n",
    "mdl.minimize(nbbus40*500 + nbbus30*400)\n",
    "\n",
    "mdl.solve()\n",
    "\n",
    "\n",
    "\n",
    "for v in mdl.iter_integer_vars():\n",
    "    print(v,\" = \",v.solution_value)"
   ]
  }
 ],
 "metadata": {
  "kernelspec": {
   "display_name": "Python 3",
   "language": "python",
   "name": "python3"
  },
  "language_info": {
   "codemirror_mode": {
    "name": "ipython",
    "version": 3
   },
   "file_extension": ".py",
   "mimetype": "text/x-python",
   "name": "python",
   "nbconvert_exporter": "python",
   "pygments_lexer": "ipython3",
   "version": "3.8.0"
  },
  "orig_nbformat": 4
 },
 "nbformat": 4,
 "nbformat_minor": 2
}
