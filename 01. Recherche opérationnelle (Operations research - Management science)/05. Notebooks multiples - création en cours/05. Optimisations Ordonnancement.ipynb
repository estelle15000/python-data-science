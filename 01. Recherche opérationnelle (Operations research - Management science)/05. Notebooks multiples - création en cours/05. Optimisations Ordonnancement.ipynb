{
 "cells": [
  {
   "cell_type": "markdown",
   "metadata": {},
   "source": [
    "# Les optimisation en ordonnancement.\n",
    "\n",
    "# Introduction.\n",
    "\n",
    "Dans ce notebook, je vais principalement traiter des problèmes d'ordonnancement en usine et en atelier, cependant, on peut transposer les modèles mathématiques à d'autres cas d'utilisation.\n",
    "\n",
    "Les principaux modèles sont ( En Anglais ) :\n",
    "\n",
    "- Machine unique ( Single machine sheduling )\n",
    "- Machines parallèles \n",
    "- Ateliers à cheminement unique (Flow Shop)\n",
    "- Ateliers à cheminements multiples (Job Shop)\n",
    "\n"
   ]
  },
  {
   "attachments": {},
   "cell_type": "markdown",
   "metadata": {},
   "source": [
    "A venir \n",
    "\n",
    "Single machine scheduling\n",
    "Flow Shop\n",
    "Job Shop\n",
    "..."
   ]
  },
  {
   "cell_type": "code",
   "execution_count": null,
   "metadata": {},
   "outputs": [],
   "source": []
  }
 ],
 "metadata": {
  "language_info": {
   "name": "python"
  },
  "orig_nbformat": 4
 },
 "nbformat": 4,
 "nbformat_minor": 2
}
