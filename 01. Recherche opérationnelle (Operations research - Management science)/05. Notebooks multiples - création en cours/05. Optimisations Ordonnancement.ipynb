{
 "cells": [
  {
   "cell_type": "markdown",
   "metadata": {},
   "source": [
    "# Les optimisation en ordonnancement.\n",
    "\n",
    "# Introduction.\n",
    "\n",
    "Dans ce notebook, je vais principalement traiter des problèmes d'ordonnancement en usine et en atelier, cependant, on peut transposer les modèles mathématiques à d'autres cas d'utilisation.\n",
    "\n",
    "Les principaux modèles sont ( En Anglais ) :\n",
    "\n",
    "- Machine unique ( Single machine sheduling )\n",
    "- Machines parallèles \n",
    "- Ateliers à cheminement unique (Flow Shop)\n",
    "- Ateliers à cheminements multiples (Job Shop)\n",
    "\n",
    "Je vais résoudre avec divers solveurs Python.\n",
    "\n",
    "\n",
    "Etude globale proposée par Estelle Derrien - Github15000\n",
    "\n",
    "CREATION EN COURS\n"
   ]
  },
  {
   "cell_type": "markdown",
   "metadata": {},
   "source": [
    "# Sommaire\n",
    "\n",
    "- 2. Machine unique\n",
    "        - Notre problème de base\n",
    "        - Qu'est ce que le \"timespan\"\n",
    "        - Modélisation mathématique\n",
    "        - Résolution avec Python Pulp\n",
    "- 2. Machines parrallèles\n",
    "        - Notre problème de base\n",
    "        - Modélisation mathématique\n",
    "        - Résolution\n",
    "- 3. Ateliers à cheminement unique (Flow Shop)\n",
    "        - Notre problème de base\n",
    "        - Modélisation mathématique\n",
    "        - Résolution avec Python Pulp\n",
    "- 4. Ateliers à cheminements multiples (Job Shop)\n",
    "        - Notre problème de base\n",
    "        - Modélisation mathématique\n",
    "        - Exemple\n"
   ]
  }
 ],
 "metadata": {
  "kernelspec": {
   "display_name": "Python 3",
   "language": "python",
   "name": "python3"
  },
  "language_info": {
   "codemirror_mode": {
    "name": "ipython",
    "version": 3
   },
   "file_extension": ".py",
   "mimetype": "text/x-python",
   "name": "python",
   "nbconvert_exporter": "python",
   "pygments_lexer": "ipython3",
   "version": "3.8.0"
  },
  "orig_nbformat": 4
 },
 "nbformat": 4,
 "nbformat_minor": 2
}
