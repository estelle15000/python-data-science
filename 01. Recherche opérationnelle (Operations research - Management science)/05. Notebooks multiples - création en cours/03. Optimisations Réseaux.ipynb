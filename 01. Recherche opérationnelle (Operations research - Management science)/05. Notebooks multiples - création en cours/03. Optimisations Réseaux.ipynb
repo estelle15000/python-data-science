{
 "cells": [
  {
   "attachments": {},
   "cell_type": "markdown",
   "metadata": {},
   "source": [
    "# Les Optimisations de type réseau\n",
    "\n",
    " Introduction.\n",
    "Les optimisations de type réseaux ont cela en commun qu'elles mettent en jeu \n",
    "des noeuds (nodes) et des arrêtes valuées (arcs).\n",
    "\n",
    "Dans cette étude, je vais tenter, une fois les optimisations classiques abordées,\n",
    "d'étudier la possibilité d'y ajouter des paramêtres non linéaires dans un second temps.\n",
    "\n",
    "Etude globale proposée par Estelle Derrien - Github15000\n",
    " \n",
    "# Sommaire\n",
    "\n",
    "   - 1. Transports (Transportation problem)\n",
    "         - Description\n",
    "         - Modélisation mathématique\n",
    "         - Un exemple avec Python Pulp\n",
    "         - Un exemple avec Cplex et une tâche dummy.\n",
    "   - 2. Transports avec relais (Transshipment problem)\n",
    "         - Description\n",
    "         - Modélisation mathématique\n",
    "         - Un exemple avec Python Pulp\n",
    "         - Un exemple avec Cplex et une tâche dummy.\n",
    "   - 3. Affectation (Assignment problem)\n",
    "         - Description\n",
    "         - Modélisation mathématique\n",
    "         - Exemples avec les solveurs\n",
    "   - 4. Optimisation de production à l'aide d'un modèle de type réseau.\n",
    "         - Description\n",
    "         - Modélisation mathématique\n",
    "         - Exemples avec les solveurs\n",
    "   - 5. Plus court chemin (Shortest path problem)\n",
    "         - Description\n",
    "         - Modélisation mathématique\n",
    "         - Exemples avec les solveurs\n",
    "   - 6. Problème de Flots (Flow)\n",
    "         - Description Flots maximum et Flots minimum\n",
    "         - Modélisation mathématique\n",
    "         - Exemples avec les solveurs\n",
    "   - 7. Optimisation financière à l'aide d'un modèle de type réseau.\n",
    "         - Description\n",
    "         - Modélisation mathématique\n",
    "         - Exemples avec les solveurs\n",
    "\n",
    "## Sources \n",
    "\n",
    "Les livres suivants : \n",
    " \n",
    "- Operations research de Hillier\n",
    "- Operations Management de R Russel\n",
    "- Optimizations modeling with spreadsheets de R. Baker\n",
    "\n"
   ]
  },
  {
   "attachments": {},
   "cell_type": "markdown",
   "metadata": {},
   "source": [
    "# Transports (Transportation problem)\n",
    "\n",
    "Le Problème générique de base :\n",
    "On a n usines qui produisent un seul objet, on a m magasins, le coût de transport est différent pour chaque routes, les usines fournissent un nombre d'objets maximum, les magasins ont un besoin de stock minimum.\n",
    "Comment minimiser le côut global de transport ?"
   ]
  },
  {
   "attachments": {},
   "cell_type": "markdown",
   "metadata": {},
   "source": [
    "## Modélisation Maths"
   ]
  },
  {
   "attachments": {},
   "cell_type": "markdown",
   "metadata": {},
   "source": [
    "$$\n",
    "\\begin{matrix}\n",
    "c_{ij} & = & \\text{coût de transport de usine j à magasin i} \\\\\n",
    "x_{ij} & = &\\text{l'usine j est en liaison avec magasin i} \\\\\n",
    "\n",
    "\\end{matrix}\n",
    "$$\n",
    "\n"
   ]
  },
  {
   "attachments": {},
   "cell_type": "markdown",
   "metadata": {},
   "source": [
    "$$\n",
    "\\begin{matrix}\n",
    "\\underset{x}{\\text{min }} & \\sum_{i = 1}^{n}\\sum_{j = 1}^{m} c_{ij} x_{ij}  \\\\ \n",
    "& \\\\\n",
    "\\text{s.t. } & \\sum_{j = 1}^{m} x_{ij} = 1 \\\\ \n",
    "\\\\\n",
    "& x_{ij} \\leq d_i w_j  \\\\\n",
    "& x_{ij} \\in \\{ 0,1\\} \\\\\n",
    "\n",
    "\\end{matrix}\n",
    "$$"
   ]
  },
  {
   "attachments": {},
   "cell_type": "markdown",
   "metadata": {},
   "source": [
    "# Un exemple avec Python Pulp\n",
    "\n",
    "j'ai 2 usines A et B, leur capacité de production est 1000 et 4000, j'ai 5 magasins, qui ont une demande de 500,900,1800,200,700. Le côut de chaque route d'une usine vers un magasin est "
   ]
  },
  {
   "cell_type": "code",
   "execution_count": 16,
   "metadata": {},
   "outputs": [],
   "source": [
    "# Magasins      1  2  3  4  5\n",
    "#               2, 4, 5, 2, 1  # A   Usines\n",
    "#               3, 1, 3, 2, 3  # B"
   ]
  },
  {
   "attachments": {},
   "cell_type": "markdown",
   "metadata": {},
   "source": [
    "Quelles livraisons effectuer afin de minimiser le coût global de transport ?"
   ]
  },
  {
   "cell_type": "code",
   "execution_count": 17,
   "metadata": {},
   "outputs": [
    {
     "name": "stdout",
     "output_type": "stream",
     "text": [
      "Status: Optimal\n",
      "Route_A_1 = 300.0\n",
      "Route_A_2 = 0.0\n",
      "Route_A_3 = 0.0\n",
      "Route_A_4 = 0.0\n",
      "Route_A_5 = 700.0\n",
      "Route_B_1 = 200.0\n",
      "Route_B_2 = 900.0\n",
      "Route_B_3 = 1800.0\n",
      "Route_B_4 = 200.0\n",
      "Route_B_5 = 0.0\n",
      "objectiveResult 8600.0\n"
     ]
    }
   ],
   "source": [
    "import pulp as p\n",
    "\n",
    "# Créer la liste de toutes les usines\n",
    "Usines = [\"A\", \"B\"]\n",
    "\n",
    "# Créer un dictionnaire de la capacité de chaque usine\n",
    "capacite = {\"A\": 1000, \"B\": 4000}\n",
    "\n",
    "# Créer la liste de chaque magasin\n",
    "Magasins = [\"1\", \"2\", \"3\", \"4\", \"5\"]\n",
    "\n",
    "# Créer un dictionnaire de la demande de chaque magasin\n",
    "demand = {\n",
    "\"1\": 500,\n",
    "\"2\": 900,\n",
    "\"3\": 1800,\n",
    "\"4\": 200,\n",
    "\"5\": 700,\n",
    "}\n",
    "\n",
    "# Crée rla liste de coûts (matrice) de transports de chaque route d'une usine vers un magasins\n",
    "couts = [  \n",
    "# Magasins   # 1  2  3  4  5\n",
    "        [2, 4, 5, 2, 1],  # A   Usines\n",
    "        [3, 1, 3, 2, 3],  # B\n",
    "     ]\n",
    "  \n",
    "# On transforme les coûts en un dictionnaire - https://stackoverflow.com/questions/44527562/how-to-create-a-3-dimensional-dictionary-from-3-lists-in-python\n",
    "couts = p.makeDict([Usines, Magasins], couts, 0)\n",
    "\n",
    "# On veut minimiser le cout global de transport, on crée notre problème\n",
    "prob = p.LpProblem(\"Distribution_Problem\", p.LpMinimize)\n",
    "\n",
    "# On créer une liste de tuples qui contiennent toutes les routes possibles.\n",
    "# Creates a list of tuples containing all the possible routes for transport\n",
    "Routes = [(w, b) for w in Usines for b in Magasins]\n",
    "\n",
    "# A dictionary called 'Vars' is created to contain the referenced variables(the routes)\n",
    "vars = p.LpVariable.dicts(\"Route\", (Usines, Magasins), 0, None, p.LpInteger)\n",
    "\n",
    "# On ajoute d'abord la fonction objectif.\n",
    "prob += (p.lpSum([vars[w][b] * couts[w][b] for (w, b) in Routes]),\"Somme_de_couts_de_transport\",)\n",
    "\n",
    "# The capacite maximum constraints are added to prob for each capacite node (usines)\n",
    "for w in Usines:\n",
    "    prob += (p.lpSum([vars[w][b] for b in Magasins]) <= capacite[w],\"Somme_des_objets_sortis_de_usine%s\" % w,)\n",
    "\n",
    "# The demand minimum constraints are added to prob for each demand node (magasins)\n",
    "for b in Magasins:\n",
    "    prob += (\n",
    "        p.lpSum([vars[w][b] for w in Usines]) >= demand[b],\"Somme_des_objets_aux_magasins%s\" % b,)\n",
    "\n",
    "\n",
    "# On exécute le solveur\n",
    "prob.solve()\n",
    "\n",
    "# On affiche le statut de la solution\n",
    "print (\"Status:\",p.LpStatus [prob.status])\n",
    "\n",
    "\n",
    "\n",
    "# Afficher l'optimium de chaques variables items qui s'exprime en unité construites\n",
    "for v in prob.variables ():\n",
    "    print (v.name, \"=\", v.varValue)\n",
    "\n",
    "\n",
    "# The optimised objective function value is printed to the screen\n",
    "print (\"objectiveResult\", p.value (prob.objective))\n",
    "\n",
    "\n",
    "    "
   ]
  }
 ],
 "metadata": {
  "kernelspec": {
   "display_name": "Python 3",
   "language": "python",
   "name": "python3"
  },
  "language_info": {
   "codemirror_mode": {
    "name": "ipython",
    "version": 3
   },
   "file_extension": ".py",
   "mimetype": "text/x-python",
   "name": "python",
   "nbconvert_exporter": "python",
   "pygments_lexer": "ipython3",
   "version": "3.8.0"
  },
  "orig_nbformat": 4
 },
 "nbformat": 4,
 "nbformat_minor": 2
}
