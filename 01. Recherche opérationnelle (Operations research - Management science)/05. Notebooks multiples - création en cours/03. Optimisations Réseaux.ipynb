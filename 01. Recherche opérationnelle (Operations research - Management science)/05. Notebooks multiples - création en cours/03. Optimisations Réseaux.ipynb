{
 "cells": [
  {
   "attachments": {},
   "cell_type": "markdown",
   "metadata": {},
   "source": [
    "# Les Optimisations de type réseau\n",
    "\n",
    "## Introduction.\n",
    "Les optimisations de type réseaux ont cela en commun qu'elles mettent en jeu \n",
    "des noeuds (nodes) et des arrêtes valuées (arcs).\n",
    "\n",
    "Dans cette étude, je vais tenter, une fois les optimisations classiques abordées,\n",
    "d'étudier la possibilité d'y ajouter des paramêtres non linéaires dans un second temps.\n",
    "\n",
    "Etude globale proposée par Estelle Derrien - Github15000\n",
    " \n",
    "## Sommaire\n",
    "\n",
    "   - 1. Transports (Transportation problem)\n",
    "         - Description\n",
    "         - Modélisation mathématique\n",
    "         - Un exemple avec Python Pulp\n",
    "         - Un exemple avec Cplex et une tâche dummy.\n",
    "   - 2. Transports avec relais (Transshipment problem)\n",
    "         - Description\n",
    "         - Modélisation mathématique\n",
    "         - Un exemple avec Python Pulp\n",
    "         - Un exemple avec Cplex et une tâche dummy.\n",
    "   - 3. Affectation (Assignment problem)\n",
    "         - Description\n",
    "         - Modélisation mathématique\n",
    "         - Exemples avec les solveurs\n",
    "   - 4. Optimisation de production à l'aide d'un modèle de type réseau.\n",
    "         - Description\n",
    "         - Modélisation mathématique\n",
    "         - Exemples avec les solveurs\n",
    "   - 5. Plus court chemin (Shortest path problem)\n",
    "         - Description\n",
    "         - Modélisation mathématique\n",
    "         - Exemples avec les solveurs\n",
    "   - 6. Problème de Flots (Flow)\n",
    "         - Description Flots maximum et Flots minimum\n",
    "         - Modélisation mathématique\n",
    "         - Exemples avec les solveurs\n",
    "   - 7. Optimisation financière à l'aide d'un modèle de type réseau.\n",
    "         - Description\n",
    "         - Modélisation mathématique\n",
    "         - Exemples avec les solveurs\n",
    "\n",
    "## Sources \n",
    "\n",
    "Les livres suivants : \n",
    " \n",
    "- Operations research de Hillier\n",
    "- Operations Management de R Russel\n",
    "- Optimizations modeling with spreadsheets de R. Baker\n",
    "\n"
   ]
  },
  {
   "attachments": {},
   "cell_type": "markdown",
   "metadata": {},
   "source": [
    "# Transports (Transportation problem)\n",
    "\n",
    "Le Problème de base :\n",
    "On a n usines qui produisent un seul objet, on a m magasins, le coût de transport est différent pour chaque routes, les usines fournissent un nombre d'objets maximum, les magasins ont un besoin de stock minimum.\n",
    "Comment minimiser le côut global de transport ?"
   ]
  },
  {
   "attachments": {},
   "cell_type": "markdown",
   "metadata": {},
   "source": [
    "## Modélisation Maths"
   ]
  },
  {
   "attachments": {},
   "cell_type": "markdown",
   "metadata": {},
   "source": []
  },
  {
   "cell_type": "code",
   "execution_count": null,
   "metadata": {},
   "outputs": [],
   "source": []
  }
 ],
 "metadata": {
  "kernelspec": {
   "display_name": "Python 3",
   "language": "python",
   "name": "python3"
  },
  "language_info": {
   "codemirror_mode": {
    "name": "ipython",
    "version": 3
   },
   "file_extension": ".py",
   "mimetype": "text/x-python",
   "name": "python",
   "nbconvert_exporter": "python",
   "pygments_lexer": "ipython3",
   "version": "3.8.0"
  },
  "orig_nbformat": 4
 },
 "nbformat": 4,
 "nbformat_minor": 2
}
