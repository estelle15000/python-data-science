{
 "cells": [
  {
   "attachments": {},
   "cell_type": "markdown",
   "metadata": {},
   "source": [
    "# Les Optimisations de type réseau\n",
    "\n",
    "## Introduction.\n",
    "Les optimisations de type réseaux ont cela en commun qu'elles mettent en jeu \n",
    "des noeuds (nodes) et des arrêtes valuées (arcs).\n",
    "\n",
    "Dans cette étude, je vais tenter, une fois les optimisations classiques abordées,\n",
    "d'étudier la possibilité d'y ajouter des paramêtres non linéaires.\n",
    "\n",
    "Etude globale proposée par Estelle Derrien - Github15000\n",
    " \n",
    "## Sommaire\n",
    "\n",
    "   - Transports (Transportation problem)\n",
    "      - Un exemple avec Python Pulp\n",
    "      - Un exemple avec Cplex et une tâche dummy.\n",
    "   - Transports avec relais (Transshipment problem)\n",
    "      - Un exemple avec Python Pulp\n",
    "      - Un exemple avec Cplex et une tâche dummy.\n",
    "   - Affectaton (Assignment problem)\n",
    "   - Optimisation de production à l'aide d'un modèle de type réseau.\n",
    "   - Plus court chemin (Shortest path problem)\n",
    "   - Problème de Flots (Flow)\n",
    "      - Flots maximum\n",
    "      - Flots minimum\n",
    "   - Optimisation financière à l'aide d'un modèle de type réseau.\n",
    "\n",
    "## Sources \n",
    "\n",
    "Les livres suivants : \n",
    " \n",
    "- Operations research de Hillier\n",
    "- Operations Management de R Russel\n",
    "- Optimizations modelin with spreadsheets de R. Baker\n"
   ]
  },
  {
   "cell_type": "code",
   "execution_count": null,
   "metadata": {},
   "outputs": [],
   "source": []
  }
 ],
 "metadata": {
  "kernelspec": {
   "display_name": "Python 3",
   "language": "python",
   "name": "python3"
  },
  "language_info": {
   "codemirror_mode": {
    "name": "ipython",
    "version": 3
   },
   "file_extension": ".py",
   "mimetype": "text/x-python",
   "name": "python",
   "nbconvert_exporter": "python",
   "pygments_lexer": "ipython3",
   "version": "3.8.0"
  },
  "orig_nbformat": 4
 },
 "nbformat": 4,
 "nbformat_minor": 2
}
