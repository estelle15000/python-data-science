{
 "cells": [
  {
   "cell_type": "markdown",
   "metadata": {},
   "source": [
    "# Les optimisations en gestion de projet\n",
    "\n",
    "# Introduction \n",
    "Dans certains cas, il s'agit d'optimisations de type Ordonnancement, mais appliqués à la gestion de projet, dans d'autres cas, il peut s'agit d'appliquer un modèle Knapsack afin de maximiser la performance d'une équipe par exemple.\n",
    "\n",
    "Etude globale proposée par Estelle Derrien - Github15000\n",
    "\n",
    "*** CREATION EN COURS ***\n"
   ]
  },
  {
   "cell_type": "markdown",
   "metadata": {},
   "source": [
    "# Sommaire\n",
    "\n",
    "- 1. Ordonnancement de projet\n",
    "        - Notre problème de base\n",
    "        - Modélisation mathématique\n",
    "        - Résolution avec les solveurs\n",
    "             - Solveur Cplex\n",
    "             - Solveur Python Mip\n",
    "             - Solveur Pulp\n",
    "- 2. Création d'équipes\n",
    "        - Notre problème de base\n",
    "        - Modélisation mathématique\n",
    "        - Résolution\n"
   ]
  },
  {
   "cell_type": "markdown",
   "metadata": {},
   "source": [
    "# 1. Ordonnancement de projet\n",
    "\n",
    "# Introduction \n",
    "\n",
    "Pour notre projet, on a n tâches, qui ont m prédecesseurs .\n",
    "Il faut minimiser le temps global d'exécution du projet. \n",
    "\n",
    "# Notre problème de base .\n",
    "\n"
   ]
  },
  {
   "cell_type": "markdown",
   "metadata": {},
   "source": [
    "# Modélisation mathématique\n",
    "\n",
    "A venir !"
   ]
  },
  {
   "cell_type": "markdown",
   "metadata": {},
   "source": [
    "# Résolution avec Python Cplex\n",
    "\n",
    "Ici, on se base sur la bonne documentation suivante : https://ibmdecisionoptimization.github.io/tutorials/html/Scheduling_Tutorial.html#Chapter-2.-Modeling-and-solving-a-simple-problem:-house-building\n",
    "\n",
    "Le solveur donne donc l'ordonnancement des travaux, pour minimiser le temps total d'exécution, en tenant compte des prédécesseurs."
   ]
  },
  {
   "cell_type": "code",
   "execution_count": 17,
   "metadata": {},
   "outputs": [
    {
     "name": "stdout",
     "output_type": "stream",
     "text": [
      "\n",
      "Solving model....\n",
      " ! --------------------------------------------------- CP Optimizer 22.1.0.0 --\n",
      " ! Satisfiability problem - 10 variables, 14 constraints\n",
      " ! TimeLimit            = 10\n",
      " ! Initial process time : 0.01s (0.01s extraction + 0.00s propagation)\n",
      " !  . Log search space  : 33.2 (before), 33.2 (after)\n",
      " !  . Memory usage      : 302.7 kB (before), 302.7 kB (after)\n",
      " ! Using parallel search with 8 workers.\n",
      " ! ----------------------------------------------------------------------------\n",
      " !               Branches  Non-fixed    W       Branch decision\n",
      " ! Using iterative diving.\n",
      " *                     10  0.01s        1            -\n",
      " ! ----------------------------------------------------------------------------\n",
      " ! Search completed, 1 solution found.\n",
      " ! ----------------------------------------------------------------------------\n",
      " ! Number of branches     : 80\n",
      " ! Number of fails        : 2\n",
      " ! Total memory usage     : 2.6 MB (2.6 MB CP Optimizer + 0.0 MB Concert)\n",
      " ! Time spent in solve    : 0.02s (0.01s engine + 0.01s extraction)\n",
      " ! Search speed (br. / s) : 8000.0\n",
      " ! ----------------------------------------------------------------------------\n",
      "done\n",
      "maconnerie : 0..35\n",
      "charpente : 35..50\n",
      "Plomberie : 35..75\n",
      "fondements : 35..50\n",
      "toiture : 50..55\n",
      "peinture : 50..60\n",
      "fenetres : 55..60\n",
      "Facade : 75..85\n",
      "autres : 85..90\n"
     ]
    },
    {
     "data": {
      "image/png": "[encoded data removed]",
      "text/plain": [
       "<Figure size 1500x300 with 1 Axes>"
      ]
     },
     "metadata": {},
     "output_type": "display_data"
    }
   ],
   "source": [
    "import cplex\n",
    "import docplex.mp\n",
    "from docplex.mp.model import Model\n",
    "from docplex.util.environment import get_environment\n",
    "\n",
    "# On importe ces libs spéciales pour ce type d'optimisations Gestion projet/Schedule\n",
    "import sys\n",
    "from docplex.cp.model import *\n",
    "\n",
    "# On crée notre modèle\n",
    "model = Model(name='minimisation_temps_execution', log_output=True)\n",
    "model = CpoModel()\n",
    "\n",
    "\n",
    "# On crée nos variables de décision\n",
    "maconnerie = model.interval_var(size=35)\n",
    "charpente = model.interval_var(size=15)\n",
    "Plomberie = model.interval_var(size=40)\n",
    "fondements = model.interval_var(size=15)\n",
    "toiture = model.interval_var(size=5)\n",
    "peinture = model.interval_var(size=10)\n",
    "fenetres = model.interval_var(size=5)\n",
    "facade = model.interval_var(size=10)\n",
    "jardin = model.interval_var(size=5)\n",
    "autres = model.interval_var(size=5)\n",
    "\n",
    "# Précédence\n",
    "model.add( model.end_before_start(maconnerie, charpente) )\n",
    "model.add( model.end_before_start(maconnerie, Plomberie) )\n",
    "model.add( model.end_before_start(maconnerie, fondements) )\n",
    "model.add( model.end_before_start(charpente, toiture) )\n",
    "model.add( model.end_before_start(fondements, peinture) )\n",
    "model.add( model.end_before_start(toiture, fenetres) )\n",
    "model.add( model.end_before_start(toiture, facade) )\n",
    "model.add( model.end_before_start(Plomberie, facade) )\n",
    "model.add( model.end_before_start(toiture, jardin) )\n",
    "model.add( model.end_before_start(Plomberie, jardin) )\n",
    "model.add( model.end_before_start(fenetres, autres) )\n",
    "model.add( model.end_before_start(facade, autres) )\n",
    "model.add( model.end_before_start(jardin, autres) )\n",
    "model.add( model.end_before_start(peinture, autres) )\n",
    "\n",
    "# Résoudre\n",
    "print(\"\\nSolving model....\")\n",
    "msol0 = model.solve( TimeLimit=10)\n",
    "print(\"done\")\n",
    "\n",
    "var_sol = msol0.get_var_solution(maconnerie)\n",
    "print(\"maconnerie : {}..{}\".format(var_sol.get_start(), var_sol.get_end()))\n",
    "var_sol = msol0.get_var_solution(charpente)\n",
    "print(\"charpente : {}..{}\".format(var_sol.get_start(), var_sol.get_end()))\n",
    "var_sol = msol0.get_var_solution(Plomberie)\n",
    "print(\"Plomberie : {}..{}\".format(var_sol.get_start(), var_sol.get_end()))\n",
    "var_sol = msol0.get_var_solution(fondements)\n",
    "print(\"fondements : {}..{}\".format(var_sol.get_start(), var_sol.get_end()))\n",
    "var_sol = msol0.get_var_solution(toiture)\n",
    "print(\"toiture : {}..{}\".format(var_sol.get_start(), var_sol.get_end()))\n",
    "var_sol = msol0.get_var_solution(peinture)\n",
    "print(\"peinture : {}..{}\".format(var_sol.get_start(), var_sol.get_end()))\n",
    "var_sol = msol0.get_var_solution(fenetres)\n",
    "print(\"fenetres : {}..{}\".format(var_sol.get_start(), var_sol.get_end()))\n",
    "var_sol = msol0.get_var_solution(facade)\n",
    "print(\"Facade : {}..{}\".format(var_sol.get_start(), var_sol.get_end()))\n",
    "var_sol = msol0.get_var_solution(autres)\n",
    "print(\"autres : {}..{}\".format(var_sol.get_start(), var_sol.get_end()))\n",
    "\n",
    "\n",
    "import docplex.cp.utils_visu as visu\n",
    "import matplotlib.pyplot as plt\n",
    "%matplotlib inline\n",
    "#Change the plot size\n",
    "from pylab import rcParams\n",
    "rcParams['figure.figsize'] = 15, 3\n",
    "\n",
    "wt = msol0.get_var_solution(maconnerie)   \n",
    "visu.interval(wt, 'lightblue', 'maconnerie')   \n",
    "wt = msol0.get_var_solution(charpente)   \n",
    "visu.interval(wt, 'lightblue', 'charpente')\n",
    "wt = msol0.get_var_solution(Plomberie)   \n",
    "visu.interval(wt, 'lightblue', 'Plomberie')\n",
    "wt = msol0.get_var_solution(fondements)   \n",
    "visu.interval(wt, 'lightblue', 'fondements')\n",
    "wt = msol0.get_var_solution(toiture)   \n",
    "visu.interval(wt, 'lightblue', 'toiture')\n",
    "wt = msol0.get_var_solution(peinture)   \n",
    "visu.interval(wt, 'lightblue', 'peinture')\n",
    "wt = msol0.get_var_solution(fenetres)   \n",
    "visu.interval(wt, 'lightblue', 'fenetres')\n",
    "wt = msol0.get_var_solution(facade)   \n",
    "visu.interval(wt, 'lightblue', 'facade')\n",
    "wt = msol0.get_var_solution(autres)   \n",
    "visu.interval(wt, 'lightblue', 'autres')\n",
    "visu.show()\n",
    "\n"
   ]
  }
 ],
 "metadata": {
  "kernelspec": {
   "display_name": "Python 3",
   "language": "python",
   "name": "python3"
  },
  "language_info": {
   "codemirror_mode": {
    "name": "ipython",
    "version": 3
   },
   "file_extension": ".py",
   "mimetype": "text/x-python",
   "name": "python",
   "nbconvert_exporter": "python",
   "pygments_lexer": "ipython3",
   "version": "3.8.0"
  },
  "orig_nbformat": 4
 },
 "nbformat": 4,
 "nbformat_minor": 2
}
