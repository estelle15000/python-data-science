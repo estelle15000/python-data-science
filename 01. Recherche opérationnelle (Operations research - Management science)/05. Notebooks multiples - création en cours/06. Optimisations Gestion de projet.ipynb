{
 "cells": [
  {
   "cell_type": "markdown",
   "metadata": {},
   "source": [
    "# Les optimisations en gestion de projet\n",
    "\n",
    "# Introduction \n",
    "Dans certains cas, il s'agit d'optimisations de type Ordonnancement, mais appliqués à la gestion de projet, dans d'autres cas, il peut s'agit d'appliquer un modèle Knapsack afin de maximiser la performance d'une équipe par exemple.\n",
    "\n",
    "Etude globale proposée par Estelle Derrien - Github15000\n",
    "\n",
    "*** CREATION EN COURS ***\n"
   ]
  },
  {
   "cell_type": "markdown",
   "metadata": {},
   "source": [
    "# Sommaire\n",
    "\n",
    "- 1. Ordonnancement de projet\n",
    "        - Notre problème de base\n",
    "        - Modélisation mathématique\n",
    "        - Résolution avec les solveurs\n",
    "- 2. Création d'équipes\n",
    "        - Notre problème de base\n",
    "        - Modélisation mathématique\n",
    "        - Résolution\n"
   ]
  },
  {
   "cell_type": "code",
   "execution_count": null,
   "metadata": {},
   "outputs": [],
   "source": []
  }
 ],
 "metadata": {
  "kernelspec": {
   "display_name": "Python 3",
   "language": "python",
   "name": "python3"
  },
  "language_info": {
   "codemirror_mode": {
    "name": "ipython",
    "version": 3
   },
   "file_extension": ".py",
   "mimetype": "text/x-python",
   "name": "python",
   "nbconvert_exporter": "python",
   "pygments_lexer": "ipython3",
   "version": "3.8.0"
  },
  "orig_nbformat": 4
 },
 "nbformat": 4,
 "nbformat_minor": 2
}
