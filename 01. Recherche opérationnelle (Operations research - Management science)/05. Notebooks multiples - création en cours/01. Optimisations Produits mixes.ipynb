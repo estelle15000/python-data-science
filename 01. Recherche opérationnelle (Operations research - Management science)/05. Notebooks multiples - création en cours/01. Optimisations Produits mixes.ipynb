{
 "cells": [
  {
   "attachments": {},
   "cell_type": "markdown",
   "metadata": {},
   "source": [
    "# Les Optimisations de mix de produits ( produits mix )\n",
    "\n",
    "## Introduction.\n",
    "\n",
    "\n",
    "Les optimisations de type mix de produits sont les premières abordées en optimisation.\n",
    "\n",
    "Elles permettent d'optimiser la production et le rendement commercial d'une usine ou d'une organisation agricole, et d'éviter en premier ressort des logiques de production aberrantes.\n",
    "\n",
    "Elles permettent à une usine de savoir quels produits il vaut mieux produire dans son éventail de produits, afin de maximiser son profit.\n",
    "\n",
    "\n",
    "Un exemple d'optimisation mixe de produits pour une entreprise de chalets\n",
    "dans mon application www.solvgraph.com :\n",
    "<div style=\"text-align:center\">\n",
    "<img src=\"img/product-mix1.png\">\n",
    "</div>\n",
    "\n",
    "Dans ses versions non linéaires, elles permettent plus de sophistication et permettent de coller à la réalité.\n",
    "\n",
    "Dans cette étude, je vais utiliser plusieurs solveurs, et faire des optimisations linéaires et non \n",
    "linéaires.\n",
    "\n",
    "Etude globale proposée par <b>Estelle Derrien - Github15000</b>\n",
    "\n",
    "CREATION EN COURS\n"
   ]
  },
  {
   "attachments": {},
   "cell_type": "markdown",
   "metadata": {},
   "source": [
    "# Sommaire \n",
    "\n",
    "- 1. Maximisation de profit <b>linéaire.</b>\n",
    "        - Notre problème de base\n",
    "        - Modélisation mathématique\n",
    "        - Solution avec Python Pulp\n",
    "- 3. A quoi sert l'analyse de sensitivité ?\n",
    "- 4. Ajout des coûts fixes et variables.\n",
    "- 5. Forcer la production d'un élément.\n",
    "- 6. Ajout de contraintes binaires/conditionnelles.\n",
    "    - Coûts conditionnels\n",
    "        - avec Pulp\n",
    "        - avec Cplex\n",
    "    - Associations conditionnelles\n",
    "        - avec Pulp\n",
    "        - avec Cplex\n",
    "- 7. Ajout de \"Multiples de\".\n",
    "- 8. Réductions du frais de transport en %\n",
    "        - description\n",
    "        - avec Pulp\n",
    "- 8. Ajout de contraintes de coûts additionels.\n",
    "    - Description\n",
    "    - Solution avec Python Pulp\n",
    "- 9. Ajout de contraintes de coûts discontinues.\n",
    "    - Description\n",
    "    - Solution avec Python Pulp\n",
    "- 10. Ajout de contraintes Piecewize.\n",
    "    - Description\n",
    "    - Solution avec Cplex\n",
    "    - Solution avec Python Pulp\n",
    "    - Création de fonctions piecewize à partir d'une fonction courbe\n",
    "- 11. Réaliser une simulation linéaire de profit avec la loi normale\n",
    "     - Description\n",
    "     - Solution avec Python Pulp\n",
    "- 12. Syntaxe avancée de boucles et listes.\n",
    "     - Exemple : Production agrégée\n",
    "     - Solution avec Python Pulp\n",
    "- 13. Prise en compte des Invendus.\n",
    "     - Description\n",
    "     - Solution avec Python Pulp\n",
    "\n",
    "***************************************************************************   \n",
    "- 13. Maximisation de profit <b>non linéaire</b>\n",
    "    - Notre problème de base\n",
    "    - Modélisation mathématique\n",
    "    - Exemple\n",
    "    - Exemple avec boucles For\n",
    "    - Solution avec Python Gekko\n",
    "        - Sans Boucle For\n",
    "        - Avec Boucle For\n",
    "    - Solution avec Cplex\n",
    "    - Ajout de contraintes binaires\n",
    "    - Ajout de contraintes piecewize\n",
    "\n",
    "\n"
   ]
  },
  {
   "cell_type": "markdown",
   "metadata": {},
   "source": [
    "# Maximisation de profit linéaire "
   ]
  },
  {
   "cell_type": "markdown",
   "metadata": {},
   "source": [
    "# Notre problème de base.\n",
    "\n",
    "- J'ai le choix entre 3 types de vaches pour produire du lait: Charolaises, Blanc Bleuc et salers.\n",
    "\n",
    "- J'ai 600 kgs de nourriture, 700 litres d'eau en stock .\n",
    "\n",
    "- Chaque animal consomme respectivement 7kgs,7kgs,8kgs de nourriture par jour.\n",
    "\n",
    "- Chaque animal consomme respectivement 4.5l,9l et 3l d'eau par jour.\n",
    "\n",
    "- Chaque animal rapporte respectivement 100,110,et 115 euros.\n",
    "\n",
    "Quels animaux faut-il élever afin de maximiser mon profit ?\n",
    "\n"
   ]
  },
  {
   "cell_type": "markdown",
   "metadata": {},
   "source": [
    "# Modélisation Mathématique.\n",
    "\n",
    "- Soit V un ensemble de animaux indicées par i (v1,v2,v3...vi)\n",
    "- Soit Nij la nourriture consommée par chaque animal, c'est une matrice ( ou un tableau).\n",
    "- Soit Eij l'eau consommée par chaque animal, c'est une matrice ( ou un tableau).\n",
    "- Soit Pij le profit rapporté par chaque animal , c'est une matrice ( ou un tableau).\n",
    "- Soit N la quantité de nourriture en stock\n",
    "- Soit E la quantité d'eau en stock\n",
    "\n",
    "\n",
    "Je veux maximiser mon profit  sous les contraintes de nourriture et d'eau.\n",
    "\n",
    "Max  Σ Vi*Pij\n",
    "\n",
    "s.t\n",
    "\n",
    "Σ Nij*Vi <= N , ∀ n  ∈  {n1,n2,n3}\n",
    "\n",
    "Σ Eij*Vi <= E , ∀ e  ∈  {e1,e2,e3}\n",
    "\n"
   ]
  },
  {
   "cell_type": "markdown",
   "metadata": {},
   "source": [
    "# Solution avec Python Pulp\n",
    "\n",
    "Comme on a que 3 animaux, on peut résoudre sans utiliser les boucles FOR, qui paraissent un peu compliquées quand on débute."
   ]
  },
  {
   "cell_type": "code",
   "execution_count": 46,
   "metadata": {},
   "outputs": [
    {
     "name": "stdout",
     "output_type": "stream",
     "text": [
      "blanc_bleu = 72.0\n",
      "charolaise = 0.0\n",
      "salers = 12.0\n",
      "Profit total maximisé =  9300.0\n"
     ]
    }
   ],
   "source": [
    "# Importer la librairie Pulp sous le pseudo p\n",
    "import pulp as p \n",
    "\n",
    "# Créer un programme linéaire de maximisation\n",
    "Mon_Probleme = p.LpProblem('maximisation_de_profit_agricole', p.LpMaximize)  \n",
    "\n",
    "# Créer les variables du problème, \n",
    "# On dit que ce sont des variables entières, car on ne peut pas avoir une demi vache.\n",
    "charolaise = p.LpVariable(\"charolaise\", 0, None, p.LpInteger)   \n",
    "blanc_bleu = p.LpVariable(\"blanc_bleu\", 0, None, p.LpInteger)   \n",
    "salers = p.LpVariable(\"salers\", 0, None, p.LpInteger)  \n",
    "\n",
    "# Ecrire la fonction objectif à maximizer qui nous donne un résultat en Euros \n",
    "Mon_Probleme +=  100 * charolaise + 110 * blanc_bleu + 115 * salers\n",
    "\n",
    "# Les contraintes : \n",
    "\n",
    "# nourriture\n",
    "Mon_Probleme += 7 * charolaise + 7 * blanc_bleu + 8 * salers <= 600\n",
    "\n",
    "# eau\n",
    "Mon_Probleme += 4.5* charolaise + 9 * blanc_bleu + 3 * salers <= 700\n",
    "\n",
    "# Résoudre\n",
    "Mon_Probleme.solve()\n",
    "# On imprime les variables qui ont leur valeur optimisées\n",
    "for v in Mon_Probleme.variables():\n",
    "    print(v.name, \"=\", v.varValue)\n",
    "# La valeur de la fonction objective optimisée est imprimée à l'écran\n",
    "print(\"Profit total maximisé = \", p.value(Mon_Probleme.objective))"
   ]
  },
  {
   "cell_type": "markdown",
   "metadata": {},
   "source": [
    "# A quoi sert l'analyse de sensitivité ?\n",
    "\n",
    "Le meilleur lien pour comprendre :\n",
    "https://www.eit.lth.se/fileadmin/eit/courses/eitn95/2018/Labs_assignments/Sensitivity_Analysis_in_Excel.pdf\n",
    "\n",
    "L'analyse de sensitivité permet de savoir dans quelle mesure on peut changer les paramêtres de la solution apportée.\n",
    "\n",
    "- Les Coûts réduits:\n",
    "\n",
    "Les coûts réduits nous indiquent de combien les coefficients de la fonction objectif (bénéfices unitaires) peuvent être augmentés ou diminués avant que la solution optimale ne change. Exemple : \"Si nous augmentons le profit unitaire des sièges pour enfants avec 20 unités ou plus, la valeur optimale va changer\"\n",
    "\n",
    "- Le shadow price:\n",
    "\n",
    "Le shadow price ou \"prix fictif\" en français nous indique de combien la solution optimale peut être augmentée ou diminuée si nous modifions les ressources disponibles d'une seule unité.\n",
    " ou \n",
    "Le prix fictif mesure la variation de la valeur de la fonction objectif par unité d'augmentation de la limite de la contrainte.\n",
    "\n",
    "- Les slacks:\n",
    "\n",
    "La quantité d'une ressource qui n'est pas utilisée. Permettent de savoir combien de ressources sont \"gaspillées\" ou \"non utilisées\". Lorsque l'on a des contraintes de stock, ces valeurs permettent de savoir la quantité de stock inutilisée.\n"
   ]
  },
  {
   "cell_type": "markdown",
   "metadata": {},
   "source": [
    "# Afficher l'analyse de sensitivité avec Python Pulp\n",
    "\n"
   ]
  },
  {
   "cell_type": "code",
   "execution_count": 47,
   "metadata": {},
   "outputs": [
    {
     "name": "stdout",
     "output_type": "stream",
     "text": [
      "blanc_bleu = 72.0\n",
      "charolaise = 0.0\n",
      "salers = 12.0\n",
      "Profit total maximisé =  9300.0\n",
      "status: 1, Optimal\n",
      "                    Name                                   Constraint  \\\n",
      "0         Contrainte_eau    {charolaise: 7, blanc_bleu: 7, salers: 8}   \n",
      "1  Contrainte_nourriture  {charolaise: 4.5, blanc_bleu: 9, salers: 3}   \n",
      "\n",
      "   Shadow Price  Slack  \n",
      "0          -0.0   -0.0  \n",
      "1          -0.0   16.0  \n"
     ]
    }
   ],
   "source": [
    "# Le bon lien : https://s3.amazonaws.com/assets.datacamp.com/production/course_8835/slides/chapter4.pdf\n",
    "\n",
    "# Importer la librairie Pulp sous le pseudo p\n",
    "import pulp as p \n",
    "import pandas as pd\n",
    "\n",
    "# Créer un programme linéaire de maximisation\n",
    "Mon_Probleme = p.LpProblem('maximisation_de_profit_agricole', p.LpMaximize)  \n",
    "\n",
    "# Créer les variables du problème, \n",
    "# On dit que ce sont des variables entières, car on ne peut pas avoir une demi vache.\n",
    "charolaise = p.LpVariable(\"charolaise\", 0, None, p.LpInteger)   \n",
    "blanc_bleu = p.LpVariable(\"blanc_bleu\", 0, None, p.LpInteger)   \n",
    "salers = p.LpVariable(\"salers\", 0, None, p.LpInteger)  \n",
    "\n",
    "# Ecrire la fonction objectif à maximizer qui nous donne un résultat en Euros \n",
    "# Les coûts réduits sont ici.\n",
    "Mon_Probleme +=  100 * charolaise + 110 * blanc_bleu + 115 * salers\n",
    "\n",
    "# Les contraintes : \n",
    "# Les shadow price sont ici :\n",
    "# nourriture\n",
    "Mon_Probleme += (7 * charolaise + 7 * blanc_bleu + 8 * salers <= 600,\"Contrainte_eau\")\n",
    "\n",
    "# eau\n",
    "Mon_Probleme += (4.5* charolaise + 9 * blanc_bleu + 3 * salers <= 700,\"Contrainte_nourriture\")\n",
    "\n",
    "# Résoudre\n",
    "Mon_Probleme.solve()\n",
    "# On imprime les variables qui ont leur valeur optimisées\n",
    "for v in Mon_Probleme.variables():\n",
    "    print(v.name, \"=\", v.varValue)\n",
    "# La valeur de la fonction objective optimisée est imprimée à l'écran\n",
    "print(\"Profit total maximisé = \", p.value(Mon_Probleme.objective))\n",
    "print(f\"status: {Mon_Probleme.status}, {p.LpStatus[Mon_Probleme.status]}\")\n",
    "\n",
    "# Analyse de sensitivité\n",
    "sensitivity_data = []\n",
    "for name, constraint in Mon_Probleme.constraints.items():\n",
    "    sensitivity_data.append({'Name': name,\n",
    "                             'Constraint': constraint,\n",
    "                             'Shadow Price': constraint.pi,\n",
    "                             'Slack': constraint.slack\n",
    "                             })\n",
    "Modeloutput = pd.DataFrame(sensitivity_data)\n",
    "print((Modeloutput))\n"
   ]
  },
  {
   "cell_type": "markdown",
   "metadata": {},
   "source": [
    "# Un deuxième court exemple montrant le Shadow Price en action.\n",
    "\n",
    "Le Shadow Price nous indique que si on incrémente de 1 la contrainte 1, on va gagner 78.14 euros en plus !\n",
    "En faisant le test, cela fontionne !\n",
    "\n",
    "Auteur : Aaren Stubberfield"
   ]
  },
  {
   "cell_type": "code",
   "execution_count": 48,
   "metadata": {},
   "outputs": [
    {
     "name": "stdout",
     "output_type": "stream",
     "text": [
      "Model Status:Optimal\n",
      "Objective =  5133.333350000001\n",
      "A = 6.6666667\n",
      "B = 4.0\n",
      "C = 0.0\n",
      "  Name               Constraint  Shadow Price     Slack\n",
      "0  _C1       {A: 6, B: 5, C: 8}     78.148148 -0.000000\n",
      "1  _C2  {A: 10.5, B: 20, C: 10}      2.962963 -0.000000\n",
      "2  _C3                   {A: 1}     -0.000000  1.333333\n"
     ]
    }
   ],
   "source": [
    "\n",
    "import pulp as p\n",
    "model = p.LpProblem(\"Max_GlassCo_Profits\",p.LpMaximize)\n",
    "A = p.LpVariable('A', lowBound=0)\n",
    "B = p.LpVariable('B', lowBound=0)\n",
    "C = p.LpVariable('C', lowBound=0)\n",
    "model += 500 * A + 450 * B + 600 * C\n",
    "# Constraint 1\n",
    "model += 6 * A + 5 * B + 8 * C <= 60\n",
    "# Constraint 2\n",
    "model += 10.5 * A + 20 * B + 10 * C <= 150\n",
    "# Constraint 3\n",
    "model += A <= 8\n",
    "# Solve Model\n",
    "model.solve()\n",
    "print(\"Model Status:{}\".format(p.LpStatus[model.status]))\n",
    "print(\"Objective = \", p.value(model.objective))\n",
    "for v in model.variables():\n",
    "    print(v.name, \"=\", v.varValue)\n",
    "# Analyse de sensitivité\n",
    "sensitivity_data = []\n",
    "for name, constraint in model.constraints.items():\n",
    "    sensitivity_data.append({'Name': name,\n",
    "                             'Constraint': constraint,\n",
    "                             'Shadow Price': constraint.pi,\n",
    "                             'Slack': constraint.slack\n",
    "                             })\n",
    "Modeloutput = pd.DataFrame(sensitivity_data)\n",
    "print((Modeloutput))"
   ]
  },
  {
   "cell_type": "markdown",
   "metadata": {},
   "source": [
    "# Ajout des coûts fixes et variables.\n",
    "\n",
    "Mon exploitation a un coût fixe de 1200 euros.\n",
    "Chaque animal implique un coût variable de respectivement 10,12 et 9.5 euros.\n",
    "\n",
    "Je veux inclure ces éléments à la fonction objectif afin qu'elle les prenne en compte lors de l'optimisation.\n",
    "\n",
    "Note:  On est toujours dans le cadre d'un problème linéaire, les coûts variables des animaux est donc proportionnel au nombre d'animaux, chaque animal a un coût fixe directement appliqué, il ne diminue pas ou ne varie pas avec le nombre, si c'était le cas, on serait dans un problème non linéaire."
   ]
  },
  {
   "cell_type": "code",
   "execution_count": 49,
   "metadata": {},
   "outputs": [
    {
     "name": "stdout",
     "output_type": "stream",
     "text": [
      "blanc_bleu = 72.0\n",
      "charolaise = 0.0\n",
      "salers = 12.0\n",
      "Profit total maximisé =  7322.0\n"
     ]
    }
   ],
   "source": [
    "# Importer la librairie Pulp sous le pseudo p\n",
    "import pulp as p \n",
    "\n",
    "# Nos coûts\n",
    "cout_fixe = 1000\n",
    "cout_charolaise = 10\n",
    "cout_blanc_bleu = 12\n",
    "cout_salers = 9.5\n",
    "\n",
    "# Créer un programme linéaire de maximisation\n",
    "Mon_Probleme = p.LpProblem('maximisation_de_profit_agricole', p.LpMaximize)  \n",
    "\n",
    "# Créer les variables du problème \n",
    "charolaise = p.LpVariable(\"charolaise\", 0, None, p.LpInteger)   \n",
    "blanc_bleu = p.LpVariable(\"blanc_bleu\", 0, None, p.LpInteger)   \n",
    "salers = p.LpVariable(\"salers\", 0, None, p.LpInteger)   \n",
    "\n",
    "# Ecrire la fonction objectif à maximizer qui nous donne un résultat en Euros \n",
    "Mon_Probleme +=  ((100 - cout_charolaise)  * charolaise + (110 - cout_blanc_bleu) * blanc_bleu + \n",
    "             (115 - cout_salers) * salers ) - cout_fixe\n",
    "\n",
    "# Les contraintes : \n",
    "\n",
    "# nourriture\n",
    "Mon_Probleme += 7 * charolaise + 7 * blanc_bleu + 8 * salers <= 600\n",
    "\n",
    "# eau\n",
    "Mon_Probleme += 4.5* charolaise + 9 * blanc_bleu + 3 * salers <= 700\n",
    "\n",
    "# Résoudre\n",
    "Mon_Probleme.solve()\n",
    "# On imprime les variables qui ont leur valeur optimisées\n",
    "for v in Mon_Probleme.variables():\n",
    "    print(v.name, \"=\", v.varValue)\n",
    "# La valeur de la fonction objective optimisée est imprimée à l'écran\n",
    "print(\"Profit total maximisé = \", p.value(Mon_Probleme.objective))"
   ]
  },
  {
   "cell_type": "markdown",
   "metadata": {},
   "source": [
    "# Forcer la production d'un élément.\n",
    "\n",
    "On voit dans notre résultat que le solveur nous dit de ne pas produire de charolaises, afin de maximiser notre profit.\n",
    "Mais je veux tout de même avoir 20 Charolaises au minimum dans mon cheptel et 20 salers au minimum, même si cela implique une perte de profit.\n"
   ]
  },
  {
   "cell_type": "code",
   "execution_count": 50,
   "metadata": {},
   "outputs": [
    {
     "name": "stdout",
     "output_type": "stream",
     "text": [
      "blanc_bleu = 36.0\n",
      "charolaise = 20.0\n",
      "salers = 26.0\n",
      "Profit total maximisé =  7071.0\n"
     ]
    }
   ],
   "source": [
    "# Importer la librairie Pulp sous le pseudo p\n",
    "import pulp as p \n",
    "\n",
    "# Nos coûts\n",
    "cout_fixe = 1000\n",
    "cout_charolaise = 10\n",
    "cout_blanc_bleu = 12\n",
    "cout_salers = 9.5\n",
    "\n",
    "# Créer un programme linéaire de maximisation\n",
    "Mon_Probleme = p.LpProblem('maximisation_de_profit_agricole', p.LpMaximize)  \n",
    "\n",
    "# Créer les variables du problème \n",
    "charolaise = p.LpVariable(\"charolaise\", 0, None, p.LpInteger)   \n",
    "blanc_bleu = p.LpVariable(\"blanc_bleu\", 0, None, p.LpInteger)   \n",
    "salers = p.LpVariable(\"salers\", 0, None, p.LpInteger)   \n",
    "\n",
    "# Ecrire la fonction objectif à maximizer qui nous donne un résultat en Euros \n",
    "Mon_Probleme +=  ((100 - cout_charolaise)  * charolaise + (110 - cout_blanc_bleu) * blanc_bleu + \n",
    "             (115 - cout_salers) * salers ) - cout_fixe\n",
    "\n",
    "# Les contraintes : \n",
    "# nourriture\n",
    "Mon_Probleme += 7 * charolaise + 7 * blanc_bleu + 8 * salers <= 600\n",
    "# eau\n",
    "Mon_Probleme += 4.5* charolaise + 9 * blanc_bleu + 3 * salers <= 700\n",
    "\n",
    "# Minimum de 20 charolaises\n",
    "Mon_Probleme += charolaise >= 20\n",
    "\n",
    "# Minimum de 20 salers\n",
    "Mon_Probleme += salers >= 20\n",
    "\n",
    "# Résoudre\n",
    "Mon_Probleme.solve()\n",
    "# On imprime les variables qui ont leur valeur optimisées\n",
    "for v in Mon_Probleme.variables():\n",
    "    print(v.name, \"=\", v.varValue)\n",
    "# La valeur de la fonction objective optimisée est imprimée à l'écran\n",
    "print(\"Profit total maximisé = \", p.value(Mon_Probleme.objective))"
   ]
  },
  {
   "cell_type": "markdown",
   "metadata": {},
   "source": [
    "# Ajout de contrainte conditionnelle. (1)\n",
    "\n",
    "Je veux que si mon cheptel d'animaux de type blanc_bleu dépasse les 30 unités, un coût additionnel de main d'oeuvre de 30 euros soies appliqué."
   ]
  },
  {
   "cell_type": "code",
   "execution_count": 51,
   "metadata": {},
   "outputs": [
    {
     "name": "stdout",
     "output_type": "stream",
     "text": [
      "blanc_bleu = 36.0\n",
      "charolaise = 20.0\n",
      "depassement_blanc_bleu = 1.0\n",
      "salers = 26.0\n",
      "Profit total maximisé =  7041.0\n"
     ]
    }
   ],
   "source": [
    "# Importer la librairie Pulp sous le pseudo p\n",
    "import pulp as p \n",
    "\n",
    "# Nos coûts\n",
    "cout_fixe = 1000\n",
    "cout_charolaise = 10\n",
    "cout_blanc_bleu = 12\n",
    "cout_salers = 9.5\n",
    "\n",
    "# Créer un programme linéaire de maximisation\n",
    "Mon_Probleme = p.LpProblem('maximisation_de_profit_agricole', p.LpMaximize)  \n",
    "\n",
    "# Créer les variables du problème \n",
    "charolaise = p.LpVariable(\"charolaise\", 0, None, p.LpInteger)   \n",
    "blanc_bleu = p.LpVariable(\"blanc_bleu\", 0, None, p.LpInteger)   \n",
    "salers = p.LpVariable(\"salers\", 0, None, p.LpInteger) \n",
    "\n",
    "# Variable binaire On/Off\n",
    "depassement_blanc_bleu =   p.LpVariable(\"depassement_blanc_bleu\", 0, None, p.LpBinary)\n",
    "\n",
    "# Ecrire la fonction objectif à maximizer qui nous donne un résultat en Euros \n",
    "Mon_Probleme +=  ((100 - cout_charolaise)  * charolaise + (110 - cout_blanc_bleu) * \n",
    "             blanc_bleu + (115 - cout_salers) * salers ) - cout_fixe -  30 * depassement_blanc_bleu\n",
    "\n",
    "# Les contraintes : \n",
    "# nourriture\n",
    "Mon_Probleme += 7 * charolaise + 7 * blanc_bleu + 8 * salers <= 600\n",
    "# eau\n",
    "Mon_Probleme += 4.5* charolaise + 9 * blanc_bleu + 3 * salers <= 700\n",
    "# Minimum de 20 charolaises\n",
    "Mon_Probleme += charolaise >= 20\n",
    "# Minimum de 20 salers\n",
    "Mon_Probleme += salers >= 20\n",
    "\n",
    "# La variable binaire\n",
    "# Si mon cheptel de blanc_bleu dépasse 30, alors la variable binaire est à 1 et le\n",
    "# coût de 30 est soustrait de la fonction objectif, attention, c'est pris en compte\n",
    "# en cours d'optimisation.\n",
    "M = 1000  # M se calcule selon une certaine méthode ( BigM)\n",
    "# si blanc_bleu > 30 alors z = 1 s'écrit comme cela avec PULP\n",
    "Mon_Probleme += depassement_blanc_bleu  >= (blanc_bleu - 30 )/M\n",
    "\n",
    "# Résoudre\n",
    "Mon_Probleme.solve()\n",
    "# On imprime les variables qui ont leur valeur optimisées\n",
    "for v in Mon_Probleme.variables():\n",
    "    print(v.name, \"=\", v.varValue)\n",
    "# La valeur de la fonction objective optimisée est imprimée à l'écran\n",
    "print(\"Profit total maximisé = \", p.value(Mon_Probleme.objective))"
   ]
  },
  {
   "cell_type": "markdown",
   "metadata": {},
   "source": [
    "# Ajout de contrainte conditionnelle. (2)\n",
    "\n",
    "Je veux que si mon cheptel d'animaux de type blanc_bleu dépasse les 30 unités, un coût additionnel de main d'oeuvre de 30 euros soies appliqué.\n",
    "Cette fois ci, on résouds avec le solveur <b>Python Cplex</b>, qui permet d'exprimer les contraintes conditionnelles très naturellement ( Mais il est payant..)."
   ]
  },
  {
   "cell_type": "code",
   "execution_count": 52,
   "metadata": {},
   "outputs": [
    {
     "name": "stdout",
     "output_type": "stream",
     "text": [
      "Version identifier: 22.1.0.0 | 2022-03-25 | 54982fbec\n",
      "CPXPARAM_Read_DataCheck                          1\n",
      "CPXPARAM_MIP_Display                             0\n",
      "objective: 7041.000\n",
      "status: OPTIMAL_SOLUTION(2)\n",
      "  \"charolaise\"=20\n",
      "  \"blanc_bleu\"=36\n",
      "  \"salers \"=26\n",
      "  \"depassement_blanc_bleu\"=1\n"
     ]
    }
   ],
   "source": [
    "import cplex\n",
    "import docplex.mp\n",
    "from docplex.mp.model import Model\n",
    "\n",
    "# Nos coûts\n",
    "cout_fixe = 1000\n",
    "cout_charolaise = 10\n",
    "cout_blanc_bleu = 12\n",
    "cout_salers = 9.5\n",
    "\n",
    "# On crée notre modèle\n",
    "model = Model(name='maximisation_de_profit_agricole', log_output=True)\n",
    "\n",
    "# On crée nos variables de décision\n",
    "charolaise = model.integer_var(name='charolaise')\n",
    "blanc_bleu = model.integer_var(name='blanc_bleu')\n",
    "salers = model.integer_var(name='salers ')\n",
    "depassement_blanc_bleu = model.binary_var(name='depassement_blanc_bleu')\n",
    "\n",
    "# On crée la fonction objectif\n",
    "model.maximize(((100 - cout_charolaise)  * charolaise + (110 - cout_blanc_bleu) * \n",
    "             blanc_bleu + (115 - cout_salers) * salers ) - cout_fixe -  30 * depassement_blanc_bleu)\n",
    "\n",
    "# On crée les contraintes\n",
    "model.add_constraint(7 * charolaise + 7 * blanc_bleu + 8 * salers <= 600)\n",
    "model.add_constraint(4.5* charolaise + 9 * blanc_bleu + 3 * salers <= 700)\n",
    "model.add_constraint(charolaise >= 20)\n",
    "model.add_constraint(salers >= 20)\n",
    "\n",
    "\n",
    "# On spécifie le déclencheur de la contrainte depassement_blanc_bleu, \n",
    "# qui dit que si la production de animaux blanc_bleu dépasse 30, \n",
    "# alors le coût de 30 euros est soustrait dans la fonction objectif\n",
    "#if then constraint\n",
    "model.add_constraint(model.if_then(blanc_bleu >= 30, depassement_blanc_bleu == 1))\n",
    "\n",
    "\n",
    "model.parameters.mip.display.set(0)\n",
    "sol_model = model.solve()\n",
    "model.print_solution()\n"
   ]
  },
  {
   "cell_type": "markdown",
   "metadata": {},
   "source": [
    "# Associations conditionnelles (Avec Pulp)\n",
    "\n",
    "Si les animaux de type blancs bleus dépassent 20, alors les animaux salers doivent dépasser 15.\n"
   ]
  },
  {
   "cell_type": "code",
   "execution_count": 53,
   "metadata": {},
   "outputs": [
    {
     "name": "stdout",
     "output_type": "stream",
     "text": [
      "association = 1.0\n",
      "blanc_bleu = 44.0\n",
      "charolaise = 20.0\n",
      "salers = 19.0\n",
      "Profit total maximisé =  7116.5\n"
     ]
    }
   ],
   "source": [
    "# Importer la librairie Pulp sous le pseudo p\n",
    "import pulp as p \n",
    "\n",
    "# Nos coûts\n",
    "cout_fixe = 1000\n",
    "cout_charolaise = 10\n",
    "cout_blanc_bleu = 12\n",
    "cout_salers = 9.5\n",
    "\n",
    "# Créer un programme linéaire de maximisation\n",
    "Mon_Probleme = p.LpProblem('maximisation_de_profit_agricole', p.LpMaximize)  \n",
    "\n",
    "# Créer les variables du problème \n",
    "charolaise = p.LpVariable(\"charolaise\", 0, None, p.LpInteger)   \n",
    "blanc_bleu = p.LpVariable(\"blanc_bleu\", 0, None, p.LpInteger)   \n",
    "salers = p.LpVariable(\"salers\", 0, None, p.LpInteger) \n",
    "\n",
    "# Variable binaire On/Off\n",
    "association =   p.LpVariable(\"association\", 0, None, p.LpBinary)\n",
    "\n",
    "# Ecrire la fonction objectif à maximizer qui nous donne un résultat en Euros \n",
    "Mon_Probleme +=  ((100 - cout_charolaise)  * charolaise + (110 - cout_blanc_bleu) * \n",
    "             blanc_bleu + (115 - cout_salers) * salers ) - cout_fixe \n",
    "\n",
    "# Les contraintes : \n",
    "# nourriture\n",
    "Mon_Probleme += 7 * charolaise + 7 * blanc_bleu + 8 * salers <= 600\n",
    "# eau\n",
    "Mon_Probleme += 4.5* charolaise + 9 * blanc_bleu + 3 * salers <= 700\n",
    "# Minimum de 20 charolaises\n",
    "Mon_Probleme += charolaise >= 20\n",
    "# Si le nobre de blanc_bleu dépasse 20, alors, il  doit y avoir au moins 15 vaches salers\n",
    "Mon_Probleme += salers >= association * 15\n",
    "\n",
    "# Setting de la variable binaire avec la méthode BigM\n",
    "M = 1000  \n",
    "Mon_Probleme += association  >= (blanc_bleu - 20 )/M\n",
    "\n",
    "# Résoudre\n",
    "Mon_Probleme.solve()\n",
    "# On imprime les variables qui ont leur valeur optimisées\n",
    "for v in Mon_Probleme.variables():\n",
    "    print(v.name, \"=\", v.varValue)\n",
    "# La valeur de la fonction objective optimisée est imprimée à l'écran\n",
    "print(\"Profit total maximisé = \", p.value(Mon_Probleme.objective))"
   ]
  },
  {
   "cell_type": "markdown",
   "metadata": {},
   "source": [
    "# Associations conditionnelles (Avec Cplex)\n",
    "\n",
    "Si les animaux de type  blancs bleus dépassent 20, alors les animaux de type salers doivent dépasser 15."
   ]
  },
  {
   "cell_type": "code",
   "execution_count": 54,
   "metadata": {},
   "outputs": [],
   "source": [
    "# A venir ..."
   ]
  },
  {
   "cell_type": "markdown",
   "metadata": {},
   "source": [
    "# Réduction de frais de transport en %\n",
    "\n",
    "Les frais de transport sont de 5 euros par animal moins une réduction de 20% pour x animaux, donc si x = 100, les frais de transport sont de 400.\n",
    "5 * x -  ( 5 * x * 20 / 100)\n",
    "\n",
    "\n",
    "Voyons cela en graphique :"
   ]
  },
  {
   "cell_type": "code",
   "execution_count": 55,
   "metadata": {},
   "outputs": [
    {
     "data": {
      "image/png": "[encoded data removed]",
      "text/plain": [
       "<Figure size 640x480 with 1 Axes>"
      ]
     },
     "metadata": {},
     "output_type": "display_data"
    }
   ],
   "source": [
    "import matplotlib.pyplot as plt\n",
    "import math\n",
    "\n",
    "x_cords = range(0,100)\n",
    "\n",
    "# les frais de transport sont de 5 euros par animal\n",
    "y_lin = [x * 5 for x in x_cords]\n",
    "\n",
    "# les frais de transport sont de 5 euros par objet moins une réduction de 20% pour x\n",
    "y_cords = [ 5 * x -  ( 5 * x * 20 / 100) for x in x_cords] \n",
    "\n",
    "plt.plot(x_cords, y_lin, \"-b\", label=\"transport Port total pour 5 euros par animal\")\n",
    "plt.plot(x_cords, y_cords, label=\"réduction de 20% pour x animaux\")\n",
    "\n",
    "plt.xlabel(\"nombre d'animaux\")\n",
    "plt.ylabel(\"cout du port \")\n",
    "plt.legend(loc=\"upper left\")\n",
    "plt.show()"
   ]
  },
  {
   "cell_type": "code",
   "execution_count": 56,
   "metadata": {},
   "outputs": [
    {
     "name": "stdout",
     "output_type": "stream",
     "text": [
      "blanc_bleu = 0.0\n",
      "charolaise = 85.0\n",
      "salers = 0.0\n",
      "Profit total maximisé =  8160.0\n"
     ]
    }
   ],
   "source": [
    "# Importer la librairie Pulp sous le pseudo p\n",
    "import pulp as p \n",
    "\n",
    "frais_port = 5\n",
    "\n",
    "# Créer un programme linéaire de maximisation\n",
    "Mon_Probleme = p.LpProblem('maximisation_de_profit_agricole', p.LpMaximize)  \n",
    "\n",
    "# Créer les variables du problème, \n",
    "# On dit que ce sont des variables entières, car on ne peut pas avoir une demi vache.\n",
    "charolaise = p.LpVariable(\"charolaise\", 0, None, p.LpInteger)   \n",
    "blanc_bleu = p.LpVariable(\"blanc_bleu\", 0, None, p.LpInteger)   \n",
    "salers = p.LpVariable(\"salers\", 0, None, p.LpInteger)  \n",
    "\n",
    "# Ecrire la fonction objectif à maximizer qui nous donne un résultat en Euros \n",
    "Mon_Probleme +=  (100 * charolaise - (frais_port * charolaise - ( frais_port * charolaise * 20 / 100))) \n",
    "+ ( 110 * blanc_bleu - ( frais_port * blanc_bleu - ( frais_port * blanc_bleu * 20 / 100)))\n",
    "+ ( 115 * salers - (frais_port * salers - ( frais_port * salers * 20 / 100))) \n",
    "\n",
    "# Les contraintes : \n",
    "\n",
    "# nourriture\n",
    "Mon_Probleme += 7 * charolaise + 7 * blanc_bleu + 8 * salers <= 600\n",
    "\n",
    "# eau\n",
    "Mon_Probleme += 4.5* charolaise + 9 * blanc_bleu + 3 * salers <= 700\n",
    "\n",
    "# Résoudre\n",
    "Mon_Probleme.solve()\n",
    "# On imprime les variables qui ont leur valeur optimisées\n",
    "for v in Mon_Probleme.variables():\n",
    "    print(v.name, \"=\", v.varValue)\n",
    "# La valeur de la fonction objective optimisée est imprimée à l'écran\n",
    "print(\"Profit total maximisé = \", p.value(Mon_Probleme.objective))"
   ]
  },
  {
   "cell_type": "markdown",
   "metadata": {},
   "source": [
    "# Ajout de \"multiple de \"\n",
    "\n",
    "On revient sur notre problème de base,\n",
    "\n",
    "On va ajouter une contrainte qui dit que pour tout animal de type Blanc bleu produite, alors il faut produire 2 animaux de type salers."
   ]
  },
  {
   "cell_type": "code",
   "execution_count": 57,
   "metadata": {},
   "outputs": [
    {
     "name": "stdout",
     "output_type": "stream",
     "text": [
      "blanc_bleu = 72.0\n",
      "charolaise = 4.0\n",
      "salers = 8.0\n",
      "Profit total maximisé =  9240.0\n"
     ]
    }
   ],
   "source": [
    "# Importer la librairie Pulp sous le pseudo p\n",
    "import pulp as p \n",
    "\n",
    "# Créer un programme linéaire de maximisation\n",
    "Mon_Probleme = p.LpProblem('maximisation_de_profit_agricole', p.LpMaximize)  \n",
    "\n",
    "# Créer les variables du problème, \n",
    "# On dit que ce sont des variables entières, car on ne peut pas avoir une demi vache.\n",
    "charolaise = p.LpVariable(\"charolaise\", 0, None, p.LpInteger)   \n",
    "blanc_bleu = p.LpVariable(\"blanc_bleu\", 0, None, p.LpInteger)   \n",
    "salers = p.LpVariable(\"salers\", 0, None, p.LpInteger)  \n",
    "\n",
    "# Ecrire la fonction objectif à maximizer qui nous donne un résultat en Euros \n",
    "Mon_Probleme +=  100 * charolaise + 110 * blanc_bleu + 115 * salers\n",
    "\n",
    "# Les contraintes : \n",
    "\n",
    "# nourriture\n",
    "Mon_Probleme += 7 * charolaise + 7 * blanc_bleu + 8 * salers <= 600\n",
    "\n",
    "# eau\n",
    "Mon_Probleme += 4.5* charolaise + 9 * blanc_bleu + 3 * salers <= 700\n",
    "\n",
    "# Contrainte de multiplicité :\n",
    "# 1 charolaise produite, on doit avoir 2 salers\n",
    "Mon_Probleme += charolaise  * 2 == salers\n",
    "\n",
    "# Résoudre\n",
    "Mon_Probleme.solve()\n",
    "# On imprime les variables qui ont leur valeur optimisées\n",
    "for v in Mon_Probleme.variables():\n",
    "    print(v.name, \"=\", v.varValue)\n",
    "# La valeur de la fonction objective optimisée est imprimée à l'écran\n",
    "print(\"Profit total maximisé = \", p.value(Mon_Probleme.objective))"
   ]
  },
  {
   "cell_type": "markdown",
   "metadata": {},
   "source": [
    "# Ajout de contraintes de coûts additives\n",
    "\n",
    "- Si la production d'animal de type blanc_bleu > 0, alors le côut de maintenance est de 20\n",
    "- Si la production d'animal de type > 20, alors le côut de maintenance est de 30 euros supplémentaires \n",
    "- Si la production d'animal de type > 50, alors le côut de maintenance est de 30 euros supplémentaires"
   ]
  },
  {
   "cell_type": "code",
   "execution_count": 58,
   "metadata": {},
   "outputs": [
    {
     "name": "stdout",
     "output_type": "stream",
     "text": [
      "Version identifier: 22.1.0.0 | 2022-03-25 | 54982fbec\n",
      "CPXPARAM_Read_DataCheck                          1\n",
      "CPXPARAM_MIP_Display                             0\n",
      "objective: 9200\n",
      "status: OPTIMAL_SOLUTION(2)\n",
      "  \"blanc_bleu\"=72\n",
      "  \"salers \"=12\n",
      "  \"depassement_0\"=1\n",
      "  \"depassement_20\"=1\n",
      "  \"depassement_50\"=1\n"
     ]
    }
   ],
   "source": [
    "import cplex\n",
    "import docplex.mp\n",
    "from docplex.mp.model import Model\n",
    "from docplex.util.environment import get_environment\n",
    "\n",
    "# On crée notre modèle\n",
    "model = Model(name='maximisation_de_profit_agricole', log_output=True)\n",
    "\n",
    "# On crée nos variables de décision\n",
    "charolaise = model.integer_var(name='charolaise')\n",
    "blanc_bleu = model.integer_var(name='blanc_bleu')\n",
    "salers = model.integer_var(name='salers ')\n",
    "# Les variables binaires\n",
    "depassement_0 = model.binary_var(name='depassement_0')\n",
    "depassement_20 = model.binary_var(name='depassement_20')\n",
    "depassement_50 = model.binary_var(name='depassement_50')\n",
    "\n",
    "# On crée la fonction objectif\n",
    "model.maximize(100 * charolaise + 110 * blanc_bleu + 115 * salers \n",
    "               - depassement_0 * 20 - depassement_20 * 30 - depassement_50 * 50) \n",
    "\n",
    "# On crée les contraintes\n",
    "model.add_constraint(7 * charolaise + 7 * blanc_bleu + 8 * salers <= 600)\n",
    "model.add_constraint(4.5* charolaise + 9 * blanc_bleu + 3 * salers <= 700)\n",
    "\n",
    "\n",
    "# Contraintes de coûts additives\n",
    "# On crée les contraintes binaires qui vont activer ou pas les couts dans la fonction objectif\n",
    "model.add_constraint(model.if_then(blanc_bleu >= 0, depassement_0 == 1))\n",
    "model.add_constraint(model.if_then(blanc_bleu >= 20, depassement_20 == 1))\n",
    "model.add_constraint(model.if_then(blanc_bleu >= 50, depassement_50 == 1))\n",
    "\n",
    "model.parameters.mip.display.set(0)\n",
    "sol_model = model.solve()\n",
    "model.print_solution()"
   ]
  },
  {
   "cell_type": "markdown",
   "metadata": {},
   "source": [
    "# Ajout de contraintes discontinues.\n",
    "\n",
    "# Description :\n",
    "\n",
    "- Si la production d'animal de type blanc_bleu > 0, alors le côut de maintenance est de 20\n",
    "- Si la production d'animal de type blanc_bleu > 20, alors le côut de maintenance est de 30 euros\n",
    "- Si la production d'animal de type blanc_bleu > 50, alors le côut de maintenance est de 50 euros \n",
    "\n",
    "- Note importante :\n",
    "Les coûts sont toujours pris en compte lors de l'optimisation, lorsque le simplexe est exécuté.\n",
    "C'est à dire que le solveur prends en compte les coûts fixes cités plus haut et du coup, risque de choisir moins d'animal de type blanc bleus."
   ]
  },
  {
   "cell_type": "markdown",
   "metadata": {},
   "source": [
    "# Graphique de nos contraintes discontinues.\n"
   ]
  },
  {
   "cell_type": "code",
   "execution_count": 59,
   "metadata": {},
   "outputs": [
    {
     "data": {
      "image/png": "[encoded data removed]",
      "text/plain": [
       "<Figure size 640x480 with 1 Axes>"
      ]
     },
     "metadata": {},
     "output_type": "display_data"
    }
   ],
   "source": [
    "import matplotlib.pyplot as plt\n",
    "plt.plot([0, 19, 20, 49,50,100], [20,20,30, 30, 50 ,50])\n",
    "plt.xlabel('Nombre produits A')\n",
    "plt.ylabel('coût de production en euros')\n",
    "plt.show()"
   ]
  },
  {
   "cell_type": "markdown",
   "metadata": {},
   "source": [
    "# Solution avec Python Cplex"
   ]
  },
  {
   "cell_type": "code",
   "execution_count": 60,
   "metadata": {},
   "outputs": [
    {
     "name": "stdout",
     "output_type": "stream",
     "text": [
      "Version identifier: 22.1.0.0 | 2022-03-25 | 54982fbec\n",
      "CPXPARAM_Read_DataCheck                          1\n",
      "CPXPARAM_MIP_Display                             0\n",
      "objective: 9228.000\n",
      "status: OPTIMAL_SOLUTION(2)\n",
      "  \"blanc_bleu\"=72\n",
      "  \"salers \"=12\n"
     ]
    }
   ],
   "source": [
    "import cplex\n",
    "import docplex.mp\n",
    "from docplex.mp.model import Model\n",
    "from docplex.util.environment import get_environment\n",
    "\n",
    "# On crée notre modèle\n",
    "model = Model(name='maximisation_de_profit_agricole', log_output=True)\n",
    "\n",
    "# On crée nos variables de décision\n",
    "charolaise = model.integer_var(name='charolaise')\n",
    "blanc_bleu = model.integer_var(name='blanc_bleu')\n",
    "salers = model.integer_var(name='salers ')\n",
    "\n",
    "# On définit la fonction piecewize de type discontinue\n",
    "f = model.piecewise(0, [(0, 20), (20, 30), (50, 50)],1)\n",
    "\n",
    "# On crée la fonction objectif\n",
    "# On maximise moins les coûts provenant de la fonction piecewize f(x)\n",
    "model.maximize(100 * charolaise + 110 * blanc_bleu  + 115 * salers - f(blanc_bleu)) \n",
    "\n",
    "# On crée les contraintes\n",
    "model.add_constraint(7 * charolaise + 7 * blanc_bleu + 8 * salers <= 600)\n",
    "model.add_constraint(4.5* charolaise + 9 * blanc_bleu + 3 * salers <= 700)\n",
    "\n",
    "# Résoudre\n",
    "model.parameters.mip.display.set(0)\n",
    "sol_model = model.solve()\n",
    "model.print_solution()"
   ]
  },
  {
   "cell_type": "markdown",
   "metadata": {},
   "source": [
    "# Ajout de contraintes piecewize\n",
    "\n",
    "Les contraintes piecewize permettent de linéariser une fonction côut non linéaire.\n",
    "\n"
   ]
  },
  {
   "cell_type": "markdown",
   "metadata": {},
   "source": [
    "# Solution avec Python Cplex\n",
    "\n",
    "Il existe 2 méthodes, on choisit celle avec les breakpoints. \n",
    "(Voir le lien https://ibmdecisionoptimization.github.io/tutorials/html/Beyond_Linear_Programming.html)\n",
    "\n",
    "Le coût de production est proportionnel au nombre d'animal de type blanc_bleu produit, \n",
    "mais il différe par \"à coups\" selon certains seuils.\n",
    "On décompose cela en fonctions piecewize, et on se sert de Python Cplex pour résoudre et afficher le graphique des fonctions de coût piecewize."
   ]
  },
  {
   "cell_type": "code",
   "execution_count": 61,
   "metadata": {},
   "outputs": [
    {
     "name": "stdout",
     "output_type": "stream",
     "text": [
      "Version identifier: 22.1.0.0 | 2022-03-25 | 54982fbec\n",
      "CPXPARAM_Read_DataCheck                          1\n",
      "CPXPARAM_MIP_Display                             0\n",
      "charolaise  =  0\n",
      "blanc_bleu  =  72.0\n",
      "salers   =  12.0\n",
      "_pwl3  =  52.2\n",
      "solution for: maximisation_de_profit_agricole\n",
      "objective: 9247.8\n",
      "status: OPTIMAL_SOLUTION(2)\n",
      "blanc_bleu=72\n",
      "salers =12\n",
      "\n"
     ]
    },
    {
     "data": {
      "image/png": "[encoded data removed]",
      "text/plain": [
       "<Figure size 640x480 with 1 Axes>"
      ]
     },
     "metadata": {},
     "output_type": "display_data"
    }
   ],
   "source": [
    "import cplex\n",
    "import docplex.mp\n",
    "from docplex.mp.model import Model\n",
    "\n",
    "\n",
    "# On crée notre modèle\n",
    "model = Model(name='maximisation_de_profit_agricole', log_output=True)\n",
    "\n",
    "# On crée nos variables de décision\n",
    "charolaise = model.integer_var(name='charolaise')\n",
    "blanc_bleu = model.integer_var(name='blanc_bleu')\n",
    "salers = model.integer_var(name='salers ')\n",
    "\n",
    "# On crée les fonctions piecewize avec leur breakpoints\n",
    "pwf2 = model.piecewise(preslope=0, breaksxy=[(0, 10), (20, 20), (50, 50)], postslope=0.1)\n",
    "\n",
    "\n",
    "# On crée cette contrainte pour contrôler \n",
    "# si les couts piecewize fonctionnent quand on change la valeur\n",
    "# model.add_constraint(a  <= 1000)\n",
    "\n",
    "# On crée la fonction objectif\n",
    "# On maximise notre profit, moins les couts de type piecewize\n",
    "model.maximize(100 * charolaise + 110 * blanc_bleu  + 115 * salers - pwf2(blanc_bleu)) \n",
    "\n",
    "# On crée les contraintes\n",
    "model.add_constraint(7 * charolaise + 7 * blanc_bleu + 8 * salers <= 600)\n",
    "model.add_constraint(4.5* charolaise + 9 * blanc_bleu + 3 * salers <= 700)\n",
    "\n",
    "model.parameters.mip.display.set(0)\n",
    "model.solve()\n",
    "\n",
    "for v in model.iter_integer_vars():\n",
    "    print(v,\" = \",v.solution_value) \n",
    "\n",
    "for v in model.iter_continuous_vars():\n",
    "    print(v,\" = \",v.solution_value) \n",
    "\n",
    "for v in model.iter_binary_vars():\n",
    "    print(v,\" = \",v.solution_value) \n",
    "\n",
    "print(model.solution)\n",
    "\n",
    "# On dessine les fonctions de couts piecewize\n",
    "pwf2.plot(lx=-1, rx=100, k=1, color='r', marker='o', linewidth=2)"
   ]
  },
  {
   "cell_type": "markdown",
   "metadata": {},
   "source": [
    "#     - Création de fonctions piecewize à partir d'une fonction convexe\n",
    "\n",
    "On regarde cette librairie, pwlf :\n",
    "https://jekel.me/piecewise_linear_fit_py/examples.html#fit-with-known-breakpoint-locations\n",
    "\n",
    "Ceci dépasse le cadre de ce notebook, mais c'est une voie.\n"
   ]
  },
  {
   "cell_type": "code",
   "execution_count": 62,
   "metadata": {},
   "outputs": [
    {
     "data": {
      "image/png": "[encoded data removed]",
      "text/plain": [
       "<Figure size 640x480 with 1 Axes>"
      ]
     },
     "metadata": {},
     "output_type": "display_data"
    }
   ],
   "source": [
    "import numpy as np\n",
    "import matplotlib.pyplot as plt\n",
    "import pwlf\n",
    "\n",
    "# your data\n",
    "y = np.array([0.00000000e+00, 9.69801700e-03, 2.94350340e-02,              4.39052750e-02, 5.45343950e-02, 6.74104940e-02,              8.34831790e-02, 1.02580042e-01, 1.22767939e-01,              1.42172312e-01, 0.00000000e+00, 8.58600000e-06,              8.31543400e-03, 2.34184100e-02, 3.39709150e-02,              4.03581990e-02, 4.53545600e-02, 5.02345260e-02,              5.55253360e-02, 6.14750770e-02, 6.82125120e-02,              7.55892510e-02, 8.38356810e-02, 9.26413070e-02,              1.02039790e-01, 1.11688258e-01, 1.21390666e-01,              1.31196948e-01, 0.00000000e+00, 1.56706510e-02,              3.54628780e-02, 4.63739040e-02, 5.61442590e-02,              6.78542550e-02, 8.16388310e-02, 9.77756110e-02,              1.16531753e-01, 1.37038283e-01, 0.00000000e+00,              1.16951050e-02, 3.12089850e-02, 4.41776550e-02,              5.42877590e-02, 6.63321350e-02, 8.07655920e-02,              9.70363280e-02, 1.15706975e-01, 1.36687642e-01,              0.00000000e+00, 1.50144640e-02, 3.44519970e-02,              4.55907760e-02, 5.59556700e-02, 6.88450940e-02,              8.41374060e-02, 1.01254006e-01, 1.20605073e-01,              1.41881288e-01, 1.62618058e-01])\n",
    "x = np.array([0.00000000e+00, 8.82678000e-03, 3.25615100e-02,              5.66106800e-02, 7.95549800e-02, 1.00936330e-01,              1.20351520e-01, 1.37442010e-01, 1.51858250e-01,              1.64433570e-01, 0.00000000e+00, -2.12600000e-05,              7.03872000e-03, 1.85494500e-02, 3.00926700e-02,              4.17617000e-02, 5.37279600e-02, 6.54941000e-02,              7.68092100e-02, 8.76596300e-02, 9.80525800e-02,              1.07961810e-01, 1.17305210e-01, 1.26063930e-01,              1.34180360e-01, 1.41725010e-01, 1.48629710e-01,              1.55374770e-01, 0.00000000e+00, 1.65610200e-02,              3.91016100e-02, 6.18679400e-02, 8.30997400e-02,              1.02132890e-01, 1.19011260e-01, 1.34620080e-01,              1.49429370e-01, 1.63539960e-01, -0.00000000e+00,              1.01980300e-02, 3.28642800e-02, 5.59461900e-02,              7.81388400e-02, 9.84458400e-02, 1.16270210e-01,              1.31279040e-01, 1.45437090e-01, 1.59627540e-01,              0.00000000e+00, 1.63404300e-02, 4.00086000e-02,              6.34390200e-02, 8.51085900e-02, 1.04787860e-01,              1.22120350e-01, 1.36931660e-01, 1.50958760e-01,              1.65299640e-01, 1.79942720e-01])\n",
    "\n",
    "# your desired line segment end locations\n",
    "x0 = np.array([min(x), 0.039, 0.10, max(x)])\n",
    "\n",
    "# initialize piecewise linear fit with your x and y data\n",
    "my_pwlf = pwlf.PiecewiseLinFit(x, y)\n",
    "\n",
    "# fit the data with the specified break points\n",
    "# (ie the x locations of where the line segments\n",
    "# will terminate)\n",
    "my_pwlf.fit_with_breaks(x0)\n",
    "\n",
    "# predict for the determined points\n",
    "xHat = np.linspace(min(x), max(x), num=10000)\n",
    "yHat = my_pwlf.predict(xHat)\n",
    "\n",
    "# plot the results\n",
    "plt.figure()\n",
    "plt.plot(x, y, 'o')\n",
    "plt.plot(xHat, yHat, '-')\n",
    "plt.show()"
   ]
  },
  {
   "cell_type": "markdown",
   "metadata": {},
   "source": [
    "# 11. Réaliser une simulation de profit avec la loi normale\n",
    "\n",
    "Parfois, les profits ne sont pas trop surs, pour faire une optimisation plus réaliste, qui reste linéaire, on peut utiliser la loi normale. (Crédit : Aaron Stubberfield)\n",
    "\n",
    "On prends en compte les Risques:Les estimations des profits peuvent être inexactes.\n",
    "\n",
    "\n",
    "Lire ce lien de aaron Stubberfield :\n",
    "https://s3.amazonaws.com/assets.datacamp.com/production/course_8835/slides/chapter4.pdf\n",
    "\n",
    "On reprends notre programme linéaire de base et on ajoute l'astuce de la loi normale .\n",
    "Les résultats sont donc différents à chaque fois qu'on recharge le programme, puisque la probabilité est recalculée à chaque fois.\n"
   ]
  },
  {
   "cell_type": "code",
   "execution_count": 63,
   "metadata": {},
   "outputs": [
    {
     "name": "stdout",
     "output_type": "stream",
     "text": [
      "blanc_bleu = 0.0\n",
      "charolaise = 0.0\n",
      "salers = 75.0\n",
      "Profit total maximisé =  10644.712057395038\n",
      "Profits probabilistes: -21.713643280919044 -25.965768041209632 26.929494098600525\n"
     ]
    }
   ],
   "source": [
    "# Importer la librairie Pulp sous le pseudo p\n",
    "import pulp as p \n",
    "import random\n",
    "  \n",
    "# Probabilités\n",
    "a, b, c = random.normalvariate(0,25),random.normalvariate(0,25),random.normalvariate(0,25)\n",
    "\n",
    "# Créer un programme linéaire de maximisation\n",
    "Mon_Probleme = p.LpProblem('maximisation_de_profit_agricole', p.LpMaximize)  \n",
    "\n",
    "# Créer les variables du problème, \n",
    "# On dit que ce sont des variables entières, car on ne peut pas avoir une demi vache.\n",
    "charolaise = p.LpVariable(\"charolaise\", 0, None, p.LpInteger)   \n",
    "blanc_bleu = p.LpVariable(\"blanc_bleu\", 0, None, p.LpInteger)   \n",
    "salers = p.LpVariable(\"salers\", 0, None, p.LpInteger)  \n",
    "\n",
    "# Ecrire la fonction objectif à maximizer qui nous donne un résultat en Euros \n",
    "Mon_Probleme +=  (100+a) * charolaise + (110+b) * blanc_bleu + (115+c) * salers\n",
    "\n",
    "# Les contraintes : \n",
    "\n",
    "# nourriture\n",
    "Mon_Probleme += 7 * charolaise + 7 * blanc_bleu + 8 * salers <= 600\n",
    "\n",
    "# eau\n",
    "Mon_Probleme += 4.5* charolaise + 9 * blanc_bleu + 3 * salers <= 700\n",
    "\n",
    "# Résoudre\n",
    "Mon_Probleme.solve()\n",
    "# On imprime les variables qui ont leur valeur optimisées\n",
    "for v in Mon_Probleme.variables():\n",
    "    print(v.name, \"=\", v.varValue)\n",
    "# La valeur de la fonction objective optimisée est imprimée à l'écran\n",
    "print(\"Profit total maximisé = \", p.value(Mon_Probleme.objective))\n",
    "\n",
    "print(\"Profits probabilistes:\",a,b,c)"
   ]
  },
  {
   "cell_type": "markdown",
   "metadata": {},
   "source": [
    "- 12. Syntaxe avancée de boucles et listes.\n",
    "\n",
    "La syntaxe des problèmes linéaire peut être organisée différemment, voici l'exemple de la production agrégée de Aaon Stubberfield .\n",
    "Ceci peut faciliter les choses dans le cas ou l'on importe ces données à partir d'une base de données, il est plus facile de les placer dans un tableau.\n"
   ]
  },
  {
   "cell_type": "code",
   "execution_count": 64,
   "metadata": {},
   "outputs": [
    {
     "name": "stdout",
     "output_type": "stream",
     "text": [
      "{('A', 0): prod_('A',_0), ('A', 1): prod_('A',_1), ('A', 2): prod_('A',_2), ('B', 0): prod_('B',_0), ('B', 1): prod_('B',_1), ('B', 2): prod_('B',_2)}\n",
      "prod_('A',_0) = 5.0\n",
      "prod_('A',_1) = 0.0\n",
      "prod_('A',_2) = 0.0\n",
      "prod_('B',_0) = 8.0\n",
      "prod_('B',_1) = 7.0\n",
      "prod_('B',_2) = 6.0\n",
      "Coût total =  422.0\n"
     ]
    }
   ],
   "source": [
    "from pulp import *\n",
    "demand = {'A':[5,0,0],'B':[8,7,6]}\n",
    "costs = {'A':[20,17,18],'B':[15,16,15]}\n",
    "# On crée le problème\n",
    "model = LpProblem(\"Aggregate_Production_Planning\",LpMinimize)\n",
    "# On définit les variables\n",
    "time = [0, 1, 2]\n",
    "prod = ['A','B']\n",
    "# On crée un dictionnaire de toutes les variables de décision de productions possibles et leur temps\n",
    "X = LpVariable.dicts(\"prod\", [(p, t) for p in prod for t in time],lowBound=0, cat=\"Integer\")\n",
    "print(X)\n",
    "# On crée la fonction objectif : minimiser les coûts\n",
    "model += lpSum([costs[p][t] * X[(p, t)] for p in prod for t in time])\n",
    "# On définit la contrainte que la production >= demande\n",
    "for p in prod:\n",
    "    for t in time:\n",
    "        model += X[(p, t)] >= demand[p][t] \n",
    "# Résoudre\n",
    "model.solve()\n",
    "# On imprime les variables qui ont leur valeur optimisées\n",
    "for v in model.variables():\n",
    "    print(v.name, \"=\", v.varValue)\n",
    "# La valeur de la fonction objective optimisée est imprimée à l'écran\n",
    "print(\"Coût total = \", value(model.objective))"
   ]
  }
 ],
 "metadata": {
  "kernelspec": {
   "display_name": "Python 3",
   "language": "python",
   "name": "python3"
  },
  "language_info": {
   "codemirror_mode": {
    "name": "ipython",
    "version": 3
   },
   "file_extension": ".py",
   "mimetype": "text/x-python",
   "name": "python",
   "nbconvert_exporter": "python",
   "pygments_lexer": "ipython3",
   "version": "3.8.0"
  },
  "orig_nbformat": 4
 },
 "nbformat": 4,
 "nbformat_minor": 2
}
