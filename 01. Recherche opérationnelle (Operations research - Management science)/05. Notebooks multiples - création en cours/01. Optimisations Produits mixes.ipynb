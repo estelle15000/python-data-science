{
 "cells": [
  {
   "attachments": {},
   "cell_type": "markdown",
   "metadata": {},
   "source": [
    "# Les Optimisations de mix de produits ( produits mix )\n",
    "\n",
    "## Introduction.\n",
    "\n",
    "\n",
    "Les optimisations de type mix de produits sont les premières abordées en optimisation.\n",
    "\n",
    "Elles permettent d'optimiser la production et le rendement commercial d'une usine ou d'une organisation agricole, et d'éviter en premier ressort des logiques de production aberrantes.\n",
    "\n",
    "Elles permettent à une usine de savoir quels produits il vaut mieux produire dans son éventail de produits, afin de maximiser son profit.\n",
    "\n",
    "\n",
    "Un exemple d'optimisation mixe de produits pour une organisation agricole \n",
    "dans mon application www.solvgraph.com :\n",
    "<div style=\"text-align:center\">\n",
    "<img src=\"img/product-mix1.png\">\n",
    "</div>\n",
    "\n",
    "Dans ses versions non linéaires, elles permettent plus de sophistication et permettent de coller à la réalité.\n",
    "\n",
    "Dans cette étude, je vais utiliser plusieurs solveurs, et faire des optimisations linéaires et non \n",
    "linéaires.\n",
    "\n",
    "Etude globale proposée par <b>Estelle Derrien - Github15000</b>\n",
    "\n",
    "CREATION EN COURS\n"
   ]
  },
  {
   "attachments": {},
   "cell_type": "markdown",
   "metadata": {},
   "source": [
    "# Sommaire \n",
    "\n",
    "- 1. Maximisation de profit <b>linéaire.</b>\n",
    "        - Notre problème de base\n",
    "        - Modélisation mathématique\n",
    "        - Résolution avec Python Pulp\n",
    "- 3. A quoi sert l'analyse de sensitivité ?\n",
    "- 4. Ajout des coûts fixes et variables.\n",
    "- 5. Forcer la production d'un élément.\n",
    "- 6. Ajout de contraintes binaires/conditionnelles.\n",
    "    - Coûts conditionnels\n",
    "        - avec Pulp\n",
    "        - avec Cplex\n",
    "    - Associations conditionnelles\n",
    "        - avec Pulp\n",
    "        - avec Cplex\n",
    "- 7. Ajout de \"Multiples de\".\n",
    "- 8. Ajout de contraintes de coûts additionels.\n",
    "    - Description\n",
    "    - Résolution avec Python Pulp\n",
    "- 9. Ajout de contraintes de coûts discontinues.\n",
    "    - Description\n",
    "    - Résolution avec Python Pulp\n",
    "- 10. Ajout de contraintes Piecewize.\n",
    "    - Description\n",
    "    - Résolution avec Cplex\n",
    "    - Résolution avec Python Pulp\n",
    "- 11. Prise en compte des Invendus.\n",
    "- 12. Maximisation de profit <b>non linéaire</b>\n",
    "    - Notre problème de base\n",
    "    - Modélisation mathématique\n",
    "    - Exemple\n",
    "    - Exemple avec boucles For\n",
    "    - Résolution avec Python Gekko\n",
    "        - Sans Boucle For\n",
    "        - Avec Boucle For\n",
    "    - Résolution avec Cplex\n",
    "    - Ajout de contraintes binaires\n",
    "    - Ajout de contraintes piecewize\n",
    "\n",
    "\n"
   ]
  },
  {
   "cell_type": "markdown",
   "metadata": {},
   "source": [
    "# Maximisation de profit linéaire - Production de 3 objets.\n"
   ]
  },
  {
   "cell_type": "markdown",
   "metadata": {},
   "source": [
    "# Notre problème de base.\n",
    "\n",
    "- J'ai le choix entre 3 types de vaches : Charolaises, Blanc Bleuc et salers.\n",
    "\n",
    "- J'ai 600 kgs de nourriture, 700 litres d'eau en stock .\n",
    "\n",
    "- Chaque vache consomme respectivement 7kgs,7kgs,8kgs de nourriture par jour.\n",
    "\n",
    "- Chaque vache consomme respectivement 4.5l,9l et 3l d'eau par jour.\n",
    "\n",
    "- Chaque vache rapporte respectivement 100,110,et 115 euros.\n",
    "\n",
    "Quelles vaches faut il produire afin de maximiser mon profit ?\n",
    "\n"
   ]
  },
  {
   "cell_type": "markdown",
   "metadata": {},
   "source": [
    "# Modélisation Mathématique.\n",
    "\n",
    "- Soit V un ensemble de vaches indicées par i (v1,v2,v3...vi)\n",
    "- Soit Nij la nourriture consommée par chaque vache, c'est une matrice ( ou un tableau).\n",
    "- Soit Eij l'eau consommée par chaque vache, c'est une matrice ( ou un tableau).\n",
    "- Soit Pij le profit rapporté par chaque vache , c'est une matrice ( ou un tableau).\n",
    "- Soit N la quantité de nourriture en stock\n",
    "- Soit E la quantité d'eau en stock\n",
    "\n",
    "\n",
    "Je veux maximiser mon profit  sous les contraintes de nourriture et d'eau.\n",
    "\n",
    "Max  Σ Vi*Pij\n",
    "\n",
    "s.t\n",
    "\n",
    "Σ Nij*Vi <= N , ∀ n  ∈  {n1,n2,n3}\n",
    "\n",
    "Σ Eij*Vi <= E , ∀ e  ∈  {e1,e2,e3}\n",
    "\n"
   ]
  },
  {
   "cell_type": "markdown",
   "metadata": {},
   "source": [
    "# Résolution avec Python Pulp\n",
    "\n",
    "Comme on a que 3 vaches, on peut résoudre sans utiliser les boucles FOR, qui paraissent un peu compliquées quand on débute."
   ]
  },
  {
   "cell_type": "code",
   "execution_count": 92,
   "metadata": {},
   "outputs": [
    {
     "name": "stdout",
     "output_type": "stream",
     "text": [
      "blanc_bleu = 72.0\n",
      "charolaise = 0.0\n",
      "salers = 12.0\n",
      "Profit total maximisé =  9300.0\n"
     ]
    }
   ],
   "source": [
    "# Importer la librairie Pulp sous le pseudo p\n",
    "import pulp as p \n",
    "\n",
    "# Créer un programme linéaire de maximisation\n",
    "Mon_Probleme = p.LpProblem('maximisation_de_profit_agricole', p.LpMaximize)  \n",
    "\n",
    "# Créer les variables du problème, \n",
    "# On dit que ce sont des variables entières, car on ne peut pas avoir une demi vache.\n",
    "charolaise = p.LpVariable(\"charolaise\", 0, None, p.LpInteger)   \n",
    "blanc_bleu = p.LpVariable(\"blanc_bleu\", 0, None, p.LpInteger)   \n",
    "salers = p.LpVariable(\"salers\", 0, None, p.LpInteger)  \n",
    "\n",
    "# Ecrire la fonction objectif à maximizer qui nous donne un résultat en Euros \n",
    "Mon_Probleme +=  100 * charolaise + 110 * blanc_bleu + 115 * salers\n",
    "\n",
    "# Les contraintes : \n",
    "\n",
    "# nourriture\n",
    "Mon_Probleme += 7 * charolaise + 7 * blanc_bleu + 8 * salers <= 600\n",
    "\n",
    "# eau\n",
    "Mon_Probleme += 4.5* charolaise + 9 * blanc_bleu + 3 * salers <= 700\n",
    "\n",
    "# Résoudre\n",
    "Mon_Probleme.solve()\n",
    "# On imprime les variables qui ont leur valeur optimisées\n",
    "for v in Mon_Probleme.variables():\n",
    "    print(v.name, \"=\", v.varValue)\n",
    "# La valeur de la fonction objective optimisée est imprimée à l'écran\n",
    "print(\"Profit total maximisé = \", p.value(Mon_Probleme.objective))"
   ]
  },
  {
   "cell_type": "markdown",
   "metadata": {},
   "source": [
    "# Ajout des coûts fixes et variables.\n",
    "\n",
    "Mon exploitation a un coût fixe de 1200 euros.\n",
    "Chaque vache implique un coût variable de respectivement 10,12 et 9.5 euros.\n",
    "\n",
    "Je veux inclure ces éléments à la fonction objectif afin qu'elle les prenne en compte lors de l'optimisation.\n",
    "\n",
    "Note:  On est toujours dans le cadre d'un problème linéaire, les coûts variables des vaches est donc proportionnel au nombre de vache, chaque vache a un coût fixe directement appliqué, il ne diminue pas avec le nombre, si c'était le cas, on serait dans un problème non linéaire."
   ]
  },
  {
   "cell_type": "code",
   "execution_count": 93,
   "metadata": {},
   "outputs": [
    {
     "name": "stdout",
     "output_type": "stream",
     "text": [
      "blanc_bleu = 72.0\n",
      "charolaise = 0.0\n",
      "salers = 12.0\n",
      "Profit total maximisé =  7322.0\n"
     ]
    }
   ],
   "source": [
    "# Importer la librairie Pulp sous le pseudo p\n",
    "import pulp as p \n",
    "\n",
    "# Nos coûts\n",
    "cout_fixe = 1000\n",
    "cout_charolaise = 10\n",
    "cout_blanc_bleu = 12\n",
    "cout_salers = 9.5\n",
    "\n",
    "# Créer un programme linéaire de maximisation\n",
    "Mon_Probleme = p.LpProblem('maximisation_de_profit_agricole', p.LpMaximize)  \n",
    "\n",
    "# Créer les variables du problème \n",
    "charolaise = p.LpVariable(\"charolaise\", 0, None, p.LpInteger)   \n",
    "blanc_bleu = p.LpVariable(\"blanc_bleu\", 0, None, p.LpInteger)   \n",
    "salers = p.LpVariable(\"salers\", 0, None, p.LpInteger)   \n",
    "\n",
    "# Ecrire la fonction objectif à maximizer qui nous donne un résultat en Euros \n",
    "Mon_Probleme +=  ((100 - cout_charolaise)  * charolaise + (110 - cout_blanc_bleu) * blanc_bleu + \n",
    "             (115 - cout_salers) * salers ) - cout_fixe\n",
    "\n",
    "# Les contraintes : \n",
    "\n",
    "# nourriture\n",
    "Mon_Probleme += 7 * charolaise + 7 * blanc_bleu + 8 * salers <= 600\n",
    "\n",
    "# eau\n",
    "Mon_Probleme += 4.5* charolaise + 9 * blanc_bleu + 3 * salers <= 700\n",
    "\n",
    "# Résoudre\n",
    "Mon_Probleme.solve()\n",
    "# On imprime les variables qui ont leur valeur optimisées\n",
    "for v in Mon_Probleme.variables():\n",
    "    print(v.name, \"=\", v.varValue)\n",
    "# La valeur de la fonction objective optimisée est imprimée à l'écran\n",
    "print(\"Profit total maximisé = \", p.value(Mon_Probleme.objective))"
   ]
  },
  {
   "cell_type": "markdown",
   "metadata": {},
   "source": [
    "# Forcer la production d'un élément.\n",
    "\n",
    "On voit dans notre résultat que le solveur nous dit de ne pas produire de charolaises, afin de maximiser notre profit.\n",
    "Mais je veux tout de même avoir 20 Charolaises au minimum dans mon cheptel et 20 salers au minimum, même si cela implique une perte de profit.\n"
   ]
  },
  {
   "cell_type": "code",
   "execution_count": 94,
   "metadata": {},
   "outputs": [
    {
     "name": "stdout",
     "output_type": "stream",
     "text": [
      "blanc_bleu = 36.0\n",
      "charolaise = 20.0\n",
      "salers = 26.0\n",
      "Profit total maximisé =  7071.0\n"
     ]
    }
   ],
   "source": [
    "# Importer la librairie Pulp sous le pseudo p\n",
    "import pulp as p \n",
    "\n",
    "# Nos coûts\n",
    "cout_fixe = 1000\n",
    "cout_charolaise = 10\n",
    "cout_blanc_bleu = 12\n",
    "cout_salers = 9.5\n",
    "\n",
    "# Créer un programme linéaire de maximisation\n",
    "Mon_Probleme = p.LpProblem('maximisation_de_profit_agricole', p.LpMaximize)  \n",
    "\n",
    "# Créer les variables du problème \n",
    "charolaise = p.LpVariable(\"charolaise\", 0, None, p.LpInteger)   \n",
    "blanc_bleu = p.LpVariable(\"blanc_bleu\", 0, None, p.LpInteger)   \n",
    "salers = p.LpVariable(\"salers\", 0, None, p.LpInteger)   \n",
    "\n",
    "# Ecrire la fonction objectif à maximizer qui nous donne un résultat en Euros \n",
    "Mon_Probleme +=  ((100 - cout_charolaise)  * charolaise + (110 - cout_blanc_bleu) * blanc_bleu + \n",
    "             (115 - cout_salers) * salers ) - cout_fixe\n",
    "\n",
    "# Les contraintes : \n",
    "# nourriture\n",
    "Mon_Probleme += 7 * charolaise + 7 * blanc_bleu + 8 * salers <= 600\n",
    "# eau\n",
    "Mon_Probleme += 4.5* charolaise + 9 * blanc_bleu + 3 * salers <= 700\n",
    "\n",
    "# Minimum de 20 charolaises\n",
    "Mon_Probleme += charolaise >= 20\n",
    "\n",
    "# Minimum de 20 salers\n",
    "Mon_Probleme += salers >= 20\n",
    "\n",
    "# Résoudre\n",
    "Mon_Probleme.solve()\n",
    "# On imprime les variables qui ont leur valeur optimisées\n",
    "for v in Mon_Probleme.variables():\n",
    "    print(v.name, \"=\", v.varValue)\n",
    "# La valeur de la fonction objective optimisée est imprimée à l'écran\n",
    "print(\"Profit total maximisé = \", p.value(Mon_Probleme.objective))"
   ]
  },
  {
   "cell_type": "markdown",
   "metadata": {},
   "source": [
    "# Ajout de contrainte conditionnelle. (1)\n",
    "\n",
    "Je veux que si mon cheptel de vaches blanc_bleu dépasse les 30 unités, un coût additionnel de main d'oeuvre de 30 euros soies appliqué."
   ]
  },
  {
   "cell_type": "code",
   "execution_count": 95,
   "metadata": {},
   "outputs": [
    {
     "name": "stdout",
     "output_type": "stream",
     "text": [
      "blanc_bleu = 36.0\n",
      "charolaise = 20.0\n",
      "depassement_blanc_bleu = 1.0\n",
      "salers = 26.0\n",
      "Profit total maximisé =  7041.0\n"
     ]
    }
   ],
   "source": [
    "# Importer la librairie Pulp sous le pseudo p\n",
    "import pulp as p \n",
    "\n",
    "# Nos coûts\n",
    "cout_fixe = 1000\n",
    "cout_charolaise = 10\n",
    "cout_blanc_bleu = 12\n",
    "cout_salers = 9.5\n",
    "\n",
    "# Créer un programme linéaire de maximisation\n",
    "Mon_Probleme = p.LpProblem('maximisation_de_profit_agricole', p.LpMaximize)  \n",
    "\n",
    "# Créer les variables du problème \n",
    "charolaise = p.LpVariable(\"charolaise\", 0, None, p.LpInteger)   \n",
    "blanc_bleu = p.LpVariable(\"blanc_bleu\", 0, None, p.LpInteger)   \n",
    "salers = p.LpVariable(\"salers\", 0, None, p.LpInteger) \n",
    "\n",
    "# Variable binaire On/Off\n",
    "depassement_blanc_bleu =   p.LpVariable(\"depassement_blanc_bleu\", 0, None, p.LpBinary)\n",
    "\n",
    "# Ecrire la fonction objectif à maximizer qui nous donne un résultat en Euros \n",
    "Mon_Probleme +=  ((100 - cout_charolaise)  * charolaise + (110 - cout_blanc_bleu) * \n",
    "             blanc_bleu + (115 - cout_salers) * salers ) - cout_fixe -  30 * depassement_blanc_bleu\n",
    "\n",
    "# Les contraintes : \n",
    "# nourriture\n",
    "Mon_Probleme += 7 * charolaise + 7 * blanc_bleu + 8 * salers <= 600\n",
    "# eau\n",
    "Mon_Probleme += 4.5* charolaise + 9 * blanc_bleu + 3 * salers <= 700\n",
    "# Minimum de 20 charolaises\n",
    "Mon_Probleme += charolaise >= 20\n",
    "# Minimum de 20 salers\n",
    "Mon_Probleme += salers >= 20\n",
    "\n",
    "# La variable binaire\n",
    "# Si mon cheptel de blanc_bleu dépasse 30, alors la variable binaire est à 1 et le\n",
    "# coût de 30 est soustrait de la fonction objectif, attention, c'est pris en compte\n",
    "# en cours d'optimisation.\n",
    "M = 1000  # M se calcule selon une certaine méthode ( BigM)\n",
    "# si blanc_bleu > 30 alors z = 1 s'écrit comme cela avec PULP\n",
    "Mon_Probleme += depassement_blanc_bleu  >= (blanc_bleu - 30 )/M\n",
    "\n",
    "# Résoudre\n",
    "Mon_Probleme.solve()\n",
    "# On imprime les variables qui ont leur valeur optimisées\n",
    "for v in Mon_Probleme.variables():\n",
    "    print(v.name, \"=\", v.varValue)\n",
    "# La valeur de la fonction objective optimisée est imprimée à l'écran\n",
    "print(\"Profit total maximisé = \", p.value(Mon_Probleme.objective))"
   ]
  },
  {
   "cell_type": "markdown",
   "metadata": {},
   "source": [
    "# Ajout de contrainte conditionnelle. (2)\n",
    "\n",
    "Je veux que si mon cheptel de vaches blanc_bleu dépasse les 30 unités, un coût additionnel de main d'oeuvre de 30 euros soies appliqué.\n",
    "Cette fois ci, on résouds avec le solveur <b>Python Cplex</b>, qui permet d'exprimer les contraintes conditionnelles très naturellement ( Mais il est payant..)."
   ]
  },
  {
   "cell_type": "code",
   "execution_count": 96,
   "metadata": {},
   "outputs": [
    {
     "name": "stdout",
     "output_type": "stream",
     "text": [
      "Model: maximisation_de_profit_agricole\n",
      " - number of variables: 5\n",
      "   - binary=2, integer=3, continuous=0\n",
      " - number of constraints: 6\n",
      "   - linear=4, indicator=1, equiv=1\n",
      " - parameters: defaults\n",
      " - objective: maximize\n",
      " - problem type is: MILP\n",
      "Version identifier: 22.1.0.0 | 2022-03-25 | 54982fbec\n",
      "CPXPARAM_Read_DataCheck                          1\n",
      "Tried aggregator 2 times.\n",
      "MIP Presolve eliminated 2 rows and 0 columns.\n",
      "MIP Presolve modified 2 coefficients.\n",
      "Aggregator did 1 substitutions.\n",
      "Reduced MIP has 3 rows, 4 columns, and 8 nonzeros.\n",
      "Reduced MIP has 1 binaries, 3 generals, 0 SOSs, and 1 indicators.\n",
      "Presolve time = 0.02 sec. (0.01 ticks)\n",
      "Found incumbent of value 6813.500000 after 0.02 sec. (0.01 ticks)\n",
      "Probing time = 0.00 sec. (0.00 ticks)\n",
      "Tried aggregator 1 time.\n",
      "Reduced MIP has 3 rows, 4 columns, and 8 nonzeros.\n",
      "Reduced MIP has 1 binaries, 3 generals, 0 SOSs, and 1 indicators.\n",
      "Presolve time = 0.02 sec. (0.00 ticks)\n",
      "Probing time = 0.00 sec. (0.00 ticks)\n",
      "MIP emphasis: balance optimality and feasibility.\n",
      "MIP search method: dynamic search.\n",
      "Parallel mode: deterministic, using up to 8 threads.\n",
      "Root relaxation solution time = 0.00 sec. (0.00 ticks)\n",
      "\n",
      "        Nodes                                         Cuts/\n",
      "   Node  Left     Objective  IInf  Best Integer    Best Bound    ItCnt     Gap\n",
      "\n",
      "*     0+    0                         6813.5000    14709.5000           115.89%\n",
      "      0     0     7075.1250     1     6813.5000     7075.1250        2    3.84%\n",
      "*     0+    0                         6996.0000     7075.1250             1.13%\n",
      "*     0+    0                         7003.5000     7075.1250             1.02%\n",
      "      0     0     7068.2637     3     7003.5000    MIRcuts: 1        4    0.92%\n",
      "      0     0     7053.5000     1     7003.5000       Cuts: 2        7    0.71%\n",
      "*     0+    0                         7041.0000     7053.5000             0.18%\n",
      "      0     0        cutoff           7041.0000                      7     --- \n",
      "Elapsed time = 0.14 sec. (0.08 ticks, tree = 0.01 MB, solutions = 4)\n",
      "\n",
      "Mixed integer rounding cuts applied:  2\n",
      "Gomory fractional cuts applied:  1\n",
      "\n",
      "Root node processing (before b&c):\n",
      "  Real time             =    0.16 sec. (0.08 ticks)\n",
      "Parallel b&c, 8 threads:\n",
      "  Real time             =    0.00 sec. (0.00 ticks)\n",
      "  Sync time (average)   =    0.00 sec.\n",
      "  Wait time (average)   =    0.00 sec.\n",
      "                          ------------\n",
      "Total (root+branch&cut) =    0.16 sec. (0.08 ticks)\n",
      "objective: 7041.000\n",
      "status: OPTIMAL_SOLUTION(2)\n",
      "  \"charolaise\"=20\n",
      "  \"blanc_bleu\"=36\n",
      "  \"salers \"=26\n",
      "  \"depassement_blanc_bleu\"=1\n"
     ]
    }
   ],
   "source": [
    "import cplex\n",
    "import docplex.mp\n",
    "from docplex.mp.model import Model\n",
    "\n",
    "# Nos coûts\n",
    "cout_fixe = 1000\n",
    "cout_charolaise = 10\n",
    "cout_blanc_bleu = 12\n",
    "cout_salers = 9.5\n",
    "\n",
    "# On crée notre modèle\n",
    "model = Model(name='maximisation_de_profit_agricole', log_output=True)\n",
    "\n",
    "# On crée nos variables de décision\n",
    "charolaise = model.integer_var(name='charolaise')\n",
    "blanc_bleu = model.integer_var(name='blanc_bleu')\n",
    "salers = model.integer_var(name='salers ')\n",
    "depassement_blanc_bleu = model.binary_var(name='depassement_blanc_bleu')\n",
    "\n",
    "# On crée la fonction objectif\n",
    "model.maximize(((100 - cout_charolaise)  * charolaise + (110 - cout_blanc_bleu) * \n",
    "             blanc_bleu + (115 - cout_salers) * salers ) - cout_fixe -  30 * depassement_blanc_bleu)\n",
    "\n",
    "# On crée les contraintes\n",
    "model.add_constraint(7 * charolaise + 7 * blanc_bleu + 8 * salers <= 600)\n",
    "model.add_constraint(4.5* charolaise + 9 * blanc_bleu + 3 * salers <= 700)\n",
    "model.add_constraint(charolaise >= 20)\n",
    "model.add_constraint(salers >= 20)\n",
    "\n",
    "\n",
    "# On spécifie le déclencheur de la contrainte depassement_blanc_bleu, \n",
    "# qui dit que si la production de vaches blanc_bleu dépasse 30, \n",
    "# alors le coût de 30 euros est soustrait dans la fonction objectif\n",
    "#if then constraint\n",
    "model.add_constraint(model.if_then(blanc_bleu >= 30, depassement_blanc_bleu == 1))\n",
    "\n",
    "\n",
    "model.print_information() \n",
    "sol_model = model.solve()\n",
    "model.print_solution()\n"
   ]
  },
  {
   "cell_type": "markdown",
   "metadata": {},
   "source": [
    "# Associations conditionnelles (Avec Pulp)\n",
    "\n",
    "Si les vaches blancs bleus dépassent 20, alors les vaches salers doivent dépasser 15.\n"
   ]
  },
  {
   "cell_type": "code",
   "execution_count": 97,
   "metadata": {},
   "outputs": [
    {
     "name": "stdout",
     "output_type": "stream",
     "text": [
      "association = 1.0\n",
      "blanc_bleu = 44.0\n",
      "charolaise = 20.0\n",
      "salers = 19.0\n",
      "Profit total maximisé =  7116.5\n"
     ]
    }
   ],
   "source": [
    "# Importer la librairie Pulp sous le pseudo p\n",
    "import pulp as p \n",
    "\n",
    "# Nos coûts\n",
    "cout_fixe = 1000\n",
    "cout_charolaise = 10\n",
    "cout_blanc_bleu = 12\n",
    "cout_salers = 9.5\n",
    "\n",
    "# Créer un programme linéaire de maximisation\n",
    "Mon_Probleme = p.LpProblem('maximisation_de_profit_agricole', p.LpMaximize)  \n",
    "\n",
    "# Créer les variables du problème \n",
    "charolaise = p.LpVariable(\"charolaise\", 0, None, p.LpInteger)   \n",
    "blanc_bleu = p.LpVariable(\"blanc_bleu\", 0, None, p.LpInteger)   \n",
    "salers = p.LpVariable(\"salers\", 0, None, p.LpInteger) \n",
    "\n",
    "# Variable binaire On/Off\n",
    "association =   p.LpVariable(\"association\", 0, None, p.LpBinary)\n",
    "\n",
    "# Ecrire la fonction objectif à maximizer qui nous donne un résultat en Euros \n",
    "Mon_Probleme +=  ((100 - cout_charolaise)  * charolaise + (110 - cout_blanc_bleu) * \n",
    "             blanc_bleu + (115 - cout_salers) * salers ) - cout_fixe \n",
    "\n",
    "# Les contraintes : \n",
    "# nourriture\n",
    "Mon_Probleme += 7 * charolaise + 7 * blanc_bleu + 8 * salers <= 600\n",
    "# eau\n",
    "Mon_Probleme += 4.5* charolaise + 9 * blanc_bleu + 3 * salers <= 700\n",
    "# Minimum de 20 charolaises\n",
    "Mon_Probleme += charolaise >= 20\n",
    "# Si le nobre de blanc_bleu dépasse 20, alors, il  doit y avoir au moins 15 vaches salers\n",
    "Mon_Probleme += salers >= association * 15\n",
    "\n",
    "# Setting de la variable binaire avec la méthode BigM\n",
    "M = 1000  \n",
    "Mon_Probleme += association  >= (blanc_bleu - 20 )/M\n",
    "\n",
    "# Résoudre\n",
    "Mon_Probleme.solve()\n",
    "# On imprime les variables qui ont leur valeur optimisées\n",
    "for v in Mon_Probleme.variables():\n",
    "    print(v.name, \"=\", v.varValue)\n",
    "# La valeur de la fonction objective optimisée est imprimée à l'écran\n",
    "print(\"Profit total maximisé = \", p.value(Mon_Probleme.objective))"
   ]
  },
  {
   "cell_type": "markdown",
   "metadata": {},
   "source": [
    "# Associations conditionnelles (Avec Cplex)\n",
    "\n",
    "Si les vaches blancs bleus dépassent 20, alors les vaches salers doivent dépasser 15."
   ]
  },
  {
   "cell_type": "code",
   "execution_count": 98,
   "metadata": {},
   "outputs": [],
   "source": [
    "# A venir ..."
   ]
  },
  {
   "cell_type": "markdown",
   "metadata": {},
   "source": [
    "# Ajout de \"multiple de \"\n",
    "\n",
    "On revient sur notre problème de base,\n",
    "\n",
    "On va ajouter une contrainte qui dit que pour toute vache Blanc bleu produite, alors il faut produire 2 vaches salers."
   ]
  },
  {
   "cell_type": "code",
   "execution_count": 99,
   "metadata": {},
   "outputs": [
    {
     "name": "stdout",
     "output_type": "stream",
     "text": [
      "blanc_bleu = 72.0\n",
      "charolaise = 4.0\n",
      "salers = 8.0\n",
      "Profit total maximisé =  9240.0\n"
     ]
    }
   ],
   "source": [
    "# Importer la librairie Pulp sous le pseudo p\n",
    "import pulp as p \n",
    "\n",
    "# Créer un programme linéaire de maximisation\n",
    "Mon_Probleme = p.LpProblem('maximisation_de_profit_agricole', p.LpMaximize)  \n",
    "\n",
    "# Créer les variables du problème, \n",
    "# On dit que ce sont des variables entières, car on ne peut pas avoir une demi vache.\n",
    "charolaise = p.LpVariable(\"charolaise\", 0, None, p.LpInteger)   \n",
    "blanc_bleu = p.LpVariable(\"blanc_bleu\", 0, None, p.LpInteger)   \n",
    "salers = p.LpVariable(\"salers\", 0, None, p.LpInteger)  \n",
    "\n",
    "# Ecrire la fonction objectif à maximizer qui nous donne un résultat en Euros \n",
    "Mon_Probleme +=  100 * charolaise + 110 * blanc_bleu + 115 * salers\n",
    "\n",
    "# Les contraintes : \n",
    "\n",
    "# nourriture\n",
    "Mon_Probleme += 7 * charolaise + 7 * blanc_bleu + 8 * salers <= 600\n",
    "\n",
    "# eau\n",
    "Mon_Probleme += 4.5* charolaise + 9 * blanc_bleu + 3 * salers <= 700\n",
    "\n",
    "# Contrainte de multiplicité :\n",
    "# 1 charolaise produite, on doit avoir 2 salers\n",
    "Mon_Probleme += charolaise  * 2 == salers\n",
    "\n",
    "# Résoudre\n",
    "Mon_Probleme.solve()\n",
    "# On imprime les variables qui ont leur valeur optimisées\n",
    "for v in Mon_Probleme.variables():\n",
    "    print(v.name, \"=\", v.varValue)\n",
    "# La valeur de la fonction objective optimisée est imprimée à l'écran\n",
    "print(\"Profit total maximisé = \", p.value(Mon_Probleme.objective))"
   ]
  },
  {
   "cell_type": "markdown",
   "metadata": {},
   "source": [
    "# Ajout de contraintes de coûts additives\n",
    "\n",
    "- Si la production de vaches blanc_bleu > 0, alors le côut de maintenance est de 20\n",
    "- Si la production de vaches blanc_bleu > 20, alors le côut de maintenance est de 30 euros supplémentaires \n",
    "- Si la production de vaches blanc_bleu > 50, alors le côut de maintenance est de 30 euros supplémentaires"
   ]
  },
  {
   "cell_type": "code",
   "execution_count": 100,
   "metadata": {},
   "outputs": [
    {
     "name": "stdout",
     "output_type": "stream",
     "text": [
      "Model: maximisation_de_profit_agricole\n",
      " - number of variables: 9\n",
      "   - binary=6, integer=3, continuous=0\n",
      " - number of constraints: 8\n",
      "   - linear=2, indicator=3, equiv=3\n",
      " - parameters: defaults\n",
      " - objective: maximize\n",
      " - problem type is: MILP\n",
      "Version identifier: 22.1.0.0 | 2022-03-25 | 54982fbec\n",
      "CPXPARAM_Read_DataCheck                          1\n",
      "Tried aggregator 2 times.\n",
      "MIP Presolve eliminated 1 rows and 2 columns.\n",
      "MIP Presolve modified 2 coefficients.\n",
      "Aggregator did 2 substitutions.\n",
      "Reduced MIP has 4 rows, 5 columns, and 10 nonzeros.\n",
      "Reduced MIP has 2 binaries, 3 generals, 0 SOSs, and 2 indicators.\n",
      "Presolve time = 0.01 sec. (0.01 ticks)\n",
      "Found incumbent of value -20.000000 after 0.01 sec. (0.02 ticks)\n",
      "Probing time = 0.00 sec. (0.00 ticks)\n",
      "Tried aggregator 1 time.\n",
      "Reduced MIP has 4 rows, 5 columns, and 10 nonzeros.\n",
      "Reduced MIP has 2 binaries, 3 generals, 0 SOSs, and 2 indicators.\n",
      "Presolve time = 0.02 sec. (0.01 ticks)\n",
      "Probing time = 0.00 sec. (0.00 ticks)\n",
      "MIP emphasis: balance optimality and feasibility.\n",
      "MIP search method: dynamic search.\n",
      "Parallel mode: deterministic, using up to 8 threads.\n",
      "Root relaxation solution time = 0.00 sec. (0.01 ticks)\n",
      "\n",
      "        Nodes                                         Cuts/\n",
      "   Node  Left     Objective  IInf  Best Integer    Best Bound    ItCnt     Gap\n",
      "\n",
      "*     0+    0                          -20.0000    25575.0000              --- \n",
      "*     0+    0                         4205.0000    25575.0000           508.20%\n",
      "      0     0     9228.1549     4     4205.0000     9228.1549        4  119.46%\n",
      "*     0+    0                         9075.0000     9228.1549             1.69%\n",
      "*     0+    0                         9190.0000     9228.1549             0.42%\n",
      "      0     0     9218.0000     2     9190.0000       Cuts: 3        8    0.30%\n",
      "      0     0     9215.0000     2     9190.0000      Fract: 1        9    0.27%\n",
      "*     0+    0                         9200.0000     9215.0000             0.16%\n",
      "      0     0        cutoff           9200.0000     9200.0000        9    0.00%\n",
      "Elapsed time = 0.09 sec. (0.10 ticks, tree = 0.01 MB, solutions = 5)\n",
      "\n",
      "Mixed integer rounding cuts applied:  1\n",
      "Zero-half cuts applied:  2\n",
      "Gomory fractional cuts applied:  1\n",
      "\n",
      "Root node processing (before b&c):\n",
      "  Real time             =    0.11 sec. (0.10 ticks)\n",
      "Parallel b&c, 8 threads:\n",
      "  Real time             =    0.00 sec. (0.00 ticks)\n",
      "  Sync time (average)   =    0.00 sec.\n",
      "  Wait time (average)   =    0.00 sec.\n",
      "                          ------------\n",
      "Total (root+branch&cut) =    0.11 sec. (0.10 ticks)\n",
      "objective: 9200\n",
      "status: OPTIMAL_SOLUTION(2)\n",
      "  \"blanc_bleu\"=72\n",
      "  \"salers \"=12\n",
      "  \"depassement_0\"=1\n",
      "  \"depassement_20\"=1\n",
      "  \"depassement_50\"=1\n"
     ]
    }
   ],
   "source": [
    "import cplex\n",
    "import docplex.mp\n",
    "from docplex.mp.model import Model\n",
    "\n",
    "\n",
    "# On crée notre modèle\n",
    "model = Model(name='maximisation_de_profit_agricole', log_output=True)\n",
    "\n",
    "# On crée nos variables de décision\n",
    "charolaise = model.integer_var(name='charolaise')\n",
    "blanc_bleu = model.integer_var(name='blanc_bleu')\n",
    "salers = model.integer_var(name='salers ')\n",
    "# Les variables binaires\n",
    "depassement_0 = model.binary_var(name='depassement_0')\n",
    "depassement_20 = model.binary_var(name='depassement_20')\n",
    "depassement_50 = model.binary_var(name='depassement_50')\n",
    "\n",
    "# On crée la fonction objectif\n",
    "model.maximize(100 * charolaise + 110 * blanc_bleu + 115 * salers \n",
    "               - depassement_0 * 20 - depassement_20 * 30 - depassement_50 * 50) \n",
    "\n",
    "# On crée les contraintes\n",
    "model.add_constraint(7 * charolaise + 7 * blanc_bleu + 8 * salers <= 600)\n",
    "model.add_constraint(4.5* charolaise + 9 * blanc_bleu + 3 * salers <= 700)\n",
    "\n",
    "\n",
    "# Contraintes de coûts additives\n",
    "# On crée les contraintes binaires qui vont activer ou pas les couts dans la fonction objectif\n",
    "model.add_constraint(model.if_then(blanc_bleu >= 0, depassement_0 == 1))\n",
    "model.add_constraint(model.if_then(blanc_bleu >= 20, depassement_20 == 1))\n",
    "model.add_constraint(model.if_then(blanc_bleu >= 50, depassement_50 == 1))\n",
    "\n",
    "model.print_information() \n",
    "sol_model = model.solve()\n",
    "model.print_solution()"
   ]
  },
  {
   "cell_type": "markdown",
   "metadata": {},
   "source": [
    "# Ajout de contraintes discontinues.\n",
    "\n",
    "# Description :\n",
    "\n",
    "- Si la production de vaches blanc_bleu > 0, alors le côut de maintenance est de 20\n",
    "- Si la production de vaches blanc_bleu > 20, alors le côut de maintenance est de 30 euros\n",
    "- Si la production de vaches blanc_bleu > 50, alors le côut de maintenance est de 50 euros \n",
    "\n",
    "- Note importante :\n",
    "Les coûts sont toujours pris en compte lors de l'optimisation, lorsque le simplexe est exécuté.\n",
    "C'est à dire que le solveur prends en compte les coûts fixes cités plus haut et du coup, risque de choisir moins de vaches blanc bleus."
   ]
  },
  {
   "cell_type": "markdown",
   "metadata": {},
   "source": [
    "# Graphique de nos contraintes discontinues.\n"
   ]
  },
  {
   "cell_type": "code",
   "execution_count": 101,
   "metadata": {},
   "outputs": [
    {
     "data": {
      "image/png": "[encoded data removed]",
      "text/plain": [
       "<Figure size 640x480 with 1 Axes>"
      ]
     },
     "metadata": {},
     "output_type": "display_data"
    }
   ],
   "source": [
    "import matplotlib.pyplot as plt\n",
    "plt.plot([0, 19, 20, 49,50,100], [20,20,30, 30, 50 ,50])\n",
    "plt.xlabel('Nombre produits A')\n",
    "plt.ylabel('coût de production en euros')\n",
    "plt.show()"
   ]
  },
  {
   "cell_type": "markdown",
   "metadata": {},
   "source": [
    "# Résolution avec Python Cplex"
   ]
  },
  {
   "cell_type": "code",
   "execution_count": 102,
   "metadata": {},
   "outputs": [
    {
     "ename": "NameError",
     "evalue": "name 'a' is not defined",
     "output_type": "error",
     "traceback": [
      "\u001b[1;31m---------------------------------------------------------------------------\u001b[0m",
      "\u001b[1;31mNameError\u001b[0m                                 Traceback (most recent call last)",
      "Cell \u001b[1;32mIn[102], line 28\u001b[0m\n\u001b[0;32m     22\u001b[0m model\u001b[39m.\u001b[39madd_constraint(\u001b[39m7\u001b[39m \u001b[39m*\u001b[39m charolaise \u001b[39m+\u001b[39m \u001b[39m7\u001b[39m \u001b[39m*\u001b[39m blanc_bleu \u001b[39m+\u001b[39m \u001b[39m8\u001b[39m \u001b[39m*\u001b[39m salers \u001b[39m<\u001b[39m\u001b[39m=\u001b[39m \u001b[39m600\u001b[39m)\n\u001b[0;32m     23\u001b[0m model\u001b[39m.\u001b[39madd_constraint(\u001b[39m4.5\u001b[39m\u001b[39m*\u001b[39m charolaise \u001b[39m+\u001b[39m \u001b[39m9\u001b[39m \u001b[39m*\u001b[39m blanc_bleu \u001b[39m+\u001b[39m \u001b[39m3\u001b[39m \u001b[39m*\u001b[39m salers \u001b[39m<\u001b[39m\u001b[39m=\u001b[39m \u001b[39m700\u001b[39m)\n\u001b[1;32m---> 28\u001b[0m model\u001b[39m.\u001b[39mmaximize(\u001b[39m20\u001b[39m \u001b[39m*\u001b[39m a \u001b[39m-\u001b[39m f(a) \u001b[39m+\u001b[39m \u001b[39m30\u001b[39m \u001b[39m*\u001b[39m b)\n\u001b[0;32m     30\u001b[0m model\u001b[39m.\u001b[39mprint_information() \n\u001b[0;32m     31\u001b[0m sol_model \u001b[39m=\u001b[39m model\u001b[39m.\u001b[39msolve()\n",
      "\u001b[1;31mNameError\u001b[0m: name 'a' is not defined"
     ]
    }
   ],
   "source": [
    "import cplex\n",
    "import docplex.mp\n",
    "from docplex.mp.model import Model\n",
    "\n",
    "\n",
    "# On crée notre modèle\n",
    "model = Model(name='maximisation_de_profit_agricole', log_output=True)\n",
    "\n",
    "# On crée nos variables de décision\n",
    "charolaise = model.integer_var(name='charolaise')\n",
    "blanc_bleu = model.integer_var(name='blanc_bleu')\n",
    "salers = model.integer_var(name='salers ')\n",
    "\n",
    "# On définit la fonction piecewize de type discontinue\n",
    "f = model.piecewise(0, [(0, 20), (20, 30), (50, 50)],1)\n",
    "\n",
    "# On crée la fonction objectif\n",
    "# On maximise moins les coûts provenant de la fonction piecewize f(x)\n",
    "model.maximize(100 * charolaise + 110 * blanc_bleu - f(blanc_bleu) + 115 * salers ) \n",
    "\n",
    "# On crée les contraintes\n",
    "model.add_constraint(7 * charolaise + 7 * blanc_bleu + 8 * salers <= 600)\n",
    "model.add_constraint(4.5* charolaise + 9 * blanc_bleu + 3 * salers <= 700)\n",
    "\n",
    "model.print_information() \n",
    "sol_model = model.solve()\n",
    "model.print_solution()"
   ]
  },
  {
   "cell_type": "markdown",
   "metadata": {},
   "source": [
    "# Ajout de contraintes piecewize\n",
    "\n",
    "Les contraintes piecewize permettent de linéariser une fonction côut non linéaire.\n",
    "Parfois, on ne linéarise même pas , on nous donne les infos suivante , par exemple :\n",
    "\n",
    "Si on produit moins de 20 vaches blanc_bleu, le coût fixe associé aux vaches blanc bleu est de 20 euros\n",
    "Si on produit entre 20 et 50 vaches blanc bleu, le coût fixe associé aux vaches blanc bleu est de 50 euros\n",
    "Si on produit plus de 50 vaches blanc bleu, le coût fixe associé aux vaches blanc bleu est de 70 euros."
   ]
  }
 ],
 "metadata": {
  "kernelspec": {
   "display_name": "Python 3",
   "language": "python",
   "name": "python3"
  },
  "language_info": {
   "codemirror_mode": {
    "name": "ipython",
    "version": 3
   },
   "file_extension": ".py",
   "mimetype": "text/x-python",
   "name": "python",
   "nbconvert_exporter": "python",
   "pygments_lexer": "ipython3",
   "version": "3.8.0"
  },
  "orig_nbformat": 4
 },
 "nbformat": 4,
 "nbformat_minor": 2
}
