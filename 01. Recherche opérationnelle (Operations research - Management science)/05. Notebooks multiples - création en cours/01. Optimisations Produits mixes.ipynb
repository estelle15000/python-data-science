{
 "cells": [
  {
   "attachments": {},
   "cell_type": "markdown",
   "metadata": {},
   "source": [
    "# Les Optimisations de mix de produits ( produits mix )\n",
    "\n",
    "## Introduction.\n",
    "\n",
    "\n",
    "Les optimisations de type mix de produits sont les premières abordées en optimisation.\n",
    "\n",
    "Elles permettent d'optimiser la production et le rendement commercial d'une usine ou d'une organisation agricole, et d'éviter en premier ressort des logiques de production aberrantes.\n",
    "\n",
    "Elles permettent à une usine de savoir quels produits il vaut mieux produire dans son éventail de produits, afin de maximiser son profit.\n",
    "\n",
    "\n",
    "Un exemple d'optimisation mixe de produits pour une organisation agricole \n",
    "dans mon application www.solvgraph.com :\n",
    "<div style=\"text-align:center\">\n",
    "<img src=\"img/product-mix1.png\">\n",
    "</div>\n",
    "\n",
    "Dans ses versions non linéaires, elles permettent plus de sophistication et permettent de coller à la réalité.\n",
    "\n",
    "Dans cette étude, je vais utiliser plusieurs solveurs, et faire des optimisations linéaires et non \n",
    "linéaires.\n",
    "\n",
    "Un exemple d'optimisation dans mon application www.solvgraph.com :\n",
    "<div style=\"text-align:center\">\n",
    "<img src=\"img/product_mixe2.jpg\">\n",
    "</div>\n",
    "\n",
    "\n",
    "Etude globale proposée par <b>Estelle Derrien - Github15000</b>\n",
    "\n",
    "CREATION EN COURS\n"
   ]
  },
  {
   "attachments": {},
   "cell_type": "markdown",
   "metadata": {},
   "source": [
    "# Sommaire \n",
    "\n",
    "- 1. Maximisation de profit linéaire - Production de 3 objets.\n",
    "        - Modélisation mathématique\n",
    "        - Exemple\n",
    "        - Résolution avec Python Pulp\n",
    "            - Sans Boucle For\n",
    "            - Avec Boucle For\n",
    "        - Résolution avec Cplex\n",
    "        - Résolution avec Excel\n",
    "        - La minimisation de coûts ( Inverse..)\n",
    "- 3. A quoi sert l'analyse de sensitivité ?\n",
    "- 4. Ajout des Coûts variables.\n",
    "- 5. Ajout de contraintes binaires.\n",
    "- 6. Ajout de Multiples de.\n",
    "- 7. Prise en compte des Invendus.\n",
    "- 8. Ajout de contraintes Piecewize.\n",
    "    - Description\n",
    "    - Résolution avec Cplex\n",
    "    - Résolution avec Python Pulp\n",
    "- 9. Maximisation de profit non linéaire - Production de 3 objets.\n",
    "    - Modélisation mathématique\n",
    "    - Exemple\n",
    "    - Exemple avec boucles For\n",
    "    - Résolution avec Python Gekko\n",
    "        - Sans Boucle For\n",
    "        - Avec Boucle For\n",
    "    - Résolution avec Cplex\n",
    "    - Ajout de contraintes binaires\n",
    "    - Ajout de contraintes piecewize\n",
    "\n",
    "\n"
   ]
  },
  {
   "cell_type": "code",
   "execution_count": null,
   "metadata": {},
   "outputs": [],
   "source": []
  }
 ],
 "metadata": {
  "kernelspec": {
   "display_name": "Python 3",
   "language": "python",
   "name": "python3"
  },
  "language_info": {
   "codemirror_mode": {
    "name": "ipython",
    "version": 3
   },
   "file_extension": ".py",
   "mimetype": "text/x-python",
   "name": "python",
   "nbconvert_exporter": "python",
   "pygments_lexer": "ipython3",
   "version": "3.8.0"
  },
  "orig_nbformat": 4
 },
 "nbformat": 4,
 "nbformat_minor": 2
}
