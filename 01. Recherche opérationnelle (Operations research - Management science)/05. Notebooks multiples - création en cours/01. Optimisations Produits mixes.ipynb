{
 "cells": [
  {
   "attachments": {},
   "cell_type": "markdown",
   "metadata": {},
   "source": [
    "# Les Optimisations de mix de produits ( produits mix )\n",
    "\n",
    "## Introduction.\n",
    "Les optimisations de type mix de produits sont les premières abordées en optimisation.\n",
    "\n",
    "Elles permettent d'optimiser la production et le rendement commercial d'une usine, et d'éviter en premier \n",
    "ressort des logiques de production aberrantes.\n",
    "\n",
    "Elles permettent à une usine de savoir quels produits il vaut mieux produire dans son éventail de produits, afin de maximiser son profit.\n",
    "\n",
    "Dans ses versions non linéaires, elles permettent plus de sophistication et permettent de coller à la réalité.\n",
    "Dans cette étude, je vais utiliser plusieurs solveurs, et faire des optimisations linéaires et non \n",
    "linéaires.\n",
    "\n",
    "Etude globale proposée par Estelle Derrien - Github15000\n",
    "\n",
    "CREATION EN COURS\n"
   ]
  },
  {
   "attachments": {},
   "cell_type": "markdown",
   "metadata": {},
   "source": [
    "# Sommaire \n",
    "\n",
    "- 1. Maximisation de profit linéaire - Production de 3 objets.\n",
    "        - Modélisation mathématique\n",
    "        - Exemple\n",
    "        - Résolution avec Python Pulp\n",
    "            - Sans Boucle For\n",
    "            - Avec Boucle For\n",
    "        - Résolution avec Cplex\n",
    "- 2. Minimisation de coûts\n",
    "    - Modélisation mathématique\n",
    "        - Exemple\n",
    "        - Résolution avec Python Pulp\n",
    "- 3. A quoi sert l'analyse de sensitivité ?\n",
    "- 4. Coûts variables\n",
    "- 5. Multiples de\n",
    "- 6. Invendus\n",
    "- 6. Maximisation de profit non linéaire - Production de 3 objets.\n",
    "    - Modélisation mathématique\n",
    "    - Exemple\n",
    "    - Exemple avec boucles For\n",
    "    - Résolution avec Python Gekko\n",
    "        - Sans Boucle For\n",
    "        - Avec Boucle For\n",
    "    - Résolution avec Cplex\n",
    "\n",
    "\n"
   ]
  },
  {
   "cell_type": "code",
   "execution_count": null,
   "metadata": {},
   "outputs": [],
   "source": []
  }
 ],
 "metadata": {
  "kernelspec": {
   "display_name": "Python 3",
   "language": "python",
   "name": "python3"
  },
  "language_info": {
   "codemirror_mode": {
    "name": "ipython",
    "version": 3
   },
   "file_extension": ".py",
   "mimetype": "text/x-python",
   "name": "python",
   "nbconvert_exporter": "python",
   "pygments_lexer": "ipython3",
   "version": "3.8.0"
  },
  "orig_nbformat": 4
 },
 "nbformat": 4,
 "nbformat_minor": 2
}
