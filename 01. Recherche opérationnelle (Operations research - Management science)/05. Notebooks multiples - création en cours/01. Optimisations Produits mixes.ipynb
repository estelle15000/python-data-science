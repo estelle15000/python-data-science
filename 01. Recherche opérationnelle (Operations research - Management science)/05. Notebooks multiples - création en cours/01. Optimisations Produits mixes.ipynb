{
 "cells": [
  {
   "attachments": {},
   "cell_type": "markdown",
   "metadata": {},
   "source": [
    "# Les Optimisations de mix de produits ( produits mix )\n",
    "\n",
    "## Introduction.\n",
    "\n",
    "\n",
    "Les optimisations de type mix de produits sont les premières abordées en optimisation.\n",
    "\n",
    "Elles permettent d'optimiser la production et le rendement commercial d'une usine ou d'une organisation agricole, et d'éviter en premier ressort des logiques de production aberrantes.\n",
    "\n",
    "Elles permettent à une usine de savoir quels produits il vaut mieux produire dans son éventail de produits, afin de maximiser son profit.\n",
    "\n",
    "\n",
    "Un exemple d'optimisation mixe de produits pour une organisation agricole \n",
    "dans mon application www.solvgraph.com :\n",
    "<div style=\"text-align:center\">\n",
    "<img src=\"img/product-mix1.png\">\n",
    "</div>\n",
    "\n",
    "Dans ses versions non linéaires, elles permettent plus de sophistication et permettent de coller à la réalité.\n",
    "\n",
    "Dans cette étude, je vais utiliser plusieurs solveurs, et faire des optimisations linéaires et non \n",
    "linéaires.\n",
    "\n",
    "Un exemple d'optimisation dans mon application www.solvgraph.com :\n",
    "<div style=\"text-align:center\">\n",
    "<img src=\"img/product_mixe2.jpg\">\n",
    "</div>\n",
    "\n",
    "\n",
    "Etude globale proposée par <b>Estelle Derrien - Github15000</b>\n",
    "\n",
    "CREATION EN COURS\n"
   ]
  },
  {
   "attachments": {},
   "cell_type": "markdown",
   "metadata": {},
   "source": [
    "# Sommaire \n",
    "\n",
    "- 1. Maximisation de profit linéaire.\n",
    "        - Notre problème de base\n",
    "        - Modélisation mathématique\n",
    "        - Résolution avec Python Pulp\n",
    "- 3. A quoi sert l'analyse de sensitivité ?\n",
    "- 4. Ajout des coûts fixes et variables.\n",
    "- 5. Forcer la production d'un élément.\n",
    "- 6. Ajout de contraintes binaires/conditionnelles.\n",
    "- 7. Ajout de Multiples de.\n",
    "- 8. Prise en compte des Invendus.\n",
    "- 9. Ajout de contraintes Piecewize.\n",
    "    - Description\n",
    "    - Résolution avec Cplex\n",
    "    - Résolution avec Python Pulp\n",
    "- 10. Maximisation de profit non linéaire - Production de 3 objets.\n",
    "    - Notre problème de base\n",
    "    - Modélisation mathématique\n",
    "    - Exemple\n",
    "    - Exemple avec boucles For\n",
    "    - Résolution avec Python Gekko\n",
    "        - Sans Boucle For\n",
    "        - Avec Boucle For\n",
    "    - Résolution avec Cplex\n",
    "    - Ajout de contraintes binaires\n",
    "    - Ajout de contraintes piecewize\n",
    "\n",
    "\n"
   ]
  },
  {
   "cell_type": "markdown",
   "metadata": {},
   "source": [
    "# Maximisation de profit linéaire - Production de 3 objets.\n"
   ]
  },
  {
   "cell_type": "markdown",
   "metadata": {},
   "source": [
    "# Notre problème de base.\n",
    "\n",
    "- J'ai le choix entre 3 types de vaches : Charolaises, Blanc Bleuc et salers.\n",
    "\n",
    "- J'ai 600 kgs de nourriture, 700 litres d'eau en stock .\n",
    "\n",
    "- Chaque vache consomme respectivement 7kgs,7kgs,8kgs de nourriture par jour.\n",
    "\n",
    "- Chaque vache consomme respectivement 4.5l,9l et 3l d'eau par jour.\n",
    "\n",
    "- Chaque vache rapporte respectivement 100,110,et 115 euros.\n",
    "\n",
    "Quelles vaches faut il produire afin de maximiser mon profit ?\n",
    "\n"
   ]
  },
  {
   "cell_type": "markdown",
   "metadata": {},
   "source": [
    "# Modélisation Mathématique.\n",
    "\n",
    "- Soit V un ensemble de vaches indicées par i (v1,v2,v3...vi)\n",
    "- Soit Nij la nourriture consommée par chaque vache, c'est une matrice ( ou un tableau).\n",
    "- Soit Eij l'eau consommée par chaque vache, c'est une matrice ( ou un tableau).\n",
    "- Soit Pij le profit rapporté par chaque vache , c'est une matrice ( ou un tableau).\n",
    "\n",
    "je veux maximiser mon profit.\n"
   ]
  },
  {
   "cell_type": "markdown",
   "metadata": {},
   "source": [
    "# Résolution avec Python Pulp\n",
    "\n",
    "Comme on a que 3 vaches, on peut résoudre sans utiliser les boucles FOR, qui paraissent un peu compliquées quand on débute."
   ]
  },
  {
   "cell_type": "code",
   "execution_count": 36,
   "metadata": {},
   "outputs": [
    {
     "name": "stdout",
     "output_type": "stream",
     "text": [
      "blanc_bleu = 72.0\n",
      "charolaise = 0.0\n",
      "salers = 12.0\n",
      "Profit total maximisé =  9300.0\n"
     ]
    }
   ],
   "source": [
    "# Importer la librairie Pulp sous le pseudo p\n",
    "import pulp as p \n",
    "# Créer un programme linéaire de maximisation\n",
    "Lp_prob = p.LpProblem('Problem', p.LpMaximize)  \n",
    "# Créer les variables du problème \n",
    "charolaise = p.LpVariable(\"charolaise\", 0, None, p.LpInteger)   \n",
    "blanc_bleu = p.LpVariable(\"blanc_bleu\", 0, None, p.LpInteger)   \n",
    "salers = p.LpVariable(\"salers\", 0, None, p.LpInteger)   \n",
    "# Ecrire la fonction objectif à maximizer qui nous donne un résultat en Euros \n",
    "Lp_prob +=  100 * charolaise + 110 * blanc_bleu + 115 * salers\n",
    "# Les contraintes : \n",
    "# nourriture\n",
    "Lp_prob += 7 * charolaise + 7 * blanc_bleu + 8 * salers <= 600\n",
    "# eau\n",
    "Lp_prob += 4.5* charolaise + 9 * blanc_bleu + 3 * salers <= 700\n",
    "# Résoudre\n",
    "Lp_prob.solve()\n",
    "# On imprime les variables qui ont leur valeur optimisées\n",
    "for v in Lp_prob.variables():\n",
    "    print(v.name, \"=\", v.varValue)\n",
    "# La valeur de la fonction objective optimisée est imprimée à l'écran\n",
    "print(\"Profit total maximisé = \", p.value(Lp_prob.objective))"
   ]
  },
  {
   "cell_type": "markdown",
   "metadata": {},
   "source": [
    "# Ajout des coûts fixes et variables.\n",
    "\n",
    "Mon exploitation a un coût fixe de 1200 euros.\n",
    "Chaque vache implique un coût variable de respectivement 10,12,9.5 euros.\n",
    "\n",
    "Je veux inclure ces éléments à la fonction objectif afin qu'elle les prenne en compte lors de l'optimisation.\n",
    "\n",
    "Note:  On est toujours dans le cadre d'un problème linéaire, les coûts variables des vaches est donc proportionnel au nombre de vache, chaque vache a un coût fixe directement appliqué, il ne diminue pas avec le nombre, si c'était le cas, on serait dans un problème non linéaire."
   ]
  },
  {
   "cell_type": "code",
   "execution_count": 37,
   "metadata": {},
   "outputs": [
    {
     "name": "stdout",
     "output_type": "stream",
     "text": [
      "blanc_bleu = 72.0\n",
      "charolaise = 0.0\n",
      "salers = 12.0\n",
      "Profit total maximisé =  7322.0\n"
     ]
    }
   ],
   "source": [
    "# Importer la librairie Pulp sous le pseudo p\n",
    "import pulp as p \n",
    "# Nos coûts\n",
    "cout_fixe = 1000\n",
    "cout_charolaise = 10\n",
    "cout_blanc_bleu = 12\n",
    "cout_salers = 9.5\n",
    "# Créer un programme linéaire de maximisation\n",
    "Lp_prob = p.LpProblem('Problem', p.LpMaximize)  \n",
    "# Créer les variables du problème \n",
    "charolaise = p.LpVariable(\"charolaise\", 0, None, p.LpInteger)   \n",
    "blanc_bleu = p.LpVariable(\"blanc_bleu\", 0, None, p.LpInteger)   \n",
    "salers = p.LpVariable(\"salers\", 0, None, p.LpInteger)   \n",
    "# Ecrire la fonction objectif à maximizer qui nous donne un résultat en Euros \n",
    "Lp_prob +=  ((100 - cout_charolaise)  * charolaise + (110 - cout_blanc_bleu) * blanc_bleu + (115 - cout_salers) * salers ) - cout_fixe\n",
    "# Les contraintes : \n",
    "# nourriture\n",
    "Lp_prob += 7 * charolaise + 7 * blanc_bleu + 8 * salers <= 600\n",
    "# eau\n",
    "Lp_prob += 4.5* charolaise + 9 * blanc_bleu + 3 * salers <= 700\n",
    "# Résoudre\n",
    "Lp_prob.solve()\n",
    "# On imprime les variables qui ont leur valeur optimisées\n",
    "for v in Lp_prob.variables():\n",
    "    print(v.name, \"=\", v.varValue)\n",
    "# La valeur de la fonction objective optimisée est imprimée à l'écran\n",
    "print(\"Profit total maximisé = \", p.value(Lp_prob.objective))"
   ]
  },
  {
   "cell_type": "markdown",
   "metadata": {},
   "source": [
    "# Forcer la production d'un élément.\n",
    "\n",
    "On voit dans notre résultat que le solveur nous dit de ne pas produire de charolaises, afin de maximiser notre profit.\n",
    "Mais je veux tout de même avoir 20 Charolaises au minimum dans mon cheptel et 20 salers au minimum, même si cela implique une perte de profit.\n"
   ]
  },
  {
   "cell_type": "code",
   "execution_count": 38,
   "metadata": {},
   "outputs": [
    {
     "name": "stdout",
     "output_type": "stream",
     "text": [
      "blanc_bleu = 36.0\n",
      "charolaise = 20.0\n",
      "salers = 26.0\n",
      "Profit total maximisé =  7071.0\n"
     ]
    }
   ],
   "source": [
    "# Importer la librairie Pulp sous le pseudo p\n",
    "import pulp as p \n",
    "# Nos coûts\n",
    "cout_fixe = 1000\n",
    "cout_charolaise = 10\n",
    "cout_blanc_bleu = 12\n",
    "cout_salers = 9.5\n",
    "# Créer un programme linéaire de maximisation\n",
    "Lp_prob = p.LpProblem('Problem', p.LpMaximize)  \n",
    "# Créer les variables du problème \n",
    "charolaise = p.LpVariable(\"charolaise\", 0, None, p.LpInteger)   \n",
    "blanc_bleu = p.LpVariable(\"blanc_bleu\", 0, None, p.LpInteger)   \n",
    "salers = p.LpVariable(\"salers\", 0, None, p.LpInteger)   \n",
    "# Ecrire la fonction objectif à maximizer qui nous donne un résultat en Euros \n",
    "Lp_prob +=  ((100 - cout_charolaise)  * charolaise + (110 - cout_blanc_bleu) * blanc_bleu + (115 - cout_salers) * salers ) - cout_fixe\n",
    "# Les contraintes : \n",
    "# nourriture\n",
    "Lp_prob += 7 * charolaise + 7 * blanc_bleu + 8 * salers <= 600\n",
    "# eau\n",
    "Lp_prob += 4.5* charolaise + 9 * blanc_bleu + 3 * salers <= 700\n",
    "# Minimum de 20 charolaises\n",
    "Lp_prob += charolaise >= 20\n",
    "# Minimum de 20 salers\n",
    "Lp_prob += salers >= 20\n",
    "# Résoudre\n",
    "Lp_prob.solve()\n",
    "# On imprime les variables qui ont leur valeur optimisées\n",
    "for v in Lp_prob.variables():\n",
    "    print(v.name, \"=\", v.varValue)\n",
    "# La valeur de la fonction objective optimisée est imprimée à l'écran\n",
    "print(\"Profit total maximisé = \", p.value(Lp_prob.objective))"
   ]
  }
 ],
 "metadata": {
  "kernelspec": {
   "display_name": "Python 3",
   "language": "python",
   "name": "python3"
  },
  "language_info": {
   "codemirror_mode": {
    "name": "ipython",
    "version": 3
   },
   "file_extension": ".py",
   "mimetype": "text/x-python",
   "name": "python",
   "nbconvert_exporter": "python",
   "pygments_lexer": "ipython3",
   "version": "3.8.0"
  },
  "orig_nbformat": 4
 },
 "nbformat": 4,
 "nbformat_minor": 2
}
