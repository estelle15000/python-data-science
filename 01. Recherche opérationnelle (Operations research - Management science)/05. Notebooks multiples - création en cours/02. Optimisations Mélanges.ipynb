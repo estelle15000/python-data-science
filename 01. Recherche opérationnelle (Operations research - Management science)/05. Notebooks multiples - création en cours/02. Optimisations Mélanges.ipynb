{
 "cells": [
  {
   "attachments": {},
   "cell_type": "markdown",
   "metadata": {},
   "source": [
    "# Les Optimisations de mélanges\n",
    "\n",
    "## Introduction.\n",
    "Les optimisations de type mélange permettent par exemple de créer la mixture la moins onéreuse, sous contrainte de coût. Il est également possible de maximiser ou minimiser un autre paramêtre.\n",
    "Dans cette étude, je vais utiliser plusieurs solveurs, et faire des optimisations linéaires et non \n",
    "linéaires.\n",
    "\n",
    "Etude globale proposée par Estelle Derrien - Github15000\n",
    "\n",
    "CREATION EN COURS\n",
    "\n",
    "L'exemple du fameux problème de mélange linéaire \n",
    "\"The Pittsburgh steel blending problem\" de Lindo, \n",
    "résolu par mon application www.solvgraph.com en mode graphique:\n",
    "\n",
    "<div style=\"text-align:center\">\n",
    "<img src=\"img/blend.png\">\n",
    "</div>"
   ]
  },
  {
   "cell_type": "markdown",
   "metadata": {},
   "source": [
    "# Sommaire\n",
    "\n",
    "- 1. Maximisation de profit <b>linéaire.</b>\n",
    "        - Notre problème de base\n",
    "        - Modélisation mathématique\n",
    "        - Résolution avec Python Pulp\n",
    "- 10. Maximisation de profit <b>non linéaire</b>\n",
    "    - Notre problème de base\n",
    "    - Modélisation mathématique\n",
    "    - Exemple\n"
   ]
  },
  {
   "cell_type": "markdown",
   "metadata": {},
   "source": [
    "# Notre problème de base.\n",
    "\n",
    "Dans ce notebook, on ne va pas réaliser un mélange aussi compliqué que \"The Pittsbugh steel blending problem\", on va se contenter de mélanger 3 métaux afin d'obtenir un alliage au meilleur coût.\n",
    "Note :  J'ai travaillé sur ce type de problème pendant des semaines, et les résultats et codes ont été validés car sont les mêmes que Lindo et aussi le problème de mélange exposé par Marc Sevaux et Christian Prins dans le livre \"Optimisation avec Excel\". Le code proposé trouve également strictement la même solution que celle du concepteur de Python Pulp, dans sa fameuse optimisation \" The whiskas blending problem\"\n",
    "\n",
    " Le code est donc certifié ok (Par moi).\n",
    "\n",
    "Généralement, on utilise des pourcentages pour les problèmes de mélange, ce qui complique un peu la rédaction du code avec le solveur.\n",
    "De plus, on ne produit pas forcément 100% d'alliage, mais cela peut être une valeur unitaire, par exemple, produire 5000  kgs d'un alliage, cependant, cela reste un problème de mélange.\n",
    "\n",
    "Le principe général est celui-ci : \n",
    "On a plusieurs fournisseurs pour chaque métal, qui ont des prix différents, mais leurs métal ont des \n",
    "caractéristiques différentes (Ca peut être la resistance, le teneur en x,  etc). Le solveur va nous proposer l'alliage au meilleur prix.\n",
    "\n",
    "On est pas du tout forcé de maximiser le profit, on peut maximiser ou minimiser un autre paramêtre lors du mélange."
   ]
  },
  {
   "cell_type": "code",
   "execution_count": null,
   "metadata": {},
   "outputs": [],
   "source": []
  }
 ],
 "metadata": {
  "kernelspec": {
   "display_name": "Python 3",
   "language": "python",
   "name": "python3"
  },
  "language_info": {
   "codemirror_mode": {
    "name": "ipython",
    "version": 3
   },
   "file_extension": ".py",
   "mimetype": "text/x-python",
   "name": "python",
   "nbconvert_exporter": "python",
   "pygments_lexer": "ipython3",
   "version": "3.8.0"
  },
  "orig_nbformat": 4
 },
 "nbformat": 4,
 "nbformat_minor": 2
}
