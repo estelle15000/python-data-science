{
 "cells": [
  {
   "attachments": {},
   "cell_type": "markdown",
   "metadata": {},
   "source": [
    "A venir\n",
    "\n",
    "\n",
    "    Transportation problem\n",
    "    Transshipment problem\n",
    "    Assignment problem\n",
    "    Shortest path problem\n",
    "    Critical path analysis\n",
    "    Flots\n"
   ]
  },
  {
   "cell_type": "code",
   "execution_count": null,
   "metadata": {},
   "outputs": [],
   "source": []
  }
 ],
 "metadata": {
  "language_info": {
   "name": "python"
  },
  "orig_nbformat": 4
 },
 "nbformat": 4,
 "nbformat_minor": 2
}
