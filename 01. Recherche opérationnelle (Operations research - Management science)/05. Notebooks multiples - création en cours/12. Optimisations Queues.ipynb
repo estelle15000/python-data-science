{
 "cells": [
  {
   "cell_type": "markdown",
   "metadata": {},
   "source": [
    "# Les optimisations de type \" Queue \" et \"Files d'attente\""
   ]
  },
  {
   "cell_type": "markdown",
   "metadata": {},
   "source": [
    "# Introduction"
   ]
  },
  {
   "cell_type": "markdown",
   "metadata": {},
   "source": [
    "# Sommaire\n",
    "\n",
    "- 1. Le modèle ...\n",
    "        - Notre problème de base\n",
    "        - Modélisation mathématique\n",
    "        - Résolution avec Python Pulp\n",
    "- 2. Le modèle ....\n",
    "        - Notre problème de base\n",
    "        - Modélisation mathématique\n",
    "        - Résolution"
   ]
  },
  {
   "cell_type": "code",
   "execution_count": null,
   "metadata": {},
   "outputs": [],
   "source": []
  }
 ],
 "metadata": {
  "language_info": {
   "name": "python"
  },
  "orig_nbformat": 4
 },
 "nbformat": 4,
 "nbformat_minor": 2
}
