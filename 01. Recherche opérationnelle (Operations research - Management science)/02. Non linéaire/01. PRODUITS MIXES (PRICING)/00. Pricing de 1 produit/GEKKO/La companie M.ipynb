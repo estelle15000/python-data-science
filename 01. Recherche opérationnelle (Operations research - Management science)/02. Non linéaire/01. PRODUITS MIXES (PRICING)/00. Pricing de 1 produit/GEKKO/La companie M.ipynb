{
 "cells": [
  {
   "attachments": {},
   "cell_type": "markdown",
   "metadata": {},
   "source": [
    "\n",
    "# Produits mixe non linéaire avec le solveur Gekko\n",
    "# \"Pricing \" non linéaire d'un seul objet\n",
    "\n",
    "Code Python Gekko élaboré par Estelle Derrien Huleux.\n",
    "\n",
    "# Histoire : \n",
    "\n",
    "La société M fabrique et vend un certain produit. \n",
    "L'entreprise veut pour déterminer le prix qui maximise son profit de ce produit. \n",
    "\n",
    "Le coût unitaire de production et de commercialisation du produit est de 50 euros. \n",
    "\n",
    "Madison facturera certainement au moins 50 Euros pour le produit pour s'assurer qu'il génère des bénéfices, et donc s'assurer du seuil de rentabilité ( Break even en Anglais). \n",
    "\n",
    "Cependant, il existe un marché très concurrentiel pour ce produit, de sorte que la demande de Madison chute fortement lorsqu'elle augmente son prix. \n",
    "\n",
    "Comment l'entreprise doit-elle fixer le prix de ce produit pour s'assurer un profit maximal\n",
    "?\n",
    "\n",
    "- Source:  Wayne_L._Winston_S._Christian_Albright_Practical_Management_Science livre / Optimisations non linéaires.\n",
    "\n"
   ]
  },
  {
   "attachments": {},
   "cell_type": "markdown",
   "metadata": {},
   "source": [
    "On va résoudre ce problème avec le solveur Gekko, plutôt qu'avec le solveur excel,\n",
    "On importe donc Gekko. "
   ]
  },
  {
   "cell_type": "code",
   "execution_count": 21,
   "metadata": {},
   "outputs": [],
   "source": [
    "from gekko import GEKKO\n",
    "\n",
    "m = GEKKO(remote=False) # Initialize gekko\n",
    "\n",
    "#The example problem that you referenced uses the default IPOPT solver. To get a binary or integer solution, switch to the APOPT solver.\n",
    "# m.options.SOLVER = 1"
   ]
  },
  {
   "attachments": {},
   "cell_type": "markdown",
   "metadata": {},
   "source": [
    "ETAPE 1 : On crée La variable de décision qui va contenir le prix à affecter au produit.\n",
    "C'est le solveur Gekko qui va la calculer.\n",
    "Si il y avait 2 objets, on ajouterait aussi les variables p2, p3, etc..."
   ]
  },
  {
   "cell_type": "code",
   "execution_count": 22,
   "metadata": {},
   "outputs": [],
   "source": [
    "p1 = m.Var()\n",
    "# p2 = m.Var()"
   ]
  },
  {
   "attachments": {},
   "cell_type": "markdown",
   "metadata": {},
   "source": [
    "Etape 2 , on crée la variable qui va contenir l'équation linéaire de la demande , fournie par le service commercial.\n",
    "Là, pareil, si il y a plusieurs objets, forcément, leurs équations linéaires de la demande seraient différentes, donc on les ajoute aussi."
   ]
  },
  {
   "cell_type": "code",
   "execution_count": 23,
   "metadata": {},
   "outputs": [],
   "source": [
    "# x1  va contenir l'equation de la demande \n",
    "x1 = m.Var()\n",
    "# x2 = m.Var()"
   ]
  },
  {
   "attachments": {},
   "cell_type": "markdown",
   "metadata": {},
   "source": [
    "Etape 3 , on crée l'équation linéaire de la demande.\n",
    "\n",
    "L'équation de la demande représente la relation linéaire entre le prix et la demande.\n",
    "Plus le prix est cher, moins les ventes sont grandes.\n",
    "Il est également possible de la modéliser par une equation non linéaire d'élasticité de la demande, qui peut être plus réaliste, mais ici, on ne le fait pas.\n",
    "Evidemment, si il y a plusieurs produits, on a plusieurs équations linéaires de la demande dédiées à chaque produits, et qui sont différentes, puisque les clients achètent plus ou moins en fonction de leurs gout pour chaque produits.\n",
    "On l'appelle x1"
   ]
  },
  {
   "cell_type": "code",
   "execution_count": 24,
   "metadata": {},
   "outputs": [
    {
     "data": {
      "text/plain": [
       "<gekko.gekko.EquationObj at 0x1dbb1533400>"
      ]
     },
     "execution_count": 24,
     "metadata": {},
     "output_type": "execute_result"
    }
   ],
   "source": [
    "m.Equation(x1 == 1100 - 10 * p1)\n",
    "# m.Equation(x2 == 2700 - 63.8 * p2)"
   ]
  },
  {
   "attachments": {},
   "cell_type": "markdown",
   "metadata": {},
   "source": [
    "Etape 4, on crée les contraintes .\n",
    "\n",
    "Dans ce problème il n'y a pas de contraintes, du style Stock de laine maximum etc ... Mais \n",
    "si on avait du entrer les contraintes, on l'aurait fait là :"
   ]
  },
  {
   "cell_type": "code",
   "execution_count": 25,
   "metadata": {},
   "outputs": [],
   "source": [
    "# Equations des contraintes\n",
    "# m.Equation(2 * x1 + 2.7 * x2 <= 6000)\n",
    "# m.Equation(3.6 * x1 + 2.9 * x2 <= 8500)\n",
    "# m.Equation(7.2 * x1 + 8.5 * x2 <= 15000)"
   ]
  },
  {
   "attachments": {},
   "cell_type": "markdown",
   "metadata": {},
   "source": [
    "Etape 5 : On crée la fonction objectif non linéaire qui va nous donner le prix à affecter à notre objet afin d'obtenir le\n",
    "meilleur bénéfice."
   ]
  },
  {
   "cell_type": "code",
   "execution_count": 26,
   "metadata": {},
   "outputs": [],
   "source": [
    "# La fonction objectif non linéaire permet de maximiser notre profit \n",
    "# On retrouve l'équation de la demande, ce que provoque une élevation au carré de p1, et cela devient donc non linéaire.\n",
    "m.Maximize((p1 - 12) * x1) \n",
    "\n",
    "# si il y avait eu plusieurs objets, on additionne comme ça : \n",
    "# (p1 - 12) x1 + (p2 - 9) x2\n",
    "# m.Maximize(((p1 - 12) * x1) + ((p2 - 9) * x2))"
   ]
  },
  {
   "attachments": {},
   "cell_type": "markdown",
   "metadata": {},
   "source": [
    "Etape finale : Impression de la solution "
   ]
  },
  {
   "cell_type": "code",
   "execution_count": 27,
   "metadata": {},
   "outputs": [
    {
     "name": "stdout",
     "output_type": "stream",
     "text": [
      " ----------------------------------------------------------------\n",
      " APMonitor, Version 1.0.0\n",
      " APMonitor Optimization Suite\n",
      " ----------------------------------------------------------------\n",
      " \n",
      " \n",
      " --------- APM Model Size ------------\n",
      " Each time step contains\n",
      "   Objects      :  0\n",
      "   Constants    :  0\n",
      "   Variables    :  2\n",
      "   Intermediates:  0\n",
      "   Connections  :  0\n",
      "   Equations    :  2\n",
      "   Residuals    :  2\n",
      " \n",
      " Number of state variables:    2\n",
      " Number of total equations: -  1\n",
      " Number of slack variables: -  0\n",
      " ---------------------------------------\n",
      " Degrees of freedom       :    1\n",
      " \n",
      " **********************************************\n",
      " Steady State Optimization with Interior Point Solver\n",
      " **********************************************\n",
      "  \n",
      "  \n",
      " Info: Exact Hessian\n",
      "\n",
      "******************************************************************************\n",
      "This program contains Ipopt, a library for large-scale nonlinear optimization.\n",
      " Ipopt is released as open source code under the Eclipse Public License (EPL).\n",
      "         For more information visit http://projects.coin-or.org/Ipopt\n",
      "******************************************************************************\n",
      "\n",
      "This is Ipopt version 3.10.2, running with linear solver mumps.\n",
      "\n",
      "Number of nonzeros in equality constraint Jacobian...:        2\n",
      "Number of nonzeros in inequality constraint Jacobian.:        0\n",
      "Number of nonzeros in Lagrangian Hessian.............:        1\n",
      "\n",
      "Total number of variables............................:        2\n",
      "                     variables with only lower bounds:        0\n",
      "                variables with lower and upper bounds:        0\n",
      "                     variables with only upper bounds:        0\n",
      "Total number of equality constraints.................:        1\n",
      "Total number of inequality constraints...............:        0\n",
      "        inequality constraints with only lower bounds:        0\n",
      "   inequality constraints with lower and upper bounds:        0\n",
      "        inequality constraints with only upper bounds:        0\n",
      "\n",
      "iter    objective    inf_pr   inf_du lg(mu)  ||d||  lg(rg) alpha_du alpha_pr  ls\n",
      "   0 0.0000000e+000 1.10e+003 1.19e+001   0.0 0.00e+000    -  0.00e+000 0.00e+000   0\n",
      "   1 -2.4010000e+004 0.00e+000 5.68e-014 -11.0 4.90e+002    -  1.00e+000 1.00e+000h  1\n",
      "\n",
      "Number of Iterations....: 1\n",
      "\n",
      "                                   (scaled)                 (unscaled)\n",
      "Objective...............: -2.4010000000000000e+004  -2.4010000000000000e+004\n",
      "Dual infeasibility......:  5.6843418860808015e-014   5.6843418860808015e-014\n",
      "Constraint violation....:  0.0000000000000000e+000   0.0000000000000000e+000\n",
      "Complementarity.........:  0.0000000000000000e+000   0.0000000000000000e+000\n",
      "Overall NLP error.......:  5.6843418860808015e-014   5.6843418860808015e-014\n",
      "\n",
      "\n",
      "Number of objective function evaluations             = 2\n",
      "Number of objective gradient evaluations             = 2\n",
      "Number of equality constraint evaluations            = 2\n",
      "Number of inequality constraint evaluations          = 0\n",
      "Number of equality constraint Jacobian evaluations   = 2\n",
      "Number of inequality constraint Jacobian evaluations = 0\n",
      "Number of Lagrangian Hessian evaluations             = 1\n",
      "Total CPU secs in IPOPT (w/o function evaluations)   =      0.004\n",
      "Total CPU secs in NLP function evaluations           =      0.001\n",
      "\n",
      "EXIT: Optimal Solution Found.\n",
      "\n",
      " The solution was found.\n",
      "\n",
      " The final value of the objective function is  -24010.\n",
      " \n",
      " ---------------------------------------------------\n",
      " Solver         :  IPOPT (v3.12)\n",
      " Solution time  :  0.011000000000000003 sec\n",
      " Objective      :  -24010.\n",
      " Successful solution\n",
      " ---------------------------------------------------\n",
      " \n",
      "\n",
      "Solution\n",
      "x1: [61.0]\n",
      "Objectif: -24010.0\n"
     ]
    }
   ],
   "source": [
    "m.options.IMODE = 3 # Steady state optimization\n",
    "\n",
    "m.solve() # Solve\n",
    "\n",
    "print('Solution')\n",
    "print('x1: ' + str(p1.value))\n",
    "# print('x2: ' + str(p2.value))<\n",
    "print('Objectif: ' + str(m.options.objfcnval))"
   ]
  }
 ],
 "metadata": {
  "kernelspec": {
   "display_name": "Python 3",
   "language": "python",
   "name": "python3"
  },
  "language_info": {
   "codemirror_mode": {
    "name": "ipython",
    "version": 3
   },
   "file_extension": ".py",
   "mimetype": "text/x-python",
   "name": "python",
   "nbconvert_exporter": "python",
   "pygments_lexer": "ipython3",
   "version": "3.8.0"
  },
  "orig_nbformat": 4,
  "vscode": {
   "interpreter": {
    "hash": "edb60928ae049011e12e2dc43646b5515922153b602d9d974a622a5d486bbfcc"
   }
  }
 },
 "nbformat": 4,
 "nbformat_minor": 2
}
