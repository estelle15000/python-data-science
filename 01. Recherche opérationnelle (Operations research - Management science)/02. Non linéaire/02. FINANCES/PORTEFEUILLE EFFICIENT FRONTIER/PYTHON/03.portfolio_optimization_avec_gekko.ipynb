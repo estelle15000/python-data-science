{
 "cells": [
  {
   "cell_type": "code",
   "execution_count": null,
   "metadata": {},
   "outputs": [],
   "source": [
    "# Source : https://stackoverflow.com/questions/66622330/is-it-possible-to-use-gekko-to-do-portfolio-optimisation\n",
    "# Author : John Hedengren"
   ]
  },
  {
   "cell_type": "code",
   "execution_count": null,
   "metadata": {},
   "outputs": [],
   "source": [
    "from gekko import GEKKO\n",
    "m = GEKKO(remote=False)\n",
    "x = m.Array(m.Var,3,value=1,lb=0,ub=5)\n",
    "# asset price\n",
    "p = [5,10,6.2]\n",
    "# expected return on the asset\n",
    "Rp = [0.1,0.05,0.3]\n",
    "# risk free rate of return\n",
    "Rf = [0.01,0.02,0.01]\n",
    "# standard deviation of returns of the asset\n",
    "sigma = [0.1,0.2,0.15]\n",
    "\n",
    "# linear inequality constraint Ax<b\n",
    "A = [[3, 6, 1], [8, 4, 3], [2, 2, 2]]\n",
    "b = [30, 44, 35]\n",
    "m.axb(A,b,x=x,etype='<')\n",
    "\n",
    "# total budget\n",
    "m.Equation(m.sum(x)<100)\n",
    "\n",
    "# total assets purchased\n",
    "ta = m.Intermediate(m.sum(x))\n",
    "\n",
    "# maximize mean Sharpe ratio of portfolio\n",
    "m.Maximize(m.sum([x[i]*(Rp[i]-Rf[i])/sigma[i] for i in range(3)])/ta)\n",
    "\n",
    "m.options.solver = 1\n",
    "m.solve(disp=True)\n",
    "for i in range(3):\n",
    "    print ('Asset ',i+1,x[i].value[0])\n",
    "print ('Objective: ' + str(-m.options.objfcnval))"
   ]
  }
 ],
 "metadata": {
  "language_info": {
   "name": "python"
  },
  "orig_nbformat": 4
 },
 "nbformat": 4,
 "nbformat_minor": 2
}
