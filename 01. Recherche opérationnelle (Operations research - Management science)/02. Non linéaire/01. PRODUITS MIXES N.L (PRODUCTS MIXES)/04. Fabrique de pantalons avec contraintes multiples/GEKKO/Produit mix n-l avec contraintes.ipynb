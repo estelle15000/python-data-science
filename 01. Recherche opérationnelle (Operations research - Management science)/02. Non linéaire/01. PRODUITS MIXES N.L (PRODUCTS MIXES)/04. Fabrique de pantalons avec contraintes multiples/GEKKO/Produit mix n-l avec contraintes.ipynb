{
 "cells": [
  {
   "cell_type": "code",
   "execution_count": 6,
   "metadata": {},
   "outputs": [
    {
     "data": {
      "text/html": [
       "<img src=\"lin.jpg\" width=\"300\" height=\"300\"/>"
      ],
      "text/plain": [
       "<IPython.core.display.Image object>"
      ]
     },
     "execution_count": 6,
     "metadata": {},
     "output_type": "execute_result"
    }
   ],
   "source": [
    "\"\"\" Problème original non linéaire dérivé de Bernard_W_._Taylor_Introduction_to_Management_Science_11th_2013\n",
    "\n",
    "On vends 2 types de tshirts\n",
    "On a 3 contraintes différents.\n",
    "Plus le prix est cher, moins il y a de vente ( non linéaire )\n",
    "\n",
    "\n",
    "            Tissu  Tempsdécoupe Tempsfinition\n",
    "Tshirt 1 :  2       3.6         7.2\n",
    "Tshirt 2 :  2.7     2.9         8.5\n",
    "\n",
    "Contraintes:\n",
    "Tissus:\t6000\n",
    "Temps de découpe:\t8500\n",
    "Temps de finition:\t15000\n",
    "\n",
    "Le service commercial a déterminé que la relation linéaire entre le prix et le volume de vente\n",
    "est respectivement de : \n",
    "x1 = 1500 - 24.6p1\n",
    "x2 = 2700 - 63.8p2\n",
    "ou p1 est le prix de tshirt 1 et p2 est le prix de tshirt 2.\n",
    "\n",
    "Exemple de relation linéaire de ce type : \n",
    " \"\"\"\n",
    "from IPython.display import Image\n",
    "Image(url=\"lin.jpg\", width=300, height=300)\n",
    "\n",
    "\n"
   ]
  },
  {
   "cell_type": "code",
   "execution_count": 7,
   "metadata": {},
   "outputs": [
    {
     "data": {
      "text/html": [
       "<img src=\"nonlin.jpg\" width=\"300\" height=\"300\"/>"
      ],
      "text/plain": [
       "<IPython.core.display.Image object>"
      ]
     },
     "execution_count": 7,
     "metadata": {},
     "output_type": "execute_result"
    }
   ],
   "source": [
    "# On substitue ensuite ces 2 relations linaires dans notre fonction objectif qui est de maximiser notre profit : \n",
    "# maximiser Z = (p1 - 12) x1 + (p2 - 9) x2\n",
    "\n",
    "# Du coup, on a une foncttion objectif non linéaire qui ressemble à ça : \n",
    "\n",
    "\n",
    "Image(url=\"nonlin.jpg\", width=300, height=300)\n"
   ]
  },
  {
   "cell_type": "code",
   "execution_count": 10,
   "metadata": {},
   "outputs": [
    {
     "ename": "Exception",
     "evalue": "@error: Solution Not Found\n",
     "output_type": "error",
     "traceback": [
      "\u001b[1;31m---------------------------------------------------------------------------\u001b[0m",
      "\u001b[1;31mException\u001b[0m                                 Traceback (most recent call last)",
      "\u001b[1;32mc:\\www\\python-data-science2\\01. Recherche opérationnelle (Operations research - Management science)\\02. Non linéaire\\01. PRODUITS MIXES N.L (PRODUCTS MIXES)\\04. Fabrique de pantalons avec contraintes multiples\\GEKKO\\Produit mix n-l avec contraintes.ipynb Cellule 3\u001b[0m in \u001b[0;36m<cell line: 30>\u001b[1;34m()\u001b[0m\n\u001b[0;32m     <a href='vscode-notebook-cell:/c%3A/www/python-data-science2/01.%20Recherche%20op%C3%A9rationnelle%20%28Operations%20research%20-%20Management%20science%29/02.%20Non%20lin%C3%A9aire/01.%20PRODUITS%20MIXES%20N.L%20%28PRODUCTS%20MIXES%29/04.%20Fabrique%20de%20pantalons%20avec%20contraintes%20multiples/GEKKO/Produit%20mix%20n-l%20avec%20contraintes.ipynb#W1sZmlsZQ%3D%3D?line=24'>25</a>\u001b[0m m\u001b[39m.\u001b[39mMaximize((p1 \u001b[39m-\u001b[39m \u001b[39m12\u001b[39m) \u001b[39m*\u001b[39m x1 \u001b[39m+\u001b[39m (p2 \u001b[39m-\u001b[39m \u001b[39m9\u001b[39m) \u001b[39m*\u001b[39m x2) \n\u001b[0;32m     <a href='vscode-notebook-cell:/c%3A/www/python-data-science2/01.%20Recherche%20op%C3%A9rationnelle%20%28Operations%20research%20-%20Management%20science%29/02.%20Non%20lin%C3%A9aire/01.%20PRODUITS%20MIXES%20N.L%20%28PRODUCTS%20MIXES%29/04.%20Fabrique%20de%20pantalons%20avec%20contraintes%20multiples/GEKKO/Produit%20mix%20n-l%20avec%20contraintes.ipynb#W1sZmlsZQ%3D%3D?line=27'>28</a>\u001b[0m m\u001b[39m.\u001b[39moptions\u001b[39m.\u001b[39mIMODE \u001b[39m=\u001b[39m \u001b[39m3\u001b[39m \u001b[39m# Steady state optimization\u001b[39;00m\n\u001b[1;32m---> <a href='vscode-notebook-cell:/c%3A/www/python-data-science2/01.%20Recherche%20op%C3%A9rationnelle%20%28Operations%20research%20-%20Management%20science%29/02.%20Non%20lin%C3%A9aire/01.%20PRODUITS%20MIXES%20N.L%20%28PRODUCTS%20MIXES%29/04.%20Fabrique%20de%20pantalons%20avec%20contraintes%20multiples/GEKKO/Produit%20mix%20n-l%20avec%20contraintes.ipynb#W1sZmlsZQ%3D%3D?line=29'>30</a>\u001b[0m m\u001b[39m.\u001b[39;49msolve(disp\u001b[39m=\u001b[39;49m\u001b[39mFalse\u001b[39;49;00m) \u001b[39m# Solve\u001b[39;00m\n\u001b[0;32m     <a href='vscode-notebook-cell:/c%3A/www/python-data-science2/01.%20Recherche%20op%C3%A9rationnelle%20%28Operations%20research%20-%20Management%20science%29/02.%20Non%20lin%C3%A9aire/01.%20PRODUITS%20MIXES%20N.L%20%28PRODUCTS%20MIXES%29/04.%20Fabrique%20de%20pantalons%20avec%20contraintes%20multiples/GEKKO/Produit%20mix%20n-l%20avec%20contraintes.ipynb#W1sZmlsZQ%3D%3D?line=31'>32</a>\u001b[0m \u001b[39mprint\u001b[39m(\u001b[39m'\u001b[39m\u001b[39mResults\u001b[39m\u001b[39m'\u001b[39m)\n\u001b[0;32m     <a href='vscode-notebook-cell:/c%3A/www/python-data-science2/01.%20Recherche%20op%C3%A9rationnelle%20%28Operations%20research%20-%20Management%20science%29/02.%20Non%20lin%C3%A9aire/01.%20PRODUITS%20MIXES%20N.L%20%28PRODUCTS%20MIXES%29/04.%20Fabrique%20de%20pantalons%20avec%20contraintes%20multiples/GEKKO/Produit%20mix%20n-l%20avec%20contraintes.ipynb#W1sZmlsZQ%3D%3D?line=32'>33</a>\u001b[0m \u001b[39mprint\u001b[39m(\u001b[39m'\u001b[39m\u001b[39mx1: \u001b[39m\u001b[39m'\u001b[39m \u001b[39m+\u001b[39m \u001b[39mstr\u001b[39m(x1\u001b[39m.\u001b[39mvalue))\n",
      "File \u001b[1;32mc:\\Users\\estelle\\AppData\\Local\\Programs\\Python\\Python38\\lib\\site-packages\\gekko\\gekko.py:2140\u001b[0m, in \u001b[0;36mGEKKO.solve\u001b[1;34m(self, disp, debug, GUI, **kwargs)\u001b[0m\n\u001b[0;32m   2138\u001b[0m         \u001b[39mprint\u001b[39m(\u001b[39m\"\u001b[39m\u001b[39mError:\u001b[39m\u001b[39m\"\u001b[39m, errs)\n\u001b[0;32m   2139\u001b[0m     \u001b[39mif\u001b[39;00m (debug \u001b[39m>\u001b[39m\u001b[39m=\u001b[39m \u001b[39m1\u001b[39m) \u001b[39mand\u001b[39;00m record_error:\n\u001b[1;32m-> 2140\u001b[0m         \u001b[39mraise\u001b[39;00m \u001b[39mException\u001b[39;00m(apm_error)\n\u001b[0;32m   2142\u001b[0m \u001b[39melse\u001b[39;00m: \u001b[39m#solve on APM server\u001b[39;00m\n\u001b[0;32m   2143\u001b[0m     \u001b[39mdef\u001b[39;00m \u001b[39msend_if_exists\u001b[39m(extension):\n",
      "\u001b[1;31mException\u001b[0m: @error: Solution Not Found\n"
     ]
    }
   ],
   "source": [
    "# Maintenant, on va résoudre ce problème avec le solveur Gekko, plutôt qu'avec le solveur excel : \n",
    "\n",
    "from gekko import GEKKO\n",
    "\n",
    "m = GEKKO(remote=False) # Initialize gekko\n",
    "\n",
    "#The example problem that you referenced uses the default IPOPT solver. To get a binary or integer solution, switch to the APOPT solver.\n",
    "m.options.SOLVER = 1\n",
    "\n",
    "# Les variables de décision sont les prix des t shirts 1 et 2 qui vont permettre de maximiser la fonction profit.\n",
    "p1 = m.Var(value=1,lb=0,ub=1000,integer=True)\n",
    "p2 = m.Var(value=1,lb=0,ub=1000,integer=True)\n",
    "\n",
    "# Equations des contraintes\n",
    "m.Equation(2 * x1 + 2.7 * x2 <= 6000)\n",
    "m.Equation(3.6 * x1 + 2.9 * x2 <= 8500)\n",
    "m.Equation(7.2 * x1 + 8.5 * x2 <= 15000)\n",
    "\n",
    "# Equation des relations prix volume linéaire donnés par le service commercial\n",
    "m.Equation(x1 == 1500 - 24.6 * p1)\n",
    "m.Equation(x2 == 2700 - 63.8 * p2)\n",
    "\n",
    "\n",
    "# La fonction objectif non linéaire : (p1 - 12) x1 + (p2 - 9) x2\n",
    "m.Maximize(((p1 - 12) * x1) + ((p2 - 9) * x2)) \n",
    "\n",
    "\n",
    "m.options.IMODE = 3 # Steady state optimization\n",
    "\n",
    "m.solve(disp=False) # Solve\n",
    "\n",
    "print('Results')\n",
    "print('x1: ' + str(x1.value))\n",
    "print('x2: ' + str(x2.value))\n",
    "print('Objective: ' + str(m.options.objfcnval))\n",
    "\n"
   ]
  }
 ],
 "metadata": {
  "kernelspec": {
   "display_name": "Python 3.8.5 64-bit",
   "language": "python",
   "name": "python3"
  },
  "language_info": {
   "codemirror_mode": {
    "name": "ipython",
    "version": 3
   },
   "file_extension": ".py",
   "mimetype": "text/x-python",
   "name": "python",
   "nbconvert_exporter": "python",
   "pygments_lexer": "ipython3",
   "version": "3.8.5"
  },
  "orig_nbformat": 4,
  "vscode": {
   "interpreter": {
    "hash": "6bd0648e655c19027e4f56e697a7cd4ab7921013b5d2695c8854e14fd1f5ba73"
   }
  }
 },
 "nbformat": 4,
 "nbformat_minor": 2
}
