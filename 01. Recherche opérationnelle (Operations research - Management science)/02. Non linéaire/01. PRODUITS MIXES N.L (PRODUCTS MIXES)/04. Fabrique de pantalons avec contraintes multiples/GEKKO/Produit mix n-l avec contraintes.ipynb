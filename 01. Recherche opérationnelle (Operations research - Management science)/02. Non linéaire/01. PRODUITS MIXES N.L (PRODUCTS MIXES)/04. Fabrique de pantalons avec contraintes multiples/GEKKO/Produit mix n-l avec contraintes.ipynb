{
 "cells": [
  {
   "cell_type": "code",
   "execution_count": null,
   "metadata": {},
   "outputs": [],
   "source": [
    "Problème original dérivé de Bernard_W_._Taylor_Introduction_to_Management_Science_11th_2013\n",
    "\n",
    "On vends 2 types de tshirts\n",
    "On a 3 contraintes différents.\n",
    "Plus le prix est cher, moins il y a de vente ( non linéaire )\n",
    "\n",
    "\n",
    "            Tissu  Tempsdécoupe Tempsfinition\n",
    "Tshirt 1 :  2       3.6         7.2\n",
    "Tshirt 2 :  2.7     2.9         8.5\n",
    "\n",
    "Contraintes:\n",
    "Tissus:\t6000\n",
    "Temps de découpe:\t8500\n",
    "Temps de finition:\t15000\n",
    "\n"
   ]
  },
  {
   "cell_type": "code",
   "execution_count": null,
   "metadata": {},
   "outputs": [],
   "source": [
    "from gekko import GEKKO\n",
    "\n",
    "m = GEKKO(remote=False) # Initialize gekko\n",
    "\n",
    "#The example problem that you referenced uses the default IPOPT solver. To get a binary or integer solution, switch to the APOPT solver.\n",
    "m.options.SOLVER = 1\n",
    "\n",
    "# Initialize variables\n",
    "x1 = m.Var(value=1,lb=0,ub=1000,integer=True)\n",
    "x2 = m.Var(value=1,lb=0,ub=1000,integer=True)\n",
    "\n",
    "# Equations\n",
    "m.Equation(2 * x1 + 3 * x2 <= 800)\n",
    "m.Equation(2 * x1 + x2 <= 500)\n",
    "\n",
    "# Objective\n",
    "m.Maximize((160 - (0.4 * x1)) * x1 + (135 - (0.2 * x2 )) * x2) \n",
    "\n",
    "\n",
    "m.options.IMODE = 3 # Steady state optimization\n",
    "\n",
    "m.solve(disp=False) # Solve\n",
    "\n",
    "print('Results')\n",
    "print('x1: ' + str(x1.value))\n",
    "print('x2: ' + str(x2.value))\n",
    "print('Objective: ' + str(m.options.objfcnval))\n",
    "\n",
    "# Les résultats sont identiques au fichier EXCEL, sauf le profit un peu différent, surement parceque excel n'est pas paramétré en integer (entiers).\n",
    "# Results\n",
    "# x1: [144.0]\n",
    "# x2: [170.0]\n",
    "# Objective: -31915.6"
   ]
  }
 ],
 "metadata": {
  "language_info": {
   "name": "python"
  },
  "orig_nbformat": 4
 },
 "nbformat": 4,
 "nbformat_minor": 2
}
