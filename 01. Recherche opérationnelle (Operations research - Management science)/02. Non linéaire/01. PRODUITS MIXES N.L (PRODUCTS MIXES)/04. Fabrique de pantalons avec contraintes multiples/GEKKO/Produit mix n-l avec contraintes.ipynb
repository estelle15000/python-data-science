{
 "cells": [
  {
   "cell_type": "code",
   "execution_count": 6,
   "metadata": {},
   "outputs": [
    {
     "data": {
      "text/html": [
       "<img src=\"lin.jpg\" width=\"300\" height=\"300\"/>"
      ],
      "text/plain": [
       "<IPython.core.display.Image object>"
      ]
     },
     "execution_count": 6,
     "metadata": {},
     "output_type": "execute_result"
    }
   ],
   "source": [
    "\"\"\" Problème original non linéaire dérivé de Bernard_W_._Taylor_Introduction_to_Management_Science_11th_2013\n",
    "\n",
    "On vends 2 types de tshirts\n",
    "On a 3 contraintes différents.\n",
    "Plus le prix est cher, moins il y a de vente ( non linéaire )\n",
    "\n",
    "\n",
    "            Tissu  Tempsdécoupe Tempsfinition\n",
    "Tshirt 1 :  2       3.6         7.2\n",
    "Tshirt 2 :  2.7     2.9         8.5\n",
    "\n",
    "Contraintes:\n",
    "Tissus:\t6000\n",
    "Temps de découpe:\t8500\n",
    "Temps de finition:\t15000\n",
    "\n",
    "Le service commercial a déterminé que la relation linéaire entre le prix et le volume de vente\n",
    "est respectivement de : \n",
    "x1 = 1500 - 24.6p1\n",
    "x2 = 2700 - 63.8p2\n",
    "ou p1 est le prix de tshirt 1 et p2 est le prix de tshirt 2.\n",
    "\n",
    "Exemple de relation linéaire de ce type : \n",
    " \"\"\"\n",
    "from IPython.display import Image\n",
    "Image(url=\"lin.jpg\", width=300, height=300)\n",
    "\n",
    "\n"
   ]
  },
  {
   "cell_type": "code",
   "execution_count": 7,
   "metadata": {},
   "outputs": [
    {
     "data": {
      "text/html": [
       "<img src=\"nonlin.jpg\" width=\"300\" height=\"300\"/>"
      ],
      "text/plain": [
       "<IPython.core.display.Image object>"
      ]
     },
     "execution_count": 7,
     "metadata": {},
     "output_type": "execute_result"
    }
   ],
   "source": [
    "# On substitue ensuite ces 2 relations linaires dans notre fonction objectif qui est de maximiser notre profit : \n",
    "# maximiser Z = (p1 - 12) x1 + (p2 - 9) x2\n",
    "\n",
    "# Du coup, on a une foncttion objectif non linéaire qui ressemble à ça : \n",
    "\n",
    "\n",
    "Image(url=\"nonlin.jpg\", width=300, height=300)\n"
   ]
  },
  {
   "cell_type": "code",
   "execution_count": 8,
   "metadata": {},
   "outputs": [
    {
     "name": "stdout",
     "output_type": "stream",
     "text": [
      "Results\n",
      "x1: [144.0]\n",
      "x2: [170.0]\n",
      "Objective: -31915.6\n"
     ]
    }
   ],
   "source": [
    "# Maintenant, on va résoudre ce problème avec le solveur Gekko, plutôt qu'avec le solveur excel : \n",
    "\n",
    "\n",
    "from gekko import GEKKO\n",
    "\n",
    "m = GEKKO(remote=False) # Initialize gekko\n",
    "\n",
    "#The example problem that you referenced uses the default IPOPT solver. To get a binary or integer solution, switch to the APOPT solver.\n",
    "m.options.SOLVER = 1\n",
    "\n",
    "# Initialize variables\n",
    "x1 = m.Var(value=1,lb=0,ub=1000,integer=True)\n",
    "x2 = m.Var(value=1,lb=0,ub=1000,integer=True)\n",
    "\n",
    "# Equations des contraintes\n",
    "m.Equation(2 * x1 + 2.7 * x2 <= 6000)\n",
    "m.Equation(3.6 * x1 + 2.9 * x2 <= 8500)\n",
    "m.Equation(7.2 * x1 + 8.5 * x2 <= 15000)\n",
    "\n",
    "# Objective\n",
    "m.Maximize((160 - (0.4 * x1)) * x1 + (135 - (0.2 * x2 )) * x2) \n",
    "\n",
    "\n",
    "m.options.IMODE = 3 # Steady state optimization\n",
    "\n",
    "m.solve(disp=False) # Solve\n",
    "\n",
    "print('Results')\n",
    "print('x1: ' + str(x1.value))\n",
    "print('x2: ' + str(x2.value))\n",
    "print('Objective: ' + str(m.options.objfcnval))\n",
    "\n",
    "# Les résultats sont identiques au fichier EXCEL, sauf le profit un peu différent, surement parceque excel n'est pas paramétré en integer (entiers).\n",
    "# Results\n",
    "# x1: [144.0]\n",
    "# x2: [170.0]\n",
    "# Objective: -31915.6"
   ]
  }
 ],
 "metadata": {
  "kernelspec": {
   "display_name": "Python 3.8.5 64-bit",
   "language": "python",
   "name": "python3"
  },
  "language_info": {
   "codemirror_mode": {
    "name": "ipython",
    "version": 3
   },
   "file_extension": ".py",
   "mimetype": "text/x-python",
   "name": "python",
   "nbconvert_exporter": "python",
   "pygments_lexer": "ipython3",
   "version": "3.8.5"
  },
  "orig_nbformat": 4,
  "vscode": {
   "interpreter": {
    "hash": "6bd0648e655c19027e4f56e697a7cd4ab7921013b5d2695c8854e14fd1f5ba73"
   }
  }
 },
 "nbformat": 4,
 "nbformat_minor": 2
}
