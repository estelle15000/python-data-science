{
 "cells": [
  {
   "cell_type": "code",
   "execution_count": 20,
   "metadata": {},
   "outputs": [
    {
     "data": {
      "text/html": [
       "<img src=\"lin.jpg\" width=\"300\" height=\"300\"/>"
      ],
      "text/plain": [
       "<IPython.core.display.Image object>"
      ]
     },
     "execution_count": 20,
     "metadata": {},
     "output_type": "execute_result"
    }
   ],
   "source": [
    "\"\"\" Problème original non linéaire dérivé de Bernard_W_._Taylor_Introduction_to_Management_Science_11th_2013\n",
    "\n",
    "On vends 2 types de tshirts\n",
    "On a 3 contraintes différents.\n",
    "Plus le prix est cher, moins il y a de vente ( non linéaire )\n",
    "\n",
    "\n",
    "            Tissu  Tempsdécoupe Tempsfinition\n",
    "Tshirt 1 :  2       3.6         7.2\n",
    "Tshirt 2 :  2.7     2.9         8.5\n",
    "\n",
    "Contraintes:\n",
    "Tissus:\t6000\n",
    "Temps de découpe:\t8500\n",
    "Temps de finition:\t15000\n",
    "\n",
    "Le service commercial a déterminé que la relation linéaire entre le prix et le volume de vente\n",
    "est respectivement de : \n",
    "x1 = 1500 - 24.6p1\n",
    "x2 = 2700 - 63.8p2\n",
    "ou p1 est le prix de tshirt 1 et p2 est le prix de tshirt 2.\n",
    "\n",
    "Exemple de relation linéaire de ce type, on voit que plus le prix augmente, moins le volume de vente est élevé, ce qui est normal : \n",
    " \"\"\"\n",
    "from IPython.display import Image\n",
    "Image(url=\"lin.jpg\", width=300, height=300)\n",
    "\n",
    "\n"
   ]
  },
  {
   "cell_type": "code",
   "execution_count": 30,
   "metadata": {},
   "outputs": [
    {
     "data": {
      "text/html": [
       "<img src=\"nonlin.jpg\" width=\"300\" height=\"300\"/>"
      ],
      "text/plain": [
       "<IPython.core.display.Image object>"
      ]
     },
     "execution_count": 30,
     "metadata": {},
     "output_type": "execute_result"
    }
   ],
   "source": [
    "# Ensuite, le but a être de substituer x1 et x2 dans notre fonction objectif  :\n",
    "# Notre fonction objectif Z est de maximiser le profit , elle est habituelle dans les solveurs.\n",
    "# (p1 - 12) x1 + (p2 - 9) x2\n",
    "# p1 est le prix, 12 est le cout unitaire de production du t shirt 2, x1 est à substituer par ce qu'on a vu plus haut...\n",
    "# Et ainsi de suite...\n",
    "\n",
    "# Vu que cela provoque des élevations au carré, elle aura donc un aspect en courbe de ce type : \n",
    "Image(url=\"nonlin.jpg\", width=300, height=300)"
   ]
  },
  {
   "cell_type": "code",
   "execution_count": 29,
   "metadata": {},
   "outputs": [
    {
     "name": "stdout",
     "output_type": "stream",
     "text": [
      " ----------------------------------------------------------------\n",
      " APMonitor, Version 1.0.0\n",
      " APMonitor Optimization Suite\n",
      " ----------------------------------------------------------------\n",
      " \n",
      " \n",
      " --------- APM Model Size ------------\n",
      " Each time step contains\n",
      "   Objects      :  0\n",
      "   Constants    :  0\n",
      "   Variables    :  5\n",
      "   Intermediates:  0\n",
      "   Connections  :  0\n",
      "   Equations    :  6\n",
      "   Residuals    :  6\n",
      " \n",
      " Number of state variables:    5\n",
      " Number of total equations: -  5\n",
      " Number of slack variables: -  3\n",
      " ---------------------------------------\n",
      " Degrees of freedom       :    -3\n",
      " \n",
      " * Warning: DOF <= 0\n",
      " **********************************************\n",
      " Steady State Optimization with Interior Point Solver\n",
      " **********************************************\n",
      "  \n",
      "  \n",
      " Info: Exact Hessian\n",
      "\n",
      "******************************************************************************\n",
      "This program contains Ipopt, a library for large-scale nonlinear optimization.\n",
      " Ipopt is released as open source code under the Eclipse Public License (EPL).\n",
      "         For more information visit http://projects.coin-or.org/Ipopt\n",
      "******************************************************************************\n",
      "\n",
      "This is Ipopt version 3.10.2, running with linear solver mumps.\n",
      "\n",
      "Number of nonzeros in equality constraint Jacobian...:       11\n",
      "Number of nonzeros in inequality constraint Jacobian.:        0\n",
      "Number of nonzeros in Lagrangian Hessian.............:        2\n",
      "\n",
      "Total number of variables............................:        5\n",
      "                     variables with only lower bounds:        3\n",
      "                variables with lower and upper bounds:        0\n",
      "                     variables with only upper bounds:        0\n",
      "Total number of equality constraints.................:        5\n",
      "Total number of inequality constraints...............:        0\n",
      "        inequality constraints with only lower bounds:        0\n",
      "   inequality constraints with lower and upper bounds:        0\n",
      "        inequality constraints with only upper bounds:        0\n",
      "\n",
      "iter    objective    inf_pr   inf_du lg(mu)  ||d||  lg(rg) alpha_du alpha_pr  ls\n",
      "   0 4.2300000e+004 1.88e+004 1.00e+002   0.0 0.00e+000    -  0.00e+000 0.00e+000   0\n",
      "   1 4.2298798e+004 1.87e+004 1.00e+002   0.0 1.70e+003    -  5.82e-006 1.45e-005h  1\n",
      "   2 2.4333853e+005 7.17e-005 6.01e+002  -1.6 2.08e+003    -  1.65e-005 1.00e+000h  1\n",
      "   3 2.3547739e+005 2.90e-005 6.29e+000   0.9 4.01e+001    -  1.06e-001 1.00e+000f  1\n",
      "   4 -3.2012157e+004 1.18e-006 1.69e-002  -1.6 2.60e+003    -  9.89e-001 1.00e+000f  1\n",
      "Cannot recompute multipliers for feasibility problem.  Error in eq_mult_calculator\n",
      "\n",
      "Number of Iterations....: 4\n",
      "\n",
      "                                   (scaled)                 (unscaled)\n",
      "Objective...............: -9.7770926568187497e+002  -3.2012156776955948e+004\n",
      "Dual infeasibility......:  1.6900699526638745e-002   5.5336270390120579e-001\n",
      "Constraint violation....:  2.1786444388259300e-007   1.1814788791753017e-006\n",
      "Complementarity.........:  0.0000000000000000e+000   0.0000000000000000e+000\n",
      "Overall NLP error.......:  2.1786444388259300e-007   5.5336270390120579e-001\n",
      "\n",
      "\n",
      "Number of objective function evaluations             = 5\n",
      "Number of objective gradient evaluations             = 5\n",
      "Number of equality constraint evaluations            = 5\n",
      "Number of inequality constraint evaluations          = 0\n",
      "Number of equality constraint Jacobian evaluations   = 5\n",
      "Number of inequality constraint Jacobian evaluations = 0\n",
      "Number of Lagrangian Hessian evaluations             = 4\n",
      "Total CPU secs in IPOPT (w/o function evaluations)   =      0.004\n",
      "Total CPU secs in NLP function evaluations           =      0.001\n",
      "\n",
      "EXIT: Optimal Solution Found.\n",
      "\n",
      " The solution was found.\n",
      "\n",
      " The final value of the objective function is  -32012.156776955948\n",
      " \n",
      " ---------------------------------------------------\n",
      " Solver         :  IPOPT (v3.12)\n",
      " Solution time  :  0.008900000000000002 sec\n",
      " Objective      :  -32012.156776955948\n",
      " Successful solution\n",
      " ---------------------------------------------------\n",
      " \n",
      "\n",
      "Results\n",
      "x1: [34.503032444]\n",
      "x2: [23.317106469]\n",
      "Objective: -32012.156777\n"
     ]
    }
   ],
   "source": [
    "# Maintenant, on va résoudre ce problème avec le solveur Gekko, plutôt qu'avec le solveur excel : \n",
    "\n",
    "from gekko import GEKKO\n",
    "\n",
    "m = GEKKO(remote=False) # Initialize gekko\n",
    "\n",
    "#The example problem that you referenced uses the default IPOPT solver. To get a binary or integer solution, switch to the APOPT solver.\n",
    "# m.options.SOLVER = 1\n",
    "\n",
    "# Les variables de décision sont les prix des t shirts 1 et 2 qui vont permettre de maximiser la fonction profit.\n",
    "p1 = m.Var()\n",
    "p2 = m.Var()\n",
    "\n",
    "# Equation des relations prix volume linéaire donnés par le service commercial, \n",
    "# c'est ensuite substitué dans la fonction objectif ci dessous et aussi dans les contraintes !\n",
    "m.Equation(x1 == 1500 - 24.6 * p1)\n",
    "m.Equation(x2 == 2700 - 63.8 * p2)\n",
    "\n",
    "# Equations des contraintes\n",
    "m.Equation(2 * x1 + 2.7 * x2 <= 6000)\n",
    "m.Equation(3.6 * x1 + 2.9 * x2 <= 8500)\n",
    "m.Equation(7.2 * x1 + 8.5 * x2 <= 15000)\n",
    "\n",
    "# La fonction objectif non linéaire : (p1 - 12) x1 + (p2 - 9) x2\n",
    "m.Maximize(((p1 - 12) * x1) + ((p2 - 9) * x2))\n",
    "\n",
    "m.options.IMODE = 3 # Steady state optimization\n",
    "\n",
    "m.solve() # Solve\n",
    "\n",
    "print('Results')\n",
    "print('x1: ' + str(p1.value))\n",
    "print('x2: ' + str(p2.value))<\n",
    "print('Objective: ' + str(m.options.objfcnval))\n",
    "\n",
    "\n",
    "\"\"\" Le résultat n'est pas exactement le même que Excel, mais pas loin du tout, je \n",
    "cherche pourquoi ce n'est pas exactement pareil.\n",
    "Le solveur nous dit que le prix du t shirt 1 DOIT être fixé à 34.50 euros \n",
    "et que le t shirt 2 doit être fixé à 23.31 euros pour\n",
    "maximiser notre profit qui sera de 32 012.15 euros . \"\"\"\n",
    "\n",
    "# x1: [34.503032444]\n",
    "# x2: [23.317106469]\n",
    "# Objective: -32012.156777\n",
    "\n",
    "\n"
   ]
  }
 ],
 "metadata": {
  "kernelspec": {
   "display_name": "Python 3.8.5 64-bit",
   "language": "python",
   "name": "python3"
  },
  "language_info": {
   "codemirror_mode": {
    "name": "ipython",
    "version": 3
   },
   "file_extension": ".py",
   "mimetype": "text/x-python",
   "name": "python",
   "nbconvert_exporter": "python",
   "pygments_lexer": "ipython3",
   "version": "3.8.5"
  },
  "orig_nbformat": 4,
  "vscode": {
   "interpreter": {
    "hash": "6bd0648e655c19027e4f56e697a7cd4ab7921013b5d2695c8854e14fd1f5ba73"
   }
  }
 },
 "nbformat": 4,
 "nbformat_minor": 2
}
