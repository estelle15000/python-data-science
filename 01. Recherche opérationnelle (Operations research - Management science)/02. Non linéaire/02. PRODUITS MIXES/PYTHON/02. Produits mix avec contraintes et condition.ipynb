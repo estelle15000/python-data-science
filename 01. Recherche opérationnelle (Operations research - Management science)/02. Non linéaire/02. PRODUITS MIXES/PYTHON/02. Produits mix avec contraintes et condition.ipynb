{
 "cells": [
  {
   "attachments": {},
   "cell_type": "markdown",
   "metadata": {},
   "source": [
    "# Optimisation non linéaire de type Mix de Produits.\n",
    "\n",
    "## Introduction\n",
    "\n",
    "Dans ce notebook, je vais faire une optimisation non linéaire de type mixe de produits.\n",
    "C'est non linéaire, parce que , plus l'usine réalise de produits, moins le prix de vente est cher\n",
    " ce qui provoque une élevation au carré dans la fonction objectif.\n",
    "J'ajoute des contraintes de stocks et de temps de travail Maximum.\n",
    "Et si le nombre d'objets produits A, B ou C dépasse un certain nombre, alors un coût de maintenance k s'applique.\n",
    "De plus on va modéliser le problème mathématique à l'aide de Latex avant tout.\n",
    "\n",
    "** CREATION EN COURS **\n",
    "\n",
    "Estelle Derrien 2023\n",
    "\n",
    "# Sommaire :\n",
    "\n",
    "- Description du problème\n",
    "- Modélisation mathématique avec Latex.\n",
    "- Création du problème avec Gekko.\n",
    "- Modélisation et Ajout des variables binaires conditionnelles.\n",
    "- Création de boucles for  dans la fonction objectif et les contraintes , pour écrire plus vite l'optimisation.\n",
    "- Liens Internet nécessaires pour comprendre.\n",
    "\n",
    "\n",
    "# Description du problème\n",
    "\n",
    "J'ai une machine qui produit 3 pièces. La machine peut travailler 1000 heures au maximum. \n",
    "\n",
    "Le prix de vente des pièces A,B et C diminue avec la quantité produite.\n",
    "\n",
    "Le prix de vente de la pièce A est 81-quantité de A/20 ( Le prix décroit si on produit beaucoup)\n",
    "\n",
    "Le prix de vente de la pièce B est 90-quantité de B/10 \n",
    "\n",
    "Le prix de vente de la pièce C est 85-quantité de C/10 \n",
    "\n",
    "On a pour contrainte de stocks 3000 kgs de métal,\n",
    "2000 heures de temps de travail et 2500 kgs de plastique.\n",
    "\n",
    "si A, B ou C sont  < 500, alors on soustrait 10 euros de coût de maintenance dans la fonction objectif.\n",
    "\n",
    "si A, B ou C sont > 500 alors on soustrait 20 euros de côut de maintenance dans é la fonction objectif.\n",
    "\n",
    "\n",
    "\n",
    "Quel type et Combien de pièces produire afin de maximiser mon profit ?\n",
    "\n",
    "# Modélisation mathématique\n",
    "(Il y a un Bug de passage de lignes dans Github)\n",
    "\n",
    "$$\n",
    "max \\sum_{1}^{i}  xi * (PrixVente(i) - \\frac{xi}{Reduction}) \\newline\n",
    "\\textit{Sous les contraintes} \\newline\n",
    "\\sum_{1}^{i} xi * Metal(i) \\leq 3000 \\newline\n",
    "\\sum_{1}^{i} xi * Htravail(i) \\leq 2000 \\newline\n",
    "\\sum_{1}^{i} xi * Plastique(i) \\leq 2500 \\newline\n",
    "$$\n",
    "Et maintenant, les 3 variables conditionnelles :\n",
    "\n",
    "A faire\n",
    "\n"
   ]
  },
  {
   "attachments": {},
   "cell_type": "markdown",
   "metadata": {},
   "source": [
    "On réécrit la modélisation comme ça, à cause du bug de passage des lignes dans github."
   ]
  },
  {
   "cell_type": "code",
   "execution_count": 6,
   "metadata": {},
   "outputs": [
    {
     "data": {
      "text/latex": [
       "$\\displaystyle max \\sum_{1}^{i}  xi * (prixVente(i) - \\frac{xi}{reduction}) $"
      ],
      "text/plain": [
       "<IPython.core.display.Math object>"
      ]
     },
     "metadata": {},
     "output_type": "display_data"
    },
    {
     "data": {
      "text/latex": [
       "$\\displaystyle Sous.les.contraintes$"
      ],
      "text/plain": [
       "<IPython.core.display.Math object>"
      ]
     },
     "metadata": {},
     "output_type": "display_data"
    },
    {
     "data": {
      "text/latex": [
       "$\\displaystyle \\sum_{1}^{i} xi * metal(i) \\leq 3000 $"
      ],
      "text/plain": [
       "<IPython.core.display.Math object>"
      ]
     },
     "metadata": {},
     "output_type": "display_data"
    },
    {
     "data": {
      "text/latex": [
       "$\\displaystyle \\sum_{1}^{i} xi * h_travail(i) \\leq 2000 $"
      ],
      "text/plain": [
       "<IPython.core.display.Math object>"
      ]
     },
     "metadata": {},
     "output_type": "display_data"
    },
    {
     "data": {
      "text/latex": [
       "$\\displaystyle \\sum_{1}^{i} xi * plastique(i) \\leq 2500 $"
      ],
      "text/plain": [
       "<IPython.core.display.Math object>"
      ]
     },
     "metadata": {},
     "output_type": "display_data"
    }
   ],
   "source": [
    "\n",
    "\n",
    "from IPython.display import display, Math, Latex\n",
    "display(Math(r'max \\sum_{1}^{i}  xi * (prixVente(i) - \\frac{xi}{reduction}) '))\n",
    "display(Math(r'Sous.les.contraintes'))\n",
    "display(Math(r'\\sum_{1}^{i} xi * metal(i) \\leq 3000 '))\n",
    "display(Math(r'\\sum_{1}^{i} xi * h_travail(i) \\leq 2000 '))\n",
    "display(Math(r'\\sum_{1}^{i} xi * plastique(i) \\leq 2500 '))"
   ]
  },
  {
   "attachments": {},
   "cell_type": "markdown",
   "metadata": {},
   "source": [
    "# Création du problème avec Gekko.\n",
    "\n",
    "Dans un premier temps, on va déjà faire tourner le programme sans les variables binaires, mais avec seulements les contraintes de type stock et temps machine ."
   ]
  },
  {
   "cell_type": "code",
   "execution_count": 7,
   "metadata": {},
   "outputs": [
    {
     "name": "stdout",
     "output_type": "stream",
     "text": [
      "Solution\n",
      "A: [415.0]\n",
      "B: [121.0]\n",
      "C: [162.0]\n",
      "Objectif: 45575.25\n"
     ]
    }
   ],
   "source": [
    "# On importe Gekko\n",
    "from gekko import GEKKO\n",
    "\n",
    "m = GEKKO(remote=False) # Initialize gekko\n",
    "\n",
    "#The example problem that you referenced uses the default IPOPT solver. \n",
    "# To get a binary or integer solution, switch to the APOPT solver.\n",
    "# The default solver is IPOPT and it doesn't give an integer solution. Try the APOPT solver instead.\n",
    "# https://apmonitor.com/wiki/index.php/Main/OptionApmSolver\n",
    "m.options.SOLVER = 1\n",
    "\n",
    "# Variables générales\n",
    "pieces = ['A','B','C']\n",
    "disponibilite_machine = 1000\n",
    "stock_metal = 3000\n",
    "stock_heures_travail = 2000\n",
    "stock_plastique = 2500\n",
    "\n",
    "# Les caractéristiques de nos produits A, B et C au format dictionnaire, \n",
    "# pour pouvoir itérer dessus ensuite dans les contraintes.\n",
    "prix_vente = {'A':81,'B':90,'C':85}\n",
    "metal = {'A':3,'B':4,'C':5}\n",
    "travail = {'A':1,'B':2,'C':2}\n",
    "plastique = {'A':3,'B':5,'C':4}\n",
    "\n",
    "# On crée les variables de décision , ce sera notre nombre de pièces à réaliser, vu qu'on ne \n",
    "# peut pas avoir 1/2 objet, on dit que ce sont des variables entières.\n",
    "\n",
    "A = m.Var(value=1,lb=0,ub=10000,integer=True)\n",
    "B = m.Var(value=1,lb=0,ub=10000,integer=True)\n",
    "C = m.Var(value=1,lb=0,ub=10000,integer=True)\n",
    "\n",
    "# Voici notre fonction objectif , qui tient compte du fait que plus on produits de pièces, Moins ça coute cher !!\n",
    "# On voit qu'elle est non linéaire parce que A , B et C sont élevés au carré !!\n",
    "m.Maximize( A * (81 - ( A / 20  )) + B * (90 - (B / 10)) + C * (85 - (C / 10)))\n",
    "\n",
    "# contraintes\n",
    "m.Equation( A + B + C <= disponibilite_machine) # La machine un peut travailler 1000 heures maximum\n",
    "m.Equation(3 * A + 4 * B + 5 * C <= stock_metal)\n",
    "m.Equation(1 * A + 2 * B + 2 * C <= stock_heures_travail)\n",
    "m.Equation(3 * A + 5 * B + 4 * C <= stock_plastique)\n",
    "\n",
    "# Cette contrainte écrite à la manière de Python Pulp ne fonctionne pas.\n",
    "# m.Equation(sum(metal[i] * pieces[i] for i in pieces) <= stock_metal)\n",
    "\n",
    "# On imprime le résultat \n",
    "m.options.IMODE = 3 # Steady state optimization\n",
    "\n",
    "m.solve(disp=False) # Solve\n",
    "\n",
    "print('Solution')\n",
    "\n",
    "print('A: ' + str(A.value))\n",
    "print('B: ' + str(B.value))\n",
    "print('C: ' + str(C.value))\n",
    "\n",
    "print('Objectif: ' + str(-m.options.objfcnval))"
   ]
  },
  {
   "attachments": {},
   "cell_type": "markdown",
   "metadata": {},
   "source": [
    "# Ajout des variables binaires conditionnelles.\n",
    "\n",
    "Création En cours !\n",
    "\n",
    "Tout d'abord, on visualise nos contraintes de type <b>discontinues</b> avec Matplot lib :"
   ]
  },
  {
   "cell_type": "code",
   "execution_count": 8,
   "metadata": {},
   "outputs": [
    {
     "data": {
      "image/png": "[encoded data removed]",
      "text/plain": [
       "<Figure size 640x480 with 1 Axes>"
      ]
     },
     "metadata": {},
     "output_type": "display_data"
    }
   ],
   "source": [
    "# On visualise nos contraintes de type discontinues avec les valeurs réelles de notre problème\n",
    "import matplotlib.pyplot as plt\n",
    "plt.plot([0,499,500,1999], [10, 10, 20,20,])\n",
    "plt.xlabel('Nombre de pièces produites')\n",
    "plt.ylabel('Coût de maintenance en euros')\n",
    "plt.show()"
   ]
  },
  {
   "attachments": {},
   "cell_type": "markdown",
   "metadata": {},
   "source": [
    "# Création de boucles for pour aller plus vite dans l'optimisation.\n",
    "\n",
    "Pour itérer avec Gekko, c'est malheureusement différent du solveur Python Pulp : \n",
    "\n",
    "https://stackoverflow.com/questions/64542594/how-could-constraints-be-dynamically-constructed-in-gekko\n",
    "\n",
    "https://www.solvermax.com/blog/production-mix-model-9-gekko\n",
    "\n",
    "On essaye donc d'itérer dans la fonction objectif et les contraintes, avec sa méthode :\n"
   ]
  },
  {
   "cell_type": "code",
   "execution_count": 48,
   "metadata": {},
   "outputs": [
    {
     "name": "stdout",
     "output_type": "stream",
     "text": [
      "{'A': 0, 'B': 0, 'C': 0}\n",
      "Solution\n",
      "A 415.42372881\n",
      "B 121.18644068\n",
      "C 161.94915254\n",
      "Cost: 45601.567797\n",
      "Objectif: 45601.567797\n"
     ]
    }
   ],
   "source": [
    "# On importe Gekko\n",
    "from gekko import GEKKO\n",
    "\n",
    "m = GEKKO(remote=False) # Initialize gekko\n",
    "\n",
    "#The example problem that you referenced uses the default IPOPT solver. \n",
    "# To get a binary or integer solution, switch to the APOPT solver.\n",
    "# The default solver is IPOPT and it doesn't give an integer solution. Try the APOPT solver instead.\n",
    "# https://apmonitor.com/wiki/index.php/Main/OptionApmSolver\n",
    "m.options.SOLVER = 1\n",
    "\n",
    "# Variables générales\n",
    "pieces = ['A','B','C']\n",
    "disponibilite_machine = 500\n",
    "stock_metal = 3000\n",
    "stock_heures_travail = 2000\n",
    "stock_plastique = 2500\n",
    "\n",
    "# Les caractéristiques de nos produits A, B et C au format dictionnaire, \n",
    "# pour pouvoir itérer dessus ensuite dans les contraintes.\n",
    "prix_vente = {'A':81,'B':90,'C':85}\n",
    "metal = {'A':3,'B':4,'C':5}\n",
    "travail = {'A':1,'B':2,'C':2}\n",
    "plastique = {'A':3,'B':5,'C':4}\n",
    "\n",
    "# On crée les variables de décision , ce sera notre nombre de pièces à réaliser, vu qu'on ne \n",
    "# peut pas avoir 1/2 objet, on dit que ce sont des variables entières.\n",
    "va = m.Array(m.Var,(len(pieces)))  # array\n",
    "\n",
    "# on crée un dictionnaire, astuce donnée par John Hendergren, pour pouvoir itérer après dans les contraintes\n",
    "vd = {}                             # dictionary\n",
    "for i,xi in enumerate(pieces):\n",
    "    vd[xi] = va[i]\n",
    "\n",
    "\n",
    "\n",
    "# Voici notre fonction objectif , qui tient compte du fait que plus on produits de pièces, Moins ça coute cher !!\n",
    "# On voit qu'elle est non linéaire parce que A , B et C sont élevés au carré !!\n",
    "# m.Maximize( A * (81 - ( A / 20  )) + B * (90 - (B / 10)) + C * (85 - (C / 10)))\n",
    "\n",
    "# On se sert du tableau pour écrire la fonction objectif\n",
    "m.Maximize( va[0] * (81 - ( va[0] / 20 )) + va[1] * (90 - ( va[1] / 10)) +  va[2]  * (85 - (va[2]  / 10) ))\n",
    "\n",
    "\n",
    "# contraintes, On les écrit désormais en itérant\n",
    "\n",
    "# m.Equation(3 * A + 4 * B + 5 * C <= stock_metal)\n",
    "m.Equation(m.sum([metal[xi]*vd[xi] for xi in pieces])<=stock_metal)\n",
    "\n",
    "# m.Equation(1 * A + 2 * B + 2 * C <= stock_heures_travail)\n",
    "m.Equation(m.sum([travail[xi]*vd[xi] for xi in pieces])<=stock_heures_travail)\n",
    "\n",
    "# m.Equation(3 * A + 5 * B + 4 * C <= stock_plastique)\n",
    "m.Equation(m.sum([plastique[xi]*vd[xi] for xi in pieces])<=stock_plastique)\n",
    "\n",
    "\n",
    "# On imprime le résultat \n",
    "m.options.IMODE = 3 # Steady state optimization\n",
    "\n",
    "m.solve(disp=False) # Solve\n",
    "\n",
    "print('Solution')\n",
    "\n",
    "# On affiche le résultat\n",
    "for xi in pieces:\n",
    "    print(xi,vd[xi].value[0])\n",
    "\n",
    "\n",
    "print('Objectif: ' + str(-m.options.objfcnval))\n",
    "\n",
    "# On voit qu'on trouve la même solution que sans itérer.\n"
   ]
  },
  {
   "attachments": {},
   "cell_type": "markdown",
   "metadata": {},
   "source": [
    "# Liens : \n",
    "- https://stackoverflow.com/questions/74133047/binary-variable-in-gekko-optimization-problem\n",
    "\n",
    "- https://math.stackexchange.com/questions/1851140/binary-integer-variables-in-linear-programming\n",
    "\n",
    "- https://towardsdatascience.com/hands-on-integer-binary-linear-optimization-using-python-b6d8160cb1de\n",
    "\n",
    "- https://stackoverflow.com/questions/56854536/from-pulp-to-gekko-syntax-mapping-for-constraints-objective-function\n",
    "\n",
    "- https://stackoverflow.com/questions/64577733/how-to-make-constriants-in-gekko-by-for-loop\n",
    "\n",
    "- https://stackoverflow.com/questions/64542594/how-could-constraints-be-dynamically-constructed-in-gekko"
   ]
  }
 ],
 "metadata": {
  "kernelspec": {
   "display_name": "Python 3",
   "language": "python",
   "name": "python3"
  },
  "language_info": {
   "codemirror_mode": {
    "name": "ipython",
    "version": 3
   },
   "file_extension": ".py",
   "mimetype": "text/x-python",
   "name": "python",
   "nbconvert_exporter": "python",
   "pygments_lexer": "ipython3",
   "version": "3.8.0"
  },
  "orig_nbformat": 4
 },
 "nbformat": 4,
 "nbformat_minor": 2
}
