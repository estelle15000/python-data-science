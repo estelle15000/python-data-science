{
 "cells": [
  {
   "attachments": {},
   "cell_type": "markdown",
   "metadata": {},
   "source": [
    "# Optimisation non linéaire.\n",
    "\n",
    "## Introduction\n",
    "\n",
    "Dans ce notebook, je vais faire une optimisation non linéaire de type mixe de produits.\n",
    "C'est non linéaire, parce que , plus l'usine réalise de produits, moins le prix de vente est cher\n",
    "pour l'acheteur.\n",
    "J'ajoute des contraintes de stocks et de temps de travail Maximum.\n",
    "Et si le nombre d'objets produits A, B ou C dépasse 500, alors un coût de maintenance s'applique.\n",
    "De plus on va modéliser le problème mathématique à l'aide de Latex avant tout.\n",
    "\n",
    "** CREATION EN COURS **\n",
    "\n",
    "Estelle Derrien 2023\n",
    "\n",
    "# Sommaire :\n",
    "\n",
    "- Création du problème avec Gekko.\n",
    "- Test des variables binaires conditionnelles.\n",
    "- Création de boucles for  dans la fonction objectif et les contraintes , pour écrire plus vite l'optimisation.\n",
    "- Liens Internet nécessaires pour comprendre.\n",
    "\n",
    "\n",
    "# Description du problème\n",
    "\n",
    "J'ai une machine qui produit 3 pièces. La machine peut travailler 1000 heures au maximum. \n",
    "\n",
    "Le prix de vente des pièces A,B et C diminue avec la quantité produite.\n",
    "\n",
    "Le prix de vente de la pièce A est 81-quantité de A/20 ( Le prix décroit si on produit beaucoup)\n",
    "\n",
    "Le prix de vente de la pièce B est 90-quantité de B/10 \n",
    "\n",
    "Le prix de vente de la pièce C est 85-quantité de C/10 \n",
    "\n",
    "On a pour contrainte de stocks 3000 kgs de métal,\n",
    "2000 heures de temps de travail et 2500 kgs de plastique.\n",
    "\n",
    "si A, B ou C sont > 500, alors on soustrait 20 euros de côut de maintenance à la fonction objectif.\n",
    "\n",
    "Quel type et Combien de pièces produire afin de maximiser mon profit ?\n",
    "\n",
    "\n",
    "- Modélisation mathématique\n",
    "( Bug de passage de lignes dans Github)\n",
    "\n",
    "$$\n",
    "max \\sum_{1}^{i}  xi * (PrixVente(i) - \\frac{xi}{Reduction}) \\newline\n",
    "\\textit{Sous les contraintes} \\newline\n",
    "\\sum_{1}^{i} xi * Metal(i) \\leq 3000 \\newline\n",
    "\\sum_{1}^{i} xi * Htravail(i) \\leq 2000 \\newline\n",
    "\\sum_{1}^{i} xi * Plastique(i) \\leq 2500 \\newline\n",
    "$$\n",
    "Et maintenant, les 3 variables conditionnelles :\n",
    "\n",
    "A faire"
   ]
  },
  {
   "cell_type": "code",
   "execution_count": 183,
   "metadata": {},
   "outputs": [
    {
     "data": {
      "text/latex": [
       "$\\displaystyle max \\sum_{1}^{i}  xi * (prixVente(i) - \\frac{xi}{reduction}) $"
      ],
      "text/plain": [
       "<IPython.core.display.Math object>"
      ]
     },
     "metadata": {},
     "output_type": "display_data"
    },
    {
     "data": {
      "text/latex": [
       "$\\displaystyle Sous.les.contraintes$"
      ],
      "text/plain": [
       "<IPython.core.display.Math object>"
      ]
     },
     "metadata": {},
     "output_type": "display_data"
    },
    {
     "data": {
      "text/latex": [
       "$\\displaystyle \\sum_{1}^{i} xi * metal(i) \\leq 3000 $"
      ],
      "text/plain": [
       "<IPython.core.display.Math object>"
      ]
     },
     "metadata": {},
     "output_type": "display_data"
    },
    {
     "data": {
      "text/latex": [
       "$\\displaystyle \\sum_{1}^{i} xi * h_travail(i) \\leq 2000 $"
      ],
      "text/plain": [
       "<IPython.core.display.Math object>"
      ]
     },
     "metadata": {},
     "output_type": "display_data"
    },
    {
     "data": {
      "text/latex": [
       "$\\displaystyle \\sum_{1}^{i} xi * plastique(i) \\leq 2500 $"
      ],
      "text/plain": [
       "<IPython.core.display.Math object>"
      ]
     },
     "metadata": {},
     "output_type": "display_data"
    }
   ],
   "source": [
    "# On réécrit la modélisation comme ça, à cause du bug de passage des lignes.\n",
    "\n",
    "from IPython.display import display, Math, Latex\n",
    "display(Math(r'max \\sum_{1}^{i}  xi * (prixVente(i) - \\frac{xi}{reduction}) '))\n",
    "display(Math(r'Sous.les.contraintes'))\n",
    "display(Math(r'\\sum_{1}^{i} xi * metal(i) \\leq 3000 '))\n",
    "display(Math(r'\\sum_{1}^{i} xi * h_travail(i) \\leq 2000 '))\n",
    "display(Math(r'\\sum_{1}^{i} xi * plastique(i) \\leq 2500 '))"
   ]
  },
  {
   "attachments": {},
   "cell_type": "markdown",
   "metadata": {},
   "source": [
    "# Création du problème avec Gekko.\n",
    "\n",
    "Dans un premier temps, on va déjà faire tourner le programme sans les variables binaire, mais avec seulements les contraintes de type stock et temps machine ."
   ]
  },
  {
   "cell_type": "code",
   "execution_count": 184,
   "metadata": {},
   "outputs": [
    {
     "name": "stdout",
     "output_type": "stream",
     "text": [
      "Solution\n",
      "A: [415.42372882]\n",
      "B: [121.18644067]\n",
      "C: [161.94915255]\n",
      "Objectif: 45601.567797\n"
     ]
    }
   ],
   "source": [
    "# On importe Gekko\n",
    "from gekko import GEKKO\n",
    "\n",
    "m = GEKKO(remote=False) # Initialize gekko\n",
    "\n",
    "#The example problem that you referenced uses the default IPOPT solver. \n",
    "# To get a binary or integer solution, switch to the APOPT solver.\n",
    "# The default solver is IPOPT and it doesn't give an integer solution. Try the APOPT solver instead.\n",
    "# https://apmonitor.com/wiki/index.php/Main/OptionApmSolver\n",
    "m.options.SOLVER = 1\n",
    "\n",
    "# Variables générales\n",
    "pieces = ['A','B','C']\n",
    "disponibilite_machine = 1000\n",
    "stock_metal = 3000\n",
    "stock_heures_travail = 2000\n",
    "stock_plastique = 2500\n",
    "\n",
    "# Les caractéristiques de nos produits A, B et C au format dictionnaire, \n",
    "# pour pouvoir itérer dessus ensuite dans les contraintes.\n",
    "prix_vente = {'A':81,'B':90,'C':85}\n",
    "metal = {'A':3,'B':4,'C':5}\n",
    "travail = {'A':1,'B':2,'C':2}\n",
    "plastique = {'A':3,'B':5,'C':4}\n",
    "\n",
    "# On crée les variables de décision , ce sera notre nombre de pièces à réaliser, vu qu'on ne \n",
    "# peut pas avoir 1/2 objet, on dit que ce sont des variables entières.\n",
    "\n",
    "A = m.Var(value=1,lb=0,ub=10000,integer=False)\n",
    "B = m.Var(value=1,lb=0,ub=10000,integer=False)\n",
    "C = m.Var(value=1,lb=0,ub=10000,integer=False)\n",
    "\n",
    "# Voici notre fonction objectif , qui tient compte du fait que plus on produits de pièces, Moins ça coute cher !!\n",
    "# On voit qu'elle est non linéaire parce que A , B et C sont élevés au carré !!\n",
    "m.Maximize( A * (81 - ( A / 20  )) + B * (90 - (B / 10)) + C * (85 - (C / 10)))\n",
    "\n",
    "# contraintes\n",
    "m.Equation( A + B + C <= disponibilite_machine) # La machine un peut travailler 1000 heures maximum\n",
    "m.Equation(3 * A + 4 * B + 5 * C <= stock_metal)\n",
    "m.Equation(1 * A + 2 * B + 2 * C <= stock_heures_travail)\n",
    "m.Equation(3 * A + 5 * B + 4 * C <= stock_plastique)\n",
    "\n",
    "# Cette contrainte écrite à la manière de Python Pulp ne fonctionne pas.\n",
    "# m.Equation(sum(metal[i] * pieces[i] for i in pieces) <= stock_metal)\n",
    "\n",
    "# On imprime le résultat \n",
    "m.options.IMODE = 3 # Steady state optimization\n",
    "\n",
    "m.solve(disp=False) # Solve\n",
    "\n",
    "print('Solution')\n",
    "\n",
    "print('A: ' + str(A.value))\n",
    "print('B: ' + str(B.value))\n",
    "print('C: ' + str(C.value))\n",
    "\n",
    "print('Objectif: ' + str(-m.options.objfcnval))"
   ]
  },
  {
   "attachments": {},
   "cell_type": "markdown",
   "metadata": {},
   "source": [
    "# Création de boucles for pour aller plus vite dans l'optimisation.\n",
    "\n",
    "Pour itérer avec Gekko, c'est malheureusement différent du solveur Python Pulp : \n",
    "\n",
    "https://stackoverflow.com/questions/64542594/how-could-constraints-be-dynamically-constructed-in-gekko\n",
    "\n",
    "https://www.solvermax.com/blog/production-mix-model-9-gekko\n",
    "\n",
    "On essaye donc d'itérer dans la fonction objectif et les contraintes, avec sa méthode :\n"
   ]
  },
  {
   "cell_type": "code",
   "execution_count": 185,
   "metadata": {},
   "outputs": [
    {
     "ename": "Exception",
     "evalue": "@error: Solution Not Found\n",
     "output_type": "error",
     "traceback": [
      "\u001b[1;31m---------------------------------------------------------------------------\u001b[0m",
      "\u001b[1;31mException\u001b[0m                                 Traceback (most recent call last)",
      "Cell \u001b[1;32mIn[185], line 58\u001b[0m\n\u001b[0;32m     50\u001b[0m \u001b[39m# m.Equation(3 * A + 4 * B + 5 * C <= stock_metal)\u001b[39;00m\n\u001b[0;32m     51\u001b[0m \u001b[39m# m.Equation(1 * A + 2 * B + 2 * C <= stock_heures_travail)\u001b[39;00m\n\u001b[0;32m     52\u001b[0m \u001b[39m# m.Equation(3 * A + 5 * B + 4 * C <= stock_plastique)\u001b[39;00m\n\u001b[0;32m     53\u001b[0m \n\u001b[0;32m     54\u001b[0m \n\u001b[0;32m     55\u001b[0m \u001b[39m# On imprime le résultat \u001b[39;00m\n\u001b[0;32m     56\u001b[0m m\u001b[39m.\u001b[39moptions\u001b[39m.\u001b[39mIMODE \u001b[39m=\u001b[39m \u001b[39m3\u001b[39m \u001b[39m# Steady state optimization\u001b[39;00m\n\u001b[1;32m---> 58\u001b[0m m\u001b[39m.\u001b[39;49msolve(disp\u001b[39m=\u001b[39;49m\u001b[39mFalse\u001b[39;49;00m) \u001b[39m# Solve\u001b[39;00m\n\u001b[0;32m     60\u001b[0m \u001b[39mprint\u001b[39m(\u001b[39m'\u001b[39m\u001b[39mSolution\u001b[39m\u001b[39m'\u001b[39m)\n\u001b[0;32m     62\u001b[0m \u001b[39mprint\u001b[39m(\u001b[39m'\u001b[39m\u001b[39mA: \u001b[39m\u001b[39m'\u001b[39m \u001b[39m+\u001b[39m \u001b[39mstr\u001b[39m(A\u001b[39m.\u001b[39mvalue))\n",
      "File \u001b[1;32mc:\\Users\\secretgirl\\AppData\\Local\\Programs\\Python\\Python38\\lib\\site-packages\\gekko\\gekko.py:2140\u001b[0m, in \u001b[0;36mGEKKO.solve\u001b[1;34m(self, disp, debug, GUI, **kwargs)\u001b[0m\n\u001b[0;32m   2138\u001b[0m         \u001b[39mprint\u001b[39m(\u001b[39m\"\u001b[39m\u001b[39mError:\u001b[39m\u001b[39m\"\u001b[39m, errs)\n\u001b[0;32m   2139\u001b[0m     \u001b[39mif\u001b[39;00m (debug \u001b[39m>\u001b[39m\u001b[39m=\u001b[39m \u001b[39m1\u001b[39m) \u001b[39mand\u001b[39;00m record_error:\n\u001b[1;32m-> 2140\u001b[0m         \u001b[39mraise\u001b[39;00m \u001b[39mException\u001b[39;00m(apm_error)\n\u001b[0;32m   2142\u001b[0m \u001b[39melse\u001b[39;00m: \u001b[39m#solve on APM server\u001b[39;00m\n\u001b[0;32m   2143\u001b[0m     \u001b[39mdef\u001b[39;00m \u001b[39msend_if_exists\u001b[39m(extension):\n",
      "\u001b[1;31mException\u001b[0m: @error: Solution Not Found\n"
     ]
    }
   ],
   "source": [
    "# On importe Gekko\n",
    "from gekko import GEKKO\n",
    "\n",
    "m = GEKKO(remote=False) # Initialize gekko\n",
    "\n",
    "#The example problem that you referenced uses the default IPOPT solver. \n",
    "# To get a binary or integer solution, switch to the APOPT solver.\n",
    "# The default solver is IPOPT and it doesn't give an integer solution. Try the APOPT solver instead.\n",
    "# https://apmonitor.com/wiki/index.php/Main/OptionApmSolver\n",
    "m.options.SOLVER = 1\n",
    "\n",
    "# Variables générales\n",
    "pieces = ['A','B','C']\n",
    "disponibilite_machine = 500\n",
    "stock_metal = 3000\n",
    "stock_heures_travail = 2000\n",
    "stock_plastique = 2500\n",
    "\n",
    "# Les caractéristiques de nos produits A, B et C au format dictionnaire, \n",
    "# pour pouvoir itérer dessus ensuite dans les contraintes.\n",
    "prix_vente = {'A':81,'B':90,'C':85}\n",
    "metal = {'A':3,'B':4,'C':5}\n",
    "travail = {'A':1,'B':2,'C':2}\n",
    "plastique = {'A':3,'B':5,'C':4}\n",
    "\n",
    "va = m.Array(m.Var,(len(pieces)))  # array\n",
    "vd = {}                             # dictionary\n",
    "for i,xi in enumerate(pieces):\n",
    "    vd[xi] = va[i]\n",
    "    \n",
    "# On crée les variables de décision , ce sera notre nombre de pièces à réaliser, vu qu'on ne \n",
    "# peut pas avoir 1/2 objet, on dit que ce sont des variables entières.\n",
    "\n",
    "A = m.Var(value=1,lb=0,ub=10000,integer=False)\n",
    "B = m.Var(value=1,lb=0,ub=10000,integer=False)\n",
    "C = m.Var(value=1,lb=0,ub=10000,integer=False)\n",
    "\n",
    "# Voici notre fonction objectif , qui tient compte du fait que plus on produits de pièces, Moins ça coute cher !!\n",
    "# On voit qu'elle est non linéaire parce que A , B et C sont élevés au carré !!\n",
    "# m.Maximize( A * (81 - ( A / 20  )) + B * (90 - (B / 10)) + C * (85 - (C / 10)))\n",
    "\n",
    "m.Maximize( m.sum([vd[xi] * (81 - ( vd[xi] / 20  )) for xi in pieces]))\n",
    "\n",
    "\n",
    "# contraintes\n",
    "\n",
    "# m.Equation( A + B + C <= disponibilite_machine) \n",
    "m.Equation(m.sum([vd[xi] for xi in pieces])<= disponibilite_machine) \n",
    "\n",
    "# m.Equation(3 * A + 4 * B + 5 * C <= stock_metal)\n",
    "# m.Equation(1 * A + 2 * B + 2 * C <= stock_heures_travail)\n",
    "# m.Equation(3 * A + 5 * B + 4 * C <= stock_plastique)\n",
    "\n",
    "\n",
    "# On imprime le résultat \n",
    "m.options.IMODE = 3 # Steady state optimization\n",
    "\n",
    "m.solve(disp=False) # Solve\n",
    "\n",
    "print('Solution')\n",
    "\n",
    "print('A: ' + str(A.value))\n",
    "print('B: ' + str(B.value))\n",
    "print('C: ' + str(C.value))\n",
    "\n",
    "print('Objectif: ' + str(-m.options.objfcnval))\n"
   ]
  },
  {
   "attachments": {},
   "cell_type": "markdown",
   "metadata": {},
   "source": [
    "# Liens : \n",
    "- https://stackoverflow.com/questions/74133047/binary-variable-in-gekko-optimization-problem\n",
    "\n",
    "- https://math.stackexchange.com/questions/1851140/binary-integer-variables-in-linear-programming\n",
    "\n",
    "- https://towardsdatascience.com/hands-on-integer-binary-linear-optimization-using-python-b6d8160cb1de\n",
    "\n",
    "- https://stackoverflow.com/questions/56854536/from-pulp-to-gekko-syntax-mapping-for-constraints-objective-function\n",
    "\n",
    "- https://stackoverflow.com/questions/64577733/how-to-make-constriants-in-gekko-by-for-loop\n",
    "\n",
    "- https://stackoverflow.com/questions/64542594/how-could-constraints-be-dynamically-constructed-in-gekko"
   ]
  }
 ],
 "metadata": {
  "kernelspec": {
   "display_name": "Python 3",
   "language": "python",
   "name": "python3"
  },
  "language_info": {
   "codemirror_mode": {
    "name": "ipython",
    "version": 3
   },
   "file_extension": ".py",
   "mimetype": "text/x-python",
   "name": "python",
   "nbconvert_exporter": "python",
   "pygments_lexer": "ipython3",
   "version": "3.8.0"
  },
  "orig_nbformat": 4
 },
 "nbformat": 4,
 "nbformat_minor": 2
}
