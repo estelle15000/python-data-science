{
 "cells": [
  {
   "attachments": {},
   "cell_type": "markdown",
   "metadata": {},
   "source": [
    "# Dérivé de produits mix non linéaire.\n",
    "# Problème de solveur non linéaire.\n",
    "\n",
    "Recréation du pb 'Un entrepreneur et ses 3 machines' avec le solveur Gekko, par Estelle Derrien\n",
    "\n",
    "* Histoire:\n",
    "\n",
    "Mise en place du problème\n",
    "\n",
    "Un entrepreneur dispose de 3 machines qui se répartissent la production de 3 types de pièces A, B et C. \n",
    "\n",
    "Chaque pièce possède un temps de fabrication différent suivant la machine où elle est fabriquée . \n",
    "\n",
    "De plus, chaque machine a un temps limites de fonctionnement au dessus duquel elle ne peut plus produire. \n",
    "\n",
    "Et pour corser le tout, le prix de vente des pièces A,B et C diminue avec la quantité produite.\n",
    "\n",
    "Le but est toujours de répartir au mieux la fabrication des différentes pièces sur les machines pour maximiser le bébéfice.\n",
    "\n",
    "Le prix de vente de la pièce A est 81-qA/20\n",
    "\n",
    "Le prix de vente de la pièce B est 90-qB/10\n",
    "\n",
    "Le prix de vente de la pièce C est 85-qC/10"
   ]
  },
  {
   "cell_type": "code",
   "execution_count": 21,
   "metadata": {},
   "outputs": [],
   "source": [
    "# On importe Gekko\n",
    "from gekko import GEKKO\n",
    "\n",
    "m = GEKKO(remote=False) # Initialize gekko\n",
    "\n",
    "#The example problem that you referenced uses the default IPOPT solver. To get a binary or integer solution, switch to the APOPT solver.\n",
    "m.options.SOLVER = 1"
   ]
  },
  {
   "cell_type": "code",
   "execution_count": 22,
   "metadata": {},
   "outputs": [],
   "source": [
    "\n",
    "\n",
    "# On crée les variables de décision \n",
    "\n",
    "A = m.Var(value=1,lb=0,ub=10000,integer=False)\n",
    "B = m.Var(value=1,lb=0,ub=10000,integer=False)\n",
    "C = m.Var(value=1,lb=0,ub=10000,integer=False)\n",
    "\n",
    "# contraintes\n",
    "m.Equation( A + B + C <= 100)\n",
    "m.Equation( 6 * A + 2 * B + 3 * C <= 450)\n",
    "m.Equation( 3 * B + C <= 150)\n",
    "\n",
    "\n",
    "# Voici notre fonction objectif , qui tient compte du fait que plus on produits, Moins ça coute cher !!\n",
    "m.Maximize( A * (81 - ( A / 20  )) + B * (90 - (B / 10)) + C * (85 - (C / 10)))\n",
    "\n",
    "\n"
   ]
  },
  {
   "cell_type": "code",
   "execution_count": 23,
   "metadata": {},
   "outputs": [
    {
     "name": "stdout",
     "output_type": "stream",
     "text": [
      "Solution\n",
      "A: [30.833333334]\n",
      "B: [40.416666667]\n",
      "C: [28.749999999]\n",
      "Objectif: 8285.2083333\n"
     ]
    }
   ],
   "source": [
    "# On imprime le résultat \n",
    "m.options.IMODE = 3 # Steady state optimization\n",
    "\n",
    "m.solve(disp=False) # Solve\n",
    "\n",
    "print('Solution')\n",
    "\n",
    "print('A: ' + str(A.value))\n",
    "print('B: ' + str(B.value))\n",
    "print('C: ' + str(C.value))\n",
    "\n",
    "print('Objectif: ' + str(-m.options.objfcnval))"
   ]
  },
  {
   "attachments": {},
   "cell_type": "markdown",
   "metadata": {},
   "source": [
    "HOURRA !\n",
    "GEKKO TROUVE EXACTEMENT LE MEME RESULTAT QUE EXCEL !\n",
    "LES CONTRAINTES FONT OFFICE DE 3 MACHINES DIFFERENTES !\n",
    "CA FONCTIONNE ET ON EST EN PUR NON LINEAIRE PARCE QUE CA PRENDS EN COMPTE QUE\n",
    "PLUS ON PRODUIT, MOINS CA COUTE CHER !!\n",
    "HOURRA HOURRA !\n",
    "CEST TROP BIEN !!!!"
   ]
  },
  {
   "cell_type": "markdown",
   "metadata": {},
   "source": []
  }
 ],
 "metadata": {
  "kernelspec": {
   "display_name": "Python 3",
   "language": "python",
   "name": "python3"
  },
  "language_info": {
   "codemirror_mode": {
    "name": "ipython",
    "version": 3
   },
   "file_extension": ".py",
   "mimetype": "text/x-python",
   "name": "python",
   "nbconvert_exporter": "python",
   "pygments_lexer": "ipython3",
   "version": "3.8.0"
  },
  "orig_nbformat": 4
 },
 "nbformat": 4,
 "nbformat_minor": 2
}
