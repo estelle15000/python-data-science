{
 "cells": [
  {
   "attachments": {},
   "cell_type": "markdown",
   "metadata": {},
   "source": [
    "# Programmation linéaire\n",
    "# Se servir des variables conditionelles.\n",
    "\n",
    "Source:  https://or.stackexchange.com/questions/6703/conditional-constraints-in-pulp\n"
   ]
  },
  {
   "cell_type": "code",
   "execution_count": 4,
   "metadata": {},
   "outputs": [],
   "source": [
    "import pulp\n",
    "\n",
    "neighborhood_lst = [\n",
    "    'btm_bin',\n",
    "    'hsr_bin',\n",
    "    'jayanagar_bin',\n",
    "    'koramangala_5th_block_bin',\n",
    "    'jp_nagar_bin',\n",
    "    'marathahalli_bin',\n",
    "    'whitefield_bin',\n",
    "    'indiranagar_bin',\n",
    "    'bannerghatta_road_bin',\n",
    "    'bellandur_bin'\n",
    "]\n",
    "\n",
    "cuisines_lst = [\n",
    "    'north_indian_bin',\n",
    "    'chinese_bin',\n",
    "    'south_indian_bin',\n",
    "    'biryani_bin',\n",
    "    'fast_food_bin',\n",
    "    'street_food_bin',\n",
    "    'seafood_bin',\n",
    "    'continental_bin',\n",
    "    'andhra_bin',\n",
    "    'beverages_bin',\n",
    "    'italian_bin',\n",
    "    'other_bin'\n",
    "]\n",
    "\n",
    "# set up model\n",
    "model = pulp.LpProblem(name='restaurant_cuisine_neigborhood', sense=pulp.LpMaximize)\n",
    "\n",
    "# set variables\n",
    "x = {i: pulp.LpVariable(name=f\"x{i}\", lowBound=0, cat='Binary') for i in cuisines_lst}\n",
    "y = {i: pulp.LpVariable(name=f\"y{i}\", lowBound=0, cat='Binary') for i in neighborhood_lst}\n",
    "\n",
    "# Set objective\n",
    "model += 0.0267 * x['north_indian_bin'] + 0.0243 * x['chinese_bin'] + 0.0088 * x['south_indian_bin'] + \\\n",
    "         0.0108 * x['biryani_bin'] + 0.0084 * x['fast_food_bin'] + 0.0022 * x['street_food_bin'] + \\\n",
    "         0.0030 * x['seafood_bin'] + 0.0038 * x['continental_bin'] + 0.0036 * x['andhra_bin'] + \\\n",
    "         0.0030 * x['beverages_bin'] + 0.0176 * x['other_bin'] + \\\n",
    "         0.0011 * y['btm_bin'] + 0.0018 * y['hsr_bin'] + 0.0041 * y['jayanagar_bin'] + \\\n",
    "         0.0039 * y['koramangala_5th_block_bin'] + 0.0005 * y['jp_nagar_bin'] + 0.0094 * y['marathahalli_bin'] + \\\n",
    "         0.0012 * y['whitefield_bin'] + 0.0004 * y['indiranagar_bin'] + 0.0108 * y['bannerghatta_road_bin'] + \\\n",
    "         0.0085 * y['bellandur_bin']\n",
    "\n"
   ]
  },
  {
   "cell_type": "code",
   "execution_count": 5,
   "metadata": {},
   "outputs": [],
   "source": [
    "# Add constraints\n",
    "model += (pulp.lpSum(y.values()) == 1, 'neighborhood_selection')\n",
    "model += (pulp.lpSum(x.values()) <= 4, 'cuisine_selection')\n",
    "\n",
    "# If Indiranagar then must NOT be healthy food\n",
    "model += (y['indiranagar_bin'] + x['andhra_bin'] <= 1, 'andhra_not_in_indirangar')\n",
    "\n",
    "# If Koramangala 5th Block, then one must be Italian\n",
    "model += (y['koramangala_5th_block_bin'] <= x['italian_bin'], '5th_block_italian')\n",
    "# If Whitefield, then one must be Other\n",
    "model += (y['whitefield_bin'] <= x['other_bin'], 'whitefield_other')"
   ]
  },
  {
   "cell_type": "code",
   "execution_count": 6,
   "metadata": {},
   "outputs": [
    {
     "ename": "NameError",
     "evalue": "name 'LpStatus' is not defined",
     "output_type": "error",
     "traceback": [
      "\u001b[1;31m---------------------------------------------------------------------------\u001b[0m",
      "\u001b[1;31mNameError\u001b[0m                                 Traceback (most recent call last)",
      "Cell \u001b[1;32mIn[6], line 6\u001b[0m\n\u001b[0;32m      2\u001b[0m model\u001b[39m.\u001b[39msolve()\n\u001b[0;32m      4\u001b[0m \u001b[39m# On imprime les résultats \u001b[39;00m\n\u001b[1;32m----> 6\u001b[0m \u001b[39mprint\u001b[39m(\u001b[39m\"\u001b[39m\u001b[39mStatus:\u001b[39m\u001b[39m\"\u001b[39m, LpStatus[prob\u001b[39m.\u001b[39mstatus])\n\u001b[0;32m      7\u001b[0m \u001b[39mfor\u001b[39;00m v \u001b[39min\u001b[39;00m model\u001b[39m.\u001b[39mvariables():\n\u001b[0;32m      8\u001b[0m     \u001b[39mprint\u001b[39m(v\u001b[39m.\u001b[39mname, \u001b[39m\"\u001b[39m\u001b[39m=\u001b[39m\u001b[39m\"\u001b[39m, v\u001b[39m.\u001b[39mvarValue)\n",
      "\u001b[1;31mNameError\u001b[0m: name 'LpStatus' is not defined"
     ]
    }
   ],
   "source": [
    "# solve the problem\n",
    "model.solve()\n",
    " \n",
    "# On imprime les résultats \n",
    "\n",
    "print(\"Status:\", model.LpStatus[prob.status])\n",
    "for v in model.variables():\n",
    "    print(v.name, \"=\", v.varValue)"
   ]
  }
 ],
 "metadata": {
  "kernelspec": {
   "display_name": "Python 3",
   "language": "python",
   "name": "python3"
  },
  "language_info": {
   "codemirror_mode": {
    "name": "ipython",
    "version": 3
   },
   "file_extension": ".py",
   "mimetype": "text/x-python",
   "name": "python",
   "nbconvert_exporter": "python",
   "pygments_lexer": "ipython3",
   "version": "3.8.0"
  },
  "orig_nbformat": 4
 },
 "nbformat": 4,
 "nbformat_minor": 2
}
