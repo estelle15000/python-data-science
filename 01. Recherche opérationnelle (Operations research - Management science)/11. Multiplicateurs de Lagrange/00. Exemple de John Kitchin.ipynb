{
 "cells": [
  {
   "attachments": {},
   "cell_type": "markdown",
   "metadata": {},
   "source": [
    "# Optimisation contrainte avec multiplicateurs de Lagrange et autograd"
   ]
  },
  {
   "attachments": {},
   "cell_type": "markdown",
   "metadata": {},
   "source": [
    "L'optimisation contrainte est courante dans la résolution de problèmes d'ingénierie. Un exemple prototypique (de Greenberg, Advanced Engineering Mathematics, Ch 13.7) est de trouver le point sur un plan qui est le plus proche de l'origine. Le plan est défini par l'équation 2x−y+z=3, et on cherche à minimiser x2+y2+z2 sous la contrainte d'égalité définie par le plan. scipy.optimize.minimize fournit une interface assez pratique pour résoudre un problème comme celui-ci, et illustré ici.\n",
    "\n",
    "Lien : https://kitchingroup.cheme.cmu.edu/blog/2018/11/03/Constrained-optimization-with-Lagrange-multipliers-and-autograd/"
   ]
  },
  {
   "cell_type": "code",
   "execution_count": 1,
   "metadata": {},
   "outputs": [
    {
     "data": {
      "text/plain": [
       " message: Optimization terminated successfully\n",
       " success: True\n",
       "  status: 0\n",
       "     fun: 1.5\n",
       "       x: [ 1.000e+00 -5.000e-01  5.000e-01]\n",
       "     nit: 1\n",
       "     jac: [ 2.000e+00 -1.000e+00  1.000e+00]\n",
       "    nfev: 4\n",
       "    njev: 1"
      ]
     },
     "execution_count": 1,
     "metadata": {},
     "output_type": "execute_result"
    }
   ],
   "source": [
    "import numpy as np\n",
    "from scipy.optimize import minimize\n",
    "\n",
    "def objective(X):\n",
    "    x, y, z = X\n",
    "    return x**2 + y**2 + z**2\n",
    "\n",
    "def eq(X):\n",
    "    x, y, z = X\n",
    "    return 2 * x - y + z - 3\n",
    "\n",
    "sol = minimize(objective, [1, -0.5, 0.5], constraints={'type': 'eq', 'fun': eq})\n",
    "sol"
   ]
  }
 ],
 "metadata": {
  "kernelspec": {
   "display_name": "Python 3",
   "language": "python",
   "name": "python3"
  },
  "language_info": {
   "codemirror_mode": {
    "name": "ipython",
    "version": 3
   },
   "file_extension": ".py",
   "mimetype": "text/x-python",
   "name": "python",
   "nbconvert_exporter": "python",
   "pygments_lexer": "ipython3",
   "version": "3.8.0"
  },
  "orig_nbformat": 4
 },
 "nbformat": 4,
 "nbformat_minor": 2
}
