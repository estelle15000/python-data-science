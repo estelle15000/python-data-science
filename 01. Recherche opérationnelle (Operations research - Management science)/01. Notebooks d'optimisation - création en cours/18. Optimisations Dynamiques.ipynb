{
 "cells": [
  {
   "cell_type": "markdown",
   "metadata": {},
   "source": [
    " # Les optimisations dynamique.\n",
    "\n",
    "# Introduction.\n",
    "\n",
    "Mes autres notebooks décrivent des méthodes d'optimisation que l'on peut considérer comme statiques.\n",
    "Comme son nom l'indique, les optimisations dynamiques ont pour but d'optimiser un objet en mouvement.\n",
    "Forcément, on present que les equations différentielles vont donc apparaitre dans les optimisations réalisées avec les solveurs ainsi que la notion de temps, et qu'on a affaire à des problèmes plus complexes, qui nécessitent des bases mathématiques confirmées.\n",
    "\n",
    "Je vais déjà commencer par reprendre des méthodes de l'excellente société ApMonitor, et suivre un cours en optimisation dynamique sur Coursera. Il est clair qu'il s'agit d'un niveau supérieur aux autres optimisations.\n",
    "\n",
    "EN COURS DE CREATION"
   ]
  },
  {
   "cell_type": "code",
   "execution_count": null,
   "metadata": {},
   "outputs": [],
   "source": []
  }
 ],
 "metadata": {
  "language_info": {
   "name": "python"
  },
  "orig_nbformat": 4
 },
 "nbformat": 4,
 "nbformat_minor": 2
}
