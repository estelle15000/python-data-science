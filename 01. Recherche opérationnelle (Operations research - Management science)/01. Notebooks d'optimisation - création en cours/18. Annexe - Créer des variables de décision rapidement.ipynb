{
 "cells": [
  {
   "attachments": {},
   "cell_type": "markdown",
   "metadata": {},
   "source": [
    "# Créer des variables de décision rapidement.\n",
    "\n",
    "Dans ce notebook, on va voir comment créer des variables de décision rapidement dans un solveur python (Itérer).\n",
    "\n",
    "## Sommaire\n",
    "\n",
    "1. <b>Méthode de base</b>\n",
    "2. <b>Méthode avec les tableaux</b>\n",
    "3. <b>Méthode avec le dictionnaire Python Pulp</b>\n",
    "4. <b>Créer des contraintes plus rapidement avec les dictionnaires pulp.</b>\n",
    "5. <b>Une astuce pour récupérer les noms des variables de décision.</b>\n",
    "6. <b>Créer des variables de décision en associant deux tableaux.</b>\n",
    "    - Méthode d'utilisation\n",
    "7. <b>Itérer</b>\n",
    "    - avec le solveur Python Gekko \n",
    "    - avec le solveur Python Cplex\n",
    "    - avec le solveur Python Cvxopt\n",
    "8. <b>Utiliser une matrice dans la fonction objectif</b>\n",
    "9. <b>Utiliser une matrice dans les contraintes</b>\n",
    "\n",
    "Etude globale proposée par <b>Estelle Derrien - Github estellederrien</b>"
   ]
  },
  {
   "attachments": {},
   "cell_type": "markdown",
   "metadata": {},
   "source": [
    "# 1. Méthode de base"
   ]
  },
  {
   "cell_type": "markdown",
   "metadata": {},
   "source": [
    "Rappel :\n",
    "Une variable de décision contient une valeur qui sera ensuite calculée par le solveur pour être la meilleure valeur possible pour minimiser ou maximiser une fonction objectif ( C'est ça, l'optimisation)"
   ]
  },
  {
   "cell_type": "code",
   "execution_count": 10,
   "metadata": {},
   "outputs": [
    {
     "name": "stdout",
     "output_type": "stream",
     "text": [
      "x\n",
      "y\n"
     ]
    }
   ],
   "source": [
    "# La méthode de base :\n",
    "\n",
    "# Import du solveur\n",
    "import pulp as p\n",
    "\n",
    "# On sette le problème\n",
    "Lp_prob = p.LpProblem('Problem', p.LpMaximize)\n",
    "\n",
    "# -----------------------------------\n",
    "# On définit nos variables de décision ci-dessous\n",
    "# -----------------------------------\n",
    "\n",
    "x = p.LpVariable(\"x\", lowBound=0, cat='Integer')   # Créer une variable x >= 0\n",
    "y = p.LpVariable(\"y\", lowBound=0, cat='Integer')   # Créer une variable y >= 0\n",
    "\n",
    "# On les affiche\n",
    "print(x)\n",
    "print(y)"
   ]
  },
  {
   "attachments": {},
   "cell_type": "markdown",
   "metadata": {},
   "source": [
    "# 2. Méthode avec les tableaux"
   ]
  },
  {
   "attachments": {},
   "cell_type": "markdown",
   "metadata": {},
   "source": [
    "Dans l'exemple précédent, ca va parce qu'on a que deux variables de décisions, mais qu'en sera-t-il si on en a 100 ?"
   ]
  },
  {
   "cell_type": "code",
   "execution_count": 11,
   "metadata": {},
   "outputs": [
    {
     "name": "stdout",
     "output_type": "stream",
     "text": [
      "usine_1\n"
     ]
    }
   ],
   "source": [
    "# La méthode rapide :\n",
    "\n",
    "import pulp as p\n",
    "\n",
    "Lp_prob = p.LpProblem('Problem', p.LpMaximize)\n",
    "\n",
    "# On crée d'abord le nom de nos variables de décision\n",
    "\n",
    "objets = [\n",
    "    'objet_1',\n",
    "    'objet_2',\n",
    "    'objet_3',\n",
    "    'objet_4',\n",
    "    'objet_5',\n",
    "]\n",
    "\n",
    "# On crée les variables, celles ci seront binaires. En fait, on itère sur le tableau objets et i est l'index.\n",
    "x = {i: p.LpVariable(name=f\"{i}\", lowBound=0, cat='Binary') for i in objets}\n",
    "\n",
    "# Maintenant, on peut acceder aux variables de cette façon : x['objet_1']\n",
    "\n",
    "# On peut ensuite créer un deuxième lot de variables de décision, qui cette fois ci, seront entières.\n",
    "\n",
    "usines = [\n",
    "    'usine_1',\n",
    "    'usine_2',\n",
    "    'usine_3',\n",
    "    'usine_4',\n",
    "]\n",
    "\n",
    "# On crée les variables, celles ci seront entières. En fait, on itère sur le tableau objets et k est l'index.\n",
    "m = {k: p.LpVariable(name=f\"{k}\", lowBound=0, cat='Integer') for k in usines}\n",
    "\n",
    "# On accède ensuite à une variable comme ça, ou avec des boucle for\n",
    "print(m['usine_1'])\n"
   ]
  },
  {
   "attachments": {},
   "cell_type": "markdown",
   "metadata": {},
   "source": [
    "# 3. Méthode avec le dictionnaire de Python Pulp\n",
    "\n",
    "On peut aussi utiliser cette méthode pour créer plus rapidement des variables de décision.\n"
   ]
  },
  {
   "cell_type": "code",
   "execution_count": 12,
   "metadata": {},
   "outputs": [
    {
     "name": "stdout",
     "output_type": "stream",
     "text": [
      "{'automobile': produits__automobile, 'cycle1': produits__cycle1, 'cycle2': produits__cycle2, 'dragon': produits__dragon, 'nounours': produits__nounours, 'poupee': produits__poupee, 'arc': produits__arc}\n"
     ]
    }
   ],
   "source": [
    "# Import the PuLP lib\n",
    "from pulp import *\n",
    "\n",
    "# Créer le type de problème\n",
    "prob = LpProblem (\"MaximiserProfit\", LpMaximize)\n",
    "\n",
    "# La liste de nos produits\n",
    "produits = [\"automobile\", \"cycle1\",\"cycle2\",\"dragon\",\"nounours\",\"poupee\",\"arc\"]\n",
    "\n",
    "# Ici, on crée nos variable de décision en créant un \"dicts\".\n",
    "x = LpVariable.dicts(\"produits \", produits , 0)\n",
    "\n",
    "# On visualise notre dicts\n",
    "print(x)\n"
   ]
  },
  {
   "attachments": {},
   "cell_type": "markdown",
   "metadata": {},
   "source": [
    "# 4. Créer des contraintes plus rapidement avec les dictionnaires\n",
    "\n",
    "Dans cet exemple ci-dessous, on crée des contraintes à l'aide de dictionnaires python afin d'<b>itérer</b>, pour aller plus vite.\n",
    "\n",
    "En fait, c'est aussi une association de valeurs à nos variables de décisions, réalisées aux format dictionnaire python, ce qui permet d'écrire plus vite ensuite dans la fonction objectif et dans les contraintes. \n",
    "\n",
    "Mais attention, le nombre de variables de décisions doit correspondre au nombre dans les dictionnaires Python , ici, on a 7 variables de décisions, donc dans les dictionnaires, on retrouve cette taille de 7 variables de décision.\n",
    "\n",
    "Ceci peut faciliter les choses dans le cas ou l'on importe ces données à partir d'une base de données, il devient plus facile de les placer dans un dictionnaire.\n"
   ]
  },
  {
   "cell_type": "code",
   "execution_count": 13,
   "metadata": {},
   "outputs": [
    {
     "name": "stdout",
     "output_type": "stream",
     "text": [
      "Status: Optimal\n",
      "produits__arc = 2.0\n",
      "produits__automobile = 40.0\n",
      "produits__cycle1 = 2.0\n",
      "produits__cycle2 = 2.0\n",
      "produits__dragon = 2.0\n",
      "produits__nounours = 26.0\n",
      "produits__poupee = 2.0\n",
      "TotalProfit 584.0\n"
     ]
    }
   ],
   "source": [
    "# Import the PuLP lib\n",
    "from pulp import *\n",
    "\n",
    "# Créer le type de problème, ici, on veut maximiser notre profit de notre usine de jouets\n",
    "prob = LpProblem (\"MaximiserProfit\", LpMaximize)\n",
    "\n",
    "# La liste de nos produits ( des jouets), ca va être les variables de décision, \n",
    "# elles pourront prendre une valeur entière, vu que ce sont des objets uniques. \n",
    "# Par exemple , produire 15 automobiles, produire 25 arcs etc ...\n",
    "produits = [\"automobile\", \"cycle1\",\"cycle2\",\"dragon\",\"nounours\",\"poupee\",\"arc\"]\n",
    "\n",
    "# Les bénéfices en EUROS par produits\n",
    "benefices = {\"automobile\": 8, \"cycle1\": 12, \"cycle2\": 14,\"dragon\": 3,\"nounours\":6,\"poupee\":13,\"arc\":12}\n",
    "\n",
    "# Emplois (en kgs)\n",
    "plastique = {\"automobile\": 2, \"cycle1\": 4, \"cycle2\": 5,\"dragon\": 3,\"nounours\":1,\"poupee\":4,\"arc\":2}\n",
    "bois      = {\"automobile\": 1, \"cycle1\": 1, \"cycle2\": 2,\"dragon\": 2,\"nounours\":1,\"poupee\":5,\"arc\":1}\n",
    "acier     = {\"automobile\": 1, \"cycle1\": 2, \"cycle2\": 3,\"dragon\": 3,\"nounours\":2,\"poupee\":2,\"arc\":5}\n",
    "\n",
    "\n",
    "# Les noms de nos ressources\n",
    "ressources = {\"plastique\", \"bois\", \"acier\"}\n",
    "\n",
    "# Les stocks de nos ressources en KG\n",
    "stocks = {\"plastique\": 142, \"bois \": 117, \"acier\": 124}\n",
    "\n",
    "# On crée nos variables, en se basant sur le tableau x ( array en Anglais)\n",
    "# On stipule que ce sont des variables entières, normal, puisque ce sont des jouets (On ne peut pas avoir 1/2 jouet...).\n",
    "x = LpVariable.dicts(\"produits \", produits , lowBound=0, cat='Integer')\n",
    "\n",
    "# La fonction objectif, Maximiser le bénéfice.\n",
    "# Ici, on voit qu'on itère à l'aide de notre tableau produits, sur les bénéfices qui sont contenus dans un \n",
    "# dictionnaire Python. Cette méthode revient souvent sur StackOverflow et en général.\n",
    "prob += lpSum([benefices[i] * x[i] for i in produits ]), \"MaximiserBenefice\" \n",
    "\n",
    "# Nos contraintes.\n",
    "# On respecte notre production sous contrainte de stocks\n",
    "# Ici, n voit qu'on itère à l'aide de notre tableau produits, sur les stocks qui sont contenus dans un \n",
    "# dictionnaire Python. Cette méthode revient souvent sur StackOverflow et en général.\n",
    "prob += lpSum([plastique[i] * x[i] for i in  produits]) <= 142 ,\"MaxPlastique\"\n",
    "\n",
    "# La ligne suivante veut dire : \n",
    "# \"\" Prends chaque valeur du tableau bois indicé par i et multiplie le par la \n",
    "# variable de décision x indice i, fait la somme de tout\n",
    "# et cette somme doit être inférieure à notre stock de bois de 117\n",
    "prob += lpSum([bois[i]      * x[i] for i in  produits]) <= 117 ,\"MaxBois\"\n",
    "\n",
    "prob += lpSum([acier[i]     * x[i] for i in  produits]) <= 124 ,\"MaxAcier\"\n",
    "\n",
    "# Production minimale par produits pour les clients : 2 unités\n",
    "for p in produits:\n",
    "   prob += x[p] >= 2, f\"min production units for product {p}\"\n",
    "\n",
    "# On écrit aussi le probleme dans un fichier\n",
    "# prob.writeLP ( \"JouetsModel.lp\")\n",
    "\n",
    "# On utilise le solver pulp\n",
    "prob.solve()\n",
    "\n",
    "# On affiche le statut de la solution\n",
    "print (\"Status:\", LpStatus [prob.status])\n",
    "\n",
    "# Afficher l'optimium de chaques variables produits qui s'exprime en unité construites\n",
    "for v in prob.variables ():\n",
    "    print (v.name, \"=\", v.varValue)\n",
    "\n",
    "\n",
    "# Le résultat de la fonctioj objectif est ici :\n",
    "print (\"TotalProfit\", value (prob.objective))\n",
    "  "
   ]
  },
  {
   "attachments": {},
   "cell_type": "markdown",
   "metadata": {},
   "source": [
    "# 5. Une astuce pour récupérer les noms des variables de décision.\n",
    "\n",
    "Dans cet exemple, ci-dessous, on voit que l'auteur écrit directement les caractéristiques des variables de décision dans des dictionnaires python, puis il récupère les noms des variables de décision à l'aide de la commande\n",
    "items = list(sorted(v.keys())).\n",
    "\n",
    "Du coup, ca va encore plus vite pour créer les variables ensuite dans la commande :\n",
    "x = LpVariable.dicts('x', items, lowBound=0, upBound=1, cat=LpInteger)"
   ]
  },
  {
   "cell_type": "code",
   "execution_count": 14,
   "metadata": {},
   "outputs": [],
   "source": [
    "# knapsack-pulp.py\n",
    "\n",
    "from pulp import *\n",
    "\n",
    "v = {'hammer':8, 'wrench':3, 'screwdriver':6, 'towel':11}\n",
    "w = {'hammer':5, 'wrench':7, 'screwdriver':4, 'towel':3}\n",
    "limit = 14\n",
    "items = list(sorted(v.keys()))\n",
    "\n",
    "# Create model\n",
    "m = LpProblem(\"Knapsack\", LpMaximize)\n",
    "\n",
    "# Variables\n",
    "x = LpVariable.dicts('x', items, lowBound=0, upBound=1, cat=LpInteger)"
   ]
  },
  {
   "cell_type": "markdown",
   "metadata": {},
   "source": [
    "# 6. Créer des variables de décision en associant deux tableaux.\n",
    "\n",
    "\n",
    "Dans cet exemple, on voit que l'auteur de Python Pulp crée les variables de décision en associant 2 tableaux : les fournisseurs et les clients.\n",
    "\n",
    "Ca permet de créer toutes les solutions possibles à l'aide de la boucle FOR.\n",
    "\n",
    "On s'en sert, après , pendant l'optimisation"
   ]
  },
  {
   "cell_type": "code",
   "execution_count": 15,
   "metadata": {},
   "outputs": [
    {
     "name": "stdout",
     "output_type": "stream",
     "text": [
      "Statut: Optimal\n",
      "Cout total minimisé =  17.0\n",
      "Choix de la route : Route_A_1 = 1.0\n",
      "Choix de la route : Route_A_2 = 1.0\n",
      "Choix de la route : Route_A_3 = 1.0\n",
      "Choix de la route : Route_A_4 = 1.0\n",
      "Choix de la route : Route_B_5 = 1.0\n"
     ]
    }
   ],
   "source": [
    "import pulp as p\n",
    "\n",
    "# Variables de décision\n",
    "fournisseurs = ['A','B']\n",
    "clients = ['1','2','3','4','5']\n",
    "costs = [  \n",
    "# clients   # 1  2  3  4  5\n",
    "                [3, 1, 3, 2,9],      # A   fournisseurs\n",
    "                [25, 15, 32, 22,8],  # B\n",
    "]\n",
    "\n",
    "# C'est un problème de minimisation\n",
    "Problem = p.LpProblem('optimisation_transport',p.LpMinimize)\n",
    "\n",
    "# Créer une liste de toutes les routes possibles\n",
    "Routes = [(w, b) for w in fournisseurs  for b in clients]\n",
    "\n",
    "# Créer un dictionnaire de variables de décisions des routes\n",
    "vars = p.LpVariable.dicts(\"Route\", (fournisseurs , clients), 0, None, p.LpBinary)\n",
    "\n",
    "# Créer un dictionnaire des coûts de chaque routes\n",
    "cost = p.makeDict([fournisseurs,clients], costs, 0)\n",
    "\n",
    "# Fonction objectif\n",
    "Problem += p.lpSum([cost[w][b]  * vars[w][b]  for (w, b) in Routes])\n",
    "\n",
    "# Contrainte\n",
    "Problem += (p.lpSum([ vars[w][b]  for (w, b) in Routes]) >= 5 , \"minimum_de_5_routes\")\n",
    "\n",
    "# On résouds\n",
    "Problem.solve()\n",
    " \n",
    "# On imprime le résultat\n",
    "print('Statut:', p.LpStatus[Problem.status])\n",
    "print('Cout total minimisé = ', p.value(Problem.objective))\n",
    " \n",
    "for i in Problem.variables():\n",
    "    if i.varValue > 0:\n",
    "        print('Choix de la route :',i.name, '=', i.varValue)\n"
   ]
  },
  {
   "cell_type": "markdown",
   "metadata": {},
   "source": [
    "La syntaxe des problèmes linéaire peut être organisée différemment selon les auteurs des programmes, voici l'exemple de la production agrégée de Aaon Stubberfield ou il associe aussi des tableaux pour créer des variables de décision, mais de façon différente que le premier exemple .\n",
    "\n",
    "D'autant plus qu'un code est toujours l'application d'un modèle mathématique écrit, mais là, cela devient difficile, il faut s'habituer et prendre le temps de lire et de comprendre. On est censé savoir faire le va et vient entre le modèle mathématique et le code, et vice-versa.\n"
   ]
  },
  {
   "cell_type": "code",
   "execution_count": 16,
   "metadata": {},
   "outputs": [
    {
     "name": "stdout",
     "output_type": "stream",
     "text": [
      "{('A', 0): prod_('A',_0), ('A', 1): prod_('A',_1), ('A', 2): prod_('A',_2), ('B', 0): prod_('B',_0), ('B', 1): prod_('B',_1), ('B', 2): prod_('B',_2)}\n",
      "prod_('A',_0) = 5.0\n",
      "prod_('A',_1) = 0.0\n",
      "prod_('A',_2) = 0.0\n",
      "prod_('B',_0) = 8.0\n",
      "prod_('B',_1) = 7.0\n",
      "prod_('B',_2) = 6.0\n",
      "Coût total =  422.0\n"
     ]
    }
   ],
   "source": [
    "from pulp import *\n",
    "demand = {'A':[5,0,0],'B':[8,7,6]}\n",
    "costs = {'A':[20,17,18],'B':[15,16,15]}\n",
    "\n",
    "# On crée le problème\n",
    "model = LpProblem(\"Aggregate_Production_Planning\",LpMinimize)\n",
    "\n",
    "# On définit les variables\n",
    "time = [0, 1, 2]\n",
    "prod = ['A','B']\n",
    "\n",
    "# On crée un dictionnaire de toutes les variables de décision de productions possibles et leur temps\n",
    "#### C'est là que l'on crée des variables de décision en associant les 2 tableaux.***\n",
    "X = LpVariable.dicts(\"prod\", [(p, t) for p in prod for t in time],lowBound=0, cat=\"Integer\")\n",
    "# On regarde l'association créee :\n",
    "print(X)\n",
    "\n",
    "# On crée la fonction objectif : minimiser les coûts\n",
    "model += lpSum([costs[p][t] * X[(p, t)] for p in prod for t in time])\n",
    "\n",
    "# On définit la contrainte que la production >= demande\n",
    "for p in prod:\n",
    "    for t in time:\n",
    "        model += X[(p, t)] >= demand[p][t] \n",
    "\n",
    "# Résoudre\n",
    "model.solve()\n",
    "\n",
    "# On imprime les variables qui ont leur valeur optimisées\n",
    "for v in model.variables():\n",
    "    print(v.name, \"=\", v.varValue)\n",
    "    \n",
    "# La valeur de la fonction objective optimisée est imprimée à l'écran\n",
    "print(\"Coût total = \", value(model.objective))"
   ]
  },
  {
   "attachments": {},
   "cell_type": "markdown",
   "metadata": {},
   "source": [
    "# 7. Itérer avec Python Gekko , le  solveur non  linéaire.\n",
    "\n",
    "C'est différent d'avec Pulp .\n",
    "\n",
    "Lien : https://stackoverflow.com/questions/64542594/how-could-constraints-be-dynamically-constructed-in-gekko\n",
    "\n",
    "Voici un exemple de réduction de coût avec une itération dans la contrainte de temps de travail :"
   ]
  },
  {
   "cell_type": "code",
   "execution_count": 17,
   "metadata": {},
   "outputs": [
    {
     "name": "stdout",
     "output_type": "stream",
     "text": [
      "x1 3.9999999998\n",
      "x2 1.8225924919e-09\n",
      "Cost: 400.00000021\n"
     ]
    }
   ],
   "source": [
    "from gekko import GEKKO\n",
    "\n",
    "# stored as list\n",
    "my_vars = ['x1','x2']\n",
    "# stored as dictionaries\n",
    "Cost = {'x1':100,'x2':125}\n",
    "Min = {'x1':0,'x2':0}\n",
    "Max = {'x1':70,'x2':40}\n",
    "Work = {'x1':50,'x2':50}\n",
    "\n",
    "LP = GEKKO(remote=False)\n",
    "\n",
    "\n",
    "va = LP.Array(LP.Var, (len(my_vars)))  # array\n",
    "\n",
    "# Le truc qui diffère , en fait il crée un dictionnaire à l'aide du tableau créé juste avant :\n",
    "vd = {}                                # dictionary\n",
    "for i,xi in enumerate(my_vars):\n",
    "    vd[xi] = va[i]\n",
    "    vd[xi].lower = Min[xi]\n",
    "    vd[xi].upper = Max[xi]\n",
    "\n",
    "\n",
    "# Fonction coût\n",
    "LP.Minimize(LP.sum([Cost[xi]*vd[xi] for xi in my_vars])) \n",
    "\n",
    "\n",
    "# On voit que l'itération fonctionne !\n",
    "LP.Equation(LP.sum([Work[xi]*vd[xi] for xi in my_vars])>=200)\n",
    "\n",
    "\n",
    "LP.solve(disp=False)\n",
    "\n",
    "# On affiche le résultat\n",
    "for xi in my_vars:\n",
    "    print(xi,vd[xi].value[0])\n",
    "print ('Cost: ' + str(LP.options.OBJFCNVAL))"
   ]
  },
  {
   "attachments": {},
   "cell_type": "markdown",
   "metadata": {},
   "source": [
    "# 7b. Itérer avec le solveur Python Cplex\n",
    "\n",
    "A venir !"
   ]
  },
  {
   "cell_type": "markdown",
   "metadata": {},
   "source": [
    "# 8. <b>Utiliser une matrice dans la fonction objectif</b>"
   ]
  },
  {
   "cell_type": "markdown",
   "metadata": {},
   "source": [
    "Parfois, des matrices sont utiles pour associer par exemple deux modèles de données par un caractère particulier ."
   ]
  },
  {
   "cell_type": "markdown",
   "metadata": {},
   "source": [
    "# 9. <b>Utiliser une matrice dans les contraintes</b>\n",
    "\n",
    "Parfois, des matrices sont utiles pour associer par exemple deux modèles de données par un caractère particulier .\n",
    "Exemple, j'ai 4 développeurs, et 5 langages qu'il pratiquent ou pas, on peut résumer cet état de fait par une matrice aux valeurs binaires.\n",
    "\n",
    "Voici un exemple de code Python Pulp mettant en jeu une matrice.\n",
    "\n",
    "Pour plus de détails, on la retrouve dans mon fichier 03, optimisation réseaux, Partie \" Sélection d'employés par couverture minimale\".\n",
    "En d'autres termes, cela permet d'employer le minimum de personnes tout en couvrant tous les langages nécessaires au projet."
   ]
  },
  {
   "cell_type": "code",
   "execution_count": 18,
   "metadata": {},
   "outputs": [
    {
     "name": "stdout",
     "output_type": "stream",
     "text": [
      " Lien entre les index \n",
      "0 COLLIN\n",
      "1 BOB\n",
      "2 ALICE\n",
      "3 DAVE\n",
      "-------------Résultat----------------\n",
      "nombre d employés minimisé =  2.0\n",
      "Selection de l employé: EMPLOYE_ALICE = 0.0\n",
      "Selection de l employé: EMPLOYE_BOB = 0.0\n",
      "Selection de l employé: EMPLOYE_COLLIN = 1.0\n",
      "Selection de l employé: EMPLOYE_DAVE = 1.0\n"
     ]
    }
   ],
   "source": [
    "\n",
    "from pulp import *\n",
    " \n",
    "# les variables de décision sont les employés\n",
    "employes=[\"COLLIN\",\"BOB\",\"ALICE\",\"DAVE\"]\n",
    "langages=[\"PYTHON\",\"RUBY\",\"C++\",\"JAVA\",\"C\"]\n",
    "\n",
    "# Matrice des aptitudes\n",
    "           # COLLIN , BOB, ALICE, DAVE\n",
    "aptitudes = [[1,0,0,0], #python\n",
    "             [1,0,0,0], # Ruby\n",
    "             [1,1,1,0], # C++\n",
    "             [0,1,0,1], # Java\n",
    "             [0,0,1,1] # C\n",
    "             ]\n",
    "\n",
    "\n",
    "\n",
    "\n",
    "# On définit votre problème de minimisation\n",
    "Problem = LpProblem('couverture_minimale_dEmployes',LpMinimize)\n",
    "\n",
    "# A la place d'écrire en dur les variables de décision, on laisse Pulp les créér automatiquement\n",
    "# à l'aide du tableau employes.\n",
    "vars = LpVariable.dicts(\"EMPLOYE\", employes, 0, None, LpBinary)\n",
    "\n",
    "# On créée la fonction objectif qui est la même que celle écrite en dur\n",
    "Problem += lpSum(vars[i] for i in employes)\n",
    "\n",
    "# Pour les contraintes, on utilise énumérate \n",
    "# pour faire la liaison entre les indices de type nombre entier(idx) et\n",
    "# les indices de type STRING ( Les noms des employés)\n",
    "\n",
    "# On les affiche pour le fun\n",
    "print (\" Lien entre les index \")\n",
    "for idx, x in enumerate(employes):\n",
    "    print(idx, x)\n",
    "\n",
    "# On créée la contrainte en une seule ligne\n",
    "for j in aptitudes:# Pour chaque ligne de la matrice aptitudes\n",
    "    Problem += lpSum(j[idx] * vars[i] for idx,i in enumerate(employes)) >= 1 \n",
    "\n",
    "# La contrainte précédente veut dire : \n",
    "# Multiplie la valeur de l'index  de la ligne de la matrice par la variable de décision du même rang\n",
    "# et ça doit être supérieur ou égal à 1. et cela pour chaque ligne de la matrice.\n",
    "\n",
    "\n",
    "print(\"-------------Résultat----------------\")\n",
    "# On résouds le pb, et on peut choisir le solveur entre les parenthèses\n",
    "Problem.solve()\n",
    "\n",
    "print('nombre d employés minimisé = ', value(Problem.objective))\n",
    " \n",
    "for i in Problem.variables():\n",
    "    print('Selection de l employé:',i.name, '=', i.varValue)"
   ]
  },
  {
   "cell_type": "markdown",
   "metadata": {},
   "source": []
  }
 ],
 "metadata": {
  "kernelspec": {
   "display_name": "Python 3",
   "language": "python",
   "name": "python3"
  },
  "language_info": {
   "codemirror_mode": {
    "name": "ipython",
    "version": 3
   },
   "file_extension": ".py",
   "mimetype": "text/x-python",
   "name": "python",
   "nbconvert_exporter": "python",
   "pygments_lexer": "ipython3",
   "version": "3.9.2"
  },
  "orig_nbformat": 4
 },
 "nbformat": 4,
 "nbformat_minor": 2
}
