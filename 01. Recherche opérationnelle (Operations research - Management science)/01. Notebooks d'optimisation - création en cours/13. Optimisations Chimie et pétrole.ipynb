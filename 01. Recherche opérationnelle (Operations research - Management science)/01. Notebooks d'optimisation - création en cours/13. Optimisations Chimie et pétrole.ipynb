{
 "cells": [
  {
   "cell_type": "markdown",
   "metadata": {},
   "source": [
    "# Les Optimisations de mix de produits ( products mix )\n",
    "\n",
    "## Introduction.\n",
    "\n",
    "## Sommaire \n",
    "\n",
    "- 1. <b>Simple Maximisation de profit en raffinerie.</b>\n",
    "        - Notre problème de base de Raffinerie\n",
    "        - Modélisation mathématique\n",
    "        - Solution avec Python Pulp\n"
   ]
  },
  {
   "cell_type": "markdown",
   "metadata": {},
   "source": [
    "## 1. <b>Simple Maximisation de profit en raffinerie.</b>\n",
    "\n",
    "Notre problème de base de Raffinerie\n",
    "\n",
    "Source : https://www.youtube.com/watch?v=Ht1atCXPp24\n",
    "AP Monitor : Oil Refinery Optimization\n",
    "\n",
    "Je suis manager d'une raffinerie.\n",
    "J'ai deux fournisseurs qui vendent du pétrole Brut 24$ et 15$ respectivement.\n",
    "Ma raffinerie revends le le gazoline 36$, le kérosène 24$ , Le fuel 21$ et les résidus 10$\n",
    "\n",
    "\n",
    "Les caractéristiques de transformation sont exprimées dans le tableau suivant :\n",
    "<div style=\"text-align:center\">\n",
    "<img src=\"img/raffinerie.png\">\n",
    "</div>\n",
    "On voit que le pétrole BRUT 1 (Crude) permet de produire beaucoup plus de gazoil, par exemple.\n",
    "Par contre, le pétrole BRUT 2 permet de produire plus de fuel, cela est exprimé en pourcentages.\n",
    "On voit aussi la production maximum exprimée en BBL dans la colonne de droite et le coût de production par BBL, un SI UNIT des états unis qui signifie Barril de brut : \"The abbreviation BBL stands for a barrel of crude oil.\"\n",
    "\n",
    "Pour la fonction objectif, on sait qu'on veut maximiser notre profit , c'est l'inverse de réduire les coûts dans ce cas.\n",
    "\n",
    "La modélisation : \n",
    "<div style=\"text-align:center\">\n",
    "<img src=\"img/raffinerie2.png\">\n",
    "</div>\n",
    "\n",
    "Et si on veut simplifier la fonction objectif, on soustrait les coûts de production et d'achat à l'avance dans la fonction objectif : \n",
    "\n",
    "<div style=\"text-align:center\">\n",
    "<img src=\"img/raffinerie3.png\">\n",
    "</div>\n",
    "\n",
    "\n",
    "## Solution avec Python Pulp\n",
    "\n",
    "Avez Python Pulp, on voit qu'on obtient le même résultat que dans la vidéo de AP Monitor, qui utilise pourtant un autre solveur..."
   ]
  },
  {
   "cell_type": "code",
   "execution_count": 7,
   "metadata": {},
   "outputs": [
    {
     "name": "stdout",
     "output_type": "stream",
     "text": [
      "Crud1 = 26206.0\n",
      "Crud2 = 6897.0\n",
      "Profit total maximisé =  282618.0\n"
     ]
    }
   ],
   "source": [
    "# Importer la librairie Pulp \n",
    "\n",
    "from pulp import *\n",
    "\n",
    "# Créer un programme linéaire de maximisation\n",
    "Mon_Probleme = LpProblem('maximisation_de_profit_raffinerie', LpMaximize)  \n",
    "\n",
    "# Créer les variables du problème, \n",
    "# Les variables de décision se comptent en barils,\n",
    "# du coup ce sont des variables entières car on ne peut pas avoir un demi baril.\n",
    "X1 = LpVariable(\"Crud1\", 0, None, LpInteger)   \n",
    "X2= LpVariable(\"Crud2\", 0, None, LpInteger)   \n",
    "\n",
    "\n",
    "# Ecrire la fonction objectif à maximizer \n",
    "Mon_Probleme +=  8.1 * X1 + 10.2 * X2\n",
    "\n",
    "# Les contraintes : \n",
    "\n",
    "# Production maximum exprimée en nombre de barils.\n",
    "\n",
    "# Gazoil\n",
    "Mon_Probleme += 0.80 * X1 + 0.44 * X2  <= 24000\n",
    "# Kerosene\n",
    "Mon_Probleme += 0.05 * X1 + 0.10 * X2  <= 2000\n",
    "# Fuel\n",
    "Mon_Probleme += 0.10 * X1 + 0.36 * X2  <= 6000\n",
    "\n",
    "# Résoudre\n",
    "Mon_Probleme.solve()\n",
    "# On imprime les variables qui ont leur valeur optimisées\n",
    "for v in Mon_Probleme.variables():\n",
    "    print(v.name, \"=\", v.varValue)\n",
    "# La valeur de la fonction objective optimisée est imprimée à l'écran\n",
    "print(\"Profit total maximisé = \", value(Mon_Probleme.objective))"
   ]
  }
 ],
 "metadata": {
  "kernelspec": {
   "display_name": "Python 3",
   "language": "python",
   "name": "python3"
  },
  "language_info": {
   "codemirror_mode": {
    "name": "ipython",
    "version": 3
   },
   "file_extension": ".py",
   "mimetype": "text/x-python",
   "name": "python",
   "nbconvert_exporter": "python",
   "pygments_lexer": "ipython3",
   "version": "3.9.2"
  }
 },
 "nbformat": 4,
 "nbformat_minor": 2
}
