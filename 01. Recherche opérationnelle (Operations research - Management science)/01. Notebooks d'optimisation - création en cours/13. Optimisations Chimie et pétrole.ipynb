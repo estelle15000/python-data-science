{
 "cells": [
  {
   "cell_type": "markdown",
   "metadata": {},
   "source": [
    "# Les Optimisations de mix de produits ( products mix )\n",
    "\n",
    "## Introduction.\n",
    "\n",
    "## Sommaire \n",
    "\n",
    "- 1. <b>Simple Maximisation de profit en raffinerie.</b>\n",
    "        - Notre problème de base de Raffinerie\n",
    "        - Modélisation mathématique\n",
    "        - Solution avec Python Pulp\n"
   ]
  },
  {
   "cell_type": "markdown",
   "metadata": {},
   "source": [
    "## 1. <b>Simple Maximisation de profit en raffinerie.</b>\n",
    "\n",
    "Notre problème de base de Raffinerie\n",
    "\n",
    "Source : https://www.youtube.com/watch?v=Ht1atCXPp24\n",
    "AP Monitor : Oil Refinery Optimization\n",
    "\n",
    "Je suis manager d'une raffinerie.\n",
    "J'ai deux fournisseurs qui vendent du pétrole Brut 24$ et 15$ respectivement.\n",
    "Ma raffinerie revends le le gazoline 36$, le kérosène 24$ , Le fuel 21$ et les résidus 10$\n",
    "\n",
    "\n",
    "Les caractéristiques de transformation sont exprimées dans le tableau suivant :\n",
    "<div style=\"text-align:center\">\n",
    "<img src=\"img/raffinerie.png\">\n",
    "</div>\n",
    "On voit que le pétrole BRUT 1 (Crude) permet de produire beaucoup plus de gazoil, par exemple.\n",
    "Par contre, le pétrole BRUT 2 permet de produire plus de fuel, cela est exprimé en pourcentages.\n",
    "On voit aussi la production maximum exprimée en BBL dans la colonne de droite et le coût de production par BBL, un SI UNIT des états unis qui signifie Barril de brut : \"The abbreviation BBL stands for a barrel of crude oil.\"\n",
    "\n",
    "Pour la fonction objectif, on sait qu'on veut maximiser notre profit , c'est l'inverse de réduire les coûts dans ce cas.\n",
    "\n",
    "\n"
   ]
  },
  {
   "cell_type": "code",
   "execution_count": null,
   "metadata": {},
   "outputs": [],
   "source": []
  }
 ],
 "metadata": {
  "kernelspec": {
   "display_name": "Python 3",
   "language": "python",
   "name": "python3"
  },
  "language_info": {
   "codemirror_mode": {
    "name": "ipython",
    "version": 3
   },
   "file_extension": ".py",
   "mimetype": "text/x-python",
   "name": "python",
   "nbconvert_exporter": "python",
   "pygments_lexer": "ipython3",
   "version": "3.9.2"
  }
 },
 "nbformat": 4,
 "nbformat_minor": 2
}
