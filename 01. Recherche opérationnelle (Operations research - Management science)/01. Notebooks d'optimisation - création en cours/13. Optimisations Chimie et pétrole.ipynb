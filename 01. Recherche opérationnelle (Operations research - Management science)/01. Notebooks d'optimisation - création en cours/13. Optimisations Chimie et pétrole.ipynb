{
 "cells": [
  {
   "cell_type": "markdown",
   "metadata": {},
   "source": [
    "# Les Optimisations de mix de produits ( products mix )\n",
    "\n",
    "## Introduction.\n",
    "\n",
    "## Sommaire \n",
    "\n",
    "- 1. <b>Simple Maximisation de profit en raffinerie.</b>\n",
    "        - Notre problème de base de Raffinerie\n",
    "        - Modélisation mathématique\n",
    "        - Solution avec Python Pulp\n"
   ]
  },
  {
   "cell_type": "markdown",
   "metadata": {},
   "source": [
    "## 1. <b>Simple Maximisation de profit en raffinerie.</b>\n",
    "\n",
    "Notre problème de base de Raffinerie\n",
    "\n",
    "Source : https://www.youtube.com/watch?v=Ht1atCXPp24\n",
    "AP Monitor : Oil Refinery Optimization"
   ]
  },
  {
   "cell_type": "code",
   "execution_count": null,
   "metadata": {},
   "outputs": [],
   "source": []
  }
 ],
 "metadata": {
  "language_info": {
   "name": "python"
  }
 },
 "nbformat": 4,
 "nbformat_minor": 2
}
