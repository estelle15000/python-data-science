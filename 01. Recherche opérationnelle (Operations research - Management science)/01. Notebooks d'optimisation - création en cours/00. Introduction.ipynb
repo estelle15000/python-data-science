{
 "cells": [
  {
   "cell_type": "markdown",
   "metadata": {},
   "source": [
    "# Introduction aux optimisations.\n",
    "\n",
    "# Introduction .\n",
    "Ces fichiers sont des études en optimisation mathématique, sur tous les problèmes  d'optimisation scolaires les plus basiques.\n",
    "Je pars toujours de modèles basiques les plus simples.\n",
    "Je place le modèle mathématique avant chaque optimisation.\n",
    "\n",
    "Elles nécessitent tout de même un savoir basique en matière de <b>simplexe</b>, son histoire, et son rôle, ainsi qu'en optimisations comme par exemple l'algorithme du point intérieur, hormis cela, on voit surtout comment résoudre des problèmes concrets avec les Solveurs Python( Et Excel en //).\n",
    "\n",
    "Il existe différents niveaux en recherche opérationnelle : Les doctorants élaborent les modèles mathématiques, \n",
    "Les ingénieurs peuvent y apporter des modifications et parfois en créer, les techniciens peuvent ensuite appliquer un modèle et un programme python à tel ou tel problème de la vie réelle. C'est donc toute une gamme d'emplois à créer et satisfaire dans le futur.\n",
    "Tout projet se doit d'utiliser la recherche opérationnelle, afin d'éviter des déboires.\n",
    "\n",
    "J'utilise le solveur linéaire Python Pulp, ainsi que le solveur Quadratique Cplex mais également Gekko, Gurobi, Cvxopt, Google Or et d'autres encore et les solveurs sous Excel. Certains solveurs sont payants, d'autres non.\n",
    "\n",
    "A terme, les fichiers Excel concernant les problèmes identiques seront placés dans le répertoire Excel, de manière à pouvoir comparer.\n",
    "\n",
    "Avec ce lot d'outils de base, on peut déjà aborder les optimisations pour de petites entreprises ou pme, et l'on ne trouve pas, à ma connaissance de documentations de ce style, surtout en Français, ce qui m'a porté à travailler sur cela et je ne suis pas prête d'arrêter. En effet, les exemples proposés sont souvent trop complexes  dès le départ, ici, je fais tout mon possible pour partir de problèmes concrets simples, et augmenter la complexité au fil du notebook.\n",
    "\n",
    "Les exemples résultent d'une étude étendue portant sur environ 10 livres de recherche opérationnelle en Anglais et 2 en Français, ainsi qu'une étude journalière de l'Internet, de sites tels que StackOverflow, ou de sites plus spécialisés, les résultats sont systématiquement vérifiés.\n",
    "\n",
    "Certaines méthodes sont particulièrement hardues à comprendre, par exemple, les méthodes BigM appliquées directement dans les optimisations, certaines personnes excellent en ça, par exemple sur https://or.stackexchange.com/. \n",
    "\n",
    "Etude globale proposée par <b>Estelle Derrien - Github Estelle15000</b>\n",
    "\n",
    "# Sommaire\n",
    "\n",
    "- 1. Le vocabulaire.\n",
    "- 2. Les solveurs Python.\n",
    "\n",
    "## Sources \n",
    "\n",
    "Les livres suivants : \n",
    " \n",
    "- Practical management science de Wayne Winston\n",
    "- Operations research de Hillier\n",
    "- Operations Management de R Russel\n",
    "- Optimizations modeling with spreadsheets de R. Baker\n",
    "- Recherche opérationnelle - Méthodes d'optimisation en Gestion"
   ]
  }
 ],
 "metadata": {
  "kernelspec": {
   "display_name": "Python 3",
   "language": "python",
   "name": "python3"
  },
  "language_info": {
   "codemirror_mode": {
    "name": "ipython",
    "version": 3
   },
   "file_extension": ".py",
   "mimetype": "text/x-python",
   "name": "python",
   "nbconvert_exporter": "python",
   "pygments_lexer": "ipython3",
   "version": "3.8.0"
  },
  "orig_nbformat": 4
 },
 "nbformat": 4,
 "nbformat_minor": 2
}
