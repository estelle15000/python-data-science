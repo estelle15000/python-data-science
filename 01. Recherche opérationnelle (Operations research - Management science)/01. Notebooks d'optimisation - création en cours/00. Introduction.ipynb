{
 "cells": [
  {
   "cell_type": "markdown",
   "metadata": {},
   "source": [
    "# Introduction aux optimisations.\n",
    "\n",
    "# Introduction .\n",
    "Ces fichiers sont des études en optimisation mathématique, sur tous les problèmes  d'optimisation scolaires les plus basiques.\n",
    "Je pars toujours de modèles basiques les plus simples.\n",
    "Je place le modèle mathématique avant chaque optimisation.\n",
    "\n",
    "J'utilise le solveur linéaire Python Pulp, ainsi que le solveur Quadratique Cplex mais également Gekko, Gurobi, Cvxopt et d'autres encore.\n",
    "\n",
    "A terme, les fichiers Excel concernant les problèmes identiques seont placés dans le répertoire Excel, de manière à pouvoir comparer.\n",
    "\n",
    "Avec ce lot d'outils de base, on peut déjà aborder les optimisations pour de petites entreprises ou pme, et l'on ne trouve pas, à ma connaissance de documentations de ce style, surtout en Français, ce qui m'a porté à travailler sur cela et je ne suis pas prête d'arrêter. En effet, les exemples proposés sont souvent trop complexes  dès le départ.\n",
    "\n",
    "Les exemples résultents d'une étude étendue portant sur environ 10 livres de recherche opérationnelle en Anglais et 2 en Français, ainsi qu'une étude journalière de l'Internet, de sites tels que StackOverflow, ou de sites plus spécialisés, les résultats sont systématiquement vérifiés.\n",
    "\n",
    "Les méthodes les hardues à comprendre sont les méthodes BigM appliquées directement dans les optimisations, certaines personnes excellent en ça, par exemple sur https://or.stackexchange.com/. \n",
    "\n",
    "Etude globale proposée par <b>Estelle Derrien - Github Estelle15000</b>\n",
    "\n",
    "# Sommaire\n",
    "\n",
    "- 1. Le vocabulaire.\n",
    "- 2. Les solveurs Python.\n"
   ]
  }
 ],
 "metadata": {
  "kernelspec": {
   "display_name": "Python 3",
   "language": "python",
   "name": "python3"
  },
  "language_info": {
   "codemirror_mode": {
    "name": "ipython",
    "version": 3
   },
   "file_extension": ".py",
   "mimetype": "text/x-python",
   "name": "python",
   "nbconvert_exporter": "python",
   "pygments_lexer": "ipython3",
   "version": "3.8.0"
  },
  "orig_nbformat": 4
 },
 "nbformat": 4,
 "nbformat_minor": 2
}
