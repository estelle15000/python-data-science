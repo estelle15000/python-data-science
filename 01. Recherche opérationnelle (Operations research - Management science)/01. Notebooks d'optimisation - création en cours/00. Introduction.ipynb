{
 "cells": [
  {
   "cell_type": "markdown",
   "metadata": {},
   "source": [
    "# Introduction aux optimisations.\n",
    "\n",
    "# Sommaire\n",
    "\n",
    "- 1. Le vocabulaire.\n",
    "- 2. Etablir le seuil de rentabilité linéaire.\n",
    "- 3. Etablir le seuil de rentabilité non linéaire."
   ]
  }
 ],
 "metadata": {
  "kernelspec": {
   "display_name": "Python 3",
   "language": "python",
   "name": "python3"
  },
  "language_info": {
   "codemirror_mode": {
    "name": "ipython",
    "version": 3
   },
   "file_extension": ".py",
   "mimetype": "text/x-python",
   "name": "python",
   "nbconvert_exporter": "python",
   "pygments_lexer": "ipython3",
   "version": "3.8.0"
  },
  "orig_nbformat": 4
 },
 "nbformat": 4,
 "nbformat_minor": 2
}
