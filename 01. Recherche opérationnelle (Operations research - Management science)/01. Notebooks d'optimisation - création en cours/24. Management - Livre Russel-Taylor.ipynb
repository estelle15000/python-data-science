{
 "cells": [
  {
   "cell_type": "markdown",
   "metadata": {},
   "source": [
    "# Operations Management \n",
    "# Livre de Roberta Russel et Bernard Taylor\n",
    "\n",
    "## Introduction\n",
    "Seuls la trame du livre, et certaines formules du livre seront réalisées en Python, \n",
    "je ne copie pas le livre, ni ne le traduit directement ( Ce n'est pas autorisé et cela n'a pas d'intérêt).\n",
    "\n",
    "## Sommaire\n",
    "- 0. <b>Mesures de productivité.</b>\n",
    "        - Description\n",
    "- 1. <b>Stratégies de commpétitivité</b>\n",
    "        - Description\n",
    "- 2. <b>Décisions</b>\n",
    "        - Sans probabilités\n",
    "        - Avec probabilités\n",
    "        - Arbres probabilistes de décision\n",
    "- 3. <b>Management de la Qualité</b>\n",
    "        - Description\n",
    "        - Outils de mesures\n",
    "            - \n",
    "- 4. <b>Amélioration continue</b>\n",
    "        - Description\n",
    "        - Six Sigma\n",
    "\n",
    "- 5. <b>Statistiques de contrôles de processus</b>\n",
    "        - En service\n",
    "        - En production"
   ]
  },
  {
   "cell_type": "code",
   "execution_count": null,
   "metadata": {},
   "outputs": [],
   "source": []
  }
 ],
 "metadata": {
  "language_info": {
   "name": "python"
  }
 },
 "nbformat": 4,
 "nbformat_minor": 2
}
