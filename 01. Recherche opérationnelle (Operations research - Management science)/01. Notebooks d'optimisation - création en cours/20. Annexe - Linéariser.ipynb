{
 "cells": [
  {
   "attachments": {},
   "cell_type": "markdown",
   "metadata": {},
   "source": [
    "# Comment linéariser ?\n",
    "\n",
    "## Introduction\n",
    "\n",
    "Quand on optimise un problème, parfois, la fonction objectif, ou les contraintes peuvent contenir \n",
    "des éléments <b>non linéaires</b>.\n",
    "\n",
    "On préfère souvent simplifier un problème non linéaire en problème linéaire, ce qui permet de résoudre l'optimisation plus facilement car le solveur calcule plus facilement si c'est linéaire. Seulement, il existe des <b>techniques</b>, fixées, par deux documentations et un livre en particulier, de linéarisation , à connaitre. Dans ce notebook on va comparer les méthodes trouvées dans les documents suivants :\n",
    "\n",
    "- AIMMS Modeling Guide - Integer Programming Tricks\n",
    "- Le cours Coursera Operations research - Coursera de Ling-Chieh Kung\n",
    "Semaine 4 https://www.youtube.com/watch?v=csFOAOVEZzc\n",
    "- Transformation and Linearization Techniques in Optimization:\n",
    "A State-of-the-Art Survey de MDPI\n",
    "- Le livre The Linearization Method\n",
    "for Constrained Optimization de chez Springer\n",
    "\n",
    "Dans ce notebook, on va voir comment détecter ces éléments non linéaires, \n",
    "et analyser les techniques fixes pour linéariser ces éléments.\n",
    "\n",
    "\n",
    "## Précisions\n",
    "\n",
    "Traduction du cours de Taiwan University - Operations research - Coursera de Ling-Chieh Kung\n",
    "Semaine 4 - Comment linéariser. Je vais au fil du temps y ajouter des analyses d'autres cours.\n",
    "Ajout de tests perso avec les solveurs.\n",
    "\n",
    "Etude fournie par Estelle Derrien - Github estellederrien\n",
    "\n",
    "!! Création en cours - Très lourdes modifications à venir!!\n",
    "\n"
   ]
  },
  {
   "attachments": {},
   "cell_type": "markdown",
   "metadata": {},
   "source": [
    "# Sommaire\n",
    "\n",
    "1. Exemples concrets.\n",
    "    - A/ Linéarisation de la multiplication de 2 variables binaires.\n",
    "2. Quand la non linéarité apparait-elle ?\n",
    "3. Objectif de la linéarisation.\n",
    "4. Exemple introductif : linéariser une fonction de valeur absolue.\n",
    "5. Linéariser les contraintes.\n",
    "6. Linéariser la fonction objectif.\n",
    "7. Linéariser la multiplication de 2 variables de décision."
   ]
  },
  {
   "cell_type": "markdown",
   "metadata": {},
   "source": [
    "# 1. Exemple concret \n",
    "\n",
    "## Linéarisation de la multiplication de 2 variables binaires.\n",
    "\n",
    "HIstoire :\n",
    "Une entreprise construit 2 produits qu'elle vends 10e et 12 e. \n",
    "Construire chaque produit implique un coût de préparation de 20e et 25e\n",
    "SI l'entreprise construit les 2 produits, cela provoque une réduction du coût de préparation de 10e\n",
    "\n",
    "Modélisation : \n",
    "\n",
    "Objectif \n",
    "Max (10 X1 + 12 X2 - 20 Z1 - 25 Z2 + 10 Z1*Z2)\n",
    "COntraintes diverses(Pas utiles de les préciser dans ce problème):\n",
    "2X1 + X2 <= 6\n",
    "X1 + 2X2 <= 8\n",
    "\n",
    "Source \n",
    "https://www.youtube.com/watch?v=csFOAOVEZzc"
   ]
  },
  {
   "cell_type": "markdown",
   "metadata": {},
   "source": [
    "## Modélisation avec CPLEX\n",
    "\n",
    "Déjà on crée le PL suivant : \n",
    "Une entreprise construit 2 produits qu'elle vends 10e et 12 e. \n",
    "Construire chaque produit implique un coût de préparation de 20e et 25e.\n",
    "\n",
    "On a donc enlevé la contrainte non linéaire 10 Z1*Z2\n",
    "\n",
    "On voit que Cplex nous donne une solution maximisée, il dit de fabriquer 4 objets X2, ce qui fait 12*4 = 48 euros de bénéfice\n",
    "duquel il déduit correctement les 25 euros d'installation"
   ]
  },
  {
   "cell_type": "code",
   "execution_count": 8,
   "metadata": {},
   "outputs": [
    {
     "name": "stdout",
     "output_type": "stream",
     "text": [
      "Version identifier: 22.1.1.0 | 2023-02-09 | 22d6266e5\n",
      "CPXPARAM_Read_DataCheck                          1\n",
      "CPXPARAM_MIP_Display                             0\n",
      "objective: 23\n",
      "status: OPTIMAL_SOLUTION(2)\n",
      "  X2=4\n",
      "  Z2=1\n"
     ]
    }
   ],
   "source": [
    "import cplex\n",
    "import docplex.mp\n",
    "from docplex.mp.model import Model\n",
    "\n",
    "\n",
    "# On crée notre modèle\n",
    "model = Model(name='maximisation', log_output=True)\n",
    "\n",
    "# On crée nos variables de décision\n",
    "X1 = model.integer_var(name='X1')\n",
    "X2 = model.integer_var(name='X2')\n",
    "Z1 = model.binary_var(name='Z1')\n",
    "Z2 = model.binary_var(name='Z2')\n",
    "\n",
    "# On crée la fonction objectif\n",
    "model.maximize( 10 * X1 + 12 * X2 - 20 * Z1 - 25 * Z2 )\n",
    "\n",
    "# On crée les contraintes\n",
    "model.add_constraint(2 * X1 + X2 <= 6)\n",
    "model.add_constraint(X1 + 2 * X2 <= 8)\n",
    "\n",
    "#if then constraint\n",
    "model.add_constraint(model.if_then(X1 >= 1, Z1 == 1))\n",
    "model.add_constraint(model.if_then(X2 >= 1, Z2 == 1))\n",
    "\n",
    "\n",
    "model.parameters.mip.display.set(0)\n",
    "sol_model = model.solve()\n",
    "model.print_solution()"
   ]
  },
  {
   "cell_type": "markdown",
   "metadata": {},
   "source": [
    "## Ajout de la contrainte non linéaire.\n",
    "\n",
    "On va ajouter la contrainte non linéaire, on a donc pas encore linéarisé cette contrainte,  et voir si Cplex accepte quand même cette contrainte écrite en dur, ou si cela provoque une erreur.\n",
    "\n",
    "On force la production de X2 à au moins 1 objet, de façon à activer nos deux contraintes binaires Z1 et Z2 à 1 et donc, à tester si \n",
    "10 * ( Z1 * Z2) va bien être activé et soustraire les 10 euros au profit global.\n",
    "\n",
    "Résultat : \n",
    "On gagne 1 * 10 + 3 * 12 = 46 euros - '20 + 25 de coût d'installation) = 1 euros + 10 euros de réduction de coût d'installation parce que \n",
    "Z1 et Z2 sont activées , ce qui donne 11 euros de gains maximisés. \n",
    "\n",
    "On a pas d'erreur avec CPLEX, malgré que l'on a pas encore utilisé la technique de linéarisation dans le code.\n"
   ]
  },
  {
   "cell_type": "code",
   "execution_count": 11,
   "metadata": {},
   "outputs": [
    {
     "name": "stdout",
     "output_type": "stream",
     "text": [
      "Version identifier: 22.1.1.0 | 2023-02-09 | 22d6266e5\n",
      "CPXPARAM_Read_DataCheck                          1\n",
      "CPXPARAM_MIP_Display                             0\n",
      "objective: 11\n",
      "status: OPTIMAL_SOLUTION(2)\n",
      "  X1=1\n",
      "  X2=3\n",
      "  Z1=1\n",
      "  Z2=1\n"
     ]
    }
   ],
   "source": [
    "import cplex\n",
    "import docplex.mp\n",
    "from docplex.mp.model import Model\n",
    "\n",
    "\n",
    "# On crée notre modèle\n",
    "model = Model(name='maximisation', log_output=True)\n",
    "\n",
    "# On crée nos variables de décision\n",
    "X1 = model.integer_var(name='X1')\n",
    "X2 = model.integer_var(name='X2')\n",
    "Z1 = model.binary_var(name='Z1')\n",
    "Z2 = model.binary_var(name='Z2')\n",
    "\n",
    "# On crée la fonction objectif\n",
    "model.maximize( 10 * X1 + 12 * X2 - 20 * Z1 - 25 * Z2 + 10 * ( Z1 * Z2) )\n",
    "\n",
    "# On crée les contraintes\n",
    "model.add_constraint(2 * X1 + X2 <= 6)\n",
    "model.add_constraint(X1 + 2 * X2 <= 8)\n",
    "model.add_constraint(X1  >= 1)\n",
    "\n",
    "#if then constraint\n",
    "model.add_constraint(model.if_then(X1 >= 1, Z1 == 1))\n",
    "model.add_constraint(model.if_then(X2 >= 1, Z2 == 1))\n",
    "\n",
    "\n",
    "model.parameters.mip.display.set(0)\n",
    "sol_model = model.solve()\n",
    "model.print_solution()"
   ]
  },
  {
   "attachments": {},
   "cell_type": "markdown",
   "metadata": {},
   "source": [
    "# 2. Quand la non linéarité apparait-elle ?\n",
    "\n",
    "Résumé :\n",
    "\n",
    "Dès que \n",
    "- 2 variables de décision, même différentes sont mutlipliées\n",
    "- 1 variable de décision est élevée au carré\n",
    "- 1 variable de décision est à la valeur absolue.\n",
    "\n",
    "\n",
    "Exemple:\n",
    "\n",
    "\n",
    "Prenons ce P.N.L, on voit que des coût sont soustraits si la variable binaire z est = à 1.\n",
    "\n",
    "- max 50 z - ( 10 x1 + 12 x2 )z \n",
    "- s.t\n",
    "- 2x1 + x2 >= 6\n",
    "- x1 + 2x2 >= 8\n",
    "- x1,x2 >= 0 \n",
    "- z ∈ {0,1}\n",
    "\n",
    "On ne le voit pas trop, mais la non linéarité apparait parce que 10x1 et 12x2 sont multipliés par z.\n",
    "Autrement dit, dès que 2 variables de décisions sont multipliées, on trouve un cas de non linéarité, <b> même si ce sont 2 variables de décision différentes.</b>\n"
   ]
  },
  {
   "attachments": {},
   "cell_type": "markdown",
   "metadata": {},
   "source": [
    "# 2. Objectif de la linéarisation?\n",
    "\n",
    "Linéariser un programme non linéaire permet d'utiliser un solveur linéaire à la place d'un solveur non linéaire, et c'est plus facile pour celui-ci de réaliser des calculs.\n",
    "\n",
    "On ne peut pas tout linéariser, c'est selon les cas."
   ]
  },
  {
   "attachments": {},
   "cell_type": "markdown",
   "metadata": {},
   "source": [
    "# 3. Exemple : linéariser une fonction de valeur absolue.\n",
    "\n",
    "Supposons que nous souhaitons partager 1000$ entre 2 personnes de façon équitable.\n",
    "\n",
    "On adopte cette méthode : plus petite est la différence entre les 2 montants, plus c'est équitable.\n",
    "\n",
    "De toutes évidence, la réponse est 500$.\n",
    "\n",
    "Pourrait-on créer un programme linéaire pour résoudre ce problème ?\n",
    "\n",
    "Si on modélise comme ça :\n",
    "\n",
    "- min (x2 - x1)\n",
    "- s.t\n",
    "- x1 + x2 = 1000\n",
    "- xi >= 0 ∀i = 1,2\n",
    "\n",
    "ca ne va pas, par ce que le résultat de la fonction objectif sera - 1000 car elle est minimisée\n",
    "x1 sera = à 1000 et x2 à 0.\n",
    "\n",
    "Si on modélise comme ça avec la fonction absolue, on pourrait se dire que cela va forcer la positivité:\n",
    "\n",
    "- min |(x2 - x1)|\n",
    "- s.t\n",
    "- x1 + x2 = 1000\n",
    "- xi >= 0 ∀i = 1,2\n",
    "\n",
    "Mais cela ne va pas parce que la fonction est alors non linéaire. \n",
    "\n",
    "On sait que |x2 - x1| = max{x2 - x1, x1 - x2}\n",
    "et w >=  max{x2 - x1, x1 - x2} <=> w >= x2 - x1 et w >= x1 - x2\n",
    "\n",
    "On peut donc réécrire le p.l :\n",
    "- min w\n",
    "- s.t\n",
    "- w >= x2 - x1\n",
    "- w >= x1 - x2\n",
    "- x1 + x2 = 1000\n",
    "- xi >= 0 ∀i = 1,2\n",
    "\n",
    "\n",
    "\n",
    "\n",
    "\n",
    "\n"
   ]
  },
  {
   "attachments": {},
   "cell_type": "markdown",
   "metadata": {},
   "source": [
    "# 4. Linéariser les contraintes\n",
    "\n"
   ]
  },
  {
   "attachments": {},
   "cell_type": "markdown",
   "metadata": {},
   "source": [
    "# 5. Linéariser la fonction objectif"
   ]
  },
  {
   "attachments": {},
   "cell_type": "markdown",
   "metadata": {},
   "source": [
    "# 6. Linéariser la multiplication de 2 variables de décision."
   ]
  },
  {
   "attachments": {},
   "cell_type": "markdown",
   "metadata": {},
   "source": []
  },
  {
   "cell_type": "code",
   "execution_count": 5,
   "metadata": {},
   "outputs": [],
   "source": [
    "# A VENIR JUIN 2023 !!!"
   ]
  },
  {
   "attachments": {},
   "cell_type": "markdown",
   "metadata": {},
   "source": [
    "# 7. Liens \n",
    "\n",
    "Lien : \n",
    "https://www.coursera.org/learn/operations-research-modeling/lecture/UHdtK/4-7-linearizing-max-min-functions\n",
    "\n",
    "Lien d'un autre cours : \n",
    "\n",
    "https://www.adrian.idv.hk/2012-05-22-linearization/\n",
    "\n",
    "https://www.mdpi.com/2227-7390/10/2/283"
   ]
  }
 ],
 "metadata": {
  "kernelspec": {
   "display_name": "Python 3",
   "language": "python",
   "name": "python3"
  },
  "language_info": {
   "codemirror_mode": {
    "name": "ipython",
    "version": 3
   },
   "file_extension": ".py",
   "mimetype": "text/x-python",
   "name": "python",
   "nbconvert_exporter": "python",
   "pygments_lexer": "ipython3",
   "version": "3.9.2"
  },
  "orig_nbformat": 4
 },
 "nbformat": 4,
 "nbformat_minor": 2
}
