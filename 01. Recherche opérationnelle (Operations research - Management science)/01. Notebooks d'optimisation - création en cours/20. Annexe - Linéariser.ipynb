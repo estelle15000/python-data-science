{
 "cells": [
  {
   "attachments": {},
   "cell_type": "markdown",
   "metadata": {},
   "source": [
    "# Comment linéariser ?\n",
    "\n",
    "## Introduction\n",
    "\n",
    "Quand on optimise un problème, parfois, la fonction objectif, ou les contraintes peuvent contenir \n",
    "des éléments <b>non linéaires</b>.\n",
    "\n",
    "On préfère souvent simplifier un problème non linéaire en problème linéaire, ce qui permet de résoudre l'optimisation plus facilement. Seulement, il existe des <b>techniques</b>, fixées, par deux documentations et un livre en particulier, de linéarisation , à connaitre.\n",
    "\n",
    "Dans ce notebook, on va voir comment détecter ces éléments non linéaires, \n",
    "et analyser les techniques fixes pour linéariser ces éléments.\n",
    "\n",
    "\n",
    "## Précisions\n",
    "\n",
    "Traduction du cours de Taiwan University - Operations research - Coursera de Ling-Chieh Kung\n",
    "Semaine 4 - Comment linéariser. Je vais au fil du temps y ajouter des analyses d'autres cours.\n",
    "Ajout de tests perso avec les solveurs.\n",
    "\n",
    "Etude fournie par Estelle Derrien - Github estellederrien\n",
    "\n",
    "!! Création en cours !!\n",
    "\n"
   ]
  },
  {
   "attachments": {},
   "cell_type": "markdown",
   "metadata": {},
   "source": [
    "# Sommaire\n",
    "\n",
    "1. Quand la non linéarité apparait-elle ?\n",
    "2. Objectif de la linéarisation.\n",
    "3. Exemple introductif : linéariser une fonction de valeur absolue.\n",
    "4. Linéariser les contraintes.\n",
    "5. Linéariser la fonction objectif.\n",
    "6. Linéariser la multiplication de 2 variables de décision."
   ]
  },
  {
   "attachments": {},
   "cell_type": "markdown",
   "metadata": {},
   "source": [
    "# 1. Quand la non linéarité apparait-elle ?\n",
    "\n",
    "Prenons ce P.N.L, on voit que des coût sont soustraits si la variable binaire z est = à 1.\n",
    "\n",
    "- max 50 z - ( 10 x1 + 12 x2 )z \n",
    "- s.t\n",
    "- 2x1 + x2 >= 6\n",
    "- x1 + 2x2 >= 8\n",
    "- x1,x2 >= 0 \n",
    "- z ∈ {0,1}\n",
    "\n",
    "On ne le voit pas trop, mais la non linéarité apparait parce que 10x1 et 12x2 sont multipliés par z.\n",
    "Autrement dit, dès que 2 variables de décisions sont multipliées, on trouve un cas de non linéarité, <b> même si ce sont 2 variables de décision différentes.</b>\n"
   ]
  },
  {
   "attachments": {},
   "cell_type": "markdown",
   "metadata": {},
   "source": [
    "# 2. Objectif de la linéarisation?\n",
    "\n",
    "Linéariser un programme non linéaire permet d'utiliser un solveur linéaire à la place d'un solveur non linéaire, et c'est plus facile pour celui-ci de réaliser des calculs.\n",
    "\n",
    "On ne peut pas tout linéariser, c'est selon les cas."
   ]
  },
  {
   "attachments": {},
   "cell_type": "markdown",
   "metadata": {},
   "source": [
    "# 3. Exemple : linéariser une fonction de valeur absolue.\n",
    "\n",
    "Supposons que nous souhaitons partager 1000$ entre 2 personnes de façon équitable.\n",
    "\n",
    "On adopte cette méthode : plus petite est la différence entre les 2 montants, plus c'est équitable.\n",
    "\n",
    "De toutes évidence, la réponse est 500$.\n",
    "\n",
    "Pourrait-on créer un programme linéaire pour résoudre ce problème ?\n",
    "\n",
    "Si on modélise comme ça :\n",
    "\n",
    "- min (x2 - x1)\n",
    "- s.t\n",
    "- x1 + x2 = 1000\n",
    "- xi >= 0 ∀i = 1,2\n",
    "\n",
    "ca ne va pas, par ce que le résultat de la fonction objectif sera - 1000 car elle est minimisée\n",
    "x1 sera = à 1000 et x2 à 0.\n",
    "\n",
    "Si on modélise comme ça avec la fonction absolue, on pourrait se dire que cela va forcer la positivité:\n",
    "\n",
    "- min |(x2 - x1)|\n",
    "- s.t\n",
    "- x1 + x2 = 1000\n",
    "- xi >= 0 ∀i = 1,2\n",
    "\n",
    "Mais cela ne va pas parce que la fonction est alors non linéaire. \n",
    "\n",
    "On sait que |x2 - x1| = max{x2 - x1, x1 - x2}\n",
    "et w >=  max{x2 - x1, x1 - x2} <=> w >= x2 - x1 et w >= x1 - x2\n",
    "\n",
    "On peut donc réécrire le p.l :\n",
    "- min w\n",
    "- s.t\n",
    "- w >= x2 - x1\n",
    "- w >= x1 - x2\n",
    "- x1 + x2 = 1000\n",
    "- xi >= 0 ∀i = 1,2\n",
    "\n",
    "\n",
    "\n",
    "\n",
    "\n",
    "\n"
   ]
  },
  {
   "attachments": {},
   "cell_type": "markdown",
   "metadata": {},
   "source": [
    "# 4. Linéariser les contraintes\n",
    "\n"
   ]
  },
  {
   "attachments": {},
   "cell_type": "markdown",
   "metadata": {},
   "source": [
    "# 5. Linéariser la fonction objectif"
   ]
  },
  {
   "attachments": {},
   "cell_type": "markdown",
   "metadata": {},
   "source": [
    "# 6. Linéariser la multiplication de 2 variables de décision."
   ]
  },
  {
   "attachments": {},
   "cell_type": "markdown",
   "metadata": {},
   "source": []
  },
  {
   "cell_type": "code",
   "execution_count": 1,
   "metadata": {},
   "outputs": [],
   "source": [
    "# A VENIR JUIN 2023 !!!"
   ]
  },
  {
   "attachments": {},
   "cell_type": "markdown",
   "metadata": {},
   "source": [
    "# 7. Liens \n",
    "\n",
    "Lien : \n",
    "https://www.coursera.org/learn/operations-research-modeling/lecture/UHdtK/4-7-linearizing-max-min-functions\n",
    "\n",
    "Lien d'un autre cours : \n",
    "\n",
    "https://www.adrian.idv.hk/2012-05-22-linearization/\n",
    "\n",
    "https://www.mdpi.com/2227-7390/10/2/283"
   ]
  }
 ],
 "metadata": {
  "kernelspec": {
   "display_name": "Python 3",
   "language": "python",
   "name": "python3"
  },
  "language_info": {
   "codemirror_mode": {
    "name": "ipython",
    "version": 3
   },
   "file_extension": ".py",
   "mimetype": "text/x-python",
   "name": "python",
   "nbconvert_exporter": "python",
   "pygments_lexer": "ipython3",
   "version": "3.8.0"
  },
  "orig_nbformat": 4
 },
 "nbformat": 4,
 "nbformat_minor": 2
}
