{
 "cells": [
  {
   "cell_type": "markdown",
   "metadata": {},
   "source": [
    "# Les optimisations de type \"Pricing\""
   ]
  },
  {
   "cell_type": "markdown",
   "metadata": {},
   "source": [
    "# Introduction"
   ]
  },
  {
   "cell_type": "markdown",
   "metadata": {},
   "source": [
    "# Sommaire\n",
    "\n",
    "- 1. Elaborer le meilleur prix d'un objet.\n",
    "        - Notre problème de base\n",
    "           - l'équation linéaire de la demande\n",
    "           - l'équation d'élasticité non linéaire de la demande\n",
    "        - Modélisation mathématique\n",
    "        - Résolution avec Python Gekko\n",
    "- 2. Elaborer le meilleur prix de plusieurs objets.\n",
    "        - Notre problème de base\n",
    "        - Modélisation mathématique\n",
    "        - Résolution"
   ]
  }
 ],
 "metadata": {
  "kernelspec": {
   "display_name": "Python 3",
   "language": "python",
   "name": "python3"
  },
  "language_info": {
   "codemirror_mode": {
    "name": "ipython",
    "version": 3
   },
   "file_extension": ".py",
   "mimetype": "text/x-python",
   "name": "python",
   "nbconvert_exporter": "python",
   "pygments_lexer": "ipython3",
   "version": "3.8.0"
  },
  "orig_nbformat": 4
 },
 "nbformat": 4,
 "nbformat_minor": 2
}
