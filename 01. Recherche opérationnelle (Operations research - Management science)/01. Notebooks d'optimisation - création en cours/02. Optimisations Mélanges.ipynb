{
 "cells": [
  {
   "attachments": {},
   "cell_type": "markdown",
   "metadata": {},
   "source": [
    "# Les Optimisations de mélanges\n",
    "\n",
    "## Introduction.\n",
    "Les optimisations de type mélange permettent par exemple de créer la mixture la moins onéreuse, sous contrainte de coût. Il est également possible de maximiser ou minimiser un autre paramêtre.\n",
    "Dans cette étude, je vais utiliser plusieurs solveurs, et faire des optimisations linéaires et non \n",
    "linéaires.\n",
    "\n",
    "Note :  J'ai travaillé sur ce type de problème pendant des semaines, et les résultats et codes ont été validés car sont les mêmes que Lindo et aussi le problème de mélange exposé par Marc Sevaux et Christian Prins dans le livre \"Optimisation avec Excel\". Le code proposé trouve également strictement la même solution que celle du concepteur de Python Pulp, dans sa fameuse optimisation \" The whiskas blending problem\"\n",
    "\n",
    "Généralement, on utilise des pourcentages pour les problèmes de mélange, ce qui complique un peu la rédaction du code avec le solveur.\n",
    "De plus, on ne produit pas forcément 100% d'alliage, mais cela peut être une valeur unitaire, par exemple, produire 5000  kgs d'un alliage, cependant, cela reste un problème de mélange.\n",
    "\n",
    "Le principe général est celui-ci : \n",
    "On a plusieurs fournisseurs pour chaque métal, qui ont des prix différents, mais leurs métal ont des \n",
    "caractéristiques différentes (Ca peut être la resistance, le teneur en x,  etc). Le solveur va nous proposer l'alliage au meilleur prix.\n",
    "\n",
    "On est pas du tout forcé de maximiser le profit, on peut maximiser ou minimiser un autre paramêtre lors du mélange.\n",
    "\n",
    "Etude globale proposée par <b>Estelle Derrien - Github Estelle15000</b>\n",
    "\n",
    "CREATION EN COURS\n",
    "\n",
    "L'exemple du fameux problème de mélange linéaire \n",
    "\"The Pittsburgh steel blending problem\" de Lindo, \n",
    "résolu par mon application www.solvgraph.com en mode graphique:\n",
    "\n",
    "<div style=\"text-align:center\">\n",
    "<img src=\"img/blend.png\">\n",
    "</div>"
   ]
  },
  {
   "cell_type": "markdown",
   "metadata": {},
   "source": [
    "# Sommaire\n",
    "\n",
    "- 1. Minimisation de coût <b>linéaire.</b>\n",
    "    - Notre problème de base : Problème de Marc Sevaux et Christian Prins\n",
    "        - Modélisation mathématique\n",
    "        - Solution avec Python Pulp\n",
    "    - Notre problème de base : \" The Pittsburgh steel problem\" de Lindo\n",
    "        - Modélisation mathématique\n",
    "        - Solution avec Python Pulp\n",
    "    - Notre problème de base : \"The whiskas can blending problem\" de Python Pulp\n",
    "        - Modélisation mathématique\n",
    "        - Solution avec Python Pulp\n",
    "\n",
    "    ***************************************************************************   \n",
    "- 2. Minimisation de coût <b>non linéaire</b>\n",
    "    - Notre problème de base\n",
    "        - Modélisation mathématique\n",
    "        - Exemple\n"
   ]
  },
  {
   "cell_type": "markdown",
   "metadata": {},
   "source": [
    "# Notre problème de mélange de base.\n",
    "\n",
    "Le problème exposé par Christian Prins et Marc Sevaux dans le livre \" 50 optimisations avec Excel \" de Eyrolles."
   ]
  },
  {
   "cell_type": "code",
   "execution_count": 7,
   "metadata": {},
   "outputs": [],
   "source": [
    "\n",
    "# Une entreprise a reçu une commande de 5 tonnes d'acier pour bateau (CHristian Prins - Marc Sevaux)\n",
    "\n",
    "# Il doit avoir les caractéristiques suivantes :\n",
    "# Elément chimique\tPourcentage Minimal\tPourcentage Maximal\n",
    "# Carbone(C)\t        2\t                3\n",
    "# Cuivre(Cu)\t        0.4\t                0.6\n",
    "# Manganèse(Mn)\t        1.2\t                1.65\n",
    "\n",
    "\n",
    "# Pour fabriquer cet acier, l'entreprise dispose de 7 matières premières de différents fournisseurs :\n",
    " \n",
    "# Matière première\t        C%\t    Cu%\t    Mn%\t    Stocks disponibles (kgs)\tCoûts(Euros/kilos)\n",
    "# Alliage de fer 1\t        2.5\t    0\t    1.3\t    4000\t                    1.20\n",
    "# Alliage de fer 2\t        3\t    0\t    0.8\t    3000\t                    1.50\n",
    "# Alliage de fer 3\t        0\t    0.3\t    0\t    6000\t                    0.90\n",
    "# Alliage de cuivre 1       0\t    90\t    0\t    5000\t                    1.30\n",
    "# Alliage de cuivre 2       0\t    96\t    4\t    2000\t                    1.45\n",
    "# Alliage d'Aluminium 1     0\t    0.4\t    1.2\t    3000\t                    1.20\n",
    "# Alliage d'Aluminium 2     0\t    0.6\t\t0       2500\t                    1  \n",
    "\n",
    "# Comment minimiser le coût du mélange ?"
   ]
  },
  {
   "cell_type": "markdown",
   "metadata": {},
   "source": [
    "# La modélisation mathématique.\n",
    "\n",
    "\n",
    "\n",
    "<div style=\"text-align:center\">\n",
    "<img src=\"img/blending-models.png\">\n",
    "</div>"
   ]
  },
  {
   "cell_type": "markdown",
   "metadata": {},
   "source": [
    "# Résolution avec Python Pulp\n",
    "Voici mon code qui trouve la même solution que dans le livre de Marc Sevaux et Christian Prins:"
   ]
  },
  {
   "cell_type": "code",
   "execution_count": 8,
   "metadata": {},
   "outputs": [
    {
     "name": "stdout",
     "output_type": "stream",
     "text": [
      "Status: Optimal\n",
      "AL1 = 574.62426\n",
      "AL2 = 0.0\n",
      "CU1 = 0.0\n",
      "CU2 = 27.612723\n",
      "F1 = 4000.0\n",
      "F2 = 0.0\n",
      "F3 = 397.76302\n",
      "Cout total des ingrédients =  5887.57427835\n"
     ]
    }
   ],
   "source": [
    "import pulp\n",
    "from pulp import *\n",
    "\n",
    "# On veut minimiser le cout de 5 tonnes d'alliage #\n",
    "prob = LpProblem(\"Production_5_tonnes\",LpMinimize)\n",
    "\n",
    "# On crée nos variables de décisions\n",
    "# Ca veut dire qu'on doitchoisir quels sont les alliages les plus judicieux à choisir et on leur donne un nom à chacun\n",
    "# C'est le nombre de kg de l’alliage i utilisés.\n",
    "# vu que la valeur du nombre de kgs peut être décimal, on spécifie que c'est une variable de décision de type décimale en écrivant Continuous:\n",
    "F1 = LpVariable(\"F1\", lowBound = 0,cat='Continuous')\n",
    "F2 = LpVariable(\"F2\", lowBound = 0,cat='Continuous')\n",
    "F3 = LpVariable(\"F3\", lowBound = 0,cat='Continuous')\n",
    "CU1 = LpVariable(\"CU1\", lowBound = 0,cat='Continuous')\n",
    "CU2 = LpVariable(\"CU2\", lowBound = 0,cat='Continuous')\n",
    "AL1 = LpVariable(\"AL1\", lowBound = 0,cat='Continuous')\n",
    "AL2 = LpVariable(\"AL2\", lowBound = 0,cat='Continuous')\n",
    "\n",
    "# Fonction objectif / min (ci * xi) ou ci est exprimé en cout unitaire par kilo \n",
    "prob += 1.20 * F1 + 1.50 * F2 + 0.90 * F3 + 1.30 * CU1 + 1.45 * CU2 +  1.20  *  AL1  +  1  *  AL2 , \"Cout total\"\n",
    "\n",
    "#! On ne peut pas utiliser plus que le STOCK exprimé en kgs de  matières premières suivantes ( voir la colonne stock du 2 second tableau)\n",
    "prob += F1 <= 4000; \n",
    "prob += F2 <= 3000; \n",
    "prob += F3 <= 6000; \n",
    "prob += CU1 <= 5000; \n",
    "prob += CU2 <= 2000; \n",
    "prob += AL1 <= 3000; \n",
    "prob += AL2 <= 2500; \n",
    "\n",
    "\n",
    "#! -------------------- Les requirements qualité -----------------------!\n",
    "\n",
    "#! Carbon content; \n",
    "# Ici, 100 veut dire qu'on a un besoin en taux carbone mainimal de 2% de 5000 kgs  , ça fait  100 kgs ( voir aussi la doc lindo du fchier 7 de ce rep)\n",
    "# par contre, les pourcentages dans la partie gauche sont maintenus au format décimal (idem LINDO et l'exemple du fichier  3 aussi )!\n",
    "prob += 0.025 * F1 + 0.03 * F2 >= 100; \n",
    "prob += 0.025 * F1 + 0.03 * F2 <= 150; \n",
    "\n",
    "##! Cuivre content; \n",
    "prob += 0.003 * F3 + 0.90 * CU1 + 0.96 * CU2 + 0.004 * AL1 + 0.006 * AL2  >=  20; \n",
    "prob += 0.003 * F3 + 0.90 * CU1 + 0.96 * CU2 + 0.004 * AL1 + 0.006 * AL2  <=  30; \n",
    "\n",
    "##! Manganese content; Ici, 60 veut dire 1,2% de 5000 kgs est égal à 60 kgs, on trouve la même technique chez LINDO et l'exmple 3 de ce rep\n",
    "prob += 0.013 * F1 + 0.008 * F2 + 0.04 * CU2 + 0.012 * AL1   >=  60; \n",
    "prob += 0.013 * F1 + 0.008 * F2 + 0.04 * CU2 + 0.012 * AL1   <=  82.5;  \n",
    "\n",
    "\n",
    "#! Finish good requirements; \n",
    "# On doit spécifier que le total de nos variables de décisions exprimée en kgs doit être égal à 5000 kgs soit 5 tonnes absolument, c'est donc logique, pas de pourcentages ici.\n",
    "prob += F1 +  F2 +   F3 +  CU1 +  CU2 +   AL1 +  AL2 ==  5000 , \"total\"\n",
    "\n",
    "# On affiche notre résultat dans la console :\n",
    "prob.writeLP(\"monAlliage.lp\")\n",
    "prob.solve()\n",
    "print(\"Status:\", LpStatus[prob.status])\n",
    "\n",
    "for v in prob.variables():\n",
    "    print(v.name, \"=\", v.varValue)\n",
    "\n",
    "print(\"Cout total des ingrédients = \", value(prob.objective))"
   ]
  }
 ],
 "metadata": {
  "kernelspec": {
   "display_name": "Python 3",
   "language": "python",
   "name": "python3"
  },
  "language_info": {
   "codemirror_mode": {
    "name": "ipython",
    "version": 3
   },
   "file_extension": ".py",
   "mimetype": "text/x-python",
   "name": "python",
   "nbconvert_exporter": "python",
   "pygments_lexer": "ipython3",
   "version": "3.8.0"
  },
  "orig_nbformat": 4
 },
 "nbformat": 4,
 "nbformat_minor": 2
}
