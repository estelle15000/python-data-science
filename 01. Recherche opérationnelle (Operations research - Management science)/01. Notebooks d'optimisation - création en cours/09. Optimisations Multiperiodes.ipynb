{
 "cells": [
  {
   "cell_type": "markdown",
   "metadata": {},
   "source": [
    "# Les optimisations multipériodes.\n",
    "\n",
    "# Introduction\n",
    "\n",
    "Les optimisations multipériodes sont effectuées sur un intervalle de périodes. \n",
    "Par exemple, les 12 mois de l'années, ou les 7 jours de la semaine.\n",
    "L'optimisation la plus connue est l'optimisation de production multipériode linéaire qui permet d'équilibrer les stocks et la production.\n",
    "\n",
    "Etude globale proposée par <b>Estelle Derrien - Github Estelle15000</b>"
   ]
  },
  {
   "cell_type": "markdown",
   "metadata": {},
   "source": [
    "# Sommaire\n",
    "\n",
    "- 1. Optimisation de production multipériode.\n",
    "        - Notre problème de base donné par Taïwan university\n",
    "        - Modélisation mathématique\n",
    "        - Solution avec Python Pulp\n",
    "           - Sans itérations\n",
    "           - Explication de la solution\n",
    "           - Avec itérations\n",
    "- 2. Optimisation de production multipériode.\n",
    "        - Notre problème de base donné par Columbia university\n",
    "        - Modélisation mathématique\n",
    "        - Solution avec Python Pulp\n",
    "            - Avec itérations\n",
    "            - Explication de la solution\n",
    "            - Comparaison avec le résultat du solveur Excel\n",
    "- 2. Affectation d'employés multipériode.\n",
    "        - Notre problème de base\n",
    "        - Modélisation mathématique\n",
    "        - Résolution\n"
   ]
  },
  {
   "cell_type": "markdown",
   "metadata": {},
   "source": [
    "# 1 Optimisation de production multipériode.\n",
    "\n",
    "# Notre problème de base.\n",
    "\n",
    "HISTOIRE COMPLETE TIREE DU COURS DE TAIWAN UNIVERSITY / COURSERA: \n",
    "\n",
    "Le manager prévoit qu'on va vendre 100 , 150, 200 et 170 les jours 1 ,2 , 3 et 4 de la prochaine semaine.\n",
    "\n",
    "Les coûts de production varient en fonction du jour de la semaine: \n",
    "9e 12e 10e ET 12e les jours 1 ,2 , 3 et 4 de la prochaine semaine.\n",
    "\n",
    "Le coût de stockage est de 1 euro par objet stocké donc, si on le garde 4 jours, ça fait 4 euros de coût. \n",
    "\n",
    "QUEL EST LE MEILLEUR PLAN DE PRODUCTION POUR MINIMISER LES COUTS ET NE PAS AVOIR TROP DE STOCKS ?"
   ]
  },
  {
   "cell_type": "markdown",
   "metadata": {},
   "source": [
    "# Modélisation mathématique\n",
    "\n",
    "<img src=\"img/01. Formulation du L.P.png\"></img>"
   ]
  },
  {
   "cell_type": "markdown",
   "metadata": {},
   "source": [
    "# Solution avec Pulp, sans itérations."
   ]
  },
  {
   "cell_type": "code",
   "execution_count": 12,
   "metadata": {},
   "outputs": [
    {
     "name": "stdout",
     "output_type": "stream",
     "text": [
      "---Premier jour---\n",
      "Production: 250.0\n",
      "Stock: 150.0\n",
      "---2nd jour---\n",
      "Production: 0.0\n",
      "Stock: 0.0\n",
      "---3ème jour---\n",
      "Production3: 370.0\n",
      "Stock: 170.0\n",
      "---4eme jour---\n",
      "Production: 0.0\n",
      "Stock: 0.0\n",
      "Cout global: 6270.0\n"
     ]
    }
   ],
   "source": [
    "# Importer PULP\n",
    "import pulp\n",
    "\n",
    "# 1. On veut minimiser Les coûts de production + de stockage.\n",
    "problem = pulp.LpProblem(\"Problem\",pulp.LpMinimize)\n",
    "\n",
    "\n",
    "# Les Variables de décision\n",
    "# production d'objets par jour 1 , 2 , 3 et 4\n",
    "P1 = pulp.LpVariable('Prodution1', lowBound=0, cat='Integer')\n",
    "P2 = pulp.LpVariable('Prodution2', lowBound=0, cat='Integer')\n",
    "P3 = pulp.LpVariable('Prodution3', lowBound=0, cat='Integer')\n",
    "P4 = pulp.LpVariable('Prodution4', lowBound=0, cat='Integer')\n",
    "\n",
    "\n",
    "# Stocks par jour 1 , 2 , 3 et 4\n",
    "S1 = pulp.LpVariable('Stock1', lowBound=0, cat='Integer')\n",
    "S2 = pulp.LpVariable('Stock2', lowBound=0, cat='Integer')\n",
    "S3 = pulp.LpVariable('Stock3', lowBound=0, cat='Integer')\n",
    "S4 = pulp.LpVariable('Stock4', lowBound=0, cat='Integer')\n",
    "\n",
    "#Objective function : On veut minimiser Le cout de prod + Le cout de stockage\n",
    "problem += (9*P1 + 12*P2 + 10*P3 + 12*P4) + (S1 + S2 + S3 + S4) \n",
    "\n",
    "# Les contraintes de balance d'inventaire - Inventory balancing constraints\n",
    "problem += P1 - 100 == S1\n",
    "problem += S1 + P2 - 150 == S2\n",
    "problem += S2 + P3 - 200 == S3\n",
    "problem += S3 + P4 - 170 == S4\n",
    "\n",
    "problem += P1 >= 0\n",
    "problem += P2 >= 0 \n",
    "problem += P3 >= 0 \n",
    "problem += P4 >= 0 \n",
    "\n",
    "\n",
    "# On résouds \n",
    "result = problem.solve()\n",
    "\n",
    "#On imprime les résultats\n",
    "print(\"---Premier jour---\")\n",
    "print(\"Production:\" ,pulp.value(P1))\n",
    "print(\"Stock:\" ,pulp.value(S1))\n",
    "\n",
    "\n",
    "print(\"---2nd jour---\")\n",
    "print(\"Production:\" ,pulp.value(P2))\n",
    "print(\"Stock:\" ,pulp.value(S2))\n",
    "\n",
    "print(\"---3ème jour---\")\n",
    "print(\"Production3:\" ,pulp.value(P3))\n",
    "print(\"Stock:\" ,pulp.value(S3))\n",
    "\n",
    "print(\"---4eme jour---\")\n",
    "print(\"Production:\" ,pulp.value(P4))\n",
    "print(\"Stock:\" ,pulp.value(S4))\n",
    "\n",
    "print(\"Cout global:\" ,pulp.value(problem.objective))\n",
    "\n"
   ]
  },
  {
   "cell_type": "markdown",
   "metadata": {},
   "source": [
    "# Explication du résultat : \n",
    "\n",
    "Notre intervalle multipériode est ici de 4 jours.\n",
    "\n",
    "Le solveur calcule ce qu'il faut produire et mettre en stock, afin de se retrouver à la fin de ces 4 jours sans stock sur les bras, tout en satisfaisant la demande.\n",
    "\n",
    "Le premier jour, on produit 250, ce qui convient aux prévisions du manager qui prévoit de vendre 100 la première journée, et on garde 150 en stock pour le deuxième jour.\n",
    "\n",
    "Le troisième jour, on produit 370 toujours dans l'optique de convenir aux prévisions du manager, pour les 2 jours suivant, et on garde 170 unités en stock.\n",
    "\n",
    "Le quatrième jour, on a miniisé notre stock et notre coôut de stockage et il ne nous reste plus rien."
   ]
  },
  {
   "cell_type": "markdown",
   "metadata": {},
   "source": [
    "# Solution avec Pulp, avec itérations.\n",
    "\n"
   ]
  },
  {
   "cell_type": "code",
   "execution_count": 13,
   "metadata": {},
   "outputs": [
    {
     "name": "stdout",
     "output_type": "stream",
     "text": [
      "quater_prod__0 = 250.0\n",
      "quater_prod__1 = 0.0\n",
      "quater_prod__2 = 370.0\n",
      "quater_prod__3 = 0.0\n",
      "quater_stock__0 = 150.0\n",
      "quater_stock__1 = 0.0\n",
      "quater_stock__2 = 170.0\n",
      "quater_stock__3 = 0.0\n",
      "Notre fonction objectif , le coût global minimisé =   6270.0\n"
     ]
    }
   ],
   "source": [
    "# Importer PULP\n",
    "from pulp import *\n",
    "\n",
    "# 1. On veut minimiser Les coûts de production, et d'inventaire.\n",
    "model = LpProblem(\"Minimiser_le_cout_production\",LpMinimize)\n",
    "\n",
    "# ON définit les couts de production et de stockage pour les jours 1 2 3 ET 4 ; Dans quaters, c'est le nombre de jours SOIT 4. Define production cost, inventory cost, and demande.\n",
    "# Définir les couts de production par période, le cout de l'inventaire, et la demandee reportée par le service commercial\n",
    "quaters = list(range(4))\n",
    "cout_production=[9,12,10,12]\n",
    "cout_stockage=[1,1,1,1]\n",
    "demande=[100,150,200,170]\n",
    "\n",
    "\n",
    "# 2. Définir les variables de décision : Production et Stock - Define Decision Variables: Production and Inventory\n",
    "x = LpVariable.dicts('quater_prod_', quaters,lowBound=0, cat='Continuous')\n",
    "y = LpVariable.dicts('quater_stock_', quaters,lowBound=0, cat='Continuous')\n",
    "\n",
    "\n",
    "# 3. Définir l'objectif , On veut minimiser les coûts de production + de stockage comme dans le problème de université taiwan\n",
    "model += lpSum([cout_production[i]*x[i] for i in quaters]) + lpSum([cout_stockage[i]*y[i] for i in quaters])\n",
    "\n",
    "# Définir les contraintes\n",
    "# Constrainte de capacité de production (Production-capacity constraints)\n",
    "for i in quaters:\n",
    "    model.addConstraint(x[i]<=3000)\n",
    "\n",
    "# Contrainte de balance de stocks ( Inventory-balance constraints)\n",
    "model.addConstraint(x[0] - y[0] == demande[0]) # (Month 1)\n",
    "\n",
    "for i in quaters[1:]:\n",
    "    model.addConstraint(x[i] - y[i] + y[i-1] == demande[i]) # par (jour 2, 3, 4) \n",
    "\n",
    "#ON résouds avec le solveur pulp ou un autre entre parenthèses\n",
    "model.solve()\n",
    "\n",
    "# On imprime les solutions\n",
    "for v in model.variables():\n",
    "    print(v.name, \"=\", v.varValue)\n",
    "    \n",
    "# The optimised objective function value is printed to the screen\n",
    "print(\"Notre fonction objectif , le coût global minimisé =  \", value(model.objective))\n"
   ]
  }
 ],
 "metadata": {
  "kernelspec": {
   "display_name": "Python 3",
   "language": "python",
   "name": "python3"
  },
  "language_info": {
   "codemirror_mode": {
    "name": "ipython",
    "version": 3
   },
   "file_extension": ".py",
   "mimetype": "text/x-python",
   "name": "python",
   "nbconvert_exporter": "python",
   "pygments_lexer": "ipython3",
   "version": "3.8.0"
  },
  "orig_nbformat": 4
 },
 "nbformat": 4,
 "nbformat_minor": 2
}
