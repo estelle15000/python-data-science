{
 "cells": [
  {
   "cell_type": "markdown",
   "metadata": {},
   "source": [
    "# Les optimisations multipériodes.\n",
    "\n",
    "# Introduction\n",
    "\n",
    "Les optimisations multipériodes sont effectuées sur un intervalle de périodes. \n",
    "Par exemple, les 12 mois de l'années, ou les 7 jours de la semaine.\n",
    "L'optimisation la plus connue est l'optimisation de production multipériode linéaire qui permet d'équilibrer les stocks et la production.\n",
    "\n",
    "Etude globale proposée par <b>Estelle Derrien - Github Estelle15000</b>"
   ]
  },
  {
   "cell_type": "markdown",
   "metadata": {},
   "source": [
    "# Sommaire\n",
    "\n",
    "- 1. <b>Optimisation de production multipériode.</b>\n",
    "        - A/ Description de Notre problème de base donné par Taïwan university\n",
    "        - Modélisation mathématique\n",
    "        - Solution avec Python Pulp\n",
    "           - Sans itérations\n",
    "           - Explication de la solution\n",
    "           - Avec itérations\n",
    "        - B/ Description de Notre problème de base donné par Columbia university\n",
    "        - Modélisation mathématique\n",
    "        - Solution avec Python Pulp\n",
    "            - Avec itérations\n",
    "            - Explication de la solution\n",
    "            - Comparaison avec le résultat du solveur Excel\n",
    "        - C/ Description de Notre problème de base donné par Luc Gibaud\n",
    "            - Solution avec Pyomo\n",
    "- 2. <b>Optimisation financière multipériode. ( Cash Flow Matching)</b>\n",
    "        - Description de Notre problème de base donné par Columbia university\n",
    "        - Modélisation mathématique\n",
    "        - Solution avec Python Pulp\n",
    "            - Avec itérations\n",
    "            - Explication de la solution\n",
    "            - traitement du surplus de cash\n",
    "- 3. <b>Affectation d'employés multipériode. (Multiperiod Work Scheduling)</b>\n",
    "        - Description de  Notre problème de base\n",
    "        - Modélisation mathématique\n",
    "        - Résolution\n",
    "- LIENS\n"
   ]
  },
  {
   "cell_type": "markdown",
   "metadata": {},
   "source": [
    "# 1 Optimisation de production multipériode.\n",
    "\n",
    "# A/ Notre problème de base, donné par Taïwan university.\n",
    "\n",
    "HISTOIRE COMPLETE TIREE DU COURS DE TAIWAN UNIVERSITY / COURSERA: \n",
    "\n",
    "Le manager prévoit qu'on va vendre 100 , 150, 200 et 170 les jours 1 ,2 , 3 et 4 de la prochaine semaine.\n",
    "\n",
    "Les coûts de production varient en fonction du jour de la semaine: \n",
    "9e 12e 10e ET 12e les jours 1 ,2 , 3 et 4 de la prochaine semaine.\n",
    "\n",
    "Le coût de stockage est de 1 euro par objet stocké donc, si on le garde 4 jours, ça fait 4 euros de coût. \n",
    "\n",
    "QUEL EST LE MEILLEUR PLAN DE PRODUCTION POUR MINIMISER LES COUTS ET NE PAS AVOIR TROP DE STOCKS ?"
   ]
  },
  {
   "cell_type": "markdown",
   "metadata": {},
   "source": [
    "# Modélisation mathématique\n",
    "\n",
    "<img src=\"img/01. Formulation du L.P.png\"></img>"
   ]
  },
  {
   "cell_type": "markdown",
   "metadata": {},
   "source": [
    "# Solution avec Pulp, sans itérations."
   ]
  },
  {
   "cell_type": "code",
   "execution_count": 5,
   "metadata": {},
   "outputs": [
    {
     "name": "stdout",
     "output_type": "stream",
     "text": [
      "---Premier jour---\n",
      "Production: 250.0\n",
      "Stock: 150.0\n",
      "---2nd jour---\n",
      "Production: 0.0\n",
      "Stock: 0.0\n",
      "---3ème jour---\n",
      "Production3: 370.0\n",
      "Stock: 170.0\n",
      "---4eme jour---\n",
      "Production: 0.0\n",
      "Stock: 0.0\n",
      "Cout global: 6270.0\n"
     ]
    }
   ],
   "source": [
    "# Importer PULP\n",
    "import pulp\n",
    "\n",
    "# 1. On veut minimiser Les coûts de production + de stockage.\n",
    "problem = pulp.LpProblem(\"Problem\",pulp.LpMinimize)\n",
    "\n",
    "\n",
    "# Les Variables de décision\n",
    "# production d'objets par jour 1 , 2 , 3 et 4\n",
    "P1 = pulp.LpVariable('Prodution1', lowBound=0, cat='Integer')\n",
    "P2 = pulp.LpVariable('Prodution2', lowBound=0, cat='Integer')\n",
    "P3 = pulp.LpVariable('Prodution3', lowBound=0, cat='Integer')\n",
    "P4 = pulp.LpVariable('Prodution4', lowBound=0, cat='Integer')\n",
    "\n",
    "\n",
    "# Stocks par jour 1 , 2 , 3 et 4\n",
    "S1 = pulp.LpVariable('Stock1', lowBound=0, cat='Integer')\n",
    "S2 = pulp.LpVariable('Stock2', lowBound=0, cat='Integer')\n",
    "S3 = pulp.LpVariable('Stock3', lowBound=0, cat='Integer')\n",
    "S4 = pulp.LpVariable('Stock4', lowBound=0, cat='Integer')\n",
    "\n",
    "#Objective function : On veut minimiser Le cout de prod + Le cout de stockage\n",
    "problem += (9*P1 + 12*P2 + 10*P3 + 12*P4) + (S1 + S2 + S3 + S4) \n",
    "\n",
    "# Les contraintes de balance d'inventaire - Inventory balancing constraints\n",
    "problem += P1 - 100 == S1\n",
    "problem += S1 + P2 - 150 == S2\n",
    "problem += S2 + P3 - 200 == S3\n",
    "problem += S3 + P4 - 170 == S4\n",
    "\n",
    "problem += P1 >= 0\n",
    "problem += P2 >= 0 \n",
    "problem += P3 >= 0 \n",
    "problem += P4 >= 0 \n",
    "\n",
    "\n",
    "# On résouds \n",
    "result = problem.solve()\n",
    "\n",
    "#On imprime les résultats\n",
    "print(\"---Premier jour---\")\n",
    "print(\"Production:\" ,pulp.value(P1))\n",
    "print(\"Stock:\" ,pulp.value(S1))\n",
    "\n",
    "\n",
    "print(\"---2nd jour---\")\n",
    "print(\"Production:\" ,pulp.value(P2))\n",
    "print(\"Stock:\" ,pulp.value(S2))\n",
    "\n",
    "print(\"---3ème jour---\")\n",
    "print(\"Production3:\" ,pulp.value(P3))\n",
    "print(\"Stock:\" ,pulp.value(S3))\n",
    "\n",
    "print(\"---4eme jour---\")\n",
    "print(\"Production:\" ,pulp.value(P4))\n",
    "print(\"Stock:\" ,pulp.value(S4))\n",
    "\n",
    "print(\"Cout global:\" ,pulp.value(problem.objective))\n",
    "\n"
   ]
  },
  {
   "cell_type": "markdown",
   "metadata": {},
   "source": [
    "# Explication du résultat : \n",
    "\n",
    "Notre intervalle multipériode est ici de 4 jours.\n",
    "\n",
    "Le solveur calcule ce qu'il faut produire et mettre en stock, afin de se retrouver à la fin de ces 4 jours sans stock sur les bras, tout en satisfaisant la demande.\n",
    "\n",
    "Le premier jour, on produit 250, ce qui convient aux prévisions du manager qui prévoit de vendre 100 la première journée, et on garde 150 en stock pour le deuxième jour.\n",
    "\n",
    "Le troisième jour, on produit 370 toujours dans l'optique de convenir aux prévisions du manager, pour les 2 jours suivant, et on garde 170 unités en stock.\n",
    "\n",
    "Le quatrième jour, on a minimisé notre stock et notre coût de stockage et il ne nous reste plus rien."
   ]
  },
  {
   "cell_type": "markdown",
   "metadata": {},
   "source": [
    "# Solution avec Pulp, avec itérations.\n",
    "\n"
   ]
  },
  {
   "cell_type": "code",
   "execution_count": 6,
   "metadata": {},
   "outputs": [
    {
     "name": "stdout",
     "output_type": "stream",
     "text": [
      "quater_prod__0 = 250.0\n",
      "quater_prod__1 = 0.0\n",
      "quater_prod__2 = 370.0\n",
      "quater_prod__3 = 0.0\n",
      "quater_stock__0 = 150.0\n",
      "quater_stock__1 = 0.0\n",
      "quater_stock__2 = 170.0\n",
      "quater_stock__3 = 0.0\n",
      "Notre fonction objectif , le coût global minimisé =   6270.0\n"
     ]
    }
   ],
   "source": [
    "# Importer PULP\n",
    "from pulp import *\n",
    "\n",
    "# 1. On veut minimiser Les coûts de production, et d'inventaire.\n",
    "model = LpProblem(\"Minimiser_le_cout_production\",LpMinimize)\n",
    "\n",
    "# ON définit les couts de production et de stockage pour les jours 1 2 3 ET 4 ; Dans quaters, c'est le nombre de jours SOIT 4. Define production cost, inventory cost, and demande.\n",
    "# Définir les couts de production par période, le cout de l'inventaire, et la demandee reportée par le service commercial\n",
    "quaters = list(range(4))\n",
    "cout_production=[9,12,10,12]\n",
    "cout_stockage=[1,1,1,1]\n",
    "demande=[100,150,200,170]\n",
    "\n",
    "\n",
    "# 2. Définir les variables de décision : Production et Stock - Define Decision Variables: Production and Inventory\n",
    "x = LpVariable.dicts('quater_prod_', quaters,lowBound=0, cat='Continuous')\n",
    "y = LpVariable.dicts('quater_stock_', quaters,lowBound=0, cat='Continuous')\n",
    "\n",
    "\n",
    "# 3. Définir l'objectif , On veut minimiser les coûts de production + de stockage comme dans le problème de université taiwan\n",
    "model += lpSum([cout_production[i]*x[i] for i in quaters]) + lpSum([cout_stockage[i]*y[i] for i in quaters])\n",
    "\n",
    "# Définir les contraintes\n",
    "# Constrainte de capacité de production (Production-capacity constraints)\n",
    "for i in quaters:\n",
    "    model.addConstraint(x[i]<=3000)\n",
    "\n",
    "# Contrainte de balance de stocks ( Inventory-balance constraints)\n",
    "model.addConstraint(x[0] - y[0] == demande[0]) # (Month 1)\n",
    "\n",
    "for i in quaters[1:]:\n",
    "    model.addConstraint(x[i] - y[i] + y[i-1] == demande[i]) # par (jour 2, 3, 4) \n",
    "\n",
    "#ON résouds avec le solveur pulp ou un autre entre parenthèses\n",
    "model.solve()\n",
    "\n",
    "# On imprime les solutions\n",
    "for v in model.variables():\n",
    "    print(v.name, \"=\", v.varValue)\n",
    "    \n",
    "# The optimised objective function value is printed to the screen\n",
    "print(\"Notre fonction objectif , le coût global minimisé =  \", value(model.objective))\n"
   ]
  },
  {
   "cell_type": "markdown",
   "metadata": {},
   "source": [
    "## B/ Notre problème de base, donné par Colombia university.\n",
    "\n",
    "On le retrouve dans ce lien : \n",
    "\n",
    "http://www.columbia.edu/itc/sipa/U6033/client_edit/lectures/lec4.pdf\n",
    "\n",
    "National Steel Corporation (NSC) produit un acier à usage spécial\n",
    "utilisé dans les industries aéronautique et aérospatiale. Le service commercial\n",
    "a reçu des commandes pour les quatre prochains mois :"
   ]
  },
  {
   "cell_type": "code",
   "execution_count": 7,
   "metadata": {},
   "outputs": [],
   "source": [
    "# Demande  : Janvier  Février     Mars    Avril\n",
    "# Tonnes:     2300    2000        3100    3000"
   ]
  },
  {
   "cell_type": "markdown",
   "metadata": {},
   "source": [
    "NSC peut répondre à la demande en produisant de l'acier, en puisant dans ses\n",
    "inventaire, ou une combinaison de ceux-ci. Inventaire au début de\n",
    "Janvier est zéro. Les coûts de production devraient augmenter en février et mars.\n",
    "Les coûts de production et de stocks sont :"
   ]
  },
  {
   "cell_type": "code",
   "execution_count": 8,
   "metadata": {},
   "outputs": [],
   "source": [
    "#                         Janvier     Février     Mars      Avril\n",
    "# Coût de production        3000      3300        3600      3600\n",
    "# Coût d'inventaire         250       250         250       250"
   ]
  },
  {
   "cell_type": "markdown",
   "metadata": {},
   "source": [
    "Les coûts de production sont en dollars par tonne. \n",
    "Les coûts d'inventaire sont en dollars par tonne et par mois. \n",
    "\n",
    "Par exemple, 1 tonne en stock pendant 1 mois coûte 250 dollars ; pour 2\n",
    "mois, cela coûte 500 dollars.\n",
    "\n",
    "NSC peut produire au maximum 3 000 tonnes d'acier par mois. \n",
    "Quel plan de production répond-il à la demande au coût minimum ?"
   ]
  },
  {
   "cell_type": "markdown",
   "metadata": {},
   "source": [
    "## Modélisation mathématique\n",
    "\n",
    "A venir !"
   ]
  },
  {
   "cell_type": "markdown",
   "metadata": {},
   "source": [
    "## Solution avec Pulp"
   ]
  },
  {
   "cell_type": "code",
   "execution_count": 9,
   "metadata": {},
   "outputs": [
    {
     "name": "stdout",
     "output_type": "stream",
     "text": [
      "quater_inv__0 = 700.0\n",
      "quater_inv__1 = 1700.0\n",
      "quater_inv__2 = 0.0\n",
      "quater_inv__3 = 0.0\n",
      "quater_prod__0 = 3000.0\n",
      "quater_prod__1 = 3000.0\n",
      "quater_prod__2 = 1400.0\n",
      "quater_prod__3 = 3000.0\n",
      "Value of Objective Function =  35340000.0\n"
     ]
    },
    {
     "name": "stderr",
     "output_type": "stream",
     "text": [
      "c:\\Users\\secretgirl\\AppData\\Local\\Programs\\Python\\Python38\\lib\\site-packages\\pulp\\pulp.py:1195: UserWarning: Spaces are not permitted in the name. Converted to '_'\n",
      "  warnings.warn(\"Spaces are not permitted in the name. Converted to '_'\")\n"
     ]
    }
   ],
   "source": [
    "\"\"\"\n",
    " PLANIFICATION DE PRODUCTION MULTI PERIODE AVEC PRISE EN COMPTE DES STOCKS\n",
    "Source  :  https://machinelearninggeek.com/solvingmulti-period-production-scheduling-problem-in-python-using-pulp/\n",
    "\n",
    "La solution EST IDENTIQUE au fichier EXCEL ET A LA DOC COLUMBIA UNIVERSITY :\n",
    "http://www.columbia.edu/itc/sipa/U6033/client_edit/lectures/lec4.pdf\n",
    "\"\"\"\n",
    "\n",
    "# Import all classes of PuLP module\n",
    "from pulp import *\n",
    "\n",
    "# 1. Initialize Class\n",
    "model = LpProblem(\"Minimize Cost\",LpMinimize)\n",
    "\n",
    "# Define production cost, inventory cost, and demand.\n",
    "quaters = list(range(4))\n",
    "prod_cost=[3000, 3300, 3600, 3600]\n",
    "inv_cost=[250, 250, 250, 250]\n",
    "demand=[2300, 2000, 3100, 3000]\n",
    "\n",
    "# 2. Define Decision Variables: Production and Inventory\n",
    "x = LpVariable.dicts('quater_prod_', quaters,lowBound=0, cat='Continuous')\n",
    "y = LpVariable.dicts('quater_inv_', quaters,lowBound=0, cat='Continuous')\n",
    "\n",
    "# 3. Define Objective\n",
    "model += lpSum([prod_cost[i]*x[i] for i in quaters]) + lpSum([inv_cost[i]*y[i] for i in quaters])\n",
    "\n",
    "# Define Constraints\n",
    "# Production-capacity constraints\n",
    "for i in quaters:\n",
    "    model.addConstraint(x[i]<=3000)\n",
    "\n",
    "# Inventory-balance constraints\n",
    "model.addConstraint(x[0] - y[0] == demand[0]) # (Month 1)\n",
    "\n",
    "for i in quaters[1:]:\n",
    "    model.addConstraint(x[i] - y[i] + y[i-1] == demand[i]) # for (Month 2, 3, 4) \n",
    "\n",
    "    # The problem is solved using PuLP's choice of Solver\n",
    "model.solve()\n",
    "\n",
    "# Print the variables optimized value\n",
    "for v in model.variables():\n",
    "    print(v.name, \"=\", v.varValue)\n",
    "    \n",
    "# The optimised objective function value is printed to the screen\n",
    "print(\"Value of Objective Function = \", value(model.objective))"
   ]
  },
  {
   "cell_type": "markdown",
   "metadata": {},
   "source": [
    "## C/ Notre problème de base, donné par Luc Gibaud.\n",
    "\n",
    "Lien :  https://www.quantmetry.com/blog/pyomo-optimisation-python/\n",
    "\n",
    "Prenons l’exemple d’une entreprise spécialisée dans la vente de T-shirts qui, pour l’année à venir, souhaite établir un planning prévisionnel des T-shirts à produire et à vendre chaque mois, afin d’optimiser ses bénéfices. La société a préalablement fait une estimation de la demande mensuelle de T-shirts de ses clients au cours de l’année.\n",
    "\n",
    "On sait qu’un T-shirt se vend 10€, coûte 4€ à produire et coûte chaque mois 1,1€ à stocker. La société dispose également d’un stock de 200 T-shirts au début de l’année.\n",
    "\n",
    "Pour le reste, lire le code sur le lien ainsi que son code Pyomo."
   ]
  },
  {
   "cell_type": "markdown",
   "metadata": {},
   "source": [
    "# 2. Optimisation financière multipériode. ( Cash Flow Matching)"
   ]
  },
  {
   "cell_type": "markdown",
   "metadata": {},
   "source": [
    "## Notre problème de base donné par Colombia University\n",
    "\n",
    "Une entreprise envisage une rénovation de ses installations sur 3 ans et souhaite\n",
    "financer le projet en achetant des obligations maintenant (en 2001). \n",
    "L'étude de gestion a estimé les besoins de trésorerie suivants pour\n",
    "le projet:"
   ]
  },
  {
   "cell_type": "code",
   "execution_count": 10,
   "metadata": {},
   "outputs": [],
   "source": [
    "#                   Année 1    Année 2     Année 3\n",
    "#                   2002        2003        2004\n",
    "# besoin en cash    20          30          40\n",
    "# en millions"
   ]
  },
  {
   "cell_type": "markdown",
   "metadata": {},
   "source": [
    "Le comité d'investissement envisage quatre obligations d'État pour\n",
    "achat possible. Le prix et les flux de trésorerie des obligations (en $) sont ( Bond veux dire obligation):\n",
    "\n",
    "<img src=\"img/bonds1.jpg\">\n",
    "\n",
    "Quel est le portefeuille d'obligations le moins cher dont les flux de trésorerie sont égaux à\n",
    "ou dépasser les exigences du projet ?\n",
    "\n",
    "\n",
    "\n",
    "Note : Différence entre une action et une obligation :\n",
    "L'action est un titre de capital assorti d'un droit de propriété au sein d'une entreprise. L'obligation, pour sa part, est un titre de créance avec une promesse de remboursement des intérêts. Dans le domaine des actions, on parle surtout d'investissement dont le paiement de dividendes est imprévisible."
   ]
  },
  {
   "cell_type": "code",
   "execution_count": 11,
   "metadata": {},
   "outputs": [],
   "source": [
    "#       Bond 1  Bond 2  Bond 3  Bond 4 \n",
    "# 2001 -1.04    -1.00   -0.98   -0.92 \n",
    "# 2002  0.05    0.04    1.00    0.00 \n",
    "# 2003  0.05    1.04            1.00\n",
    "# 2004  1.05"
   ]
  },
  {
   "cell_type": "markdown",
   "metadata": {},
   "source": [
    "## Le modèle mathématique .\n",
    "\n",
    "Lire ce lien : \n",
    "https://en.wikipedia.org/wiki/Cashflow_matching\n",
    "\n",
    "Mais il ne corresponds pas au modèle suivant ... Résolution en cours."
   ]
  },
  {
   "cell_type": "code",
   "execution_count": 13,
   "metadata": {},
   "outputs": [
    {
     "name": "stdout",
     "output_type": "stream",
     "text": [
      "X1 = 39.0\n",
      "X2 = 2.0\n",
      "X3 = 18.0\n",
      "X4 = 26.0\n",
      "Total cost of the bond portfolio =  84.12  in $ millions\n"
     ]
    }
   ],
   "source": [
    "## Solution using Python Pulp\n",
    "\n",
    "# Import\n",
    "from pulp import *\n",
    "\n",
    "# 1. Initialize Class - Xj = # of bond j to purchase today (in millions of bonds)\n",
    "problem = LpProblem(\"cashFlow_matching\",LpMinimize)\n",
    "\n",
    "# Define variables\n",
    "X1 = pulp.LpVariable('X1', lowBound=0, cat='Integer')\n",
    "X2 = pulp.LpVariable('X2', lowBound=0, cat='Integer')\n",
    "X3 = pulp.LpVariable('X3', lowBound=0, cat='Integer')\n",
    "X4 = pulp.LpVariable('X4', lowBound=0, cat='Integer')\n",
    "\n",
    "# Objective : Minimize the total cost of the bond portfolio (in $ million):\n",
    "problem += 1.04 * X1 + 1.00  * X2 + 0.98 * X3 + 0.92 * X4 \n",
    "\n",
    "# In each year, the cash flow from the bonds should equal or exceed \n",
    "# the project’s cash requirements: Cash flow from bonds >= Requirement\n",
    "problem += 0.05  * X1 + 0.04 *  X2 + X3 >= 20,( \"year 2002\") \n",
    "problem +=  0.05 * X1 + 1.04 * X2 + X4 >= 30,( \"year 2003\") \n",
    "problem += 1.05 * X1 >= 40,( \"year 2004\") \n",
    "\n",
    "# The problem is solved using PuLP's choice of Solver\n",
    "problem.solve()\n",
    "\n",
    "# Print the variables optimized value\n",
    "for v in problem.variables():\n",
    "    print(v.name, \"=\", v.varValue)\n",
    "    \n",
    "# The optimised objective function value is printed to the screen\n",
    "print(\"Total cost of the bond portfolio = \", value(problem.objective), \" in $ millions\")\n"
   ]
  },
  {
   "cell_type": "markdown",
   "metadata": {},
   "source": [
    "# 3. Affectation d'employés multipériode. (Multiperiod Work Scheduling)\n",
    "\n",
    "## Notre problème de base \n",
    "Dans le notebook Gestion de projet, nous avons vu que la programmation linéaire pouvait être utilisée pour planifier les employés dans un environnement statique où la demande n’a pas changé au fil du temps. L'exemple suivant (un\n",
    "version modifiée d'un problème de Wagner [1975]) montre comment LP peut être utilisé pour planifier la formation des employés lorsqu'une entreprise est confrontée à une demande qui évolue dans le temps.\n",
    "\n",
    "CSL est une chaîne de magasins de services informatiques. Le nombre d'heures de réparation qualifiée qui\n",
    "Les exigences de CSL au cours des cinq prochains mois sont les suivantes :\n",
    "- Mois 1 (janvier) : 6 000 heures\n",
    "- Mois 2 (février) : 7 000 heures\n",
    "- Mois 3 (mars) : 8 000 heures\n",
    "- Mois 4 (avril) : 9 500 heures\n",
    "- Mois 5 (mai) : 11 000 heures\n",
    "\n",
    "Début janvier, 50 techniciens qualifiés travaillent pour CSL. Chaque technicien qualifié\n",
    "peut travailler jusqu'à 160 heures par mois. Pour répondre aux demandes futures, les nouveaux techniciens doivent être qualifiés. Il faut un mois pour former un nouveau technicien. Durant le mois de formation, \n",
    "le stagiaire doit être encadré pendant 50 heures par un technicien expérimenté. \n",
    "Le technicien est payé 2 000 $ par mois (même s'il ne travaille pas les 160 heures complètes).\n",
    "Pendant le mois de formation, un stagiaire reçoit 1 000 $ par mois. A la fin de chaque mois,\n",
    "5 % des techniciens expérimentés de CSL ont quitté l’entreprise pour rejoindre Plum Computers. \n",
    "\n",
    "Formuler un LP\n",
    "dont la solution permettra à CSL de minimiser les coûts de main-d'œuvre engagés pour répondre aux exigences de service pour les cinq prochains mois."
   ]
  },
  {
   "cell_type": "markdown",
   "metadata": {},
   "source": [
    "# LIENS \n",
    "\n",
    "https://www.lindo.com/downloads/LINGO_text/9-Multi-period_Planning_Problems.pdf"
   ]
  }
 ],
 "metadata": {
  "kernelspec": {
   "display_name": "Python 3",
   "language": "python",
   "name": "python3"
  },
  "language_info": {
   "codemirror_mode": {
    "name": "ipython",
    "version": 3
   },
   "file_extension": ".py",
   "mimetype": "text/x-python",
   "name": "python",
   "nbconvert_exporter": "python",
   "pygments_lexer": "ipython3",
   "version": "3.8.0"
  },
  "orig_nbformat": 4
 },
 "nbformat": 4,
 "nbformat_minor": 2
}
