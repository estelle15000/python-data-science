{
 "cells": [
  {
   "cell_type": "markdown",
   "metadata": {},
   "source": [
    "# Calculer les seuils de rentabilité."
   ]
  },
  {
   "cell_type": "markdown",
   "metadata": {},
   "source": [
    "## Introduction\n",
    "\n",
    "La formule de seuil de rentabilité permet de savoir au bout de combien d'unités vendues on va obtenir un bénéfice, sachant nos prix de vente, nos côuts fixes et nos coûts variables. \n",
    "\n",
    "En Anglais, le seuil de rentabilité se dit \" Even Breakpoint\".\n",
    "\n",
    "## Sommaire\n",
    "\n",
    "1. Calculer le seuil de rentabilité linéaire\n",
    "    - a. Notre exemple de base\n",
    "    - b. Les formules\n",
    "    - c. Calcul avec Python\n",
    "2. Calculer le seuil de rentabilité non linéaire\n",
    "    - a. Description\n",
    "    - b. Les formules\n",
    "    - c. Calcul avec Python\n",
    "\n",
    "# 1. Calculer le seuil de rentabilité linéaire\n",
    "\n",
    "## a. Notre exemple de base\n",
    "\n",
    "L'usine x a un coût fixe de 10 000 euros, chaque t shirt produit a un coût variable de 8 euros, elle les vends 23 euros.\n",
    "A partir de combien de t shirt l'entreprise va-t-elle faire un bénéfice ?\n",
    "\n",
    "## b. Les formules \n",
    "\n",
    "<b>Formule de calcul des couts :</b> \n",
    "\n",
    "- Coût total = total des coûts fixes + total des coûts variables\n",
    "- cout variables = cout par jean\n",
    "- cout fixe = cout total de l'usine\n",
    "\n",
    "<b>Formule de calcul du profit :</b> \n",
    "- total profit = revenu total  - cout total\n",
    "- Z = v * p - cf - v * cv\n",
    "\n",
    "oû\n",
    "\n",
    "- v =  volume de vente (i.e., demand) \n",
    "- p = prix fixe\n",
    "- cf = cout fixe\n",
    "- cv = cout variable\n",
    "\n",
    "<b>Formule du seuil de rentabilité :</b> \n",
    "\n",
    "- seuil de rentabilité = couts fixes / (prix - cout variable)\n",
    "\n",
    "Source : Bernard_W_._Taylor_Introduction_to_Management_Science_11th_2013"
   ]
  },
  {
   "cell_type": "markdown",
   "metadata": {},
   "source": [
    "## c. Calcul avec python"
   ]
  },
  {
   "cell_type": "code",
   "execution_count": 11,
   "metadata": {},
   "outputs": [
    {
     "name": "stdout",
     "output_type": "stream",
     "text": [
      "L'entreprise sera rentable à partir de : 666.6666666666666 t shirts produits\n"
     ]
    }
   ],
   "source": [
    "# On calcule le seuil de rentabilité\n",
    "\n",
    "couts_fixes = 10000\n",
    "prix_unitaire = 23\n",
    "cout_variable = 8\n",
    "\n",
    "#Formule du seuil de rentabilité : \n",
    "seuil_de_rentabilité = couts_fixes / (prix_unitaire - cout_variable)\n",
    "\n",
    "print(\"L'entreprise sera rentable à partir de :\", seuil_de_rentabilité, \"t shirts produits\")\n"
   ]
  },
  {
   "cell_type": "markdown",
   "metadata": {},
   "source": [
    "# 2. Calculer le seuil de rentabilité non linéaire\n",
    "\n",
    "## a. Description\n",
    "\n",
    "Raison de passer en non linéaire : \n",
    "Une hypothèse importante mais quelque peu irréaliste de ce modèle de rentabilité est que le volume, ou demande, est indépendante du prix (c'est-à-dire que le volume reste constant, quel que soit le prix de produit). \n",
    "Il serait plus réaliste que la demande varie à mesure que le prix augmente ou diminue. pour notre exemple de base.\n"
   ]
  }
 ],
 "metadata": {
  "kernelspec": {
   "display_name": "Python 3",
   "language": "python",
   "name": "python3"
  },
  "language_info": {
   "codemirror_mode": {
    "name": "ipython",
    "version": 3
   },
   "file_extension": ".py",
   "mimetype": "text/x-python",
   "name": "python",
   "nbconvert_exporter": "python",
   "pygments_lexer": "ipython3",
   "version": "3.8.0"
  },
  "orig_nbformat": 4
 },
 "nbformat": 4,
 "nbformat_minor": 2
}
