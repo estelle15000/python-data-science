{
 "cells": [
  {
   "cell_type": "markdown",
   "metadata": {},
   "source": [
    "# Calculer les seuils de rentabilité."
   ]
  },
  {
   "cell_type": "markdown",
   "metadata": {},
   "source": [
    "## Introduction\n",
    "\n",
    "La formule de seuil de rentabilité permet de savoir au bout de combien d'unités vendues on va obtenir un bénéfice, sachant nos côuts fixes et variables. en Anglais, le seuil de rentabilité se dit \" Even Breakpoint\".\n",
    "\n",
    "\n",
    "## Notre exemple de base\n",
    "\n",
    "L'usine x a un coût fixe de 10 000 euros, chaque t shirt produit a un coût variable de 8 euros, elle les vends 23 euros.\n",
    "A partir de combien de t shirt l'entreprise va-t-elle faire un bénéfice ?\n",
    "\n",
    "## Les formules \n",
    "\n",
    "<b>Formule de calcul des couts :</b> \n",
    "\n",
    "- Coût total = total des coûts fixes + total des coûts variables\n",
    "- cout variables = cout par jean\n",
    "- cout fixe = cout total de l'usine\n",
    "\n",
    "<b>Formule de calcul du profit :</b> \n",
    "- total profit = revenu total  - cout total\n",
    "- Z = v * p - cf - v * cv\n",
    "\n",
    "oû\n",
    "\n",
    "- v =  volume de vente (i.e., demand) \n",
    "- p = prix fixe\n",
    "- cf = cout fixe\n",
    "- cv = cout variable\n",
    "\n",
    "<b>Formule du seuil de rentabilité :</b> \n",
    "\n",
    "- seuil de rentabilité = couts fixes / prix - cout variable"
   ]
  },
  {
   "cell_type": "code",
   "execution_count": 10,
   "metadata": {},
   "outputs": [
    {
     "name": "stdout",
     "output_type": "stream",
     "text": [
      "L'entreprise sera rentable à partir de : 666.6666666666666 t shirts produits\n"
     ]
    }
   ],
   "source": [
    "# On calcule le seuil de rentabilité\n",
    "\n",
    "couts_fixes = 10000\n",
    "prix_unitaire = 23\n",
    "cout_variable = 8\n",
    "\n",
    "#Formule du seuil de rentabilité : \n",
    "seuil_de_rentabilité = couts_fixes / (prix_unitaire - cout_variable)\n",
    "\n",
    "print(\"L'entreprise sera rentable à partir de :\", seuil_de_rentabilité, \"t shirts produits\")\n"
   ]
  }
 ],
 "metadata": {
  "kernelspec": {
   "display_name": "Python 3",
   "language": "python",
   "name": "python3"
  },
  "language_info": {
   "codemirror_mode": {
    "name": "ipython",
    "version": 3
   },
   "file_extension": ".py",
   "mimetype": "text/x-python",
   "name": "python",
   "nbconvert_exporter": "python",
   "pygments_lexer": "ipython3",
   "version": "3.8.0"
  },
  "orig_nbformat": 4
 },
 "nbformat": 4,
 "nbformat_minor": 2
}
