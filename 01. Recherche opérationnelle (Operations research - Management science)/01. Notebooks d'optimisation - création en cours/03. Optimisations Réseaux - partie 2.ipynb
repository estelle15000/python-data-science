{
 "cells": [
  {
   "cell_type": "markdown",
   "metadata": {},
   "source": [
    "# Les Optimisations de type réseau - Partie 2\n",
    "\n",
    "# Introduction.\n",
    "Les optimisations de type réseaux ont cela en commun qu'elles mettent en jeu \n",
    "des noeuds (nodes) et des arrêtes valuées (arcs).\n",
    "\n",
    "Dans cette étude, je vais tenter, une fois les optimisations classiques abordées,\n",
    "d'étudier la possibilité d'y ajouter des paramètres non linéaires dans un second temps.\n",
    "\n",
    "\n",
    "Etude globale proposée par <b> Estelle Derrien - Github estellederrien </b>\n",
    "\n",
    "!! Création en cours - sujet à de lourdes modifications !!\n",
    "\n",
    "# Sommaire\n",
    "\n",
    "  \n",
    "   - 1. <b>Problème de Flots</b> (Flows models)\n",
    "         - Flots de coût minimal.\n",
    "            - Description\n",
    "            - Modélisation mathématique\n",
    "            - Notre exemple de base\n",
    "            - Solution avec le solveur Pulp\n",
    "            - Solution avec l'algo de Ford Fulkerson avec Python\n",
    "         - Flot maximal.\n",
    "            - Description\n",
    "            - Modélisation mathématique\n",
    "            - Notre exemple de base\n",
    "            - Solution avec le solveur Pulp\n",
    "            - Solution avec l'algo de Ford Fulkerson\n",
    "\n",
    "   - 2. <b>Plus court chemin</b> (Shortest path problem)\n",
    "         - Description\n",
    "         - Modélisation mathématique\n",
    "         - Exemples avec les solveurs  \n",
    "   - 3. <b>Optimisation de production à l'aide d'un modèle de type réseau.</b>\n",
    "         - Description\n",
    "         - Modélisation mathématique\n",
    "         - Exemples avec les solveurs\n",
    "   - 4. <b>Optimisation financière à l'aide d'un modèle de type réseau. ( Financial optimizations using networks models)</b>\n",
    "         - Description\n",
    "         - Modélisation mathématique\n",
    "         - Exemples avec les solveurs\n",
    "\n",
    "   - 5. <b>Optimisation mathématique en réseaux informatique (Computer networks optimizations)</b>\n",
    "         - Description\n",
    "         - Modélisation mathématique\n",
    "         - Exemples avec les solveurs\n",
    "   - 6. <b> Le problème du voyageur de commerce ( Traveling salesman)</b>\n",
    "         - Description\n",
    "         - Modélisation mathématique\n",
    "         - Exemples avec les solveurs\n",
    "         - Le concorde tsp Solver : https://www.math.uwaterloo.ca/tsp/concorde/\n",
    "         - Résolution Avec un algorithme génétique : https://nbviewer.org/github/rhiever/Data-Analysis-and-Machine-Learning-Projects/blob/master/optimal-road-trip/Computing%20the%20optimal%20road%20trip%20across%20the%20U.S..ipynb\n",
    "   - 7. <b> Coloration de graphe. </b>\n",
    "         - Description - https://github.com/tpawelski/graph-coloring-lp\n",
    "         - Modélisation mathématique\n",
    "         - Exemples avec les solveurs      \n",
    "   - 8. <b> Problèmes de livraison par véhicule</b>(Véhicules routing problems)\n",
    "         - Variantes\n",
    "   - 9. <b> Problèmes de partitionnement.\n",
    "\n",
    "   - <b> Liens </b>\n"
   ]
  },
  {
   "cell_type": "markdown",
   "metadata": {},
   "source": [
    "# 1. Les problèmes de flots\n",
    "\n",
    "## <b> A/ Le problème de flot de coût minimal</b>\n",
    "\n",
    "## Description.\n",
    "\n",
    "Le problème du flux à coût minimum consiste à trouver le moyen le moins cher possible d’envoyer une certaine quantité de flux à travers un réseau de flux. \n",
    "La résolution de ce problème est utile pour les situations réelles impliquant des réseaux avec des coûts associés (par exemple les réseaux de télécommunications), ainsi que dans d'autres situations où l'analogie n'est pas si évidente, comme par exemple où localiser l'entrepôt.\n",
    "\n",
    "https://fr.wikipedia.org/wiki/Probl%C3%A8me_du_flot_de_co%C3%BBt_minimum\n",
    "\n"
   ]
  },
  {
   "cell_type": "markdown",
   "metadata": {},
   "source": [
    "## Modélisation mathématique\n",
    "\n",
    "A venir !"
   ]
  },
  {
   "cell_type": "markdown",
   "metadata": {},
   "source": [
    "## Notre problème de base\n",
    "\n"
   ]
  },
  {
   "cell_type": "markdown",
   "metadata": {},
   "source": [
    "## Solution avec Python Pulp"
   ]
  },
  {
   "cell_type": "markdown",
   "metadata": {},
   "source": [
    "## L'algorithme de Ford Fulkerson avec Python"
   ]
  },
  {
   "cell_type": "markdown",
   "metadata": {},
   "source": [
    "\n",
    "## <b> B/ Le problème de flot maximal</b>\n",
    "\n",
    "## Description.\n",
    "\n",
    "Dans la théorie de l'optimisation, les problèmes de débit maximum impliquent de trouver un débit réalisable à travers un réseau de flux qui obtient le débit maximum possible.\n",
    "Les arrêtes(arcs) ont une capacité de flot maximum, mais plusieurs routes peuven exister, plus ou moins avantageuses .\n",
    "\n",
    "https://fr.wikipedia.org/wiki/Probl%C3%A8me_de_flot_maximum\n",
    "https://en.wikipedia.org/wiki/Maximum_flow_problem"
   ]
  },
  {
   "cell_type": "markdown",
   "metadata": {},
   "source": [
    "## Modélisation mathématique"
   ]
  },
  {
   "cell_type": "markdown",
   "metadata": {},
   "source": [
    "## Notre problème de base"
   ]
  },
  {
   "cell_type": "markdown",
   "metadata": {},
   "source": [
    "## Solution avec Python Pulp"
   ]
  },
  {
   "cell_type": "markdown",
   "metadata": {},
   "source": [
    "# 8. Problèmes de livraison par véhicules\n",
    "\n",
    "## Variantes:\n",
    "\n",
    "Il existe de nombreuses variantes du problème de tournées de véhicules. Voici quelques exemples populaires :\n",
    "\n",
    "     CVRP (Capacitated Vehicle Routing Problem) : Les véhicules ont une capacité de charge limitée des marchandises qui doivent être livrées.\n",
    "\n",
    "     VRPTW (Vehicle Routing Problem with Time Windows) : Les lieux de livraison ont des plages horaires dans lesquelles les livraisons (ou visites) doivent être effectuées.\n",
    "\n",
    "     VRPPD (Vehicle Routing Problem with Pickup and Delivery) : Un certain nombre de marchandises doivent être déplacées de certains lieux de ramassage vers d'autres lieux de livraison. L'objectif est de trouver des itinéraires optimaux pour qu'une flotte de véhicules visite les lieux de prise en charge et de dépose.\n",
    "     \n",
    "     VRPP (Vehicle Routing Problem with Profits) : C'est un problème de maximisation où il n'est pas obligatoire pour les véhicules de visiter tous les nœuds. L'objectif est de visiter les nœuds pour maximiser la somme des bénéfices collectés dans des circonstances spécifiques tout en respectant une limite de temps de véhicule donnée. Par exemple, supposons qu'il existe deux ensembles de clients, les uns sont des clients fréquents qui sont obligatoires pour la livraison, et un autre ensemble est les clients potentiels non fréquents avec des bénéfices connus et estimés. Les deux ensembles ont des demandes et des exigences de service connues sur un horizon de planification de plusieurs jours. L’objectif est de déterminer les tournées des véhicules qui maximisent le profit net, tout en satisfaisant les contraintes de capacité des véhicules, de durée de tournée et de cohérence. Les véhicules doivent commencer et finir au même dépôt.\n",
    "\n",
    "## Liens :\n",
    "\n",
    "https://developers.google.com/optimization/routing/vrptw?hl=fr\n",
    "\n",
    "https://github.com/google/or-tools/blob/stable/examples/python/prize_collecting_vrp_sat.py\n",
    "\n",
    "https://or.stackexchange.com/questions/10711/team-orienteering-problem-with-time-windows-infeasible-using-cp-sat-solver-in-go\n",
    "\n",
    "https://github.com/google/or-tools/blob/stable/examples/python/prize_collecting_tsp_sat.py\n",
    "\n",
    "http://alvarestech.com/temp/vrptw/Vehicle%20Routing%20Problem%20with%20Time%20Windows.pdf\n",
    "\n",
    "https://www.linkedin.com/pulse/vehicle-routing-problem-pulp-real-world-scenarios-dhawal-thakkar/\n",
    "\n",
    "https://medium.com/jdsc-tech-blog/capacitated-vehicle-routing-problem-cvrp-with-python-pulp-and-google-maps-api-5a42dbb594c0\n",
    "\n",
    "https://how-to.aimms.com/Articles/332/332-Miller-Tucker-Zemlin-formulation.html\n",
    "\n"
   ]
  },
  {
   "cell_type": "code",
   "execution_count": null,
   "metadata": {},
   "outputs": [],
   "source": []
  }
 ],
 "metadata": {
  "kernelspec": {
   "display_name": "Python 3",
   "language": "python",
   "name": "python3"
  },
  "language_info": {
   "codemirror_mode": {
    "name": "ipython",
    "version": 3
   },
   "file_extension": ".py",
   "mimetype": "text/x-python",
   "name": "python",
   "nbconvert_exporter": "python",
   "pygments_lexer": "ipython3",
   "version": "3.8.0"
  },
  "orig_nbformat": 4
 },
 "nbformat": 4,
 "nbformat_minor": 2
}
