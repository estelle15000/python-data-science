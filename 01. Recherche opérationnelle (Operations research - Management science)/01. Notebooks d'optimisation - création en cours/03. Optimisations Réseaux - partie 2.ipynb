{
 "cells": [
  {
   "cell_type": "markdown",
   "metadata": {},
   "source": [
    "# Les Optimisations de type réseau - Partie 2\n",
    "\n",
    "# Introduction.\n",
    "Les optimisations de type réseaux ont cela en commun qu'elles mettent en jeu \n",
    "des noeuds (nodes) et des arrêtes valuées (arcs).\n",
    "\n",
    "Dans cette étude, je vais tenter, une fois les optimisations classiques abordées,\n",
    "d'étudier la possibilité d'y ajouter des paramêtres non linéaires dans un second temps.\n",
    "\n",
    "\n",
    "Etude globale proposée par <b> Estelle Derrien - Github estelle15000 </b>\n",
    "\n",
    "!! Création en cours - sujet à de lourdes modifications !!\n",
    "\n",
    "# Sommaire\n",
    "\n",
    "\n",
    "   - 1. <b>Optimisation de production à l'aide d'un modèle de type réseau.</b>\n",
    "         - Description\n",
    "         - Modélisation mathématique\n",
    "         - Exemples avec les solveurs\n",
    "   - 2. <b>Plus court chemin</b> (Shortest path problem)\n",
    "         - Description\n",
    "         - Modélisation mathématique\n",
    "         - Exemples avec les solveurs\n",
    "\n",
    "   - 3. <b>Problème de Flots</b> (Flows models)\n",
    "         - Description Flots maximum et Flots minimum\n",
    "         - Modélisation mathématique\n",
    "         - Exemples avec les solveurs\n",
    "\n",
    "   - 4. <b>Optimisation financière à l'aide d'un modèle de type réseau. ( Financial optimizations using networks models)</b>\n",
    "         - Description\n",
    "         - Modélisation mathématique\n",
    "         - Exemples avec les solveurs\n",
    "\n",
    "   - 5. <b>Optimisation mathématique en réseaux informatique (Computer networks optimizations)</b>\n",
    "         - Description\n",
    "         - Modélisation mathématique\n",
    "         - Exemples avec les solveurs\n",
    "   - 6. <b> Le problème du voyageur de commerce ( Traveling salesman)</b>\n",
    "         - Description\n",
    "         - Modélisation mathématique\n",
    "         - Exemples avec les solveurs\n",
    "\n",
    "   - 7. <b> Coloration de graphe. https://github.com/tpawelski/graph-coloring-lp\n",
    "         - Description\n",
    "         - Modélisation mathématique\n",
    "         - Exemples avec les solveurs\n",
    "\n",
    "   - <b> Liens </b>\n"
   ]
  },
  {
   "cell_type": "code",
   "execution_count": null,
   "metadata": {},
   "outputs": [],
   "source": []
  }
 ],
 "metadata": {
  "language_info": {
   "name": "python"
  },
  "orig_nbformat": 4
 },
 "nbformat": 4,
 "nbformat_minor": 2
}
