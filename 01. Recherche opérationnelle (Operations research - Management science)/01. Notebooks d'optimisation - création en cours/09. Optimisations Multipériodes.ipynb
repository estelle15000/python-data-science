{
 "cells": [
  {
   "cell_type": "markdown",
   "metadata": {},
   "source": [
    "# Les optimisations multipériodes.\n",
    "\n",
    "# Introduction\n",
    "\n",
    "Les optimisations multipériodes sont effectuées sur un intervalle de périodes. \n",
    "Par exemple, les 12 mois de l'années, ou les 7 jours de la semaine.\n",
    "L'optimisation la plus connue est l'optimisation de production multipériode linéaire qui permet d'équilibrer les stocks et la production.\n",
    "\n",
    "Etude globale proposée par <b>Estelle Derrien - Github Estelle15000</b>"
   ]
  },
  {
   "cell_type": "markdown",
   "metadata": {},
   "source": [
    "# Sommaire\n",
    "\n",
    "- 1. Optimisation de production multipériode.\n",
    "        - Notre problème de base donné par Taïwan university\n",
    "        - Modélisation mathématique\n",
    "        - Résolution avec Python Pulp\n",
    "                - Sans itérations\n",
    "                - Avec itérations\n",
    "- 2. Optimisation de production multipériode.\n",
    "        - Notre problème de base donné par Columbia university\n",
    "        - Modélisation mathématique\n",
    "        - Résolution avec Python Pulp\n",
    "                - Avec itérations\n",
    "                - Comparaison avec le résultat du solveur Excel\n",
    "- 2. Affectation d'employés multipériode.\n",
    "        - Notre problème de base\n",
    "        - Modélisation mathématique\n",
    "        - Résolution\n"
   ]
  },
  {
   "cell_type": "markdown",
   "metadata": {},
   "source": [
    "# 1 Optimisation de production multipériode.\n",
    "\n",
    "# Notre problème de base.\n",
    "\n",
    "HISTOIRE COMPLETE DE TAIWAN UNIVERSITY: \n",
    "Le manager dit qu'on va vendre 100 , 150, 200 et 170 les jours 1 ,2 , 3 et 4 de la prochaine semaine.\n",
    "\n",
    "Les coûts de production varient en fonction du jour de la semaine: \n",
    "9e 12e 10e ET 12e les jours 1 ,2 , 3 et 4 de la prochaine semaine.\n",
    "\n",
    "Le coût de stockage est de 1 euro par objet stocké donc, si on le garde 4 jours, ça fait 4 euros de coût. \n",
    "\n",
    "QUEL EST LE MEILLEUR PLAN DE PRODUCTION POUR MINIMISER LES COUTS ET NE PAS AVOIR TROP DE STOCKS ?"
   ]
  },
  {
   "cell_type": "markdown",
   "metadata": {},
   "source": [
    "# Modélisation mathématique\n",
    "\n",
    "<img src=\"img/01. Formulation du L.P.png\"></img>"
   ]
  },
  {
   "cell_type": "markdown",
   "metadata": {},
   "source": [
    "# Solution avec Pulp, sans itérations."
   ]
  },
  {
   "cell_type": "code",
   "execution_count": null,
   "metadata": {},
   "outputs": [],
   "source": [
    "# Importer PULP\n",
    "from pulp import *\n",
    "\n",
    "# 1. On veut minimiser Les coûts de production + de stockage.\n",
    "problem = LpProblem(\"Problem\",LpMinimize)\n",
    "\n",
    "\n",
    "# Les Variables de décision\n",
    "# production d'objets par jour 1 , 2 , 3 et 4\n",
    "P1 = pulp.LpVariable('Prodution1', lowBound=0, cat='Integer')\n",
    "P2 = pulp.LpVariable('Prodution2', lowBound=0, cat='Integer')\n",
    "P3 = pulp.LpVariable('Prodution3', lowBound=0, cat='Integer')\n",
    "P4 = pulp.LpVariable('Prodution4', lowBound=0, cat='Integer')\n",
    "\n",
    "\n",
    "# Stocks par jour 1 , 2 , 3 et 4\n",
    "S1 = pulp.LpVariable('Stock1', lowBound=0, cat='Integer')\n",
    "S2 = pulp.LpVariable('Stock2', lowBound=0, cat='Integer')\n",
    "S3 = pulp.LpVariable('Stock3', lowBound=0, cat='Integer')\n",
    "S4 = pulp.LpVariable('Stock4', lowBound=0, cat='Integer')\n",
    "\n",
    "#Objective function : On veut minimiser Le cout de prod + Le cout de stockage\n",
    "problem += (9*P1 + 12*P2 + 10*P3 + 12*P4) + (S1 + S2 + S3 + S4) \n",
    "\n",
    "# Les contraintes de balance d'inventaire - Inventory balancing constraints\n",
    "problem += P1 - 100 == S1\n",
    "problem += S1 + P2 - 150 == S2\n",
    "problem += S2 + P3 - 200 == S3\n",
    "problem += S3 + P4 - 170 == S4\n",
    "\n",
    "problem += P1 >= 0\n",
    "problem += P2 >= 0 \n",
    "problem += P3 >= 0 \n",
    "problem += P4 >= 0 \n"
   ]
  },
  {
   "cell_type": "code",
   "execution_count": null,
   "metadata": {},
   "outputs": [],
   "source": [
    "#Confirmation of problem definition\n",
    "#print(problem)\n",
    "\n",
    "# On résouds \n",
    "result = problem.solve()\n",
    "\n",
    "#On imprime les résultats\n",
    "print(\"---Premier jour---\")\n",
    "print(\"Production:\" ,pulp.value(P1))\n",
    "print(\"Stock:\" ,pulp.value(S1))\n",
    "\n",
    "\n",
    "print(\"---2nd jour---\")\n",
    "print(\"Production:\" ,pulp.value(P2))\n",
    "print(\"Stock:\" ,pulp.value(S2))\n",
    "\n",
    "print(\"---3rd jour---\")\n",
    "print(\"Production3:\" ,pulp.value(P3))\n",
    "print(\"Stock:\" ,pulp.value(S3))\n",
    "\n",
    "print(\"---4eme jour---\")\n",
    "print(\"Production:\" ,pulp.value(P4))\n",
    "print(\"Stock:\" ,pulp.value(S4))\n",
    "\n",
    "print(\"Cout global:\" ,pulp.value(problem.objective))\n",
    "\n",
    "# Autre méthode d'impression des solutions\n",
    "for v in problem.variables():\n",
    "    print(v.name, \"=\", v.varValue)\n",
    "    \n",
    "# The optimised objective function value is printed to the screen\n",
    "print(\"Value of Objective Function = \", value(problem.objective))"
   ]
  },
  {
   "cell_type": "markdown",
   "metadata": {},
   "source": [
    "# Solution avec Pulp, avec itérations.\n",
    "\n"
   ]
  }
 ],
 "metadata": {
  "kernelspec": {
   "display_name": "Python 3",
   "language": "python",
   "name": "python3"
  },
  "language_info": {
   "name": "python",
   "version": "3.8.0"
  },
  "orig_nbformat": 4
 },
 "nbformat": 4,
 "nbformat_minor": 2
}
