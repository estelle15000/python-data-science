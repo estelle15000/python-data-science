{
 "cells": [
  {
   "cell_type": "markdown",
   "metadata": {},
   "source": [
    "# Les optimisations de portefeuilles\n",
    "\n",
    "# Introduction\n",
    "\n",
    "Dans ce notebook, je vais d'une part traiter les optimisations de portefeuille linéaire, ca peut être par exemple découper un investissement de façon judicieuse; et dans un second temps la fameuse optimisation de portefeuille non linéaire aux moindres carrés de j.Markovitz.\n",
    "\n",
    "Je résouds avec les solveurs Python.\n",
    "Etude globale proposée par <b>Estelle Derrien - Github Estelle15000</b>\n",
    "\n",
    "# Sommaire\n",
    "\n",
    "- 1. L'optimisation de portefeuille linéaire (Modèle de choix binaire)\n",
    "        - Notre problème de base\n",
    "        - Modélisation mathématique\n",
    "        - Résolution avec Python Pulp\n",
    "- 2. Optimisation de portefeuille linéaire (Modèle de mélange).\n",
    "        - Notre problème de base\n",
    "        - Modélisation mathématique\n",
    "        - Résolution avec Python Pulp\n",
    "- 3. L'optimisation de portefeuille Markovitz\n",
    "        - Notre problème de base\n",
    "        - Modélisation mathématique\n",
    "        - Résolution\n",
    "\n",
    "\n",
    "\n",
    "## Sources \n",
    "\n",
    "Les livres suivants : \n",
    " \n",
    "- Practical management science de Wayne Winston\n",
    "- Operations research de Hillier\n",
    "- Operations Management de R Russel\n",
    "- Optimizations modeling with spreadsheets de R. Baker\n",
    "- Recherche opérationnelle - Méthodes d'optimisation en Gestion"
   ]
  },
  {
   "cell_type": "markdown",
   "metadata": {},
   "source": [
    "# 1. Optimisation de portefeuille linéaire (Modèle de choix binaire).\n",
    "\n",
    "# Notre problème de base.\n",
    "\n",
    "J'ai un capital de 50.\n",
    "On a 7 investissements possibles, \n",
    "qui coûtent respectivement 12, 10, 15, 7, 14, 18, 16.\n",
    "qui rapportent 42,47,21,36,18,33 et 45.\n",
    "\n",
    "Contraintes :\n",
    "- seul l'investissement Un ou l'investissement Deux peut être réalisé. \n",
    "- seul l'investissement Trois ou l'investissement Quatre peut être réalisé. \n",
    "- l'investissement Six et l'investissement Sept ne peuvent être réalisés que si l'investissement Cinq est réalisé.\n",
    "\n",
    "Quels investissement choisir pour maximiser le profit ?\n",
    "\n",
    "Lien vers la version Excel : \n",
    "https://www.excel-easy.com/examples/capital-investment.html"
   ]
  },
  {
   "cell_type": "code",
   "execution_count": 9,
   "metadata": {},
   "outputs": [
    {
     "name": "stdout",
     "output_type": "stream",
     "text": [
      "Statut: Optimal\n",
      "Profit maximisé =  146.0\n",
      "Choix d'investissement :  I2 = 1.0\n",
      "Choix d'investissement :  I4 = 1.0\n",
      "Choix d'investissement :  I5 = 1.0\n",
      "Choix d'investissement :  I7 = 1.0\n"
     ]
    }
   ],
   "source": [
    "from pulp import *\n",
    " \n",
    "# Les variables de décision sont le choix d'investissement\n",
    "I1 = LpVariable('I1', lowBound=0, cat='Binary')\n",
    "I2 = LpVariable('I2', lowBound=0, cat='Binary')\n",
    "I3 = LpVariable('I3', lowBound=0, cat='Binary')\n",
    "I4 = LpVariable('I4', lowBound=0, cat='Binary')\n",
    "I5 = LpVariable('I5', lowBound=0, cat='Binary')\n",
    "I6 = LpVariable('I6', lowBound=0, cat='Binary')\n",
    "I7 = LpVariable('I7', lowBound=0, cat='Binary')\n",
    " \n",
    "# C'est un problème de minimisation\n",
    "Problem = LpProblem('optimisation_transport',LpMaximize)\n",
    " \n",
    "# La fonction objectif est de maximiser le profit.\n",
    "Problem += 42*I1 + 47*I2 + 21*I3 + 36*I4 + 18*I5 + 33*I6 + 45*I7\n",
    " \n",
    "# Les contraintes\n",
    "# Constrainte de budget maximum.\n",
    "Problem += 12*I1 + 10*I2 + 15*I3 + 7*I4 + 14*I5 + 18*I6 + 16*I7 <= 50\n",
    "\n",
    "# \"Seul l'investissement 1 ou 2 peut être choisi\"\n",
    "# Si la somme de I1 et I2 est égale à 1, alors seul l'une d'entre elles peut être choisies\n",
    "# parce que ce sont des variables binaires.\n",
    "Problem += I1 + I2 == 1\n",
    "\n",
    "# \"Seul l'investissement 3 ou 4 peut être choisi\"\n",
    "Problem += I3 + I4 == 1\n",
    "\n",
    "# l'investissement Six et l'investissement Sept \n",
    "# ne peuvent être réalisés que si l'investissement Cinq est réalisé. \n",
    "\n",
    "\n",
    "# On résouds\n",
    "Problem.solve()\n",
    " \n",
    "# On imprime le résultat\n",
    "print('Statut:', LpStatus[Problem.status])\n",
    "print('Profit maximisé = ', value(Problem.objective))\n",
    " \n",
    "for i in Problem.variables():\n",
    "    if i.varValue > 0:\n",
    "        print('Choix d\\'investissement : ',i.name, '=', i.varValue)\n",
    "  "
   ]
  }
 ],
 "metadata": {
  "kernelspec": {
   "display_name": "Python 3",
   "language": "python",
   "name": "python3"
  },
  "language_info": {
   "codemirror_mode": {
    "name": "ipython",
    "version": 3
   },
   "file_extension": ".py",
   "mimetype": "text/x-python",
   "name": "python",
   "nbconvert_exporter": "python",
   "pygments_lexer": "ipython3",
   "version": "3.8.0"
  },
  "orig_nbformat": 4
 },
 "nbformat": 4,
 "nbformat_minor": 2
}
