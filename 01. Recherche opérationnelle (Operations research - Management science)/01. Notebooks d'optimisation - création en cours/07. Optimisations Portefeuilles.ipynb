{
 "cells": [
  {
   "cell_type": "markdown",
   "metadata": {},
   "source": [
    "# Les optimisations de portefeuilles\n",
    "\n",
    "# Introduction\n",
    "\n",
    "Dans ce notebook, je vais d'une part traiter les optimisations de portefeuille linéaire, ca peut être par exemple découper un investissement de façon judicieuse; et dans un second temps la fameuse optimisation de portefeuille non linéaire aux moindres carrés de j.Markovitz.\n",
    "\n",
    "Je résouds avec les solveurs Python.\n",
    "Etude globale proposée par <b>Estelle Derrien - Github Estelle15000</b>\n",
    "\n",
    "# Sommaire\n",
    "\n",
    "- 1. L'optimisation de portefeuille linéaire\n",
    "        - Notre problème de base\n",
    "        - Modélisation mathématique\n",
    "        - Résolution avec Python Pulp\n",
    "- 2. L'optimisation de portefeuille Markovitz\n",
    "        - Notre problème de base\n",
    "        - Modélisation mathématique\n",
    "        - Résolution\n",
    "\n",
    "\n",
    "\n",
    "## Sources \n",
    "\n",
    "Les livres suivants : \n",
    " \n",
    "- Practical management science de Wayne Winston\n",
    "- Operations research de Hillier\n",
    "- Operations Management de R Russel\n",
    "- Optimizations modeling with spreadsheets de R. Baker\n",
    "- Recherche opérationnelle - Méthodes d'optimisation en Gestion"
   ]
  }
 ],
 "metadata": {
  "language_info": {
   "name": "python"
  },
  "orig_nbformat": 4
 },
 "nbformat": 4,
 "nbformat_minor": 2
}
