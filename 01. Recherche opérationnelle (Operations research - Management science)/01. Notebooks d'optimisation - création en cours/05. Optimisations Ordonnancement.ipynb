{
 "cells": [
  {
   "cell_type": "markdown",
   "metadata": {},
   "source": [
    "# Les optimisation en ordonnancement.\n",
    "\n",
    "# Introduction.\n",
    "\n",
    "Dans ce notebook, je vais principalement traiter des problèmes d'ordonnancement en usine et en atelier.\n",
    "\n",
    "Les principaux modèles sont ( En Anglais ) :\n",
    "\n",
    "- <b>Machine unique</b> ( Single machine sheduling/bottleneck )\n",
    "- <b>Machines parallèles</b> \n",
    "- <b>Ateliers à cheminement unique</b> (Flow Shop)\n",
    "- <b>Ateliers à cheminements multiples</b> (Job Shop)\n",
    "\n",
    "Je vais résoudre avec divers solveurs Python.\n",
    "\n",
    "La planification optimale des tâches (Jobs en Anglais) est une classe de problèmes d'optimisation liés à la planification. Les entrées de ces problèmes sont une liste de tâches (également appelées processus ou tâches) et une liste de machines (également appelées processeurs ou travailleurs). La sortie requise est un calendrier - une affectation de tâches aux machines. Le calendrier doit optimiser une certaine fonction objectif.\n",
    "Les machines peuvent avoir un temps de préparation (set up time) entre chaque traitement de tâche.\n",
    "\n",
    "On peut transposer les modèles mathématiques à d'autres cas d'utilisation, on peut trouver les optimisations de type \"gestion de projet\" dans mon fichier 7, c'est également de l'ordonnancement.\n",
    "\n",
    "Etude globale proposée par <b>Estelle Derrien - Github estellederrien</b>\n",
    "\n",
    "<div class=\"color:red\">*** CREATION EN COURS /  SUJET A MODIFICATIONS ***</div>\n"
   ]
  },
  {
   "cell_type": "markdown",
   "metadata": {},
   "source": [
    "# Sommaire\n",
    "\n",
    "- Intro. <b> Récapitulatif graphique des problèmes</b>\n",
    "- 1. <b>Machine unique</b>\n",
    "        - Les Techniques d'ordonnancement\n",
    "        - A. Notre problème de base\n",
    "             - Description\n",
    "             - Solution avec IterTools\n",
    "             - Solution et exemples avec Python Pyomo\n",
    "        - B. Minimiser les retards totaux avec l'algorithme Moore and Hogson. (Minimize tardiness sum)\n",
    "             - Description\n",
    "             - Modélisation mathématique\n",
    "             - Solution avec les solveurs\n",
    "        - C. Prendre en compte les priorités/Poids/Profit.\n",
    "             - Description\n",
    "             - Modélisation mathématique\n",
    "             - Solution avec les solveurs\n",
    "- 2. <b>Machines parrallèles</b>\n",
    "        - Notre problème de base\n",
    "        - Modélisation mathématique\n",
    "        - Résolution\n",
    "- 3. <b>Ateliers à cheminement unique (Flow Shop)</b>\n",
    "        - Notre problème de base\n",
    "        - Modélisation mathématique\n",
    "        - Résolution avec Python Pulp\n",
    "- 4. <b>Ateliers à cheminements multiples (Job Shop)</b>\n",
    "        - Notre problème de base\n",
    "        - Modélisation mathématique\n",
    "        - Exemple\n"
   ]
  },
  {
   "cell_type": "markdown",
   "metadata": {},
   "source": [
    "# Intro. Récapitulatif graphique des problèmes .\n",
    "\n",
    "- Le problème de machine unique:\n",
    "\n",
    "<div style=\"text-align:center\">\n",
    "<img src=\"img/ordonnancement/Machine_unique_Ordonnant.JPEG\">\n",
    "</div>\n",
    "\n",
    "- Le problème de machines parallèles:\n",
    "\n",
    "<div style=\"text-align:center\">\n",
    "<img src=\"img/ordonnancement/Machine_Parallèles_Ordonnancement.JPEG\">\n",
    "</div>\n",
    "\n",
    "- L'atelier à cheminement unique ( Flow shop):\n",
    "\n",
    "<div style=\"text-align:center\">\n",
    "<img src=\"img/ordonnancement/Flow_Shop_Ordonnancement.JPEG\">\n",
    "</div>\n",
    "\n",
    "- Ateliers à cheminements multiples (Job Shop):\n",
    "\n",
    "<div style=\"text-align:center\">\n",
    "<img src=\"img/ordonnancement/Job_Shop_Ordonnancement.JPEG\">\n",
    "</div>\n",
    "\n",
    "\n",
    "\n",
    "\n",
    "\n"
   ]
  },
  {
   "cell_type": "markdown",
   "metadata": {},
   "source": [
    "# 1. Ordonnancement de Machine unique "
   ]
  },
  {
   "cell_type": "markdown",
   "metadata": {},
   "source": [
    "<b> Techniques d'ordonnancement basiques de machine unique.</b>\n",
    "\n",
    "<b>Avant d'aborder les techniques d'optimisation linéaires</b>, il existe déjà des techniques de base s'appliquant aux travaux/jobs, qu'on peut appliquer :\n",
    "\n",
    "- FCFS : Premier arrivé , premier servi\n",
    "\n",
    "- SPT : On traite d'abord les travaux qui ont le temps de processus le plus court(Shortest Processing time)\n",
    "\n",
    "- EDD : On traite d'abord les travaux qui ont la date due la plus courte (Earliest due date).\n",
    "\n",
    "Regarder cette très bonne vidéo pour comprendre et adopter le vocabulaire approprié : \n",
    "https://www.youtube.com/watch?v=KnlBtvyU8sM\n",
    "\n",
    "\n",
    "Le vocabulaire en Anglais : \n",
    "\n",
    "<quote>\n",
    "    First-In First-Out (FIFO)\n",
    "    Last-In, First-Out (LIFO)\n",
    "    Shortest Processing Time First (SPT)\n",
    "    Earliest Due Data (EDD)\n",
    "</quote>\n",
    "\n",
    "<b>Maintenant, Les calculs à faire en optimisation :</b>\n",
    "\n",
    "Là, c'est différent, on utilise des algorithmes plus complexes et parfois les solveurs.\n",
    "On cherche à minimiser les retards dans la livraison des travaux (tardiness) ou le temps de complétion, on peut aussi prendre en compte la priorité des travaux/jobs ou même le profit engendré par tel ou tel job pour minimiser le temps de complétion.\n",
    "\n",
    "\n"
   ]
  },
  {
   "cell_type": "markdown",
   "metadata": {},
   "source": [
    "\n",
    "\n",
    "## A. Notre problème de base.\n",
    "\n",
    "- J'ai 1 machine, 3 travaux à réaliser dessus. \n",
    "- Les travaux ont une durée respective de 2,5 et 6 heures \n",
    "- Les travaux doivent être délivrés à 15H, 9H et 11 heures respectivement.\n",
    "Comment ne pas avoir de retard ?\n",
    "\n",
    "<div style=\"text-align:center\">\n",
    "<img src=\"img/single-machine-scheduling.png\">\n",
    "</div>\n",
    "\n",
    "La machine:\n",
    "\n",
    "    - Ne peut pas effectuer plus d'une tâche à la fois. (Pas de multi-tâches)\n",
    "    - Pourrait avoir un temps de configuration avant de commencer à effectuer une tâche.\n",
    "    - Traite un travail après l'autre immédiatement.\n",
    "\n",
    "Les tâches:\n",
    "\n",
    "    - Ont un temps de traitement spécifique.\n",
    "    - Facultatif : Avoir une priorité spécifique (poids,coût,profit...).\n",
    "\n",
    "\n",
    "Voici ce que l'on obtient en essayant à la main :\n",
    "\n",
    "<div style=\"text-align:center\">\n",
    "<img src=\"img/single_machine_scheduling.jpg\">\n",
    "</div>\n"
   ]
  },
  {
   "cell_type": "markdown",
   "metadata": {},
   "source": [
    "# Solution avec IterTools\n",
    "\n",
    "Pour ce problème, on utilise la fonction de permutations de itertools. ( crédit : Tim Roberts - StackOverflow).\n",
    "\"On a pas besoin d'un solveur car il n'y a pas de paramètre à minimiser.\"\n",
    "\n",
    "En effet, on voit que les tâches sont désormais bien dans l'ordre qu'on a déduit manuellement à la phase précédente !\n",
    "\n"
   ]
  },
  {
   "cell_type": "code",
   "execution_count": 45,
   "metadata": {},
   "outputs": [
    {
     "name": "stdout",
     "output_type": "stream",
     "text": [
      "Ordre à appliquer [('tache2', 5, 9), ('tache3', 6, 11), ('tache1', 2, 15)] succes\n"
     ]
    }
   ],
   "source": [
    "\n",
    "import itertools\n",
    "\n",
    "# On renseigne le nom de chaque tâche, sa durée, et son heure due.\n",
    "taches = [(\"tache1\", 2, 15), (\"tache2\", 5, 9), (\"tache3\", 6,11)]\n",
    "\n",
    "# For each permutation\n",
    "for tasklist in itertools.permutations(taches):\n",
    "    time = 1\n",
    "    start = []\n",
    "    order = []\n",
    "    for task in tasklist:\n",
    "        start.append( time )\n",
    "        order.append( task )\n",
    "        time += task[1]\n",
    "        if time-1 > task[2]:\n",
    "            # We violated a due date constraint.\n",
    "            break\n",
    "    else:\n",
    "        print(\"Ordre à appliquer\",order,\"succes\")\n"
   ]
  },
  {
   "cell_type": "markdown",
   "metadata": {},
   "source": [
    "# Solution et exemples avec Pyomo\n",
    "\n",
    "Cet excellent document permet d'aborder l'ordonnancement de machine unique, avec même les exemples FIFO, Early date due etc... Ce sont les techniques les plus simples avant l'optimisation en elle même.\n",
    "\n",
    "URL : \n",
    "https://colab.research.google.com/github/jckantor/ND-Pyomo-Cookbook/blob/master/docs/04.02-Machine-Bottleneck.ipynb#scrollTo=ziXXmrrlplII\n",
    "\n",
    "On reprends de nouveau notre problème de base :\n",
    "\n",
    "- J'ai 1 machine, 3 travaux à réaliser dessus. \n",
    "- Les travaux ont une durée respective de 2,5 et 6 heures \n",
    "- Les travaux doivent être délivrés à 15H, 9H et 11 heures respectivement.\n",
    "Comment ne pas avoir de retard ?\n",
    "\n",
    "\n",
    "On va déjà s'afficher un diagramme gantt des jobs en attente sur lequel on a pas encore appliqué de technique de type FIFO, ou Erliest date due, et bien sur non encore optimisé :\n",
    "\n",
    "Il est bien sur faux, puisque notre machine unique ne PEUT PAS exécuter  tâches en même temps!"
   ]
  },
  {
   "cell_type": "code",
   "execution_count": 46,
   "metadata": {},
   "outputs": [
    {
     "data": {
      "image/png": "[encoded data removed]",
      "text/plain": [
       "<Figure size 1200x210 with 1 Axes>"
      ]
     },
     "metadata": {},
     "output_type": "display_data"
    }
   ],
   "source": [
    "import matplotlib.pyplot as plt\n",
    "from IPython.display import display\n",
    "import pandas as pd\n",
    "\n",
    "import shutil\n",
    "import sys\n",
    "import os.path\n",
    "\n",
    "# Jobs veut dire tâche en Anglais\n",
    "# On y insère nos datas, \n",
    "# \"release\" est la date ou la tâche est disponible et arrive, \n",
    "# \"duration\", c'est la durée de la tâche\n",
    "# et \"due\", c'est la date due de la tâche\n",
    "JOBS = {\n",
    "    'TACHE1': {'release': 0, 'duration': 2, 'due': 15},\n",
    "    'TACHE2': {'release': 0, 'duration': 5, 'due': 9},\n",
    "    'TACHE3': {'release': 0, 'duration': 6, 'due': 11},\n",
    "}\n",
    "\n",
    "def gantt(JOBS, SCHEDULE={}):\n",
    "    bw = 0.3\n",
    "    plt.figure(figsize=(12, 0.7*(len(JOBS.keys()))))\n",
    "    idx = 0\n",
    "    for j in sorted(JOBS.keys()):\n",
    "        x = JOBS[j]['release']\n",
    "        y = JOBS[j]['due']\n",
    "        plt.fill_between([x,y],[idx-bw,idx-bw],[idx+bw,idx+bw], color='cyan', alpha=0.6)\n",
    "        if j in SCHEDULE.keys():\n",
    "            x = SCHEDULE[j]['start']\n",
    "            y = SCHEDULE[j]['finish']\n",
    "            plt.fill_between([x,y],[idx-bw,idx-bw],[idx+bw,idx+bw], color='red', alpha=0.5)\n",
    "            plt.plot([x,y,y,x,x], [idx-bw,idx-bw,idx+bw,idx+bw,idx-bw],color='k')\n",
    "            plt.text((SCHEDULE[j]['start'] + SCHEDULE[j]['finish'])/2.0,idx,\n",
    "                'Job ' + j, color='white', weight='bold',\n",
    "                horizontalalignment='center', verticalalignment='center')\n",
    "        idx += 1\n",
    "\n",
    "    plt.ylim(-0.5, idx-0.5)\n",
    "    plt.title('Job Schedule')\n",
    "    plt.xlabel('Time')\n",
    "    plt.ylabel('Jobs')\n",
    "    plt.yticks(range(len(JOBS)), JOBS.keys())\n",
    "    plt.grid()\n",
    "    xlim = plt.xlim()\n",
    "    \n",
    "    if SCHEDULE:\n",
    "        for j in SCHEDULE.keys():\n",
    "            if 'machine' not in SCHEDULE[j].keys():\n",
    "                SCHEDULE[j]['machine'] = 1\n",
    "        MACHINES = sorted(set([SCHEDULE[j]['machine'] for j in SCHEDULE.keys()]))\n",
    "\n",
    "        plt.figure(figsize=(12, 0.7*len(MACHINES)))\n",
    "        for j in sorted(SCHEDULE.keys()):\n",
    "            idx = MACHINES.index(SCHEDULE[j]['machine'])\n",
    "            x = SCHEDULE[j]['start']\n",
    "            y = SCHEDULE[j]['finish']\n",
    "            plt.fill_between([x,y],[idx-bw,idx-bw],[idx+bw,idx+bw], color='red', alpha=0.5)\n",
    "            plt.plot([x,y,y,x,x], [idx-bw,idx-bw,idx+bw,idx+bw,idx-bw],color='k')\n",
    "            plt.text((SCHEDULE[j]['start'] + SCHEDULE[j]['finish'])/2.0,idx,\n",
    "                'Job ' + j, color='white', weight='bold',\n",
    "                horizontalalignment='center', verticalalignment='center')\n",
    "        plt.xlim(xlim)\n",
    "        plt.ylim(-0.5, len(MACHINES)-0.5)\n",
    "        plt.title('Machine Schedule')\n",
    "        plt.yticks(range(len(MACHINES)), MACHINES)\n",
    "        plt.ylabel('Machines')\n",
    "        plt.grid()\n",
    "\n",
    "gantt(JOBS)"
   ]
  },
  {
   "cell_type": "markdown",
   "metadata": {},
   "source": [
    "## Un premier essai d'ordonnancement au hasard\n",
    "\n",
    "Un planning consiste en un dictionnaire répertoriant les heures de début et de fin de chaque tâche. Une fois l'ordre des tâches déterminé, l'heure de début ne peut pas être antérieure au moment où la tâche est libérée pour traitement, ni avant la fin de la tâche précédente.\n",
    "\n",
    "La cellule suivante présente une fonction qui, à partir des données JOBS et d'une liste d'index de tâches, calcule les heures de début et de fin de toutes les tâches sur une seule machine. \n",
    "\n",
    "\n",
    "On affiche un ordonnancement fait au hasard, on a aucune assurance que les tâche respectent les dates dues, puisqu'on fait n'importe quoi.\n"
   ]
  },
  {
   "cell_type": "code",
   "execution_count": 47,
   "metadata": {},
   "outputs": [
    {
     "data": {
      "image/png": "[encoded data removed]",
      "text/plain": [
       "<Figure size 1200x210 with 1 Axes>"
      ]
     },
     "metadata": {},
     "output_type": "display_data"
    },
    {
     "data": {
      "image/png": "[encoded data removed]",
      "text/plain": [
       "<Figure size 1200x70 with 1 Axes>"
      ]
     },
     "metadata": {},
     "output_type": "display_data"
    }
   ],
   "source": [
    "def schedule(JOBS, order=sorted(JOBS.keys())):\n",
    "    \"\"\"Schedule a dictionary of JOBS on a single machine in a specified order.\"\"\"\n",
    "    start = 0\n",
    "    finish = 0\n",
    "    SCHEDULE = {}\n",
    "    for job in order:\n",
    "        start = max(JOBS[job]['release'], finish)\n",
    "        finish = start + JOBS[job]['duration']\n",
    "        SCHEDULE[job] = {'start': start, 'finish': finish}\n",
    "    return SCHEDULE   \n",
    "\n",
    "SCHEDULE = schedule(JOBS)\n",
    "SCHEDULE\n",
    "\n",
    "# On choisit au hasard un ordonnancement dans la ligne suivante:\n",
    "gantt(JOBS, schedule(JOBS, ['TACHE2', 'TACHE3', 'TACHE1']))"
   ]
  },
  {
   "cell_type": "markdown",
   "metadata": {},
   "source": [
    "## Dans l'ordre Alphabétique\n",
    "\n",
    "Ici, on trie les tâches par ordre alphabétique ... On ne respecte  pas les dates dues."
   ]
  },
  {
   "cell_type": "code",
   "execution_count": 48,
   "metadata": {},
   "outputs": [
    {
     "data": {
      "image/png": "[encoded data removed]",
      "text/plain": [
       "<Figure size 1200x210 with 1 Axes>"
      ]
     },
     "metadata": {},
     "output_type": "display_data"
    },
    {
     "data": {
      "image/png": "[encoded data removed]",
      "text/plain": [
       "<Figure size 1200x70 with 1 Axes>"
      ]
     },
     "metadata": {},
     "output_type": "display_data"
    }
   ],
   "source": [
    "order = sorted(JOBS, reverse=True)\n",
    "gantt(JOBS, schedule(JOBS,order))\n",
    "# kpi(JOBS, schedule(JOBS,order))"
   ]
  },
  {
   "cell_type": "markdown",
   "metadata": {},
   "source": [
    "## Les indicateurs de performance.\n",
    "\n",
    "Une fonction qui donne les indicateurs de performance, \n",
    "On peut la relancer à chaque fois qu'on a exécuté une technique de type FIFO, ou une optimisation de l'ordonnancement"
   ]
  },
  {
   "cell_type": "code",
   "execution_count": 49,
   "metadata": {},
   "outputs": [
    {
     "data": {
      "text/plain": [
       "{\"Durée d'exécution\": 13,\n",
       " 'Max Pastdue': 2,\n",
       " 'Sum of Pastdue': 2,\n",
       " 'Number Pastdue': 1,\n",
       " 'Number on Time': 2,\n",
       " 'Fraction on Time': 0.6666666666666666}"
      ]
     },
     "execution_count": 49,
     "metadata": {},
     "output_type": "execute_result"
    }
   ],
   "source": [
    "def kpi(JOBS, SCHEDULE):\n",
    "    KPI = {}\n",
    "    KPI['Durée d\\'exécution'] = max(SCHEDULE[job]['finish'] for job in SCHEDULE)\n",
    "    KPI['Max Pastdue'] = max(max(0, SCHEDULE[job]['finish'] - JOBS[job]['due']) for job in SCHEDULE)\n",
    "    KPI['Sum of Pastdue'] = sum(max(0, SCHEDULE[job]['finish'] - JOBS[job]['due']) for job in SCHEDULE)\n",
    "    KPI['Number Pastdue'] = sum(SCHEDULE[job]['finish'] > JOBS[job]['due'] for job in SCHEDULE)\n",
    "    KPI['Number on Time'] = sum(SCHEDULE[job]['finish'] <= JOBS[job]['due'] for job in SCHEDULE)\n",
    "    KPI['Fraction on Time'] = KPI['Number on Time']/len(SCHEDULE)\n",
    "    return KPI\n",
    "\n",
    "kpi(JOBS, SCHEDULE)"
   ]
  },
  {
   "cell_type": "markdown",
   "metadata": {},
   "source": [
    "## Un exemple d'ordonnancement en FIFO\n",
    "\n",
    "Ici, on utilise la technique facile à comprendre : Premier arrivé , premier servi.\n",
    "\n",
    "Le 'release' est la valeur qui détermine quand une tâche arrive.\n",
    "\n",
    "Pour constater si le mode FIFO fonctionne, \n",
    "on change les valeurs de release dans notre modèle de base, qui veulent dire quand l'objet est prêt à être traité.\n",
    "\n",
    "On voit que le diagramme de Gantt reflête bien le mode FIFO."
   ]
  },
  {
   "cell_type": "code",
   "execution_count": 50,
   "metadata": {},
   "outputs": [],
   "source": [
    "# Rappel du modèle de notre problème de base\n",
    "# Pour constater si le mode FIFO fonctionne, on change les valeurs de release, qui veulent dire quand l'objet est prêt à être traité\n",
    "\n",
    "JOBS = {\n",
    "    'TACHE1': {'release': 4, 'duration': 2, 'due': 15},\n",
    "    'TACHE2': {'release': 5, 'duration': 5, 'due': 9},\n",
    "    'TACHE3': {'release': 1, 'duration': 6, 'due': 11},\n",
    "}\n"
   ]
  },
  {
   "cell_type": "code",
   "execution_count": 51,
   "metadata": {},
   "outputs": [
    {
     "data": {
      "text/plain": [
       "{\"Durée d'exécution\": 14,\n",
       " 'Max Pastdue': 5,\n",
       " 'Sum of Pastdue': 5,\n",
       " 'Number Pastdue': 1,\n",
       " 'Number on Time': 2,\n",
       " 'Fraction on Time': 0.6666666666666666}"
      ]
     },
     "execution_count": 51,
     "metadata": {},
     "output_type": "execute_result"
    },
    {
     "data": {
      "image/png": "[encoded data removed]",
      "text/plain": [
       "<Figure size 1200x210 with 1 Axes>"
      ]
     },
     "metadata": {},
     "output_type": "display_data"
    },
    {
     "data": {
      "image/png": "[encoded data removed]",
      "text/plain": [
       "<Figure size 1200x70 with 1 Axes>"
      ]
     },
     "metadata": {},
     "output_type": "display_data"
    }
   ],
   "source": [
    "def fifo(JOBS):\n",
    "    order_by_release = sorted(JOBS, key=lambda job: JOBS[job]['release'])\n",
    "    return schedule(JOBS, order_by_release)\n",
    "\n",
    "SCHEDULE = fifo(JOBS)\n",
    "gantt(JOBS, SCHEDULE)\n",
    "kpi(JOBS, SCHEDULE)"
   ]
  },
  {
   "cell_type": "markdown",
   "metadata": {},
   "source": [
    "## Un ordonnancement par date au plus court\n",
    "\n",
    "On choisit en priorité les jobs qui ont la date due la plus urgente\n",
    "\n",
    "- J'ai 1 machine, 3 travaux à réaliser dessus. \n",
    "- Les travaux ont une durée respective de 2,5 et 6 heures \n",
    "- Les travaux doivent être délivrés à 15H, 9H et 11 heures respectivement.\n",
    "Comment ne pas avoir de retard ?"
   ]
  },
  {
   "cell_type": "code",
   "execution_count": 52,
   "metadata": {},
   "outputs": [
    {
     "data": {
      "text/plain": [
       "{\"Durée d'exécution\": 14,\n",
       " 'Max Pastdue': 3,\n",
       " 'Sum of Pastdue': 3,\n",
       " 'Number Pastdue': 1,\n",
       " 'Number on Time': 2,\n",
       " 'Fraction on Time': 0.6666666666666666}"
      ]
     },
     "execution_count": 52,
     "metadata": {},
     "output_type": "execute_result"
    },
    {
     "data": {
      "image/png": "[encoded data removed]",
      "text/plain": [
       "<Figure size 1200x210 with 1 Axes>"
      ]
     },
     "metadata": {},
     "output_type": "display_data"
    },
    {
     "data": {
      "image/png": "[encoded data removed]",
      "text/plain": [
       "<Figure size 1200x70 with 1 Axes>"
      ]
     },
     "metadata": {},
     "output_type": "display_data"
    }
   ],
   "source": [
    "def edd(JOBS):\n",
    "    unfinished_jobs = set(JOBS.keys())\n",
    "    start = 0\n",
    "    while len(unfinished_jobs) > 0:\n",
    "        start = max(start, min(JOBS[job]['release'] for job in unfinished_jobs))\n",
    "        edd = {job:JOBS[job]['due'] for job in unfinished_jobs if JOBS[job]['release'] <= start}\n",
    "        job = min(edd, key=edd.get)\n",
    "        finish = start + JOBS[job]['duration']\n",
    "        unfinished_jobs.remove(job)\n",
    "        SCHEDULE[job] = {'machine': 1, 'start': start, 'finish': finish}\n",
    "        start = finish\n",
    "    return SCHEDULE          \n",
    "    \n",
    "gantt(JOBS, edd(JOBS))\n",
    "kpi(JOBS, edd(JOBS))"
   ]
  },
  {
   "cell_type": "code",
   "execution_count": 53,
   "metadata": {},
   "outputs": [
    {
     "name": "stdout",
     "output_type": "stream",
     "text": [
      "WARNING: Failed to create solver with name 'ipopt': Failed to set executable\n",
      "for solver ipopt. File with name=C:\\ipopt\\bin\\ipopt either does not exist or\n",
      "it is not executable. To skip this validation, call set_executable with\n",
      "validate=False.\n",
      "Traceback (most recent call last):\n",
      "  File \"c:\\Users\\gloup\\AppData\\Local\\Programs\\Python\\Python39\\lib\\site-packages\\pyomo\\opt\\base\\solvers.py\", line 151, in __call__\n",
      "    opt = self._cls[_name](**kwds)\n",
      "  File \"c:\\Users\\gloup\\AppData\\Local\\Programs\\Python\\Python39\\lib\\site-packages\\pyomo\\solvers\\plugins\\solvers\\IPOPT.py\", line 40, in __init__\n",
      "    super(IPOPT, self).__init__(**kwds)\n",
      "  File \"c:\\Users\\gloup\\AppData\\Local\\Programs\\Python\\Python39\\lib\\site-packages\\pyomo\\opt\\solver\\shellcmd.py\", line 67, in __init__\n",
      "    self.set_executable(name=executable, validate=validate)\n",
      "  File \"c:\\Users\\gloup\\AppData\\Local\\Programs\\Python\\Python39\\lib\\site-packages\\pyomo\\opt\\solver\\shellcmd.py\", line 116, in set_executable\n",
      "    raise ValueError(\n",
      "ValueError: Failed to set executable for solver ipopt. File with name=C:\\ipopt\\bin\\ipopt either does not exist or it is not executable. To skip this validation, call set_executable with validate=False.\n"
     ]
    },
    {
     "ename": "NameError",
     "evalue": "name 'm' is not defined",
     "output_type": "error",
     "traceback": [
      "\u001b[1;31m---------------------------------------------------------------------------\u001b[0m",
      "\u001b[1;31mNameError\u001b[0m                                 Traceback (most recent call last)",
      "Cell \u001b[1;32mIn[53], line 55\u001b[0m\n\u001b[0;32m     52\u001b[0m                 m\u001b[38;5;241m.\u001b[39mcons\u001b[38;5;241m.\u001b[39madd(m\u001b[38;5;241m.\u001b[39mstart[k] \u001b[38;5;241m+\u001b[39m JOBS[k][\u001b[38;5;124m'\u001b[39m\u001b[38;5;124mduration\u001b[39m\u001b[38;5;124m'\u001b[39m] \u001b[38;5;241m<\u001b[39m\u001b[38;5;241m=\u001b[39m m\u001b[38;5;241m.\u001b[39mstart[j] \u001b[38;5;241m+\u001b[39m BigM\u001b[38;5;241m*\u001b[39m(m\u001b[38;5;241m.\u001b[39my[j,k]))\n\u001b[0;32m     54\u001b[0m \u001b[38;5;66;03m#SolverFactory('glpk').solve(m)\u001b[39;00m\n\u001b[1;32m---> 55\u001b[0m results \u001b[38;5;241m=\u001b[39m pyo\u001b[38;5;241m.\u001b[39mSolverFactory(solvername,executable\u001b[38;5;241m=\u001b[39msolverpath_exe)\u001b[38;5;241m.\u001b[39msolve(\u001b[43mm\u001b[49m)\n\u001b[0;32m     57\u001b[0m \u001b[38;5;66;03m# On affiche les résultats.\u001b[39;00m\n\u001b[0;32m     58\u001b[0m \u001b[38;5;66;03m# print(\"item=\", pyo.value(model.item))\u001b[39;00m\n\u001b[0;32m     59\u001b[0m \u001b[38;5;66;03m# print(\"objective=\", pyo.value(model.OBJ))\u001b[39;00m\n\u001b[0;32m     60\u001b[0m \u001b[38;5;28mprint\u001b[39m(results)\n",
      "\u001b[1;31mNameError\u001b[0m: name 'm' is not defined"
     ]
    }
   ],
   "source": [
    "\n",
    "\n",
    "from pyomo.environ import *\n",
    "from IPython.display import display\n",
    "import pandas as pd\n",
    "from pyomo.opt import SolverFactory\n",
    "import sys\n",
    "import pyomo.environ as pyo\n",
    "\n",
    "\n",
    "# On configure le chemin du solveur non linéaire sous windows.\n",
    "solvername='ipopt'\n",
    "solverpath_folder='C:\\\\ipopt' #does not need to be directly on c drive\n",
    "solverpath_exe='C:\\\\ipopt\\\\bin\\\\ipopt' #does not need to be directly on c drive\n",
    "sys.path.append(solverpath_folder)\n",
    "\n",
    "def schedule(JOBS):\n",
    "    \n",
    "    # create model\n",
    "    m = ConcreteModel()\n",
    "    \n",
    "    # index set to simplify notation\n",
    "    J = list(JOBS.keys())\n",
    "\n",
    "    # decision variables\n",
    "    m.start      = Var(J, domain=NonNegativeReals)\n",
    "    m.makespan   = Var(domain=NonNegativeReals)\n",
    "    m.pastdue    = Var(J, domain=NonNegativeReals)\n",
    "    m.early      = Var(J, domain=NonNegativeReals)\n",
    "    \n",
    "    # additional decision variables for use in the objecive\n",
    "    m.ispastdue  = Var(J, domain=Binary)\n",
    "    m.maxpastdue = Var(domain=NonNegativeReals)\n",
    "\n",
    "    # for modeling disjunctive constraints\n",
    "    m.y = Var(J, J, domain=Binary)\n",
    "    BigM = 1000  #  max([JOBS[j]['release'] for j in J]) + sum([JOBS[j]['duration'] for j in J])\n",
    "\n",
    "    m.OBJ = Objective(\n",
    "        expr = sum([m.pastdue[j] for j in J]),\n",
    "        sense = minimize\n",
    "    )\n",
    "\n",
    "    m.cons = ConstraintList()\n",
    "    for j in J:\n",
    "        m.cons.add(m.start[j] >= JOBS[j]['release'])\n",
    "        m.cons.add(m.start[j] + JOBS[j]['duration'] + m.early[j] == JOBS[j]['due'] + m.pastdue[j])\n",
    "        m.cons.add(m.pastdue[j] <= m.maxpastdue)\n",
    "        m.cons.add(m.start[j] + JOBS[j]['duration'] <= m.makespan)\n",
    "        m.cons.add(m.pastdue[j] <= BigM*m.ispastdue[j])\n",
    "        for k in J:\n",
    "            if j < k:\n",
    "                m.cons.add(m.start[j] + JOBS[j]['duration'] <= m.start[k] + BigM*(1-m.y[j,k]))\n",
    "                m.cons.add(m.start[k] + JOBS[k]['duration'] <= m.start[j] + BigM*(m.y[j,k]))\n",
    "    \n",
    "#SolverFactory('glpk').solve(m)\n",
    "results = pyo.SolverFactory(solvername,executable=solverpath_exe).solve(m)\n",
    "\n",
    "# On affiche les résultats.\n",
    "# print(\"item=\", pyo.value(model.item))\n",
    "# print(\"objective=\", pyo.value(model.OBJ))\n",
    "print(results)\n",
    "\n",
    "for j in J:\n",
    "    JOBS[j]['start'] = m.start[j]()\n",
    "    JOBS[j]['finish'] = m.start[j]() + JOBS[j]['duration']\n",
    "    JOBS[j]['pastdue'] = m.pastdue[j]()\n",
    "    JOBS[j]['early'] = m.early[j]()\n",
    "    JOBS[j]['ispastdue'] = m.ispastdue[j]()\n",
    "        \n",
    "    # display table of results\n",
    "    df = pd.DataFrame(JOBS)\n",
    "    df['Total'] = df.sum(axis=1)\n",
    "    df.loc[['due','finish','release','start'],'Total'] = ''\n",
    "    display(df)\n",
    "        \n",
    "    return JOBS\n",
    "\n",
    "JOBS = schedule(JOBS)"
   ]
  },
  {
   "cell_type": "markdown",
   "metadata": {},
   "source": []
  },
  {
   "cell_type": "markdown",
   "metadata": {},
   "source": [
    "# B. Minimiser les retards totaux avec l'algorithme Moore and Hogson.\n",
    "\n",
    "# Description :\n",
    "\n",
    "L'algorithme de Moore-Hodgson est une approche de la planification du travail qui vise à minimiser le nombre de tâches en retard, plutôt que le retard d'une tâche particulière.\n",
    "\n",
    "Soit un ensemble de jobs S, leur durées Sd et leurs dates dues Sd , Cet algo planifie de façon à délivrer une solution sans aucun job en retard, même si pour cela il doit <b>éliminer</b> certains jobs.\n",
    "\n",
    "Source:\n",
    "https://page.mi.fu-berlin.de/rote/Papers/pdf/A+parallel+scheduling+algorithm+for+minimizing+the+number+of+unscheduled+jobs.pdf\n",
    "\n",
    "Le code est encore à trouver/réaliser."
   ]
  },
  {
   "cell_type": "markdown",
   "metadata": {},
   "source": [
    "# C. Prendre en compte les Poids/Profit.\n",
    "\n",
    "## Description.\n",
    "Cette fois ci, on accorde à chaque job un poids ou un profit spécifique, et cela rentre en compte dans l'optimisation."
   ]
  },
  {
   "cell_type": "markdown",
   "metadata": {},
   "source": [
    "# Modélisation mathématique\n",
    "\n",
    "Réalisation en cours, pas encore bon !\n",
    "\n",
    "- Soit R une machine\n",
    "- Soit T un ensemble de tâches (T1,T2,T3...Tn)\n",
    "- Soit Dt la durée d'une tâche\n",
    "- Soit Et l'heure due d'une tâche\n",
    "- Soit CMt l'heure de commencement d'une tâche\n",
    "\n",
    "Les variables de décisions sont: \n",
    "Xit début de la tâche t ∈ T sur la machine R\n",
    "\n",
    "Il faut minimiser la somme des retards des tâches.\n",
    "\n",
    "Hypothèse : \n",
    "- Soit l'ensemble K des possibilités de début de tâche qui sont des variables de décision\n",
    "\n",
    "Programme linéaire (encours, faux!):\n",
    "\n",
    "- Min Σ T * Dt\n",
    "- Sous les contraintes\n",
    "- Σ Ct >= Et"
   ]
  },
  {
   "cell_type": "markdown",
   "metadata": {},
   "source": [
    "# Résolution avec Pulp\n",
    "\n",
    "Le code n'aura pas de boucles For pour mieux comprendre.\n",
    "\n",
    "Code faux - résolution en cours !!"
   ]
  },
  {
   "cell_type": "code",
   "execution_count": null,
   "metadata": {},
   "outputs": [
    {
     "name": "stdout",
     "output_type": "stream",
     "text": [
      "task1_1 = 0.0\n",
      "task1_2 = 0.0\n",
      "task1_3 = 0.0\n",
      "task1_4 = 1.0\n",
      "task2_1 = 0.0\n",
      "task2_2 = 0.0\n",
      "task2_3 = 0.0\n",
      "task2_4 = 1.0\n",
      "Minimized  =  4.0\n"
     ]
    }
   ],
   "source": [
    "import pulp as p\n",
    "\n",
    "# Tasks\n",
    "tasks = [\"task1\",\"task2\"]\n",
    "duration = {1,3}\n",
    "due = {1,4}\n",
    "starts = {1,2,3,4}\n",
    "\n",
    "# Create problem\n",
    "prob = p.LpProblem('single_machine_scheduling', p.LpMinimize)  \n",
    "\n",
    "# Each possible \"time slots\" to select for tasks\n",
    "task1_1 = p.LpVariable(\"task1_1\", 0, None, p.LpBinary) \n",
    "task1_2 = p.LpVariable(\"task1_2\", 0, None, p.LpBinary) \n",
    "task1_3 = p.LpVariable(\"task1_3\", 0, None, p.LpBinary) \n",
    "task1_4 = p.LpVariable(\"task1_4\", 0, None, p.LpBinary) \n",
    "task2_1 = p.LpVariable(\"task2_1\", 0, None, p.LpBinary) \n",
    "task2_2 = p.LpVariable(\"task2_2\", 0, None, p.LpBinary) \n",
    "task2_3 = p.LpVariable(\"task2_3\", 0, None, p.LpBinary)  \n",
    "task2_4 = p.LpVariable(\"task2_4\", 0, None, p.LpBinary) \n",
    "\n",
    "# Theses constraints should be used for due dates constraints eventually...\n",
    "start_1 = p.LpVariable(\"start_1\", 0, None, p.LpContinuous) \n",
    "start_2 = p.LpVariable(\"start_2\", 0, None, p.LpContinuous) \n",
    "start_3 = p.LpVariable(\"start_3\", 0, None, p.LpContinuous) \n",
    "start_4 = p.LpVariable(\"start_4\", 0, None, p.LpContinuous) \n",
    "\n",
    "\n",
    "# Objective : Minimize timespan\n",
    "prob += 1 * task1_1 + 1 * task1_2 + 1 * task1_3 + 1 * task1_4 + 3 * task2_1 + 3 * task2_2 + 3 * task2_3 + 3 * task2_4\n",
    "\n",
    "# Constraints\n",
    "\n",
    "# Only one task1 and one task2 can be selected\n",
    "prob +=  task1_1 + task1_2 + task1_3 + task1_4 == 1\n",
    "prob +=  task2_1 + task2_2 + task2_3 + task2_4 == 1\n",
    "\n",
    "# Due dates constraints ( How to ?)\n",
    "\n",
    "# Solve\n",
    "prob.solve()\n",
    "\n",
    "# Print variables\n",
    "for v in prob.variables():\n",
    "    print(v.name, \"=\", v.varValue)\n",
    "# Print objective\n",
    "print(\"Minimized  = \", p.value(prob.objective))\n",
    "\n",
    "\n"
   ]
  },
  {
   "cell_type": "markdown",
   "metadata": {},
   "source": [
    "# Code fonctionnel avec poids\n",
    "\n",
    "On teste le code de KeivanTafakkori."
   ]
  },
  {
   "cell_type": "code",
   "execution_count": null,
   "metadata": {},
   "outputs": [
    {
     "name": "stdout",
     "output_type": "stream",
     "text": [
      "range(0, 4)\n",
      "Model --- \n",
      "\n",
      "Status --- \n",
      " Optimal\n",
      "Objective --- \n",
      " 0.0\n",
      "Decision --- \n",
      " [('x03', 1.0), ('x13', 1.0), ('x23', 1.0), ('x33', 1.0)]\n",
      "Model --- \n",
      "\n",
      "Status --- \n",
      " Optimal\n",
      "Objective --- \n",
      " 0.0\n",
      "Decision --- \n",
      " [('x01', 1.0), ('x12', 1.0), ('x23', 1.0), ('x30', 1.0)]\n",
      "Model --- \n",
      "\n",
      "Status --- \n",
      " Optimal\n",
      "Objective --- \n",
      " 7.1499999999999995\n",
      "Decision --- \n",
      " [('c1', 3.0), ('c2', 7.0), ('c3', 14.0), ('x03', 1.0), ('x11', 1.0), ('x20', 1.0), ('x32', 1.0)]\n",
      "Model --- \n",
      "\n",
      "Status --- \n",
      " Optimal\n",
      "Objective --- \n",
      " 18.25\n",
      "Decision --- \n",
      " [('c0', 8.0), ('c1', 12.0), ('c2', 19.0), ('c3', 28.0), ('x02', 1.0), ('x10', 1.0), ('x23', 1.0), ('x31', 1.0)]\n"
     ]
    }
   ],
   "source": [
    "import pulp as op\n",
    "import itertools as it\n",
    "\n",
    "#Developer: @KeivanTafakkori, 8 March 2022\n",
    "\n",
    "def model(I,J,p,s,dispmodel=\"y\",solve=\"y\", dispresult=\"y\"):\n",
    "    print(J)\n",
    "    m = op.LpProblem(\"SingleMachineSchedulingProblem\", op.LpMinimize)\n",
    "    x = {(i,j): op.LpVariable(f\"x{i}{j}\", 0,1, op.LpBinary) for i,j in it.product(I, J)}\n",
    "\n",
    "    c = {j: op.LpVariable(f\"c{j}\", 0, None, op.LpContinuous) for j in J}\n",
    "    objs = {0: sum(w[j]*c[j] for j in J)} \n",
    "    cons = {0: {i: (sum(x[(i,j)] for j in J) == 1, f\"eq1_{i}\") for i in I},\n",
    "            1: {j: (sum(x[(i,j)] for i in I) == 1, f\"eq2_{j}\") for j in J},\n",
    "            2: {j: (c[j] >= c[j-1] + sum(x[(i,j)]*p[i] for i in I), f\"eq3_{j}\") for j in J if j!=0},\n",
    "            3: {0: (c[0] == s + sum(x[(i,0)]*p[i] for i in I), \"eq4_\")}}\n",
    "    m += objs[0]\n",
    "    for keys1 in cons: \n",
    "        for keys2 in cons[keys1]: m += cons[keys1][keys2]\n",
    "        if dispmodel==\"y\":\n",
    "            print(\"Model --- \\n\",) # add m\n",
    "        if solve == \"y\":\n",
    "            result = m.solve(op.PULP_CBC_CMD(timeLimit=None))\n",
    "            print(\"Status --- \\n\", op.LpStatus[result])\n",
    "            if dispresult == \"y\" and op.LpStatus[result] =='Optimal':\n",
    "                print(\"Objective --- \\n\", op.value(m.objective))\n",
    "                print(\"Decision --- \\n\", [(variables.name,variables.varValue) for variables in m.variables() if variables.varValue!=0])\n",
    "    return m, c, x\n",
    "\n",
    "w = [0.1, 0.4, 0.15, 0.35] #Priority weight of each job\n",
    "p = [  7,   3,    9,    4] #Processing time of each job\n",
    "s = 5 #Setup time of the machine\n",
    "I = range(len(p)) #Set of jobs\n",
    "J = range(len(I)) #Set of positions\n",
    "\n",
    "\n",
    "m, c, x = model(I,J,p,s) #Model and solve the problem"
   ]
  },
  {
   "cell_type": "markdown",
   "metadata": {},
   "source": [
    "# 2. Machines Parrallèles \n",
    "\n",
    "# Description\n",
    "\n",
    "Source :  or Tools \n",
    "https://developers.google.com/optimization/scheduling/job_shop?hl=fr\n",
    "\n",
    "L'atelier, dans lequel plusieurs tâches sont traitées sur plusieurs machines, est un problème courant de planification.\n",
    "\n",
    "Chaque tâche consiste en une séquence de tâches, qui doivent être exécutées dans un ordre donné, et chaque tâche doit être traitée sur une machine spécifique. Par exemple, la tâche peut consister à fabriquer un seul article grand public, comme une automobile. Le problème consiste à planifier les tâches sur les machines de manière à minimiser le length de la planification, c'est-à-dire le temps nécessaire à l'exécution de toutes les tâches.\n",
    "\n",
    "Il existe plusieurs contraintes pour ce problème:\n",
    "\n",
    "    Aucune tâche d'une tâche ne peut être lancée tant que la tâche précédente n'est pas terminée.\n",
    "    Une machine ne peut travailler que sur une tâche à la fois.\n",
    "    Une fois lancée, une tâche doit s'exécuter jusqu'à la fin.\n",
    "\n",
    "<div style=\"text-align:center\">\n",
    "<img src=\"img/ordonnancement/Machine_Parallèles_Ordonnancement.JPEG\">\n",
    "</div>\n"
   ]
  },
  {
   "cell_type": "markdown",
   "metadata": {},
   "source": [
    "## Code avec Or Tools"
   ]
  },
  {
   "cell_type": "code",
   "execution_count": null,
   "metadata": {},
   "outputs": [
    {
     "name": "stdout",
     "output_type": "stream",
     "text": [
      "Solution:\n",
      "Optimal Schedule Length: 11.0\n",
      "Machine 0: job_1_task_0   job_0_task_0   \n",
      "           [0,2]          [2,5]          \n",
      "Machine 1: job_2_task_0   job_0_task_1   job_1_task_2   \n",
      "           [0,4]          [5,7]          [7,11]         \n",
      "Machine 2: job_1_task_1   job_2_task_1   job_0_task_2   \n",
      "           [2,3]          [4,7]          [7,9]          \n",
      "\n",
      "\n",
      "Statistics\n",
      "  - conflicts: 0\n",
      "  - branches : 0\n",
      "  - wall time: 0.0095419s\n"
     ]
    }
   ],
   "source": [
    "\"\"\"Minimal jobshop example.\"\"\"\n",
    "import collections\n",
    "from ortools.sat.python import cp_model\n",
    "\n",
    "\n",
    "def main():\n",
    "    \"\"\"Minimal jobshop problem.\"\"\"\n",
    "    # Data.\n",
    "    jobs_data = [  # task = (machine_id, processing_time).\n",
    "        [(0, 3), (1, 2), (2, 2)],  # Job0\n",
    "        [(0, 2), (2, 1), (1, 4)],  # Job1\n",
    "        [(1, 4), (2, 3)],  # Job2\n",
    "    ]\n",
    "\n",
    "    machines_count = 1 + max(task[0] for job in jobs_data for task in job)\n",
    "    all_machines = range(machines_count)\n",
    "    # Computes horizon dynamically as the sum of all durations.\n",
    "    horizon = sum(task[1] for job in jobs_data for task in job)\n",
    "\n",
    "    # Create the model.\n",
    "    model = cp_model.CpModel()\n",
    "\n",
    "    # Named tuple to store information about created variables.\n",
    "    task_type = collections.namedtuple(\"task_type\", \"start end interval\")\n",
    "    # Named tuple to manipulate solution information.\n",
    "    assigned_task_type = collections.namedtuple(\n",
    "        \"assigned_task_type\", \"start job index duration\"\n",
    "    )\n",
    "\n",
    "    # Creates job intervals and add to the corresponding machine lists.\n",
    "    all_tasks = {}\n",
    "    machine_to_intervals = collections.defaultdict(list)\n",
    "\n",
    "    for job_id, job in enumerate(jobs_data):\n",
    "        for task_id, task in enumerate(job):\n",
    "            machine, duration = task\n",
    "            suffix = f\"_{job_id}_{task_id}\"\n",
    "            start_var = model.NewIntVar(0, horizon, \"start\" + suffix)\n",
    "            end_var = model.NewIntVar(0, horizon, \"end\" + suffix)\n",
    "            interval_var = model.NewIntervalVar(\n",
    "                start_var, duration, end_var, \"interval\" + suffix\n",
    "            )\n",
    "            all_tasks[job_id, task_id] = task_type(\n",
    "                start=start_var, end=end_var, interval=interval_var\n",
    "            )\n",
    "            machine_to_intervals[machine].append(interval_var)\n",
    "\n",
    "    # Create and add disjunctive constraints.\n",
    "    for machine in all_machines:\n",
    "        model.AddNoOverlap(machine_to_intervals[machine])\n",
    "\n",
    "    # Precedences inside a job.\n",
    "    for job_id, job in enumerate(jobs_data):\n",
    "        for task_id in range(len(job) - 1):\n",
    "            model.Add(\n",
    "                all_tasks[job_id, task_id + 1].start >= all_tasks[job_id, task_id].end\n",
    "            )\n",
    "\n",
    "    # Makespan objective.\n",
    "    obj_var = model.NewIntVar(0, horizon, \"makespan\")\n",
    "    model.AddMaxEquality(\n",
    "        obj_var,\n",
    "        [all_tasks[job_id, len(job) - 1].end for job_id, job in enumerate(jobs_data)],\n",
    "    )\n",
    "    model.Minimize(obj_var)\n",
    "\n",
    "    # Creates the solver and solve.\n",
    "    solver = cp_model.CpSolver()\n",
    "    status = solver.Solve(model)\n",
    "\n",
    "    if status == cp_model.OPTIMAL or status == cp_model.FEASIBLE:\n",
    "        print(\"Solution:\")\n",
    "        # Create one list of assigned tasks per machine.\n",
    "        assigned_jobs = collections.defaultdict(list)\n",
    "        for job_id, job in enumerate(jobs_data):\n",
    "            for task_id, task in enumerate(job):\n",
    "                machine = task[0]\n",
    "                assigned_jobs[machine].append(\n",
    "                    assigned_task_type(\n",
    "                        start=solver.Value(all_tasks[job_id, task_id].start),\n",
    "                        job=job_id,\n",
    "                        index=task_id,\n",
    "                        duration=task[1],\n",
    "                    )\n",
    "                )\n",
    "\n",
    "        # Create per machine output lines.\n",
    "        output = \"\"\n",
    "        for machine in all_machines:\n",
    "            # Sort by starting time.\n",
    "            assigned_jobs[machine].sort()\n",
    "            sol_line_tasks = \"Machine \" + str(machine) + \": \"\n",
    "            sol_line = \"           \"\n",
    "\n",
    "            for assigned_task in assigned_jobs[machine]:\n",
    "                name = f\"job_{assigned_task.job}_task_{assigned_task.index}\"\n",
    "                # Add spaces to output to align columns.\n",
    "                sol_line_tasks += f\"{name:15}\"\n",
    "\n",
    "                start = assigned_task.start\n",
    "                duration = assigned_task.duration\n",
    "                sol_tmp = f\"[{start},{start + duration}]\"\n",
    "                # Add spaces to output to align columns.\n",
    "                sol_line += f\"{sol_tmp:15}\"\n",
    "\n",
    "            sol_line += \"\\n\"\n",
    "            sol_line_tasks += \"\\n\"\n",
    "            output += sol_line_tasks\n",
    "            output += sol_line\n",
    "\n",
    "        # Finally print the solution found.\n",
    "        print(f\"Optimal Schedule Length: {solver.ObjectiveValue()}\")\n",
    "        print(output)\n",
    "    else:\n",
    "        print(\"No solution found.\")\n",
    "\n",
    "    # Statistics.\n",
    "    print(\"\\nStatistics\")\n",
    "    print(f\"  - conflicts: {solver.NumConflicts()}\")\n",
    "    print(f\"  - branches : {solver.NumBranches()}\")\n",
    "    print(f\"  - wall time: {solver.WallTime()}s\")\n",
    "\n",
    "\n",
    "if __name__ == \"__main__\":\n",
    "    main()"
   ]
  },
  {
   "cell_type": "markdown",
   "metadata": {},
   "source": [
    "## Code avec Python Mip \n",
    "\n",
    "https://python-mip.readthedocs.io/en/latest/examples.html\n",
    "\n",
    "Malheureusement Gurobi qui tourne en fond est payant, donc on ne peut pas tester."
   ]
  },
  {
   "cell_type": "markdown",
   "metadata": {},
   "source": [
    "## Code avec Python Cplex"
   ]
  }
 ],
 "metadata": {
  "kernelspec": {
   "display_name": "Python 3",
   "language": "python",
   "name": "python3"
  },
  "language_info": {
   "codemirror_mode": {
    "name": "ipython",
    "version": 3
   },
   "file_extension": ".py",
   "mimetype": "text/x-python",
   "name": "python",
   "nbconvert_exporter": "python",
   "pygments_lexer": "ipython3",
   "version": "3.9.2"
  },
  "orig_nbformat": 4
 },
 "nbformat": 4,
 "nbformat_minor": 2
}
