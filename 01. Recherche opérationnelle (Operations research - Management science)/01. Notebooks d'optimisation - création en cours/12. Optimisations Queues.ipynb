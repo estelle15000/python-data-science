{
 "cells": [
  {
   "cell_type": "markdown",
   "metadata": {},
   "source": [
    "# Les optimisations de type \" Queue \" et \"Files d'attente\""
   ]
  },
  {
   "cell_type": "markdown",
   "metadata": {},
   "source": [
    "# Introduction"
   ]
  },
  {
   "cell_type": "markdown",
   "metadata": {},
   "source": [
    "# Sommaire\n",
    "\n",
    "- 1. Le modèle M/M/S\n",
    "        - Notre problème de base\n",
    "        - Modélisation mathématique\n",
    "        - Probabilités avec la loi de Poisson\n",
    "        - Résolution avec Python Pulp\n",
    "- 2. Le modèle x * M/M/1 \n",
    "        - Notre problème de base\n",
    "        - Modélisation mathématique\n",
    "        - Probabilités avec la loi de Poisson\n",
    "        - Résolution"
   ]
  },
  {
   "cell_type": "markdown",
   "metadata": {},
   "source": [
    "# 1. Le modèle M/M/S\n",
    "\n",
    "Lorsque nous avons une seule file d'attente avec plus d'un serveur parallèle, \n",
    "nous avons ce qu'on appelle un système de file d'attente M/M/s. \n",
    "\n",
    "Un schéma ci-dessous montre 4 serveurs parallèles desservant 1 file d'attente.\n",
    "\n",
    "<div style=\"text-align:center\">\n",
    "<img src=\"img/mms.jpg\">\n",
    "</div>\n"
   ]
  },
  {
   "cell_type": "code",
   "execution_count": null,
   "metadata": {},
   "outputs": [],
   "source": []
  }
 ],
 "metadata": {
  "kernelspec": {
   "display_name": "Python 3",
   "language": "python",
   "name": "python3"
  },
  "language_info": {
   "codemirror_mode": {
    "name": "ipython",
    "version": 3
   },
   "file_extension": ".py",
   "mimetype": "text/x-python",
   "name": "python",
   "nbconvert_exporter": "python",
   "pygments_lexer": "ipython3",
   "version": "3.8.0"
  },
  "orig_nbformat": 4
 },
 "nbformat": 4,
 "nbformat_minor": 2
}
