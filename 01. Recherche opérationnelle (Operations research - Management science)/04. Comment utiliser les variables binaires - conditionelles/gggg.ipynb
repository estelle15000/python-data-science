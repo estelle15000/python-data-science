{
 "cells": [
  {
   "cell_type": "code",
   "execution_count": 18,
   "metadata": {},
   "outputs": [
    {
     "name": "stdout",
     "output_type": "stream",
     "text": [
      "0.0 Objets produits x\n",
      "210.0 Objets produits y\n",
      "0.0 La valeur de la variable binaire utilisée ou pas , 0 ou 1\n",
      "1785.0 est notre profit\n",
      "Optimal\n"
     ]
    }
   ],
   "source": [
    "import pulp as p \n",
    "Lp_prob = p.LpProblem('Problem', p.LpMaximize)  \n",
    "cout_maintenance = 10\n",
    "declencheur_maintenance = 20\n",
    "x = p.LpVariable(\"x\", lowBound = 0, cat='Integer')   # Create a variable x >= 0 \n",
    "y = p.LpVariable(\"y\", lowBound = 0, cat='Integer')   # Create a variable y >= 0 \n",
    "z = p.LpVariable(\"z\", lowBound=0, cat='Binary')\n",
    "z.setInitialValue(0) # On tente d'initialiser la variable à 0\n",
    "Lp_prob +=  10.5 * x + 8.5 * y - 20 * z\n",
    "Lp_prob += 3 * x + 2 * y  <= 420\n",
    "M = 1000  \n",
    "Lp_prob += z >= (y - 270 )/M\n",
    "status = Lp_prob.solve()   # Exécuter le solver\n",
    "print(p.value(x),\"Objets produits x\")\n",
    "print(p.value(y) , \"Objets produits y\"  )\n",
    "print(p.value(z) , \"La valeur de la variable binaire utilisée ou pas , 0 ou 1\"  )\n",
    "print(p.value(Lp_prob.objective) ,\"est notre profit\" )\n",
    "print(p.LpStatus[status])   "
   ]
  }
 ],
 "metadata": {
  "kernelspec": {
   "display_name": "Python 3",
   "language": "python",
   "name": "python3"
  },
  "language_info": {
   "codemirror_mode": {
    "name": "ipython",
    "version": 3
   },
   "file_extension": ".py",
   "mimetype": "text/x-python",
   "name": "python",
   "nbconvert_exporter": "python",
   "pygments_lexer": "ipython3",
   "version": "3.8.0"
  },
  "orig_nbformat": 4
 },
 "nbformat": 4,
 "nbformat_minor": 2
}
