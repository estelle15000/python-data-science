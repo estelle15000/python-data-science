{
 "cells": [
  {
   "attachments": {},
   "cell_type": "markdown",
   "metadata": {},
   "source": [
    "# Les variables binaires en optimisation \n",
    "Tentative de clarification et étude par estelle derrien\n",
    "\n",
    "- Valeurs : Elles prennent la valeur 0 ou 1 (non ou oui).\n",
    "- Intérêt : Sélectionner une variable de décision , pénaliser une variable de décision, sélectionner une contrainte, discriminer une contrainte.\n",
    "- Utilisation : Directement dans la fonction objectif, ou avec les contraintes.\n",
    "- Déclaration : Elle diffère selon les solveurs, elle est plus facile dans certains.\n",
    "- Semblable à : IF ( Si en Anglais) THEN\n",
    "- Relaté à : Les méthodes <b>\"Big M\"</b>.\n",
    "- Permettent souvent de : Eviter de faire une optimisation non linéaire.\n",
    "- Permettent d'attribuer une <b>pénalité</b> à une variable de décision, si sa valeur dépasse un certain seuil.\n",
    "\n",
    "# Exemples simples:\n",
    "\n",
    "Si les ventes de la variable de décision X1 dépassent 2000, alors la contrainte N de coût de maintenance s'applique, sinon, elle ne s'applique pas.\n",
    "\n",
    "Si un objet X1(var décision) dépasse 20kgs, alors le container Z n'est pas utilisé, c'est le container Y qui est utilisé.\n",
    "\n",
    "Si un élément chimique X1 (variable de décision) dépasse un seuil de 20grammes, alors, une pénalité lui est appliqué, ce qui privilégie l'élement chimique X2 dans l'optimisation finale.\n",
    "\n"
   ]
  },
  {
   "cell_type": "code",
   "execution_count": null,
   "metadata": {},
   "outputs": [],
   "source": []
  }
 ],
 "metadata": {
  "kernelspec": {
   "display_name": "Python 3",
   "language": "python",
   "name": "python3"
  },
  "language_info": {
   "codemirror_mode": {
    "name": "ipython",
    "version": 3
   },
   "file_extension": ".py",
   "mimetype": "text/x-python",
   "name": "python",
   "nbconvert_exporter": "python",
   "pygments_lexer": "ipython3",
   "version": "3.8.0"
  },
  "orig_nbformat": 4
 },
 "nbformat": 4,
 "nbformat_minor": 2
}
