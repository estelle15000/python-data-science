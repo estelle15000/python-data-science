{
 "cells": [
  {
   "attachments": {},
   "cell_type": "markdown",
   "metadata": {},
   "source": [
    "# Les variables binaires en optimisation \n",
    "Tentative de clarification et étude par estelle derrien\n",
    "\n",
    "- Valeurs : Elles prennent la valeur 0 ou 1 (non ou oui).\n",
    "- Intérêt : Sélectionner une variable de décision , pénaliser une variable de décision, sélectionner une contrainte, discriminer une contrainte.\n",
    "- Utilisation : Directement dans la fonction objectif, ou avec les contraintes.\n",
    "- Déclaration : Elle diffère selon les solveurs, elle est plus facile dans certains.\n",
    "- Semblable à : IF ( Si en Anglais) THEN , Semblable à un principe ON/OFF pour les machines. Equivaut à un 'trigger' en Anglais, un déclencheur.\n",
    "- Relaté à : Les méthodes <b>\"Big M\"</b>.\n",
    "- Permettent souvent de : Eviter de faire une optimisation non linéaire.\n",
    "- Permettent d'attribuer une <b>pénalité</b> à une variable de décision, si sa valeur dépasse un certain seuil.\n",
    "- On évite d'utiliser la fonctionnalité de limites (Bounds) sur les variables de décision souvent fournies avec le solveur, <b>en même temps que</b> les variables binaires, c'est soit l'un,soit l'autre.\n",
    "\n",
    "# Exemples simples:\n",
    "\n",
    "Si la production de x dépasse 20, alors la contrainte  N de coût maintenance s'applique, sinon, elle ne s'applique pas.\n",
    "\n",
    "Si un objet X1(variable de décision) dépasse 20kgs, alors le container Z n'est pas utilisé, c'est le container Y qui est utilisé.\n",
    "\n",
    "Si un élément chimique X1 (variable de décision) dépasse un seuil de 20grammes, alors, une pénalité lui est appliquée, ce qui privilégie l'élement chimique X2 dans l'optimisation finale.\n",
    "\n",
    "Déclencher une machine X2 si la production sur la machine X1 est > 1000, sinon, ne pas la déclencher (Mode ON/OFF)\n",
    "\n"
   ]
  },
  {
   "attachments": {},
   "cell_type": "markdown",
   "metadata": {},
   "source": [
    "## 1/ Si la production de x dépasse 20, alors la contrainte  N de coût maintenance s'applique, sinon, elle ne s'applique pas."
   ]
  },
  {
   "cell_type": "code",
   "execution_count": 2,
   "metadata": {},
   "outputs": [
    {
     "ename": "NameError",
     "evalue": "name 'z' is not defined",
     "output_type": "error",
     "traceback": [
      "\u001b[1;31m---------------------------------------------------------------------------\u001b[0m",
      "\u001b[1;31mNameError\u001b[0m                                 Traceback (most recent call last)",
      "Cell \u001b[1;32mIn[2], line 19\u001b[0m\n\u001b[0;32m     16\u001b[0m y \u001b[39m=\u001b[39m p\u001b[39m.\u001b[39mLpVariable(\u001b[39m\"\u001b[39m\u001b[39my\u001b[39m\u001b[39m\"\u001b[39m, lowBound \u001b[39m=\u001b[39m \u001b[39m0\u001b[39m)   \u001b[39m# Create a variable y >= 0 \u001b[39;00m\n\u001b[0;32m     18\u001b[0m \u001b[39m# Ecrire la fonction objectif à maximizer qui nous donne un résultat en Euros \u001b[39;00m\n\u001b[1;32m---> 19\u001b[0m Lp_prob \u001b[39m+\u001b[39m\u001b[39m=\u001b[39m  \u001b[39m10.5\u001b[39m \u001b[39m*\u001b[39m x \u001b[39m+\u001b[39m \u001b[39m8.5\u001b[39m \u001b[39m*\u001b[39m y \u001b[39m+\u001b[39m \u001b[39m18.5\u001b[39m \u001b[39m*\u001b[39m z\n\u001b[0;32m     21\u001b[0m \u001b[39m# Les contraintes : \u001b[39;00m\n\u001b[0;32m     22\u001b[0m \n\u001b[0;32m     23\u001b[0m \u001b[39m# Heures de travail au mois , plus il est grand, plus le prfoit augmente, moins le temps de travail sur un objet est long, plus on en produit et le profit augmente \u001b[39;00m\n\u001b[0;32m     24\u001b[0m Lp_prob \u001b[39m+\u001b[39m\u001b[39m=\u001b[39m \u001b[39m3\u001b[39m \u001b[39m*\u001b[39m x \u001b[39m+\u001b[39m \u001b[39m3\u001b[39m \u001b[39m*\u001b[39m y \u001b[39m+\u001b[39m \u001b[39m2\u001b[39m \u001b[39m*\u001b[39m z \u001b[39m<\u001b[39m\u001b[39m=\u001b[39m \u001b[39m420\u001b[39m\n",
      "\u001b[1;31mNameError\u001b[0m: name 'z' is not defined"
     ]
    }
   ],
   "source": [
    "# Importer la librairie Pulp sous le pseudo p\n",
    "import pulp as p \n",
    "  \n",
    "# Créer un programme linéaire de maximisation\n",
    "Lp_prob = p.LpProblem('Problem', p.LpMaximize)  \n",
    "\n",
    "# On spécifie le cout de maintenance\n",
    "cout_maintenance = 10\n",
    "  \n",
    "# On Crée les variables du problème , x et y sont des objets que l'usine produit\n",
    "x = p.LpVariable(\"x\", lowBound = 0)   # Create a variable x >= 0 \n",
    "y = p.LpVariable(\"y\", lowBound = 0)   # Create a variable y >= 0 \n",
    "\n",
    "# Comme on a besoin d'appliquer un cout de maintenance conditionnel, on a besoin \n",
    "# de définir une variable binaire qui va se déclencher si la production de x est supérieure\n",
    "# à 20 objets !\n",
    "\n",
    "z = \n",
    "  \n",
    "# Ecrire la fonction objectif à maximizer qui nous donne un résultat en Euros \n",
    "Lp_prob +=  10.5 * x + 8.5 * y + 18.5 * z\n",
    "  \n",
    "# Les contraintes : \n",
    "\n",
    "# Heures de travail au mois , plus il est grand, plus le prfoit augmente, moins le temps de travail sur un objet est long, plus on en produit et le profit augmente \n",
    "Lp_prob += 3 * x + 3 * y + 2 * z <= 420\n",
    "\n",
    "# Il faut produire au minimum ce nombre d'éléments  :\n",
    "Lp_prob += x  >= 100\n",
    "Lp_prob += y  >= 10\n",
    "Lp_prob += z  >= 10\n",
    "  \n",
    "# Afficher le problème linéaire\n",
    "print(Lp_prob) \n"
   ]
  }
 ],
 "metadata": {
  "kernelspec": {
   "display_name": "Python 3",
   "language": "python",
   "name": "python3"
  },
  "language_info": {
   "codemirror_mode": {
    "name": "ipython",
    "version": 3
   },
   "file_extension": ".py",
   "mimetype": "text/x-python",
   "name": "python",
   "nbconvert_exporter": "python",
   "pygments_lexer": "ipython3",
   "version": "3.8.0"
  },
  "orig_nbformat": 4
 },
 "nbformat": 4,
 "nbformat_minor": 2
}
