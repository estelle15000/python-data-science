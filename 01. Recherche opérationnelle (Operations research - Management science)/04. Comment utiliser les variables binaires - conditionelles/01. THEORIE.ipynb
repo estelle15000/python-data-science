{
 "cells": [
  {
   "attachments": {},
   "cell_type": "markdown",
   "metadata": {},
   "source": [
    "# Les variables binaires en optimisation \n",
    "Tentative de clarification et étude par estelle derrien\n",
    "\n",
    "- Valeurs : Elles prennent la valeur 1 ou 0 (oui ou non).\n",
    "- Intérêt : Sélectionner une variable de décision , Sélectionner une contrainte .\n",
    "- Utilisation : Dans le fonction objectif, dans les contraintes.\n",
    "- Déclaration : Elle diffère selon les solveurs.\n",
    "- Semblable à : IF ( Si en Anglais) THEN\n",
    "- Relaté à : Les méthodes \"Big M\"\n",
    "- Permettent de : Eviter de faire une optimisation non linéaire.\n",
    "\n",
    "# Exemples oraux :\n",
    "\n",
    "Si les ventes de la variable de décision X1 dépassent 2000, alors la contrainte N s'applique.\n",
    "\n"
   ]
  },
  {
   "cell_type": "code",
   "execution_count": null,
   "metadata": {},
   "outputs": [],
   "source": []
  }
 ],
 "metadata": {
  "kernelspec": {
   "display_name": "Python 3",
   "language": "python",
   "name": "python3"
  },
  "language_info": {
   "codemirror_mode": {
    "name": "ipython",
    "version": 3
   },
   "file_extension": ".py",
   "mimetype": "text/x-python",
   "name": "python",
   "nbconvert_exporter": "python",
   "pygments_lexer": "ipython3",
   "version": "3.8.0"
  },
  "orig_nbformat": 4
 },
 "nbformat": 4,
 "nbformat_minor": 2
}
