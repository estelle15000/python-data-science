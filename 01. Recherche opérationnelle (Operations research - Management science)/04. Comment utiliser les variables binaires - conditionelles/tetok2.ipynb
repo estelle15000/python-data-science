{
 "cells": [
  {
   "cell_type": "code",
   "execution_count": 50,
   "metadata": {},
   "outputs": [
    {
     "name": "stdout",
     "output_type": "stream",
     "text": [
      "0.0 Objets produits x\n",
      "210.0 Objets produits y\n",
      "0.0 La valeur de la variable binaire utilisée ou pas , 0 ou 1\n",
      "None La valeur de la variable binaire utilisée ou pas , 0 ou 1\n",
      "1785.0 est notre profit\n",
      "Optimal\n"
     ]
    }
   ],
   "source": [
    "# Importer la librairie Pulp sous le pseudo p\n",
    "import pulp as p \n",
    "  \n",
    "# Créer un programme linéaire de maximisation\n",
    "Lp_prob = p.LpProblem('Problem', p.LpMaximize)  \n",
    "\n",
    "# -----------------------------------\n",
    "# On définit nos constantes\n",
    "#\n",
    "# -----------------------------------\n",
    "\n",
    "# On spécifie le cout de maintenance\n",
    "cout_maintenance = 10\n",
    "\n",
    "# On spécifie le seuil de déclenchement de la maintenance\n",
    "declencheur_maintenance = 20\n",
    "declencheur_maintenance_2 = 50\n",
    "\n",
    "# -----------------------------------\n",
    "# On définit nos variables de décision\n",
    "#\n",
    "# -----------------------------------\n",
    "  \n",
    "# On Crée les variables de décision du problème , x et y sont des objets que l'usine produit\n",
    "x = p.LpVariable(\"x\", lowBound = 0, cat='Integer')   # Create a variable x >= 0 \n",
    "y = p.LpVariable(\"y\", lowBound = 0, cat='Integer')   # Create a variable y >= 0 \n",
    "\n",
    "# Comme on a besoin d'appliquer un cout de maintenance conditionnel, on a besoin \n",
    "# de définir une variable binaire qui va se déclencher si la production de x est supérieure\n",
    "# à 20 objets !\n",
    "d = p.LpVariable(\"d\", lowBound=0, cat='Binary')\n",
    "\n",
    "kt = p.LpVariable(\"kt\", lowBound=0,  cat='Binary')\n",
    "\n",
    "\n",
    "\n",
    "# -----------------------------------\n",
    "# On définit la fonction objectif\n",
    "#\n",
    "# -----------------------------------\n",
    "  \n",
    "# Ecrire la fonction objectif à maximizer qui nous donne un résultat en Euros \n",
    "# Ici, x est vendu 10.5 euros et y 8.5 euros, le coût de 10 euros de maintenance\n",
    "#  est soustrait seulement si z est positive.\n",
    "Lp_prob +=  10.5 * x + 8.5 * y + d\n",
    "\n",
    "Lp_prob += 3 * x + 2 * y  <= 420\n",
    "# Lp_prob += x  >= 100\n",
    "# Lp_prob += y  >= 40\n",
    "\n",
    "M = 1e6  # M se calcule selon une certaine méthode , voir plus bas.\n",
    "M2 = 1e6\n",
    "# si x > 20 alors z = 1 s'écrit comme cela avec PULP\n",
    "Lp_prob += d >= (y - 300)/M\n",
    "\n",
    "# si x > 200 alors k = 1 s'écrit comme cela avec PULP\n",
    "# Lp_prob += kt >= (y - 100000)/M2\n",
    "\n",
    "status = Lp_prob.solve()   # Exécuter le solver\n",
    "# print(p.LpStatus[status])   # Le statut de la solution\n",
    "\n",
    "# Afficher la solution :\n",
    "print(p.value(x),\"Objets produits x\")\n",
    "print(p.value(y) , \"Objets produits y\"  )\n",
    "print(p.value(d) , \"La valeur de la variable binaire utilisée ou pas , 0 ou 1\"  )\n",
    "print(p.value(kt) , \"La valeur de la variable binaire utilisée ou pas , 0 ou 1\"  )\n",
    "print(p.value(Lp_prob.objective) ,\"est notre profit\" )\n",
    "print(p.LpStatus[status])   # Le statut de la solution"
   ]
  }
 ],
 "metadata": {
  "kernelspec": {
   "display_name": "Python 3",
   "language": "python",
   "name": "python3"
  },
  "language_info": {
   "codemirror_mode": {
    "name": "ipython",
    "version": 3
   },
   "file_extension": ".py",
   "mimetype": "text/x-python",
   "name": "python",
   "nbconvert_exporter": "python",
   "pygments_lexer": "ipython3",
   "version": "3.8.0"
  },
  "orig_nbformat": 4
 },
 "nbformat": 4,
 "nbformat_minor": 2
}
