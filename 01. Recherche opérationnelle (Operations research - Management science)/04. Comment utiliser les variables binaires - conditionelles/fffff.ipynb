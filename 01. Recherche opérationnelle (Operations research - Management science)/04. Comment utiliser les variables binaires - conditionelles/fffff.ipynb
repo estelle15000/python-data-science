{
 "cells": [
  {
   "cell_type": "code",
   "execution_count": 97,
   "metadata": {},
   "outputs": [
    {
     "name": "stdout",
     "output_type": "stream",
     "text": [
      "588.0 x products\n",
      "1218.0 y products\n",
      "1.0 z Binaire\n",
      "1.0 l Binaire\n",
      "16487.0 Profit\n",
      "Optimal\n"
     ]
    }
   ],
   "source": [
    "from pulp import  *\n",
    "prob = LpProblem('Problem', LpMaximize)  \n",
    "x = LpVariable(\"x\", lowBound = 0, cat='Integer')   \n",
    "y = LpVariable(\"y\", lowBound = 0, cat='Integer')   \n",
    "z = LpVariable(\"z\", lowBound=0, cat='Binary')\n",
    "l = LpVariable(\"l\", lowBound=0, cat='Binary')\n",
    "z.setInitialValue(0) \n",
    "prob +=  10.5 * x + 8.5 * y - 20 * z - 20 * l \n",
    "prob += 3 * x + 2 * y  <= 4200\n",
    "M = 1000\n",
    "# If y > 220, z = 1\n",
    "prob += z >= (y - 220)/M\n",
    "prob += l >= (y - 300)/M\n",
    "status = prob.solve()   \n",
    "print(value(x),\"x products\")\n",
    "print(value(y) , \"y products\"  )\n",
    "print(value(z) , \"z Binaire\"  )\n",
    "print(value(l) , \"l Binaire\"  )\n",
    "print(value(prob.objective) ,\"Profit\" )\n",
    "print(LpStatus[status])   "
   ]
  }
 ],
 "metadata": {
  "kernelspec": {
   "display_name": "Python 3",
   "language": "python",
   "name": "python3"
  },
  "language_info": {
   "codemirror_mode": {
    "name": "ipython",
    "version": 3
   },
   "file_extension": ".py",
   "mimetype": "text/x-python",
   "name": "python",
   "nbconvert_exporter": "python",
   "pygments_lexer": "ipython3",
   "version": "3.8.0"
  },
  "orig_nbformat": 4
 },
 "nbformat": 4,
 "nbformat_minor": 2
}
