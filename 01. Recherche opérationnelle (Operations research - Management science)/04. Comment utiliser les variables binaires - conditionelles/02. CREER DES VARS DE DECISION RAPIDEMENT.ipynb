{
 "cells": [
  {
   "attachments": {},
   "cell_type": "markdown",
   "metadata": {},
   "source": [
    "# Créer des variables de décision rapidement.\n",
    "\n",
    "Dans ce notebook, on va voir comment créer des variables de décision rapidement dans un solveur python.\n",
    "\n",
    "1. Méthode de base\n",
    "2. Mathode avec les tableaux\n",
    "3. Méthode avec les dictionnaires python"
   ]
  },
  {
   "attachments": {},
   "cell_type": "markdown",
   "metadata": {},
   "source": [
    "# 1. Méthode de base"
   ]
  },
  {
   "cell_type": "code",
   "execution_count": 29,
   "metadata": {},
   "outputs": [],
   "source": [
    "# La méthode de base :\n",
    "\n",
    "# Import du solveur\n",
    "import pulp as p\n",
    "\n",
    "# On sette le problème\n",
    "Lp_prob = p.LpProblem('Problem', p.LpMaximize)\n",
    "\n",
    "# -----------------------------------\n",
    "# On définit nos variables de décision\n",
    "#\n",
    "# -----------------------------------\n",
    "\n",
    "x = p.LpVariable(\"x\", lowBound=0, cat='Integer')   # Create a variable x >= 0\n",
    "y = p.LpVariable(\"y\", lowBound=0, cat='Integer')   # Create a variable y >= 0\n"
   ]
  },
  {
   "attachments": {},
   "cell_type": "markdown",
   "metadata": {},
   "source": [
    "# 2. Méthode avec les tableaux"
   ]
  },
  {
   "attachments": {},
   "cell_type": "markdown",
   "metadata": {},
   "source": [
    "Dans l'exemple précédent, ca va parce qu'on a que deux variables de décisions, mais qu'en sera-t-il si on en a 100 ?"
   ]
  },
  {
   "cell_type": "code",
   "execution_count": 30,
   "metadata": {},
   "outputs": [
    {
     "name": "stdout",
     "output_type": "stream",
     "text": [
      "usine_1\n"
     ]
    }
   ],
   "source": [
    "# La méthode rapide :\n",
    "\n",
    "import pulp as p\n",
    "\n",
    "Lp_prob = p.LpProblem('Problem', p.LpMaximize)\n",
    "\n",
    "# On crée d'abord le nom de nos variables de décision\n",
    "\n",
    "objets = [\n",
    "    'objet_1',\n",
    "    'objet_2',\n",
    "    'objet_3',\n",
    "    'objet_4',\n",
    "    'objet_5',\n",
    "]\n",
    "\n",
    "# On crée les variables, celles ci seront binaires. En fait, on itère sur le tableau objets et i est l'index.\n",
    "x = {i: p.LpVariable(name=f\"{i}\", lowBound=0, cat='Binary') for i in objets}\n",
    "\n",
    "# Maintenant, on peut acceder aux variables de cette façon : x['objet_1']\n",
    "\n",
    "# On peut ensuite créer un deuxième lot de variables de décision, qui cette fois ci, seront entières.\n",
    "\n",
    "usines = [\n",
    "    'usine_1',\n",
    "    'usine_2',\n",
    "    'usine_3',\n",
    "    'usine_4',\n",
    "]\n",
    "\n",
    "# On crée les variables, celles ci seront entières. En fait, on itère sur le tableau objets et k est l'index.\n",
    "m = {k: p.LpVariable(name=f\"{k}\", lowBound=0, cat='Integer') for k in usines}\n",
    "\n",
    "\n",
    "print(m['usine_1'])\n"
   ]
  },
  {
   "attachments": {},
   "cell_type": "markdown",
   "metadata": {},
   "source": [
    "# 3. Méthode avec les dictionnaires Python\n"
   ]
  },
  {
   "cell_type": "code",
   "execution_count": 31,
   "metadata": {},
   "outputs": [
    {
     "name": "stdout",
     "output_type": "stream",
     "text": [
      "Status: Optimal\n",
      "produits__arc = 2.0\n",
      "produits__automobile = 39.333333\n",
      "produits__cycle1 = 2.0\n",
      "produits__cycle2 = 2.0\n",
      "produits__dragon = 2.0\n",
      "produits__nounours = 27.333333\n",
      "produits__poupee = 2.0\n",
      "TotalProfit 586.6666620000001\n"
     ]
    }
   ],
   "source": [
    "# Import the PuLP lib\n",
    "from pulp import *\n",
    "\n",
    "# Créer le type de problème\n",
    "prob = LpProblem (\"MaximiserProfit\", LpMaximize)\n",
    "\n",
    "# La liste de nos produits\n",
    "produits = [\"automobile\", \"cycle1\",\"cycle2\",\"dragon\",\"nounours\",\"poupee\",\"arc\"]\n",
    "\n",
    "# Les bénéfices en EUROS par produits\n",
    "benefices = {\"automobile\": 8, \"cycle1\": 12, \"cycle2\": 14,\"dragon\": 3,\"nounours\":6,\"poupee\":13,\"arc\":12}\n",
    "\n",
    "# Emplois (en kgs)\n",
    "plastique = {\"automobile\": 2, \"cycle1\": 4, \"cycle2\": 5,\"dragon\": 3,\"nounours\":1,\"poupee\":4,\"arc\":2}\n",
    "bois      = {\"automobile\": 1, \"cycle1\": 1, \"cycle2\": 2,\"dragon\": 2,\"nounours\":1,\"poupee\":5,\"arc\":1}\n",
    "acier     = {\"automobile\": 1, \"cycle1\": 2, \"cycle2\": 3,\"dragon\": 3,\"nounours\":2,\"poupee\":2,\"arc\":5}\n",
    "\n",
    "\n",
    "# Les noms de nos ressources\n",
    "ressources = {\"plastique\", \"bois\", \"acier\"}\n",
    "\n",
    "# Les stocks de nos ressources en KG\n",
    "stocks = {\"plastique\": 142, \"bois \": 117, \"acier\": 124}\n",
    "\n",
    "# Problem variables \n",
    "x = LpVariable.dicts(\"produits \", produits , 0)\n",
    "\n",
    "# Maximiser la quantité de produits et profit.\n",
    "prob += lpSum([benefices[i] * x[i] for i in produits ]), \"MaximiserBenefice\"\n",
    "\n",
    "# On respecte notre production sous contrainte de stocks\n",
    "prob += lpSum([plastique[i] * x[i] for i in  produits]) <= 142 ,\"MaxPlastique\"\n",
    "prob += lpSum([bois[i]      * x[i] for i in  produits]) <= 117 ,\"MaxBois\"\n",
    "prob += lpSum([acier[i]     * x[i] for i in  produits]) <= 124 ,\"MaxAcier\"\n",
    "\n",
    "# Production minimale par produits pour les clients : 2 unités\n",
    "for p in produits:\n",
    "   prob += x[p] >= 2, f\"min production units for product {p}\"\n",
    "\n",
    "# On écrit aussi le probleme dans un fichier\n",
    "prob.writeLP ( \"JouetsModel.lp\")\n",
    "\n",
    "# On utilise le solver pulp\n",
    "prob.solve()\n",
    "\n",
    "# On affiche le sstatu de la solution\n",
    "print (\"Status:\", LpStatus [prob.status])\n",
    "\n",
    "# Afficher l'optimium de chaques variables produits qui s'exprime en unité construites\n",
    "for v in prob.variables ():\n",
    "    print (v.name, \"=\", v.varValue)\n",
    "\n",
    "\n",
    "# Le résultat de la fonctioj objectif est ici :\n",
    "print (\"TotalProfit\", value (prob.objective))"
   ]
  }
 ],
 "metadata": {
  "kernelspec": {
   "display_name": "Python 3",
   "language": "python",
   "name": "python3"
  },
  "language_info": {
   "codemirror_mode": {
    "name": "ipython",
    "version": 3
   },
   "file_extension": ".py",
   "mimetype": "text/x-python",
   "name": "python",
   "nbconvert_exporter": "python",
   "pygments_lexer": "ipython3",
   "version": "3.8.0"
  },
  "orig_nbformat": 4
 },
 "nbformat": 4,
 "nbformat_minor": 2
}
