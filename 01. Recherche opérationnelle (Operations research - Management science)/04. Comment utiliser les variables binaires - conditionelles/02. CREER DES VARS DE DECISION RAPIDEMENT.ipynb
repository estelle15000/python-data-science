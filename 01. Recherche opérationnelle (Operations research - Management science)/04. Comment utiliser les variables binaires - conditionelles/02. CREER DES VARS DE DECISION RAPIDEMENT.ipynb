{
 "cells": [
  {
   "attachments": {},
   "cell_type": "markdown",
   "metadata": {},
   "source": [
    "# Créer des variables de décision rapidement.\n",
    "\n",
    "Dans ce notebook, on va voir comment créer des variables de décision rapidement dans un solveur python."
   ]
  },
  {
   "cell_type": "code",
   "execution_count": 10,
   "metadata": {},
   "outputs": [],
   "source": [
    "# La méthode de base :\n",
    "\n",
    "# Impor du solveur\n",
    "import pulp as p\n",
    "# On sette le problème\n",
    "Lp_prob = p.LpProblem('Problem', p.LpMaximize)\n",
    "\n",
    "# -----------------------------------\n",
    "# On définit nos variables de décision\n",
    "#\n",
    "# -----------------------------------\n",
    "\n",
    "x = p.LpVariable(\"x\", lowBound=0, cat='Integer')   # Create a variable x >= 0\n",
    "y = p.LpVariable(\"y\", lowBound=0, cat='Integer')   # Create a variable y >= 0\n"
   ]
  },
  {
   "attachments": {},
   "cell_type": "markdown",
   "metadata": {},
   "source": [
    "Dans l'exemple précédent, ca va parce qu'on a que deux variables de décisions, mais qu'en sera-t-il si on en a 100 ?"
   ]
  },
  {
   "cell_type": "code",
   "execution_count": 11,
   "metadata": {},
   "outputs": [],
   "source": [
    "# La méthode rapide :\n",
    "\n",
    "import pulp as p\n",
    "\n",
    "Lp_prob = p.LpProblem('Problem', p.LpMaximize)\n",
    "\n",
    "# On crée d'abord le nom de nos variables de décision\n",
    "\n",
    "objets = [\n",
    "    'objet_1',\n",
    "    'objet_2',\n",
    "    'objet_3',\n",
    "    'objet_4',\n",
    "    'objet_5',\n",
    "\n",
    "]\n",
    "\n",
    "# On crée les variables, celles ci seront binaires.\n",
    "x = {i: p.LpVariable(name=f\"x{i}\", lowBound=0, cat='Binary') for i in objets}\n",
    "\n",
    "# Maintenant, on peut acceder aux variables de cette façon : x['objet_1']\n"
   ]
  }
 ],
 "metadata": {
  "kernelspec": {
   "display_name": "Python 3",
   "language": "python",
   "name": "python3"
  },
  "language_info": {
   "codemirror_mode": {
    "name": "ipython",
    "version": 3
   },
   "file_extension": ".py",
   "mimetype": "text/x-python",
   "name": "python",
   "nbconvert_exporter": "python",
   "pygments_lexer": "ipython3",
   "version": "3.8.0"
  },
  "orig_nbformat": 4
 },
 "nbformat": 4,
 "nbformat_minor": 2
}
