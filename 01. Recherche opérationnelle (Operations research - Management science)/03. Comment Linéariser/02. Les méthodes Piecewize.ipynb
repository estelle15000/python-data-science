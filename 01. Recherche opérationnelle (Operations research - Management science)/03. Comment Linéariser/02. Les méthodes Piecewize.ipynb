{
 "cells": [
  {
   "attachments": {},
   "cell_type": "markdown",
   "metadata": {},
   "source": [
    "# Les problèmes de type \"Piecewize\"\n",
    "# Qu'est ce que c'est ?\n",
    "# Comment gérer ?\n",
    "\n",
    "A venir ! Mars 2023 !"
   ]
  },
  {
   "cell_type": "code",
   "execution_count": null,
   "metadata": {},
   "outputs": [],
   "source": []
  },
  {
   "cell_type": "code",
   "execution_count": null,
   "metadata": {},
   "outputs": [],
   "source": []
  }
 ],
 "metadata": {
  "language_info": {
   "name": "python"
  },
  "orig_nbformat": 4
 },
 "nbformat": 4,
 "nbformat_minor": 2
}
