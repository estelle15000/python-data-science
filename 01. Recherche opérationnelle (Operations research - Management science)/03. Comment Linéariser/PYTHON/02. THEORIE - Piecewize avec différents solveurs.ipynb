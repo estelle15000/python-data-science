{
 "cells": [
  {
   "attachments": {},
   "cell_type": "markdown",
   "metadata": {},
   "source": [
    "# Optimisation linéaire\n",
    "## Contraintes discontinues et Piecewize avec différents solveurs.\n",
    "\n",
    "## Introduction:\n",
    "Dans ce document, je traite 3 types de coûts dans le cadre d'une optimisation linéaire\n",
    "de type produits mix.\n",
    "- Les coûts additionnels en fonction du nombre d'objets produits\n",
    "- Les coûts discontinus en fonction du nombre d'objets produits ( Discontinuous piecewize)\n",
    "- Les coûts proportionels au nombre d'objets produits appelés les fonctions piecewize.\n",
    "Je résouds avec le solveur Python Cplex.\n",
    "\n",
    "# Sommaire :\n",
    "\n",
    "- Problème pratique de coûts additionnels.\n",
    "- Problème pratique de coûts piecewize discontinus.\n",
    "- Dessiner les coûts discontinus avec Matplot.\n",
    "- Résoudre le Problème pratique discontinu Avec Cplex.\n",
    "- L'exemple de discount pour les cars avec Cplex\n",
    "- Problème pratique de coûts en fonctions piecewize .\n",
    "- Dessiner les contraintes fonctions Piecewize avec Matplot\n",
    "- Résoudre le Problème pratique de fonctions Piecewize Avec Cplex\n",
    "- Résoudre le Problème pratique de fonctions  Piecewize Avec Pulp\n",
    "- Résoudre le Problème pratique de fonctions  Piecewize Avec Gekko\n",
    "- Résoudre le Problème pratique de fonctions  Piecewize Avec Excel\n",
    "- Résoudre le Problème pratique de fonctions  Piecewize Avec Cvxopt\n",
    "\n",
    "\n",
    "!! Création en cours Sujet à de lourdes modifications !!\n",
    "\n",
    "Etude fournie pas Estelle Derrien - Github estelle15000\n",
    "\n"
   ]
  },
  {
   "attachments": {},
   "cell_type": "markdown",
   "metadata": {},
   "source": [
    "# Problème pratique de coûts additionels\n",
    "\n",
    "Mon usine produit 2 objets A et B vendus 30  euros.\n",
    "Le temps machine disponible est de 1000 heures .\n",
    "\n",
    "- Si la production de A > 0, alors le côut de maintenance est de 20\n",
    "- Si la production de A > 200, alors le côut de maintenance est de 30 euros supplémentaires \n",
    "- Si la production de A > 500, alors le côut de maintenance est de 30 euros supplémentaires\n",
    "\n",
    "Il n'y a pas de cout de maintenance pour l'objet b.\n",
    "\n",
    "Rappel : La fonction objectif tient compte des coûts lors de l'optimisation, de ce fait, elle pourra choisir plus d'objets B si elle voit que l'objet A implique plus de coûts.\n",
    "\n",
    "Comme les coûts s'additionnent, on peut utiliser les variables binaires :\n"
   ]
  },
  {
   "cell_type": "code",
   "execution_count": 79,
   "metadata": {},
   "outputs": [
    {
     "name": "stdout",
     "output_type": "stream",
     "text": [
      "a  =  200.0\n",
      "b  =  800.0\n",
      "z  =  1.0\n",
      "k  =  0\n",
      "t  =  0\n",
      "_bool#1  =  1.0\n",
      "_bool#2  =  0\n",
      "_bool#3  =  0\n",
      "solution for: LP_example\n",
      "objective: 29980\n",
      "status: OPTIMAL_SOLUTION(2)\n",
      "a=200\n",
      "b=800\n",
      "z=1\n",
      "\n"
     ]
    }
   ],
   "source": [
    "import cplex\n",
    "import docplex.mp\n",
    "from docplex.mp.model import Model\n",
    "\n",
    "# On crée notre modèle\n",
    "model = Model(name='LP_example')\n",
    "\n",
    "# On crée nos variables de décision\n",
    "a = model.integer_var(name='a')\n",
    "b = model.integer_var(name='b')\n",
    "z = model.binary_var(name='z')\n",
    "k = model.binary_var(name='k')\n",
    "t = model.binary_var(name='t')\n",
    "\n",
    "model.maximize(30 * a + 30 * b - z * 20 - k * 100 - t * 200)\n",
    "\n",
    "# On crée les contraintes\n",
    "model.add_constraint(a + b <= 1000)\n",
    "model.add_constraint(a >= 200)\n",
    "model.add_constraint(b >= 200)\n",
    "\n",
    "\n",
    "model.add_constraint(model.if_then(a >= 0, z == 1))\n",
    "model.add_constraint(model.if_then(a >= 300, k == 1))\n",
    "model.add_constraint(model.if_then(a >= 500, t == 1))\n",
    "\n",
    "\n",
    "\n",
    "\n",
    "model.solve()\n",
    "\n",
    "for v in model.iter_integer_vars():\n",
    "    print(v,\" = \",v.solution_value) \n",
    "\n",
    "for v in model.iter_binary_vars():\n",
    "    print(v,\" = \",v.solution_value) \n",
    "\n",
    "print(model.solution)"
   ]
  },
  {
   "attachments": {},
   "cell_type": "markdown",
   "metadata": {},
   "source": [
    "# Problème pratique de coûts discontinus\n",
    "\n",
    "Mon usine produit 2 objets A et B vendus 30 et 25 euros.\n",
    "Le temps machine disponible est de 1000 heures .\n",
    "\n",
    "- Si la production de A > 0, alors le côut de maintenance est de 20 en tout\n",
    "- Si la production de A > 200, alors le côut de maintenance est de 30 euros en tout\n",
    "- Si la production de A > 500, alors le côut de maintenance est de 50 euros en tout"
   ]
  },
  {
   "attachments": {},
   "cell_type": "markdown",
   "metadata": {},
   "source": [
    "# Dessiner les contraintes conditionnelles discontinues avec Matplot\n",
    "\n",
    "Ibm Cplex appelle ça les contraintes de coût discontinues .\n",
    "\n",
    "Ils ont un exemple ici :\n",
    "https://www.ibm.com/docs/en/icos/20.1.0?topic=expressions-discontinuous-piecewise-linear-functions"
   ]
  },
  {
   "cell_type": "code",
   "execution_count": 80,
   "metadata": {},
   "outputs": [
    {
     "data": {
      "image/png": "[encoded data removed]",
      "text/plain": [
       "<Figure size 640x480 with 1 Axes>"
      ]
     },
     "metadata": {},
     "output_type": "display_data"
    }
   ],
   "source": [
    "# On visualise nos contraintes de type conditionnelles  avec les valeurs réelles de notre problème\n",
    "# Edit, peut-on qualifier ça de piecewize, selon la doc Cplex, c'est du piecewize discontinuous... .\n",
    "import matplotlib.pyplot as plt\n",
    "plt.plot([0, 199, 200, 499,500,1000], [20,20,30, 30, 50 ,50])\n",
    "plt.xlabel('Nombre produits A')\n",
    "plt.ylabel('coût de production en euros')\n",
    "plt.show()"
   ]
  },
  {
   "attachments": {},
   "cell_type": "markdown",
   "metadata": {},
   "source": [
    "# Résoudre le Problème pratique discontinu Avec Cplex\n",
    "\n",
    "Code à contrôler.."
   ]
  },
  {
   "cell_type": "code",
   "execution_count": 84,
   "metadata": {},
   "outputs": [
    {
     "name": "stdout",
     "output_type": "stream",
     "text": [
      "a  =  200.0\n",
      "b  =  800.0\n",
      "solution for: LP_example\n",
      "objective: 27970\n",
      "status: OPTIMAL_SOLUTION(2)\n",
      "a=200\n",
      "b=800\n",
      "\n"
     ]
    }
   ],
   "source": [
    "import cplex\n",
    "import docplex.mp\n",
    "from docplex.mp.model import Model\n",
    "\n",
    "# On crée notre modèle\n",
    "model = Model(name='LP_example')\n",
    "\n",
    "# On crée nos variables de décision\n",
    "a = model.integer_var(name='a')\n",
    "b = model.integer_var(name='b')\n",
    "\n",
    "\n",
    "# On crée les contraintes\n",
    "model.add_constraint(a + b <= 1000)\n",
    "model.add_constraint(a >= 200)\n",
    "model.add_constraint(b >= 200)\n",
    "\n",
    "\n",
    "# Define the piecewise linear function\n",
    "f = model.piecewise(0, [(0, 20), (200, 30), (300, 50)],1)\n",
    "\n",
    "# On maximise moins les coûts provenant de la fonction piecewize f(x)\n",
    "model.maximize(20 * a - f(a) + 30 * b)\n",
    "\n",
    "model.solve()\n",
    "\n",
    "for v in model.iter_integer_vars():\n",
    "    print(v,\" = \",v.solution_value) \n",
    "\n",
    "for v in model.iter_binary_vars():\n",
    "    print(v,\" = \",v.solution_value) \n",
    "\n",
    "print(model.solution)"
   ]
  },
  {
   "attachments": {},
   "cell_type": "markdown",
   "metadata": {},
   "source": [
    "# Exemple du Bus\n",
    "\n",
    "https://github.com/AlexFleischerParis/zoodocplex/blob/master/zoopiecewise.py"
   ]
  },
  {
   "cell_type": "code",
   "execution_count": 82,
   "metadata": {},
   "outputs": [
    {
     "name": "stdout",
     "output_type": "stream",
     "text": [
      "nbBus40  =  0\n",
      "nbBus30  =  10.0\n"
     ]
    },
    {
     "data": {
      "text/plain": [
       "'\\nwhich gives\\nnbBus40  =  0\\nnbBus30  =  10.0\\n'"
      ]
     },
     "execution_count": 82,
     "metadata": {},
     "output_type": "execute_result"
    }
   ],
   "source": [
    "'''\n",
    "let s now deal with a new information : for a given bus size\n",
    "if we take more than 4 then we get a 20% discount\n",
    "This moves our function cost from linear to piecewise linear.\n",
    "'''\n",
    "\n",
    "from docplex.mp.model import Model\n",
    "\n",
    "mdl = Model(name='buses')\n",
    "nbbus40 = mdl.integer_var(name='nbBus40')\n",
    "nbbus30 = mdl.integer_var(name='nbBus30')\n",
    "mdl.add_constraint(nbbus40*40 + nbbus30*30 >= 300, 'kids')\n",
    "\n",
    "#after 4 buses, additional buses of a given size are cheaper\n",
    "f=mdl.piecewise(0, [(0, 0),(4,4)], 0.8)\n",
    "\n",
    "mdl.minimize(f(nbbus40)*500 + f(nbbus30)*400)\n",
    "\n",
    "mdl.solve()\n",
    "\n",
    "for v in mdl.iter_integer_vars():\n",
    "    print(v,\" = \",v.solution_value)\n",
    "\n",
    "'''\n",
    "which gives\n",
    "nbBus40  =  0\n",
    "nbBus30  =  10.0\n",
    "'''"
   ]
  },
  {
   "attachments": {},
   "cell_type": "markdown",
   "metadata": {},
   "source": [
    "# Dessiner les fonctions Piecewize avec Matplot\n",
    "\n",
    "Hypothèse : La différence, avec les contraintes piecewize, c'est que ce sont des fonctions  linéaires qui décrivent l'évolution des coûts et pas des valeurs-seuils fixes.\n",
    "On pourrait imaginer de les affecter dans l'optimisation, en fonction de leurs valeurs \"breaking points\". Reste à voir comment faire dans les solveurs , et si la logique reste valable en comparant avec ce que font les autres.\n",
    "\n",
    "Hypothèse2 : Le but est de switcher en fonction des breaking point, afin que l'optimisation globale reste linéaire.\n",
    "On décompose une fonction convexe en plusieurs parties linéaires selon une méthode précise, voir la documentation.\n",
    "\n",
    "Hypothèse3 : Vu que Gekko est non linéaire, on pourrait même avoir des fonctions non linéaire dans ce système mais ce n'est pas le but( Voir l'optimisation \" Pricing de 1 produit \" ).\n",
    "\n",
    "\n",
    "\n",
    "\n",
    "\n",
    "\n",
    "\n",
    "Voici un exemple, elles peuvent aussi être discontinues comme sur le dessin (Doc Cplex) :"
   ]
  },
  {
   "cell_type": "code",
   "execution_count": 83,
   "metadata": {},
   "outputs": [
    {
     "data": {
      "image/png": "[encoded data removed]",
      "text/plain": [
       "<Figure size 640x480 with 1 Axes>"
      ]
     },
     "metadata": {},
     "output_type": "display_data"
    }
   ],
   "source": [
    "import matplotlib.pyplot as plt\n",
    "import numpy as np\n",
    "x = np.linspace(0,5,100)\n",
    "m = np.linspace(5,10,100)\n",
    "t = np.linspace(10,15,100)\n",
    "y = 2*x+1\n",
    "i = 3*x+5\n",
    "k = -1*x+20\n",
    "plt.plot(x, y, '-r', label='y=2x+1')\n",
    "plt.plot(m, i, '-r', label='i =2x+2')\n",
    "plt.plot(t, k, '-r', label='k =-1x+5')\n",
    "plt.title('Les contraintes PieceWize sont des fonctions linéaires')\n",
    "plt.xlabel('Nombre produits A')\n",
    "plt.ylabel('coût de production en euros')\n",
    "plt.legend(loc='upper left')\n",
    "plt.grid()\n",
    "plt.show()\n",
    "\n"
   ]
  },
  {
   "attachments": {},
   "cell_type": "markdown",
   "metadata": {},
   "source": [
    "# Problème pratique avec Cplex\n",
    "\n",
    "\n",
    "Exemple :\n",
    "https://stackoverflow.com/questions/61947896/using-the-piecewise-function-of-the-ibm-cplex-python-api-but-the-problem-cannot"
   ]
  }
 ],
 "metadata": {
  "kernelspec": {
   "display_name": "Python 3",
   "language": "python",
   "name": "python3"
  },
  "language_info": {
   "codemirror_mode": {
    "name": "ipython",
    "version": 3
   },
   "file_extension": ".py",
   "mimetype": "text/x-python",
   "name": "python",
   "nbconvert_exporter": "python",
   "pygments_lexer": "ipython3",
   "version": "3.8.0"
  },
  "orig_nbformat": 4
 },
 "nbformat": 4,
 "nbformat_minor": 2
}
