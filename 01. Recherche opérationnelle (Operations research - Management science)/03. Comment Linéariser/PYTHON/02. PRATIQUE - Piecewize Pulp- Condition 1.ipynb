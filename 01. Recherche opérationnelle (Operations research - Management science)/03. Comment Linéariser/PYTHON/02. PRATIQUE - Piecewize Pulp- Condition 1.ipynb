{
 "cells": [
  {
   "attachments": {},
   "cell_type": "markdown",
   "metadata": {},
   "source": [
    "# Programmation linéaire \n",
    "# Variables conditionnelles \n",
    "\n",
    "https://medium.com/ibm-data-ai/optimization-simply-do-more-with-less-zoo-buses-and-kids-66940178db6\n",
    "https://stackoverflow.com/questions/59850692/how-to-write-a-conditional-constraint-in-pulp\n",
    "\n"
   ]
  },
  {
   "cell_type": "code",
   "execution_count": 9,
   "metadata": {},
   "outputs": [
    {
     "name": "stdout",
     "output_type": "stream",
     "text": [
      "4560.0\n",
      "Optimal\n",
      "nbBus30 = 2.0\n",
      "nbBus40 = 6.0\n",
      "\n",
      "with if nb buses 40 more than 3  then nbBuses30 more than 7\n",
      "4800.0\n",
      "A = 0.0\n",
      "B = 1.0\n",
      "nbBus30 = 10.0\n",
      "nbBus40 = 0.0\n"
     ]
    }
   ],
   "source": [
    "import pulp\n",
    "\n",
    "\n",
    "bus_problem = pulp.LpProblem(\"bus\", pulp.LpMinimize)\n",
    "\n",
    "nbBus40 = pulp.LpVariable('nbBus40', lowBound=0, cat='Integer')\n",
    "nbBus30 = pulp.LpVariable('nbBus30', lowBound=0, cat='Integer')\n",
    "\n",
    "# Objective function\n",
    "bus_problem += 600 * nbBus40 + 480 * nbBus30, \"cost\"\n",
    "\n",
    "# Constraints\n",
    "bus_problem += 40 * nbBus40 + 30 * nbBus30 >= 300\n",
    "\n",
    "bus_problem.solve()\n",
    "# Print our objective function value\n",
    "print (pulp.value(bus_problem.objective))\n",
    "print(pulp.LpStatus[bus_problem.status])\n",
    "\n",
    "for variable in bus_problem.variables():\n",
    "    print (\"{} = {}\".format(variable.name, variable.varValue))\n",
    "\n",
    "print()\n",
    "print(\"with if nb buses 40 more than 3  then nbBuses30 more than 7\")\n",
    "\n",
    "M=100\n",
    "\n",
    "#if then constraint\n",
    "\n",
    "A = pulp.LpVariable('A', lowBound=0, cat='Binary')\n",
    "B = pulp.LpVariable('B', lowBound=0, cat='Binary')\n",
    "\n",
    "bus_problem += A<=B\n",
    "\n",
    "\n",
    "bus_problem += nbBus40-2<=M*(A)\n",
    "bus_problem +=nbBus40-3>=-M*(1-A)\n",
    "\n",
    "bus_problem +=nbBus30-6<=M*(B)\n",
    "bus_problem +=nbBus30-7>=-M*(1-B)\n",
    "\n",
    "\n",
    "\n",
    "# solve the problem\n",
    "bus_problem.solve()\n",
    " \n",
    "\n",
    "# Print our objective function value\n",
    "print (pulp.value(bus_problem.objective))\n",
    "\n",
    "\n",
    "for v in bus_problem.variables():\n",
    "    print(v.name, \"=\", v.varValue)"
   ]
  },
  {
   "attachments": {},
   "cell_type": "markdown",
   "metadata": {},
   "source": [
    "Le même problème , avec la lib docplex, on voit qu'il entre les contraintes logiques plus facilement."
   ]
  },
  {
   "cell_type": "code",
   "execution_count": 10,
   "metadata": {},
   "outputs": [
    {
     "ename": "DOcplexException",
     "evalue": "Cannot solve model: no CPLEX runtime found.",
     "output_type": "error",
     "traceback": [
      "\u001b[1;31m---------------------------------------------------------------------------\u001b[0m",
      "\u001b[1;31mDOcplexException\u001b[0m                          Traceback (most recent call last)",
      "Cell \u001b[1;32mIn[10], line 9\u001b[0m\n\u001b[0;32m      6\u001b[0m mdl\u001b[39m.\u001b[39madd_constraint(nbbus40\u001b[39m*\u001b[39m\u001b[39m40\u001b[39m \u001b[39m+\u001b[39m nbbus30\u001b[39m*\u001b[39m\u001b[39m30\u001b[39m \u001b[39m>\u001b[39m\u001b[39m=\u001b[39m \u001b[39m300\u001b[39m, \u001b[39m'\u001b[39m\u001b[39mkids\u001b[39m\u001b[39m'\u001b[39m)\n\u001b[0;32m      7\u001b[0m mdl\u001b[39m.\u001b[39mminimize(nbbus40\u001b[39m*\u001b[39m\u001b[39m500\u001b[39m \u001b[39m+\u001b[39m nbbus30\u001b[39m*\u001b[39m\u001b[39m400\u001b[39m)\n\u001b[1;32m----> 9\u001b[0m mdl\u001b[39m.\u001b[39;49msolve()\n\u001b[0;32m     11\u001b[0m \u001b[39mfor\u001b[39;00m v \u001b[39min\u001b[39;00m mdl\u001b[39m.\u001b[39miter_integer_vars():\n\u001b[0;32m     12\u001b[0m    \u001b[39mprint\u001b[39m(v,\u001b[39m\"\u001b[39m\u001b[39m = \u001b[39m\u001b[39m\"\u001b[39m,v\u001b[39m.\u001b[39msolution_value)\n",
      "File \u001b[1;32mc:\\Users\\secretgirl\\AppData\\Local\\Programs\\Python\\Python38\\lib\\site-packages\\docplex\\mp\\model.py:4835\u001b[0m, in \u001b[0;36mModel.solve\u001b[1;34m(self, **kwargs)\u001b[0m\n\u001b[0;32m   4833\u001b[0m     \u001b[39mreturn\u001b[39;00m \u001b[39mself\u001b[39m\u001b[39m.\u001b[39m_solve_local(context, used_clean_before_solve, parameter_sets)\u001b[39m# lex_timelimits, lex_mipgaps)\u001b[39;00m\n\u001b[0;32m   4834\u001b[0m \u001b[39melse\u001b[39;00m:\n\u001b[1;32m-> 4835\u001b[0m     \u001b[39mreturn\u001b[39;00m \u001b[39mself\u001b[39;49m\u001b[39m.\u001b[39;49mfatal(\u001b[39m\"\u001b[39;49m\u001b[39mCannot solve model: no CPLEX runtime found.\u001b[39;49m\u001b[39m\"\u001b[39;49m)\n",
      "File \u001b[1;32mc:\\Users\\secretgirl\\AppData\\Local\\Programs\\Python\\Python38\\lib\\site-packages\\docplex\\mp\\model.py:1080\u001b[0m, in \u001b[0;36mModel.fatal\u001b[1;34m(self, msg, *args)\u001b[0m\n\u001b[0;32m   1079\u001b[0m \u001b[39mdef\u001b[39;00m \u001b[39mfatal\u001b[39m(\u001b[39mself\u001b[39m, msg, \u001b[39m*\u001b[39margs):\n\u001b[1;32m-> 1080\u001b[0m     \u001b[39mself\u001b[39;49m\u001b[39m.\u001b[39;49m_error_handler\u001b[39m.\u001b[39;49mfatal(msg, args)\n",
      "File \u001b[1;32mc:\\Users\\secretgirl\\AppData\\Local\\Programs\\Python\\Python38\\lib\\site-packages\\docplex\\mp\\error_handler.py:210\u001b[0m, in \u001b[0;36mAbstractErrorHandler.fatal\u001b[1;34m(self, msg, args)\u001b[0m\n\u001b[0;32m    208\u001b[0m resolved_message \u001b[39m=\u001b[39m resolve_pattern(msg, args)\n\u001b[0;32m    209\u001b[0m docplex_error_stop_here()\n\u001b[1;32m--> 210\u001b[0m \u001b[39mraise\u001b[39;00m DOcplexException(resolved_message)\n",
      "\u001b[1;31mDOcplexException\u001b[0m: Cannot solve model: no CPLEX runtime found."
     ]
    }
   ],
   "source": [
    "from docplex.mp.model import Model\n",
    "\n",
    "mdl = Model(name='buses')\n",
    "nbbus40 = mdl.integer_var(name='nbBus40')\n",
    "nbbus30 = mdl.integer_var(name='nbBus30')\n",
    "mdl.add_constraint(nbbus40*40 + nbbus30*30 >= 300, 'kids')\n",
    "mdl.minimize(nbbus40*500 + nbbus30*400)\n",
    "\n",
    "mdl.solve()\n",
    "\n",
    "for v in mdl.iter_integer_vars():\n",
    "   print(v,\" = \",v.solution_value)\n",
    "\n",
    "print()\n",
    "print(\"with if nb buses 40 more than 3  then nbBuses30 more than 7\")\n",
    "\n",
    "#if then constraint\n",
    "mdl.add_constraint(mdl.if_then(nbbus40>=3,nbbus30>=7))\n",
    "\n",
    "mdl.minimize(nbbus40*500 + nbbus30*400)\n",
    "\n",
    "mdl.solve()\n",
    "\n",
    "\n",
    "\n",
    "for v in mdl.iter_integer_vars():\n",
    "    print(v,\" = \",v.solution_value)"
   ]
  }
 ],
 "metadata": {
  "kernelspec": {
   "display_name": "Python 3",
   "language": "python",
   "name": "python3"
  },
  "language_info": {
   "codemirror_mode": {
    "name": "ipython",
    "version": 3
   },
   "file_extension": ".py",
   "mimetype": "text/x-python",
   "name": "python",
   "nbconvert_exporter": "python",
   "pygments_lexer": "ipython3",
   "version": "3.8.0"
  },
  "orig_nbformat": 4
 },
 "nbformat": 4,
 "nbformat_minor": 2
}
