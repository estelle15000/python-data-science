{
 "cells": [
  {
   "attachments": {},
   "cell_type": "markdown",
   "metadata": {},
   "source": [
    "# Comment linéariser ?\n",
    "\n",
    "# Introduction\n",
    "\n",
    "Traduction du cours de Taiwan University - Operations research - Coursera\n",
    "\n",
    "Ling-Chieh Kung\n",
    "\n",
    "Semaine 4 - Comment linéariser.\n",
    "\n",
    "Ajout de tests perso avec les solveurs.\n",
    "\n",
    "Etude fournie par Estelle Derrien - Github estelle15000\n",
    "\n",
    "!! Création en cours !!\n",
    "\n",
    "Lien : https://www.coursera.org/learn/operations-research-modeling/lecture/UHdtK/4-7-linearizing-max-min-functions"
   ]
  },
  {
   "attachments": {},
   "cell_type": "markdown",
   "metadata": {},
   "source": [
    "# Sommaire\n",
    "\n",
    "1. Premier exemple de linéarisation.\n",
    "2. Linéariser la fonction objectif."
   ]
  },
  {
   "attachments": {},
   "cell_type": "markdown",
   "metadata": {},
   "source": [
    "# 1. Premier exemple de linéarisation.\n",
    "\n",
    "Supposons que nous souhaitons partager 1000$ entre 2 personnes de façon équitable.\n",
    "On adopte cette méthode : plus petite est la différence entre les 2 montants, plus c'est équitable.\n",
    "De totues évidence, la réponse est 500$\n",
    "Pourrait-on créer un programme linéaire pour résoudre ce problème ?"
   ]
  },
  {
   "cell_type": "code",
   "execution_count": 7,
   "metadata": {},
   "outputs": [],
   "source": [
    "# A VENIR JUIN 2023 !!!"
   ]
  }
 ],
 "metadata": {
  "kernelspec": {
   "display_name": "Python 3",
   "language": "python",
   "name": "python3"
  },
  "language_info": {
   "codemirror_mode": {
    "name": "ipython",
    "version": 3
   },
   "file_extension": ".py",
   "mimetype": "text/x-python",
   "name": "python",
   "nbconvert_exporter": "python",
   "pygments_lexer": "ipython3",
   "version": "3.8.0"
  },
  "orig_nbformat": 4
 },
 "nbformat": 4,
 "nbformat_minor": 2
}
