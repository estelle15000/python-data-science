{
 "cells": [
  {
   "attachments": {},
   "cell_type": "markdown",
   "metadata": {},
   "source": [
    "# Comment linéariser ?\n",
    "\n",
    "# Introduction\n",
    "\n",
    "Traduction du cours de Taiwan University - Operations research - Coursera\n",
    "\n",
    "Ling-Chieh Kung\n",
    "\n",
    "Semaine 4 - Comment linéariser.\n",
    "\n",
    "Ajout de tests perso avec les solveurs.\n",
    "\n",
    "Etude fournie par Estelle Derrien - Github estelle15000\n",
    "\n",
    "!! Création en cours !!\n",
    "\n",
    "Lien : https://www.coursera.org/learn/operations-research-modeling/lecture/UHdtK/4-7-linearizing-max-min-functions"
   ]
  },
  {
   "attachments": {},
   "cell_type": "markdown",
   "metadata": {},
   "source": [
    "# Sommaire\n",
    "\n",
    "1. Exemple : linéariser une fonction de valeur absolue.\n",
    "2. Linéariser la fonction objectif."
   ]
  },
  {
   "attachments": {},
   "cell_type": "markdown",
   "metadata": {},
   "source": [
    "# 1. Exemple : linéariser une fonction de valeur absolue.\n",
    "\n",
    "Supposons que nous souhaitons partager 1000$ entre 2 personnes de façon équitable.\n",
    "\n",
    "On adopte cette méthode : plus petite est la différence entre les 2 montants, plus c'est équitable.\n",
    "\n",
    "De toutes évidence, la réponse est 500$.\n",
    "\n",
    "Pourrait-on créer un programme linéaire pour résoudre ce problème ?\n",
    "\n",
    "Si on modélise comme ça :\n",
    "\n",
    "- min (x2 - x1)\n",
    "- s.t\n",
    "- x1 + x2 = 1000\n",
    "- xi >= 0 ∀i = 1,2\n",
    "\n",
    "ca ne va pas, par ce que le résultat de la fonction objectif sera - 1000 car elle est minimisée\n",
    "x1 sera = à 1000 et x2 à 0.\n",
    "\n",
    "Si on modélise comme ça avec la fonction absolue, on pourrait se dire que cela va forcer la positivité:\n",
    "\n",
    "- min |(x2 - x1)|\n",
    "- s.t\n",
    "- x1 + x2 = 1000\n",
    "- xi >= 0 ∀i = 1,2\n",
    "\n",
    "Mais cela ne va pas parce que la fonction est alors non linéaire. \n",
    "\n",
    "\n",
    "\n",
    "\n",
    "\n"
   ]
  },
  {
   "cell_type": "code",
   "execution_count": 11,
   "metadata": {},
   "outputs": [],
   "source": [
    "# A VENIR JUIN 2023 !!!"
   ]
  }
 ],
 "metadata": {
  "kernelspec": {
   "display_name": "Python 3",
   "language": "python",
   "name": "python3"
  },
  "language_info": {
   "codemirror_mode": {
    "name": "ipython",
    "version": 3
   },
   "file_extension": ".py",
   "mimetype": "text/x-python",
   "name": "python",
   "nbconvert_exporter": "python",
   "pygments_lexer": "ipython3",
   "version": "3.8.0"
  },
  "orig_nbformat": 4
 },
 "nbformat": 4,
 "nbformat_minor": 2
}
