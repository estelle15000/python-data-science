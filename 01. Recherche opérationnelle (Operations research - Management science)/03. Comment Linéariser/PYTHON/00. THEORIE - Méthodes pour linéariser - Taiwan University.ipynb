{
 "cells": [
  {
   "attachments": {},
   "cell_type": "markdown",
   "metadata": {},
   "source": [
    "# Comment linéariser ?\n",
    "\n",
    "# Introduction\n",
    "\n",
    "Traduction du cours de Taiwan University - Operations research - Coursera\n",
    "\n",
    "de Ling-Chieh Kung\n",
    "\n",
    "Semaine 4 - Comment linéariser.\n",
    "\n",
    "Ajout de tests perso avec les solveurs.\n",
    "\n",
    "Etude fournie par Estelle Derrien - Github estelle15000\n",
    "\n",
    "!! Création en cours !!\n",
    "\n",
    "Lien : https://www.coursera.org/learn/operations-research-modeling/lecture/UHdtK/4-7-linearizing-max-min-functions"
   ]
  },
  {
   "attachments": {},
   "cell_type": "markdown",
   "metadata": {},
   "source": [
    "# Sommaire\n",
    "\n",
    "0. Rappel : Quand la non linéarité apparait-elle ?\n",
    "1. Exemple : linéariser une fonction de valeur absolue.\n",
    "2. Linéariser les contraintes.\n",
    "3. Linéariser la fonction objectif.\n",
    "4. Linéariser la multiplication de 2 variables de décision."
   ]
  },
  {
   "attachments": {},
   "cell_type": "markdown",
   "metadata": {},
   "source": [
    "# 0. Rappel : Quand la non linéarité apparait-elle ?\n",
    "\n",
    "Prenons ce P.N.L, on voit que des coût sont soustraits si la variable binaire z est = à 1.\n",
    "\n",
    "- max 50 z - ( 10 x1 + 12 x2 )z \n",
    "- s.t\n",
    "- 2x1 + x2 >= 6\n",
    "- x1 + 2x2 >= 8\n",
    "- x1,x2 >= 0 \n",
    "- z ∈ {0,1}\n",
    "\n",
    "On ne le voit pas trop, mais la non linéarité apparait parce que 10x1 et 12x2 sont mulitpliés par z.\n",
    "Autrement dit, dès que 2 variables de décisions sont multipliées, on trouve un cas de non linéarité, <b> même si ce sont 2 variables de décision différentes.</b>\n"
   ]
  },
  {
   "attachments": {},
   "cell_type": "markdown",
   "metadata": {},
   "source": [
    "# 1. Exemple : linéariser une fonction de valeur absolue.\n",
    "\n",
    "Supposons que nous souhaitons partager 1000$ entre 2 personnes de façon équitable.\n",
    "\n",
    "On adopte cette méthode : plus petite est la différence entre les 2 montants, plus c'est équitable.\n",
    "\n",
    "De toutes évidence, la réponse est 500$.\n",
    "\n",
    "Pourrait-on créer un programme linéaire pour résoudre ce problème ?\n",
    "\n",
    "Si on modélise comme ça :\n",
    "\n",
    "- min (x2 - x1)\n",
    "- s.t\n",
    "- x1 + x2 = 1000\n",
    "- xi >= 0 ∀i = 1,2\n",
    "\n",
    "ca ne va pas, par ce que le résultat de la fonction objectif sera - 1000 car elle est minimisée\n",
    "x1 sera = à 1000 et x2 à 0.\n",
    "\n",
    "Si on modélise comme ça avec la fonction absolue, on pourrait se dire que cela va forcer la positivité:\n",
    "\n",
    "- min |(x2 - x1)|\n",
    "- s.t\n",
    "- x1 + x2 = 1000\n",
    "- xi >= 0 ∀i = 1,2\n",
    "\n",
    "Mais cela ne va pas parce que la fonction est alors non linéaire. \n",
    "\n",
    "On sait que |x2 - x1| = max{x2 - x1, x1 - x2}\n",
    "et w >=  max{x2 - x1, x1 - x2} <=> w >= x2 - x1 et w >= x1 - x2\n",
    "\n",
    "On peut donc réécrire le p.l :\n",
    "- min w\n",
    "- s.t\n",
    "- w >= x2 - x1\n",
    "- w >= x1 - x2\n",
    "- x1 + x2 = 1000\n",
    "- xi >= 0 ∀i = 1,2\n",
    "\n",
    "\n",
    "\n",
    "\n",
    "\n",
    "\n"
   ]
  },
  {
   "attachments": {},
   "cell_type": "markdown",
   "metadata": {},
   "source": [
    "# Linéariser la fonction objectif.\n",
    "\n"
   ]
  },
  {
   "cell_type": "code",
   "execution_count": 15,
   "metadata": {},
   "outputs": [],
   "source": [
    "# A VENIR JUIN 2023 !!!"
   ]
  }
 ],
 "metadata": {
  "kernelspec": {
   "display_name": "Python 3",
   "language": "python",
   "name": "python3"
  },
  "language_info": {
   "codemirror_mode": {
    "name": "ipython",
    "version": 3
   },
   "file_extension": ".py",
   "mimetype": "text/x-python",
   "name": "python",
   "nbconvert_exporter": "python",
   "pygments_lexer": "ipython3",
   "version": "3.8.0"
  },
  "orig_nbformat": 4
 },
 "nbformat": 4,
 "nbformat_minor": 2
}
