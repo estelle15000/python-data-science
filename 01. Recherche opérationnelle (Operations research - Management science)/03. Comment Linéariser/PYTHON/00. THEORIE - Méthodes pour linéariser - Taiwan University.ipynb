{
 "cells": [
  {
   "attachments": {},
   "cell_type": "markdown",
   "metadata": {},
   "source": [
    "# Comment linéariser ?\n",
    "\n",
    "Traduction du cours de Taiwan University - Operations research - Coursera\n",
    "\n",
    "Ling-Chieh Kung\n",
    "\n",
    "Semaine 4 - Comment linéariser.\n",
    "\n",
    "Ajout perso de tests avec les solveurs.\n",
    "\n",
    "Etude fournie par Estelle Derrien - Github 15000"
   ]
  },
  {
   "attachments": {},
   "cell_type": "markdown",
   "metadata": {},
   "source": [
    "# 1. Linéariser la fonction objectif"
   ]
  },
  {
   "cell_type": "code",
   "execution_count": 1,
   "metadata": {},
   "outputs": [],
   "source": [
    "# A VENIR JUIN 2023 !!!"
   ]
  }
 ],
 "metadata": {
  "kernelspec": {
   "display_name": "Python 3",
   "language": "python",
   "name": "python3"
  },
  "language_info": {
   "codemirror_mode": {
    "name": "ipython",
    "version": 3
   },
   "file_extension": ".py",
   "mimetype": "text/x-python",
   "name": "python",
   "nbconvert_exporter": "python",
   "pygments_lexer": "ipython3",
   "version": "3.8.0"
  },
  "orig_nbformat": 4
 },
 "nbformat": 4,
 "nbformat_minor": 2
}
