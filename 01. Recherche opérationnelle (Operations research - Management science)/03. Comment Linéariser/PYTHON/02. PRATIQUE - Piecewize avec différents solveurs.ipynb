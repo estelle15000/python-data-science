{
 "cells": [
  {
   "attachments": {},
   "cell_type": "markdown",
   "metadata": {},
   "source": [
    "# Piecewize avec différents solveurs.\n",
    "\n",
    "# Sommaire :\n",
    "\n",
    "- Description du problème\n",
    "- Avec Cplex\n",
    "- Avec Pulp\n",
    "- Avec Gekko"
   ]
  },
  {
   "attachments": {},
   "cell_type": "markdown",
   "metadata": {},
   "source": [
    "# Description du Problème.\n",
    "\n",
    "Mon usine produit 2 objets A et B.\n",
    "\n",
    "Si la production de A > 100, alors le côut est de 20\n",
    "Si la production de A > 200, alors le côut est de 30\n",
    "Si la production de A > 300, alors le côut est de 50\n",
    "\n",
    "On reconnait là un problème de type piecewize avec des lignes de ce type :\n",
    "\n",
    "<img src =\"img/piecewize.png\"></img>\n"
   ]
  },
  {
   "cell_type": "code",
   "execution_count": null,
   "metadata": {},
   "outputs": [],
   "source": []
  }
 ],
 "metadata": {
  "kernelspec": {
   "display_name": "Python 3",
   "language": "python",
   "name": "python3"
  },
  "language_info": {
   "codemirror_mode": {
    "name": "ipython",
    "version": 3
   },
   "file_extension": ".py",
   "mimetype": "text/x-python",
   "name": "python",
   "nbconvert_exporter": "python",
   "pygments_lexer": "ipython3",
   "version": "3.8.0"
  },
  "orig_nbformat": 4
 },
 "nbformat": 4,
 "nbformat_minor": 2
}
