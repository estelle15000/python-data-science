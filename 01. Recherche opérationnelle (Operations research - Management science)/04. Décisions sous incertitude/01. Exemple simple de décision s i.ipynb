{
 "cells": [
  {
   "attachments": {},
   "cell_type": "markdown",
   "metadata": {},
   "source": [
    "# Décisions sous incertitude"
   ]
  },
  {
   "attachments": {},
   "cell_type": "markdown",
   "metadata": {},
   "source": [
    "Conditions : \n",
    "1. Un problème a été identifié qui nécessite une solution.\n",
    "2. Un certain nombre de décisions possibles ont été identifiées.\n",
    "3. Chaque décision mène à un certain nombre de résultats possibles.\n",
    "4. Il existe une incertitude quant au résultat qui se produira et les probabilités des résultats possibles sont évaluées.\n",
    "5. Pour chaque décision et chaque résultat possible, un gain est reçu ou un coût est\n",
    "encouru.\n",
    "6. Une « meilleure » décision doit être choisie à l'aide d'un critère de décision approprié."
   ]
  },
  {
   "attachments": {},
   "cell_type": "markdown",
   "metadata": {},
   "source": [
    "L'EMV  - Expected monetary value , en anglais :\n",
    "\n",
    "La valeur monétaire attendue (EMV) d'une décision est la valeur moyenne à long terme du résultat de cette décision.\n",
    "\n",
    "\n",
    "La valeur monétaire attendue, ou EMV, pour toute décision est une moyenne pondérée de la\n",
    "gains possibles pour cette décision, pondérés par les probabilités des résultats. En utilisantle critère EMV, vous choisissez la décision avec la plus grande EMV. C'est parfois appelé \"jouer les moyennes\".\n"
   ]
  },
  {
   "attachments": {},
   "cell_type": "markdown",
   "metadata": {},
   "source": [
    "Comment calculer l'EMV ?\n",
    "\n",
    "On a le choix entre 2 décisions :\n",
    "\n",
    "La décision 1 a une probabilité de rapporter 8000 pour 0.1 (10%), une probabilité de rapporter 1000 de 0.3 (30%) et une probabilité de faire perdre 250 pour 0.6 (60%)\n",
    "\n",
    "La décision 2 a une probabilité de rapporter 4000 pour 0.6 (60%) et une probabilité de faire perdre 1000 pour 0.4 (40%)\n",
    "\n",
    "On calcule :\n",
    "■ Decision 1: EMV 8000(0.1) + 1000(0.3) + (-250)(0.6)   = 950 euros\n",
    "■ Decision 2: EMV 4000(0.6) + (-1000)(0.4)   = $2600 = 2000 euros\n",
    "\n",
    "On choisit donc l'option de décison 2"
   ]
  },
  {
   "cell_type": "code",
   "execution_count": null,
   "metadata": {},
   "outputs": [],
   "source": []
  }
 ],
 "metadata": {
  "kernelspec": {
   "display_name": "Python 3",
   "language": "python",
   "name": "python3"
  },
  "language_info": {
   "codemirror_mode": {
    "name": "ipython",
    "version": 3
   },
   "file_extension": ".py",
   "mimetype": "text/x-python",
   "name": "python",
   "nbconvert_exporter": "python",
   "pygments_lexer": "ipython3",
   "version": "3.8.0"
  },
  "orig_nbformat": 4,
  "vscode": {
   "interpreter": {
    "hash": "edb60928ae049011e12e2dc43646b5515922153b602d9d974a622a5d486bbfcc"
   }
  }
 },
 "nbformat": 4,
 "nbformat_minor": 2
}
