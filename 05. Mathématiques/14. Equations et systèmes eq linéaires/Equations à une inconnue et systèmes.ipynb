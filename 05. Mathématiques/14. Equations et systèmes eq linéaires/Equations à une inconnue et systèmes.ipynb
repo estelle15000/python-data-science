{
 "cells": [
  {
   "cell_type": "markdown",
   "metadata": {},
   "source": [
    "## Equations à une inconnue et systèmes d'équations linéaires avec Python"
   ]
  },
  {
   "cell_type": "code",
   "execution_count": null,
   "metadata": {},
   "outputs": [],
   "source": [
    "## A venir\n",
    "\n",
    "## Liens : https://www.tresfacile.net/solution-exercice-8-resoudre-systeme-dequations-avec-sympy-python/\n",
    "## https://pierreproulx.espaceweb.usherbrooke.ca/notebooks/python_2.html"
   ]
  }
 ],
 "metadata": {
  "language_info": {
   "name": "python"
  }
 },
 "nbformat": 4,
 "nbformat_minor": 2
}
