{
 "cells": [
  {
   "cell_type": "markdown",
   "metadata": {},
   "source": [
    "# Equations différentielles en python\n",
    "\n",
    "## Introduction\n",
    "\n",
    "Une équation différentielle permet de décrire et analyser des systèmes dynamiques, et non statiques.\n",
    "C'est à dire des systèmes en mouvement.\n",
    "Une equation différentielle est une équation dont l'inconnue est une fonction.\n",
    "On a une ou des solutions qui évoluent en fonction du temps quand on débute, pour comprendre.\n",
    "Mais ensuite, ça peut être \"en fonction\" d'autre chose.\n",
    "\n",
    "<div style=\"text-align:center\">\n",
    "<img src=\"img/intro.jpg\">\n",
    "</div>\n",
    "\n",
    "Notebook réalisé par Github Estelle Derrien\n",
    "\n",
    "## Sommaire:\n",
    "\n",
    "\n",
    "- <b>Introduction.</b>\n",
    "\n",
    "1. <b><span style=\"color:maroon\">Résoudre une équation différentielle d'ordre 1 ->  y' = f</span></b> \n",
    "\n",
    "    - <b>y' = 2x</b>\n",
    "        - Solution Graphique\n",
    "        - Solution Symbolique\n",
    "\n",
    "2. <b><span style=\"color:maroon\">Résoudre une équation différentielle d'ordre 1 sans second membre -> y' = ay</span></b> \n",
    "    \n",
    "\n",
    "    - <b>y' = 2y</b>\n",
    "        - Solution Graphique\n",
    "        - Solution Symbolique\n",
    "\n",
    "    -  <b>5y’ + 2y = 0</b>\n",
    "        - Solution Symbolique\n",
    "            - Déterminer la solution générale de cette équation avec Sympy\n",
    "            - Déterminer l’unique solution de l’équation telle que y(1) = 3 avec Sympy\n",
    "\n",
    "    - <b>3y' + 5y = 0</b>\n",
    "        - Solution Symbolique\n",
    "            - Déterminer la solution générale de cette équation avec Sympy\n",
    "            - Déterminer l’unique solution de l’équation telle que 𝑓(1) = 2 avec Sympy\n",
    "\n",
    "    - <b>Le problème de Chauchy</b>\n",
    "        - Solution Graphique\n",
    "        - Solution Symbolique\n",
    "\n",
    "    - <b>Des sin et des cos</b>\n",
    "        - Solution Graphique\n",
    "        - Solution Symbolique \n",
    "\n",
    "    - <b>Cas pratique 1 : Croissance de population basique</b>\n",
    "        - Graphiquement.\n",
    "        - Solution Symbolique\n",
    "    \n",
    "    - <b>Cas pratique 1b : Croissance de population logistique</b>\n",
    "        - Graphiquement.\n",
    "        - Solution Symbolique\n",
    "\n",
    "    - <b>Cas pratique 2 : Transfert thermique</b>\n",
    "        - Solution Graphique\n",
    "        - Solution Symbolique\n",
    "\n",
    "    - <b>Cas pratique 3 : Finances - L'évolution d'un avoir placé à intérêts composés à taux fixe.</b>\n",
    "        - Solution Graphique\n",
    "        - Solution Symbolique\n",
    "        \n",
    "    - <b>Cas pratique 4 : Taux de salinité en reservoir percé</b>\n",
    "        - Solution Graphique\n",
    "        - Solution Symbolique\n",
    "\n",
    "3. <span style=\"color:maroon\"><b>Résoudre une équation différentielle d'ordre 1 avec second membre constant -> y' = ax + b </b></span>\n",
    "\n",
    "    - <b>Exemple 2A : </b>\n",
    "        - Solution Graphique\n",
    "        - Solution Symbolique \n",
    "\n",
    "4. <span style=\"color:maroon\"><b>Résoudre une équation différentielle d'ordre 2 -></b></span>\n",
    "\n",
    "    - <b>Exemple 3A</b>\n",
    "        - Solution Graphique\n",
    "        - Solution Symbolique\n",
    "\n",
    "    - <b>Exemple 3B</b>\n",
    "        - Solution Graphique\n",
    "        - Solution Symbolique \n",
    "\n",
    "5. <span style color=\"maroon\"><b>Annexes.  Résoudre numériquement une Eq Diff exprimée symboliquement</b></span>\n",
    "    - La méthode avec lambdify\n",
    "    - https://docs.sympy.org/latest/guides/solving/solve-ode.html"
   ]
  },
  {
   "cell_type": "markdown",
   "metadata": {},
   "source": []
  },
  {
   "cell_type": "markdown",
   "metadata": {},
   "source": [
    "-------------------------------------------------------------------------------------------------------"
   ]
  },
  {
   "cell_type": "markdown",
   "metadata": {},
   "source": [
    "# <span style=\"color:maroon\"> <b>1. Résoudre une équation diff d'ordre 1 -> y' = f</b> </span>"
   ]
  },
  {
   "cell_type": "markdown",
   "metadata": {},
   "source": [
    "\n",
    "## <strong><span style=\"color:red\"> y'=2x<span></strong>\n",
    "\n",
    "\n",
    "\" On a une fonction dont la dérivée est égale à 2 fois la variable x\"\n",
    "\n",
    "\" L’inconnue est la fonction 𝑦 dont la dérivée est égale à 2x \" \n",
    "\n",
    "Lien : https://www.youtube.com/watch?v=qHF5kiDFkW8\n",
    "\n"
   ]
  },
  {
   "cell_type": "markdown",
   "metadata": {},
   "source": [
    "## Solution Graphique "
   ]
  },
  {
   "cell_type": "code",
   "execution_count": 1,
   "metadata": {},
   "outputs": [],
   "source": [
    "# Import des libs\n",
    "from scipy import *\n",
    "from scipy.integrate import odeint #Pour résoudre l’équation différentielle\n",
    "import matplotlib.pyplot as plt # Permet de tracer des graphes\n",
    "import numpy as np\n",
    "from math import *"
   ]
  },
  {
   "cell_type": "code",
   "execution_count": 2,
   "metadata": {},
   "outputs": [
    {
     "data": {
      "image/png": "[encoded data removed]",
      "text/plain": [
       "<Figure size 640x480 with 1 Axes>"
      ]
     },
     "metadata": {},
     "output_type": "display_data"
    }
   ],
   "source": [
    "# Equation\n",
    "def deriv (y,x) :\n",
    "    return 2 * x\n",
    "\n",
    "# Choix de l’ intervalle d’intégration\n",
    "x0 = 0\n",
    "xmax = 20\n",
    "npoints = 1000\n",
    "x = np.linspace ( x0 , xmax , npoints )\n",
    "\n",
    "# Condition initiale\n",
    "y0 = 1\n",
    "\n",
    "solution = odeint ( deriv , y0 , x )\n",
    "y = solution [ : , 0 ]\n",
    "\n",
    "plt.plot ( x , y )\n",
    "plt.show ( )"
   ]
  },
  {
   "cell_type": "markdown",
   "metadata": {},
   "source": [
    "## Solution symbolique\n",
    "\n",
    "## Etape 1 : Entrer l'eq diff dans Sympy\n",
    "\n",
    "Ca permet à Sympy d'interpréter l'eq diff."
   ]
  },
  {
   "cell_type": "code",
   "execution_count": 3,
   "metadata": {},
   "outputs": [
    {
     "data": {
      "text/latex": [
       "$\\displaystyle \\frac{d}{d x} y{\\left(x \\right)} = 2 x$"
      ],
      "text/plain": [
       "Eq(Derivative(y(x), x), 2*x)"
      ]
     },
     "metadata": {},
     "output_type": "display_data"
    }
   ],
   "source": [
    "from sympy import Function, dsolve, Eq, Derivative, sin, cos, symbols\n",
    "from sympy.abc import x\n",
    "import sympy\n",
    "\n",
    "x   = sympy.Symbol('x')\n",
    "y   = sympy.Function('y')\n",
    "\n",
    "left  = sympy.diff(y(x),x)\n",
    "\n",
    "right = 2 * x\n",
    "\n",
    "edo = sympy.Eq( left , right )\n",
    "display(edo)"
   ]
  },
  {
   "cell_type": "markdown",
   "metadata": {},
   "source": [
    "## Etape 2 : Calculer la solution générale\n",
    "\n",
    "On calcule les fonctions solution de l'eq diff.\n",
    "On trouve bien la même solution que Yvan Monka."
   ]
  },
  {
   "cell_type": "code",
   "execution_count": 4,
   "metadata": {},
   "outputs": [
    {
     "data": {
      "text/latex": [
       "$\\displaystyle y{\\left(x \\right)} = C_{1} + x^{2}$"
      ],
      "text/plain": [
       "Eq(y(x), C1 + x**2)"
      ]
     },
     "metadata": {},
     "output_type": "display_data"
    }
   ],
   "source": [
    "solgen = sympy.dsolve(edo,y(x)) \n",
    "display(solgen)"
   ]
  },
  {
   "cell_type": "markdown",
   "metadata": {},
   "source": [
    "-------------------------------------------------------------------------------------------------------"
   ]
  },
  {
   "cell_type": "markdown",
   "metadata": {},
   "source": [
    "# <b><span style=\"color:maroon\">2. Résoudre une équation différentielle d'ordre 1 sans second membre -> y' = ay</span></b> "
   ]
  },
  {
   "cell_type": "markdown",
   "metadata": {},
   "source": [
    "## <strong><span style=\"color:red\"> y'=2y<span></strong>\n",
    "\n",
    "\" La dérivée de la fonction y est égale à 2 fois la fonction y\"\n",
    "\n",
    "Lien : https://www.youtube.com/watch?v=qHF5kiDFkW8\n",
    "Lien : https://www.maths-et-tiques.fr/telech/20Prim-EdTC.pdf"
   ]
  },
  {
   "cell_type": "markdown",
   "metadata": {},
   "source": [
    "## Solution Graphique "
   ]
  },
  {
   "cell_type": "code",
   "execution_count": 5,
   "metadata": {},
   "outputs": [],
   "source": [
    "# Import des libs\n",
    "from scipy import *\n",
    "from scipy.integrate import odeint #Pour résoudre l’équation différentielle\n",
    "import matplotlib.pyplot as plt # Permet de tracer des graphes\n",
    "import numpy as np\n",
    "from math import *"
   ]
  },
  {
   "cell_type": "code",
   "execution_count": 6,
   "metadata": {},
   "outputs": [
    {
     "data": {
      "image/png": "[encoded data removed]",
      "text/plain": [
       "<Figure size 640x480 with 1 Axes>"
      ]
     },
     "metadata": {},
     "output_type": "display_data"
    }
   ],
   "source": [
    "# Equation\n",
    "def deriv (y,x) :\n",
    "    return 2 * y\n",
    "\n",
    "# Choix de l’ intervalle d’intégration\n",
    "x0 = 0\n",
    "xmax = 20\n",
    "npoints = 1000\n",
    "x = np.linspace ( x0 , xmax , npoints )\n",
    "\n",
    "# Condition initiale\n",
    "y0 = 1 # y(x0) = y0\n",
    "\n",
    "solution = odeint ( deriv , y0 , x )\n",
    "y = solution [ : , 0 ]\n",
    "\n",
    "plt.plot ( x , y )\n",
    "plt.show ( )"
   ]
  },
  {
   "cell_type": "markdown",
   "metadata": {},
   "source": [
    "## Solution symbolique\n",
    "\n",
    "## Etape 1 : Entrer l'eq diff dans Sympy"
   ]
  },
  {
   "cell_type": "code",
   "execution_count": 7,
   "metadata": {},
   "outputs": [
    {
     "data": {
      "text/latex": [
       "$\\displaystyle \\frac{d}{d x} y{\\left(x \\right)} = 2 y{\\left(x \\right)}$"
      ],
      "text/plain": [
       "Eq(Derivative(y(x), x), 2*y(x))"
      ]
     },
     "metadata": {},
     "output_type": "display_data"
    }
   ],
   "source": [
    "from sympy import Function, dsolve, Eq, Derivative, sin, cos, symbols\n",
    "from sympy.abc import x\n",
    "import sympy\n",
    "\n",
    "x   = sympy.Symbol('x')\n",
    "y   = sympy.Function('y')\n",
    "\n",
    "left  = sympy.diff(y(x),x)\n",
    "\n",
    "right = 2 * y(x)\n",
    "\n",
    "edo = sympy.Eq( left , right )\n",
    "display(edo)"
   ]
  },
  {
   "cell_type": "markdown",
   "metadata": {},
   "source": [
    "## Etape 2 : Calcul de la Solution générale\n",
    "\n",
    "L'equation différentielle est au format y' = ay\n",
    "\n",
    "On trouve bien la même solution que Yvan Monka.\n",
    "\n",
    "Les solutions de l'equation différentielle sont les fonctions suivantes:"
   ]
  },
  {
   "cell_type": "code",
   "execution_count": 8,
   "metadata": {},
   "outputs": [
    {
     "data": {
      "text/latex": [
       "$\\displaystyle y{\\left(x \\right)} = C_{1} e^{2 x}$"
      ],
      "text/plain": [
       "Eq(y(x), C1*exp(2*x))"
      ]
     },
     "metadata": {},
     "output_type": "display_data"
    }
   ],
   "source": [
    "solgen = sympy.dsolve(edo,y(x)) \n",
    "display(solgen)"
   ]
  },
  {
   "cell_type": "markdown",
   "metadata": {},
   "source": [
    "-------------------------------------------------------------------------------------------------------"
   ]
  },
  {
   "cell_type": "markdown",
   "metadata": {},
   "source": [
    "## <strong><span style=\"color:red\">5y' + 2y =0<span></strong>\n",
    "\n",
    "Lien :  https://www.letudiant.fr/lycee/methodologie-lycee/article/equations-differentielles-entrainez-vous-avec-nos-exercices-corriges.html\n",
    "\n",
    "<center><img src=\"img/pb.png\"></center>"
   ]
  },
  {
   "cell_type": "markdown",
   "metadata": {},
   "source": [
    "## Déterminer la solution générale de cette équation avec Sympy\n",
    "\n",
    "\n",
    "\n",
    "On la mets d'abord au format \"standard\" avec la dérivée à gauche : \n",
    "\n",
    "\\begin{cases}\n",
    "y'= -2 * y / 5\n",
    "\\end{cases}"
   ]
  },
  {
   "cell_type": "markdown",
   "metadata": {},
   "source": [
    "## Etape 1 : Entrer l'eq diff dans Sympy"
   ]
  },
  {
   "cell_type": "code",
   "execution_count": 9,
   "metadata": {},
   "outputs": [
    {
     "data": {
      "text/latex": [
       "$\\displaystyle \\frac{d}{d x} y{\\left(x \\right)} = - \\frac{2 y{\\left(x \\right)}}{5}$"
      ],
      "text/plain": [
       "Eq(Derivative(y(x), x), -2*y(x)/5)"
      ]
     },
     "metadata": {},
     "output_type": "display_data"
    }
   ],
   "source": [
    "from sympy import Function, dsolve, Eq, Derivative, sin, cos, symbols\n",
    "from sympy.abc import x\n",
    "import sympy\n",
    "\n",
    "x   = sympy.Symbol('x')\n",
    "y   = sympy.Function('y')\n",
    "\n",
    "left  = sympy.diff(y(x),x)\n",
    "\n",
    "right = -2 * y(x) / 5 # La fonction y s'écrit y(x)\n",
    "\n",
    "edo = sympy.Eq( left , right )\n",
    "display(edo)"
   ]
  },
  {
   "cell_type": "markdown",
   "metadata": {},
   "source": [
    "## Etape 2 : Calcul de la Solution générale\n",
    "\n",
    "L’ensemble des solutions s’écrit sous la forme yc(x) = Ce *a.x , C appartient à R\n",
    "On trouve bien la même solution que dans le magazine l'étudiant.\n"
   ]
  },
  {
   "cell_type": "code",
   "execution_count": 10,
   "metadata": {},
   "outputs": [
    {
     "data": {
      "text/latex": [
       "$\\displaystyle y{\\left(x \\right)} = C_{1} e^{- \\frac{2 x}{5}}$"
      ],
      "text/plain": [
       "Eq(y(x), C1*exp(-2*x/5))"
      ]
     },
     "metadata": {},
     "output_type": "display_data"
    }
   ],
   "source": [
    "solgen = sympy.dsolve(edo,y(x)) \n",
    "display(solgen)"
   ]
  },
  {
   "cell_type": "markdown",
   "metadata": {},
   "source": [
    "## Déterminer l’unique solution de l’équation telle que y(1) = 3 avec Sympy\n",
    "\n",
    "Autrement dit, déterminer l'unique fonction solution de l'équation différentielle, quand y(1) = 3\n",
    "\n",
    "## Etape 1 :  Entrer la condition\n",
    "\n",
    "La condition est une constante."
   ]
  },
  {
   "cell_type": "code",
   "execution_count": 11,
   "metadata": {},
   "outputs": [
    {
     "data": {
      "text/plain": [
       "{C1: 3*exp(2/5)}"
      ]
     },
     "execution_count": 11,
     "metadata": {},
     "output_type": "execute_result"
    }
   ],
   "source": [
    "x0 = 1\n",
    "y1 = 3\n",
    "consts = sympy.solve( sympy.Eq( y1, solgen.rhs.subs(x,x0)) , dict=True)[0]\n",
    "consts"
   ]
  },
  {
   "cell_type": "markdown",
   "metadata": {},
   "source": [
    "## Etape 2 : Calculer La solution unique avec la constante\n",
    "\n",
    "On prends en compte la constante définie précédemment.\n",
    "On voit qu'on trouve la même solution que dans l'exercice ."
   ]
  },
  {
   "cell_type": "code",
   "execution_count": 12,
   "metadata": {},
   "outputs": [
    {
     "data": {
      "text/plain": [
       "'Unique solution telle que 𝑓(1) = 3'"
      ]
     },
     "metadata": {},
     "output_type": "display_data"
    },
    {
     "data": {
      "text/latex": [
       "$\\displaystyle y{\\left(x \\right)} = 3 e^{\\frac{2}{5}} e^{- \\frac{2 x}{5}}$"
      ],
      "text/plain": [
       "Eq(y(x), 3*exp(2/5)*exp(-2*x/5))"
      ]
     },
     "execution_count": 12,
     "metadata": {},
     "output_type": "execute_result"
    }
   ],
   "source": [
    "solpar = solgen.subs(consts)\n",
    "\n",
    "display(\"Unique solution telle que 𝑓(1) = 3\")\n",
    "solpar"
   ]
  },
  {
   "cell_type": "markdown",
   "metadata": {},
   "source": [
    "-------------------------------------------------------------------------------------------------------"
   ]
  },
  {
   "cell_type": "markdown",
   "metadata": {},
   "source": [
    "## <strong><span style=\"color:red\"> 3𝑦' + 5𝑦 = 0<span></strong>\n",
    "\n",
    "On considère l’équation différentielle 3𝑦' + 5𝑦 = 0.\n",
    "\n",
    "- 1) Déterminer la forme générale des fonctions solutions de l’équation.\n",
    "\n",
    "- 2) Déterminer l’unique solution 𝑓 telle que 𝑓(1) = 2.\n",
    "\n",
    "Lien : https://www.maths-et-tiques.fr/telech/20Prim-EdTC.pdf\n",
    "\n",
    "On retrouve le même résultat !\n"
   ]
  },
  {
   "cell_type": "code",
   "execution_count": 13,
   "metadata": {},
   "outputs": [
    {
     "data": {
      "text/plain": [
       "\" Affichage de l'eq diff\""
      ]
     },
     "metadata": {},
     "output_type": "display_data"
    },
    {
     "data": {
      "text/latex": [
       "$\\displaystyle \\frac{d}{d x} y{\\left(x \\right)} = - \\frac{5 y{\\left(x \\right)}}{3}$"
      ],
      "text/plain": [
       "Eq(Derivative(y(x), x), -5*y(x)/3)"
      ]
     },
     "metadata": {},
     "output_type": "display_data"
    },
    {
     "data": {
      "text/plain": [
       "' Solution générale'"
      ]
     },
     "metadata": {},
     "output_type": "display_data"
    },
    {
     "data": {
      "text/latex": [
       "$\\displaystyle y{\\left(x \\right)} = C_{1} e^{- \\frac{5 x}{3}}$"
      ],
      "text/plain": [
       "Eq(y(x), C1*exp(-5*x/3))"
      ]
     },
     "metadata": {},
     "output_type": "display_data"
    },
    {
     "data": {
      "text/plain": [
       "'Unique solution telle que 𝑓(1) = 2'"
      ]
     },
     "metadata": {},
     "output_type": "display_data"
    },
    {
     "data": {
      "text/latex": [
       "$\\displaystyle y{\\left(x \\right)} = 2 e^{\\frac{5}{3}} e^{- \\frac{5 x}{3}}$"
      ],
      "text/plain": [
       "Eq(y(x), 2*exp(5/3)*exp(-5*x/3))"
      ]
     },
     "execution_count": 13,
     "metadata": {},
     "output_type": "execute_result"
    }
   ],
   "source": [
    "from sympy import Function, dsolve, Eq, Derivative, sin, cos, symbols\n",
    "from sympy.abc import x\n",
    "import sympy\n",
    "\n",
    "x   = sympy.Symbol('x')\n",
    "y   = sympy.Function('y')\n",
    "\n",
    "left  = sympy.diff(y(x),x)\n",
    "\n",
    "right = -5 * y(x) / 3 # La fonction y s'écrit y(x)\n",
    "\n",
    "edo = sympy.Eq( left , right )\n",
    "display(\" Affichage de l'eq diff\",edo)\n",
    "\n",
    "solgen = sympy.dsolve(edo,y(x)) \n",
    "display(\" Solution générale\",solgen)\n",
    "\n",
    "x0 = 1\n",
    "y1 = 2\n",
    "consts = sympy.solve( sympy.Eq( y1, solgen.rhs.subs(x,x0)) , dict=True)[0]\n",
    "consts\n",
    "solpar = solgen.subs(consts)\n",
    "display(\"Unique solution telle que 𝑓(1) = 2\")\n",
    "solpar\n",
    "\n"
   ]
  },
  {
   "cell_type": "markdown",
   "metadata": {},
   "source": [
    "\n",
    "## Le problème de Cauchy:\n",
    "\n",
    "\n",
    "\\begin{cases}\n",
    "u'(x)=-3x^2u(x)+6x^2,\\\\\n",
    "u(0)=4.\n",
    "\\end{cases}\n",
    "\n",
    "On remarque que maintenant, il y a une condition initiale, c'est pour cela qu'on l'appelle \" Problème de Cauchy\"."
   ]
  },
  {
   "cell_type": "markdown",
   "metadata": {},
   "source": [
    "## Solution Graphique (Numérique)"
   ]
  },
  {
   "cell_type": "code",
   "execution_count": 14,
   "metadata": {},
   "outputs": [],
   "source": [
    "# Import des libs\n",
    "from scipy import *\n",
    "from scipy.integrate import odeint #Pour résoudre l’équation différentielle\n",
    "import matplotlib.pyplot as plt # Permet de tracer des graphes\n",
    "import numpy as np\n",
    "from math import *"
   ]
  },
  {
   "cell_type": "code",
   "execution_count": 15,
   "metadata": {},
   "outputs": [
    {
     "data": {
      "image/png": "[encoded data removed]",
      "text/plain": [
       "<Figure size 640x480 with 1 Axes>"
      ]
     },
     "metadata": {},
     "output_type": "display_data"
    }
   ],
   "source": [
    "\n",
    "# Equation\n",
    "def deriv (y,x) :\n",
    "    return 6*x**2 - 3*x**2 * y\n",
    "\n",
    "# Choix de l’ intervalle d’intégration\n",
    "x0 = 0\n",
    "xmax = 20\n",
    "npoints = 1000\n",
    "x = np.linspace ( x0 , xmax , npoints )\n",
    "\n",
    "# Condition initiale\n",
    "y0 = 4 # y(x0) = y0\n",
    "\n",
    "solution = odeint ( deriv , y0 , x )\n",
    "y = solution [ : , 0 ]\n",
    "\n",
    "plt.plot ( x , y )\n",
    "plt.show ( )"
   ]
  },
  {
   "cell_type": "markdown",
   "metadata": {},
   "source": [
    "## Solution Symbolique\n",
    "\n",
    "Le problème de Cauchy:\n",
    "\\begin{cases}\n",
    "u'(x)=-3x^2u(x)+6x^2,\\\\\n",
    "u(0)=4.\n",
    "\\end{cases}"
   ]
  },
  {
   "cell_type": "markdown",
   "metadata": {},
   "source": [
    "## Etape 1 : Entrer l'eq diff dans Sympy"
   ]
  },
  {
   "cell_type": "code",
   "execution_count": 16,
   "metadata": {},
   "outputs": [
    {
     "data": {
      "text/latex": [
       "$\\displaystyle \\frac{d}{d x} u{\\left(x \\right)} = - 3 x^{2} u{\\left(x \\right)} + 6 x^{2}$"
      ],
      "text/plain": [
       "Eq(Derivative(u(x), x), -3*x**2*u(x) + 6*x**2)"
      ]
     },
     "metadata": {},
     "output_type": "display_data"
    }
   ],
   "source": [
    "from sympy import Function, dsolve, Eq, Derivative, sin, cos, symbols\n",
    "from sympy.abc import x\n",
    "import sympy\n",
    "\n",
    "x   = sympy.Symbol('x')\n",
    "u   = sympy.Function('u')\n",
    "\n",
    "left  = sympy.diff(u(x),x)\n",
    "\n",
    "right = 6*x**2 - 3*x**2 * u(x)\n",
    "\n",
    "edo = sympy.Eq( left , right )\n",
    "display(edo)"
   ]
  },
  {
   "cell_type": "markdown",
   "metadata": {},
   "source": [
    "## Etape 2 : Calculer la solution générale"
   ]
  },
  {
   "cell_type": "code",
   "execution_count": 17,
   "metadata": {},
   "outputs": [
    {
     "data": {
      "text/latex": [
       "$\\displaystyle u{\\left(x \\right)} = C_{1} e^{- x^{3}} + 2$"
      ],
      "text/plain": [
       "Eq(u(x), C1*exp(-x**3) + 2)"
      ]
     },
     "metadata": {},
     "output_type": "display_data"
    }
   ],
   "source": [
    "solgen = sympy.dsolve(edo,u(x)) \n",
    "display(solgen)"
   ]
  },
  {
   "cell_type": "markdown",
   "metadata": {},
   "source": [
    "## Etape 3 : Prendre en compte les conditions initiale"
   ]
  },
  {
   "cell_type": "code",
   "execution_count": 18,
   "metadata": {},
   "outputs": [
    {
     "data": {
      "text/plain": [
       "{C1: 2}"
      ]
     },
     "execution_count": 18,
     "metadata": {},
     "output_type": "execute_result"
    }
   ],
   "source": [
    "x0 = 0\n",
    "u0 = 4\n",
    "consts = sympy.solve( sympy.Eq( u0, solgen.rhs.subs(x,x0)) , dict=True)[0]\n",
    "consts"
   ]
  },
  {
   "cell_type": "markdown",
   "metadata": {},
   "source": [
    "## Etape 4 : Solution avec les conditions initiales"
   ]
  },
  {
   "cell_type": "code",
   "execution_count": 19,
   "metadata": {},
   "outputs": [
    {
     "data": {
      "text/latex": [
       "$\\displaystyle u{\\left(x \\right)} = 2 + 2 e^{- x^{3}}$"
      ],
      "text/plain": [
       "Eq(u(x), 2 + 2*exp(-x**3))"
      ]
     },
     "execution_count": 19,
     "metadata": {},
     "output_type": "execute_result"
    }
   ],
   "source": [
    "solpar = solgen.subs(consts)\n",
    "solpar"
   ]
  },
  {
   "cell_type": "markdown",
   "metadata": {},
   "source": [
    "## Etape 5 : Solution graphique"
   ]
  },
  {
   "cell_type": "code",
   "execution_count": 20,
   "metadata": {},
   "outputs": [
    {
     "data": {
      "image/png": "[encoded data removed]",
      "text/plain": [
       "<Figure size 1000x700 with 1 Axes>"
      ]
     },
     "metadata": {},
     "output_type": "display_data"
    }
   ],
   "source": [
    "func = sympy.lambdify(x,solpar.rhs,'numpy')\n",
    "from matplotlib.pylab import *\n",
    "# rcdefaults()\n",
    "rcParams.update({'font.size': 16})\n",
    "figure(figsize=(10,7))\n",
    "xx=linspace(0,3,101)\n",
    "yy=func(xx)\n",
    "plot(xx,yy)\n",
    "xlabel('x')\n",
    "ylabel('u')\n",
    "grid()"
   ]
  },
  {
   "cell_type": "markdown",
   "metadata": {},
   "source": [
    "----------------------------------------------------------------------------------------------"
   ]
  },
  {
   "cell_type": "markdown",
   "metadata": {},
   "source": [
    "## Des sin et des cos\n",
    "\n",
    "\\begin{cases}\n",
    "t'(x)=sin(t) * sin(x)\n",
    "\n",
    "\\end{cases}"
   ]
  },
  {
   "cell_type": "markdown",
   "metadata": {},
   "source": [
    " ## Solution Graphique"
   ]
  },
  {
   "cell_type": "code",
   "execution_count": 21,
   "metadata": {},
   "outputs": [],
   "source": [
    "import numpy as np\n",
    "import matplotlib.pyplot as plt\n",
    "from scipy.integrate import odeint"
   ]
  },
  {
   "cell_type": "code",
   "execution_count": 22,
   "metadata": {},
   "outputs": [
    {
     "data": {
      "image/png": "[encoded data removed]",
      "text/plain": [
       "<Figure size 640x480 with 1 Axes>"
      ]
     },
     "metadata": {},
     "output_type": "display_data"
    }
   ],
   "source": [
    "def f(x, t):\n",
    "    return np.sin(t) * np.sin(x)\n",
    "t = np.linspace(0, 50, 256)\n",
    "x = odeint(f, 1, t)\n",
    "plt.plot(t, x)\n",
    "plt.title(\"solution de x'=sin(t)sin(x)\")\n",
    "plt.show()"
   ]
  },
  {
   "cell_type": "markdown",
   "metadata": {},
   "source": [
    "## Solution symbolique\n",
    "\n",
    "## Etape 1 : Entrer l'eq diff dans Sympy"
   ]
  },
  {
   "cell_type": "code",
   "execution_count": 23,
   "metadata": {},
   "outputs": [
    {
     "data": {
      "text/latex": [
       "$\\displaystyle \\frac{d}{d x} y{\\left(x \\right)} = \\sin{\\left(x \\right)} \\sin{\\left(y{\\left(x \\right)} \\right)}$"
      ],
      "text/plain": [
       "Eq(Derivative(y(x), x), sin(x)*sin(y(x)))"
      ]
     },
     "metadata": {},
     "output_type": "display_data"
    }
   ],
   "source": [
    "from sympy import Function, dsolve, Eq, Derivative, sin, cos, symbols\n",
    "from sympy.abc import x\n",
    "import sympy\n",
    "\n",
    "x   = sympy.Symbol('x')\n",
    "y   = sympy.Function('y')\n",
    "\n",
    "left  = sympy.diff(y(x),x) # Partie gauche, avec la dérivée\n",
    "\n",
    "right = sympy.sin(y(x)) * sympy.sin(x) # Partie droite, avec les sin et cos qui fonctionnent.\n",
    "\n",
    "edo = sympy.Eq( left , right )\n",
    "display(edo)"
   ]
  },
  {
   "cell_type": "markdown",
   "metadata": {},
   "source": [
    "# Cas pratique 1 :  Croissance de population de base"
   ]
  },
  {
   "cell_type": "markdown",
   "metadata": {},
   "source": [
    "## Description\n",
    "On considère une quantité y(t) (taille d’une population, concentration d’une substance. . . ) qui\n",
    "évolue au cours du temps t, ainsi que sa dérivée y′(t). On suppose qu’il y a une relation entre\n",
    "cette quantité et sa dérivée qui est de la forme y′(t) = f (t, y(t))\n",
    "\n",
    "Le modèle d'évolution de population (taille d’une population, concentration d’une substance. . . )donné par y' = ay  , soit y' / y = a, suppose que pendant un laps de temps donné cette population subit un accroissement proportionnel à sa taille.\n",
    "\n",
    "Source : https://math.univ-cotedazur.fr/~hoering/bio-s2-19/cours-equa-diff-2.pdf\n",
    "https://uel.unisciel.fr/mathematiques/eq_diff/eq_diff_ch01/co/apprendre_ch1_02.html\n",
    "\n",
    "## Example \n",
    "\n"
   ]
  },
  {
   "cell_type": "code",
   "execution_count": null,
   "metadata": {},
   "outputs": [],
   "source": []
  }
 ],
 "metadata": {
  "kernelspec": {
   "display_name": "Python 3",
   "language": "python",
   "name": "python3"
  },
  "language_info": {
   "codemirror_mode": {
    "name": "ipython",
    "version": 3
   },
   "file_extension": ".py",
   "mimetype": "text/x-python",
   "name": "python",
   "nbconvert_exporter": "python",
   "pygments_lexer": "ipython3",
   "version": "3.9.2"
  }
 },
 "nbformat": 4,
 "nbformat_minor": 2
}
