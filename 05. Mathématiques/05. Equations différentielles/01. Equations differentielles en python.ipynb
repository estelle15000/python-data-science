{
 "cells": [
  {
   "cell_type": "markdown",
   "metadata": {},
   "source": [
    "# Equations différentielles en python\n",
    "\n",
    "## Introduction\n",
    "\n",
    "Une équation différentielle permet de décrire et analyser des systèmes dynamiques, et non statiques.\n",
    "C'est à dire des systèmes en mouvement.\n",
    "Une equation différentielle est une équation dont l'inconnue est une fonction.\n",
    "On a une ou des solutions qui évoluent en fonction du temps quand on débute, pour comprendre.\n",
    "Mais ensuite, ça peut être \"en fonction\" d'autre chose.\n",
    "\n",
    "<div style=\"text-align:center\">\n",
    "<img src=\"img/intro.jpg\">\n",
    "</div>\n",
    "\n",
    "Notebook réalisé par Github Estelle Derrien\n",
    "\n",
    "** en cours de création **\n",
    "\n",
    "Excellent lien en Anglais : https://quantdev.ssri.psu.edu/sites/qdev/files/ODEintro_tutorial.html\n",
    "\n",
    "## Sommaire:\n",
    "\n",
    "\n",
    "- <b>Introduction.</b>\n",
    "\n",
    "1. <b><span style=\"color:maroon\">Résoudre une équation différentielle d'ordre 1 ->  y' = f</span></b> \n",
    "\n",
    "    - <b>y' = 2x</b>\n",
    "        - Solution Graphique\n",
    "        - Solution Symbolique\n",
    "\n",
    "2. <b><span style=\"color:maroon\">Résoudre une équation différentielle d'ordre 1 sans second membre -> y' = ay</span></b> \n",
    "    \n",
    "\n",
    "    - <b>y' = 2y</b>\n",
    "        - Solution Graphique\n",
    "        - Solution Symbolique\n",
    "\n",
    "    -  <b>5y’ + 2y = 0</b>\n",
    "        - Solution Symbolique\n",
    "            - Déterminer la solution générale de cette équation avec Sympy\n",
    "            - Déterminer l’unique solution de l’équation telle que y(1) = 3 avec Sympy\n",
    "\n",
    "    - <b>3y' + 5y = 0</b>\n",
    "        - Solution Symbolique\n",
    "            - Déterminer la solution générale de cette équation avec Sympy\n",
    "            - Déterminer l’unique solution de l’équation telle que 𝑓(1) = 2 avec Sympy\n",
    "\n",
    "    - <b>Le problème de Chauchy</b>\n",
    "        - Solution Graphique\n",
    "        - Solution Symbolique\n",
    "\n",
    "    - <b>Des sin et des cos</b>\n",
    "        - Solution Graphique\n",
    "        - Solution Symbolique \n",
    "\n",
    "    - <b>Cas pratique 1 : Croissance constante linéaire</b>\n",
    "        - Graphiquement.\n",
    "        - Solution Symbolique\n",
    "\n",
    "    - <b>Cas pratique 2 : Croissance avec déclin ( Growth decay)</b>\n",
    "        - Graphiquement.\n",
    "        - Solution Symbolique\n",
    "\n",
    "    - <b>Cas pratique 3 : Croissance de population avec prédation</b>\n",
    "        - Graphiquement.\n",
    "        - Solution Symbolique\n",
    "    \n",
    "    - <b>Cas pratique 4 : Croissance de population logistique</b>\n",
    "        - Graphiquement.\n",
    "        - Solution Symbolique\n",
    "\n",
    "    - <b>Cas pratique 5 : Transfert thermique</b>\n",
    "        - Solution Graphique\n",
    "        - Solution Symbolique\n",
    "\n",
    "    - <b>Cas pratique 6 : Finances - L'évolution d'un avoir placé à intérêts composés à taux fixe.</b>\n",
    "        - Solution Graphique\n",
    "        - Solution Symbolique\n",
    "        \n",
    "    - <b>Cas pratique 7 : Taux de salinité en reservoir percé</b>\n",
    "        - Solution Graphique\n",
    "        - Solution Symbolique\n",
    "\n",
    "3. <span style=\"color:maroon\"><b>Résoudre une équation différentielle d'ordre 1 avec second membre constant -> y' = ax + b </b></span>\n",
    "\n",
    "    - <b>Exemple 2A : </b>\n",
    "        - Solution Graphique\n",
    "        - Solution Symbolique \n",
    "\n",
    "4. <span style=\"color:maroon\"><b>Résoudre une équation différentielle d'ordre 2 -></b></span>\n",
    "\n",
    "    - <b>Exemple 3A</b>\n",
    "        - Solution Graphique\n",
    "        - Solution Symbolique\n",
    "\n",
    "    - <b>Exemple 3B</b>\n",
    "        - Solution Graphique\n",
    "        - Solution Symbolique \n",
    "\n",
    "5. <span style color=\"maroon\"><b>Annexes.  Résoudre numériquement une Eq Diff exprimée symboliquement</b></span>\n",
    "    - La méthode avec lambdify\n",
    "    - https://docs.sympy.org/latest/guides/solving/solve-ode.html"
   ]
  },
  {
   "cell_type": "markdown",
   "metadata": {},
   "source": []
  },
  {
   "cell_type": "markdown",
   "metadata": {},
   "source": [
    "-------------------------------------------------------------------------------------------------------"
   ]
  },
  {
   "cell_type": "markdown",
   "metadata": {},
   "source": [
    "# <span style=\"color:grey\"> <b>1. Résoudre une équation diff d'ordre 1 -> y' = f</b> </span>"
   ]
  },
  {
   "cell_type": "markdown",
   "metadata": {},
   "source": [
    "\n",
    "## <strong><span style=\"color:red\"> y'=2x<span></strong>\n",
    "\n",
    "\n",
    "\n",
    "\" On a une fonction dont la dérivée est égale à 2 fois la variable x\"\n",
    "\n",
    "\" L’inconnue est la fonction 𝑦 dont la dérivée est égale à 2x \" \n",
    "\n",
    "Lien : https://www.youtube.com/watch?v=qHF5kiDFkW8\n",
    "\n",
    "\n",
    "\n"
   ]
  },
  {
   "cell_type": "markdown",
   "metadata": {},
   "source": [
    "## Solution Graphique "
   ]
  },
  {
   "cell_type": "code",
   "execution_count": 320,
   "metadata": {},
   "outputs": [],
   "source": [
    "# Import des libs\n",
    "from scipy import *\n",
    "from scipy.integrate import odeint #Pour résoudre l’équation différentielle\n",
    "import matplotlib.pyplot as plt # Permet de tracer des graphes\n",
    "import numpy as np\n",
    "from math import *"
   ]
  },
  {
   "cell_type": "code",
   "execution_count": 321,
   "metadata": {},
   "outputs": [
    {
     "data": {
      "image/png": "[encoded data removed]",
      "text/plain": [
       "<Figure size 640x480 with 1 Axes>"
      ]
     },
     "metadata": {},
     "output_type": "display_data"
    }
   ],
   "source": [
    "# Equation\n",
    "def deriv (y,x) :\n",
    "    return 2 * x\n",
    "\n",
    "# Choix de l’ intervalle d’intégration\n",
    "x0 = 0\n",
    "xmax = 20\n",
    "npoints = 1000\n",
    "x = np.linspace ( x0 , xmax , npoints )\n",
    "\n",
    "# Condition initiale\n",
    "y0 = 1\n",
    "\n",
    "solution = odeint ( deriv , y0 , x )\n",
    "y = solution [ : , 0 ]\n",
    "\n",
    "plt.plot ( x , y )\n",
    "plt.show ( )"
   ]
  },
  {
   "cell_type": "markdown",
   "metadata": {},
   "source": [
    "## Solution symbolique\n",
    "\n",
    "## Etape 1 : Entrer l'eq diff dans Sympy\n",
    "\n",
    "Ca permet à Sympy d'interpréter l'eq diff."
   ]
  },
  {
   "cell_type": "code",
   "execution_count": 322,
   "metadata": {},
   "outputs": [
    {
     "data": {
      "text/latex": [
       "$\\displaystyle \\frac{d}{d x} y{\\left(x \\right)} = 2 x$"
      ],
      "text/plain": [
       "Eq(Derivative(y(x), x), 2*x)"
      ]
     },
     "metadata": {},
     "output_type": "display_data"
    }
   ],
   "source": [
    "from sympy import Function, dsolve, Eq, Derivative, sin, cos, symbols\n",
    "from sympy.abc import x\n",
    "import sympy\n",
    "\n",
    "x   = sympy.Symbol('x')\n",
    "y   = sympy.Function('y')\n",
    "\n",
    "left  = sympy.diff(y(x),x)\n",
    "\n",
    "right = 2 * x\n",
    "\n",
    "edo = sympy.Eq( left , right )\n",
    "display(edo)"
   ]
  },
  {
   "cell_type": "markdown",
   "metadata": {},
   "source": [
    "## Etape 2 : Calculer la solution générale\n",
    "\n",
    "On calcule les fonctions solution de l'eq diff.\n",
    "On trouve bien la même solution que Yvan Monka."
   ]
  },
  {
   "cell_type": "code",
   "execution_count": 323,
   "metadata": {},
   "outputs": [
    {
     "data": {
      "text/latex": [
       "$\\displaystyle y{\\left(x \\right)} = C_{1} + x^{2}$"
      ],
      "text/plain": [
       "Eq(y(x), C1 + x**2)"
      ]
     },
     "metadata": {},
     "output_type": "display_data"
    }
   ],
   "source": [
    "solgen = sympy.dsolve(edo,y(x)) \n",
    "display(solgen)"
   ]
  },
  {
   "cell_type": "markdown",
   "metadata": {},
   "source": [
    "-------------------------------------------------------------------------------------------------------"
   ]
  },
  {
   "cell_type": "markdown",
   "metadata": {},
   "source": [
    "# <b><span style=\"color:grey\">2. Résoudre une équation différentielle d'ordre 1 sans second membre -> y' = ay</span></b> "
   ]
  },
  {
   "cell_type": "markdown",
   "metadata": {},
   "source": [
    "## <strong><span style=\"color:red\"> y'=2y<span></strong>\n",
    "\n",
    "\" La dérivée de la fonction y est égale à 2 fois la fonction y\"\n",
    "\n",
    "Lien : https://www.youtube.com/watch?v=qHF5kiDFkW8\n",
    "Lien : https://www.maths-et-tiques.fr/telech/20Prim-EdTC.pdf\n",
    "\n",
    "\n",
    "Notation fractionnaire - source https://quantdev.ssri.psu.edu/sites/qdev/files/ODEintro_tutorial.html\n",
    "\n",
    "\\begin{cases}\n",
    "\\frac{dx}{dt}\n",
    "= 2 x(t)\n",
    "\\end{cases} "
   ]
  },
  {
   "cell_type": "markdown",
   "metadata": {},
   "source": [
    "## Solution Graphique "
   ]
  },
  {
   "cell_type": "code",
   "execution_count": 324,
   "metadata": {},
   "outputs": [],
   "source": [
    "# Import des libs\n",
    "from scipy import *\n",
    "from scipy.integrate import odeint #Pour résoudre l’équation différentielle\n",
    "import matplotlib.pyplot as plt # Permet de tracer des graphes\n",
    "import numpy as np\n",
    "from math import *"
   ]
  },
  {
   "cell_type": "code",
   "execution_count": 325,
   "metadata": {},
   "outputs": [
    {
     "data": {
      "image/png": "[encoded data removed]",
      "text/plain": [
       "<Figure size 640x480 with 1 Axes>"
      ]
     },
     "metadata": {},
     "output_type": "display_data"
    }
   ],
   "source": [
    "# Equation\n",
    "def deriv (y,x) :\n",
    "    return 2 * y\n",
    "\n",
    "# Choix de l’ intervalle d’intégration\n",
    "x0 = 0\n",
    "xmax = 20\n",
    "npoints = 1000\n",
    "x = np.linspace ( x0 , xmax , npoints )\n",
    "\n",
    "# Condition initiale\n",
    "y0 = 1 # y(x0) = y0\n",
    "\n",
    "solution = odeint ( deriv , y0 , x )\n",
    "y = solution [ : , 0 ]\n",
    "\n",
    "plt.plot ( x , y )\n",
    "plt.show ( )"
   ]
  },
  {
   "cell_type": "markdown",
   "metadata": {},
   "source": [
    "## Solution symbolique\n",
    "\n",
    "## Etape 1 : Entrer l'eq diff dans Sympy"
   ]
  },
  {
   "cell_type": "code",
   "execution_count": 326,
   "metadata": {},
   "outputs": [
    {
     "data": {
      "text/latex": [
       "$\\displaystyle \\frac{d}{d x} y{\\left(x \\right)} = 2 y{\\left(x \\right)}$"
      ],
      "text/plain": [
       "Eq(Derivative(y(x), x), 2*y(x))"
      ]
     },
     "metadata": {},
     "output_type": "display_data"
    }
   ],
   "source": [
    "from sympy import Function, dsolve, Eq, Derivative, sin, cos, symbols\n",
    "from sympy.abc import x\n",
    "import sympy\n",
    "\n",
    "x   = sympy.Symbol('x')\n",
    "y   = sympy.Function('y')\n",
    "\n",
    "left  = sympy.diff(y(x),x)\n",
    "\n",
    "right = 2 * y(x)\n",
    "\n",
    "edo = sympy.Eq( left , right )\n",
    "display(edo)"
   ]
  },
  {
   "cell_type": "markdown",
   "metadata": {},
   "source": [
    "## Etape 2 : Calcul de la Solution générale\n",
    "\n",
    "L'equation différentielle est au format y' = ay\n",
    "\n",
    "On trouve bien la même solution que Yvan Monka.\n",
    "\n",
    "Les solutions de l'equation différentielle sont les fonctions suivantes:"
   ]
  },
  {
   "cell_type": "code",
   "execution_count": 327,
   "metadata": {},
   "outputs": [
    {
     "data": {
      "text/latex": [
       "$\\displaystyle y{\\left(x \\right)} = C_{1} e^{2 x}$"
      ],
      "text/plain": [
       "Eq(y(x), C1*exp(2*x))"
      ]
     },
     "metadata": {},
     "output_type": "display_data"
    }
   ],
   "source": [
    "solgen = sympy.dsolve(edo,y(x)) \n",
    "display(solgen)"
   ]
  },
  {
   "cell_type": "markdown",
   "metadata": {},
   "source": [
    "-------------------------------------------------------------------------------------------------------"
   ]
  },
  {
   "cell_type": "markdown",
   "metadata": {},
   "source": [
    "## <strong><span style=\"color:red\">5y' + 2y =0<span></strong>\n",
    "\n",
    "Lien :  https://www.letudiant.fr/lycee/methodologie-lycee/article/equations-differentielles-entrainez-vous-avec-nos-exercices-corriges.html\n",
    "\n",
    "<center><img src=\"img/pb.png\"></center>"
   ]
  },
  {
   "cell_type": "markdown",
   "metadata": {},
   "source": [
    "## Déterminer la solution générale de cette équation avec Sympy\n",
    "\n",
    "\n",
    "\n",
    "On la mets d'abord au format \"standard\" avec la dérivée à gauche : \n",
    "\n",
    "\\begin{cases}\n",
    "y'= -2 * y / 5\n",
    "\\end{cases}"
   ]
  },
  {
   "cell_type": "markdown",
   "metadata": {},
   "source": [
    "## Etape 1 : Entrer l'eq diff dans Sympy"
   ]
  },
  {
   "cell_type": "code",
   "execution_count": 328,
   "metadata": {},
   "outputs": [
    {
     "data": {
      "text/latex": [
       "$\\displaystyle \\frac{d}{d x} y{\\left(x \\right)} = - \\frac{2 y{\\left(x \\right)}}{5}$"
      ],
      "text/plain": [
       "Eq(Derivative(y(x), x), -2*y(x)/5)"
      ]
     },
     "metadata": {},
     "output_type": "display_data"
    }
   ],
   "source": [
    "from sympy import Function, dsolve, Eq, Derivative, sin, cos, symbols\n",
    "from sympy.abc import x\n",
    "import sympy\n",
    "\n",
    "x   = sympy.Symbol('x')\n",
    "y   = sympy.Function('y')\n",
    "\n",
    "left  = sympy.diff(y(x),x)\n",
    "\n",
    "right = -2 * y(x) / 5 # La fonction y s'écrit y(x)\n",
    "\n",
    "edo = sympy.Eq( left , right )\n",
    "display(edo)"
   ]
  },
  {
   "cell_type": "markdown",
   "metadata": {},
   "source": [
    "## Etape 2 : Calcul de la Solution générale\n",
    "\n",
    "L’ensemble des solutions s’écrit sous la forme yc(x) = Ce *a.x , C appartient à R\n",
    "On trouve bien la même solution que dans le magazine l'étudiant.\n"
   ]
  },
  {
   "cell_type": "code",
   "execution_count": 329,
   "metadata": {},
   "outputs": [
    {
     "data": {
      "text/latex": [
       "$\\displaystyle y{\\left(x \\right)} = C_{1} e^{- \\frac{2 x}{5}}$"
      ],
      "text/plain": [
       "Eq(y(x), C1*exp(-2*x/5))"
      ]
     },
     "metadata": {},
     "output_type": "display_data"
    }
   ],
   "source": [
    "solgen = sympy.dsolve(edo,y(x)) \n",
    "display(solgen)"
   ]
  },
  {
   "cell_type": "markdown",
   "metadata": {},
   "source": [
    "## Déterminer l’unique solution de l’équation telle que y(1) = 3 avec Sympy\n",
    "\n",
    "Autrement dit, déterminer l'unique fonction solution de l'équation différentielle, quand y(1) = 3\n",
    "\n",
    "## Etape 1 :  Entrer la condition\n",
    "\n",
    "La condition est une constante."
   ]
  },
  {
   "cell_type": "code",
   "execution_count": 330,
   "metadata": {},
   "outputs": [
    {
     "data": {
      "text/plain": [
       "{C1: 3*exp(2/5)}"
      ]
     },
     "execution_count": 330,
     "metadata": {},
     "output_type": "execute_result"
    }
   ],
   "source": [
    "x0 = 1\n",
    "y1 = 3\n",
    "consts = sympy.solve( sympy.Eq( y1, solgen.rhs.subs(x,x0)) , dict=True)[0]\n",
    "consts"
   ]
  },
  {
   "cell_type": "markdown",
   "metadata": {},
   "source": [
    "## Etape 2 : Calculer La solution unique avec la constante\n",
    "\n",
    "On prends en compte la constante définie précédemment.\n",
    "On voit qu'on trouve la même solution que dans l'exercice ."
   ]
  },
  {
   "cell_type": "code",
   "execution_count": 331,
   "metadata": {},
   "outputs": [
    {
     "data": {
      "text/plain": [
       "'Unique solution telle que 𝑓(1) = 3'"
      ]
     },
     "metadata": {},
     "output_type": "display_data"
    },
    {
     "data": {
      "text/latex": [
       "$\\displaystyle y{\\left(x \\right)} = 3 e^{\\frac{2}{5}} e^{- \\frac{2 x}{5}}$"
      ],
      "text/plain": [
       "Eq(y(x), 3*exp(2/5)*exp(-2*x/5))"
      ]
     },
     "execution_count": 331,
     "metadata": {},
     "output_type": "execute_result"
    }
   ],
   "source": [
    "solpar = solgen.subs(consts)\n",
    "\n",
    "display(\"Unique solution telle que 𝑓(1) = 3\")\n",
    "solpar"
   ]
  },
  {
   "cell_type": "markdown",
   "metadata": {},
   "source": [
    "-------------------------------------------------------------------------------------------------------"
   ]
  },
  {
   "cell_type": "markdown",
   "metadata": {},
   "source": [
    "## <strong><span style=\"color:red\"> 3𝑦' + 5𝑦 = 0<span></strong>\n",
    "\n",
    "On considère l’équation différentielle 3𝑦' + 5𝑦 = 0.\n",
    "\n",
    "- 1) Déterminer la forme générale des fonctions solutions de l’équation.\n",
    "\n",
    "- 2) Déterminer l’unique solution 𝑓 telle que 𝑓(1) = 2.\n",
    "\n",
    "Lien : https://www.maths-et-tiques.fr/telech/20Prim-EdTC.pdf\n",
    "\n",
    "On retrouve le même résultat !\n"
   ]
  },
  {
   "cell_type": "code",
   "execution_count": 332,
   "metadata": {},
   "outputs": [
    {
     "data": {
      "text/plain": [
       "\" Affichage de l'eq diff\""
      ]
     },
     "metadata": {},
     "output_type": "display_data"
    },
    {
     "data": {
      "text/latex": [
       "$\\displaystyle \\frac{d}{d x} y{\\left(x \\right)} = - \\frac{5 y{\\left(x \\right)}}{3}$"
      ],
      "text/plain": [
       "Eq(Derivative(y(x), x), -5*y(x)/3)"
      ]
     },
     "metadata": {},
     "output_type": "display_data"
    },
    {
     "data": {
      "text/plain": [
       "' Solution générale'"
      ]
     },
     "metadata": {},
     "output_type": "display_data"
    },
    {
     "data": {
      "text/latex": [
       "$\\displaystyle y{\\left(x \\right)} = C_{1} e^{- \\frac{5 x}{3}}$"
      ],
      "text/plain": [
       "Eq(y(x), C1*exp(-5*x/3))"
      ]
     },
     "metadata": {},
     "output_type": "display_data"
    },
    {
     "data": {
      "text/plain": [
       "'Unique solution telle que 𝑓(1) = 2'"
      ]
     },
     "metadata": {},
     "output_type": "display_data"
    },
    {
     "data": {
      "text/latex": [
       "$\\displaystyle y{\\left(x \\right)} = 2 e^{\\frac{5}{3}} e^{- \\frac{5 x}{3}}$"
      ],
      "text/plain": [
       "Eq(y(x), 2*exp(5/3)*exp(-5*x/3))"
      ]
     },
     "execution_count": 332,
     "metadata": {},
     "output_type": "execute_result"
    }
   ],
   "source": [
    "from sympy import Function, dsolve, Eq, Derivative, sin, cos, symbols\n",
    "from sympy.abc import x\n",
    "import sympy\n",
    "\n",
    "x   = sympy.Symbol('x')\n",
    "y   = sympy.Function('y')\n",
    "\n",
    "left  = sympy.diff(y(x),x)\n",
    "\n",
    "right = -5 * y(x) / 3 # La fonction y s'écrit y(x)\n",
    "\n",
    "edo = sympy.Eq( left , right )\n",
    "display(\" Affichage de l'eq diff\",edo)\n",
    "\n",
    "solgen = sympy.dsolve(edo,y(x)) \n",
    "display(\" Solution générale\",solgen)\n",
    "\n",
    "x0 = 1\n",
    "y1 = 2\n",
    "consts = sympy.solve( sympy.Eq( y1, solgen.rhs.subs(x,x0)) , dict=True)[0]\n",
    "consts\n",
    "solpar = solgen.subs(consts)\n",
    "display(\"Unique solution telle que 𝑓(1) = 2\")\n",
    "solpar\n",
    "\n"
   ]
  },
  {
   "cell_type": "markdown",
   "metadata": {},
   "source": [
    "\n",
    "## Le problème de Cauchy:\n",
    "\n",
    "\n",
    "\\begin{cases}\n",
    "u'(x)=-3x^2u(x)+6x^2,\\\\\n",
    "u(0)=4.\n",
    "\\end{cases}\n",
    "\n",
    "On remarque que maintenant, il y a une condition initiale, c'est pour cela qu'on l'appelle \" Problème de Cauchy\"."
   ]
  },
  {
   "cell_type": "markdown",
   "metadata": {},
   "source": [
    "## Solution Graphique (Numérique)"
   ]
  },
  {
   "cell_type": "code",
   "execution_count": 333,
   "metadata": {},
   "outputs": [],
   "source": [
    "# Import des libs\n",
    "from scipy import *\n",
    "from scipy.integrate import odeint #Pour résoudre l’équation différentielle\n",
    "import matplotlib.pyplot as plt # Permet de tracer des graphes\n",
    "import numpy as np\n",
    "from math import *"
   ]
  },
  {
   "cell_type": "code",
   "execution_count": 334,
   "metadata": {},
   "outputs": [
    {
     "data": {
      "image/png": "[encoded data removed]",
      "text/plain": [
       "<Figure size 640x480 with 1 Axes>"
      ]
     },
     "metadata": {},
     "output_type": "display_data"
    }
   ],
   "source": [
    "\n",
    "# Equation\n",
    "def deriv (y,x) :\n",
    "    return 6*x**2 - 3*x**2 * y\n",
    "\n",
    "# Choix de l’ intervalle d’intégration\n",
    "x0 = 0\n",
    "xmax = 20\n",
    "npoints = 1000\n",
    "x = np.linspace ( x0 , xmax , npoints )\n",
    "\n",
    "# Condition initiale\n",
    "y0 = 4 # y(x0) = y0\n",
    "\n",
    "solution = odeint ( deriv , y0 , x )\n",
    "y = solution [ : , 0 ]\n",
    "\n",
    "plt.plot ( x , y )\n",
    "plt.show ( )"
   ]
  },
  {
   "cell_type": "markdown",
   "metadata": {},
   "source": [
    "## Solution Symbolique\n",
    "\n",
    "Le problème de Cauchy:\n",
    "\\begin{cases}\n",
    "u'(x)=-3x^2u(x)+6x^2,\\\\\n",
    "u(0)=4.\n",
    "\\end{cases}"
   ]
  },
  {
   "cell_type": "markdown",
   "metadata": {},
   "source": [
    "## Etape 1 : Entrer l'eq diff dans Sympy"
   ]
  },
  {
   "cell_type": "code",
   "execution_count": 335,
   "metadata": {},
   "outputs": [
    {
     "data": {
      "text/latex": [
       "$\\displaystyle \\frac{d}{d x} u{\\left(x \\right)} = - 3 x^{2} u{\\left(x \\right)} + 6 x^{2}$"
      ],
      "text/plain": [
       "Eq(Derivative(u(x), x), -3*x**2*u(x) + 6*x**2)"
      ]
     },
     "metadata": {},
     "output_type": "display_data"
    }
   ],
   "source": [
    "from sympy import Function, dsolve, Eq, Derivative, sin, cos, symbols\n",
    "from sympy.abc import x\n",
    "import sympy\n",
    "\n",
    "x   = sympy.Symbol('x')\n",
    "u   = sympy.Function('u')\n",
    "\n",
    "left  = sympy.diff(u(x),x)\n",
    "\n",
    "right = 6*x**2 - 3*x**2 * u(x)\n",
    "\n",
    "edo = sympy.Eq( left , right )\n",
    "display(edo)"
   ]
  },
  {
   "cell_type": "markdown",
   "metadata": {},
   "source": [
    "## Etape 2 : Calculer la solution générale"
   ]
  },
  {
   "cell_type": "code",
   "execution_count": 336,
   "metadata": {},
   "outputs": [
    {
     "data": {
      "text/latex": [
       "$\\displaystyle u{\\left(x \\right)} = C_{1} e^{- x^{3}} + 2$"
      ],
      "text/plain": [
       "Eq(u(x), C1*exp(-x**3) + 2)"
      ]
     },
     "metadata": {},
     "output_type": "display_data"
    }
   ],
   "source": [
    "solgen = sympy.dsolve(edo,u(x)) \n",
    "display(solgen)"
   ]
  },
  {
   "cell_type": "markdown",
   "metadata": {},
   "source": [
    "## Etape 3 : Prendre en compte les conditions initiale"
   ]
  },
  {
   "cell_type": "code",
   "execution_count": 337,
   "metadata": {},
   "outputs": [
    {
     "data": {
      "text/plain": [
       "{C1: 2}"
      ]
     },
     "execution_count": 337,
     "metadata": {},
     "output_type": "execute_result"
    }
   ],
   "source": [
    "x0 = 0\n",
    "u0 = 4\n",
    "consts = sympy.solve( sympy.Eq( u0, solgen.rhs.subs(x,x0)) , dict=True)[0]\n",
    "consts"
   ]
  },
  {
   "cell_type": "markdown",
   "metadata": {},
   "source": [
    "## Etape 4 : Solution avec les conditions initiales"
   ]
  },
  {
   "cell_type": "code",
   "execution_count": 338,
   "metadata": {},
   "outputs": [
    {
     "data": {
      "text/latex": [
       "$\\displaystyle u{\\left(x \\right)} = 2 + 2 e^{- x^{3}}$"
      ],
      "text/plain": [
       "Eq(u(x), 2 + 2*exp(-x**3))"
      ]
     },
     "execution_count": 338,
     "metadata": {},
     "output_type": "execute_result"
    }
   ],
   "source": [
    "solpar = solgen.subs(consts)\n",
    "solpar"
   ]
  },
  {
   "cell_type": "markdown",
   "metadata": {},
   "source": [
    "## Etape 5 : Solution graphique"
   ]
  },
  {
   "cell_type": "code",
   "execution_count": 339,
   "metadata": {},
   "outputs": [
    {
     "data": {
      "image/png": "[encoded data removed]",
      "text/plain": [
       "<Figure size 1000x700 with 1 Axes>"
      ]
     },
     "metadata": {},
     "output_type": "display_data"
    }
   ],
   "source": [
    "func = sympy.lambdify(x,solpar.rhs,'numpy')\n",
    "from matplotlib.pylab import *\n",
    "# rcdefaults()\n",
    "rcParams.update({'font.size': 16})\n",
    "figure(figsize=(10,7))\n",
    "xx=linspace(0,3,101)\n",
    "yy=func(xx)\n",
    "plot(xx,yy)\n",
    "xlabel('x')\n",
    "ylabel('u')\n",
    "grid()"
   ]
  },
  {
   "cell_type": "markdown",
   "metadata": {},
   "source": [
    "----------------------------------------------------------------------------------------------"
   ]
  },
  {
   "cell_type": "markdown",
   "metadata": {},
   "source": [
    "## Des sin et des cos\n",
    "\n",
    "\\begin{cases}\n",
    "t'(x)=sin(t) * sin(x)\n",
    "\n",
    "\\end{cases}"
   ]
  },
  {
   "cell_type": "markdown",
   "metadata": {},
   "source": [
    " ## Solution Graphique"
   ]
  },
  {
   "cell_type": "code",
   "execution_count": 340,
   "metadata": {},
   "outputs": [],
   "source": [
    "import numpy as np\n",
    "import matplotlib.pyplot as plt\n",
    "from scipy.integrate import odeint"
   ]
  },
  {
   "cell_type": "code",
   "execution_count": 341,
   "metadata": {},
   "outputs": [
    {
     "data": {
      "image/png": "[encoded data removed]",
      "text/plain": [
       "<Figure size 640x480 with 1 Axes>"
      ]
     },
     "metadata": {},
     "output_type": "display_data"
    }
   ],
   "source": [
    "def f(x, t):\n",
    "    return np.sin(t) * np.sin(x)\n",
    "t = np.linspace(0, 50, 256)\n",
    "x = odeint(f, 1, t)\n",
    "plt.plot(t, x)\n",
    "plt.title(\"solution de x'=sin(t)sin(x)\")\n",
    "plt.show()"
   ]
  },
  {
   "cell_type": "markdown",
   "metadata": {},
   "source": [
    "## Solution symbolique\n",
    "\n",
    "## Etape 1 : Entrer l'eq diff dans Sympy"
   ]
  },
  {
   "cell_type": "code",
   "execution_count": 342,
   "metadata": {},
   "outputs": [
    {
     "data": {
      "text/latex": [
       "$\\displaystyle \\frac{d}{d x} y{\\left(x \\right)} = \\sin{\\left(x \\right)} \\sin{\\left(y{\\left(x \\right)} \\right)}$"
      ],
      "text/plain": [
       "Eq(Derivative(y(x), x), sin(x)*sin(y(x)))"
      ]
     },
     "metadata": {},
     "output_type": "display_data"
    }
   ],
   "source": [
    "from sympy import Function, dsolve, Eq, Derivative, sin, cos, symbols\n",
    "from sympy.abc import x\n",
    "import sympy\n",
    "\n",
    "x   = sympy.Symbol('x')\n",
    "y   = sympy.Function('y')\n",
    "\n",
    "left  = sympy.diff(y(x),x) # Partie gauche, avec la dérivée\n",
    "\n",
    "right = sympy.sin(y(x)) * sympy.sin(x) # Partie droite, avec les sin et cos qui fonctionnent.\n",
    "\n",
    "edo = sympy.Eq( left , right )\n",
    "display(edo)"
   ]
  },
  {
   "cell_type": "markdown",
   "metadata": {},
   "source": [
    "# Cas pratique 1 :  Croissance constante linéaire"
   ]
  },
  {
   "cell_type": "markdown",
   "metadata": {},
   "source": [
    "## Description\n",
    "\n",
    "Cette forme de croissance est la plus simple et nous offre un excellent moyen de nous entraîner à traduire la théorie en mathématiques.\n",
    "\n",
    "Supposons que nous ayons une théorie selon laquelle une variable change de manière constante. Par exemple, nous pourrions modéliser le montant d’argent sur un compte d’épargne, si 10 euros étaient ajoutés chaque jour. La variation du solde du compte est toujours de 10 euros/jour, quels que soient les soldes passés ou actuels.\n",
    "\n",
    "Voici la représentation mathématique:\n",
    "\n",
    "\\begin{cases}\n",
    "\\frac{dx}{dt}\n",
    "= 10\n",
    "\\end{cases} \n",
    "\n",
    "Ou dt est une journée.\n",
    "\n",
    "On peut l'écrire y' = 10 ( A vérifier)\n"
   ]
  },
  {
   "cell_type": "markdown",
   "metadata": {},
   "source": [
    "## Solution graphique"
   ]
  },
  {
   "cell_type": "code",
   "execution_count": 343,
   "metadata": {},
   "outputs": [
    {
     "data": {
      "image/png": "[encoded data removed]",
      "text/plain": [
       "<Figure size 640x480 with 1 Axes>"
      ]
     },
     "metadata": {},
     "output_type": "display_data"
    }
   ],
   "source": [
    "# Equation\n",
    "def deriv (y,x) :\n",
    "    return 10\n",
    "\n",
    "# Choix de l’ intervalle d’intégration\n",
    "x0 = 0\n",
    "xmax = 20\n",
    "npoints = 1000\n",
    "x = np.linspace ( x0 , xmax , npoints )\n",
    "\n",
    "# Condition initiale\n",
    "y0 = 1\n",
    "\n",
    "solution = odeint ( deriv , y0 , x )\n",
    "y = solution [ : , 0 ]\n",
    "\n",
    "plt.plot ( x , y )\n",
    "plt.show ( )"
   ]
  },
  {
   "cell_type": "markdown",
   "metadata": {},
   "source": [
    "## Solution symbolique"
   ]
  },
  {
   "cell_type": "code",
   "execution_count": 344,
   "metadata": {},
   "outputs": [
    {
     "data": {
      "text/latex": [
       "$\\displaystyle \\frac{d}{d x} y{\\left(x \\right)} = 10$"
      ],
      "text/plain": [
       "Eq(Derivative(y(x), x), 10)"
      ]
     },
     "metadata": {},
     "output_type": "display_data"
    },
    {
     "data": {
      "text/latex": [
       "$\\displaystyle y{\\left(x \\right)} = C_{1} + 10 x$"
      ],
      "text/plain": [
       "Eq(y(x), C1 + 10*x)"
      ]
     },
     "metadata": {},
     "output_type": "display_data"
    }
   ],
   "source": [
    "from sympy import Function, dsolve, Eq, Derivative, sin, cos, symbols\n",
    "from sympy.abc import x\n",
    "import sympy\n",
    "\n",
    "x   = sympy.Symbol('x')\n",
    "y   = sympy.Function('y')\n",
    "\n",
    "left  = sympy.diff(y(x),x)\n",
    "\n",
    "right = 10\n",
    "\n",
    "edo = sympy.Eq( left , right )\n",
    "display(edo)\n",
    "\n",
    "solgen = sympy.dsolve(edo,y(x)) \n",
    "display(solgen)"
   ]
  },
  {
   "cell_type": "markdown",
   "metadata": {},
   "source": [
    "## Cas pratique 2 : Croissance avec déclin ( Growth decay)</b>\n",
    "\n",
    "Ce modèle est le modèle le plus simple qui propose que le changement dans un système soit relatif à la variable d'intérêt. Le modèle de croissance/décroissance proportionnelle s’écrit :\n",
    "\n",
    "\\begin{cases}\n",
    "\\frac{dx}{dt}\n",
    "= ax\n",
    "\\end{cases} \n",
    "\n",
    "Mais on la retrouve écrite aussi comme ça : y' = ax ( à vérifier)\n",
    "\n",
    "Où a est une constante. Si a est positif, le système croît proportionnellement à lui-même. Si a est négatif, le système se désintègre proportionnellement à lui-même.\n",
    "\n",
    "Par exemple, les études démographiques offrent une application intuitive de la croissance proportionnelle. Supposons que nous commencions avec une population de lapins. En supposant des ressources illimitées, les lapins se reproduisent avec une portée moyenne. Cela conduit à de nouvelles générations de lapins, qui se reproduisent également, ce qui signifie qu’à mesure que la population augmente, le taux de croissance augmente également.\n",
    "\n",
    "\n",
    "Source : https://quantdev.ssri.psu.edu/sites/qdev/files/ODEintro_tutorial.html\n",
    "\n",
    "## Example des lapins\n",
    "\n",
    "Supposons qu'on ait 10 lapins au temps t0 ( Condition initiale = 10) et que le taux de croissance soit défini par \n",
    "\n",
    "\\begin{cases}\n",
    "\\frac{dx}{dt}\n",
    "= 0.04x\n",
    "\\end{cases} \n",
    "cela veut dire que la population augmente de 4% a chaque intervalle de temps, et que rien ne s'y oppose.\n",
    "\n",
    "Maintenant, on veut savoir comment va évoluer la population\n",
    " - Graphiquement\n",
    " - Symboliquement\n",
    "\n",
    " ## Solution graphique\n",
    "\n",
    "Donc là, on résouds, comme dans les exemples du début notebook, l'equation diff y' = 0.04x"
   ]
  },
  {
   "cell_type": "code",
   "execution_count": 345,
   "metadata": {},
   "outputs": [
    {
     "data": {
      "image/png": "[encoded data removed]",
      "text/plain": [
       "<Figure size 640x480 with 1 Axes>"
      ]
     },
     "metadata": {},
     "output_type": "display_data"
    }
   ],
   "source": [
    "# Equation\n",
    "def deriv (y,x) :\n",
    "    return 0.04 * x\n",
    "\n",
    "# Choix de l’ intervalle d’intégration\n",
    "x0 = 0\n",
    "xmax = 365 # jours\n",
    "npoints = 365\n",
    "x = np.linspace ( x0 , xmax , npoints )\n",
    "\n",
    "# Condition initiale : Il y a 10 lapins au début\n",
    "y0 = 10\n",
    "\n",
    "solution = odeint ( deriv , y0 , x )\n",
    "y = solution [ : , 0 ]\n",
    "\n",
    "plt.plot ( x , y )\n",
    "plt.title(\"Population de lapins\")\n",
    "plt.ylabel(\"lapins\")\n",
    "plt.xlabel(\"jours\")\n",
    "plt.show ( )"
   ]
  },
  {
   "cell_type": "markdown",
   "metadata": {},
   "source": [
    "## Solution symbolique\n",
    "\n",
    "Etape 1 : Entrer l'eq diff dans Sympy"
   ]
  },
  {
   "cell_type": "code",
   "execution_count": 346,
   "metadata": {},
   "outputs": [
    {
     "data": {
      "text/latex": [
       "$\\displaystyle \\frac{d}{d x} y{\\left(x \\right)} = 0.04 x$"
      ],
      "text/plain": [
       "Eq(Derivative(y(x), x), 0.04*x)"
      ]
     },
     "metadata": {},
     "output_type": "display_data"
    }
   ],
   "source": [
    "from sympy import Function, dsolve, Eq, Derivative, sin, cos, symbols\n",
    "from sympy.abc import x\n",
    "import sympy\n",
    "\n",
    "x   = sympy.Symbol('x')\n",
    "y   = sympy.Function('y')\n",
    "\n",
    "left  = sympy.diff(y(x),x)\n",
    "\n",
    "right = 0.04 * x\n",
    "\n",
    "edo = sympy.Eq( left , right )\n",
    "display(edo)"
   ]
  },
  {
   "cell_type": "markdown",
   "metadata": {},
   "source": [
    "Etape 2 : Trouver la solution générale de l'eq diff"
   ]
  },
  {
   "cell_type": "code",
   "execution_count": 347,
   "metadata": {},
   "outputs": [
    {
     "data": {
      "text/latex": [
       "$\\displaystyle y{\\left(x \\right)} = C_{1} + 0.02 x^{2}$"
      ],
      "text/plain": [
       "Eq(y(x), C1 + 0.02*x**2)"
      ]
     },
     "metadata": {},
     "output_type": "display_data"
    }
   ],
   "source": [
    "solgen = sympy.dsolve(edo,y(x)) \n",
    "display(solgen)"
   ]
  },
  {
   "cell_type": "markdown",
   "metadata": {},
   "source": [
    "Etape 3 : Savoir combien on a de lapins au jour 100"
   ]
  },
  {
   "cell_type": "code",
   "execution_count": null,
   "metadata": {},
   "outputs": [],
   "source": []
  },
  {
   "cell_type": "markdown",
   "metadata": {},
   "source": [
    "# Cas pratique 3 : Croissance de population avec prédation\n",
    "\n",
    "On considère une quantité y(t) (taille d’une population, concentration d’une substance. . . ) qui\n",
    "évolue au cours du temps t, ainsi que sa dérivée y′(t). On suppose qu’il y a une relation entre\n",
    "cette quantité et sa dérivée qui est de la forme y′(t) = f (t, y(t))\n",
    "\n",
    "Le modèle d'évolution de population (taille d’une population, concentration d’une substance. . . )donné par y' = ay  , soit y' / y = a, suppose que pendant un laps de temps donné cette population subit un accroissement proportionnel à sa taille.\n",
    "\n",
    "Source : https://math.univ-cotedazur.fr/~hoering/bio-s2-19/cours-equa-diff-2.pdf\n",
    "https://uel.unisciel.fr/mathematiques/eq_diff/eq_diff_ch01/co/apprendre_ch1_02.html\n",
    "https://allendowney.github.io/ModSimPy/chap08.html\n",
    "\n",
    "## Example \n",
    "\n",
    "Démontrons une simulation où nous commençons avec 100 animaux, \n",
    "un taux de croissance net de 4 % (0,1) par unité de temps, qui peut être d'un mois, et t∈[0,20] mois. \n",
    "\n",
    "dx/ dt = c\n"
   ]
  },
  {
   "cell_type": "code",
   "execution_count": 348,
   "metadata": {},
   "outputs": [
    {
     "data": {
      "image/png": "[encoded data removed]",
      "text/plain": [
       "<Figure size 640x480 with 1 Axes>"
      ]
     },
     "metadata": {},
     "output_type": "display_data"
    }
   ],
   "source": [
    "import numpy as np\n",
    "import matplotlib.pyplot as plt\n",
    "from scipy.integrate import solve_ivp\n",
    "\n",
    "# Etat du système à t0  = Nombre de zèbres à t0\n",
    "z0 = np.array([100])\n",
    "alpha = 0.04\n",
    "\n",
    "f = lambda t, z : alpha * z\n",
    "\n",
    "# Timespan = intervalle de temps étudiée t_span - a tuple (t0, t1) which gives the start and end times of the simulation\n",
    "t_span = (0, 100)\n",
    "t_eval = np.linspace(0,20, 100)\n",
    "\n",
    "sol = solve_ivp(f, t_span, z0, t_eval=t_eval)\n",
    "    \n",
    "plt.plot(sol.t, sol.y[0], c='k')\n",
    "plt.title(\"Le problème du zèbre\")\n",
    "plt.ylabel(\"zebres\")\n",
    "plt.xlabel(\"mois\")\n",
    "plt.show()"
   ]
  },
  {
   "cell_type": "markdown",
   "metadata": {},
   "source": [
    "# Cas pratique 4  : Croissance de population logistique\n",
    "\n",
    "Voici les 3 méthodes de calcul apparentées sur ce sujet : \n",
    "\n",
    "<img src =\"img/logisitcornot.png\"></img>"
   ]
  },
  {
   "cell_type": "code",
   "execution_count": null,
   "metadata": {},
   "outputs": [],
   "source": []
  }
 ],
 "metadata": {
  "kernelspec": {
   "display_name": "Python 3",
   "language": "python",
   "name": "python3"
  },
  "language_info": {
   "codemirror_mode": {
    "name": "ipython",
    "version": 3
   },
   "file_extension": ".py",
   "mimetype": "text/x-python",
   "name": "python",
   "nbconvert_exporter": "python",
   "pygments_lexer": "ipython3",
   "version": "3.9.2"
  }
 },
 "nbformat": 4,
 "nbformat_minor": 2
}
