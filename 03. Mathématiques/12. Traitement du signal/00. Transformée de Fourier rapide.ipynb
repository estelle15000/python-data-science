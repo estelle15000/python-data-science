{
 "cells": [
  {
   "attachments": {},
   "cell_type": "markdown",
   "metadata": {},
   "source": [
    "# La transformée de Fourier\n",
    "\n",
    "Explication :\n",
    "\n",
    "Source : https://courspython.com/fft-introduction.html\n",
    "https://cpge.frama.io/fiches-cpge/Python/Analyse%20fr%C3%A9quentielle%20%28FFT%29/01%20-%20Transform%C3%A9e%20de%20Fourier%201D/\n",
    "https://www.f-legrand.fr/scidoc/docmml/numerique/tfd/transfourier2/transfourier2.html"
   ]
  },
  {
   "cell_type": "code",
   "execution_count": null,
   "metadata": {},
   "outputs": [],
   "source": []
  }
 ],
 "metadata": {
  "language_info": {
   "name": "python"
  },
  "orig_nbformat": 4
 },
 "nbformat": 4,
 "nbformat_minor": 2
}
