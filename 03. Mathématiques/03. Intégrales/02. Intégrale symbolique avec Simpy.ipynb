{
 "cells": [
  {
   "cell_type": "markdown",
   "metadata": {},
   "source": [
    "# Intégrale symbolique avec Sympy\n",
    "\n",
    "La lib Simpy donne les résultats mathématique au format latex !"
   ]
  },
  {
   "cell_type": "code",
   "execution_count": null,
   "metadata": {},
   "outputs": [],
   "source": [
    "from sympy import *\n",
    "from sympy import init_printing\n",
    "init_printing(use_latex=True)\n",
    "\n"
   ]
  }
 ],
 "metadata": {
  "language_info": {
   "name": "python"
  },
  "orig_nbformat": 4
 },
 "nbformat": 4,
 "nbformat_minor": 2
}
