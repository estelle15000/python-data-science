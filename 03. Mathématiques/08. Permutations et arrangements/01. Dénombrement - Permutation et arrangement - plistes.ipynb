{
 "cells": [
  {
   "attachments": {},
   "cell_type": "markdown",
   "metadata": {},
   "source": [
    "# Dénombrement : Arrangement ou Permutation .\n",
    "\n",
    "Exemple :\n",
    "Soit 1 Course de 10 élèves , le podium est de 3 personnes .\n",
    "\n",
    "1.  Calculer le nombre le nombre de permutations possibles , permutations, car c'est le nombre de \" rangements \" possible qui comprends tous les élèves (arrangement de 10 élèves ).\n",
    "\n",
    "2.  Calculer le nombre d'arrangements possibles de 3 personnes sur le podium. Un arrangement est une partie du nb total n d'élèves .\n",
    "\n",
    "3.  Enumérer le nombre d'arrangements possibles de podiums possibles avec itertools.\n",
    "\n",
    "\n",
    "Sources :\n",
    "itertools : https://callicode.fr/blog/post/enumerer.html\n",
    "http://python.jpvweb.com/python/mesrecettespython/doku.php?id=arrangements"
   ]
  },
  {
   "cell_type": "code",
   "execution_count": 1,
   "metadata": {},
   "outputs": [
    {
     "name": "stdout",
     "output_type": "stream",
     "text": [
      "10 Le nombre de permutations possible est de 10! =  3628800\n"
     ]
    }
   ],
   "source": [
    "#1. Calculer le nombre d'arrangements possible des 10 élèves, aussi appelé le nombre de permutations possibles \n",
    "#  la formule est n! (factorielle)\n",
    "\n",
    "eleves = 10\n",
    "fact = 1\n",
    "for i in range(1, eleves+1):\n",
    "  fact = fact * i\n",
    "print (eleves,'Le nombre de permutations possible est de 10! = ',fact)"
   ]
  },
  {
   "cell_type": "code",
   "execution_count": 2,
   "metadata": {},
   "outputs": [
    {
     "name": "stdout",
     "output_type": "stream",
     "text": [
      " Il y a  720  podiums de 3 élèves possibles\n"
     ]
    }
   ],
   "source": [
    "# 2.  Calculer le nombre d'arrangements possibles de 3 personnes sur le podium.\n",
    "#  la formule est n! (factorielle) / (n - k)! Ou n est le nb total d'élèves et k le nb d'élèves sur le podium\n",
    "\n",
    "\n",
    "def arrang(n, k):\n",
    "    \"\"\"Nombre des arrangements de n objets pris k à k\"\"\"\n",
    "    if k>n:\n",
    "        return 0\n",
    "    x = 1\n",
    "    i = n-k+1\n",
    "    while i <= n:\n",
    "        x *= i\n",
    "        i += 1\n",
    "    return x\n",
    "\n",
    "print(\" Il y a \",arrang(eleves,3),\" podiums de 3 élèves possibles\")"
   ]
  },
  {
   "cell_type": "code",
   "execution_count": 3,
   "metadata": {},
   "outputs": [
    {
     "name": "stdout",
     "output_type": "stream",
     "text": [
      "(1, 2, 3)\n",
      "(1, 2, 4)\n",
      "(1, 2, 5)\n",
      "(1, 2, 6)\n",
      "(1, 2, 7)\n",
      "(1, 2, 8)\n",
      "(1, 2, 9)\n",
      "(1, 2, 10)\n",
      "(1, 3, 4)\n",
      "(1, 3, 5)\n",
      "(1, 3, 6)\n",
      "(1, 3, 7)\n",
      "(1, 3, 8)\n",
      "(1, 3, 9)\n",
      "(1, 3, 10)\n",
      "(1, 4, 5)\n",
      "(1, 4, 6)\n",
      "(1, 4, 7)\n",
      "(1, 4, 8)\n",
      "(1, 4, 9)\n",
      "(1, 4, 10)\n",
      "(1, 5, 6)\n",
      "(1, 5, 7)\n",
      "(1, 5, 8)\n",
      "(1, 5, 9)\n",
      "(1, 5, 10)\n",
      "(1, 6, 7)\n",
      "(1, 6, 8)\n",
      "(1, 6, 9)\n",
      "(1, 6, 10)\n",
      "(1, 7, 8)\n",
      "(1, 7, 9)\n",
      "(1, 7, 10)\n",
      "(1, 8, 9)\n",
      "(1, 8, 10)\n",
      "(1, 9, 10)\n",
      "(2, 3, 4)\n",
      "(2, 3, 5)\n",
      "(2, 3, 6)\n",
      "(2, 3, 7)\n",
      "(2, 3, 8)\n",
      "(2, 3, 9)\n",
      "(2, 3, 10)\n",
      "(2, 4, 5)\n",
      "(2, 4, 6)\n",
      "(2, 4, 7)\n",
      "(2, 4, 8)\n",
      "(2, 4, 9)\n",
      "(2, 4, 10)\n",
      "(2, 5, 6)\n",
      "(2, 5, 7)\n",
      "(2, 5, 8)\n",
      "(2, 5, 9)\n",
      "(2, 5, 10)\n",
      "(2, 6, 7)\n",
      "(2, 6, 8)\n",
      "(2, 6, 9)\n",
      "(2, 6, 10)\n",
      "(2, 7, 8)\n",
      "(2, 7, 9)\n",
      "(2, 7, 10)\n",
      "(2, 8, 9)\n",
      "(2, 8, 10)\n",
      "(2, 9, 10)\n",
      "(3, 4, 5)\n",
      "(3, 4, 6)\n",
      "(3, 4, 7)\n",
      "(3, 4, 8)\n",
      "(3, 4, 9)\n",
      "(3, 4, 10)\n",
      "(3, 5, 6)\n",
      "(3, 5, 7)\n",
      "(3, 5, 8)\n",
      "(3, 5, 9)\n",
      "(3, 5, 10)\n",
      "(3, 6, 7)\n",
      "(3, 6, 8)\n",
      "(3, 6, 9)\n",
      "(3, 6, 10)\n",
      "(3, 7, 8)\n",
      "(3, 7, 9)\n",
      "(3, 7, 10)\n",
      "(3, 8, 9)\n",
      "(3, 8, 10)\n",
      "(3, 9, 10)\n",
      "(4, 5, 6)\n",
      "(4, 5, 7)\n",
      "(4, 5, 8)\n",
      "(4, 5, 9)\n",
      "(4, 5, 10)\n",
      "(4, 6, 7)\n",
      "(4, 6, 8)\n",
      "(4, 6, 9)\n",
      "(4, 6, 10)\n",
      "(4, 7, 8)\n",
      "(4, 7, 9)\n",
      "(4, 7, 10)\n",
      "(4, 8, 9)\n",
      "(4, 8, 10)\n",
      "(4, 9, 10)\n",
      "(5, 6, 7)\n",
      "(5, 6, 8)\n",
      "(5, 6, 9)\n",
      "(5, 6, 10)\n",
      "(5, 7, 8)\n",
      "(5, 7, 9)\n",
      "(5, 7, 10)\n",
      "(5, 8, 9)\n",
      "(5, 8, 10)\n",
      "(5, 9, 10)\n",
      "(6, 7, 8)\n",
      "(6, 7, 9)\n",
      "(6, 7, 10)\n",
      "(6, 8, 9)\n",
      "(6, 8, 10)\n",
      "(6, 9, 10)\n",
      "(7, 8, 9)\n",
      "(7, 8, 10)\n",
      "(7, 9, 10)\n",
      "(8, 9, 10)\n"
     ]
    }
   ],
   "source": [
    "# 3. Enumérer le nombre de permutations possibles avec itertools\n",
    "\n",
    "import itertools\n",
    "eleves = [1,2,3,4,5,6,7,8,9,10]\n",
    "for p in itertools.combinations(eleves,3):\n",
    "    print(p)\n"
   ]
  }
 ],
 "metadata": {
  "kernelspec": {
   "display_name": "Python 3",
   "language": "python",
   "name": "python3"
  },
  "language_info": {
   "codemirror_mode": {
    "name": "ipython",
    "version": 3
   },
   "file_extension": ".py",
   "mimetype": "text/x-python",
   "name": "python",
   "nbconvert_exporter": "python",
   "pygments_lexer": "ipython3",
   "version": "3.8.0"
  },
  "orig_nbformat": 4,
  "vscode": {
   "interpreter": {
    "hash": "edb60928ae049011e12e2dc43646b5515922153b602d9d974a622a5d486bbfcc"
   }
  }
 },
 "nbformat": 4,
 "nbformat_minor": 2
}
