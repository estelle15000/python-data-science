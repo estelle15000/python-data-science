{
 "cells": [
  {
   "attachments": {},
   "cell_type": "markdown",
   "metadata": {},
   "source": [
    "# Modèle de croissance logistique classique\n",
    "Problème classique \n",
    "Refait en Python par estelle\n",
    "\n",
    "Source:  Youtube ProMaths Suisse.\n",
    "Source : https://www.youtube.com/watch?v=ZbWAN6Y-fG8"
   ]
  },
  {
   "attachments": {},
   "cell_type": "markdown",
   "metadata": {},
   "source": [
    "<img src =\"img/prob1.png\">"
   ]
  },
  {
   "cell_type": "code",
   "execution_count": 93,
   "metadata": {},
   "outputs": [
    {
     "name": "stdout",
     "output_type": "stream",
     "text": [
      "5.0\n"
     ]
    }
   ],
   "source": [
    "# Quelle est la production initiale de ce bien ?\n",
    "# On prends pour P(t) = P(0)\n",
    "import math\n",
    "\n",
    "calcul = 50 / (8 + 2 * math.exp(-0.05 * 0))\n",
    "\n",
    "print(calcul)\n",
    "# La production initiale de ce bien au mois 1 est de 5 en milliers d'unités"
   ]
  },
  {
   "attachments": {},
   "cell_type": "markdown",
   "metadata": {},
   "source": [
    "<img src =\"img/prob1b.png\">"
   ]
  },
  {
   "cell_type": "code",
   "execution_count": 94,
   "metadata": {},
   "outputs": [
    {
     "name": "stdout",
     "output_type": "stream",
     "text": [
      "Union(Interval.open(-oo, 0), Interval.open(10000, oo))\n",
      "Interval.open(20.0*log(6), oo)\n",
      "35.8351893845611\n",
      "Interval.open(20.0*log(6), oo)\n",
      "Interval.open(20.0*log(6), oo)\n",
      "Interval.open(20.0*log(6), oo)\n",
      "Interval.open(35.8351893845611, oo)\n"
     ]
    }
   ],
   "source": [
    "# Dans combien de mois la production P(t) sera supérieure à  6000 unités ?\n",
    "# Soit 50 / (8 + 2 * math.exp(-0.005 * 0)) > 6\n",
    "\n",
    "from sympy.abc import x\n",
    "from sympy import solve_rational_inequalities, Poly\n",
    "import sympy\n",
    "# eq = 50 / (8 + 2 * math.exp(-0.005 * 0))\n",
    "\n",
    "calcul = 50 / (8 + 2 * sympy.exp(-0.05 * 0))\n",
    "\n",
    "\n",
    "# Exemple de résolution d'inéquation avec sympy\n",
    "# solve (10000 / x) - 1 < 0\n",
    "print(sympy.solveset((10000 / x) - 1 < 0, x, sympy.S.Reals))\n",
    "\n",
    "# Résolution de la question de ProMath ; equation de croissance logistique\n",
    "print(sympy.solveset(50 / (8 + 2 * sympy.exp(-0.05 * x)) > 6,x, sympy.S.Reals))\n",
    "\n",
    "# Sympy nous donne directement la réponse sans faire tout le déroulé \n",
    "# Il nous donne Interval.open(20.0*log(6), oo)\n",
    "# Si maintenant on calcule avec le logarithme, \n",
    "# on trouve le même résultat que ProMaths sur Youtube : 35.835 mois\n",
    "print (20 * math.log(6))\n",
    "\n",
    "# Voici le reste de l'équation , quand on résouds à la main pas à pas ...\n",
    "\n",
    "print(sympy.solveset(50  > 6 * (8 + 2 * sympy.exp(-0.05 * x)),x, sympy.S.Reals))\n",
    "\n",
    "print(sympy.solveset(50  > 48 + 12 * sympy.exp(-0.05 * x),x, sympy.S.Reals))\n",
    "\n",
    "print(sympy.solveset(2  > 12 * sympy.exp(-0.05 * x),x, sympy.S.Reals))\n",
    "\n",
    "print(sympy.solveset((2 / 12) > sympy.exp(-0.05 * x),x, sympy.S.Reals))\n"
   ]
  }
 ],
 "metadata": {
  "kernelspec": {
   "display_name": "Python 3",
   "language": "python",
   "name": "python3"
  },
  "language_info": {
   "codemirror_mode": {
    "name": "ipython",
    "version": 3
   },
   "file_extension": ".py",
   "mimetype": "text/x-python",
   "name": "python",
   "nbconvert_exporter": "python",
   "pygments_lexer": "ipython3",
   "version": "3.8.0"
  },
  "orig_nbformat": 4,
  "vscode": {
   "interpreter": {
    "hash": "edb60928ae049011e12e2dc43646b5515922153b602d9d974a622a5d486bbfcc"
   }
  }
 },
 "nbformat": 4,
 "nbformat_minor": 2
}
