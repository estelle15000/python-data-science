{
 "cells": [
  {
   "attachments": {},
   "cell_type": "markdown",
   "metadata": {},
   "source": [
    "# Modèle de croissance logistique classique\n",
    "Problème classique \n",
    "Refait en Python par estelle\n",
    "\n",
    "Source:  Youtube ProMaths Suisse.\n",
    "Source : https://www.youtube.com/watch?v=ZbWAN6Y-fG8"
   ]
  },
  {
   "attachments": {},
   "cell_type": "markdown",
   "metadata": {},
   "source": [
    "<img src =\"img/prob1.png\">"
   ]
  },
  {
   "cell_type": "code",
   "execution_count": 101,
   "metadata": {},
   "outputs": [
    {
     "name": "stdout",
     "output_type": "stream",
     "text": [
      "5.0\n"
     ]
    }
   ],
   "source": [
    "# Quelle est la production initiale de ce bien ?\n",
    "# On prends pour P(t) = P(0)\n",
    "import math\n",
    "\n",
    "calcul = 50 / (8 + 2 * math.exp(-0.05 * 0))\n",
    "\n",
    "print(calcul)\n",
    "# La production initiale de ce bien au mois 1 est de 5 en milliers d'unités"
   ]
  },
  {
   "cell_type": "markdown",
   "metadata": {},
   "source": [
    "<img src =\"img/prob1b.png\">"
   ]
  },
  {
   "cell_type": "code",
   "execution_count": 102,
   "metadata": {},
   "outputs": [
    {
     "ename": "NameError",
     "evalue": "name 'S' is not defined",
     "output_type": "error",
     "traceback": [
      "\u001b[1;31m---------------------------------------------------------------------------\u001b[0m",
      "\u001b[1;31mNameError\u001b[0m                                 Traceback (most recent call last)",
      "Cell \u001b[1;32mIn[102], line 13\u001b[0m\n\u001b[0;32m      8\u001b[0m calcul \u001b[39m=\u001b[39m \u001b[39m50\u001b[39m \u001b[39m/\u001b[39m (\u001b[39m8\u001b[39m \u001b[39m+\u001b[39m \u001b[39m2\u001b[39m \u001b[39m*\u001b[39m exp(\u001b[39m-\u001b[39m\u001b[39m0.05\u001b[39m \u001b[39m*\u001b[39m \u001b[39m0\u001b[39m))\n\u001b[0;32m     11\u001b[0m \u001b[39m# Exemple de résolution d'inéquation avec sympy\u001b[39;00m\n\u001b[0;32m     12\u001b[0m \u001b[39m# solve (10000 / x) - 1 < 0\u001b[39;00m\n\u001b[1;32m---> 13\u001b[0m \u001b[39mprint\u001b[39m(solveset((\u001b[39m10000\u001b[39m \u001b[39m/\u001b[39m x) \u001b[39m-\u001b[39m \u001b[39m1\u001b[39m \u001b[39m<\u001b[39m \u001b[39m0\u001b[39m, x, S\u001b[39m.\u001b[39mReals))\n\u001b[0;32m     15\u001b[0m \u001b[39m# Résolution de la question de ProMath ; equation de croissance logistique\u001b[39;00m\n\u001b[0;32m     16\u001b[0m \u001b[39mprint\u001b[39m(solveset(\u001b[39m50\u001b[39m \u001b[39m/\u001b[39m (\u001b[39m8\u001b[39m \u001b[39m+\u001b[39m \u001b[39m2\u001b[39m \u001b[39m*\u001b[39m exp(\u001b[39m-\u001b[39m\u001b[39m0.05\u001b[39m \u001b[39m*\u001b[39m x)) \u001b[39m>\u001b[39m \u001b[39m6\u001b[39m,x, S\u001b[39m.\u001b[39mReals))\n",
      "\u001b[1;31mNameError\u001b[0m: name 'S' is not defined"
     ]
    }
   ],
   "source": [
    "# Dans combien de mois la production P(t) sera supérieure à  6000 unités ?\n",
    "# Soit 50 / (8 + 2 * math.exp(-0.005 * 0)) > 6\n",
    "\n",
    "# Import de sympy pour résoudre les inéquations à une variable\n",
    "from sympy import exp # On importe l'exponentielle de sympy car celle de numpy n'est pas compatible dans sympy\n",
    "from sympy import solveset\n",
    "from sympy import Reals\n",
    "\n",
    "calcul = 50 / (8 + 2 * exp(-0.05 * 0))\n",
    "\n",
    "\n",
    "# Exemple de résolution d'inéquation avec sympy\n",
    "# solve (10000 / x) - 1 < 0\n",
    "print(solveset((10000 / x) - 1 < 0, x, Reals))\n",
    "\n",
    "# Résolution de la question de ProMath ; equation de croissance logistique\n",
    "print(solveset(50 / (8 + 2 * exp(-0.05 * x)) > 6,x, Reals))\n",
    "\n",
    "# Sympy nous donne directement la réponse sans faire tout le déroulé \n",
    "# Il nous donne Interval.open(20.0*log(6), oo)\n",
    "# Si maintenant on calcule avec le logarithme, \n",
    "# on trouve le même résultat que ProMaths sur Youtube : 35.835 mois\n",
    "print (20 * math.log(6))\n",
    "\n",
    "# Voici le reste de l'équation , quand on résouds à la main pas à pas ...\n",
    "\n",
    "print(solveset(50  > 6 * (8 + 2 * exp(-0.05 * x)),x, Reals))\n",
    "\n",
    "print(solveset(50  > 48 + 12 * exp(-0.05 * x),x, Reals))\n",
    "\n",
    "print(solveset(2  > 12 * exp(-0.05 * x),x, Reals))\n",
    "\n",
    "print(solveset((2 / 12) > exp(-0.05 * x),x, Reals))\n"
   ]
  }
 ],
 "metadata": {
  "kernelspec": {
   "display_name": "Python 3",
   "language": "python",
   "name": "python3"
  },
  "language_info": {
   "codemirror_mode": {
    "name": "ipython",
    "version": 3
   },
   "file_extension": ".py",
   "mimetype": "text/x-python",
   "name": "python",
   "nbconvert_exporter": "python",
   "pygments_lexer": "ipython3",
   "version": "3.8.0"
  },
  "orig_nbformat": 4,
  "vscode": {
   "interpreter": {
    "hash": "edb60928ae049011e12e2dc43646b5515922153b602d9d974a622a5d486bbfcc"
   }
  }
 },
 "nbformat": 4,
 "nbformat_minor": 2
}
