{
 "cells": [
  {
   "attachments": {},
   "cell_type": "markdown",
   "metadata": {},
   "source": [
    "# La fonction logistique de Verhulst\n",
    "\n",
    "Calcul en python par estelle\n",
    "\n",
    "Source: https://www.youtube.com/watch?v=TfgqscbJZ1s\n",
    "\n",
    " Le modèle logistique (Verhulst 1836) est utilisé comme modèle en dynamique des populations. Il répond aux exigences suivantes :\n",
    "\n",
    "    les ressources étant limitées, la population ne peut pas croître indéfiniment\n",
    "    si la population devient trop importante et manque de ressources, elle doit diminuer\n",
    "\n",
    "l'équation logistique est très simple et permet de calculer très facilement une estimation de la population en fonction de la taille de la population l'an passé (par exemple), dans le cas simple d'un milieu à ressources limitées mais ne contenant qu'une espèce (pas de prédation).\n",
    "\n",
    "Malgré cette apparente simplicité, l'étude de la stabilité de la population à long terme peut s'avérer surprenante. Plus particulièrement, nous allons nous demander si la population tend vers une valeur stable, oscille autour de deux valeurs ou autour de plusieurs valeurs. "
   ]
  },
  {
   "cell_type": "code",
   "execution_count": 123,
   "metadata": {},
   "outputs": [
    {
     "data": {
      "text/plain": [
       "[<matplotlib.lines.Line2D at 0x1f552ed63a0>]"
      ]
     },
     "execution_count": 123,
     "metadata": {},
     "output_type": "execute_result"
    },
    {
     "data": {
      "image/png": "[encoded data removed]",
      "text/plain": [
       "<Figure size 640x480 with 1 Axes>"
      ]
     },
     "metadata": {},
     "output_type": "display_data"
    }
   ],
   "source": [
    "# Lien https://nextjournal.com/essicolo/%C3%A9quation-logistique-en-python\n",
    "\n",
    "# Import des libs\n",
    "import numpy as np # importer un module de calcul mathématique\n",
    "import matplotlib.pyplot as plt # importer un module pour créer un graphique\n",
    "\n",
    "# lapin_0   =  état initial de la population de lapins\n",
    "# K         = Seuil\n",
    "# r         = Coefficient de croissance\n",
    "# t         = c'est les dimensions du graphique pyplot généré\n",
    "\n",
    "def logistique(t, K, r, lapin_0):\n",
    "    return(K/(1+((K-lapin_0)/lapin_0)*np.exp(-r*t)))\n",
    "\n",
    "t = np.linspace(0, 40, 40)\n",
    "lapin = logistique(t = t, K = 40, r = 0.2, lapin_0 = 10)\n",
    "\n",
    "plt.plot(t, lapin)"
   ]
  },
  {
   "attachments": {},
   "cell_type": "markdown",
   "metadata": {},
   "source": [
    "<img src=\"img/verhulst.png\">"
   ]
  },
  {
   "cell_type": "code",
   "execution_count": 124,
   "metadata": {},
   "outputs": [
    {
     "name": "stdout",
     "output_type": "stream",
     "text": [
      "50\n"
     ]
    }
   ],
   "source": [
    "# Import de sympy pour résoudre les inéquations à une variable\n",
    "from sympy import exp # On importe l'exponentielle de sympy car celle de numpy n'est pas compatible dans sympy\n",
    "from sympy import solveset\n",
    "from sympy import Reals\n",
    "from sympy.abc import s,k,t,i\n",
    "\n",
    "s = 100\n",
    "k = 0\n",
    "i = 60\n",
    "\n",
    "fonction = s * ( 1 / (1 + exp(-k * (t-i))))\n",
    "print(fonction)\n",
    "\n",
    "# Exemple de résolution d'inéquation avec sympy\n",
    "# solve (10000 / x) - 1 < 0\n",
    "# print(solveset((10000 / x) - 1 < 0, x, Reals))\n"
   ]
  }
 ],
 "metadata": {
  "kernelspec": {
   "display_name": "Python 3",
   "language": "python",
   "name": "python3"
  },
  "language_info": {
   "codemirror_mode": {
    "name": "ipython",
    "version": 3
   },
   "file_extension": ".py",
   "mimetype": "text/x-python",
   "name": "python",
   "nbconvert_exporter": "python",
   "pygments_lexer": "ipython3",
   "version": "3.8.0"
  },
  "orig_nbformat": 4,
  "vscode": {
   "interpreter": {
    "hash": "edb60928ae049011e12e2dc43646b5515922153b602d9d974a622a5d486bbfcc"
   }
  }
 },
 "nbformat": 4,
 "nbformat_minor": 2
}
