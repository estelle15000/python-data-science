{
 "cells": [
  {
   "cell_type": "code",
   "execution_count": 3,
   "metadata": {},
   "outputs": [],
   "source": [
    "# SciPy permet d’intégrer (de résoudre) numériquement des équations différentielles. \n",
    "# Le code ci-dessous\n",
    "# permet de résoudre l’équation différentielle du premier ordre suivante : y′ = y · sin(y) + sin(x) avec\n",
    "# y(x = 0) = 2."
   ]
  },
  {
   "cell_type": "code",
   "execution_count": 4,
   "metadata": {},
   "outputs": [
    {
     "ename": "SyntaxError",
     "evalue": "invalid character in identifier (3157131581.py, line 6)",
     "output_type": "error",
     "traceback": [
      "\u001b[1;36m  Cell \u001b[1;32mIn[4], line 6\u001b[1;36m\u001b[0m\n\u001b[1;33m    return y ∗ sin( y ) + sin( x )\u001b[0m\n\u001b[1;37m             ^\u001b[0m\n\u001b[1;31mSyntaxError\u001b[0m\u001b[1;31m:\u001b[0m invalid character in identifier\n"
     ]
    }
   ],
   "source": [
    "from scipy import *\n",
    "from scipy.integrate import odeint #Pour ré soudre l’é quation diffé rentielle\n",
    "import matplotlib.pyplotasplt # Permet de tracer des graphes\n",
    "\n",
    "def deriv (y,x) :\n",
    "    return y * sin( y ) + sin( x )\n",
    "\n",
    "#Choix de l’ intervalle d’intégration\n",
    "x0 = 0\n",
    "xmax = 20\n",
    "npoints = 1000\n",
    "x = linspace ( x0 , xmax , npoints )\n",
    "\n",
    "# Condition initiale\n",
    "y0 = 2 # y(x0) = y0\n",
    "\n",
    "solution = odeint ( deriv , y0 , x )\n",
    "y = solution [ : , 0 ]\n",
    "\n",
    "plt.plot ( x , y )\n",
    "plt.show ( )"
   ]
  }
 ],
 "metadata": {
  "kernelspec": {
   "display_name": "Python 3",
   "language": "python",
   "name": "python3"
  },
  "language_info": {
   "codemirror_mode": {
    "name": "ipython",
    "version": 3
   },
   "file_extension": ".py",
   "mimetype": "text/x-python",
   "name": "python",
   "nbconvert_exporter": "python",
   "pygments_lexer": "ipython3",
   "version": "3.8.0"
  },
  "orig_nbformat": 4,
  "vscode": {
   "interpreter": {
    "hash": "edb60928ae049011e12e2dc43646b5515922153b602d9d974a622a5d486bbfcc"
   }
  }
 },
 "nbformat": 4,
 "nbformat_minor": 2
}
