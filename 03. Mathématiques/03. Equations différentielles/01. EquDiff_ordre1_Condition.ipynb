{
 "cells": [
  {
   "cell_type": "code",
   "execution_count": 5,
   "metadata": {},
   "outputs": [],
   "source": [
    "# SciPy permet d’intégrer (de résoudre) numériquement des équations différentielles. \n",
    "# Le code ci-dessous\n",
    "# permet de résoudre l’équation différentielle du premier ordre suivante : y′ = y · sin(y) + sin(x) avec\n",
    "# y(x = 0) = 2."
   ]
  },
  {
   "cell_type": "code",
   "execution_count": 6,
   "metadata": {},
   "outputs": [
    {
     "ename": "ModuleNotFoundError",
     "evalue": "No module named 'scipy'",
     "output_type": "error",
     "traceback": [
      "\u001b[1;31m---------------------------------------------------------------------------\u001b[0m",
      "\u001b[1;31mModuleNotFoundError\u001b[0m                       Traceback (most recent call last)",
      "Cell \u001b[1;32mIn[6], line 1\u001b[0m\n\u001b[1;32m----> 1\u001b[0m \u001b[39mfrom\u001b[39;00m \u001b[39mscipy\u001b[39;00m \u001b[39mimport\u001b[39;00m \u001b[39m*\u001b[39m\n\u001b[0;32m      2\u001b[0m \u001b[39mfrom\u001b[39;00m \u001b[39mscipy\u001b[39;00m\u001b[39m.\u001b[39;00m\u001b[39mintegrate\u001b[39;00m \u001b[39mimport\u001b[39;00m odeint \u001b[39m#Pour ré soudre l’é quation diffé rentielle\u001b[39;00m\n\u001b[0;32m      3\u001b[0m \u001b[39mimport\u001b[39;00m \u001b[39mmatplotlib\u001b[39;00m\u001b[39m.\u001b[39;00m\u001b[39mpyplotasplt\u001b[39;00m \u001b[39m# Permet de tracer des graphes\u001b[39;00m\n",
      "\u001b[1;31mModuleNotFoundError\u001b[0m: No module named 'scipy'"
     ]
    }
   ],
   "source": [
    "from scipy import *\n",
    "from scipy.integrate import odeint #Pour ré soudre l’équation diffé rentielle\n",
    "import matplotlib.pyplotasplt # Permet de tracer des graphes\n",
    "\n",
    "def deriv (y,x) :\n",
    "    return y * sin( y ) + sin( x )\n",
    "\n",
    "# Choix de l’ intervalle d’intégration\n",
    "x0 = 0\n",
    "xmax = 20\n",
    "npoints = 1000\n",
    "x = linspace ( x0 , xmax , npoints )\n",
    "\n",
    "# Condition initiale\n",
    "y0 = 2 # y(x0) = y0\n",
    "\n",
    "solution = odeint ( deriv , y0 , x )\n",
    "y = solution [ : , 0 ]\n",
    "\n",
    "plt.plot ( x , y )\n",
    "plt.show ( )"
   ]
  }
 ],
 "metadata": {
  "kernelspec": {
   "display_name": "Python 3",
   "language": "python",
   "name": "python3"
  },
  "language_info": {
   "codemirror_mode": {
    "name": "ipython",
    "version": 3
   },
   "file_extension": ".py",
   "mimetype": "text/x-python",
   "name": "python",
   "nbconvert_exporter": "python",
   "pygments_lexer": "ipython3",
   "version": "3.8.0 (tags/v3.8.0:fa919fd, Oct 14 2019, 19:37:50) [MSC v.1916 64 bit (AMD64)]"
  },
  "orig_nbformat": 4,
  "vscode": {
   "interpreter": {
    "hash": "edb60928ae049011e12e2dc43646b5515922153b602d9d974a622a5d486bbfcc"
   }
  }
 },
 "nbformat": 4,
 "nbformat_minor": 2
}
