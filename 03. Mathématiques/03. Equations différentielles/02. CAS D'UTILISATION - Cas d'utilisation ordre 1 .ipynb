{
 "cells": [
  {
   "attachments": {},
   "cell_type": "markdown",
   "metadata": {},
   "source": [
    "# Les équations différentielles d'ordre 1\n",
    "\n",
    "- Définition : Une équation différentielle du premier ordre est une équation dont l'inconnue est une fonction, et où intervient la dérivée de cette fonction. \n",
    "- Rôle : Trouver une ou un intervalle de solutions à une équation donnée. \n",
    "- Intérêt : En Statistiques, en Electricité, Chimie et Biologie.\n",
    "\n",
    "On veut trouver des exemples de problèmes concrets mettant en jeu des équations différentielles d'ordre un et les résoudre avec Python .\n",
    "\n",
    "Ce notebook va donc répertorier des cas d'utilisation des équations différentielles, avec un vocabulaire le plus simpliste possible.\n",
    "\n",
    "Liens : \n",
    "- https://fr.wikipedia.org/wiki/%C3%89quation_diff%C3%A9rentielle_lin%C3%A9aire_d%27ordre_un\n",
    "\n",
    "- https://www.sfu.ca/math-coursenotes/Math%20158%20Course%20Notes/sec_first_order_differential_equations.html\n",
    "\n",
    "- http://apmonitor.com/che263/index.php/Main/PythonDynamicSim\n",
    "\n",
    "- http://hplgit.github.io/Programming-for-Computations/pub/p4c/p4c-sphinx-Python/._pylight005.html"
   ]
  },
  {
   "attachments": {},
   "cell_type": "markdown",
   "metadata": {},
   "source": [
    "## Exemple 1 : Croissance de population"
   ]
  },
  {
   "attachments": {},
   "cell_type": "markdown",
   "metadata": {},
   "source": [
    "## Example 2 : Expansion de maladie"
   ]
  }
 ],
 "metadata": {
  "kernelspec": {
   "display_name": "Python 3",
   "language": "python",
   "name": "python3"
  },
  "language_info": {
   "codemirror_mode": {
    "name": "ipython",
    "version": 3
   },
   "file_extension": ".py",
   "mimetype": "text/x-python",
   "name": "python",
   "nbconvert_exporter": "python",
   "pygments_lexer": "ipython3",
   "version": "3.8.0"
  },
  "orig_nbformat": 4
 },
 "nbformat": 4,
 "nbformat_minor": 2
}
