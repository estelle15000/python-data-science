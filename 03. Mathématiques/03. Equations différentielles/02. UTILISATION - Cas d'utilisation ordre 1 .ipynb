{
 "cells": [
  {
   "attachments": {},
   "cell_type": "markdown",
   "metadata": {},
   "source": [
    "# Les équations différentielles d'ordre 1\n",
    "\n",
    "\n",
    "- Rôle : Une équation différentielle du premier ordre est une équation dont l'inconnue est une fonction, et où intervient la dérivée de cette fonction. \n",
    "- Intérêt : En statistiques, en électricité, Chimie et Biologie.\n",
    "\n",
    "On veut trouver des exemples de problèmes concrets mettant en jeu des équations différentielles d'ordre un et les résoudre avec Python .\n",
    "\n",
    "Ce notebook va donc répertorier des cas d'utilisation des équations différentielles, avec un vocabulaire le plus simpliste possible."
   ]
  },
  {
   "cell_type": "code",
   "execution_count": null,
   "metadata": {},
   "outputs": [],
   "source": []
  }
 ],
 "metadata": {
  "language_info": {
   "name": "python"
  },
  "orig_nbformat": 4
 },
 "nbformat": 4,
 "nbformat_minor": 2
}
