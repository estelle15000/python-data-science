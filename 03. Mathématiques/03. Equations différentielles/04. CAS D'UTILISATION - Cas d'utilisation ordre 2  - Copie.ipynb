{
 "cells": [
  {
   "cell_type": "code",
   "execution_count": null,
   "metadata": {},
   "outputs": [],
   "source": []
  },
  {
   "attachments": {},
   "cell_type": "markdown",
   "metadata": {},
   "source": [
    "For example you can use heat transfer PDE (partial differential equation) to calculate the temperature of your coffee after some time of cooling. Or take Navier-Stokes equations to simulate the flow of air around a car."
   ]
  }
 ],
 "metadata": {
  "language_info": {
   "name": "python"
  },
  "orig_nbformat": 4
 },
 "nbformat": 4,
 "nbformat_minor": 2
}
