{
 "cells": [
  {
   "cell_type": "markdown",
   "metadata": {},
   "source": []
  },
  {
   "attachments": {},
   "cell_type": "markdown",
   "metadata": {},
   "source": [
    "## Equation différentielle d'ordre 1\n",
    "\n",
    "- Définition : Une équation différentielle du premier ordre est une équation dont l'inconnue est une fonction, et où intervient la dérivée de cette fonction. \n",
    "- Rôle : Trouver une ou un intervalle de solutions à une équation donnée. \n",
    "- Intérêt : En Statistiques, en Electricité, Chimie et Biologie.\n",
    "- Nom en Anglais : ODE\n",
    "\n",
    "<b>Sommaire :</b>\n",
    "\n",
    "- 1. Histoire\n",
    "- 2. Méthode de résolution\n",
    "- 3. Résoudre numériquement une équation différentielle d'ordre 1 ( Méthode ApMonitor)\n",
    "- 4. Résoudre numériquement équation différentielle d'ordre 1 ( Méthode Simpy)\n",
    "- 5. Résoudre symboliquement une équation différentielle d'ordre 1  avec Simpy\n",
    "- 6. Résoudre une équation différentielle d'ordre 1 ( Méthode de calcul à la main)\n",
    "- 7. Liens\n",
    "- 8. Témoignage de professeur\n",
    "\n",
    "** CREATION EN COURS - SUJET A DE LOURDES MODIFICATIONS **\n",
    "\n",
    "# Histoire :\n",
    "\n",
    "- https://towardsdatascience.com/ordinal-differential-equation-ode-in-python-8dc1de21323b\n",
    "\n",
    "L'équation différentielle ordinaire (ODE) peut être utilisée pour décrire un système dynamique. Dans une certaine mesure, nous vivons dans un système dynamique, le temps à l'extérieur de la fenêtre change de l'aube au crépuscule, le métabolisme se produit dans notre corps est également un système dynamique car des milliers de réactions et de molécules ont été synthétisées et dégradées au fil du temps.\n",
    "\n",
    "Plus formellement, si nous définissons un ensemble de variables, comme les températures en une journée, ou la quantité de molécule X à un certain moment, et que cela change avec la variable indépendante (dans un système dynamique, ce sera généralement le temps t) . \n",
    "\n",
    "ODE nous offre un moyen de représenter mathématiquement les changements dynamiques de variables définies. Le système opposé à cela s'appelle système statique, en pensant à prendre une photo de l'extérieur, cet instantané ne contient aucune dynamique, en d'autres termes, il est statique.\n",
    "\n",
    "Résoudre des équations différentielles ordinaires signifie déterminer comment les variables changeront au fil du temps, la solution, parfois appelée courbe de solution (illustrée visuellement ci-dessous), fournit une prédiction informative du comportement par défaut de tout système dynamique.\n",
    "\n",
    "C'est une équation qui implique les dérivées, mais pas de dérivée partielle dans l'équation elle-même. En d'autres termes, nous ne considérons qu'une seule variable indépendante, c'est-à-dire le temps t. Lorsque nous avons plus d'une variable indépendante, elle devient une équation aux dérivées partielles (EDP), ce qui n'entre pas dans le cadre de cet article.\n",
    "\n",
    "# Histoire - Partie 2 \n",
    "\n",
    "- http://hplgit.github.io/Programming-for-Computations/pub/p4c/p4c-sphinx-Python/._pylight005.html\n",
    "\n",
    "Les équations différentielles constituent l'un des outils mathématiques les plus puissants pour comprendre et prédire le comportement des systèmes dynamiques dans la nature, l'ingénierie et la société. \n",
    "\n",
    "Un système dynamique est un système avec un état, généralement exprimé par un ensemble de variables, qui évolue dans le temps. \n",
    "\n",
    "Par exemple, un pendule oscillant, la propagation d'une maladie et le temps sont des exemples de systèmes dynamiques. \n",
    "\n",
    "Nous pouvons utiliser les lois fondamentales de la physique, ou simplement l'intuition, pour exprimer les règles mathématiques qui régissent l'évolution du système dans le temps. \n",
    "\n",
    "Ces règles prennent la forme d'équations différentielles. \n",
    "\n",
    "Vous avez probablement une bonne expérience des équations, du moins des équations comme ax+b=0 ou ax2+bx+c=0. De telles équations sont appelées équations algébriques et l'inconnue est un nombre. \n",
    "\n",
    "L'inconnue dans une équation différentielle est une fonction, et une équation différentielle impliquera presque toujours cette fonction et une ou plusieurs dérivées de la fonction. \n",
    "\n",
    "Par exemple, f′(x)=f(x) est une simple équation différentielle (demandant s'il existe une fonction f telle qu'elle soit égale à sa dérivée - vous vous souviendrez peut-être que ex ( exponentielle de x) est un candidat).\n",
    "\n",
    "\n",
    "\n",
    "## Applications : \n",
    "\n",
    "    - Loi de refroidissement/réchauffement.\n",
    "\n",
    "    - Croissance et déclin de la population.\n",
    "\n",
    "    - Désintégration radioactive et datation au carbone.\n",
    "\n",
    "    - Mélange de deux solutions salines.\n",
    "\n",
    "    - Circuits en série.\n",
    "\n",
    "    - Capacité de survie avec une maladie grave.\n",
    "\n",
    "    - Vidange d'un réservoir.\n",
    "    \n",
    "    - Economie et Finances.\n",
    "    \n",
    "<img src =\"img/blackscole.png\"></img>\n",
    "    \n",
    "    - Modélisation de la croissance et de la chimiothérapie du cancer\n",
    "\n",
    "    - Modélisation des maladies épidémiques, par ex. dengue, HFMD, paludisme…\n",
    "\n",
    "    - Modèle de rumeur/malware dans le réseau électronique social\n",
    "\n",
    "    - Modèles liés à la sécurité/au terrorisme\n",
    "\n",
    "    - Dans un jeu vidéo simple impliquant un mouvement de saut, une équation différentielle est utilisée pour modéliser la vitesse d'un personnage après que l'ordre a été donné de le ramener au sol dans un champ gravitationnel simulé.\n",
    "\n",
    "    - Loi de refroidissement de Newton : dT/dt=k(T-Ti), où T est la température du corps et Ti est la température de l'environnement.\n",
    "\n",
    "    - les problèmes mécaniques impliquant une accélération variable peuvent être résolus à l'aide d'équations séparables ou d'une équation linéaire du 1er ordre (en tenant compte de la traînée)\n",
    "\n",
    "    - les équations linéaires du 1er ordre sont également utilisées pour résoudre des problèmes tels que la quantité de sel dans un réservoir lorsque vous ajoutez et vidangez du sel à des taux différents.\n",
    "\n",
    "    - les circuits capacitifs résistifs peuvent être analysés à l'aide des équations du 1er ordre. Cela nous aide à trouver la charge stockée dans le condensateur et le courant dans le circuit à tout moment t.\n",
    "\n",
    "En mécanique classique, ils sont utilisés pour résoudre les équations de gravité, le mouvement harmonique simple, etc.\n",
    "\n",
    "En statique et en dynamique, ils sont utilisés pour étudier les problèmes de flexion des poutres, les vibrations, etc.\n",
    "\n",
    "En électricité, ils sont utilisés dans l'étude des circuits RLC.\n",
    "\n",
    "En chimie, ils sont utilisés pour étudier les taux de réaction.\n",
    "\n",
    "En écologie, ils sont utilisés dans la dynamique des populations pour estimer la population d'une espèce.\n",
    "\n",
    "\n",
    "\n"
   ]
  },
  {
   "attachments": {},
   "cell_type": "markdown",
   "metadata": {},
   "source": [
    "# Méthode de résolution\n",
    "\n",
    "<img src=\"img/eq-diff.jpg\">\n",
    "\n",
    "https://www.methodemaths.fr/equadiff/\n",
    "\n",
    "La résolution des équations différentielles d’ordre 1 et 2 est basée sur le principe suivant :\n",
    "– 1ère étape : résoudre l’équation homogène en appliquant les formules (que l’on verra ci-dessous) : la solution de l’équation homogène est souvent notée yH (H signifiant homogène).\n",
    "A noter que yH comporte des constantes qu’il faudra déterminer.\n",
    "\n",
    "– 2ème étape : trouver une solution particulière de l’équation totale (c’est-à-dire avec second membre) : cette solution est notée yp (p signifiant particulière). N’importe quelle solution particulière de l’équation totale convient : nous verrons les différentes méthodes pour trouver une solution particulière.\n",
    "\n",
    "– 3ème étape : la solution y cherchée est tout simplement y = yH + yp\n",
    "\n",
    "– 4ème étape : trouver les constantes si on dispose de conditions particulières."
   ]
  },
  {
   "attachments": {},
   "cell_type": "markdown",
   "metadata": {},
   "source": [
    "# Résoudre une équation différentielle ( Méthode ApMonitor)\n",
    "\n",
    "Lien : https://apmonitor.com/pdc/index.php/Main/SolveDifferentialEquations\n",
    "\n",
    "Les équations différentielles sont résolues en Python avec le package Scipy.integrate en utilisant la fonction odeint ou solve_ivp.\n",
    "\n",
    "ODEINT nécessite trois entrées :\n",
    " y = odeint(model, y0, t)\n",
    "\n",
    " 1. model : nom de la fonction qui renvoie les valeurs dérivées aux valeurs y et t demandées sous la forme dydt = model(y,t)\n",
    "\n",
    " 2.   y0 : <b>Condition initiale</b> des états différentiels\n",
    "   \n",
    "3.  t : instants auxquels la solution doit être trouvée, <b>intervalle de temps</b>. \n",
    "\n",
    "Un exemple d'utilisation d'ODEINT est avec l'équation différentielle suivante avec le paramètre k=0.3, la condition initiale y0=5 et l'équation différentielle suivante.\n",
    "\n",
    "$$\\frac{dy(t)}{dt} = -k \\; y(t)$$\n",
    "\n",
    "Le code Python importe d'abord les packages Numpy, Scipy et Matplotlib nécessaires. Le modèle, les conditions initiales et les points temporels sont définis comme des entrées d'ODEINT pour calculer numériquement y(t).\n",
    "\n",
    "\n",
    "\n"
   ]
  },
  {
   "cell_type": "code",
   "execution_count": 54,
   "metadata": {},
   "outputs": [
    {
     "data": {
      "image/png": "[encoded data removed]",
      "text/plain": [
       "<Figure size 640x480 with 1 Axes>"
      ]
     },
     "metadata": {},
     "output_type": "display_data"
    }
   ],
   "source": [
    "import numpy as np\n",
    "from scipy.integrate import odeint\n",
    "import matplotlib.pyplot as plt\n",
    "\n",
    "# Fonction qui retourne dy/dt\n",
    "def model(y,t):\n",
    "    k = 0.3\n",
    "    dydt = -k * y\n",
    "    return dydt\n",
    "\n",
    "# Condition initiale\n",
    "y0 = 5\n",
    "\n",
    "# Intervalle de temps , points\n",
    "t = np.linspace(0,20)\n",
    "\n",
    "# Résoudre l'équation  différentielle ( ODE en Anglais)\n",
    "y = odeint(model,y0,t)\n",
    "\n",
    "# Dessiner le résultat\n",
    "plt.plot(t,y)\n",
    "plt.xlabel('temps')\n",
    "plt.ylabel('y(t)')\n",
    "plt.show()"
   ]
  },
  {
   "attachments": {},
   "cell_type": "markdown",
   "metadata": {},
   "source": [
    "# Second exemple avec Scipy\n",
    "\n",
    "SciPy permet d’intégrer (de résoudre) numériquement des équations différentielles. \n",
    "\n",
    "Le code ci-dessous permet de résoudre l’équation différentielle du premier ordre suivante : \n",
    "\n",
    "y′ = y · sin(y) + sin(x) avec y(x = 0) = 2."
   ]
  },
  {
   "cell_type": "code",
   "execution_count": 55,
   "metadata": {},
   "outputs": [],
   "source": [
    "# Import des libs\n",
    "from scipy import *\n",
    "from scipy.integrate import odeint #Pour ré soudre l’équation différentielle\n",
    "import matplotlib.pyplot as plt # Permet de tracer des graphes\n",
    "import numpy as np\n",
    "from math import *\n"
   ]
  },
  {
   "cell_type": "code",
   "execution_count": 56,
   "metadata": {},
   "outputs": [
    {
     "data": {
      "image/png": "[encoded data removed]",
      "text/plain": [
       "<Figure size 640x480 with 1 Axes>"
      ]
     },
     "metadata": {},
     "output_type": "display_data"
    }
   ],
   "source": [
    "\n",
    "# Equation\n",
    "def deriv (y,x) :\n",
    "    return y * sin( y ) + sin( x )\n",
    "\n",
    "# Choix de l’ intervalle d’intégration\n",
    "x0 = 0\n",
    "xmax = 20\n",
    "npoints = 1000\n",
    "x = np.linspace ( x0 , xmax , npoints )\n",
    "\n",
    "# Condition initiale\n",
    "y0 = 2 # y(x0) = y0\n",
    "\n",
    "solution = odeint ( deriv , y0 , x )\n",
    "y = solution [ : , 0 ]\n",
    "\n",
    "plt.plot ( x , y )\n",
    "plt.show ( )"
   ]
  },
  {
   "cell_type": "markdown",
   "metadata": {},
   "source": [
    "# Résoudre symboliquement une équation différentielle d'ordre 1.\n",
    "\n",
    "Le problème de Cauchy:\n",
    "\\begin{cases}\n",
    "u'(x)=-3x^2u(x)+6x^2,\\\\\n",
    "u(0)=4.\n",
    "\\end{cases}\n",
    "\n",
    "Lien https://moodle.univ-tln.fr/pluginfile.php/405411/mod_resource/content/8/TP1-EDO-Scipy-Sympy.html#Exemple-de-r%C3%A9solution-analytique-d%E2%80%99une-%C3%A9quation-diff%C3%A9rentielle-d'ordre-1\n",
    "\n",
    "# Etape 1: On entre l'équation diff"
   ]
  },
  {
   "cell_type": "code",
   "execution_count": 57,
   "metadata": {},
   "outputs": [
    {
     "data": {
      "text/latex": [
       "$\\displaystyle \\frac{d}{d x} u{\\left(x \\right)} = - 3 x^{2} u{\\left(x \\right)} + 6 x^{2}$"
      ],
      "text/plain": [
       "Eq(Derivative(u(x), x), -3*x**2*u(x) + 6*x**2)"
      ]
     },
     "metadata": {},
     "output_type": "display_data"
    }
   ],
   "source": [
    "from sympy import Function, dsolve, Eq, Derivative, sin, cos, symbols\n",
    "from sympy.abc import x\n",
    "import sympy\n",
    "\n",
    "x   = sympy.Symbol('x')\n",
    "u   = sympy.Function('u')\n",
    "\n",
    "left  = sympy.diff(u(x),x)\n",
    "\n",
    "right = 6*x**2 - 3*x**2 * u(x)\n",
    "\n",
    "edo = sympy.Eq( left , right )\n",
    "display(edo)"
   ]
  },
  {
   "cell_type": "markdown",
   "metadata": {},
   "source": [
    "# Etape 2 : SOlution générale\n",
    "\n",
    "( Je pense que c'est le résultat de l'eq homogène  - à vérifier)"
   ]
  },
  {
   "cell_type": "code",
   "execution_count": 58,
   "metadata": {},
   "outputs": [
    {
     "data": {
      "text/latex": [
       "$\\displaystyle u{\\left(x \\right)} = C_{1} e^{- x^{3}} + 2$"
      ],
      "text/plain": [
       "Eq(u(x), C1*exp(-x**3) + 2)"
      ]
     },
     "metadata": {},
     "output_type": "display_data"
    }
   ],
   "source": [
    "solgen = sympy.dsolve(edo,u(x)) \n",
    "display(solgen)"
   ]
  },
  {
   "cell_type": "markdown",
   "metadata": {},
   "source": [
    "Prise en compte des conditions initiales:"
   ]
  },
  {
   "cell_type": "code",
   "execution_count": 59,
   "metadata": {},
   "outputs": [
    {
     "data": {
      "text/plain": [
       "{C1: 2}"
      ]
     },
     "execution_count": 59,
     "metadata": {},
     "output_type": "execute_result"
    }
   ],
   "source": [
    "x0 = 0\n",
    "u0 = 4\n",
    "consts = sympy.solve( sympy.Eq( u0, solgen.rhs.subs(x,x0)) , dict=True)[0]\n",
    "consts"
   ]
  },
  {
   "cell_type": "code",
   "execution_count": 60,
   "metadata": {},
   "outputs": [
    {
     "data": {
      "text/latex": [
       "$\\displaystyle u{\\left(x \\right)} = 2 + 2 e^{- x^{3}}$"
      ],
      "text/plain": [
       "Eq(u(x), 2 + 2*exp(-x**3))"
      ]
     },
     "execution_count": 60,
     "metadata": {},
     "output_type": "execute_result"
    }
   ],
   "source": [
    "solpar = solgen.subs(consts)\n",
    "solpar"
   ]
  },
  {
   "cell_type": "markdown",
   "metadata": {},
   "source": [
    "On transforme le résultat en une fonction vectorisée :"
   ]
  },
  {
   "cell_type": "code",
   "execution_count": 61,
   "metadata": {},
   "outputs": [],
   "source": [
    "func = sympy.lambdify(x,solpar.rhs,'numpy')"
   ]
  },
  {
   "cell_type": "code",
   "execution_count": 62,
   "metadata": {},
   "outputs": [
    {
     "data": {
      "image/png": "[encoded data removed]",
      "text/plain": [
       "<Figure size 1000x700 with 1 Axes>"
      ]
     },
     "metadata": {},
     "output_type": "display_data"
    }
   ],
   "source": [
    "from matplotlib.pylab import *\n",
    "# rcdefaults()\n",
    "rcParams.update({'font.size': 16})\n",
    "figure(figsize=(10,7))\n",
    "xx=linspace(0,3,101)\n",
    "yy=func(xx)\n",
    "plot(xx,yy)\n",
    "xlabel('x')\n",
    "ylabel('u')\n",
    "grid();"
   ]
  },
  {
   "cell_type": "markdown",
   "metadata": {},
   "source": [
    "# Second essai d'équation différentielle\n",
    "\n",
    " Je veux résoudre l'équation différentielle :\n",
    " 7x³ y – 5y’ = 0\n",
    "\n",
    " Je mets au format pour sympy:\n",
    "\n",
    " y' = 7x³ y / 5"
   ]
  },
  {
   "cell_type": "code",
   "execution_count": 63,
   "metadata": {},
   "outputs": [
    {
     "data": {
      "text/latex": [
       "$\\displaystyle \\frac{d}{d x} y{\\left(x \\right)} = \\frac{7 x^{3} y{\\left(x \\right)}}{5}$"
      ],
      "text/plain": [
       "Eq(Derivative(y(x), x), 7*x**3*y(x)/5)"
      ]
     },
     "metadata": {},
     "output_type": "display_data"
    },
    {
     "data": {
      "text/latex": [
       "$\\displaystyle y{\\left(x \\right)} = C_{1} e^{\\frac{7 x^{4}}{20}}$"
      ],
      "text/plain": [
       "Eq(y(x), C1*exp(7*x**4/20))"
      ]
     },
     "metadata": {},
     "output_type": "display_data"
    }
   ],
   "source": [
    "from sympy import Function, dsolve, Eq, Derivative, sin, cos, symbols\n",
    "from sympy.abc import x\n",
    "import sympy\n",
    "\n",
    "x   = sympy.Symbol('x')\n",
    "y   = sympy.Function('y')\n",
    "\n",
    "left  = sympy.diff(y(x),x)\n",
    "\n",
    "right = 7 * x**3 / 5 * y(x)\n",
    "\n",
    "# On affiche l'eq diff\n",
    "edo = sympy.Eq( left , right )\n",
    "display(edo)\n",
    "\n",
    "# On trouve la solution générale ( Je pense que c'est le résultat de l'eq homogène à vérifier)\n",
    "solgen = sympy.dsolve(edo,y(x))\n",
    "display(solgen)\n",
    "\n",
    "# Le résultat est le même que dans https://www.methodemaths.fr/equadiff/"
   ]
  },
  {
   "attachments": {},
   "cell_type": "markdown",
   "metadata": {},
   "source": [
    "# Résoudre une équation différentielle à la main\n",
    "\n",
    "<b>Lire absolument le site https://www.methodemaths.fr/equadiff/\n",
    "Qui est miraculeux, on comprends tout.</b>\n",
    "\n",
    "https://www.bibmath.net/ressources/index.php?action=affiche&quoi=bde/analyse/equadiff/eqlineairespremordre&type=fexo\n",
    "\n",
    "Bon lien :\n",
    "\n",
    "https://www.mathmaurer.com/maths__tc/ana05/cours/_tc_ana5_cours_03.html\n",
    "\n",
    "\n",
    "Suivre ces méthodes bien faites de université Paris Saclay:\n",
    "\n",
    "https://wimsauto.universite-paris-saclay.fr/wims/wims.cgi?module=U2/analysis/doceqdif1.fr\n",
    "\n",
    "\n",
    "https://wimsauto.universite-paris-saclay.fr/wims/wims.cgi?session=BC9B10DE79.1&+lang=fr&+module=U2%2Fanalysis%2Fdoceqdif1.fr&+cmd=reply&+job=read&+doc=1&+block=IeqhomG"
   ]
  },
  {
   "attachments": {},
   "cell_type": "markdown",
   "metadata": {},
   "source": [
    "\n",
    "\n",
    "# Liens : \n",
    "Liens : \n",
    "\n",
    "- https://notebook.community/regisDe/compagnons/.ipynb_checkpoints/Calcul%20symbolique-checkpoint\n",
    "\n",
    "- https://fr.wikipedia.org/wiki/Exemples_d%27%C3%A9quations_diff%C3%A9rentielles\n",
    "\n",
    "- https://fr.wikipedia.org/wiki/%C3%89quation_diff%C3%A9rentielle_lin%C3%A9aire_d%27ordre_un\n",
    "\n",
    "- Bon cours : https://math.unice.fr/~labourie/preprints/pdf/Math111.pdf\n",
    "\n",
    "- https://www.sfu.ca/math-coursenotes/Math%20158%20Course%20Notes/sec_first_order_differential_equations.html\n",
    "\n",
    "- Français : https://dridk.me/equation-differentielle.html\n",
    "\n",
    "- https://towardsdatascience.com/ordinal-differential-equation-ode-in-python-8dc1de21323b\n",
    "\n",
    "- https://www.youtube.com/watch?v=qHF5kiDFkW8&t=1065s\n",
    "\n",
    "- https://apmonitor.com/pdc/index.php/Main/SolveDifferentialEquations\n",
    "\n",
    "## Liens ( applications):\n",
    "\n",
    "- https://www.cliffsnotes.com/study-guides/differential-equations/applying-differential-equations/applications-of-first-order-equations\n",
    "\n",
    "- https://scipython.com/book2/chapter-8-scipy/examples/"
   ]
  },
  {
   "attachments": {},
   "cell_type": "markdown",
   "metadata": {},
   "source": [
    "# Témoignage de professeur\n",
    "Les équations différentielles ordinaires sont largement utilisées dans la plupart des branches de l'ingénierie.\n",
    "\n",
    "Par exemple, en génie électrique, nous utilisons la loi de tension de Kirchoff et la loi de courant de Kirchoff pour dériver des équations différentielles ordinaires.\n",
    "\n",
    "En génie mécanique, nous utilisons des diagrammes de corps libres pour dériver des équations différentielles ordinaires.\n",
    "\n",
    "Le génie chimique a ses méthodes particulières, tout comme le génie industriel et le génie civil, et à peu près toutes les branches de l'ingénierie.\n",
    "\n",
    "Espérons que ces équations différentielles finissent par être des équations différentielles ordinaires \"linéaires\", mais les équations différentielles ordinaires les plus utiles (comme pour un circuit à transistor) sont des équations différentielles non linéaires.\n",
    "\n",
    "Dans ce cas, nous devons utiliser des méthodes numériques (c'est-à-dire informatiques) pour les résoudre ou utiliser une méthode de linéarisation, telle que l'approximation d'une équation non linéaire de définition par une équation linéaire (c'est-à-dire une ligne droite).\n",
    "\n",
    "Une méthode que j'ai utilisée pour les équations différentielles ordinaires non linéaires dans l'analyse de circuits à transistors consiste à utiliser une méthode numérique (informatique) pour obtenir un graphique de la solution, puis à utiliser un algorithme d'ajustement de tracé, tel que les méthodes des «moindres carrés», pour obtenir un solution algébrique approchée.\n",
    "\n",
    "Un exemple de tout cela est le progiciel de simulation « SPICE » utilisé pour simuler des circuits électroniques.\n",
    "\n",
    "Ils utilisent une méthode de linéarisation pour les circuits non linéaires, puis utilisent le logiciel \"méthode de Newton\" pour trouver une solution pour chaque point de fonctionnement du circuit.\n",
    "\n",
    "Le problème avec ce progiciel est que parfois il ne parvient pas à converger et ne peut pas être utilisé.\n",
    "\n",
    "L'alternative consiste à utiliser une analyse manuelle de chaque transistor en utilisant les méthodes et l'analyse de circuit ci-dessus."
   ]
  }
 ],
 "metadata": {
  "kernelspec": {
   "display_name": "Python 3",
   "language": "python",
   "name": "python3"
  },
  "language_info": {
   "codemirror_mode": {
    "name": "ipython",
    "version": 3
   },
   "file_extension": ".py",
   "mimetype": "text/x-python",
   "name": "python",
   "nbconvert_exporter": "python",
   "pygments_lexer": "ipython3",
   "version": "3.8.0"
  },
  "orig_nbformat": 4,
  "vscode": {
   "interpreter": {
    "hash": "edb60928ae049011e12e2dc43646b5515922153b602d9d974a622a5d486bbfcc"
   }
  }
 },
 "nbformat": 4,
 "nbformat_minor": 2
}
