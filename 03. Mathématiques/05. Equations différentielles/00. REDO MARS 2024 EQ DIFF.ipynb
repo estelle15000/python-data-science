{
 "cells": [
  {
   "cell_type": "markdown",
   "metadata": {},
   "source": [
    "# Les equation différentielles avec Python\n",
    "\n",
    "\n",
    "# Introduction\n",
    "Tentative de simplification <b>extrême</b> de la résolution d'équations différentielles avec Python, avec un <b>cas pratique systématique</b>, un exemple de <b>la vie réelle</b>. On débute avec ce qui est le plus simple possible.\n",
    "\n",
    "*  Création en cours *\n",
    "\n",
    "# Comprendre ce qu'est l'équation différentielle la plus simple: \n",
    "\n",
    "\"Dans un référentiel de temps,\n",
    "La vitesse de variation d'une quantité est proportionnelle à cette quantité même .\"\n",
    "\n",
    "Admettons qu'une population croies de 100% par unité de temps\n",
    "Par exemple, si au temps 1, la population est de 1,\n",
    "au temps 2 elle sera de 100, et au temps 3 de 10 000. ( Acroissement constant)\n",
    "La vitesse de variation de la population est donc proportionnelle à la quantité de population.\n",
    "\n",
    "Résoudre l'equation différentielle, c'est tracer cette fonction permet de savoir quelle sera la population au temps 3.\n",
    "\n",
    "# Notation\n",
    "En maths : \n",
    "y' = a * y\n",
    "\n",
    "- y' veut dire dérivée de la fonction y\n",
    "- y est une fonction inconnue\n",
    "- a est une constante réelle\n",
    "\n",
    "En physique, on l'écrit différemment:\n",
    "\n",
    "dy/dt = C\n",
    "\n",
    "- dy \n",
    "- dt\n",
    "- C est une constante réelle.\n",
    "\n",
    "# Les méthodes de résolution en Python\n",
    "\n",
    "- Euler explicite ( Il faut la coder) : https://www.youtube.com/watch?v=LkMuRtk1Qg4\n",
    "- Scipy : https://www.youtube.com/watch?v=UY8LvjQGKGE\n",
    "\n",
    "# Problème de Cauchy\n",
    "\n",
    "C'est quand on donne des conditions initiales à l'équation différentielle.\n",
    "\n"
   ]
  },
  {
   "cell_type": "markdown",
   "metadata": {},
   "source": [
    "# Exemple 1.\n",
    "\n",
    "## Equation y' = a * y\n",
    "\n",
    "## Notre cas pratique.\n",
    "Admettons qu'une population croies de 100% par unité de temps.\n",
    "\n",
    "Par exemple, si au temps 1, la population est de 1\n",
    "au temps 2 elle sera de 100, et au temps 3 de 10 000. ( Acroissement constant)\n",
    "La vitesse de variation de la population est donc proportionnelle à la quantité de population.\n",
    "\n",
    "y' = a * y\n"
   ]
  },
  {
   "cell_type": "code",
   "execution_count": 2,
   "metadata": {},
   "outputs": [
    {
     "ename": "ModuleNotFoundError",
     "evalue": "No module named 'ode_helpers'",
     "output_type": "error",
     "traceback": [
      "\u001b[1;31m---------------------------------------------------------------------------\u001b[0m",
      "\u001b[1;31mModuleNotFoundError\u001b[0m                       Traceback (most recent call last)",
      "Cell \u001b[1;32mIn[2], line 4\u001b[0m\n\u001b[0;32m      2\u001b[0m \u001b[38;5;28;01mimport\u001b[39;00m \u001b[38;5;21;01mmatplotlib\u001b[39;00m\u001b[38;5;21;01m.\u001b[39;00m\u001b[38;5;21;01mpyplot\u001b[39;00m \u001b[38;5;28;01mas\u001b[39;00m \u001b[38;5;21;01mplt\u001b[39;00m\n\u001b[0;32m      3\u001b[0m \u001b[38;5;28;01mfrom\u001b[39;00m \u001b[38;5;21;01mscipy\u001b[39;00m\u001b[38;5;21;01m.\u001b[39;00m\u001b[38;5;21;01mintegrate\u001b[39;00m \u001b[38;5;28;01mimport\u001b[39;00m solve_ivp\n\u001b[1;32m----> 4\u001b[0m \u001b[38;5;28;01mfrom\u001b[39;00m \u001b[38;5;21;01mode_helpers\u001b[39;00m \u001b[38;5;28;01mimport\u001b[39;00m state_plotter\n\u001b[0;32m      7\u001b[0m \u001b[38;5;66;03m# %% Define independent function and derivative function\u001b[39;00m\n\u001b[0;32m      9\u001b[0m \u001b[38;5;28;01mdef\u001b[39;00m \u001b[38;5;21mf\u001b[39m(t, y, c):\n",
      "\u001b[1;31mModuleNotFoundError\u001b[0m: No module named 'ode_helpers'"
     ]
    }
   ],
   "source": [
    "import numpy as np\n",
    "import matplotlib.pyplot as plt\n",
    "from scipy.integrate import solve_ivp\n",
    "from ode_helpers import state_plotter\n",
    "\n",
    "\n",
    "# %% Define independent function and derivative function\n",
    "\n",
    "def f(t, y, c):\n",
    "\n",
    "    dydt = [c[0]]\n",
    "\n",
    "    return dydt\n",
    "\n",
    "\n",
    "# %% Define time spans, initial values, and constants\n",
    "\n",
    "tspan = np.linspace(0, 10, 100)\n",
    "\n",
    "yinit = [6]\n",
    "\n",
    "c = [1.2]\n",
    "\n",
    "\n",
    "# %% Solve differential equation\n",
    "\n",
    "sol = solve_ivp(lambda t, y: f(t, y, c), \n",
    "\n",
    "                [tspan[0], tspan[-1]], yinit, t_eval=tspan, rtol = 1e-5)\n",
    "\n",
    "\n",
    "# %% Plot states\n",
    "\n",
    "state_plotter(sol.t, sol.y, 1)"
   ]
  }
 ],
 "metadata": {
  "kernelspec": {
   "display_name": "Python 3",
   "language": "python",
   "name": "python3"
  },
  "language_info": {
   "codemirror_mode": {
    "name": "ipython",
    "version": 3
   },
   "file_extension": ".py",
   "mimetype": "text/x-python",
   "name": "python",
   "nbconvert_exporter": "python",
   "pygments_lexer": "ipython3",
   "version": "3.8.0"
  }
 },
 "nbformat": 4,
 "nbformat_minor": 2
}
