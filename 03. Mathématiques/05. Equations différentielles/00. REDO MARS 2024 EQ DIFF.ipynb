{
 "cells": [
  {
   "cell_type": "markdown",
   "metadata": {},
   "source": [
    "# Les equation différentielles avec Python\n",
    "\n",
    "Cas pratiques résolus avec Scipy.\n",
    "\n",
    "# Introduction\n",
    "Tentative de simplification extrême de la résolution d'équations différentielles avec Python, avec un cas pratique systématique, un exemple de la vie réelle. On débute avec ce qui est le plus simple possible.\n",
    "\n",
    "# Comprendre ce qu'est une equation différentielle simple: \n",
    "\n",
    "\"Dans un référentiel de temps,\n",
    "La vitesse de variation d'une quantité est proportionnelle à cette quantité même .\"\n",
    "\n",
    "Admettons qu'une population croies de 100% par unité de temps\n",
    "Par exemple, si au temps 1, la population est de 10\n",
    "au temps 2 elle sera de 100, et au temps 3 de 1000. ( Acroissement constant)\n",
    "La vitesse de variation de la population est donc proportionnelle à la quantité de population.\n",
    "\n",
    "Tracer cette fonction permet de savoir quelle sera la population au temps 3.\n",
    "\n",
    "# Notation\n",
    "y' = a * y\n",
    "\n",
    "- y' veut dire dérivée de la fonction y\n",
    "- y est une fonction inconnue\n",
    "- a est une constante réelle\n",
    "\n",
    "# Cauchy\n",
    "\n",
    "C'est quand on donne des conditions initiales à l'équation différentielle.\n",
    "\n",
    "# Les termes mathématiques simples :\n",
    "La relation d'une fonction et de ses dérivées\n",
    "(Rappel : Une dérivée est la pente d'une fonction en un point donné sur un référentiel x,y)"
   ]
  },
  {
   "cell_type": "markdown",
   "metadata": {},
   "source": [
    "# Exemple 1.\n",
    "\n",
    "## Equation y' = a * y\n",
    "\n",
    "## Notre cas pratique.\n",
    "Admettons qu'une population croies de 100% par unité de temps\n",
    "Par exemple, si au temps 1, la population est de 10\n",
    "au temps 2 elle sera de 100, et au temps 3 de 1000. ( Acroissement constant)\n",
    "La vitesse de variation de la population est donc proportionnelle à la quantité de population.\n",
    "\n",
    "y' = a * y\n"
   ]
  },
  {
   "cell_type": "code",
   "execution_count": null,
   "metadata": {},
   "outputs": [],
   "source": []
  }
 ],
 "metadata": {
  "kernelspec": {
   "display_name": "Python 3",
   "language": "python",
   "name": "python3"
  },
  "language_info": {
   "codemirror_mode": {
    "name": "ipython",
    "version": 3
   },
   "file_extension": ".py",
   "mimetype": "text/x-python",
   "name": "python",
   "nbconvert_exporter": "python",
   "pygments_lexer": "ipython3",
   "version": "3.8.0"
  }
 },
 "nbformat": 4,
 "nbformat_minor": 2
}
