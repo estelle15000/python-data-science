{
 "cells": [
  {
   "cell_type": "markdown",
   "metadata": {},
   "source": [
    "# Introduction à la programmation linéaire avec Python - Partie 3\n",
    "## Exemples du monde réel - Problème de ressources"
   ]
  },
  {
   "cell_type": "markdown",
   "metadata": {},
   "source": [
    "Source :  Alex Keen\n",
    "https://github.com/benalexkeen/Introduction-to-linear-programming\n",
    "\n",
    "Nous allons maintenant examiner 2 autres exemples du monde réel.\n",
    "\n",
    "Le premier est un problème de ressources et le second est un problème de mélange.\n",
    "\n",
    "\n",
    "### Problème de ressources"
   ]
  },
  {
   "cell_type": "code",
   "execution_count": null,
   "metadata": {},
   "outputs": [],
   "source": []
  },
  {
   "cell_type": "markdown",
   "metadata": {},
   "source": [
    "Nous consultons un constructeur de voitures qui fournit des voitures de luxe.\n",
    "\n",
    "Ils fonctionnent sur des cycles d'un mois (30 jours), nous avons un cycle pour montrer que nous pouvons fournir de la valeur.\n",
    "\n",
    "Il y a un robot, 2 ingénieurs et un dessinateur dans l'usine. Le dessinateur a des vacances libres, il ne dispose donc que de 21 jours.\n",
    "\n",
    "Les 2 voitures ont besoin d'un temps différent avec chaque ressource:\n",
    "\n",
    "<b>Temps du robot</b>: voiture A - 3 jours; Voiture B - 4 jours.<br>\n",
    "\n",
    "<b>Temps de l'ingénieur</b>: voiture A - 5 jours; Voiture B - 6 jours.<br>\n",
    "\n",
    "<b>Temps de dessinateur</b>: voiture A - 1,5 jours; Voiture B - 3 jours.<br>\n",
    "\n",
    "La voiture A génère un bénéfice de 30 000 €, tandis que la voiture B offre un bénéfice de 45 000 €.\n",
    "\n",
    "Pour le moment, ils produisent 4 voitures de chaque par mois, pour un bénéfice de 300 000 €. Pas mal du tout, mais nous pensons que nous pouvons faire mieux pour eux.\n",
    "\n"
   ]
  },
  {
   "cell_type": "markdown",
   "metadata": {},
   "source": [
    "On peut modéliser le problème comme suit :\n",
    "\n",
    "Maximizer\n",
    "\n",
    "Profit = 30,000A + 45,000B\n",
    "\n",
    "Sous les contraintes (Subject to):\n",
    "\n",
    "A ≥ 0\n",
    "\n",
    "B ≥ 0\n",
    "\n",
    "3A + 4B  ≤ 30\n",
    "\n",
    "5A + 6B  ≤ 60\n",
    "\n",
    "1.5A + 3B  ≤ 21"
   ]
  },
  {
   "cell_type": "code",
   "execution_count": 1,
   "metadata": {
    "collapsed": true
   },
   "outputs": [],
   "source": [
    "import pulp"
   ]
  },
  {
   "cell_type": "code",
   "execution_count": 2,
   "metadata": {
    "collapsed": true
   },
   "outputs": [],
   "source": [
    "# On instantie notre type de problème\n",
    "model = pulp.LpProblem(\"Profit maximising problem\", pulp.LpMaximize)"
   ]
  },
  {
   "cell_type": "markdown",
   "metadata": {},
   "source": [
    "Contrairement à notre problème précédent, les variables de décision dans ce cas ne seront pas continues (nous ne pouvons pas vendre la moitié d'une voiture!), Donc la catégorie est entière."
   ]
  },
  {
   "cell_type": "code",
   "execution_count": 3,
   "metadata": {
    "collapsed": true
   },
   "outputs": [],
   "source": [
    "A = pulp.LpVariable('A', lowBound=0, cat='Integer')\n",
    "B = pulp.LpVariable('B', lowBound=0, cat='Integer')"
   ]
  },
  {
   "cell_type": "code",
   "execution_count": 4,
   "metadata": {
    "collapsed": true
   },
   "outputs": [],
   "source": [
    "# La fonction objectif\n",
    "model += 30000 * A + 45000 * B, \"Profit\"\n",
    "\n",
    "# Les contraintes\n",
    "model += 3 * A + 4 * B <= 30\n",
    "model += 5 * A + 6 * B <= 60\n",
    "model += 1.5 * A + 3 * B <= 21"
   ]
  },
  {
   "cell_type": "code",
   "execution_count": 5,
   "metadata": {},
   "outputs": [
    {
     "data": {
      "text/plain": [
       "'Optimal'"
      ]
     },
     "execution_count": 5,
     "metadata": {},
     "output_type": "execute_result"
    }
   ],
   "source": [
    "# Résoudre notre problème\n",
    "model.solve()\n",
    "pulp.LpStatus[model.status]"
   ]
  },
  {
   "cell_type": "code",
   "execution_count": 6,
   "metadata": {},
   "outputs": [
    {
     "name": "stdout",
     "output_type": "stream",
     "text": [
      "Production of Car A = 2.0\n",
      "Production of Car B = 6.0\n"
     ]
    }
   ],
   "source": [
    "# Imprimer nos variables de décisison\n",
    "print \"Production de la voiture  A = {}\".format(A.varValue)\n",
    "print \"Production de la voiture  B = {}\".format(B.varValue)"
   ]
  },
  {
   "cell_type": "code",
   "execution_count": 7,
   "metadata": {},
   "outputs": [
    {
     "name": "stdout",
     "output_type": "stream",
     "text": [
      "330000.0\n"
     ]
    }
   ],
   "source": [
    "# IMprimer la valeur de notre fonction objectif ( Le résultat)\n",
    "print pulp.value(model.objective)"
   ]
  },
  {
   "cell_type": "markdown",
   "metadata": {},
   "source": [
    "Cela représente donc un bénéfice mensuel de 330000 €, par rapport à leur bénéfice mensuel initial de 300000 €\n",
    "\n",
    "En produisant 2 voitures  A et 4 voitures  B, nous augmentons les bénéfices de l'usine de 30 000 € par mois.\n",
    "\n",
    "Nous prenons nos frais de conseil et quittons l'entreprise avec un bénéfice supplémentaire de 360 000 € pour l'usine chaque année.\n",
    "\n",
    "Dans la prochaine partie, nous ferons des saucisses!\n",
    "\n"
   ]
  }
 ],
 "metadata": {
  "kernelspec": {
   "display_name": "Python 3",
   "language": "python",
   "name": "python3"
  },
  "language_info": {
   "codemirror_mode": {
    "name": "ipython",
    "version": 3
   },
   "file_extension": ".py",
   "mimetype": "text/x-python",
   "name": "python",
   "nbconvert_exporter": "python",
   "pygments_lexer": "ipython3",
   "version": "3.8.3"
  }
 },
 "nbformat": 4,
 "nbformat_minor": 1
}
