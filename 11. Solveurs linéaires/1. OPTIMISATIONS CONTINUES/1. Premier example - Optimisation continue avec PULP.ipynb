{
 "cells": [
  {
   "cell_type": "markdown",
   "metadata": {},
   "source": [
    "# Introduction à la programmation linéaire avec Python - Partie 2\n",
    "\n",
    "## Introduction à PuLP"
   ]
  },
  {
   "cell_type": "markdown",
   "metadata": {},
   "source": [
    "\n",
    "**Optimization Continue**\n",
    "Introduction à PuLP\n",
    "\n",
    "Source : ALEX KEEN  <br>\n",
    "\n",
    "https://github.com/nicolas15000/Introduction-to-linear-programming <br>\n",
    "\n",
    "PuLP est un package de programmation linéaire open source pour python. \n",
    "\n",
    "PuLP peut être installé à l'aide de pip, instructions ici.\n",
    "\n",
    "Dans ce cahier, nous allons explorer comment construire et résoudre le problème de programmation linéaire décrit dans la partie 1 à l'aide de PuLP.\n",
    "\n",
    "Un bref rappel de notre problème de programmation linéaire:\n",
    "\n",
    "Nous voulons trouver la solution maximale à la fonction objectif:\n",
    "\n",
    "<b>Z = 4x + 3y</b>\n",
    "\n",
    "Soumis aux contraintes suivantes:\n",
    "\n",
    "x ≥ 0<br>\n",
    "y ≥ 2<br>\n",
    "2y ≤ 25 - x<br>\n",
    "4y ≥ 2x - 8<br>\n",
    "y ≤ 2x - 5<br>\n",
    "\n",
    "Nous allons commencer par importer PuLP"
   ]
  },
  {
   "cell_type": "markdown",
   "metadata": {},
   "source": []
  },
  {
   "cell_type": "markdown",
   "metadata": {},
   "source": [
    "We'll begin by importing PuLP"
   ]
  },
  {
   "cell_type": "code",
   "execution_count": 1,
   "metadata": {
    "collapsed": true
   },
   "outputs": [],
   "source": [
    "import pulp"
   ]
  },
  {
   "cell_type": "markdown",
   "metadata": {},
   "source": [
    "Ensuite, instanciez une classe de problème, nous la nommerons \"Mon problème LP\" et nous cherchons un maximum optimal donc nous utilisons LpMaximize\n"
   ]
  },
  {
   "cell_type": "code",
   "execution_count": 2,
   "metadata": {},
   "outputs": [],
   "source": [
    "my_lp_problem = pulp.LpProblem(\"My LP Problem\", pulp.LpMaximize)"
   ]
  },
  {
   "cell_type": "markdown",
   "metadata": {},
   "source": [
    "Nous modélisons ensuite nos variables de décision en utilisant la classe LpVariable. Dans notre exemple, x avait une borne inférieure de 0 et y avait une borne inférieure de 2.\n",
    "\n",
    "Les limites supérieures peuvent être affectées à l'aide du paramètre upBound."
   ]
  },
  {
   "cell_type": "code",
   "execution_count": 3,
   "metadata": {},
   "outputs": [],
   "source": [
    "x = pulp.LpVariable('x', lowBound=0, cat='Continuous')\n",
    "y = pulp.LpVariable('y', lowBound=2, cat='Continuous')"
   ]
  },
  {
   "cell_type": "markdown",
   "metadata": {},
   "source": [
    "La fonction objectif et les contraintes sont ajoutées à l'aide de l'opérateur + = à notre modèle.\n",
    "\n",
    "La fonction objectif est ajoutée en premier, puis les contraintes individuelles.\n"
   ]
  },
  {
   "cell_type": "code",
   "execution_count": 4,
   "metadata": {
    "collapsed": true
   },
   "outputs": [],
   "source": [
    "# Objective function\n",
    "my_lp_problem += 4 * x + 3 * y, \"Z\"\n",
    "\n",
    "# Constraints\n",
    "my_lp_problem += 2 * y <= 25 - x\n",
    "my_lp_problem += 4 * y >= 2 * x - 8\n",
    "my_lp_problem += y <= 2 * x - 5"
   ]
  },
  {
   "cell_type": "markdown",
   "metadata": {},
   "source": [
    "Nous avons construit notre problème et pouvons désormais le regarder"
   ]
  },
  {
   "cell_type": "code",
   "execution_count": 5,
   "metadata": {},
   "outputs": [
    {
     "data": {
      "text/plain": [
       "My LP Problem:\n",
       "MAXIMIZE\n",
       "4*x + 3*y + 0\n",
       "SUBJECT TO\n",
       "_C1: x + 2 y <= 25\n",
       "\n",
       "_C2: - 2 x + 4 y >= -8\n",
       "\n",
       "_C3: - 2 x + y <= -5\n",
       "\n",
       "VARIABLES\n",
       "x Continuous\n",
       "2 <= y Continuous"
      ]
     },
     "execution_count": 5,
     "metadata": {},
     "output_type": "execute_result"
    }
   ],
   "source": [
    "my_lp_problem"
   ]
  },
  {
   "cell_type": "markdown",
   "metadata": {},
   "source": [
    "PuLP prend en charge les solveurs de programmation linéaire open source tels que CBC et GLPK, ainsi que les solveurs commerciaux tels que Gurobi et IBM CPLEX.\n",
    "\n",
    "Le solveur par défaut est CBC, fourni avec PuLP lors de l'installation.\n",
    "\n",
    "Pour la plupart des applications, le CBC open source de COIN-OR sera suffisant pour la plupart des algorithmes d'optimisation de programmation linéaire simples."
   ]
  },
  {
   "cell_type": "code",
   "execution_count": 6,
   "metadata": {},
   "outputs": [
    {
     "data": {
      "text/plain": [
       "'Optimal'"
      ]
     },
     "execution_count": 6,
     "metadata": {},
     "output_type": "execute_result"
    }
   ],
   "source": [
    "my_lp_problem.solve()\n",
    "pulp.LpStatus[my_lp_problem.status]"
   ]
  },
  {
   "cell_type": "markdown",
   "metadata": {},
   "source": [
    "Nous avons également vérifié l'état du solveur, il y a 5 codes d'état:\n",
    "\n",
    "**Non résolu**: état avant la résolution du problème.<br>\n",
    "**Optimal**: Une solution optimale a été trouvée.<br>\n",
    "**Irréalisable**: il n'y a pas de solutions réalisables (par exemple si vous définissez les contraintes x <= 1 et x> = 2).<br>\n",
    "**Non borné**: les contraintes ne sont pas bornées, maximiser la solution tendra vers l'infini (par exemple si la seule    contrainte était x> = 3).<br>\n",
    "**Indéfini**: la solution optimale peut exister mais ne pas avoir été trouvée.<br>\n",
    "\n",
    "Nous pouvons maintenant voir nos valeurs de variable maximales et la valeur maximale de Z.\n",
    "\n",
    "Nous pouvons utiliser la méthode varValue pour récupérer les valeurs de nos variables x et y, et la fonction pulp.value pour afficher la valeur maximale de la fonction objectif.\n"
   ]
  },
  {
   "cell_type": "markdown",
   "metadata": {},
   "source": []
  },
  {
   "cell_type": "code",
   "execution_count": 7,
   "metadata": {},
   "outputs": [
    {
     "name": "stdout",
     "output_type": "stream",
     "text": [
      "x = 14.5\n",
      "y = 5.25\n"
     ]
    }
   ],
   "source": [
    "for variable in my_lp_problem.variables():\n",
    "    print \"{} = {}\".format(variable.name, variable.varValue)"
   ]
  },
  {
   "cell_type": "code",
   "execution_count": 8,
   "metadata": {},
   "outputs": [
    {
     "name": "stdout",
     "output_type": "stream",
     "text": [
      "73.75\n"
     ]
    }
   ],
   "source": [
    "print pulp.value(my_lp_problem.objective)"
   ]
  },
  {
   "cell_type": "markdown",
   "metadata": {},
   "source": [
    "Mêmes valeurs que nos calculs manuels dans la partie 1.\n",
    "\n",
    "Dans la partie suivante, nous examinerons un problème plus réel dans le monde.\n"
   ]
  },
  {
   "cell_type": "code",
   "execution_count": null,
   "metadata": {},
   "outputs": [],
   "source": []
  }
 ],
 "metadata": {
  "kernelspec": {
   "display_name": "Python 3",
   "language": "python",
   "name": "python3"
  },
  "language_info": {
   "codemirror_mode": {
    "name": "ipython",
    "version": 3
   },
   "file_extension": ".py",
   "mimetype": "text/x-python",
   "name": "python",
   "nbconvert_exporter": "python",
   "pygments_lexer": "ipython3",
   "version": "3.8.3"
  }
 },
 "nbformat": 4,
 "nbformat_minor": 1
}
