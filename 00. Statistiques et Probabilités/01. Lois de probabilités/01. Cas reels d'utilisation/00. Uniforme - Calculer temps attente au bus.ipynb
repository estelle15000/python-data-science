{
 "cells": [
  {
   "attachments": {},
   "cell_type": "markdown",
   "metadata": {},
   "source": [
    "# La loi uniforme \n",
    "\n",
    "La distribution uniforme définit une probabilité égale sur une plage donnée de valeurs continues. En d'autres termes, c'est une distribution qui a une probabilité constante.\n",
    "\n",
    "Exemples:\n",
    "\n",
    "Par exemple si on lance un dé, les probabilités sont égales d'avoir 1,2,3,4,5 ou 6.\n",
    "\n",
    "Si les bus ou les taxis ont un planning de passage toutes les heures sans discontinuer,\n",
    "alors on est dans le cas d'une distribution de probabilités \"Uniforme\"\n",
    "\n",
    "Si on essaye de deviner la date de naissance de quelqu'un, alors on a une chance égale sur 365 de tomber juste,alors on est dans le cas d'une distribution de probabilités \"Uniforme\".\n",
    "\n",
    "La probabilité qu'une personne gagne un concours de tirage au sort est égale pour toutes les autres personnes participant au concours. Par conséquent, une telle distribution est connue sous le nom de distribution de probabilité uniforme car les chances de gagner de chaque personne sont égales.\n"
   ]
  },
  {
   "cell_type": "code",
   "execution_count": 15,
   "metadata": {},
   "outputs": [],
   "source": [
    "# Importer les librairies\n",
    "from scipy.stats import uniform\n",
    "import seaborn as sb\n",
    "import matplotlib.pyplot as plt\n",
    "import numpy as np\n",
    " "
   ]
  },
  {
   "cell_type": "markdown",
   "metadata": {},
   "source": []
  },
  {
   "cell_type": "code",
   "execution_count": 16,
   "metadata": {},
   "outputs": [
    {
     "data": {
      "image/png": "[encoded data removed]",
      "text/plain": [
       "<Figure size 500x500 with 1 Axes>"
      ]
     },
     "metadata": {},
     "output_type": "display_data"
    }
   ],
   "source": [
    "# On regarde à quoi ressemble la distribution, \n",
    "# on voit que contrairement à la loin normale qui est en \"cloche\", celle ci est vraiment un gros bloc.\n",
    "\n",
    "# Créer une distribution uniforme avec des variables random\n",
    "data = uniform.rvs(size = 100000, loc = 5, scale=10)\n",
    " \n",
    "# Tracer le résultat\n",
    "sb.set_style('whitegrid')\n",
    "ax = sb.displot(data, bins = 30, color = 'k')\n",
    "ax.set(xlabel = 'interval')\n",
    "plt.show()"
   ]
  },
  {
   "attachments": {},
   "cell_type": "markdown",
   "metadata": {},
   "source": [
    "Exemple 1\n",
    "\n",
    "Supposons qu'un bus se présente à un arrêt de bus toutes les 20 minutes. Si vous arrivez à l'arrêt de bus, quelle est la probabilité que le bus apparaisse dans 8 minutes ou moins ?\n"
   ]
  },
  {
   "cell_type": "code",
   "execution_count": 17,
   "metadata": {},
   "outputs": [
    {
     "name": "stdout",
     "output_type": "stream",
     "text": [
      "Ma probabilité est de :  40.0 %\n"
     ]
    }
   ],
   "source": [
    "from scipy.stats import uniform\n",
    "\n",
    "# On calcule la probabilité en renseignant les bons paramêtres\n",
    "resultat = uniform.cdf(x=8, loc=0, scale=20) - uniform.cdf(x=0, loc=0, scale=20)\n",
    "\n",
    "print(\"Ma probabilité est de : \", resultat * 100, \"%\")"
   ]
  },
  {
   "attachments": {},
   "cell_type": "markdown",
   "metadata": {},
   "source": [
    "Exemple 2\n",
    "\n",
    "Le poids d'une certaine espèce de grenouille est uniformément réparti entre 15 et 25 grammes. Si vous sélectionnez une grenouille au hasard, quelle est la probabilité qu'elle pèse entre 17 et 19 grammes ?\n",
    "\n"
   ]
  },
  {
   "cell_type": "code",
   "execution_count": 18,
   "metadata": {},
   "outputs": [
    {
     "name": "stdout",
     "output_type": "stream",
     "text": [
      "Ma probabilité est de :  20.0 %\n"
     ]
    }
   ],
   "source": [
    "resultat =  uniform.cdf(x=19, loc=15, scale=10) - uniform.cdf(x=17, loc=15, scale=10)\n",
    "\n",
    "print(\"Ma probabilité est de : \", resultat * 100, \"%\")"
   ]
  },
  {
   "cell_type": "markdown",
   "metadata": {},
   "source": []
  }
 ],
 "metadata": {
  "kernelspec": {
   "display_name": "Python 3",
   "language": "python",
   "name": "python3"
  },
  "language_info": {
   "codemirror_mode": {
    "name": "ipython",
    "version": 3
   },
   "file_extension": ".py",
   "mimetype": "text/x-python",
   "name": "python",
   "nbconvert_exporter": "python",
   "pygments_lexer": "ipython3",
   "version": "3.8.0 (tags/v3.8.0:fa919fd, Oct 14 2019, 19:37:50) [MSC v.1916 64 bit (AMD64)]"
  },
  "orig_nbformat": 4,
  "vscode": {
   "interpreter": {
    "hash": "edb60928ae049011e12e2dc43646b5515922153b602d9d974a622a5d486bbfcc"
   }
  }
 },
 "nbformat": 4,
 "nbformat_minor": 2
}
