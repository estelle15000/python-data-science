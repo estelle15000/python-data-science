{
 "cells": [
  {
   "attachments": {},
   "cell_type": "markdown",
   "metadata": {},
   "source": [
    "# La Loi de probabilité discrète :\n",
    "\n",
    "On a un vecteur de % d'acheteurs et un vecteur de taille de vêtements.\n",
    "\n",
    "Lien :\n",
    "https://stackoverflow.com/questions/59582648/turning-bars-to-a-normal-distribution\n"
   ]
  },
  {
   "cell_type": "code",
   "execution_count": 3,
   "metadata": {},
   "outputs": [],
   "source": [
    "# Import des librairies\n",
    "import matplotlib.pyplot as plt\n",
    "import statistics\n",
    "import seaborn as sns"
   ]
  },
  {
   "cell_type": "code",
   "execution_count": 4,
   "metadata": {},
   "outputs": [
    {
     "name": "stdout",
     "output_type": "stream",
     "text": [
      "Moyenne du pourcentage d'acheteurs :  6.666666666666667\n",
      "ecartType du pourcentage d'acteurs:  5.814595756329394\n"
     ]
    }
   ],
   "source": [
    "# On entre nos données, elles pourraient provenir d'une BDD\n",
    "# Pourcentage d'acheteurs en %\n",
    "h =[1,1,3,5,9,13,16,16,14,10,5,4,2,1,0]\n",
    "\n",
    "# Taille de vêtements\n",
    "x =  [34,35,36,37,38,39,40,41,42,43,44,45,46,47,48]\n",
    "\n"
   ]
  },
  {
   "cell_type": "code",
   "execution_count": null,
   "metadata": {},
   "outputs": [],
   "source": [
    "# Calcul de probabilités :\n",
    "# P(X=40) La probabilité que les acheteurs achètent du 40 est de 16 %\n",
    "# P(37 <= X <= 40) La probabilité que les acheteurs achètent entre 37 et 40 est de 5+9+13+16 = 43 %\n",
    "\n",
    "# On calcule moyenne et écart type\n",
    "moyenne = statistics.mean(h)\n",
    "ecartType = statistics.stdev(h)\n",
    "\n",
    "print (\"Moyenne du pourcentage d'acheteurs : \", moyenne)\n",
    "print (\"ecartType du pourcentage d'acteurs: \", ecartType)"
   ]
  },
  {
   "cell_type": "code",
   "execution_count": 5,
   "metadata": {},
   "outputs": [
    {
     "data": {
      "image/png": "[encoded data removed]",
      "text/plain": [
       "<Figure size 432x288 with 1 Axes>"
      ]
     },
     "metadata": {
      "needs_background": "light"
     },
     "output_type": "display_data"
    },
    {
     "ename": "NameError",
     "evalue": "name 'norm' is not defined",
     "output_type": "error",
     "traceback": [
      "\u001b[1;31m---------------------------------------------------------------------------\u001b[0m",
      "\u001b[1;31mNameError\u001b[0m                                 Traceback (most recent call last)",
      "\u001b[1;32mc:\\www\\python-data-science2\\00. Statistiques et Probabilités\\01. Lois de probabilités\\01. Cas reels d'utilisation\\04. Discrète  On calcule la probabilité d'achat de vêtements.ipynb Cellule 4\u001b[0m in \u001b[0;36m<cell line: 13>\u001b[1;34m()\u001b[0m\n\u001b[0;32m     <a href='vscode-notebook-cell:/c%3A/www/python-data-science2/00.%20Statistiques%20et%20Probabilit%C3%A9s/01.%20Lois%20de%20probabilit%C3%A9s/01.%20Cas%20reels%20d%27utilisation/04.%20Discr%C3%A8te%20%20On%20calcule%20la%20probabilit%C3%A9%20d%27achat%20de%20v%C3%AAtements.ipynb#W3sZmlsZQ%3D%3D?line=10'>11</a>\u001b[0m sns\u001b[39m.\u001b[39mset()\n\u001b[0;32m     <a href='vscode-notebook-cell:/c%3A/www/python-data-science2/00.%20Statistiques%20et%20Probabilit%C3%A9s/01.%20Lois%20de%20probabilit%C3%A9s/01.%20Cas%20reels%20d%27utilisation/04.%20Discr%C3%A8te%20%20On%20calcule%20la%20probabilit%C3%A9%20d%27achat%20de%20v%C3%AAtements.ipynb#W3sZmlsZQ%3D%3D?line=11'>12</a>\u001b[0m plt\u001b[39m.\u001b[39mfigure(figsize\u001b[39m=\u001b[39m(\u001b[39m10\u001b[39m,\u001b[39m5\u001b[39m),dpi\u001b[39m=\u001b[39m\u001b[39m100\u001b[39m)\n\u001b[1;32m---> <a href='vscode-notebook-cell:/c%3A/www/python-data-science2/00.%20Statistiques%20et%20Probabilit%C3%A9s/01.%20Lois%20de%20probabilit%C3%A9s/01.%20Cas%20reels%20d%27utilisation/04.%20Discr%C3%A8te%20%20On%20calcule%20la%20probabilit%C3%A9%20d%27achat%20de%20v%C3%AAtements.ipynb#W3sZmlsZQ%3D%3D?line=12'>13</a>\u001b[0m sns\u001b[39m.\u001b[39mdistplot(data, fit\u001b[39m=\u001b[39mnorm, kde\u001b[39m=\u001b[39m\u001b[39mFalse\u001b[39;00m)\n\u001b[0;32m     <a href='vscode-notebook-cell:/c%3A/www/python-data-science2/00.%20Statistiques%20et%20Probabilit%C3%A9s/01.%20Lois%20de%20probabilit%C3%A9s/01.%20Cas%20reels%20d%27utilisation/04.%20Discr%C3%A8te%20%20On%20calcule%20la%20probabilit%C3%A9%20d%27achat%20de%20v%C3%AAtements.ipynb#W3sZmlsZQ%3D%3D?line=13'>14</a>\u001b[0m plt\u001b[39m.\u001b[39mshow()\n",
      "\u001b[1;31mNameError\u001b[0m: name 'norm' is not defined"
     ]
    },
    {
     "data": {
      "text/plain": [
       "<Figure size 1000x500 with 0 Axes>"
      ]
     },
     "metadata": {},
     "output_type": "display_data"
    }
   ],
   "source": [
    "# On trace le graphique en barres\n",
    "plt.ylabel('buyers % ')\n",
    "plt.xlabel('size')\n",
    "plt.bar(x, height = h)\n",
    "plt.grid(True)\n",
    "plt.show()\n",
    "\n",
    "# Ensuite, on trace la loi normale par dessus ...\n",
    "data = []\n",
    "for i in range(len(x)): data += [x[i]]*h[i] \n",
    "sns.set()\n",
    "plt.figure(figsize=(10,5),dpi=100)\n",
    "sns.distplot(data, fit=norm, kde=False)\n",
    "plt.show()\n",
    "\n",
    "# Si on transforme les barres de  l'histogramme en une fonction continue f de densité.\n",
    " # Alors,  P(37 <= X <= 40) = aire de l'intégrale sous f() entre l'Intervalle x[37,40]"
   ]
  }
 ],
 "metadata": {
  "kernelspec": {
   "display_name": "Python 3",
   "language": "python",
   "name": "python3"
  },
  "language_info": {
   "codemirror_mode": {
    "name": "ipython",
    "version": 3
   },
   "file_extension": ".py",
   "mimetype": "text/x-python",
   "name": "python",
   "nbconvert_exporter": "python",
   "pygments_lexer": "ipython3",
   "version": "3.8.0 (tags/v3.8.0:fa919fd, Oct 14 2019, 19:37:50) [MSC v.1916 64 bit (AMD64)]"
  },
  "orig_nbformat": 4,
  "vscode": {
   "interpreter": {
    "hash": "edb60928ae049011e12e2dc43646b5515922153b602d9d974a622a5d486bbfcc"
   }
  }
 },
 "nbformat": 4,
 "nbformat_minor": 2
}
