{
 "cells": [
  {
   "attachments": {},
   "cell_type": "markdown",
   "metadata": {},
   "source": [
    "\n",
    "# La loi Binomiale\n",
    "Une entreprise fore 9 puits d'exploration pétrolière , \n",
    "chacun avec une probabilité de réussite estimée à 0,1. <br>\n",
    "Les neuf puits échouent. <br>\n",
    "Quelle est la probabilité que cela se produise ?<br><br>\n",
    "\n",
    "Faisons 20 000 essais du modèle et comptons le nombre qui ne génère aucun résultat positif."
   ]
  },
  {
   "cell_type": "code",
   "execution_count": 3,
   "metadata": {},
   "outputs": [],
   "source": [
    "# Import des librairies\n",
    "import numpy as np"
   ]
  },
  {
   "cell_type": "code",
   "execution_count": 4,
   "metadata": {},
   "outputs": [
    {
     "name": "stdout",
     "output_type": "stream",
     "text": [
      "38.190000000000005 %\n"
     ]
    }
   ],
   "source": [
    "monResultat = sum(np.random.binomial(9, 0.1, 20000) == 0)/20000.\n",
    "\n",
    "print(monResultat*100,'%')\n",
    "\n",
    "# réponse = 0.38885, or 38%."
   ]
  }
 ],
 "metadata": {
  "kernelspec": {
   "display_name": "Python 3",
   "language": "python",
   "name": "python3"
  },
  "language_info": {
   "codemirror_mode": {
    "name": "ipython",
    "version": 3
   },
   "file_extension": ".py",
   "mimetype": "text/x-python",
   "name": "python",
   "nbconvert_exporter": "python",
   "pygments_lexer": "ipython3",
   "version": "3.8.0"
  },
  "orig_nbformat": 4,
  "vscode": {
   "interpreter": {
    "hash": "edb60928ae049011e12e2dc43646b5515922153b602d9d974a622a5d486bbfcc"
   }
  }
 },
 "nbformat": 4,
 "nbformat_minor": 2
}
