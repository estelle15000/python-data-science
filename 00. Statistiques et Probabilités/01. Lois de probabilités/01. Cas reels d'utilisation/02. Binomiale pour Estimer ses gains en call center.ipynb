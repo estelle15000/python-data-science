{
 "cells": [
  {
   "cell_type": "code",
   "execution_count": null,
   "metadata": {},
   "outputs": [],
   "source": [
    "# https://towardsdatascience.com/fun-with-the-binomial-distribution-96a5ecabf65b\n",
    "\n",
    "\n",
    "\n",
    "\"\"\" L'employé typique d'un centre d'appels effectue en moyenne 50 appels par jour.\n",
    "    La probabilité d'une conversion (achat) pour chaque appel est de 4%.\n",
    "    Le revenu moyen de votre entreprise pour chaque conversion est de 100 euros.\n",
    "    Le centre d'appels que vous analysez compte 100 employés.\n",
    "    Chaque employé reçoit 200 Euros par jour de travail. \n",
    "\"\"\"\n",
    "\n",
    "\"\"\" \n",
    "Nous pouvons considérer chaque employé comme une variable aléatoire à distribution binomiale avec les paramètres suivants:\n",
    "\n",
    "    n = 50\n",
    "\n",
    "    p = 4% \n",
    "    \n",
    "\"\"\"\n",
    "\n",
    "\n"
   ]
  },
  {
   "cell_type": "code",
   "execution_count": null,
   "metadata": {},
   "outputs": [],
   "source": [
    "# Import des librairies\n",
    "import numpy as np\n",
    "import matplotlib.pyplot as plt\n",
    "import seaborn as sns"
   ]
  },
  {
   "cell_type": "code",
   "execution_count": null,
   "metadata": {},
   "outputs": [],
   "source": [
    "\n",
    "# ***** Quelle est la probabilité de profit pour l'entreprise, sur une journée ? *****\n",
    "# ***** Les profits peuvent être négatifs parfois ! *****\n",
    "\n",
    "# Simulation du centre d'appels\n",
    "\n",
    "# Nombre d'employés à simuler :\n",
    "employes = 100\n",
    "\n",
    "# Salaire par employé par jour de travail, en euros \n",
    "salaire = 200\n",
    "\n",
    "# Nombre d'appels indépendants paassés par l'employé, par jour\n",
    "n = 50\n",
    "\n",
    "# Probabilité de succès (achat) pour chaque appel\n",
    "p = 0.04\n",
    "\n",
    "# Gain pour un appel gagnant, en euros\n",
    "gain = 100\n",
    "\n",
    "# On exécute la loi binomiale sur nos paramêtres précéndents ...\n",
    "conversions = np.random.binomial(n, p, size=employes)\n",
    "\n",
    "# Imprimer les métriques importants de notre centre d'appels, certains jours on gagne, d'autres on perds ...\n",
    "print('Taux de Conversion moyen par employé : ' + str(round(np.mean(conversions), 2)))\n",
    "print('Standard Deviation of Conversions per Employee: ' + str(round(np.std(conversions), 2)))\n",
    "print('Total des conversions: ' + str(np.sum(conversions)))\n",
    "print('Total des gains: ' + str(np.sum(conversions)*gain))\n",
    "print('Total des salaires : ' + str(employes*salaire))\n",
    "print('Total du Profit: ' + str(np.sum(conversions) * gain - employes * salaire))"
   ]
  }
 ],
 "metadata": {
  "kernelspec": {
   "display_name": "Python 3",
   "language": "python",
   "name": "python3"
  },
  "language_info": {
   "name": "python",
   "version": "3.8.5 (tags/v3.8.5:580fbb0, Jul 20 2020, 15:57:54) [MSC v.1924 64 bit (AMD64)]"
  },
  "orig_nbformat": 4,
  "vscode": {
   "interpreter": {
    "hash": "6bd0648e655c19027e4f56e697a7cd4ab7921013b5d2695c8854e14fd1f5ba73"
   }
  }
 },
 "nbformat": 4,
 "nbformat_minor": 2
}
