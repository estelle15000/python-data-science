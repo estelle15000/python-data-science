{
 "cells": [
  {
   "cell_type": "code",
   "execution_count": 1,
   "metadata": {},
   "outputs": [
    {
     "name": "stdout",
     "output_type": "stream",
     "text": [
      "Le pourcentage de découvrir qu'un produit est défectueux est de  7.3999999999999995 %\n"
     ]
    }
   ],
   "source": [
    "# \n",
    "\n",
    "#     Loi géométrique ou de pascal - Python géométric law with numpy\n",
    "\n",
    "#     https://docs.scipy.org/doc/numpy-1.10.1/reference/generated/numpy.random.geometric.html\n",
    "\n",
    "#     !!!  Merci à https://stackoverflow.com/users/4238408/quang-hoang  pour l'aide !!!\n",
    "\n",
    "#  \n"
   ]
  },
  {
   "cell_type": "code",
   "execution_count": null,
   "metadata": {},
   "outputs": [],
   "source": [
    "# Notre Problème : \n",
    "\"\"\"  \n",
    "Les produits fabriqués par une machine ont un taux de défectueux de 3%. \n",
    "\n",
    "Quelle est la probabilité que le cinquième élément soit deffectueux et inspecté ?\n",
    "\n",
    "\"\"\""
   ]
  },
  {
   "cell_type": "code",
   "execution_count": null,
   "metadata": {},
   "outputs": [],
   "source": [
    " # Import des librairies\n",
    "import numpy as np\n",
    "import matplotlib.pyplot as plt\n",
    "import seaborn as sns"
   ]
  },
  {
   "cell_type": "code",
   "execution_count": null,
   "metadata": {},
   "outputs": [],
   "source": [
    "result = (np.random.geometric(0.3, size=1000)==5).mean()\n",
    "print(\"Le pourcentage de découvrir qu'un produit est défectueux est de \",result * 100, \"%\");\n",
    "\n"
   ]
  }
 ],
 "metadata": {
  "kernelspec": {
   "display_name": "Python 3",
   "language": "python",
   "name": "python3"
  },
  "language_info": {
   "codemirror_mode": {
    "name": "ipython",
    "version": 3
   },
   "file_extension": ".py",
   "mimetype": "text/x-python",
   "name": "python",
   "nbconvert_exporter": "python",
   "pygments_lexer": "ipython3",
   "version": "3.8.5"
  },
  "orig_nbformat": 4,
  "vscode": {
   "interpreter": {
    "hash": "6bd0648e655c19027e4f56e697a7cd4ab7921013b5d2695c8854e14fd1f5ba73"
   }
  }
 },
 "nbformat": 4,
 "nbformat_minor": 2
}
