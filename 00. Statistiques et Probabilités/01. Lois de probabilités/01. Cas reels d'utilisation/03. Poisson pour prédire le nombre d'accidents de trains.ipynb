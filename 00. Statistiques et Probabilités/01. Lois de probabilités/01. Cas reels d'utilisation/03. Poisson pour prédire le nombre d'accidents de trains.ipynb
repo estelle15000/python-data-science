{
 "cells": [
  {
   "cell_type": "code",
   "execution_count": 1,
   "metadata": {},
   "outputs": [],
   "source": [
    "# http://villemin.gerard.free.fr/aMaths/Probabil/Poisson.htm\n",
    "# https://www.tutorialspoint.com/python_data_science/python_poisson_distribution.htm\n",
    "\n",
    "# Prédire le nombre d'accidents de trains avec la loi de Poisson"
   ]
  },
  {
   "cell_type": "code",
   "execution_count": 2,
   "metadata": {},
   "outputs": [],
   "source": [
    "# Import des librairies\n",
    "import numpy as np\n",
    "import matplotlib.pyplot as plt\n",
    "from scipy.stats import poisson"
   ]
  },
  {
   "cell_type": "code",
   "execution_count": 3,
   "metadata": {},
   "outputs": [
    {
     "name": "stdout",
     "output_type": "stream",
     "text": [
      "proba:  0.581630651834512 %\n"
     ]
    }
   ],
   "source": [
    "\"\"\"   \n",
    "\n",
    "CAS NUMERO 1 \n",
    "Sur ce trajet ferroviaire, nous avons constaté deux incidents par an.\n",
    "\n",
    "\"\"\"\n",
    "\n",
    "\n",
    "# 1. Quelle est la probabilité qu'il y en ait exactement dix en dix ans?\n",
    "\"\"\" \n",
    " lambda = quantité moyenne  = 2 par an, soit 2 x 10 = 20 en 10 ans\n",
    "    \n",
    "\"\"\"\n",
    "ma_probabilite = ma_probabilite = poisson.pmf(10, 20)\n",
    "ma_probabilite = ma_probabilite * 100\n",
    "print(\"proba: \", ma_probabilite, \"%\")\n"
   ]
  },
  {
   "cell_type": "code",
   "execution_count": 4,
   "metadata": {},
   "outputs": [
    {
     "name": "stdout",
     "output_type": "stream",
     "text": [
      "0.000000000\n",
      "0.000000002\n",
      "0.000000043\n",
      "0.000000456\n",
      "0.000003204\n",
      "0.000016945\n",
      "0.000071909\n",
      "0.000255122\n",
      "0.000778590\n",
      "0.002087259\n",
      "0.004995412\n",
      "total: 1.081171883 %\n",
      "total: 0.010811718826652723\n"
     ]
    }
   ],
   "source": [
    "# 2. Quelle est la probabilité qu'il y en ait dix ou moins en dix ans?\n",
    "\"\"\" \n",
    " P(de 0 à 10, 20)\n",
    "\n",
    "= P(0; 20) + P(1; 20) + … +  P(10; 20)\n",
    "    \n",
    "\"\"\"\n",
    "\n",
    "i = 0\n",
    "total = 0\n",
    "while i <= 10:\n",
    "\tprint(f'{total:9.9f}')\n",
    "\ttotal += poisson.pmf(i, 20)\n",
    "\ti += 1\n",
    "  \n",
    "print(\"total:\",f'{total * 100  :9.9f}' , \"%\" )\n",
    "\n",
    "\n",
    "\n"
   ]
  },
  {
   "cell_type": "code",
   "execution_count": 6,
   "metadata": {},
   "outputs": [
    {
     "name": "stdout",
     "output_type": "stream",
     "text": [
      "total: 0.010811718826652723\n"
     ]
    }
   ],
   "source": [
    "# Ou alors, plus simplement, avec la bonne fonction ...\n",
    "poisson.cdf(10, 20)\n",
    "print(\"total:\", poisson.cdf(10, 20))"
   ]
  },
  {
   "cell_type": "code",
   "execution_count": 5,
   "metadata": {},
   "outputs": [],
   "source": [
    "# GRAPHIQUES\n",
    "# poisson = np.random.poisson(10, 20)\n",
    "# plt.hist(poisson)\n",
    "# plt.show()\n",
    "\n",
    "# s = np.random.poisson(10,20)\n",
    "\n",
    "# print(s)\n",
    "\n",
    "# count, bins, ignored = plt.hist(s, 14, normed=True)\n",
    "# plt.show()"
   ]
  }
 ],
 "metadata": {
  "kernelspec": {
   "display_name": "Python 3",
   "language": "python",
   "name": "python3"
  },
  "language_info": {
   "codemirror_mode": {
    "name": "ipython",
    "version": 3
   },
   "file_extension": ".py",
   "mimetype": "text/x-python",
   "name": "python",
   "nbconvert_exporter": "python",
   "pygments_lexer": "ipython3",
   "version": "3.8.5 (tags/v3.8.5:580fbb0, Jul 20 2020, 15:57:54) [MSC v.1924 64 bit (AMD64)]"
  },
  "orig_nbformat": 4,
  "vscode": {
   "interpreter": {
    "hash": "6bd0648e655c19027e4f56e697a7cd4ab7921013b5d2695c8854e14fd1f5ba73"
   }
  }
 },
 "nbformat": 4,
 "nbformat_minor": 2
}
