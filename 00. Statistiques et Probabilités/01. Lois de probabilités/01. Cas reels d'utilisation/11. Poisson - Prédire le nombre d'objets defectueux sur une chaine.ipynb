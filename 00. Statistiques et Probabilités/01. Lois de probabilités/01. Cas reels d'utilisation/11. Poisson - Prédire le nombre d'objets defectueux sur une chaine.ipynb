{
 "cells": [
  {
   "attachments": {},
   "cell_type": "markdown",
   "metadata": {},
   "source": [
    "\n",
    "\n",
    "Calculer des probabilités de masse OU cumulatives avec la loi de poisson.\n",
    "1. calculer la probabilité d'avoir EXACTEMENT un résultat-> pmf(k, mu, loc=0)Probability mass function.\n",
    "2. calculer la probabilité d'avoir MOINS d'un résultat ->  cdf(k, mu, loc=0) Cumulative distribution function.\n",
    "\n",
    "Sources :\n",
    "https://stattrek.com/probability-distributions/poisson.aspx\n",
    "https://docs.scipy.org/doc/scipy/reference/generated/scipy.stats.poisson.html"
   ]
  },
  {
   "cell_type": "code",
   "execution_count": 1,
   "metadata": {},
   "outputs": [
    {
     "name": "stderr",
     "output_type": "stream",
     "text": [
      "UsageError: unrecognized arguments: # Pour afficher les graphes dans github\n"
     ]
    }
   ],
   "source": [
    "# Import des librairies\n",
    "import numpy as np\n",
    "%matplotlib inline\n",
    "import matplotlib.pyplot as plt\n",
    "from scipy.stats import poisson"
   ]
  },
  {
   "attachments": {},
   "cell_type": "markdown",
   "metadata": {},
   "source": [
    "CAS NUMERO 1 \n",
    "\n",
    "Exemple de distribution de Poisson\n",
    "\n",
    "Le nombre moyen de logements vendus par la société Acme Realty est de 2 logements par jour. Quelle est la probabilité de vendre exactement 3 maisons demain?\n",
    "\n",
    "Solution: Il s'agit d'une expérience de Poisson dans laquelle nous savons ce qui suit:\n",
    "\n",
    "    μ = 2; puisque 2 logements sont vendus par jour, en moyenne.\n",
    "    x = 3; car nous voulons trouver la probabilité que 3 maisons soient vendues demain.\n",
    "    e = 2,71828; puisque e est une constante égale à environ 2,71828."
   ]
  },
  {
   "cell_type": "code",
   "execution_count": 2,
   "metadata": {},
   "outputs": [
    {
     "ename": "NameError",
     "evalue": "name 'poisson' is not defined",
     "output_type": "error",
     "traceback": [
      "\u001b[1;31m---------------------------------------------------------------------------\u001b[0m",
      "\u001b[1;31mNameError\u001b[0m                                 Traceback (most recent call last)",
      "Cell \u001b[1;32mIn[2], line 3\u001b[0m\n\u001b[0;32m      1\u001b[0m \u001b[39m# 1. Quelle est la probabilité qu'il y en ait ***EXACTEMENT*** 3 ventes demain\u001b[39;00m\n\u001b[1;32m----> 3\u001b[0m ma_probabilite \u001b[39m=\u001b[39m  poisson\u001b[39m.\u001b[39mpmf(\u001b[39m3\u001b[39m,\u001b[39m2\u001b[39m)\n\u001b[0;32m      5\u001b[0m \u001b[39mprint\u001b[39m(\u001b[39m\"\u001b[39m\u001b[39mproba: \u001b[39m\u001b[39m\"\u001b[39m, ma_probabilite \u001b[39m*\u001b[39m \u001b[39m100\u001b[39m , \u001b[39m'\u001b[39m\u001b[39m%\u001b[39m\u001b[39m'\u001b[39m)\n",
      "\u001b[1;31mNameError\u001b[0m: name 'poisson' is not defined"
     ]
    }
   ],
   "source": [
    "\n",
    "# 1. Quelle est la probabilité qu'il y en ait ***EXACTEMENT*** 3 ventes demain\n",
    "\n",
    "ma_probabilite =  poisson.pmf(3,2)\n",
    "\n",
    "print(\"proba: \", ma_probabilite * 100 , '%')"
   ]
  },
  {
   "attachments": {},
   "cell_type": "markdown",
   "metadata": {},
   "source": [
    "CAS NUMERO 2 \n",
    "\n",
    "Le nombre moyen d'occurrences dans un intervalle de temps fixé est λ\n",
    "\n",
    "Sur une chaine de production, il y a en moyenne 8 objets défectueux par mois.\n",
    "\n",
    "donc 96 objets défectueux en moyenne sur 12 mois.\n",
    "\n",
    "NOTE : CONSERVER TOUJOURS LA MEME UNITE DE TEMPS , LA, CEST DES MOIS DONC ON NE CONVERTIT PAS EN ANNEES APRES !!\n",
    "DE même, si lambda est basé sur 12 mois, on établit la pb sur les 12 mois suivants ."
   ]
  },
  {
   "cell_type": "code",
   "execution_count": null,
   "metadata": {},
   "outputs": [
    {
     "name": "stdout",
     "output_type": "stream",
     "text": [
      "proba:  31.337427753639773 %\n",
      "proba:  29.128520883025814 %\n"
     ]
    }
   ],
   "source": [
    "# 1. Quelle est la probabilité qu'il y en ait ***MOINS *** de 6 défectueux le mois prochain\n",
    "# donc on ADDITIONNE LES PROBABILITES \n",
    "#  P(x < 6, 8) = P(0; 8) + P(1; 8) + P(2; 8) + P(3; 8) + P(4; 8) + P(5; 8) + P(6; 8) \n",
    "\n",
    "# On se sert de la function cumulative de SCIPI :\n",
    "ma_probabilite =  poisson.cdf(6,8)\n",
    "\n",
    "print(\"proba: \", ma_probabilite * 100 , '%')\n"
   ]
  },
  {
   "cell_type": "code",
   "execution_count": null,
   "metadata": {},
   "outputs": [],
   "source": [
    "# 2. Quelle est la probabilité qu'il y en ait moins de 50 objets defectueux dans les 12 mois suivants.\n",
    "#  P(x < 50, 96) = P(0; 96) + ....+ P(50; 96) \n",
    "ma_probabilite =  poisson.cdf(90,96)\n",
    "\n",
    "print(\"proba: \", ma_probabilite * 100 , '%')"
   ]
  },
  {
   "attachments": {},
   "cell_type": "markdown",
   "metadata": {},
   "source": [
    "CAS NUMERO 3 \n",
    "\n",
    "Exemple de Poisson cumulé\n",
    "\n",
    "Supposons que le nombre moyen de lions vus lors d'un safari d'une journée soit de 5. \n",
    "Quelle est la probabilité que les touristes voient moins de quatre lions lors du prochain safari d'une journée?\n",
    "\n",
    "Solution: Il s'agit d'une expérience de Poisson dans laquelle nous savons ce qui suit:\n",
    "\n",
    "    μ = 5; puisque 5 lions sont vus par safari, en moyenne.\n",
    "    x = 0, 1, 2 ou 3; car nous voulons trouver la probabilité que les touristes voient moins de 4 lions; c'est-à-dire que nous voulons la probabilité qu'ils voient 0, 1, 2 ou 3 lions.\n",
    "    e = 2,71828; puisque e est une constante égale à environ 2,71828.\n",
    "\n",
    "Pour résoudre ce problème, nous devons trouver la probabilité que les touristes voient 0, 1, 2 ou 3 lions. Ainsi, nous devons calculer la somme de quatre probabilités: P (0; 5) + P (1; 5) + P (2; 5) + P (3; 5). Pour calculer cette somme, nous utilisons la formule de Poisson:"
   ]
  },
  {
   "cell_type": "code",
   "execution_count": null,
   "metadata": {},
   "outputs": [
    {
     "name": "stdout",
     "output_type": "stream",
     "text": [
      "proba:  26.50259152973615 %\n",
      "proba:  99.99309917581444 %\n",
      "proba:  [ 5  1  3  3  6  1  7  6  4  5  6  0 10  6  3  7 10  4  4  6  4 10  5  6\n",
      "  5  6  7  6  8  5  2  8  4  3  3  4  7  7  5  4  6  4  4  3  5  7  5  7\n",
      "  6  2]\n"
     ]
    }
   ],
   "source": [
    "# On se sert de la function cumulative de SCIPI :\n",
    "ma_probabilite =  poisson.cdf(3,5)\n",
    "print(\"proba: \", ma_probabilite * 100 , '%')\n",
    "# proba:  44.049328506521256 % \n",
    "\n",
    "\n",
    "# Quelle est la probabilité que les touristes voient moins de 15 lions lors du prochain safari d'une journée?\n",
    "ma_probabilite =  poisson.cdf(15,5)\n",
    "print(\"proba: \", ma_probabilite * 100 , '%')\n",
    "# proba:  99.99309917581444 % Normal, il ne peuvent pas voir plus de 15 lions alors que la moyenne est de 5 lions\n",
    "\n",
    "# Les variables random montrent qu'on ne voit évidemment jamais 15 lions, sur 50 jours différents alors que la moyenne est de 5 !'\n",
    "ma_probabilite =  poisson.rvs(5,size=50)\n",
    "print(\"proba: \", ma_probabilite )"
   ]
  }
 ],
 "metadata": {
  "kernelspec": {
   "display_name": "Python 3",
   "language": "python",
   "name": "python3"
  },
  "language_info": {
   "codemirror_mode": {
    "name": "ipython",
    "version": 3
   },
   "file_extension": ".py",
   "mimetype": "text/x-python",
   "name": "python",
   "nbconvert_exporter": "python",
   "pygments_lexer": "ipython3",
   "version": "3.8.0"
  },
  "orig_nbformat": 4,
  "vscode": {
   "interpreter": {
    "hash": "edb60928ae049011e12e2dc43646b5515922153b602d9d974a622a5d486bbfcc"
   }
  }
 },
 "nbformat": 4,
 "nbformat_minor": 2
}
