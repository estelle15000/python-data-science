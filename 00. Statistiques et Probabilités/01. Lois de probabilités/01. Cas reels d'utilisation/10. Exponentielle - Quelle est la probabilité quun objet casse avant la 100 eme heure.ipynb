{
 "cells": [
  {
   "cell_type": "code",
   "execution_count": null,
   "metadata": {},
   "outputs": [],
   "source": [
    "# \"\"\" \n",
    "\n",
    "#     Loi exponentielle de paramêtre lambda.\n",
    "\n",
    "#    Source :\n",
    "#    YVAN MONKA \n",
    "#    https://www.youtube.com/watch?v=ZS_sW8yq-94&list=LLbfwcLDelivztPdafMQ42WQ&index=5&t=0s\n",
    "\n",
    "#    STANFORD\n",
    "#    http://web.stanford.edu/class/archive/cs/cs109/cs109.1192/handouts/pythonForProbability.html\n",
    "\n",
    "# \tMerci à \n",
    "# \thttps://stackoverflow.com/users/67579/willem-van-onsem\n",
    "# \tpour la correction SCIPY \n",
    "#  \"\"\""
   ]
  },
  {
   "cell_type": "code",
   "execution_count": null,
   "metadata": {},
   "outputs": [],
   "source": [
    " # Problème : \n",
    "# \"\"\"  \n",
    "# La durée de vie, en heures, d'un composant électronique est une variable aléatoire \n",
    "# qui suit une loi exponentielle de paramètre Lambda =  0.0035\n",
    "\n",
    "# 1. Quelle est la probabilité qu'il casse avant 100 heures ?\n",
    "\n",
    "# Formule : P(X < 100) = 1 - e ** -0.0035 * 100 = 0.3 = 30%\n",
    "\n",
    "# 2. Quelle est sa durée moyenne de vie ?\n",
    "\n",
    "# Formule : 1 \\ 0.0035 = 286 heures\n",
    "\n",
    "# \"\"\""
   ]
  },
  {
   "cell_type": "code",
   "execution_count": null,
   "metadata": {},
   "outputs": [],
   "source": [
    " # Import des librairies\n",
    "from scipy import stats\n",
    "import math   # This will import math module"
   ]
  },
  {
   "cell_type": "code",
   "execution_count": null,
   "metadata": {},
   "outputs": [],
   "source": [
    "# CALCUL PRIMAIRE AVEC LA LIB MATH\n",
    "\n",
    "lambdaCalcul = - 0.0035 * 100\n",
    "MaProbabiliteExponentielle = 1 - math.exp(lambdaCalcul)\n",
    "\n",
    "print(\"J'ai calculé avec un calcul primaire ma probabilité \",MaProbabiliteExponentielle * 100 , \"%\");"
   ]
  },
  {
   "cell_type": "code",
   "execution_count": null,
   "metadata": {},
   "outputs": [],
   "source": [
    "# ESSAI DE CALCUL AVEC SCIPY =\n",
    "#  This example declares B∼Exp(λ=0.0035)\n",
    "\n",
    "B = stats.expon(scale=1/0.0035)   # Merci https://stackoverflow.com/users/67579/willem-van-onsem pour le scale !\n",
    "print(B.pdf(1))       # f(1), the probability density at 1\n",
    "print(B.cdf(100))     # F(2) which is also P(B < 100) -> Voici ma probabilité\n",
    "print(B.rvs())        # Get a random sample from B"
   ]
  }
 ],
 "metadata": {
  "kernelspec": {
   "display_name": "Python 3",
   "language": "python",
   "name": "python3"
  },
  "language_info": {
   "name": "python",
   "version": "3.8.5 (tags/v3.8.5:580fbb0, Jul 20 2020, 15:57:54) [MSC v.1924 64 bit (AMD64)]"
  },
  "orig_nbformat": 4,
  "vscode": {
   "interpreter": {
    "hash": "6bd0648e655c19027e4f56e697a7cd4ab7921013b5d2695c8854e14fd1f5ba73"
   }
  }
 },
 "nbformat": 4,
 "nbformat_minor": 2
}
