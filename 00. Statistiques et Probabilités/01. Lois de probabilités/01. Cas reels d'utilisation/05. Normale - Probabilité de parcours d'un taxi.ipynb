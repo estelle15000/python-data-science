{
 "cells": [
  {
   "cell_type": "code",
   "execution_count": null,
   "metadata": {},
   "outputs": [],
   "source": [
    "# https://www.maths-et-tiques.fr/telech/LoisTESL.pdf\n",
    "# https://stackoverflow.com/questions/12412895/calculate-probability-in-normal-distribution-given-mean-std-in-python\n"
   ]
  },
  {
   "cell_type": "code",
   "execution_count": null,
   "metadata": {},
   "outputs": [],
   "source": [
    "# Problème : \n",
    "\"\"\"  \n",
    "Une compagnie de transport possède un parc de 200 taxis. On appelle X, la variable aléatoire qui, à un taxi choisi au hasard associe la distance journalière parcourue.\n",
    "On suppose que X suit la loi normale (90,14 au carré). (moyenne, écart type)\n",
    "Quelle est la probabilité qu'un taxi parcourt entre 70 et 100 km par jour ?\n",
    "\n",
    "\"\"\""
   ]
  },
  {
   "cell_type": "code",
   "execution_count": null,
   "metadata": {},
   "outputs": [],
   "source": [
    "\n",
    "# Import des librairies\n",
    "import scipy.stats"
   ]
  },
  {
   "cell_type": "code",
   "execution_count": null,
   "metadata": {},
   "outputs": [],
   "source": [
    "# On fait un 'RANGE' pour obtenir l'aire sous la courbe (intégrale)\n",
    "rv = scipy.stats.norm(90,14)\n",
    "resultat = rv.cdf(100) - rv.cdf(70)\n",
    "print(\"La probabilité qu'un taxi parcours entre 70 et 100kms est de : \", resultat * 100 ,\"%\" )"
   ]
  },
  {
   "cell_type": "code",
   "execution_count": null,
   "metadata": {},
   "outputs": [],
   "source": [
    "# Autres fonctionnalités de la loi normale : \n",
    "\"\"\" import scipy.stats\n",
    "scipy.stats.norm(loc=100, scale=12)\n",
    "#where loc is the mean and scale is the std dev\n",
    "#if you wish to pull out a random number from your distribution\n",
    "scipy.stats.norm.rvs(loc=100, scale=12)\n",
    "\n",
    "#To find the probability that the variable has a value LESS than or equal\n",
    "#let's say 113, you'd use CDF cumulative Density Function\n",
    "scipy.stats.norm.cdf(113,100,12)\n",
    "Output: 0.86066975255037792\n",
    "#or 86.07% probability\n",
    "\n",
    "#To find the probability that the variable has a value GREATER than or\n",
    "#equal to let's say 125, you'd use SF Survival Function \n",
    "scipy.stats.norm.sf(125,100,12)\n",
    "Output: 0.018610425189886332\n",
    "#or 1.86%\n",
    "\n",
    "#To find the variate for which the probability is given, let's say the \n",
    "#value which needed to provide a 98% probability, you'd use the \n",
    "#PPF Percent Point Function\n",
    "scipy.stats.norm.ppf(.98,100,12)\n",
    "Output: 124.64498692758187\n",
    "\n",
    "\n",
    "\n",
    " \"\"\""
   ]
  }
 ],
 "metadata": {
  "kernelspec": {
   "display_name": "Python 3",
   "language": "python",
   "name": "python3"
  },
  "language_info": {
   "name": "python",
   "version": "3.8.5 (tags/v3.8.5:580fbb0, Jul 20 2020, 15:57:54) [MSC v.1924 64 bit (AMD64)]"
  },
  "orig_nbformat": 4,
  "vscode": {
   "interpreter": {
    "hash": "6bd0648e655c19027e4f56e697a7cd4ab7921013b5d2695c8854e14fd1f5ba73"
   }
  }
 },
 "nbformat": 4,
 "nbformat_minor": 2
}
