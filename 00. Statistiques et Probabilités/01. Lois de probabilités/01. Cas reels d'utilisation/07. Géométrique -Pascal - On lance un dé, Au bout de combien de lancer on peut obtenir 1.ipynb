{
 "cells": [
  {
   "cell_type": "code",
   "execution_count": 1,
   "metadata": {},
   "outputs": [],
   "source": [
    "\n",
    "    # Loi géométrique ou de pascal - Python géométric law with numpy\n",
    "\n",
    "    \n",
    "    # Attention ce code n'est pas sur à 100% car basé sur la function RANDOM, voir le cas numéro 8 pour un meilleur code  sur les pourcentages\n",
    "    # En effet, faire des calculs sur les datas randoms est étrange ...\n",
    "\n",
    "\n",
    "    # https://docs.scipy.org/doc/numpy-1.10.1/reference/generated/numpy.random.geometric.html\n",
    "\n",
    "    # AUTRES EXEMPLES :\n",
    "\n",
    "    # Un ingénieur en sécurité estime que 35% de tous les accidents industriels dans son usine sont causés par le non-respect des instructions par les employés. \n",
    "    # Elle décide d'examiner les rapports d'accident (sélectionnés au hasard et replacés dans la pile après lecture) jusqu'à ce qu'elle en trouve un qui montre un \n",
    "    # accident causé par le non-respect des instructions par les employés. En moyenne, combien de rapports l'ingénieur de sécurité s'attendrait-il à examiner \n",
    "    # jusqu'à ce qu'elle trouve un rapport montrant un accident causé par le non-respect des instructions par un employé? \n",
    "    # Quelle est la probabilité que l'ingénieur de sécurité devra examiner au moins trois rapports jusqu'à ce qu'elle trouve un rapport montrant un accident causé \n",
    "    # par le non-respect des instructions par un employé?\n",
    "\n",
    "    # Soit X =\n",
    "    # le nombre d'accidents que l'ingénieur de sécurité doit examiner jusqu'à ce qu'elle trouve un rapport \n",
    "    # indiquant un accident causé par le non-respect des instructions par l'employé. X prend les valeurs 1, 2, 3,…. \n",
    "    # La première question vous demande de trouver la valeur attendue ou la moyenne. \n",
    "    # La deuxième question vous demande de trouver P (x≥3)\n",
    "    # . («Au moins» se traduit par un symbole «supérieur ou égal à»).\n",
    "  \n",
    "\n",
    "    # Un instructeur estime que 15% des étudiants obtiennent un C inférieur à leur examen final. \n",
    "    # Elle décide de regarder les examens finaux (sélectionnés au hasard et replacés dans la pile après lecture) jusqu'à ce qu'elle en trouve un qui affiche une note inférieure à un C. \n",
    "    # Nous voulons savoir la probabilité que l'instructeur devra examiner au moins dix examens jusqu'à ce qu'elle trouve une avec une note inférieure à C. \n",
    "    # Quelle est la question de probabilité énoncée mathématiquement?\n",
    "\n",
    "    # P (x ≥ 10)\n"
   ]
  },
  {
   "cell_type": "code",
   "execution_count": 2,
   "metadata": {},
   "outputs": [],
   "source": [
    " # Import des librairies\n",
    "import numpy as np\n",
    "import matplotlib.pyplot as plt\n",
    "import seaborn as sns"
   ]
  },
  {
   "cell_type": "code",
   "execution_count": 3,
   "metadata": {},
   "outputs": [],
   "source": [
    "# Problème : \n",
    "# \"\"\"  \n",
    "# Je lance un dès à 6 côtés\n",
    "\n",
    "# Je le lance jusqu'à obtenir un 1.\n",
    "\n",
    "# La probabilité géométrique est de p = 1/6. \n",
    "\n",
    "# Nombre de lancers = 100\n",
    "\n",
    "# \"\"\""
   ]
  },
  {
   "cell_type": "code",
   "execution_count": 4,
   "metadata": {},
   "outputs": [
    {
     "name": "stdout",
     "output_type": "stream",
     "text": [
      "[ 6  4  1  8  8  2 12  3  6  4  4  2  8  4  3 15  8  1  1  2  3  3  8 11\n",
      "  1 11  9  8  7  1  3 10  1  5 21  4  2 10  6 10  6  8  2  1  7  7 23  1\n",
      " 13  1  1  1  7  1  5 13  4  1  3 10  9  4  4 10  5  1  1  3  8  9  1  1\n",
      "  5  1 13  4  4 33 10 14  7  2 11 16  5  2  4 23 10  2  2  9  1  2  2 15\n",
      "  1  9  7 12]\n"
     ]
    }
   ],
   "source": [
    "resultat = np.random.geometric(p=0.16, size=100)\n",
    "print(resultat);"
   ]
  },
  {
   "cell_type": "code",
   "execution_count": 5,
   "metadata": {},
   "outputs": [],
   "source": [
    "#   Dans ce tableau, on a obtenu un 1 au deuxième lancer, puis au 19 ème lancer, puis au 3ème lancer etc ...\n",
    "\n",
    "# \"\"\" [ 2 19  3  2  2  1  2  1 22  3  1  6  3  1  2 11  8 28  4  7  9  3  3  5\n",
    "#  18  8  2 15  6  4  4 25  3  2  2  3  4  3  3  4  7  9  2 10  1  1  6  7\n",
    "#   5  3  1 10  3  6  1  7  7  1 13  3  2  5  2  7  3  6 10  1  6  5  1 10\n",
    "#   1  1  2  3  4 10  2  4  7  6  6  2  1  3  6  7  2  3 15  7  4 10  4  5\n",
    "#   2 10  5 23] \"\"\""
   ]
  },
  {
   "cell_type": "code",
   "execution_count": 6,
   "metadata": {},
   "outputs": [
    {
     "name": "stdout",
     "output_type": "stream",
     "text": [
      "20.0 %\n"
     ]
    }
   ],
   "source": [
    "# Essayons désormais de voir le pourcentage de chances d'obtenir un 1 dès le premier lancer, pb calculée sur 100 tentatives :\n",
    "succesImmediat =  (resultat == 1).sum() / 100.\n",
    "print(succesImmediat * 100,\"%\");"
   ]
  },
  {
   "cell_type": "code",
   "execution_count": 7,
   "metadata": {},
   "outputs": [
    {
     "name": "stdout",
     "output_type": "stream",
     "text": [
      "38.0 %\n"
     ]
    }
   ],
   "source": [
    "# Essayons désormais de voir le pourcentage de chances d'obtenir un 1 au bout de 3 lancers , pb calculée sur 100 tentatives :\n",
    "succesImmediat =  (resultat <= 3).sum() / 100.\n",
    "print(succesImmediat * 100,\"%\");\n"
   ]
  }
 ],
 "metadata": {
  "kernelspec": {
   "display_name": "Python 3",
   "language": "python",
   "name": "python3"
  },
  "language_info": {
   "codemirror_mode": {
    "name": "ipython",
    "version": 3
   },
   "file_extension": ".py",
   "mimetype": "text/x-python",
   "name": "python",
   "nbconvert_exporter": "python",
   "pygments_lexer": "ipython3",
   "version": "3.8.5"
  },
  "orig_nbformat": 4,
  "vscode": {
   "interpreter": {
    "hash": "6bd0648e655c19027e4f56e697a7cd4ab7921013b5d2695c8854e14fd1f5ba73"
   }
  }
 },
 "nbformat": 4,
 "nbformat_minor": 2
}
