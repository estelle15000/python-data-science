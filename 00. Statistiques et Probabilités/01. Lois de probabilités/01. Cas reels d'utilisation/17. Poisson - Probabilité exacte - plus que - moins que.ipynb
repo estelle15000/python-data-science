{
 "cells": [
  {
   "attachments": {},
   "cell_type": "markdown",
   "metadata": {},
   "source": [
    "# Loi de Poisson\n",
    "\n",
    "On se base sur une observation, souvent une moyenne, pour trouver le paramêtre de la probabilite, on l'appelle souvent \"Lambda\"\n",
    "\n",
    "On peut se demander :\n",
    "\" Quelle probabilité exacte que \"\n",
    "\" Quelle probabilité que le résultat soies moins que\"\n",
    "\" Quelle probabilité que le résultat soies  plus que\"\n",
    "\n",
    "k est le nombre d'occurences qu'on soumets à la loi pur savoir ce qu'elle va nous retourner\n",
    "\n",
    "Formule : \n",
    "La probabilité est donnée par la formule suivante en langage Python:\n",
    "\n",
    "p=e**(-m)*m**k/fact(k)\n",
    "\n",
    "Avec:\n",
    "\n",
    "    e = 2.718281828459045\n",
    "\n",
    "    m ( ou lambda)= paramètre caractéristique: c'est en même temps la moyenne et la variance de la loi.\n",
    "\n",
    "    fact(k) = factorielle de k\n",
    "\n",
    "\n",
    "source : \n",
    "https://python.jpvweb.com/python/mesrecettespython/doku.php?id=loi_poisson\\\n",
    "https://www.statology.org/poisson-distribution-python/"
   ]
  },
  {
   "attachments": {},
   "cell_type": "markdown",
   "metadata": {},
   "source": [
    "Cas \" Quelle probabilité exacte que \"\n",
    "Un magasin vend en moyenne 3 pommes par jour. Quelle est la probabilité qu'ils vendent 5 pommes un jour donné ?"
   ]
  },
  {
   "cell_type": "code",
   "execution_count": 82,
   "metadata": {},
   "outputs": [
    {
     "name": "stdout",
     "output_type": "stream",
     "text": [
      "Ma probabilité est de :  10.081881344492457 %\n"
     ]
    }
   ],
   "source": [
    "# On calcule la probabilité\n",
    "resultat = poisson.pmf(k=5, mu=3)\n",
    "print(\"Ma probabilité est de : \", resultat * 100, \"%\")"
   ]
  },
  {
   "attachments": {},
   "cell_type": "markdown",
   "metadata": {},
   "source": [
    "Cas \" Quelle probabilité que le résultat soies moins que\" \\\n",
    "Un magasin vend en moyenne 3 pommes par jour. Quelle est la probabilité qu'ils vendent ** moins **  que 5 pommes sur un jour ?"
   ]
  },
  {
   "cell_type": "code",
   "execution_count": 83,
   "metadata": {},
   "outputs": [
    {
     "name": "stdout",
     "output_type": "stream",
     "text": [
      "Ma probabilité est de :  91.60820579686965 %\n"
     ]
    }
   ],
   "source": [
    "# On calcule la probabilité\n",
    "resultat = poisson.cdf(k=5, mu=3)\n",
    "print(\"Ma probabilité est de : \", resultat * 100, \"%\")\n"
   ]
  }
 ],
 "metadata": {
  "kernelspec": {
   "display_name": "Python 3",
   "language": "python",
   "name": "python3"
  },
  "language_info": {
   "codemirror_mode": {
    "name": "ipython",
    "version": 3
   },
   "file_extension": ".py",
   "mimetype": "text/x-python",
   "name": "python",
   "nbconvert_exporter": "python",
   "pygments_lexer": "ipython3",
   "version": "3.8.0"
  },
  "orig_nbformat": 4,
  "vscode": {
   "interpreter": {
    "hash": "edb60928ae049011e12e2dc43646b5515922153b602d9d974a622a5d486bbfcc"
   }
  }
 },
 "nbformat": 4,
 "nbformat_minor": 2
}
