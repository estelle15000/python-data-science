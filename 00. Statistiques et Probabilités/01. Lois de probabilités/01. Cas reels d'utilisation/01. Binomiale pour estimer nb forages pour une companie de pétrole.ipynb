{
 "cells": [
  {
   "cell_type": "code",
   "execution_count": null,
   "metadata": {},
   "outputs": [],
   "source": [
    "\n",
    "#  Une entreprise fore 9 puits d'exploration pétrolière , \n",
    "#  chacun avec une probabilité de réussite estimée à 0,1. \n",
    "#  Les neuf puits échouent. Quelle est la probabilité que cela se produise ?\n",
    "\n",
    "# Faisons 20 000 essais du modèle et comptons le nombre qui ne génère aucun résultat positif."
   ]
  },
  {
   "cell_type": "code",
   "execution_count": null,
   "metadata": {},
   "outputs": [],
   "source": [
    "# Import des librairies\n",
    "import numpy as np\n"
   ]
  },
  {
   "cell_type": "code",
   "execution_count": null,
   "metadata": {},
   "outputs": [],
   "source": [
    "maVariable = sum(np.random.binomial(9, 0.1, 20000) == 0)/20000.\n",
    "\n",
    "print(maVariable*100,'%')\n",
    "\n",
    "# réponse = 0.38885, or 38%."
   ]
  }
 ],
 "metadata": {
  "kernelspec": {
   "display_name": "Python 3",
   "language": "python",
   "name": "python3"
  },
  "language_info": {
   "name": "python",
   "version": "3.8.5 (tags/v3.8.5:580fbb0, Jul 20 2020, 15:57:54) [MSC v.1924 64 bit (AMD64)]"
  },
  "orig_nbformat": 4,
  "vscode": {
   "interpreter": {
    "hash": "6bd0648e655c19027e4f56e697a7cd4ab7921013b5d2695c8854e14fd1f5ba73"
   }
  }
 },
 "nbformat": 4,
 "nbformat_minor": 2
}
