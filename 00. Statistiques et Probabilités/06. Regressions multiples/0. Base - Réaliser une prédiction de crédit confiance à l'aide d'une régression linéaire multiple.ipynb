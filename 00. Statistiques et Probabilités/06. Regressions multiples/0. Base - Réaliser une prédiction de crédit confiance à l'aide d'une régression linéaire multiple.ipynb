{
 "cells": [
  {
   "cell_type": "code",
   "execution_count": null,
   "metadata": {},
   "outputs": [],
   "source": [
    "\"\"\" \n",
    "\n",
    "Réaliser une prédiction de crédit confiance à l'aide d'une régression linéaire multiple .\n",
    "\n",
    "Code le plus simplifié possible, sans import EXCEL préalable.\n",
    "\n",
    "# Sources\n",
    "https://datatofish.com/multiple-linear-regression-python/\n",
    "https://heartbeat.fritz.ai/implementing-multiple-linear-regression-using-sklearn-43b3d3f2fe8b\n",
    "\n",
    "\n",
    "\"\"\"\n"
   ]
  },
  {
   "cell_type": "code",
   "execution_count": null,
   "metadata": {},
   "outputs": [],
   "source": [
    "# 1. On charge les librairies\n",
    "import pandas as pd\n",
    "import numpy as np\n",
    "from sklearn.linear_model import LinearRegression\n",
    "%matplotlib inline\n",
    "import matplotlib.pyplot as plt\n"
   ]
  },
  {
   "cell_type": "code",
   "execution_count": null,
   "metadata": {},
   "outputs": [],
   "source": [
    "# 1. On crée nos données au format JSON\n",
    "\n",
    "data = {\n",
    "'salaire':[16880, 14220, 24500, 25984, 28660,35600],\n",
    "'age':[19,18,28,33,32,40],\n",
    "'credit_confiance':[27,28,33,34,37,40],\n",
    "'enfant':[0,1,3,0,0,1]\n",
    "}\n"
   ]
  },
  {
   "cell_type": "code",
   "execution_count": null,
   "metadata": {},
   "outputs": [],
   "source": [
    "# On fait comme si on chargeait un tableau EXCEL ...\n",
    "df = pd.DataFrame(data,columns=['salaire','age','credit_confiance','enfant'])"
   ]
  },
  {
   "cell_type": "code",
   "execution_count": null,
   "metadata": {},
   "outputs": [],
   "source": [
    "# On vérifie si il existe une relation linéaire entre le salaire et l'age\n",
    "plt.scatter(df['age'], df['salaire'], color='red')\n",
    "plt.title('age vs Salaire', fontsize=14)\n",
    "plt.xlabel('salaires', fontsize=14)\n",
    "plt.ylabel('age', fontsize=14)\n",
    "plt.grid(True)\n",
    "plt.show()"
   ]
  },
  {
   "cell_type": "code",
   "execution_count": null,
   "metadata": {},
   "outputs": [],
   "source": [
    "# On vérifie si il existe une relation linéaire entre le salaire et le crédit confiance\n",
    "plt.scatter(df['credit_confiance'], df['salaire'], color='red')\n",
    "plt.title('credit_confiance vs Salaire', fontsize=14)\n",
    "plt.xlabel('salaires', fontsize=14)\n",
    "plt.ylabel('credit_confiance', fontsize=14)\n",
    "plt.grid(True)\n",
    "plt.show()"
   ]
  },
  {
   "cell_type": "code",
   "execution_count": null,
   "metadata": {},
   "outputs": [],
   "source": [
    "#  On place dans X le vecteur salaire et age, et dans le vecteur Y le vecteur des crédits confiances. \n",
    "X = df[['salaire','age']] # here we have 2 variables for multiple regression. If you just want to use one variable for simple linear regression, then use X = df['Interest_Rate'] for example.Alternatively, you may add additional variables within the brackets\n",
    "Y = df['credit_confiance']"
   ]
  },
  {
   "cell_type": "code",
   "execution_count": null,
   "metadata": {},
   "outputs": [],
   "source": [
    "# On crée la régression linéaire multiple :\n",
    "regr = LinearRegression()\n",
    "regr.fit(X, Y)"
   ]
  },
  {
   "cell_type": "code",
   "execution_count": null,
   "metadata": {},
   "outputs": [],
   "source": [
    "# on visionne les caractéristiques de la régression linéaire multiple :\n",
    "print('Intercept: \\n', regr.intercept_)\n",
    "\n",
    "print('Coefficients: \\n', regr.coef_)"
   ]
  },
  {
   "cell_type": "code",
   "execution_count": null,
   "metadata": {},
   "outputs": [],
   "source": [
    "# On prédit une nouvelle valeur de Y ( credit confiance), en donnant à sklearn les valeurs de X.\n",
    "nouveau_salaire = 28000\n",
    "nouvel_age = 30\n",
    "print ('je vous prédit que ce nouveau client aura un crédit confiance de : \\n', regr.predict([[nouveau_salaire ,nouvel_age ]]))\n"
   ]
  }
 ],
 "metadata": {
  "kernelspec": {
   "display_name": "Python 3",
   "language": "python",
   "name": "python3"
  },
  "language_info": {
   "name": "python",
   "version": "3.8.0 (tags/v3.8.0:fa919fd, Oct 14 2019, 19:37:50) [MSC v.1916 64 bit (AMD64)]"
  },
  "orig_nbformat": 4,
  "vscode": {
   "interpreter": {
    "hash": "edb60928ae049011e12e2dc43646b5515922153b602d9d974a622a5d486bbfcc"
   }
  }
 },
 "nbformat": 4,
 "nbformat_minor": 2
}
