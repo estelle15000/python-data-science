{
 "cells": [
  {
   "attachments": {},
   "cell_type": "markdown",
   "metadata": {},
   "source": [
    "# La déduction naturelle\n",
    "\n",
    "La déduction naturelle permet de résoudre des problèmes formellement , en apparence insolubles, car trop compliqués.\n",
    "Pour cela, on fait appel à des connecteurs logiques et des formules.\n",
    "\n",
    "Concernant Python, il existe un module appelé NADIA qui permet d'en faire, on va tester ça ici .\n",
    "\n",
    "Lien : \n",
    "https://github.com/daviromero/nadia"
   ]
  },
  {
   "cell_type": "code",
   "execution_count": 8,
   "metadata": {},
   "outputs": [
    {
     "data": {
      "text/plain": [
       "'A demonstração está correta.\\n\\nCódigo da demonstração no estilo Fitch em Latex:\\n\\\\begin{logicproof}{6}\\nA\\\\lor B & premissa\\\\\\\\\\nA\\\\rightarrow C & premissa\\\\\\\\\\nB\\\\rightarrow C & premissa\\\\\\\\\\n\\\\begin{subproof}\\nA & hipótese\\\\\\\\\\nC & $\\\\rightarrow e$ 4, 2\\n\\\\end{subproof}\\n\\\\begin{subproof}\\nB & hipótese\\\\\\\\\\nC & $\\\\rightarrow e$ 6, 3\\n\\\\end{subproof}\\nC & $\\\\lor e$ 1, 4-5, 6-7\\n\\\\end{logicproof}\\n\\nCódigo da demonstração no estilo Gentzen em Latex:\\n\\\\[\\\\infer[\\\\!\\\\!{\\\\lor\\\\text{e, }1, 2}]{C}{{{A\\\\lor B}}&{\\\\infer[\\\\!\\\\!{\\\\rightarrow\\\\text{e}}]{C}{{\\\\big[A\\\\big]^{_{1}}}&{{A\\\\rightarrow C}}}}&{\\\\infer[\\\\!\\\\!{\\\\rightarrow\\\\text{e}}]{C}{{\\\\big[B\\\\big]^{_{2}}}&{{B\\\\rightarrow C}}}}}\\\\]\\n'"
      ]
     },
     "execution_count": 8,
     "metadata": {},
     "output_type": "execute_result"
    }
   ],
   "source": [
    "from nadia.nadia_pt_fo import check_proof\n",
    "\n",
    "\n",
    "check_proof('''1. A|B              pre\n",
    "2. A->C             pre\n",
    "3. B->C             pre\n",
    "4. {    A           hip\n",
    "5.      C           ->e 4,2\n",
    "   } \n",
    "6. {    B           hip\n",
    "7.      C           ->e 6,3\n",
    "   }\n",
    "8. C                |e 1, 4-5, 6-7''')"
   ]
  }
 ],
 "metadata": {
  "kernelspec": {
   "display_name": "Python 3",
   "language": "python",
   "name": "python3"
  },
  "language_info": {
   "codemirror_mode": {
    "name": "ipython",
    "version": 3
   },
   "file_extension": ".py",
   "mimetype": "text/x-python",
   "name": "python",
   "nbconvert_exporter": "python",
   "pygments_lexer": "ipython3",
   "version": "3.8.0"
  },
  "orig_nbformat": 4
 },
 "nbformat": 4,
 "nbformat_minor": 2
}
